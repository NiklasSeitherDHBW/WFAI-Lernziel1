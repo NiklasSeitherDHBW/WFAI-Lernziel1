{
 "cells": [
  {
   "cell_type": "code",
   "execution_count": 2,
   "metadata": {},
   "outputs": [
    {
     "name": "stderr",
     "output_type": "stream",
     "text": [
      "Fetching data: 2month [16:00, 480.16s/month]                    \n"
     ]
    }
   ],
   "source": [
    "import arxiv\n",
    "import pandas as pd\n",
    "from datetime import datetime, timedelta\n",
    "import time\n",
    "from tqdm import tqdm\n",
    "\n",
    "tags = [\n",
    "    \"cs.LG\",\n",
    "    \"cs.AI\",\n",
    "    \"cs.CC\",\n",
    "    \"math.ST\",\n",
    "    \"math.OC\",\n",
    "    \"math.PR\",\n",
    "    \"stat.ML\",\n",
    "    \"cs.CV\",\n",
    "    \"cs.CL\",\n",
    "    \"cs.NE\",\n",
    "    \"cs.RO\",\n",
    "    \"math.DS\",\n",
    "    \"cs.HC\",\n",
    "    \"cs.DM\",\n",
    "    \"cs.MA\",\n",
    "    \"cs.SD\",\n",
    "    \"math.QA\",\n",
    "    \"q-fin.ST\",\n",
    "    \"q-fin.MF\",\n",
    "    \"q-fin.CP\",\n",
    "    \"stat.TH\"\n",
    "]\n",
    "search_query = ' OR '.join([f'cat:{tag}' for tag in tags])\n",
    "client = arxiv.Client()\n",
    "start_date = datetime(2024, 12, 1) # 2024-09-22\n",
    "# end_date = datetime.now()\n",
    "end_date= datetime(2025, 1, 1)\n",
    "\n",
    "all_papers = []\n",
    "total_months = (end_date.year - start_date.year)*12 + (end_date.month - start_date.month)\n",
    "\n",
    "with tqdm(total=total_months, desc=\"Fetching data\", unit=\"month\") as pbar:\n",
    "    while start_date < end_date:\n",
    "        current_end_date = start_date + timedelta(days=30)\n",
    "        start_str = start_date.strftime('%Y%m%d')\n",
    "        end_str = current_end_date.strftime('%Y%m%d')\n",
    "        date_query = f'submittedDate:[{start_str} TO {end_str}]'\n",
    "        full_query = f'({search_query}) AND {date_query}'\n",
    "\n",
    "        # Suche definieren\n",
    "        search = arxiv.Search(\n",
    "            query=full_query,\n",
    "            max_results=30000,\n",
    "            sort_by=arxiv.SortCriterion.SubmittedDate\n",
    "        )\n",
    "\n",
    "        try:\n",
    "            # Ergebnisse abrufen\n",
    "            for paper in client.results(search):\n",
    "                all_papers.append({\n",
    "                    'paper_id': paper.entry_id,\n",
    "                    'published_date': paper.published.date(),\n",
    "                    'categories': ','.join(paper.categories)\n",
    "                })\n",
    "        except Exception as e:\n",
    "            # Letzte verarbeitete Periode ausgeben und Teilergebnis speichern\n",
    "            print(\"Error occurred. Saving partial data.\")\n",
    "            print(f\"Failed at date range starting: {start_date.strftime('%Y-%m-%d')}\")\n",
    "            print(e)\n",
    "            pd.DataFrame(all_papers).to_csv('arxiv_papers_partial.csv', index=False)\n",
    "            break  # Abbruch der Schleife (alternativ weiter mit 'continue')\n",
    "\n",
    "        # Zum nächsten Monatsabschnitt\n",
    "        start_date = current_end_date\n",
    "        pbar.update(1)\n",
    "        time.sleep(3)\n",
    "\n",
    "# Abschließend alles speichern\n",
    "df = pd.DataFrame(all_papers)\n",
    "df.to_csv('arxiv_papers_with_details_8.csv', index=False)"
   ]
  },
  {
   "cell_type": "code",
   "execution_count": 11,
   "metadata": {},
   "outputs": [
    {
     "name": "stdout",
     "output_type": "stream",
     "text": [
      "The combined CSV file has been saved as complete_arxiv_papers.csv.\n"
     ]
    }
   ],
   "source": [
    "import pandas as pd\n",
    "\n",
    "# Read the CSV files\n",
    "file1 = 'arxiv_papers.csv'\n",
    "file2 = 'arxiv_papers_with_details_8.csv'\n",
    "\n",
    "df1 = pd.read_csv(file1)\n",
    "df2 = pd.read_csv(file2)\n",
    "\n",
    "# Combine the dataframes and drop duplicates based on 'paper_id'\n",
    "combined_df = pd.concat([df1, df2]).drop_duplicates(subset='paper_id')\n",
    "\n",
    "# Extract the part after the last '/' in 'paper_id' and create a new column 'id'\n",
    "combined_df['id'] = combined_df['paper_id'].apply(lambda x: x.split('/')[-1])\n",
    "\n",
    "# Write the resulting dataframe to a new CSV file\n",
    "output_file = 'complete_arxiv_papers.csv'\n",
    "combined_df.to_csv(output_file, index=False)\n",
    "\n",
    "print(f\"The combined CSV file has been saved as {output_file}.\")\n"
   ]
  },
  {
   "cell_type": "code",
   "execution_count": 12,
   "metadata": {},
   "outputs": [
    {
     "name": "stdout",
     "output_type": "stream",
     "text": [
      "<class 'pandas.core.frame.DataFrame'>\n",
      "RangeIndex: 635250 entries, 0 to 635249\n",
      "Data columns (total 4 columns):\n",
      " #   Column          Non-Null Count   Dtype \n",
      "---  ------          --------------   ----- \n",
      " 0   paper_id        635250 non-null  object\n",
      " 1   published_date  635250 non-null  object\n",
      " 2   categories      635250 non-null  object\n",
      " 3   id              635250 non-null  object\n",
      "dtypes: object(4)\n",
      "memory usage: 19.4+ MB\n"
     ]
    }
   ],
   "source": [
    "df1.info()"
   ]
  },
  {
   "cell_type": "code",
   "execution_count": 13,
   "metadata": {},
   "outputs": [
    {
     "name": "stdout",
     "output_type": "stream",
     "text": [
      "<class 'pandas.core.frame.DataFrame'>\n",
      "Index: 644925 entries, 0 to 17154\n",
      "Data columns (total 4 columns):\n",
      " #   Column          Non-Null Count   Dtype \n",
      "---  ------          --------------   ----- \n",
      " 0   paper_id        644925 non-null  object\n",
      " 1   published_date  644925 non-null  object\n",
      " 2   categories      644925 non-null  object\n",
      " 3   id              644925 non-null  object\n",
      "dtypes: object(4)\n",
      "memory usage: 24.6+ MB\n"
     ]
    }
   ],
   "source": [
    "combined_df.info()"
   ]
  },
  {
   "cell_type": "code",
   "execution_count": 17,
   "metadata": {},
   "outputs": [
    {
     "name": "stdout",
     "output_type": "stream",
     "text": [
      "No entries with the year 2025 found.\n"
     ]
    }
   ],
   "source": [
    "# Check for entries with the year 2025 in 'published_date'\n",
    "entries_2025 = combined_df[combined_df['published_date'].str.contains('2025')]\n",
    "\n",
    "if not entries_2025.empty:\n",
    "    print(\"Entries with the year 2025 found\")\n",
    "    # Drop entries with the year 2025\n",
    "    combined_df = combined_df[~combined_df['published_date'].str.contains('2025')]\n",
    "else:\n",
    "    print(\"No entries with the year 2025 found.\")"
   ]
  },
  {
   "cell_type": "code",
   "execution_count": 18,
   "metadata": {},
   "outputs": [
    {
     "name": "stdout",
     "output_type": "stream",
     "text": [
      "<class 'pandas.core.frame.DataFrame'>\n",
      "Index: 637601 entries, 0 to 17154\n",
      "Data columns (total 4 columns):\n",
      " #   Column          Non-Null Count   Dtype \n",
      "---  ------          --------------   ----- \n",
      " 0   paper_id        637601 non-null  object\n",
      " 1   published_date  637601 non-null  object\n",
      " 2   categories      637601 non-null  object\n",
      " 3   id              637601 non-null  object\n",
      "dtypes: object(4)\n",
      "memory usage: 24.3+ MB\n"
     ]
    }
   ],
   "source": [
    "combined_df.info()"
   ]
  },
  {
   "cell_type": "code",
   "execution_count": 19,
   "metadata": {},
   "outputs": [],
   "source": [
    "output_file = 'complete_arxiv_papers.csv'\n",
    "combined_df.to_csv(output_file, index=False)"
   ]
  },
  {
   "cell_type": "code",
   "execution_count": null,
   "metadata": {},
   "outputs": [],
   "source": []
  }
 ],
 "metadata": {
  "kernelspec": {
   "display_name": ".venv",
   "language": "python",
   "name": "python3"
  },
  "language_info": {
   "codemirror_mode": {
    "name": "ipython",
    "version": 3
   },
   "file_extension": ".py",
   "mimetype": "text/x-python",
   "name": "python",
   "nbconvert_exporter": "python",
   "pygments_lexer": "ipython3",
   "version": "3.12.9"
  }
 },
 "nbformat": 4,
 "nbformat_minor": 2
}
