{
 "cells": [
  {
   "cell_type": "markdown",
   "metadata": {},
   "source": [
    "# Development of AI in scientific research"
   ]
  },
  {
   "cell_type": "markdown",
   "metadata": {},
   "source": [
    "Artificial Intelligence (AI) has emerged as one of the most talked-about topics in recent years. Breakthroughs in technologies such as machine learning(ML), large language models (LLM), and computer vision (CV) have not only transformed how we live and work but have also  created a significant buzz in the economy. Major tech companies like Google, Microsoft or NVIDIA have achieved tremendous profits and remarkable stock market growth through their investments and research in AI. The innovative potential of AI is widely regarded as a catalyst for economic growth and technological progress.\n",
    "\n",
    "While the societal and economic enthusiasm for AI is undeniable, this analysis aims to investigate whether a comparable trend can be observed in the scientific community. This analysis examines publication data from the past three decades to identify patterns in research activity and explore whether the increasing prominence of AI is reflected in scientific output. The focus is directed toward publications in key disciplines such as computer science, mathematics, quantitative finance, and statistics, which provide the foundational framework for advancements in AI."
   ]
  },
  {
   "cell_type": "code",
   "execution_count": 20,
   "metadata": {},
   "outputs": [],
   "source": [
    "import numpy as np\n",
    "import pandas as pd\n",
    "import plotly.express as px\n",
    "import plotly.graph_objects as go\n",
    "import plotly.io as pio\n",
    "from plotly.subplots import make_subplots\n",
    "\n",
    "# Override default plotly theme to white background with gridlines\n",
    "pio.templates.default = \"plotly_white\""
   ]
  },
  {
   "cell_type": "code",
   "execution_count": 21,
   "metadata": {
    "ExecuteTime": {
     "end_time": "2024-12-29T15:25:38.821764Z",
     "start_time": "2024-12-29T15:25:38.818625Z"
    }
   },
   "outputs": [],
   "source": [
    "TITLE_SIZE = 25\n",
    "TITLE_X_POS = 0.5"
   ]
  },
  {
   "cell_type": "markdown",
   "metadata": {},
   "source": [
    "## Data"
   ]
  },
  {
   "cell_type": "markdown",
   "metadata": {},
   "source": [
    "The data for this analysis was sourced from arXiv.org, a repository for scientific preprints. To investigate the development and trends in Artificial Intelligence research, publications from 1994 to the end of 2024 were queried. The focus was set on categories that are highly relevant to the theoretical and practical advancements in AI. These categories were carefully selected to ensure coverage of core disciplines such as computer science, mathematics, quantitative finance, and statistics, which are central to the development of AI methodologies and applications.\n",
    "\n",
    "The selected categories reflect a comprehensive view of AI research, ranging from foundational theories to applied methodologies. This approach also highlights the interplay between traditional mathematical and statistical methods and emerging AI driven techniques. The inclusion criteria were designed to capture the evolution of AI research over time, while broader, less directly related domains, such as economics, electrical engineering, physics, and quantitative biology were  excluded. An exception was made for quantitative finance due to its role in applying methods such as Long Short-Term Memory (LSTM) neural networks, which have significant applications in financial time series modeling and other AI-related fields.\n",
    "\n",
    "The analysis specifically includes publications from the following domains:\n",
    "| Domain                | Category   | Description                                   |\n",
    "|-----------------------|------------|-----------------------------------------------|\n",
    "| **Computer Science**  | cs.AI      | Artificial Intelligence                      |\n",
    "|                       | cs.CC      | Computational Complexity                     |\n",
    "|                       | cs.CL      | Computation and Language                     |\n",
    "|                       | cs.CV      | Computer Vision and Pattern Recognition      |\n",
    "|                       | cs.DM      | Discrete Mathematics                         |\n",
    "|                       | cs.HC      | Human-Computer Interaction                   |\n",
    "|                       | cs.LG      | Machine Learning                             |\n",
    "|                       | cs.MA      | Multiagent Systems                           |\n",
    "|                       | cs.NE      | Neural and Evolutionary Computing            |\n",
    "|                       | cs.RO      | Robotics                                     |\n",
    "|                       | cs.SD      | Sound                                        |\n",
    "| **Mathematics**       | math.DS    | Dynamical Systems                            |\n",
    "|                       | math.OC    | Optimization and Control                     |\n",
    "|                       | math.PR    | Probability                                  |\n",
    "|                       | math.QA    | Quantum Algebra                              |\n",
    "|                       | math.ST    | Statistics                                   |\n",
    "| **Quantitative Finance** | q-fin.CP   | Computational Finance                        |\n",
    "|                       | q-fin.MF   | Mathematical Finance                         |\n",
    "|                       | q-fin.ST   | Statistical Finance                          |\n",
    "| **Statistics**        | stat.ML    | Machine Learning in Statistics               |\n",
    "|                       | stat.TH    | Theoretical Statistics                       |\n"
   ]
  },
  {
   "cell_type": "code",
   "execution_count": 22,
   "metadata": {},
   "outputs": [],
   "source": [
    "CATEGORIES = [\n",
    "    \"cs.lg\",\n",
    "    \"cs.ai\",\n",
    "    \"cs.cc\",\n",
    "    \"math.st\",\n",
    "    \"math.oc\",\n",
    "    \"math.pr\",\n",
    "    \"stat.ml\",\n",
    "    \"cs.cv\",\n",
    "    \"cs.cl\",\n",
    "    \"cs.ne\",\n",
    "    \"cs.ro\",\n",
    "    \"math.ds\",\n",
    "    \"cs.hc\",\n",
    "    \"cs.dm\",\n",
    "    \"cs.ma\",\n",
    "    \"cs.sd\",\n",
    "    \"math.qa\",\n",
    "    \"q-fin.st\",\n",
    "    \"q-fin.mf\",\n",
    "    \"q-fin.cp\",\n",
    "    \"stat.th\",\n",
    "]\n",
    "\n",
    "ARXIV_CATEGORIES_MAPPING = {\n",
    "    \"cs.LG\": \"Machine Learning (Computer Science)\",\n",
    "    \"cs.AI\": \"Artificial Intelligence\",\n",
    "    \"cs.CC\": \"Computational Complexity\",\n",
    "    \"math.ST\": \"Statistics Theory (Mathematics)\",\n",
    "    \"math.OC\": \"Optimization and Control\",\n",
    "    \"math.PR\": \"Probability\",\n",
    "    \"stat.ML\": \"Machine Learning (Statistics)\",\n",
    "    \"cs.CV\": \"Computer Vision and Pattern Recognition\",\n",
    "    \"cs.CL\": \"Computation and Language\",\n",
    "    \"cs.NE\": \"Neural and Evolutionary Computing\",\n",
    "    \"cs.RO\": \"Robotics\",\n",
    "    \"math.DS\": \"Dynamical Systems\",\n",
    "    \"cs.HC\": \"Human-Computer Interaction\",\n",
    "    \"cs.DM\": \"Discrete Mathematics\",\n",
    "    \"cs.MA\": \"Multiagent Systems\",\n",
    "    \"cs.SD\": \"Sound\",\n",
    "    \"math.QA\": \"Quantum Algebra\",\n",
    "    \"q-fin.ST\": \"Statistical Finance\",\n",
    "    \"q-fin.MF\": \"Mathematical Finance\",\n",
    "    \"q-fin.CP\": \"Computational Finance\",\n",
    "    \"stat.TH\": \"Theoretical Statistics\"\n",
    "}\n"
   ]
  },
  {
   "cell_type": "code",
   "execution_count": 23,
   "metadata": {
    "ExecuteTime": {
     "end_time": "2024-12-29T15:25:39.461601Z",
     "start_time": "2024-12-29T15:25:38.831096Z"
    }
   },
   "outputs": [
    {
     "data": {
      "text/html": [
       "<div>\n",
       "<style scoped>\n",
       "    .dataframe tbody tr th:only-of-type {\n",
       "        vertical-align: middle;\n",
       "    }\n",
       "\n",
       "    .dataframe tbody tr th {\n",
       "        vertical-align: top;\n",
       "    }\n",
       "\n",
       "    .dataframe thead th {\n",
       "        text-align: right;\n",
       "    }\n",
       "</style>\n",
       "<table border=\"1\" class=\"dataframe\">\n",
       "  <thead>\n",
       "    <tr style=\"text-align: right;\">\n",
       "      <th></th>\n",
       "      <th>paper_id</th>\n",
       "      <th>published_date</th>\n",
       "      <th>categories</th>\n",
       "      <th>id</th>\n",
       "    </tr>\n",
       "  </thead>\n",
       "  <tbody>\n",
       "    <tr>\n",
       "      <th>0</th>\n",
       "      <td>http://arxiv.org/abs/cs/9401101v1</td>\n",
       "      <td>1994-01-01</td>\n",
       "      <td>cs.AI</td>\n",
       "      <td>9401101v1</td>\n",
       "    </tr>\n",
       "    <tr>\n",
       "      <th>1</th>\n",
       "      <td>http://arxiv.org/abs/hep-th/9401023v1</td>\n",
       "      <td>1994-01-06</td>\n",
       "      <td>hep-th,math.QA</td>\n",
       "      <td>9401023v1</td>\n",
       "    </tr>\n",
       "    <tr>\n",
       "      <th>2</th>\n",
       "      <td>http://arxiv.org/abs/hep-th/9401016v1</td>\n",
       "      <td>1994-01-06</td>\n",
       "      <td>hep-th,math.QA</td>\n",
       "      <td>9401016v1</td>\n",
       "    </tr>\n",
       "    <tr>\n",
       "      <th>3</th>\n",
       "      <td>http://arxiv.org/abs/math/9401224v1</td>\n",
       "      <td>1994-01-12</td>\n",
       "      <td>math.DS</td>\n",
       "      <td>9401224v1</td>\n",
       "    </tr>\n",
       "    <tr>\n",
       "      <th>4</th>\n",
       "      <td>http://arxiv.org/abs/hep-th/9401050v1</td>\n",
       "      <td>1994-01-12</td>\n",
       "      <td>hep-th,math.QA</td>\n",
       "      <td>9401050v1</td>\n",
       "    </tr>\n",
       "    <tr>\n",
       "      <th>...</th>\n",
       "      <td>...</td>\n",
       "      <td>...</td>\n",
       "      <td>...</td>\n",
       "      <td>...</td>\n",
       "    </tr>\n",
       "    <tr>\n",
       "      <th>637596</th>\n",
       "      <td>http://arxiv.org/abs/2501.03254v1</td>\n",
       "      <td>2024-12-31</td>\n",
       "      <td>cs.AI,cond-mat.mtrl-sci,cs.CE,cs.LG,cs.NE</td>\n",
       "      <td>2501.03254v1</td>\n",
       "    </tr>\n",
       "    <tr>\n",
       "      <th>637597</th>\n",
       "      <td>http://arxiv.org/abs/2501.00195v1</td>\n",
       "      <td>2024-12-31</td>\n",
       "      <td>cs.LG,cs.AI</td>\n",
       "      <td>2501.00195v1</td>\n",
       "    </tr>\n",
       "    <tr>\n",
       "      <th>637598</th>\n",
       "      <td>http://arxiv.org/abs/2501.00192v1</td>\n",
       "      <td>2024-12-31</td>\n",
       "      <td>cs.CV,cs.CL,cs.CY,cs.LG</td>\n",
       "      <td>2501.00192v1</td>\n",
       "    </tr>\n",
       "    <tr>\n",
       "      <th>637599</th>\n",
       "      <td>http://arxiv.org/abs/2501.00191v1</td>\n",
       "      <td>2024-12-31</td>\n",
       "      <td>cs.GT,cs.MA,cs.SI,cs.SY,eess.SY,math.OC</td>\n",
       "      <td>2501.00191v1</td>\n",
       "    </tr>\n",
       "    <tr>\n",
       "      <th>637600</th>\n",
       "      <td>http://arxiv.org/abs/2501.00190v2</td>\n",
       "      <td>2024-12-31</td>\n",
       "      <td>cs.LG,cs.AI,cs.HC</td>\n",
       "      <td>2501.00190v2</td>\n",
       "    </tr>\n",
       "  </tbody>\n",
       "</table>\n",
       "<p>637601 rows × 4 columns</p>\n",
       "</div>"
      ],
      "text/plain": [
       "                                     paper_id published_date  \\\n",
       "0           http://arxiv.org/abs/cs/9401101v1     1994-01-01   \n",
       "1       http://arxiv.org/abs/hep-th/9401023v1     1994-01-06   \n",
       "2       http://arxiv.org/abs/hep-th/9401016v1     1994-01-06   \n",
       "3         http://arxiv.org/abs/math/9401224v1     1994-01-12   \n",
       "4       http://arxiv.org/abs/hep-th/9401050v1     1994-01-12   \n",
       "...                                       ...            ...   \n",
       "637596      http://arxiv.org/abs/2501.03254v1     2024-12-31   \n",
       "637597      http://arxiv.org/abs/2501.00195v1     2024-12-31   \n",
       "637598      http://arxiv.org/abs/2501.00192v1     2024-12-31   \n",
       "637599      http://arxiv.org/abs/2501.00191v1     2024-12-31   \n",
       "637600      http://arxiv.org/abs/2501.00190v2     2024-12-31   \n",
       "\n",
       "                                       categories            id  \n",
       "0                                           cs.AI     9401101v1  \n",
       "1                                  hep-th,math.QA     9401023v1  \n",
       "2                                  hep-th,math.QA     9401016v1  \n",
       "3                                         math.DS     9401224v1  \n",
       "4                                  hep-th,math.QA     9401050v1  \n",
       "...                                           ...           ...  \n",
       "637596  cs.AI,cond-mat.mtrl-sci,cs.CE,cs.LG,cs.NE  2501.03254v1  \n",
       "637597                                cs.LG,cs.AI  2501.00195v1  \n",
       "637598                    cs.CV,cs.CL,cs.CY,cs.LG  2501.00192v1  \n",
       "637599    cs.GT,cs.MA,cs.SI,cs.SY,eess.SY,math.OC  2501.00191v1  \n",
       "637600                          cs.LG,cs.AI,cs.HC  2501.00190v2  \n",
       "\n",
       "[637601 rows x 4 columns]"
      ]
     },
     "execution_count": 23,
     "metadata": {},
     "output_type": "execute_result"
    }
   ],
   "source": [
    "# Load Data\n",
    "df_complete = pd.read_csv(\"complete_arxiv_papers.csv\")\n",
    "df_complete"
   ]
  },
  {
   "cell_type": "code",
   "execution_count": 24,
   "metadata": {
    "ExecuteTime": {
     "end_time": "2024-12-29T15:25:39.538600Z",
     "start_time": "2024-12-29T15:25:39.490521Z"
    }
   },
   "outputs": [],
   "source": [
    "# Convert date from string to datetime object\n",
    "df_complete[\"published_date\"] = pd.to_datetime(df_complete[\"published_date\"])"
   ]
  },
  {
   "cell_type": "markdown",
   "metadata": {},
   "source": [
    "## Helper Functions"
   ]
  },
  {
   "cell_type": "code",
   "execution_count": 25,
   "metadata": {
    "ExecuteTime": {
     "end_time": "2024-12-29T15:25:39.567129Z",
     "start_time": "2024-12-29T15:25:39.560912Z"
    }
   },
   "outputs": [],
   "source": [
    "def prepare_data(df, period, also_group_categories=False):\n",
    "    \"\"\"\n",
    "    Prepares the data for visualization by adding a period column based on the specified frequency\n",
    "    \"\"\"\n",
    "    df = df.copy(deep=True)\n",
    "\n",
    "    # Add period column based on specified frequency\n",
    "    if period.lower() == \"y\":\n",
    "        df[\"period\"] = df[\"published_date\"].dt.to_period(period).dt.year\n",
    "    else:    \n",
    "        df[\"period\"] = df[\"published_date\"].dt.to_period(period).dt.to_timestamp()\n",
    "\n",
    "    if also_group_categories:\n",
    "        # Convert comma-separated string of categories to python list\n",
    "        df['categories'] = df['categories'].str.lower().str.split(',')\n",
    "\n",
    "        # Explode the categories into separate rows\n",
    "        df = df.explode(\"categories\")\n",
    "        df[\"categories\"] = df[\"categories\"].str.strip()\n",
    "\n",
    "        # Filter rows to only keep the ones matching a specified category\n",
    "        df = df[df['categories'].isin(CATEGORIES)]\n",
    "\n",
    "        # Group the data by categories and period and count occurrences\n",
    "        df = df.groupby(['categories', 'period']).size().reset_index(name='count')\n",
    "    else:\n",
    "        # Group data by just the period and count occurrences\n",
    "        df = df.groupby(\"period\").size().reset_index(name=\"count\")\n",
    "    \n",
    "    return df\n"
   ]
  },
  {
   "cell_type": "code",
   "execution_count": 26,
   "metadata": {
    "ExecuteTime": {
     "end_time": "2024-12-29T15:25:39.608059Z",
     "start_time": "2024-12-29T15:25:39.603650Z"
    }
   },
   "outputs": [],
   "source": [
    "def generate_color_map(categories):\n",
    "    \"\"\"\n",
    "    Generate a consistent color map for categories to ensure that each category is assigned a unique color.\n",
    "\n",
    "    This is done for the visualization of the line charts that are side-by-side so that the same category appears with the same color in both plots.\n",
    "    \"\"\"\n",
    "    return {category: px.colors.qualitative.Plotly[i % len(px.colors.qualitative.Plotly)]\n",
    "            for i, category in enumerate(categories)}\n"
   ]
  },
  {
   "cell_type": "markdown",
   "metadata": {},
   "source": [
    "## Visualization"
   ]
  },
  {
   "cell_type": "markdown",
   "metadata": {},
   "source": [
    "The dataset analyzed includes a unique identifier for each publication, referred to as *paper_id*. This identifier features a versioning system, where the suffix *v1* denotes the initial release of a paper. Later versions, such as *v2*, *v3* and beyond, typically reflect corrections, refinements or improvements to the original work. While these subsequent versions address important refinements, they generally do not introduce groundbreaking ideas. Therefore, this analysis focuses primarily on the initial publications (*v1*), as they are considered the most significant in contributing to scientific progress.\n",
    "\n",
    "The structure of the analysis is designed to provide a clear and comprehensive understanding of the trends in AI and ML related research. It begins with a broad overview of publication activity, including all versions, to illustrate the overall growth in the field. The focus then narrows to initial publications, highlighting their foundational role in advancing knowledge. The next section explores category specific trends, offering a detailed examination of key areas such as machine learning, computer vision, and statistics. Finally, a relative analysis is presented to highlight the proportional impact of individual categories over time, offering insights into their evolving significance."
   ]
  },
  {
   "cell_type": "markdown",
   "metadata": {},
   "source": [
    "### General Development of Publications in AI and ML related fields"
   ]
  },
  {
   "cell_type": "code",
   "execution_count": 27,
   "metadata": {
    "ExecuteTime": {
     "end_time": "2024-12-29T15:25:39.674057Z",
     "start_time": "2024-12-29T15:25:39.659222Z"
    }
   },
   "outputs": [],
   "source": [
    "def plot_general_development(df, title, period):\n",
    "    \"\"\"\n",
    "    Plots the number of publications per period on both linear and logarithmic scales side-by-side.\n",
    "    \"\"\"\n",
    "    papers_per_period = prepare_data(df, period)\n",
    "\n",
    "    # Create a scatter plot with a linear scale\n",
    "    # To enable the ols trendline to depict an exponential trend log_y is set to True only for the trendline\n",
    "    fig_linear = px.scatter(\n",
    "        papers_per_period,\n",
    "        x=\"period\",\n",
    "        y=\"count\",\n",
    "        trendline=\"ols\",\n",
    "        trendline_color_override=\"red\",\n",
    "        trendline_options=dict(log_y=True),\n",
    "    )\n",
    "\n",
    "    # Create a scatter plot with a logarithmic scale\n",
    "    # To enable the ols trendline to depict a linear trend on a log scale log_y is set to True for both the plot and the trendline\n",
    "    fig_log = px.scatter(\n",
    "        papers_per_period,\n",
    "        x=\"period\",\n",
    "        y=\"count\",\n",
    "        trendline=\"ols\",\n",
    "        trendline_color_override=\"red\",\n",
    "        log_y=True,\n",
    "        trendline_options=dict(log_y=True),\n",
    "    )\n",
    "\n",
    "    # Combine the two plots into a single figure to display them side-by-side\n",
    "    subfig = make_subplots(rows=1, cols=2, subplot_titles=[\"Linear Scale\", \"Log Scale\"])\n",
    "\n",
    "    # Add linear plot to the left side of the figure and log plot to the right side\n",
    "    for trace in fig_linear.data:\n",
    "        subfig.add_trace(trace, row=1, col=1)\n",
    "    for trace in fig_log.data:\n",
    "        subfig.add_trace(trace, row=1, col=2)\n",
    "\n",
    "    # Update layout for the combined figure\n",
    "    subfig.update_yaxes(\n",
    "        title=\"# of Publications per Month\", row=1, col=1, type=\"linear\"\n",
    "    )  # Update the y-axis label and linear-scale for the left plot\n",
    "    subfig.update_yaxes(\n",
    "        title=\"# of Publications per Month\", row=1, col=2, type=\"log\"\n",
    "    )  # Update the y-axis label and set logarithmic-scale for the right plot\n",
    "    subfig.update_xaxes(\n",
    "        title=\"Year of Publication\"\n",
    "    )  # Update the x-axis label for both plots\n",
    "\n",
    "    # Update the title text of the combined figure and center it\n",
    "    subfig.update_layout(\n",
    "        title=dict(\n",
    "            text=f\"Number of {title} Publications per Month\",\n",
    "            font=dict(size=TITLE_SIZE),\n",
    "            x=TITLE_X_POS,\n",
    "        )\n",
    "    )\n",
    "\n",
    "    subfig.show()\n"
   ]
  },
  {
   "cell_type": "code",
   "execution_count": 28,
   "metadata": {
    "ExecuteTime": {
     "end_time": "2024-12-29T15:25:39.894979Z",
     "start_time": "2024-12-29T15:25:39.683595Z"
    }
   },
   "outputs": [
    {
     "data": {
      "application/vnd.plotly.v1+json": {
       "config": {
        "plotlyServerURL": "https://plot.ly"
       },
       "data": [
        {
         "hovertemplate": "period=%{x}<br>count=%{y}<extra></extra>",
         "legendgroup": "",
         "marker": {
          "color": "#636efa",
          "symbol": "circle"
         },
         "mode": "markers",
         "name": "",
         "orientation": "v",
         "showlegend": false,
         "type": "scatter",
         "x": [
          "1994-01-01T00:00:00.000000000",
          "1994-02-01T00:00:00.000000000",
          "1994-03-01T00:00:00.000000000",
          "1994-04-01T00:00:00.000000000",
          "1994-05-01T00:00:00.000000000",
          "1994-06-01T00:00:00.000000000",
          "1994-07-01T00:00:00.000000000",
          "1994-08-01T00:00:00.000000000",
          "1994-09-01T00:00:00.000000000",
          "1994-10-01T00:00:00.000000000",
          "1994-11-01T00:00:00.000000000",
          "1994-12-01T00:00:00.000000000",
          "1995-01-01T00:00:00.000000000",
          "1995-02-01T00:00:00.000000000",
          "1995-03-01T00:00:00.000000000",
          "1995-04-01T00:00:00.000000000",
          "1995-05-01T00:00:00.000000000",
          "1995-06-01T00:00:00.000000000",
          "1995-07-01T00:00:00.000000000",
          "1995-08-01T00:00:00.000000000",
          "1995-09-01T00:00:00.000000000",
          "1995-10-01T00:00:00.000000000",
          "1995-11-01T00:00:00.000000000",
          "1995-12-01T00:00:00.000000000",
          "1996-01-01T00:00:00.000000000",
          "1996-02-01T00:00:00.000000000",
          "1996-03-01T00:00:00.000000000",
          "1996-04-01T00:00:00.000000000",
          "1996-05-01T00:00:00.000000000",
          "1996-06-01T00:00:00.000000000",
          "1996-07-01T00:00:00.000000000",
          "1996-08-01T00:00:00.000000000",
          "1996-09-01T00:00:00.000000000",
          "1996-10-01T00:00:00.000000000",
          "1996-11-01T00:00:00.000000000",
          "1996-12-01T00:00:00.000000000",
          "1997-01-01T00:00:00.000000000",
          "1997-02-01T00:00:00.000000000",
          "1997-03-01T00:00:00.000000000",
          "1997-04-01T00:00:00.000000000",
          "1997-05-01T00:00:00.000000000",
          "1997-06-01T00:00:00.000000000",
          "1997-07-01T00:00:00.000000000",
          "1997-08-01T00:00:00.000000000",
          "1997-09-01T00:00:00.000000000",
          "1997-10-01T00:00:00.000000000",
          "1997-11-01T00:00:00.000000000",
          "1997-12-01T00:00:00.000000000",
          "1998-01-01T00:00:00.000000000",
          "1998-02-01T00:00:00.000000000",
          "1998-03-01T00:00:00.000000000",
          "1998-04-01T00:00:00.000000000",
          "1998-05-01T00:00:00.000000000",
          "1998-06-01T00:00:00.000000000",
          "1998-07-01T00:00:00.000000000",
          "1998-08-01T00:00:00.000000000",
          "1998-09-01T00:00:00.000000000",
          "1998-10-01T00:00:00.000000000",
          "1998-11-01T00:00:00.000000000",
          "1998-12-01T00:00:00.000000000",
          "1999-01-01T00:00:00.000000000",
          "1999-02-01T00:00:00.000000000",
          "1999-03-01T00:00:00.000000000",
          "1999-04-01T00:00:00.000000000",
          "1999-05-01T00:00:00.000000000",
          "1999-06-01T00:00:00.000000000",
          "1999-07-01T00:00:00.000000000",
          "1999-08-01T00:00:00.000000000",
          "1999-09-01T00:00:00.000000000",
          "1999-10-01T00:00:00.000000000",
          "1999-11-01T00:00:00.000000000",
          "1999-12-01T00:00:00.000000000",
          "2000-01-01T00:00:00.000000000",
          "2000-02-01T00:00:00.000000000",
          "2000-03-01T00:00:00.000000000",
          "2000-04-01T00:00:00.000000000",
          "2000-05-01T00:00:00.000000000",
          "2000-06-01T00:00:00.000000000",
          "2000-07-01T00:00:00.000000000",
          "2000-08-01T00:00:00.000000000",
          "2000-09-01T00:00:00.000000000",
          "2000-10-01T00:00:00.000000000",
          "2000-11-01T00:00:00.000000000",
          "2000-12-01T00:00:00.000000000",
          "2001-01-01T00:00:00.000000000",
          "2001-02-01T00:00:00.000000000",
          "2001-03-01T00:00:00.000000000",
          "2001-04-01T00:00:00.000000000",
          "2001-05-01T00:00:00.000000000",
          "2001-06-01T00:00:00.000000000",
          "2001-07-01T00:00:00.000000000",
          "2001-08-01T00:00:00.000000000",
          "2001-09-01T00:00:00.000000000",
          "2001-10-01T00:00:00.000000000",
          "2001-11-01T00:00:00.000000000",
          "2001-12-01T00:00:00.000000000",
          "2002-01-01T00:00:00.000000000",
          "2002-02-01T00:00:00.000000000",
          "2002-03-01T00:00:00.000000000",
          "2002-04-01T00:00:00.000000000",
          "2002-05-01T00:00:00.000000000",
          "2002-06-01T00:00:00.000000000",
          "2002-07-01T00:00:00.000000000",
          "2002-08-01T00:00:00.000000000",
          "2002-09-01T00:00:00.000000000",
          "2002-10-01T00:00:00.000000000",
          "2002-11-01T00:00:00.000000000",
          "2002-12-01T00:00:00.000000000",
          "2003-01-01T00:00:00.000000000",
          "2003-02-01T00:00:00.000000000",
          "2003-03-01T00:00:00.000000000",
          "2003-04-01T00:00:00.000000000",
          "2003-05-01T00:00:00.000000000",
          "2003-06-01T00:00:00.000000000",
          "2003-07-01T00:00:00.000000000",
          "2003-08-01T00:00:00.000000000",
          "2003-09-01T00:00:00.000000000",
          "2003-10-01T00:00:00.000000000",
          "2003-11-01T00:00:00.000000000",
          "2003-12-01T00:00:00.000000000",
          "2004-01-01T00:00:00.000000000",
          "2004-02-01T00:00:00.000000000",
          "2004-03-01T00:00:00.000000000",
          "2004-04-01T00:00:00.000000000",
          "2004-05-01T00:00:00.000000000",
          "2004-06-01T00:00:00.000000000",
          "2004-07-01T00:00:00.000000000",
          "2004-08-01T00:00:00.000000000",
          "2004-09-01T00:00:00.000000000",
          "2004-10-01T00:00:00.000000000",
          "2004-11-01T00:00:00.000000000",
          "2004-12-01T00:00:00.000000000",
          "2005-01-01T00:00:00.000000000",
          "2005-02-01T00:00:00.000000000",
          "2005-03-01T00:00:00.000000000",
          "2005-04-01T00:00:00.000000000",
          "2005-05-01T00:00:00.000000000",
          "2005-06-01T00:00:00.000000000",
          "2005-07-01T00:00:00.000000000",
          "2005-08-01T00:00:00.000000000",
          "2005-09-01T00:00:00.000000000",
          "2005-10-01T00:00:00.000000000",
          "2005-11-01T00:00:00.000000000",
          "2005-12-01T00:00:00.000000000",
          "2006-01-01T00:00:00.000000000",
          "2006-02-01T00:00:00.000000000",
          "2006-03-01T00:00:00.000000000",
          "2006-04-01T00:00:00.000000000",
          "2006-05-01T00:00:00.000000000",
          "2006-06-01T00:00:00.000000000",
          "2006-07-01T00:00:00.000000000",
          "2006-08-01T00:00:00.000000000",
          "2006-09-01T00:00:00.000000000",
          "2006-10-01T00:00:00.000000000",
          "2006-11-01T00:00:00.000000000",
          "2006-12-01T00:00:00.000000000",
          "2007-01-01T00:00:00.000000000",
          "2007-02-01T00:00:00.000000000",
          "2007-03-01T00:00:00.000000000",
          "2007-04-01T00:00:00.000000000",
          "2007-05-01T00:00:00.000000000",
          "2007-06-01T00:00:00.000000000",
          "2007-07-01T00:00:00.000000000",
          "2007-08-01T00:00:00.000000000",
          "2007-09-01T00:00:00.000000000",
          "2007-10-01T00:00:00.000000000",
          "2007-11-01T00:00:00.000000000",
          "2007-12-01T00:00:00.000000000",
          "2008-01-01T00:00:00.000000000",
          "2008-02-01T00:00:00.000000000",
          "2008-03-01T00:00:00.000000000",
          "2008-04-01T00:00:00.000000000",
          "2008-05-01T00:00:00.000000000",
          "2008-06-01T00:00:00.000000000",
          "2008-07-01T00:00:00.000000000",
          "2008-08-01T00:00:00.000000000",
          "2008-09-01T00:00:00.000000000",
          "2008-10-01T00:00:00.000000000",
          "2008-11-01T00:00:00.000000000",
          "2008-12-01T00:00:00.000000000",
          "2009-01-01T00:00:00.000000000",
          "2009-02-01T00:00:00.000000000",
          "2009-03-01T00:00:00.000000000",
          "2009-04-01T00:00:00.000000000",
          "2009-05-01T00:00:00.000000000",
          "2009-06-01T00:00:00.000000000",
          "2009-07-01T00:00:00.000000000",
          "2009-08-01T00:00:00.000000000",
          "2009-09-01T00:00:00.000000000",
          "2009-10-01T00:00:00.000000000",
          "2009-11-01T00:00:00.000000000",
          "2009-12-01T00:00:00.000000000",
          "2010-01-01T00:00:00.000000000",
          "2010-02-01T00:00:00.000000000",
          "2010-03-01T00:00:00.000000000",
          "2010-04-01T00:00:00.000000000",
          "2010-05-01T00:00:00.000000000",
          "2010-06-01T00:00:00.000000000",
          "2010-07-01T00:00:00.000000000",
          "2010-08-01T00:00:00.000000000",
          "2010-09-01T00:00:00.000000000",
          "2010-10-01T00:00:00.000000000",
          "2010-11-01T00:00:00.000000000",
          "2010-12-01T00:00:00.000000000",
          "2011-01-01T00:00:00.000000000",
          "2011-02-01T00:00:00.000000000",
          "2011-03-01T00:00:00.000000000",
          "2011-04-01T00:00:00.000000000",
          "2011-05-01T00:00:00.000000000",
          "2011-06-01T00:00:00.000000000",
          "2011-07-01T00:00:00.000000000",
          "2011-08-01T00:00:00.000000000",
          "2011-09-01T00:00:00.000000000",
          "2011-10-01T00:00:00.000000000",
          "2011-11-01T00:00:00.000000000",
          "2011-12-01T00:00:00.000000000",
          "2012-01-01T00:00:00.000000000",
          "2012-02-01T00:00:00.000000000",
          "2012-03-01T00:00:00.000000000",
          "2012-04-01T00:00:00.000000000",
          "2012-05-01T00:00:00.000000000",
          "2012-06-01T00:00:00.000000000",
          "2012-07-01T00:00:00.000000000",
          "2012-08-01T00:00:00.000000000",
          "2012-09-01T00:00:00.000000000",
          "2012-10-01T00:00:00.000000000",
          "2012-11-01T00:00:00.000000000",
          "2012-12-01T00:00:00.000000000",
          "2013-01-01T00:00:00.000000000",
          "2013-02-01T00:00:00.000000000",
          "2013-03-01T00:00:00.000000000",
          "2013-04-01T00:00:00.000000000",
          "2013-05-01T00:00:00.000000000",
          "2013-06-01T00:00:00.000000000",
          "2013-07-01T00:00:00.000000000",
          "2013-08-01T00:00:00.000000000",
          "2013-09-01T00:00:00.000000000",
          "2013-10-01T00:00:00.000000000",
          "2013-11-01T00:00:00.000000000",
          "2013-12-01T00:00:00.000000000",
          "2014-01-01T00:00:00.000000000",
          "2014-02-01T00:00:00.000000000",
          "2014-03-01T00:00:00.000000000",
          "2014-04-01T00:00:00.000000000",
          "2014-05-01T00:00:00.000000000",
          "2014-06-01T00:00:00.000000000",
          "2014-07-01T00:00:00.000000000",
          "2014-08-01T00:00:00.000000000",
          "2014-09-01T00:00:00.000000000",
          "2014-10-01T00:00:00.000000000",
          "2014-11-01T00:00:00.000000000",
          "2014-12-01T00:00:00.000000000",
          "2015-01-01T00:00:00.000000000",
          "2015-02-01T00:00:00.000000000",
          "2015-03-01T00:00:00.000000000",
          "2015-04-01T00:00:00.000000000",
          "2015-05-01T00:00:00.000000000",
          "2015-06-01T00:00:00.000000000",
          "2015-07-01T00:00:00.000000000",
          "2015-08-01T00:00:00.000000000",
          "2015-09-01T00:00:00.000000000",
          "2015-10-01T00:00:00.000000000",
          "2015-11-01T00:00:00.000000000",
          "2015-12-01T00:00:00.000000000",
          "2016-01-01T00:00:00.000000000",
          "2016-02-01T00:00:00.000000000",
          "2016-03-01T00:00:00.000000000",
          "2016-04-01T00:00:00.000000000",
          "2016-05-01T00:00:00.000000000",
          "2016-06-01T00:00:00.000000000",
          "2016-07-01T00:00:00.000000000",
          "2016-08-01T00:00:00.000000000",
          "2016-09-01T00:00:00.000000000",
          "2016-10-01T00:00:00.000000000",
          "2016-11-01T00:00:00.000000000",
          "2016-12-01T00:00:00.000000000",
          "2017-01-01T00:00:00.000000000",
          "2017-02-01T00:00:00.000000000",
          "2017-03-01T00:00:00.000000000",
          "2017-04-01T00:00:00.000000000",
          "2017-05-01T00:00:00.000000000",
          "2017-06-01T00:00:00.000000000",
          "2017-07-01T00:00:00.000000000",
          "2017-08-01T00:00:00.000000000",
          "2017-09-01T00:00:00.000000000",
          "2017-10-01T00:00:00.000000000",
          "2017-11-01T00:00:00.000000000",
          "2017-12-01T00:00:00.000000000",
          "2018-01-01T00:00:00.000000000",
          "2018-02-01T00:00:00.000000000",
          "2018-03-01T00:00:00.000000000",
          "2018-04-01T00:00:00.000000000",
          "2018-05-01T00:00:00.000000000",
          "2018-06-01T00:00:00.000000000",
          "2018-07-01T00:00:00.000000000",
          "2018-08-01T00:00:00.000000000",
          "2018-09-01T00:00:00.000000000",
          "2018-10-01T00:00:00.000000000",
          "2018-11-01T00:00:00.000000000",
          "2018-12-01T00:00:00.000000000",
          "2019-01-01T00:00:00.000000000",
          "2019-02-01T00:00:00.000000000",
          "2019-03-01T00:00:00.000000000",
          "2019-04-01T00:00:00.000000000",
          "2019-05-01T00:00:00.000000000",
          "2019-06-01T00:00:00.000000000",
          "2019-07-01T00:00:00.000000000",
          "2019-08-01T00:00:00.000000000",
          "2019-09-01T00:00:00.000000000",
          "2019-10-01T00:00:00.000000000",
          "2019-11-01T00:00:00.000000000",
          "2019-12-01T00:00:00.000000000",
          "2020-01-01T00:00:00.000000000",
          "2020-02-01T00:00:00.000000000",
          "2020-03-01T00:00:00.000000000",
          "2020-04-01T00:00:00.000000000",
          "2020-05-01T00:00:00.000000000",
          "2020-06-01T00:00:00.000000000",
          "2020-07-01T00:00:00.000000000",
          "2020-08-01T00:00:00.000000000",
          "2020-09-01T00:00:00.000000000",
          "2020-10-01T00:00:00.000000000",
          "2020-11-01T00:00:00.000000000",
          "2020-12-01T00:00:00.000000000",
          "2021-01-01T00:00:00.000000000",
          "2021-02-01T00:00:00.000000000",
          "2021-03-01T00:00:00.000000000",
          "2021-04-01T00:00:00.000000000",
          "2021-05-01T00:00:00.000000000",
          "2021-06-01T00:00:00.000000000",
          "2021-07-01T00:00:00.000000000",
          "2021-08-01T00:00:00.000000000",
          "2021-09-01T00:00:00.000000000",
          "2021-10-01T00:00:00.000000000",
          "2021-11-01T00:00:00.000000000",
          "2021-12-01T00:00:00.000000000",
          "2022-01-01T00:00:00.000000000",
          "2022-02-01T00:00:00.000000000",
          "2022-03-01T00:00:00.000000000",
          "2022-04-01T00:00:00.000000000",
          "2022-05-01T00:00:00.000000000",
          "2022-06-01T00:00:00.000000000",
          "2022-07-01T00:00:00.000000000",
          "2022-08-01T00:00:00.000000000",
          "2022-09-01T00:00:00.000000000",
          "2022-10-01T00:00:00.000000000",
          "2022-11-01T00:00:00.000000000",
          "2022-12-01T00:00:00.000000000",
          "2023-01-01T00:00:00.000000000",
          "2023-02-01T00:00:00.000000000",
          "2023-03-01T00:00:00.000000000",
          "2023-04-01T00:00:00.000000000",
          "2023-05-01T00:00:00.000000000",
          "2023-06-01T00:00:00.000000000",
          "2023-07-01T00:00:00.000000000",
          "2023-08-01T00:00:00.000000000",
          "2023-09-01T00:00:00.000000000",
          "2023-10-01T00:00:00.000000000",
          "2023-11-01T00:00:00.000000000",
          "2023-12-01T00:00:00.000000000",
          "2024-01-01T00:00:00.000000000",
          "2024-02-01T00:00:00.000000000",
          "2024-03-01T00:00:00.000000000",
          "2024-04-01T00:00:00.000000000",
          "2024-05-01T00:00:00.000000000",
          "2024-06-01T00:00:00.000000000",
          "2024-07-01T00:00:00.000000000",
          "2024-08-01T00:00:00.000000000",
          "2024-09-01T00:00:00.000000000",
          "2024-10-01T00:00:00.000000000",
          "2024-11-01T00:00:00.000000000",
          "2024-12-01T00:00:00.000000000"
         ],
         "xaxis": "x",
         "y": {
          "bdata": "EgAeAB4AJAA2AEIANwAsACUANQBNADQAMgA/AD8ASwBaAEAAPAAuAC0ANQAvADsAMgA0ADQAUwBoAEsAVQA8ADQAOgA2AEcAUwA8AEMAOAA7AFAARwA3AEwAQwBBAFoAOQAzAEIAQgBEAF4ATgBJAHYARwBJAFMAQgBPAFYATgBnAFoAbQBDAEYAVQBaAGMASABZAJkAWQB2AHEAaQBuAG0AcQBvAFsAXABuAGQAYgCEAGsAXABXAF8AgQB1AIcAbAB1AHIAhwCgAHkAkgBaAHkAkACcAKEAfwB4AI0AsAC3AJIAmgB8AKIAhgCgAKgAcgCfAKYAuQD2AOMAtQCmALwADAHMAPEAygCvAFwBxwAGAeAA5QDyAPgA4wAhAesAKwH+ADQB+wAYAScBNgE0AVUBYgFsAUcBPQFlAVwBNAFsAUMBjAGOAXsBogGKAbYBnwGjAa0ByQG0AZwBlQEpAb0BvwGIAb0BnQHkAQECuAGSAfYBAgLYAS8CJAI2AjgCKAL8AWQCgAI9Ak8CEQIBAocCmwKBAnsCEQKdAvkCrwLmAjADyQKfAhkDKAMiAyMD5gKEA6oDbANlA7MELATlAkkDUQTNA7cDvQR7BIwF5gOPA8kDDwRaA1wETAQiBN4EwARKBGwEiASKBI4EcAT9A00E6wTnBH8FcwT+BJUFGQU3BS0GnwXnBPUFuQXBBpUFIQUnBhMHcAZBB1YHUwZTBk8HmweYCJIHXAZlB0MJQwhCCdgIJAmHCK8JPQkoC68IOAjaCs0L+woADeMLtAuQCrsMnQ2sDk4MsgtUDP8NCRClEecQrA81DgMSwxIQEqwPoA0BEsgSBBQrE/QXvhXhEfkSHBprFWkVFhFiE8sXkxY5Ff8Z0xTGEvgWsRlAFUEV+xEcFQUbJRacGEwYzBYcFDoXWR7WGnIVtRLaF6secxihI6sdWxpHG9AdzyNyH8UehRv2I3YmHCFUJVgn+SN0HrEjlyQVI3Ap",
          "dtype": "i2"
         },
         "yaxis": "y"
        },
        {
         "hovertemplate": "<b>OLS trendline</b><br>log10(count) = 2.50403e-09 * period + -0.38432<br>R<sup>2</sup>=0.985285<br><br>period=%{x}<br>count=%{y} <b>(trend)</b><extra></extra>",
         "legendgroup": "",
         "line": {
          "color": "red"
         },
         "marker": {
          "color": "#636efa",
          "symbol": "circle"
         },
         "mode": "lines",
         "name": "",
         "showlegend": false,
         "type": "scatter",
         "x": [
          "1994-01-01T00:00:00.000000000",
          "1994-02-01T00:00:00.000000000",
          "1994-03-01T00:00:00.000000000",
          "1994-04-01T00:00:00.000000000",
          "1994-05-01T00:00:00.000000000",
          "1994-06-01T00:00:00.000000000",
          "1994-07-01T00:00:00.000000000",
          "1994-08-01T00:00:00.000000000",
          "1994-09-01T00:00:00.000000000",
          "1994-10-01T00:00:00.000000000",
          "1994-11-01T00:00:00.000000000",
          "1994-12-01T00:00:00.000000000",
          "1995-01-01T00:00:00.000000000",
          "1995-02-01T00:00:00.000000000",
          "1995-03-01T00:00:00.000000000",
          "1995-04-01T00:00:00.000000000",
          "1995-05-01T00:00:00.000000000",
          "1995-06-01T00:00:00.000000000",
          "1995-07-01T00:00:00.000000000",
          "1995-08-01T00:00:00.000000000",
          "1995-09-01T00:00:00.000000000",
          "1995-10-01T00:00:00.000000000",
          "1995-11-01T00:00:00.000000000",
          "1995-12-01T00:00:00.000000000",
          "1996-01-01T00:00:00.000000000",
          "1996-02-01T00:00:00.000000000",
          "1996-03-01T00:00:00.000000000",
          "1996-04-01T00:00:00.000000000",
          "1996-05-01T00:00:00.000000000",
          "1996-06-01T00:00:00.000000000",
          "1996-07-01T00:00:00.000000000",
          "1996-08-01T00:00:00.000000000",
          "1996-09-01T00:00:00.000000000",
          "1996-10-01T00:00:00.000000000",
          "1996-11-01T00:00:00.000000000",
          "1996-12-01T00:00:00.000000000",
          "1997-01-01T00:00:00.000000000",
          "1997-02-01T00:00:00.000000000",
          "1997-03-01T00:00:00.000000000",
          "1997-04-01T00:00:00.000000000",
          "1997-05-01T00:00:00.000000000",
          "1997-06-01T00:00:00.000000000",
          "1997-07-01T00:00:00.000000000",
          "1997-08-01T00:00:00.000000000",
          "1997-09-01T00:00:00.000000000",
          "1997-10-01T00:00:00.000000000",
          "1997-11-01T00:00:00.000000000",
          "1997-12-01T00:00:00.000000000",
          "1998-01-01T00:00:00.000000000",
          "1998-02-01T00:00:00.000000000",
          "1998-03-01T00:00:00.000000000",
          "1998-04-01T00:00:00.000000000",
          "1998-05-01T00:00:00.000000000",
          "1998-06-01T00:00:00.000000000",
          "1998-07-01T00:00:00.000000000",
          "1998-08-01T00:00:00.000000000",
          "1998-09-01T00:00:00.000000000",
          "1998-10-01T00:00:00.000000000",
          "1998-11-01T00:00:00.000000000",
          "1998-12-01T00:00:00.000000000",
          "1999-01-01T00:00:00.000000000",
          "1999-02-01T00:00:00.000000000",
          "1999-03-01T00:00:00.000000000",
          "1999-04-01T00:00:00.000000000",
          "1999-05-01T00:00:00.000000000",
          "1999-06-01T00:00:00.000000000",
          "1999-07-01T00:00:00.000000000",
          "1999-08-01T00:00:00.000000000",
          "1999-09-01T00:00:00.000000000",
          "1999-10-01T00:00:00.000000000",
          "1999-11-01T00:00:00.000000000",
          "1999-12-01T00:00:00.000000000",
          "2000-01-01T00:00:00.000000000",
          "2000-02-01T00:00:00.000000000",
          "2000-03-01T00:00:00.000000000",
          "2000-04-01T00:00:00.000000000",
          "2000-05-01T00:00:00.000000000",
          "2000-06-01T00:00:00.000000000",
          "2000-07-01T00:00:00.000000000",
          "2000-08-01T00:00:00.000000000",
          "2000-09-01T00:00:00.000000000",
          "2000-10-01T00:00:00.000000000",
          "2000-11-01T00:00:00.000000000",
          "2000-12-01T00:00:00.000000000",
          "2001-01-01T00:00:00.000000000",
          "2001-02-01T00:00:00.000000000",
          "2001-03-01T00:00:00.000000000",
          "2001-04-01T00:00:00.000000000",
          "2001-05-01T00:00:00.000000000",
          "2001-06-01T00:00:00.000000000",
          "2001-07-01T00:00:00.000000000",
          "2001-08-01T00:00:00.000000000",
          "2001-09-01T00:00:00.000000000",
          "2001-10-01T00:00:00.000000000",
          "2001-11-01T00:00:00.000000000",
          "2001-12-01T00:00:00.000000000",
          "2002-01-01T00:00:00.000000000",
          "2002-02-01T00:00:00.000000000",
          "2002-03-01T00:00:00.000000000",
          "2002-04-01T00:00:00.000000000",
          "2002-05-01T00:00:00.000000000",
          "2002-06-01T00:00:00.000000000",
          "2002-07-01T00:00:00.000000000",
          "2002-08-01T00:00:00.000000000",
          "2002-09-01T00:00:00.000000000",
          "2002-10-01T00:00:00.000000000",
          "2002-11-01T00:00:00.000000000",
          "2002-12-01T00:00:00.000000000",
          "2003-01-01T00:00:00.000000000",
          "2003-02-01T00:00:00.000000000",
          "2003-03-01T00:00:00.000000000",
          "2003-04-01T00:00:00.000000000",
          "2003-05-01T00:00:00.000000000",
          "2003-06-01T00:00:00.000000000",
          "2003-07-01T00:00:00.000000000",
          "2003-08-01T00:00:00.000000000",
          "2003-09-01T00:00:00.000000000",
          "2003-10-01T00:00:00.000000000",
          "2003-11-01T00:00:00.000000000",
          "2003-12-01T00:00:00.000000000",
          "2004-01-01T00:00:00.000000000",
          "2004-02-01T00:00:00.000000000",
          "2004-03-01T00:00:00.000000000",
          "2004-04-01T00:00:00.000000000",
          "2004-05-01T00:00:00.000000000",
          "2004-06-01T00:00:00.000000000",
          "2004-07-01T00:00:00.000000000",
          "2004-08-01T00:00:00.000000000",
          "2004-09-01T00:00:00.000000000",
          "2004-10-01T00:00:00.000000000",
          "2004-11-01T00:00:00.000000000",
          "2004-12-01T00:00:00.000000000",
          "2005-01-01T00:00:00.000000000",
          "2005-02-01T00:00:00.000000000",
          "2005-03-01T00:00:00.000000000",
          "2005-04-01T00:00:00.000000000",
          "2005-05-01T00:00:00.000000000",
          "2005-06-01T00:00:00.000000000",
          "2005-07-01T00:00:00.000000000",
          "2005-08-01T00:00:00.000000000",
          "2005-09-01T00:00:00.000000000",
          "2005-10-01T00:00:00.000000000",
          "2005-11-01T00:00:00.000000000",
          "2005-12-01T00:00:00.000000000",
          "2006-01-01T00:00:00.000000000",
          "2006-02-01T00:00:00.000000000",
          "2006-03-01T00:00:00.000000000",
          "2006-04-01T00:00:00.000000000",
          "2006-05-01T00:00:00.000000000",
          "2006-06-01T00:00:00.000000000",
          "2006-07-01T00:00:00.000000000",
          "2006-08-01T00:00:00.000000000",
          "2006-09-01T00:00:00.000000000",
          "2006-10-01T00:00:00.000000000",
          "2006-11-01T00:00:00.000000000",
          "2006-12-01T00:00:00.000000000",
          "2007-01-01T00:00:00.000000000",
          "2007-02-01T00:00:00.000000000",
          "2007-03-01T00:00:00.000000000",
          "2007-04-01T00:00:00.000000000",
          "2007-05-01T00:00:00.000000000",
          "2007-06-01T00:00:00.000000000",
          "2007-07-01T00:00:00.000000000",
          "2007-08-01T00:00:00.000000000",
          "2007-09-01T00:00:00.000000000",
          "2007-10-01T00:00:00.000000000",
          "2007-11-01T00:00:00.000000000",
          "2007-12-01T00:00:00.000000000",
          "2008-01-01T00:00:00.000000000",
          "2008-02-01T00:00:00.000000000",
          "2008-03-01T00:00:00.000000000",
          "2008-04-01T00:00:00.000000000",
          "2008-05-01T00:00:00.000000000",
          "2008-06-01T00:00:00.000000000",
          "2008-07-01T00:00:00.000000000",
          "2008-08-01T00:00:00.000000000",
          "2008-09-01T00:00:00.000000000",
          "2008-10-01T00:00:00.000000000",
          "2008-11-01T00:00:00.000000000",
          "2008-12-01T00:00:00.000000000",
          "2009-01-01T00:00:00.000000000",
          "2009-02-01T00:00:00.000000000",
          "2009-03-01T00:00:00.000000000",
          "2009-04-01T00:00:00.000000000",
          "2009-05-01T00:00:00.000000000",
          "2009-06-01T00:00:00.000000000",
          "2009-07-01T00:00:00.000000000",
          "2009-08-01T00:00:00.000000000",
          "2009-09-01T00:00:00.000000000",
          "2009-10-01T00:00:00.000000000",
          "2009-11-01T00:00:00.000000000",
          "2009-12-01T00:00:00.000000000",
          "2010-01-01T00:00:00.000000000",
          "2010-02-01T00:00:00.000000000",
          "2010-03-01T00:00:00.000000000",
          "2010-04-01T00:00:00.000000000",
          "2010-05-01T00:00:00.000000000",
          "2010-06-01T00:00:00.000000000",
          "2010-07-01T00:00:00.000000000",
          "2010-08-01T00:00:00.000000000",
          "2010-09-01T00:00:00.000000000",
          "2010-10-01T00:00:00.000000000",
          "2010-11-01T00:00:00.000000000",
          "2010-12-01T00:00:00.000000000",
          "2011-01-01T00:00:00.000000000",
          "2011-02-01T00:00:00.000000000",
          "2011-03-01T00:00:00.000000000",
          "2011-04-01T00:00:00.000000000",
          "2011-05-01T00:00:00.000000000",
          "2011-06-01T00:00:00.000000000",
          "2011-07-01T00:00:00.000000000",
          "2011-08-01T00:00:00.000000000",
          "2011-09-01T00:00:00.000000000",
          "2011-10-01T00:00:00.000000000",
          "2011-11-01T00:00:00.000000000",
          "2011-12-01T00:00:00.000000000",
          "2012-01-01T00:00:00.000000000",
          "2012-02-01T00:00:00.000000000",
          "2012-03-01T00:00:00.000000000",
          "2012-04-01T00:00:00.000000000",
          "2012-05-01T00:00:00.000000000",
          "2012-06-01T00:00:00.000000000",
          "2012-07-01T00:00:00.000000000",
          "2012-08-01T00:00:00.000000000",
          "2012-09-01T00:00:00.000000000",
          "2012-10-01T00:00:00.000000000",
          "2012-11-01T00:00:00.000000000",
          "2012-12-01T00:00:00.000000000",
          "2013-01-01T00:00:00.000000000",
          "2013-02-01T00:00:00.000000000",
          "2013-03-01T00:00:00.000000000",
          "2013-04-01T00:00:00.000000000",
          "2013-05-01T00:00:00.000000000",
          "2013-06-01T00:00:00.000000000",
          "2013-07-01T00:00:00.000000000",
          "2013-08-01T00:00:00.000000000",
          "2013-09-01T00:00:00.000000000",
          "2013-10-01T00:00:00.000000000",
          "2013-11-01T00:00:00.000000000",
          "2013-12-01T00:00:00.000000000",
          "2014-01-01T00:00:00.000000000",
          "2014-02-01T00:00:00.000000000",
          "2014-03-01T00:00:00.000000000",
          "2014-04-01T00:00:00.000000000",
          "2014-05-01T00:00:00.000000000",
          "2014-06-01T00:00:00.000000000",
          "2014-07-01T00:00:00.000000000",
          "2014-08-01T00:00:00.000000000",
          "2014-09-01T00:00:00.000000000",
          "2014-10-01T00:00:00.000000000",
          "2014-11-01T00:00:00.000000000",
          "2014-12-01T00:00:00.000000000",
          "2015-01-01T00:00:00.000000000",
          "2015-02-01T00:00:00.000000000",
          "2015-03-01T00:00:00.000000000",
          "2015-04-01T00:00:00.000000000",
          "2015-05-01T00:00:00.000000000",
          "2015-06-01T00:00:00.000000000",
          "2015-07-01T00:00:00.000000000",
          "2015-08-01T00:00:00.000000000",
          "2015-09-01T00:00:00.000000000",
          "2015-10-01T00:00:00.000000000",
          "2015-11-01T00:00:00.000000000",
          "2015-12-01T00:00:00.000000000",
          "2016-01-01T00:00:00.000000000",
          "2016-02-01T00:00:00.000000000",
          "2016-03-01T00:00:00.000000000",
          "2016-04-01T00:00:00.000000000",
          "2016-05-01T00:00:00.000000000",
          "2016-06-01T00:00:00.000000000",
          "2016-07-01T00:00:00.000000000",
          "2016-08-01T00:00:00.000000000",
          "2016-09-01T00:00:00.000000000",
          "2016-10-01T00:00:00.000000000",
          "2016-11-01T00:00:00.000000000",
          "2016-12-01T00:00:00.000000000",
          "2017-01-01T00:00:00.000000000",
          "2017-02-01T00:00:00.000000000",
          "2017-03-01T00:00:00.000000000",
          "2017-04-01T00:00:00.000000000",
          "2017-05-01T00:00:00.000000000",
          "2017-06-01T00:00:00.000000000",
          "2017-07-01T00:00:00.000000000",
          "2017-08-01T00:00:00.000000000",
          "2017-09-01T00:00:00.000000000",
          "2017-10-01T00:00:00.000000000",
          "2017-11-01T00:00:00.000000000",
          "2017-12-01T00:00:00.000000000",
          "2018-01-01T00:00:00.000000000",
          "2018-02-01T00:00:00.000000000",
          "2018-03-01T00:00:00.000000000",
          "2018-04-01T00:00:00.000000000",
          "2018-05-01T00:00:00.000000000",
          "2018-06-01T00:00:00.000000000",
          "2018-07-01T00:00:00.000000000",
          "2018-08-01T00:00:00.000000000",
          "2018-09-01T00:00:00.000000000",
          "2018-10-01T00:00:00.000000000",
          "2018-11-01T00:00:00.000000000",
          "2018-12-01T00:00:00.000000000",
          "2019-01-01T00:00:00.000000000",
          "2019-02-01T00:00:00.000000000",
          "2019-03-01T00:00:00.000000000",
          "2019-04-01T00:00:00.000000000",
          "2019-05-01T00:00:00.000000000",
          "2019-06-01T00:00:00.000000000",
          "2019-07-01T00:00:00.000000000",
          "2019-08-01T00:00:00.000000000",
          "2019-09-01T00:00:00.000000000",
          "2019-10-01T00:00:00.000000000",
          "2019-11-01T00:00:00.000000000",
          "2019-12-01T00:00:00.000000000",
          "2020-01-01T00:00:00.000000000",
          "2020-02-01T00:00:00.000000000",
          "2020-03-01T00:00:00.000000000",
          "2020-04-01T00:00:00.000000000",
          "2020-05-01T00:00:00.000000000",
          "2020-06-01T00:00:00.000000000",
          "2020-07-01T00:00:00.000000000",
          "2020-08-01T00:00:00.000000000",
          "2020-09-01T00:00:00.000000000",
          "2020-10-01T00:00:00.000000000",
          "2020-11-01T00:00:00.000000000",
          "2020-12-01T00:00:00.000000000",
          "2021-01-01T00:00:00.000000000",
          "2021-02-01T00:00:00.000000000",
          "2021-03-01T00:00:00.000000000",
          "2021-04-01T00:00:00.000000000",
          "2021-05-01T00:00:00.000000000",
          "2021-06-01T00:00:00.000000000",
          "2021-07-01T00:00:00.000000000",
          "2021-08-01T00:00:00.000000000",
          "2021-09-01T00:00:00.000000000",
          "2021-10-01T00:00:00.000000000",
          "2021-11-01T00:00:00.000000000",
          "2021-12-01T00:00:00.000000000",
          "2022-01-01T00:00:00.000000000",
          "2022-02-01T00:00:00.000000000",
          "2022-03-01T00:00:00.000000000",
          "2022-04-01T00:00:00.000000000",
          "2022-05-01T00:00:00.000000000",
          "2022-06-01T00:00:00.000000000",
          "2022-07-01T00:00:00.000000000",
          "2022-08-01T00:00:00.000000000",
          "2022-09-01T00:00:00.000000000",
          "2022-10-01T00:00:00.000000000",
          "2022-11-01T00:00:00.000000000",
          "2022-12-01T00:00:00.000000000",
          "2023-01-01T00:00:00.000000000",
          "2023-02-01T00:00:00.000000000",
          "2023-03-01T00:00:00.000000000",
          "2023-04-01T00:00:00.000000000",
          "2023-05-01T00:00:00.000000000",
          "2023-06-01T00:00:00.000000000",
          "2023-07-01T00:00:00.000000000",
          "2023-08-01T00:00:00.000000000",
          "2023-09-01T00:00:00.000000000",
          "2023-10-01T00:00:00.000000000",
          "2023-11-01T00:00:00.000000000",
          "2023-12-01T00:00:00.000000000",
          "2024-01-01T00:00:00.000000000",
          "2024-02-01T00:00:00.000000000",
          "2024-03-01T00:00:00.000000000",
          "2024-04-01T00:00:00.000000000",
          "2024-05-01T00:00:00.000000000",
          "2024-06-01T00:00:00.000000000",
          "2024-07-01T00:00:00.000000000",
          "2024-08-01T00:00:00.000000000",
          "2024-09-01T00:00:00.000000000",
          "2024-10-01T00:00:00.000000000",
          "2024-11-01T00:00:00.000000000",
          "2024-12-01T00:00:00.000000000"
         ],
         "xaxis": "x",
         "y": {
          "bdata": "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",
          "dtype": "f8"
         },
         "yaxis": "y"
        },
        {
         "hovertemplate": "period=%{x}<br>count=%{y}<extra></extra>",
         "legendgroup": "",
         "marker": {
          "color": "#636efa",
          "symbol": "circle"
         },
         "mode": "markers",
         "name": "",
         "orientation": "v",
         "showlegend": false,
         "type": "scatter",
         "x": [
          "1994-01-01T00:00:00.000000000",
          "1994-02-01T00:00:00.000000000",
          "1994-03-01T00:00:00.000000000",
          "1994-04-01T00:00:00.000000000",
          "1994-05-01T00:00:00.000000000",
          "1994-06-01T00:00:00.000000000",
          "1994-07-01T00:00:00.000000000",
          "1994-08-01T00:00:00.000000000",
          "1994-09-01T00:00:00.000000000",
          "1994-10-01T00:00:00.000000000",
          "1994-11-01T00:00:00.000000000",
          "1994-12-01T00:00:00.000000000",
          "1995-01-01T00:00:00.000000000",
          "1995-02-01T00:00:00.000000000",
          "1995-03-01T00:00:00.000000000",
          "1995-04-01T00:00:00.000000000",
          "1995-05-01T00:00:00.000000000",
          "1995-06-01T00:00:00.000000000",
          "1995-07-01T00:00:00.000000000",
          "1995-08-01T00:00:00.000000000",
          "1995-09-01T00:00:00.000000000",
          "1995-10-01T00:00:00.000000000",
          "1995-11-01T00:00:00.000000000",
          "1995-12-01T00:00:00.000000000",
          "1996-01-01T00:00:00.000000000",
          "1996-02-01T00:00:00.000000000",
          "1996-03-01T00:00:00.000000000",
          "1996-04-01T00:00:00.000000000",
          "1996-05-01T00:00:00.000000000",
          "1996-06-01T00:00:00.000000000",
          "1996-07-01T00:00:00.000000000",
          "1996-08-01T00:00:00.000000000",
          "1996-09-01T00:00:00.000000000",
          "1996-10-01T00:00:00.000000000",
          "1996-11-01T00:00:00.000000000",
          "1996-12-01T00:00:00.000000000",
          "1997-01-01T00:00:00.000000000",
          "1997-02-01T00:00:00.000000000",
          "1997-03-01T00:00:00.000000000",
          "1997-04-01T00:00:00.000000000",
          "1997-05-01T00:00:00.000000000",
          "1997-06-01T00:00:00.000000000",
          "1997-07-01T00:00:00.000000000",
          "1997-08-01T00:00:00.000000000",
          "1997-09-01T00:00:00.000000000",
          "1997-10-01T00:00:00.000000000",
          "1997-11-01T00:00:00.000000000",
          "1997-12-01T00:00:00.000000000",
          "1998-01-01T00:00:00.000000000",
          "1998-02-01T00:00:00.000000000",
          "1998-03-01T00:00:00.000000000",
          "1998-04-01T00:00:00.000000000",
          "1998-05-01T00:00:00.000000000",
          "1998-06-01T00:00:00.000000000",
          "1998-07-01T00:00:00.000000000",
          "1998-08-01T00:00:00.000000000",
          "1998-09-01T00:00:00.000000000",
          "1998-10-01T00:00:00.000000000",
          "1998-11-01T00:00:00.000000000",
          "1998-12-01T00:00:00.000000000",
          "1999-01-01T00:00:00.000000000",
          "1999-02-01T00:00:00.000000000",
          "1999-03-01T00:00:00.000000000",
          "1999-04-01T00:00:00.000000000",
          "1999-05-01T00:00:00.000000000",
          "1999-06-01T00:00:00.000000000",
          "1999-07-01T00:00:00.000000000",
          "1999-08-01T00:00:00.000000000",
          "1999-09-01T00:00:00.000000000",
          "1999-10-01T00:00:00.000000000",
          "1999-11-01T00:00:00.000000000",
          "1999-12-01T00:00:00.000000000",
          "2000-01-01T00:00:00.000000000",
          "2000-02-01T00:00:00.000000000",
          "2000-03-01T00:00:00.000000000",
          "2000-04-01T00:00:00.000000000",
          "2000-05-01T00:00:00.000000000",
          "2000-06-01T00:00:00.000000000",
          "2000-07-01T00:00:00.000000000",
          "2000-08-01T00:00:00.000000000",
          "2000-09-01T00:00:00.000000000",
          "2000-10-01T00:00:00.000000000",
          "2000-11-01T00:00:00.000000000",
          "2000-12-01T00:00:00.000000000",
          "2001-01-01T00:00:00.000000000",
          "2001-02-01T00:00:00.000000000",
          "2001-03-01T00:00:00.000000000",
          "2001-04-01T00:00:00.000000000",
          "2001-05-01T00:00:00.000000000",
          "2001-06-01T00:00:00.000000000",
          "2001-07-01T00:00:00.000000000",
          "2001-08-01T00:00:00.000000000",
          "2001-09-01T00:00:00.000000000",
          "2001-10-01T00:00:00.000000000",
          "2001-11-01T00:00:00.000000000",
          "2001-12-01T00:00:00.000000000",
          "2002-01-01T00:00:00.000000000",
          "2002-02-01T00:00:00.000000000",
          "2002-03-01T00:00:00.000000000",
          "2002-04-01T00:00:00.000000000",
          "2002-05-01T00:00:00.000000000",
          "2002-06-01T00:00:00.000000000",
          "2002-07-01T00:00:00.000000000",
          "2002-08-01T00:00:00.000000000",
          "2002-09-01T00:00:00.000000000",
          "2002-10-01T00:00:00.000000000",
          "2002-11-01T00:00:00.000000000",
          "2002-12-01T00:00:00.000000000",
          "2003-01-01T00:00:00.000000000",
          "2003-02-01T00:00:00.000000000",
          "2003-03-01T00:00:00.000000000",
          "2003-04-01T00:00:00.000000000",
          "2003-05-01T00:00:00.000000000",
          "2003-06-01T00:00:00.000000000",
          "2003-07-01T00:00:00.000000000",
          "2003-08-01T00:00:00.000000000",
          "2003-09-01T00:00:00.000000000",
          "2003-10-01T00:00:00.000000000",
          "2003-11-01T00:00:00.000000000",
          "2003-12-01T00:00:00.000000000",
          "2004-01-01T00:00:00.000000000",
          "2004-02-01T00:00:00.000000000",
          "2004-03-01T00:00:00.000000000",
          "2004-04-01T00:00:00.000000000",
          "2004-05-01T00:00:00.000000000",
          "2004-06-01T00:00:00.000000000",
          "2004-07-01T00:00:00.000000000",
          "2004-08-01T00:00:00.000000000",
          "2004-09-01T00:00:00.000000000",
          "2004-10-01T00:00:00.000000000",
          "2004-11-01T00:00:00.000000000",
          "2004-12-01T00:00:00.000000000",
          "2005-01-01T00:00:00.000000000",
          "2005-02-01T00:00:00.000000000",
          "2005-03-01T00:00:00.000000000",
          "2005-04-01T00:00:00.000000000",
          "2005-05-01T00:00:00.000000000",
          "2005-06-01T00:00:00.000000000",
          "2005-07-01T00:00:00.000000000",
          "2005-08-01T00:00:00.000000000",
          "2005-09-01T00:00:00.000000000",
          "2005-10-01T00:00:00.000000000",
          "2005-11-01T00:00:00.000000000",
          "2005-12-01T00:00:00.000000000",
          "2006-01-01T00:00:00.000000000",
          "2006-02-01T00:00:00.000000000",
          "2006-03-01T00:00:00.000000000",
          "2006-04-01T00:00:00.000000000",
          "2006-05-01T00:00:00.000000000",
          "2006-06-01T00:00:00.000000000",
          "2006-07-01T00:00:00.000000000",
          "2006-08-01T00:00:00.000000000",
          "2006-09-01T00:00:00.000000000",
          "2006-10-01T00:00:00.000000000",
          "2006-11-01T00:00:00.000000000",
          "2006-12-01T00:00:00.000000000",
          "2007-01-01T00:00:00.000000000",
          "2007-02-01T00:00:00.000000000",
          "2007-03-01T00:00:00.000000000",
          "2007-04-01T00:00:00.000000000",
          "2007-05-01T00:00:00.000000000",
          "2007-06-01T00:00:00.000000000",
          "2007-07-01T00:00:00.000000000",
          "2007-08-01T00:00:00.000000000",
          "2007-09-01T00:00:00.000000000",
          "2007-10-01T00:00:00.000000000",
          "2007-11-01T00:00:00.000000000",
          "2007-12-01T00:00:00.000000000",
          "2008-01-01T00:00:00.000000000",
          "2008-02-01T00:00:00.000000000",
          "2008-03-01T00:00:00.000000000",
          "2008-04-01T00:00:00.000000000",
          "2008-05-01T00:00:00.000000000",
          "2008-06-01T00:00:00.000000000",
          "2008-07-01T00:00:00.000000000",
          "2008-08-01T00:00:00.000000000",
          "2008-09-01T00:00:00.000000000",
          "2008-10-01T00:00:00.000000000",
          "2008-11-01T00:00:00.000000000",
          "2008-12-01T00:00:00.000000000",
          "2009-01-01T00:00:00.000000000",
          "2009-02-01T00:00:00.000000000",
          "2009-03-01T00:00:00.000000000",
          "2009-04-01T00:00:00.000000000",
          "2009-05-01T00:00:00.000000000",
          "2009-06-01T00:00:00.000000000",
          "2009-07-01T00:00:00.000000000",
          "2009-08-01T00:00:00.000000000",
          "2009-09-01T00:00:00.000000000",
          "2009-10-01T00:00:00.000000000",
          "2009-11-01T00:00:00.000000000",
          "2009-12-01T00:00:00.000000000",
          "2010-01-01T00:00:00.000000000",
          "2010-02-01T00:00:00.000000000",
          "2010-03-01T00:00:00.000000000",
          "2010-04-01T00:00:00.000000000",
          "2010-05-01T00:00:00.000000000",
          "2010-06-01T00:00:00.000000000",
          "2010-07-01T00:00:00.000000000",
          "2010-08-01T00:00:00.000000000",
          "2010-09-01T00:00:00.000000000",
          "2010-10-01T00:00:00.000000000",
          "2010-11-01T00:00:00.000000000",
          "2010-12-01T00:00:00.000000000",
          "2011-01-01T00:00:00.000000000",
          "2011-02-01T00:00:00.000000000",
          "2011-03-01T00:00:00.000000000",
          "2011-04-01T00:00:00.000000000",
          "2011-05-01T00:00:00.000000000",
          "2011-06-01T00:00:00.000000000",
          "2011-07-01T00:00:00.000000000",
          "2011-08-01T00:00:00.000000000",
          "2011-09-01T00:00:00.000000000",
          "2011-10-01T00:00:00.000000000",
          "2011-11-01T00:00:00.000000000",
          "2011-12-01T00:00:00.000000000",
          "2012-01-01T00:00:00.000000000",
          "2012-02-01T00:00:00.000000000",
          "2012-03-01T00:00:00.000000000",
          "2012-04-01T00:00:00.000000000",
          "2012-05-01T00:00:00.000000000",
          "2012-06-01T00:00:00.000000000",
          "2012-07-01T00:00:00.000000000",
          "2012-08-01T00:00:00.000000000",
          "2012-09-01T00:00:00.000000000",
          "2012-10-01T00:00:00.000000000",
          "2012-11-01T00:00:00.000000000",
          "2012-12-01T00:00:00.000000000",
          "2013-01-01T00:00:00.000000000",
          "2013-02-01T00:00:00.000000000",
          "2013-03-01T00:00:00.000000000",
          "2013-04-01T00:00:00.000000000",
          "2013-05-01T00:00:00.000000000",
          "2013-06-01T00:00:00.000000000",
          "2013-07-01T00:00:00.000000000",
          "2013-08-01T00:00:00.000000000",
          "2013-09-01T00:00:00.000000000",
          "2013-10-01T00:00:00.000000000",
          "2013-11-01T00:00:00.000000000",
          "2013-12-01T00:00:00.000000000",
          "2014-01-01T00:00:00.000000000",
          "2014-02-01T00:00:00.000000000",
          "2014-03-01T00:00:00.000000000",
          "2014-04-01T00:00:00.000000000",
          "2014-05-01T00:00:00.000000000",
          "2014-06-01T00:00:00.000000000",
          "2014-07-01T00:00:00.000000000",
          "2014-08-01T00:00:00.000000000",
          "2014-09-01T00:00:00.000000000",
          "2014-10-01T00:00:00.000000000",
          "2014-11-01T00:00:00.000000000",
          "2014-12-01T00:00:00.000000000",
          "2015-01-01T00:00:00.000000000",
          "2015-02-01T00:00:00.000000000",
          "2015-03-01T00:00:00.000000000",
          "2015-04-01T00:00:00.000000000",
          "2015-05-01T00:00:00.000000000",
          "2015-06-01T00:00:00.000000000",
          "2015-07-01T00:00:00.000000000",
          "2015-08-01T00:00:00.000000000",
          "2015-09-01T00:00:00.000000000",
          "2015-10-01T00:00:00.000000000",
          "2015-11-01T00:00:00.000000000",
          "2015-12-01T00:00:00.000000000",
          "2016-01-01T00:00:00.000000000",
          "2016-02-01T00:00:00.000000000",
          "2016-03-01T00:00:00.000000000",
          "2016-04-01T00:00:00.000000000",
          "2016-05-01T00:00:00.000000000",
          "2016-06-01T00:00:00.000000000",
          "2016-07-01T00:00:00.000000000",
          "2016-08-01T00:00:00.000000000",
          "2016-09-01T00:00:00.000000000",
          "2016-10-01T00:00:00.000000000",
          "2016-11-01T00:00:00.000000000",
          "2016-12-01T00:00:00.000000000",
          "2017-01-01T00:00:00.000000000",
          "2017-02-01T00:00:00.000000000",
          "2017-03-01T00:00:00.000000000",
          "2017-04-01T00:00:00.000000000",
          "2017-05-01T00:00:00.000000000",
          "2017-06-01T00:00:00.000000000",
          "2017-07-01T00:00:00.000000000",
          "2017-08-01T00:00:00.000000000",
          "2017-09-01T00:00:00.000000000",
          "2017-10-01T00:00:00.000000000",
          "2017-11-01T00:00:00.000000000",
          "2017-12-01T00:00:00.000000000",
          "2018-01-01T00:00:00.000000000",
          "2018-02-01T00:00:00.000000000",
          "2018-03-01T00:00:00.000000000",
          "2018-04-01T00:00:00.000000000",
          "2018-05-01T00:00:00.000000000",
          "2018-06-01T00:00:00.000000000",
          "2018-07-01T00:00:00.000000000",
          "2018-08-01T00:00:00.000000000",
          "2018-09-01T00:00:00.000000000",
          "2018-10-01T00:00:00.000000000",
          "2018-11-01T00:00:00.000000000",
          "2018-12-01T00:00:00.000000000",
          "2019-01-01T00:00:00.000000000",
          "2019-02-01T00:00:00.000000000",
          "2019-03-01T00:00:00.000000000",
          "2019-04-01T00:00:00.000000000",
          "2019-05-01T00:00:00.000000000",
          "2019-06-01T00:00:00.000000000",
          "2019-07-01T00:00:00.000000000",
          "2019-08-01T00:00:00.000000000",
          "2019-09-01T00:00:00.000000000",
          "2019-10-01T00:00:00.000000000",
          "2019-11-01T00:00:00.000000000",
          "2019-12-01T00:00:00.000000000",
          "2020-01-01T00:00:00.000000000",
          "2020-02-01T00:00:00.000000000",
          "2020-03-01T00:00:00.000000000",
          "2020-04-01T00:00:00.000000000",
          "2020-05-01T00:00:00.000000000",
          "2020-06-01T00:00:00.000000000",
          "2020-07-01T00:00:00.000000000",
          "2020-08-01T00:00:00.000000000",
          "2020-09-01T00:00:00.000000000",
          "2020-10-01T00:00:00.000000000",
          "2020-11-01T00:00:00.000000000",
          "2020-12-01T00:00:00.000000000",
          "2021-01-01T00:00:00.000000000",
          "2021-02-01T00:00:00.000000000",
          "2021-03-01T00:00:00.000000000",
          "2021-04-01T00:00:00.000000000",
          "2021-05-01T00:00:00.000000000",
          "2021-06-01T00:00:00.000000000",
          "2021-07-01T00:00:00.000000000",
          "2021-08-01T00:00:00.000000000",
          "2021-09-01T00:00:00.000000000",
          "2021-10-01T00:00:00.000000000",
          "2021-11-01T00:00:00.000000000",
          "2021-12-01T00:00:00.000000000",
          "2022-01-01T00:00:00.000000000",
          "2022-02-01T00:00:00.000000000",
          "2022-03-01T00:00:00.000000000",
          "2022-04-01T00:00:00.000000000",
          "2022-05-01T00:00:00.000000000",
          "2022-06-01T00:00:00.000000000",
          "2022-07-01T00:00:00.000000000",
          "2022-08-01T00:00:00.000000000",
          "2022-09-01T00:00:00.000000000",
          "2022-10-01T00:00:00.000000000",
          "2022-11-01T00:00:00.000000000",
          "2022-12-01T00:00:00.000000000",
          "2023-01-01T00:00:00.000000000",
          "2023-02-01T00:00:00.000000000",
          "2023-03-01T00:00:00.000000000",
          "2023-04-01T00:00:00.000000000",
          "2023-05-01T00:00:00.000000000",
          "2023-06-01T00:00:00.000000000",
          "2023-07-01T00:00:00.000000000",
          "2023-08-01T00:00:00.000000000",
          "2023-09-01T00:00:00.000000000",
          "2023-10-01T00:00:00.000000000",
          "2023-11-01T00:00:00.000000000",
          "2023-12-01T00:00:00.000000000",
          "2024-01-01T00:00:00.000000000",
          "2024-02-01T00:00:00.000000000",
          "2024-03-01T00:00:00.000000000",
          "2024-04-01T00:00:00.000000000",
          "2024-05-01T00:00:00.000000000",
          "2024-06-01T00:00:00.000000000",
          "2024-07-01T00:00:00.000000000",
          "2024-08-01T00:00:00.000000000",
          "2024-09-01T00:00:00.000000000",
          "2024-10-01T00:00:00.000000000",
          "2024-11-01T00:00:00.000000000",
          "2024-12-01T00:00:00.000000000"
         ],
         "xaxis": "x2",
         "y": {
          "bdata": "EgAeAB4AJAA2AEIANwAsACUANQBNADQAMgA/AD8ASwBaAEAAPAAuAC0ANQAvADsAMgA0ADQAUwBoAEsAVQA8ADQAOgA2AEcAUwA8AEMAOAA7AFAARwA3AEwAQwBBAFoAOQAzAEIAQgBEAF4ATgBJAHYARwBJAFMAQgBPAFYATgBnAFoAbQBDAEYAVQBaAGMASABZAJkAWQB2AHEAaQBuAG0AcQBvAFsAXABuAGQAYgCEAGsAXABXAF8AgQB1AIcAbAB1AHIAhwCgAHkAkgBaAHkAkACcAKEAfwB4AI0AsAC3AJIAmgB8AKIAhgCgAKgAcgCfAKYAuQD2AOMAtQCmALwADAHMAPEAygCvAFwBxwAGAeAA5QDyAPgA4wAhAesAKwH+ADQB+wAYAScBNgE0AVUBYgFsAUcBPQFlAVwBNAFsAUMBjAGOAXsBogGKAbYBnwGjAa0ByQG0AZwBlQEpAb0BvwGIAb0BnQHkAQECuAGSAfYBAgLYAS8CJAI2AjgCKAL8AWQCgAI9Ak8CEQIBAocCmwKBAnsCEQKdAvkCrwLmAjADyQKfAhkDKAMiAyMD5gKEA6oDbANlA7MELATlAkkDUQTNA7cDvQR7BIwF5gOPA8kDDwRaA1wETAQiBN4EwARKBGwEiASKBI4EcAT9A00E6wTnBH8FcwT+BJUFGQU3BS0GnwXnBPUFuQXBBpUFIQUnBhMHcAZBB1YHUwZTBk8HmweYCJIHXAZlB0MJQwhCCdgIJAmHCK8JPQkoC68IOAjaCs0L+woADeMLtAuQCrsMnQ2sDk4MsgtUDP8NCRClEecQrA81DgMSwxIQEqwPoA0BEsgSBBQrE/QXvhXhEfkSHBprFWkVFhFiE8sXkxY5Ff8Z0xTGEvgWsRlAFUEV+xEcFQUbJRacGEwYzBYcFDoXWR7WGnIVtRLaF6secxihI6sdWxpHG9AdzyNyH8UehRv2I3YmHCFUJVgn+SN0HrEjlyQVI3Ap",
          "dtype": "i2"
         },
         "yaxis": "y2"
        },
        {
         "hovertemplate": "<b>OLS trendline</b><br>log10(count) = 2.50403e-09 * period + -0.38432<br>R<sup>2</sup>=0.985285<br><br>period=%{x}<br>count=%{y} <b>(trend)</b><extra></extra>",
         "legendgroup": "",
         "line": {
          "color": "red"
         },
         "marker": {
          "color": "#636efa",
          "symbol": "circle"
         },
         "mode": "lines",
         "name": "",
         "showlegend": false,
         "type": "scatter",
         "x": [
          "1994-01-01T00:00:00.000000000",
          "1994-02-01T00:00:00.000000000",
          "1994-03-01T00:00:00.000000000",
          "1994-04-01T00:00:00.000000000",
          "1994-05-01T00:00:00.000000000",
          "1994-06-01T00:00:00.000000000",
          "1994-07-01T00:00:00.000000000",
          "1994-08-01T00:00:00.000000000",
          "1994-09-01T00:00:00.000000000",
          "1994-10-01T00:00:00.000000000",
          "1994-11-01T00:00:00.000000000",
          "1994-12-01T00:00:00.000000000",
          "1995-01-01T00:00:00.000000000",
          "1995-02-01T00:00:00.000000000",
          "1995-03-01T00:00:00.000000000",
          "1995-04-01T00:00:00.000000000",
          "1995-05-01T00:00:00.000000000",
          "1995-06-01T00:00:00.000000000",
          "1995-07-01T00:00:00.000000000",
          "1995-08-01T00:00:00.000000000",
          "1995-09-01T00:00:00.000000000",
          "1995-10-01T00:00:00.000000000",
          "1995-11-01T00:00:00.000000000",
          "1995-12-01T00:00:00.000000000",
          "1996-01-01T00:00:00.000000000",
          "1996-02-01T00:00:00.000000000",
          "1996-03-01T00:00:00.000000000",
          "1996-04-01T00:00:00.000000000",
          "1996-05-01T00:00:00.000000000",
          "1996-06-01T00:00:00.000000000",
          "1996-07-01T00:00:00.000000000",
          "1996-08-01T00:00:00.000000000",
          "1996-09-01T00:00:00.000000000",
          "1996-10-01T00:00:00.000000000",
          "1996-11-01T00:00:00.000000000",
          "1996-12-01T00:00:00.000000000",
          "1997-01-01T00:00:00.000000000",
          "1997-02-01T00:00:00.000000000",
          "1997-03-01T00:00:00.000000000",
          "1997-04-01T00:00:00.000000000",
          "1997-05-01T00:00:00.000000000",
          "1997-06-01T00:00:00.000000000",
          "1997-07-01T00:00:00.000000000",
          "1997-08-01T00:00:00.000000000",
          "1997-09-01T00:00:00.000000000",
          "1997-10-01T00:00:00.000000000",
          "1997-11-01T00:00:00.000000000",
          "1997-12-01T00:00:00.000000000",
          "1998-01-01T00:00:00.000000000",
          "1998-02-01T00:00:00.000000000",
          "1998-03-01T00:00:00.000000000",
          "1998-04-01T00:00:00.000000000",
          "1998-05-01T00:00:00.000000000",
          "1998-06-01T00:00:00.000000000",
          "1998-07-01T00:00:00.000000000",
          "1998-08-01T00:00:00.000000000",
          "1998-09-01T00:00:00.000000000",
          "1998-10-01T00:00:00.000000000",
          "1998-11-01T00:00:00.000000000",
          "1998-12-01T00:00:00.000000000",
          "1999-01-01T00:00:00.000000000",
          "1999-02-01T00:00:00.000000000",
          "1999-03-01T00:00:00.000000000",
          "1999-04-01T00:00:00.000000000",
          "1999-05-01T00:00:00.000000000",
          "1999-06-01T00:00:00.000000000",
          "1999-07-01T00:00:00.000000000",
          "1999-08-01T00:00:00.000000000",
          "1999-09-01T00:00:00.000000000",
          "1999-10-01T00:00:00.000000000",
          "1999-11-01T00:00:00.000000000",
          "1999-12-01T00:00:00.000000000",
          "2000-01-01T00:00:00.000000000",
          "2000-02-01T00:00:00.000000000",
          "2000-03-01T00:00:00.000000000",
          "2000-04-01T00:00:00.000000000",
          "2000-05-01T00:00:00.000000000",
          "2000-06-01T00:00:00.000000000",
          "2000-07-01T00:00:00.000000000",
          "2000-08-01T00:00:00.000000000",
          "2000-09-01T00:00:00.000000000",
          "2000-10-01T00:00:00.000000000",
          "2000-11-01T00:00:00.000000000",
          "2000-12-01T00:00:00.000000000",
          "2001-01-01T00:00:00.000000000",
          "2001-02-01T00:00:00.000000000",
          "2001-03-01T00:00:00.000000000",
          "2001-04-01T00:00:00.000000000",
          "2001-05-01T00:00:00.000000000",
          "2001-06-01T00:00:00.000000000",
          "2001-07-01T00:00:00.000000000",
          "2001-08-01T00:00:00.000000000",
          "2001-09-01T00:00:00.000000000",
          "2001-10-01T00:00:00.000000000",
          "2001-11-01T00:00:00.000000000",
          "2001-12-01T00:00:00.000000000",
          "2002-01-01T00:00:00.000000000",
          "2002-02-01T00:00:00.000000000",
          "2002-03-01T00:00:00.000000000",
          "2002-04-01T00:00:00.000000000",
          "2002-05-01T00:00:00.000000000",
          "2002-06-01T00:00:00.000000000",
          "2002-07-01T00:00:00.000000000",
          "2002-08-01T00:00:00.000000000",
          "2002-09-01T00:00:00.000000000",
          "2002-10-01T00:00:00.000000000",
          "2002-11-01T00:00:00.000000000",
          "2002-12-01T00:00:00.000000000",
          "2003-01-01T00:00:00.000000000",
          "2003-02-01T00:00:00.000000000",
          "2003-03-01T00:00:00.000000000",
          "2003-04-01T00:00:00.000000000",
          "2003-05-01T00:00:00.000000000",
          "2003-06-01T00:00:00.000000000",
          "2003-07-01T00:00:00.000000000",
          "2003-08-01T00:00:00.000000000",
          "2003-09-01T00:00:00.000000000",
          "2003-10-01T00:00:00.000000000",
          "2003-11-01T00:00:00.000000000",
          "2003-12-01T00:00:00.000000000",
          "2004-01-01T00:00:00.000000000",
          "2004-02-01T00:00:00.000000000",
          "2004-03-01T00:00:00.000000000",
          "2004-04-01T00:00:00.000000000",
          "2004-05-01T00:00:00.000000000",
          "2004-06-01T00:00:00.000000000",
          "2004-07-01T00:00:00.000000000",
          "2004-08-01T00:00:00.000000000",
          "2004-09-01T00:00:00.000000000",
          "2004-10-01T00:00:00.000000000",
          "2004-11-01T00:00:00.000000000",
          "2004-12-01T00:00:00.000000000",
          "2005-01-01T00:00:00.000000000",
          "2005-02-01T00:00:00.000000000",
          "2005-03-01T00:00:00.000000000",
          "2005-04-01T00:00:00.000000000",
          "2005-05-01T00:00:00.000000000",
          "2005-06-01T00:00:00.000000000",
          "2005-07-01T00:00:00.000000000",
          "2005-08-01T00:00:00.000000000",
          "2005-09-01T00:00:00.000000000",
          "2005-10-01T00:00:00.000000000",
          "2005-11-01T00:00:00.000000000",
          "2005-12-01T00:00:00.000000000",
          "2006-01-01T00:00:00.000000000",
          "2006-02-01T00:00:00.000000000",
          "2006-03-01T00:00:00.000000000",
          "2006-04-01T00:00:00.000000000",
          "2006-05-01T00:00:00.000000000",
          "2006-06-01T00:00:00.000000000",
          "2006-07-01T00:00:00.000000000",
          "2006-08-01T00:00:00.000000000",
          "2006-09-01T00:00:00.000000000",
          "2006-10-01T00:00:00.000000000",
          "2006-11-01T00:00:00.000000000",
          "2006-12-01T00:00:00.000000000",
          "2007-01-01T00:00:00.000000000",
          "2007-02-01T00:00:00.000000000",
          "2007-03-01T00:00:00.000000000",
          "2007-04-01T00:00:00.000000000",
          "2007-05-01T00:00:00.000000000",
          "2007-06-01T00:00:00.000000000",
          "2007-07-01T00:00:00.000000000",
          "2007-08-01T00:00:00.000000000",
          "2007-09-01T00:00:00.000000000",
          "2007-10-01T00:00:00.000000000",
          "2007-11-01T00:00:00.000000000",
          "2007-12-01T00:00:00.000000000",
          "2008-01-01T00:00:00.000000000",
          "2008-02-01T00:00:00.000000000",
          "2008-03-01T00:00:00.000000000",
          "2008-04-01T00:00:00.000000000",
          "2008-05-01T00:00:00.000000000",
          "2008-06-01T00:00:00.000000000",
          "2008-07-01T00:00:00.000000000",
          "2008-08-01T00:00:00.000000000",
          "2008-09-01T00:00:00.000000000",
          "2008-10-01T00:00:00.000000000",
          "2008-11-01T00:00:00.000000000",
          "2008-12-01T00:00:00.000000000",
          "2009-01-01T00:00:00.000000000",
          "2009-02-01T00:00:00.000000000",
          "2009-03-01T00:00:00.000000000",
          "2009-04-01T00:00:00.000000000",
          "2009-05-01T00:00:00.000000000",
          "2009-06-01T00:00:00.000000000",
          "2009-07-01T00:00:00.000000000",
          "2009-08-01T00:00:00.000000000",
          "2009-09-01T00:00:00.000000000",
          "2009-10-01T00:00:00.000000000",
          "2009-11-01T00:00:00.000000000",
          "2009-12-01T00:00:00.000000000",
          "2010-01-01T00:00:00.000000000",
          "2010-02-01T00:00:00.000000000",
          "2010-03-01T00:00:00.000000000",
          "2010-04-01T00:00:00.000000000",
          "2010-05-01T00:00:00.000000000",
          "2010-06-01T00:00:00.000000000",
          "2010-07-01T00:00:00.000000000",
          "2010-08-01T00:00:00.000000000",
          "2010-09-01T00:00:00.000000000",
          "2010-10-01T00:00:00.000000000",
          "2010-11-01T00:00:00.000000000",
          "2010-12-01T00:00:00.000000000",
          "2011-01-01T00:00:00.000000000",
          "2011-02-01T00:00:00.000000000",
          "2011-03-01T00:00:00.000000000",
          "2011-04-01T00:00:00.000000000",
          "2011-05-01T00:00:00.000000000",
          "2011-06-01T00:00:00.000000000",
          "2011-07-01T00:00:00.000000000",
          "2011-08-01T00:00:00.000000000",
          "2011-09-01T00:00:00.000000000",
          "2011-10-01T00:00:00.000000000",
          "2011-11-01T00:00:00.000000000",
          "2011-12-01T00:00:00.000000000",
          "2012-01-01T00:00:00.000000000",
          "2012-02-01T00:00:00.000000000",
          "2012-03-01T00:00:00.000000000",
          "2012-04-01T00:00:00.000000000",
          "2012-05-01T00:00:00.000000000",
          "2012-06-01T00:00:00.000000000",
          "2012-07-01T00:00:00.000000000",
          "2012-08-01T00:00:00.000000000",
          "2012-09-01T00:00:00.000000000",
          "2012-10-01T00:00:00.000000000",
          "2012-11-01T00:00:00.000000000",
          "2012-12-01T00:00:00.000000000",
          "2013-01-01T00:00:00.000000000",
          "2013-02-01T00:00:00.000000000",
          "2013-03-01T00:00:00.000000000",
          "2013-04-01T00:00:00.000000000",
          "2013-05-01T00:00:00.000000000",
          "2013-06-01T00:00:00.000000000",
          "2013-07-01T00:00:00.000000000",
          "2013-08-01T00:00:00.000000000",
          "2013-09-01T00:00:00.000000000",
          "2013-10-01T00:00:00.000000000",
          "2013-11-01T00:00:00.000000000",
          "2013-12-01T00:00:00.000000000",
          "2014-01-01T00:00:00.000000000",
          "2014-02-01T00:00:00.000000000",
          "2014-03-01T00:00:00.000000000",
          "2014-04-01T00:00:00.000000000",
          "2014-05-01T00:00:00.000000000",
          "2014-06-01T00:00:00.000000000",
          "2014-07-01T00:00:00.000000000",
          "2014-08-01T00:00:00.000000000",
          "2014-09-01T00:00:00.000000000",
          "2014-10-01T00:00:00.000000000",
          "2014-11-01T00:00:00.000000000",
          "2014-12-01T00:00:00.000000000",
          "2015-01-01T00:00:00.000000000",
          "2015-02-01T00:00:00.000000000",
          "2015-03-01T00:00:00.000000000",
          "2015-04-01T00:00:00.000000000",
          "2015-05-01T00:00:00.000000000",
          "2015-06-01T00:00:00.000000000",
          "2015-07-01T00:00:00.000000000",
          "2015-08-01T00:00:00.000000000",
          "2015-09-01T00:00:00.000000000",
          "2015-10-01T00:00:00.000000000",
          "2015-11-01T00:00:00.000000000",
          "2015-12-01T00:00:00.000000000",
          "2016-01-01T00:00:00.000000000",
          "2016-02-01T00:00:00.000000000",
          "2016-03-01T00:00:00.000000000",
          "2016-04-01T00:00:00.000000000",
          "2016-05-01T00:00:00.000000000",
          "2016-06-01T00:00:00.000000000",
          "2016-07-01T00:00:00.000000000",
          "2016-08-01T00:00:00.000000000",
          "2016-09-01T00:00:00.000000000",
          "2016-10-01T00:00:00.000000000",
          "2016-11-01T00:00:00.000000000",
          "2016-12-01T00:00:00.000000000",
          "2017-01-01T00:00:00.000000000",
          "2017-02-01T00:00:00.000000000",
          "2017-03-01T00:00:00.000000000",
          "2017-04-01T00:00:00.000000000",
          "2017-05-01T00:00:00.000000000",
          "2017-06-01T00:00:00.000000000",
          "2017-07-01T00:00:00.000000000",
          "2017-08-01T00:00:00.000000000",
          "2017-09-01T00:00:00.000000000",
          "2017-10-01T00:00:00.000000000",
          "2017-11-01T00:00:00.000000000",
          "2017-12-01T00:00:00.000000000",
          "2018-01-01T00:00:00.000000000",
          "2018-02-01T00:00:00.000000000",
          "2018-03-01T00:00:00.000000000",
          "2018-04-01T00:00:00.000000000",
          "2018-05-01T00:00:00.000000000",
          "2018-06-01T00:00:00.000000000",
          "2018-07-01T00:00:00.000000000",
          "2018-08-01T00:00:00.000000000",
          "2018-09-01T00:00:00.000000000",
          "2018-10-01T00:00:00.000000000",
          "2018-11-01T00:00:00.000000000",
          "2018-12-01T00:00:00.000000000",
          "2019-01-01T00:00:00.000000000",
          "2019-02-01T00:00:00.000000000",
          "2019-03-01T00:00:00.000000000",
          "2019-04-01T00:00:00.000000000",
          "2019-05-01T00:00:00.000000000",
          "2019-06-01T00:00:00.000000000",
          "2019-07-01T00:00:00.000000000",
          "2019-08-01T00:00:00.000000000",
          "2019-09-01T00:00:00.000000000",
          "2019-10-01T00:00:00.000000000",
          "2019-11-01T00:00:00.000000000",
          "2019-12-01T00:00:00.000000000",
          "2020-01-01T00:00:00.000000000",
          "2020-02-01T00:00:00.000000000",
          "2020-03-01T00:00:00.000000000",
          "2020-04-01T00:00:00.000000000",
          "2020-05-01T00:00:00.000000000",
          "2020-06-01T00:00:00.000000000",
          "2020-07-01T00:00:00.000000000",
          "2020-08-01T00:00:00.000000000",
          "2020-09-01T00:00:00.000000000",
          "2020-10-01T00:00:00.000000000",
          "2020-11-01T00:00:00.000000000",
          "2020-12-01T00:00:00.000000000",
          "2021-01-01T00:00:00.000000000",
          "2021-02-01T00:00:00.000000000",
          "2021-03-01T00:00:00.000000000",
          "2021-04-01T00:00:00.000000000",
          "2021-05-01T00:00:00.000000000",
          "2021-06-01T00:00:00.000000000",
          "2021-07-01T00:00:00.000000000",
          "2021-08-01T00:00:00.000000000",
          "2021-09-01T00:00:00.000000000",
          "2021-10-01T00:00:00.000000000",
          "2021-11-01T00:00:00.000000000",
          "2021-12-01T00:00:00.000000000",
          "2022-01-01T00:00:00.000000000",
          "2022-02-01T00:00:00.000000000",
          "2022-03-01T00:00:00.000000000",
          "2022-04-01T00:00:00.000000000",
          "2022-05-01T00:00:00.000000000",
          "2022-06-01T00:00:00.000000000",
          "2022-07-01T00:00:00.000000000",
          "2022-08-01T00:00:00.000000000",
          "2022-09-01T00:00:00.000000000",
          "2022-10-01T00:00:00.000000000",
          "2022-11-01T00:00:00.000000000",
          "2022-12-01T00:00:00.000000000",
          "2023-01-01T00:00:00.000000000",
          "2023-02-01T00:00:00.000000000",
          "2023-03-01T00:00:00.000000000",
          "2023-04-01T00:00:00.000000000",
          "2023-05-01T00:00:00.000000000",
          "2023-06-01T00:00:00.000000000",
          "2023-07-01T00:00:00.000000000",
          "2023-08-01T00:00:00.000000000",
          "2023-09-01T00:00:00.000000000",
          "2023-10-01T00:00:00.000000000",
          "2023-11-01T00:00:00.000000000",
          "2023-12-01T00:00:00.000000000",
          "2024-01-01T00:00:00.000000000",
          "2024-02-01T00:00:00.000000000",
          "2024-03-01T00:00:00.000000000",
          "2024-04-01T00:00:00.000000000",
          "2024-05-01T00:00:00.000000000",
          "2024-06-01T00:00:00.000000000",
          "2024-07-01T00:00:00.000000000",
          "2024-08-01T00:00:00.000000000",
          "2024-09-01T00:00:00.000000000",
          "2024-10-01T00:00:00.000000000",
          "2024-11-01T00:00:00.000000000",
          "2024-12-01T00:00:00.000000000"
         ],
         "xaxis": "x2",
         "y": {
          "bdata": "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",
          "dtype": "f8"
         },
         "yaxis": "y2"
        }
       ],
       "layout": {
        "annotations": [
         {
          "font": {
           "size": 16
          },
          "showarrow": false,
          "text": "Linear Scale",
          "x": 0.225,
          "xanchor": "center",
          "xref": "paper",
          "y": 1,
          "yanchor": "bottom",
          "yref": "paper"
         },
         {
          "font": {
           "size": 16
          },
          "showarrow": false,
          "text": "Log Scale",
          "x": 0.775,
          "xanchor": "center",
          "xref": "paper",
          "y": 1,
          "yanchor": "bottom",
          "yref": "paper"
         }
        ],
        "template": {
         "data": {
          "bar": [
           {
            "error_x": {
             "color": "#2a3f5f"
            },
            "error_y": {
             "color": "#2a3f5f"
            },
            "marker": {
             "line": {
              "color": "white",
              "width": 0.5
             },
             "pattern": {
              "fillmode": "overlay",
              "size": 10,
              "solidity": 0.2
             }
            },
            "type": "bar"
           }
          ],
          "barpolar": [
           {
            "marker": {
             "line": {
              "color": "white",
              "width": 0.5
             },
             "pattern": {
              "fillmode": "overlay",
              "size": 10,
              "solidity": 0.2
             }
            },
            "type": "barpolar"
           }
          ],
          "carpet": [
           {
            "aaxis": {
             "endlinecolor": "#2a3f5f",
             "gridcolor": "#C8D4E3",
             "linecolor": "#C8D4E3",
             "minorgridcolor": "#C8D4E3",
             "startlinecolor": "#2a3f5f"
            },
            "baxis": {
             "endlinecolor": "#2a3f5f",
             "gridcolor": "#C8D4E3",
             "linecolor": "#C8D4E3",
             "minorgridcolor": "#C8D4E3",
             "startlinecolor": "#2a3f5f"
            },
            "type": "carpet"
           }
          ],
          "choropleth": [
           {
            "colorbar": {
             "outlinewidth": 0,
             "ticks": ""
            },
            "type": "choropleth"
           }
          ],
          "contour": [
           {
            "colorbar": {
             "outlinewidth": 0,
             "ticks": ""
            },
            "colorscale": [
             [
              0,
              "#0d0887"
             ],
             [
              0.1111111111111111,
              "#46039f"
             ],
             [
              0.2222222222222222,
              "#7201a8"
             ],
             [
              0.3333333333333333,
              "#9c179e"
             ],
             [
              0.4444444444444444,
              "#bd3786"
             ],
             [
              0.5555555555555556,
              "#d8576b"
             ],
             [
              0.6666666666666666,
              "#ed7953"
             ],
             [
              0.7777777777777778,
              "#fb9f3a"
             ],
             [
              0.8888888888888888,
              "#fdca26"
             ],
             [
              1,
              "#f0f921"
             ]
            ],
            "type": "contour"
           }
          ],
          "contourcarpet": [
           {
            "colorbar": {
             "outlinewidth": 0,
             "ticks": ""
            },
            "type": "contourcarpet"
           }
          ],
          "heatmap": [
           {
            "colorbar": {
             "outlinewidth": 0,
             "ticks": ""
            },
            "colorscale": [
             [
              0,
              "#0d0887"
             ],
             [
              0.1111111111111111,
              "#46039f"
             ],
             [
              0.2222222222222222,
              "#7201a8"
             ],
             [
              0.3333333333333333,
              "#9c179e"
             ],
             [
              0.4444444444444444,
              "#bd3786"
             ],
             [
              0.5555555555555556,
              "#d8576b"
             ],
             [
              0.6666666666666666,
              "#ed7953"
             ],
             [
              0.7777777777777778,
              "#fb9f3a"
             ],
             [
              0.8888888888888888,
              "#fdca26"
             ],
             [
              1,
              "#f0f921"
             ]
            ],
            "type": "heatmap"
           }
          ],
          "histogram": [
           {
            "marker": {
             "pattern": {
              "fillmode": "overlay",
              "size": 10,
              "solidity": 0.2
             }
            },
            "type": "histogram"
           }
          ],
          "histogram2d": [
           {
            "colorbar": {
             "outlinewidth": 0,
             "ticks": ""
            },
            "colorscale": [
             [
              0,
              "#0d0887"
             ],
             [
              0.1111111111111111,
              "#46039f"
             ],
             [
              0.2222222222222222,
              "#7201a8"
             ],
             [
              0.3333333333333333,
              "#9c179e"
             ],
             [
              0.4444444444444444,
              "#bd3786"
             ],
             [
              0.5555555555555556,
              "#d8576b"
             ],
             [
              0.6666666666666666,
              "#ed7953"
             ],
             [
              0.7777777777777778,
              "#fb9f3a"
             ],
             [
              0.8888888888888888,
              "#fdca26"
             ],
             [
              1,
              "#f0f921"
             ]
            ],
            "type": "histogram2d"
           }
          ],
          "histogram2dcontour": [
           {
            "colorbar": {
             "outlinewidth": 0,
             "ticks": ""
            },
            "colorscale": [
             [
              0,
              "#0d0887"
             ],
             [
              0.1111111111111111,
              "#46039f"
             ],
             [
              0.2222222222222222,
              "#7201a8"
             ],
             [
              0.3333333333333333,
              "#9c179e"
             ],
             [
              0.4444444444444444,
              "#bd3786"
             ],
             [
              0.5555555555555556,
              "#d8576b"
             ],
             [
              0.6666666666666666,
              "#ed7953"
             ],
             [
              0.7777777777777778,
              "#fb9f3a"
             ],
             [
              0.8888888888888888,
              "#fdca26"
             ],
             [
              1,
              "#f0f921"
             ]
            ],
            "type": "histogram2dcontour"
           }
          ],
          "mesh3d": [
           {
            "colorbar": {
             "outlinewidth": 0,
             "ticks": ""
            },
            "type": "mesh3d"
           }
          ],
          "parcoords": [
           {
            "line": {
             "colorbar": {
              "outlinewidth": 0,
              "ticks": ""
             }
            },
            "type": "parcoords"
           }
          ],
          "pie": [
           {
            "automargin": true,
            "type": "pie"
           }
          ],
          "scatter": [
           {
            "fillpattern": {
             "fillmode": "overlay",
             "size": 10,
             "solidity": 0.2
            },
            "type": "scatter"
           }
          ],
          "scatter3d": [
           {
            "line": {
             "colorbar": {
              "outlinewidth": 0,
              "ticks": ""
             }
            },
            "marker": {
             "colorbar": {
              "outlinewidth": 0,
              "ticks": ""
             }
            },
            "type": "scatter3d"
           }
          ],
          "scattercarpet": [
           {
            "marker": {
             "colorbar": {
              "outlinewidth": 0,
              "ticks": ""
             }
            },
            "type": "scattercarpet"
           }
          ],
          "scattergeo": [
           {
            "marker": {
             "colorbar": {
              "outlinewidth": 0,
              "ticks": ""
             }
            },
            "type": "scattergeo"
           }
          ],
          "scattergl": [
           {
            "marker": {
             "colorbar": {
              "outlinewidth": 0,
              "ticks": ""
             }
            },
            "type": "scattergl"
           }
          ],
          "scattermap": [
           {
            "marker": {
             "colorbar": {
              "outlinewidth": 0,
              "ticks": ""
             }
            },
            "type": "scattermap"
           }
          ],
          "scattermapbox": [
           {
            "marker": {
             "colorbar": {
              "outlinewidth": 0,
              "ticks": ""
             }
            },
            "type": "scattermapbox"
           }
          ],
          "scatterpolar": [
           {
            "marker": {
             "colorbar": {
              "outlinewidth": 0,
              "ticks": ""
             }
            },
            "type": "scatterpolar"
           }
          ],
          "scatterpolargl": [
           {
            "marker": {
             "colorbar": {
              "outlinewidth": 0,
              "ticks": ""
             }
            },
            "type": "scatterpolargl"
           }
          ],
          "scatterternary": [
           {
            "marker": {
             "colorbar": {
              "outlinewidth": 0,
              "ticks": ""
             }
            },
            "type": "scatterternary"
           }
          ],
          "surface": [
           {
            "colorbar": {
             "outlinewidth": 0,
             "ticks": ""
            },
            "colorscale": [
             [
              0,
              "#0d0887"
             ],
             [
              0.1111111111111111,
              "#46039f"
             ],
             [
              0.2222222222222222,
              "#7201a8"
             ],
             [
              0.3333333333333333,
              "#9c179e"
             ],
             [
              0.4444444444444444,
              "#bd3786"
             ],
             [
              0.5555555555555556,
              "#d8576b"
             ],
             [
              0.6666666666666666,
              "#ed7953"
             ],
             [
              0.7777777777777778,
              "#fb9f3a"
             ],
             [
              0.8888888888888888,
              "#fdca26"
             ],
             [
              1,
              "#f0f921"
             ]
            ],
            "type": "surface"
           }
          ],
          "table": [
           {
            "cells": {
             "fill": {
              "color": "#EBF0F8"
             },
             "line": {
              "color": "white"
             }
            },
            "header": {
             "fill": {
              "color": "#C8D4E3"
             },
             "line": {
              "color": "white"
             }
            },
            "type": "table"
           }
          ]
         },
         "layout": {
          "annotationdefaults": {
           "arrowcolor": "#2a3f5f",
           "arrowhead": 0,
           "arrowwidth": 1
          },
          "autotypenumbers": "strict",
          "coloraxis": {
           "colorbar": {
            "outlinewidth": 0,
            "ticks": ""
           }
          },
          "colorscale": {
           "diverging": [
            [
             0,
             "#8e0152"
            ],
            [
             0.1,
             "#c51b7d"
            ],
            [
             0.2,
             "#de77ae"
            ],
            [
             0.3,
             "#f1b6da"
            ],
            [
             0.4,
             "#fde0ef"
            ],
            [
             0.5,
             "#f7f7f7"
            ],
            [
             0.6,
             "#e6f5d0"
            ],
            [
             0.7,
             "#b8e186"
            ],
            [
             0.8,
             "#7fbc41"
            ],
            [
             0.9,
             "#4d9221"
            ],
            [
             1,
             "#276419"
            ]
           ],
           "sequential": [
            [
             0,
             "#0d0887"
            ],
            [
             0.1111111111111111,
             "#46039f"
            ],
            [
             0.2222222222222222,
             "#7201a8"
            ],
            [
             0.3333333333333333,
             "#9c179e"
            ],
            [
             0.4444444444444444,
             "#bd3786"
            ],
            [
             0.5555555555555556,
             "#d8576b"
            ],
            [
             0.6666666666666666,
             "#ed7953"
            ],
            [
             0.7777777777777778,
             "#fb9f3a"
            ],
            [
             0.8888888888888888,
             "#fdca26"
            ],
            [
             1,
             "#f0f921"
            ]
           ],
           "sequentialminus": [
            [
             0,
             "#0d0887"
            ],
            [
             0.1111111111111111,
             "#46039f"
            ],
            [
             0.2222222222222222,
             "#7201a8"
            ],
            [
             0.3333333333333333,
             "#9c179e"
            ],
            [
             0.4444444444444444,
             "#bd3786"
            ],
            [
             0.5555555555555556,
             "#d8576b"
            ],
            [
             0.6666666666666666,
             "#ed7953"
            ],
            [
             0.7777777777777778,
             "#fb9f3a"
            ],
            [
             0.8888888888888888,
             "#fdca26"
            ],
            [
             1,
             "#f0f921"
            ]
           ]
          },
          "colorway": [
           "#636efa",
           "#EF553B",
           "#00cc96",
           "#ab63fa",
           "#FFA15A",
           "#19d3f3",
           "#FF6692",
           "#B6E880",
           "#FF97FF",
           "#FECB52"
          ],
          "font": {
           "color": "#2a3f5f"
          },
          "geo": {
           "bgcolor": "white",
           "lakecolor": "white",
           "landcolor": "white",
           "showlakes": true,
           "showland": true,
           "subunitcolor": "#C8D4E3"
          },
          "hoverlabel": {
           "align": "left"
          },
          "hovermode": "closest",
          "mapbox": {
           "style": "light"
          },
          "paper_bgcolor": "white",
          "plot_bgcolor": "white",
          "polar": {
           "angularaxis": {
            "gridcolor": "#EBF0F8",
            "linecolor": "#EBF0F8",
            "ticks": ""
           },
           "bgcolor": "white",
           "radialaxis": {
            "gridcolor": "#EBF0F8",
            "linecolor": "#EBF0F8",
            "ticks": ""
           }
          },
          "scene": {
           "xaxis": {
            "backgroundcolor": "white",
            "gridcolor": "#DFE8F3",
            "gridwidth": 2,
            "linecolor": "#EBF0F8",
            "showbackground": true,
            "ticks": "",
            "zerolinecolor": "#EBF0F8"
           },
           "yaxis": {
            "backgroundcolor": "white",
            "gridcolor": "#DFE8F3",
            "gridwidth": 2,
            "linecolor": "#EBF0F8",
            "showbackground": true,
            "ticks": "",
            "zerolinecolor": "#EBF0F8"
           },
           "zaxis": {
            "backgroundcolor": "white",
            "gridcolor": "#DFE8F3",
            "gridwidth": 2,
            "linecolor": "#EBF0F8",
            "showbackground": true,
            "ticks": "",
            "zerolinecolor": "#EBF0F8"
           }
          },
          "shapedefaults": {
           "line": {
            "color": "#2a3f5f"
           }
          },
          "ternary": {
           "aaxis": {
            "gridcolor": "#DFE8F3",
            "linecolor": "#A2B1C6",
            "ticks": ""
           },
           "baxis": {
            "gridcolor": "#DFE8F3",
            "linecolor": "#A2B1C6",
            "ticks": ""
           },
           "bgcolor": "white",
           "caxis": {
            "gridcolor": "#DFE8F3",
            "linecolor": "#A2B1C6",
            "ticks": ""
           }
          },
          "title": {
           "x": 0.05
          },
          "xaxis": {
           "automargin": true,
           "gridcolor": "#EBF0F8",
           "linecolor": "#EBF0F8",
           "ticks": "",
           "title": {
            "standoff": 15
           },
           "zerolinecolor": "#EBF0F8",
           "zerolinewidth": 2
          },
          "yaxis": {
           "automargin": true,
           "gridcolor": "#EBF0F8",
           "linecolor": "#EBF0F8",
           "ticks": "",
           "title": {
            "standoff": 15
           },
           "zerolinecolor": "#EBF0F8",
           "zerolinewidth": 2
          }
         }
        },
        "title": {
         "font": {
          "size": 25
         },
         "text": "Number of all Publications per Month",
         "x": 0.5
        },
        "xaxis": {
         "anchor": "y",
         "domain": [
          0,
          0.45
         ],
         "title": {
          "text": "Year of Publication"
         }
        },
        "xaxis2": {
         "anchor": "y2",
         "domain": [
          0.55,
          1
         ],
         "title": {
          "text": "Year of Publication"
         }
        },
        "yaxis": {
         "anchor": "x",
         "domain": [
          0,
          1
         ],
         "title": {
          "text": "# of Publications per Month"
         },
         "type": "linear"
        },
        "yaxis2": {
         "anchor": "x2",
         "domain": [
          0,
          1
         ],
         "title": {
          "text": "# of Publications per Month"
         },
         "type": "log"
        }
       }
      }
     },
     "metadata": {},
     "output_type": "display_data"
    }
   ],
   "source": [
    "plot_general_development(df_complete, \"all\", \"M\")"
   ]
  },
  {
   "cell_type": "markdown",
   "metadata": {},
   "source": [
    "The growth of research in artificial intelligence and machine learning over the past three decades is reflected in the exponential rise in publications per month. As illustrated in the chart above, the number of publications has increased significantly, particularly from the early 2010s onward. This surge coincides with critical advancements in computational tools, such as open-source frameworks like TensorFlow and PyTorch, which democratized access to AI technologies and significantly reduced barriers to entry for researchers and developers.\n",
    "\n",
    "On the linear scale, the data indicates a significant upward trend in the number of publications per month, with particularly accelerated growth in recent years. This increase can be attributed to the widespread adoption of AI technologies and the enhanced accessibility of research dissemination via platforms such as arXiv. These platforms, by enabling the rapid sharing of findings, have significantly contributed to the acceleration of innovation within the field. A logarithmic scale analysis further supports these observations, revealing a near linear trend indicative of sustained exponential growth. When viewed in conjunction with the conference trends, the publication data highlights a broader narrative: AI and ML have evolved from specialized academic disciplines into central drivers of scientific discovery and technological progress. This growth not only underscores the expanding influence of these fields but also signals their crucial role in shaping the future of research and innovation.\n",
    "\n",
    "This trend is mirrored in the competitive landscape of AI and ML conferences, as shown in the chart below. Over the last decade, submissions to leading conferences such as NeurIPS, CVPR, and AAAI have risen exponentially, with counts reaching more than ten thousand annually. However, acceptance rates have concurrently declined, often falling below 30%, highlighting the increasing rigor and selectivity of these prestigious venues. This dual trend, rising submissions alongside decreasing acceptance rates, not only reflects the growing interest in these fields but also underscores their role in shaping the forefront of scientific discovery and technological progress.\n",
    "\n",
    "![conference_trends](https://github.com/lixin4ever/Conference-Acceptance-Rate/blob/2cf5bf4d2801bf691857f56cec03c05cc99de29a/conference_trends.png?raw=true)\n",
    "Source: [Github lixin4ever/Conference-Acceptance-Rate](https://github.com/lixin4ever/Conference-Acceptance-Rate/blob/2cf5bf4d2801bf691857f56cec03c05cc99de29a/conference_trends.png)"
   ]
  },
  {
   "cell_type": "markdown",
   "metadata": {},
   "source": [
    "The trends in initial (*v1*) and corrective publications provide additional insights into the evolution of research within AI and ML. The charts below illustrate the number of publications per month for both categories, distinguishing between the introduction of new ideas and subsequent refinements.\n",
    "\n",
    "Initial publications (*v1*) are fundamental to scientific progress, as they introduce novel methodologies, findings, or concepts. The data reveals that the growth in initial publications not only follows an exponential pattern but surpasses it. This indicates a phase of extraordinary acceleration in AI and ML research, driven by factors such as increased investments, widespread access to computational tools, and the practical integration of AI across various industries. The linear scale highlights the dramatic surge in initial contributions in recent years, while the logarithmic scale demonstrates that this growth significantly outpaces the expected trajectory of an exponential trend. This suggests that the pace of innovation in AI and ML is accelerating beyond conventional projections.\n",
    "\n",
    "Corrective publications, encompassing versions beyond v1, represent the iterative nature of scientific research. These versions are typically created to address minor errors, refine methodologies, or clarify previously published findings. While essential to maintaining the quality and rigor of scientific work, corrective publications do not exhibit the same remarkable growth trends as initial publications. Their trajectory, as seen on a linear scale, reflects a steady and proportional increase over time, mirroring the overall expansion of research activity in the field. On a logarithmic scale, the trend in corrective publications suggests that while revisions are becoming more frequent, they remain supplementary to the primary contributions of initial publications. Corrective versions serve as a means to enhance the precision and reliability of the scientific record but do not fundamentally alter the state of knowledge or introduce groundbreaking ideas. Consequently, they are less indicative of the field's innovation trajectory and more reflective of its maturing standards of scholarly scrutiny.\n",
    "\n",
    "Given the close alignment between the trends in initial and corrective publications, and the super-exponential growth observed in initial contributions, the analysis places its primary emphasis on the dataset filtered for v1 publications. This focus allows for a deeper exploration of the foundational contributions driving AI and ML research, avoiding the potential distortions introduced by iterative revisions. By honing in on initial publications, the analysis seeks to capture the most impactful advancements and innovations shaping the field."
   ]
  },
  {
   "cell_type": "code",
   "execution_count": 29,
   "metadata": {
    "ExecuteTime": {
     "end_time": "2024-12-29T15:25:40.184267Z",
     "start_time": "2024-12-29T15:25:39.903789Z"
    }
   },
   "outputs": [
    {
     "data": {
      "application/vnd.plotly.v1+json": {
       "config": {
        "plotlyServerURL": "https://plot.ly"
       },
       "data": [
        {
         "hovertemplate": "period=%{x}<br>count=%{y}<extra></extra>",
         "legendgroup": "",
         "marker": {
          "color": "#636efa",
          "symbol": "circle"
         },
         "mode": "markers",
         "name": "",
         "orientation": "v",
         "showlegend": false,
         "type": "scatter",
         "x": [
          "1994-01-01T00:00:00.000000000",
          "1994-02-01T00:00:00.000000000",
          "1994-03-01T00:00:00.000000000",
          "1994-04-01T00:00:00.000000000",
          "1994-05-01T00:00:00.000000000",
          "1994-06-01T00:00:00.000000000",
          "1994-07-01T00:00:00.000000000",
          "1994-08-01T00:00:00.000000000",
          "1994-09-01T00:00:00.000000000",
          "1994-10-01T00:00:00.000000000",
          "1994-11-01T00:00:00.000000000",
          "1994-12-01T00:00:00.000000000",
          "1995-01-01T00:00:00.000000000",
          "1995-02-01T00:00:00.000000000",
          "1995-03-01T00:00:00.000000000",
          "1995-04-01T00:00:00.000000000",
          "1995-05-01T00:00:00.000000000",
          "1995-06-01T00:00:00.000000000",
          "1995-07-01T00:00:00.000000000",
          "1995-08-01T00:00:00.000000000",
          "1995-09-01T00:00:00.000000000",
          "1995-10-01T00:00:00.000000000",
          "1995-11-01T00:00:00.000000000",
          "1995-12-01T00:00:00.000000000",
          "1996-01-01T00:00:00.000000000",
          "1996-02-01T00:00:00.000000000",
          "1996-03-01T00:00:00.000000000",
          "1996-04-01T00:00:00.000000000",
          "1996-05-01T00:00:00.000000000",
          "1996-06-01T00:00:00.000000000",
          "1996-07-01T00:00:00.000000000",
          "1996-08-01T00:00:00.000000000",
          "1996-09-01T00:00:00.000000000",
          "1996-10-01T00:00:00.000000000",
          "1996-11-01T00:00:00.000000000",
          "1996-12-01T00:00:00.000000000",
          "1997-01-01T00:00:00.000000000",
          "1997-02-01T00:00:00.000000000",
          "1997-03-01T00:00:00.000000000",
          "1997-04-01T00:00:00.000000000",
          "1997-05-01T00:00:00.000000000",
          "1997-06-01T00:00:00.000000000",
          "1997-07-01T00:00:00.000000000",
          "1997-08-01T00:00:00.000000000",
          "1997-09-01T00:00:00.000000000",
          "1997-10-01T00:00:00.000000000",
          "1997-11-01T00:00:00.000000000",
          "1997-12-01T00:00:00.000000000",
          "1998-01-01T00:00:00.000000000",
          "1998-02-01T00:00:00.000000000",
          "1998-03-01T00:00:00.000000000",
          "1998-04-01T00:00:00.000000000",
          "1998-05-01T00:00:00.000000000",
          "1998-06-01T00:00:00.000000000",
          "1998-07-01T00:00:00.000000000",
          "1998-08-01T00:00:00.000000000",
          "1998-09-01T00:00:00.000000000",
          "1998-10-01T00:00:00.000000000",
          "1998-11-01T00:00:00.000000000",
          "1998-12-01T00:00:00.000000000",
          "1999-01-01T00:00:00.000000000",
          "1999-02-01T00:00:00.000000000",
          "1999-03-01T00:00:00.000000000",
          "1999-04-01T00:00:00.000000000",
          "1999-05-01T00:00:00.000000000",
          "1999-06-01T00:00:00.000000000",
          "1999-07-01T00:00:00.000000000",
          "1999-08-01T00:00:00.000000000",
          "1999-09-01T00:00:00.000000000",
          "1999-10-01T00:00:00.000000000",
          "1999-11-01T00:00:00.000000000",
          "1999-12-01T00:00:00.000000000",
          "2000-01-01T00:00:00.000000000",
          "2000-02-01T00:00:00.000000000",
          "2000-03-01T00:00:00.000000000",
          "2000-04-01T00:00:00.000000000",
          "2000-05-01T00:00:00.000000000",
          "2000-06-01T00:00:00.000000000",
          "2000-07-01T00:00:00.000000000",
          "2000-08-01T00:00:00.000000000",
          "2000-09-01T00:00:00.000000000",
          "2000-10-01T00:00:00.000000000",
          "2000-11-01T00:00:00.000000000",
          "2000-12-01T00:00:00.000000000",
          "2001-01-01T00:00:00.000000000",
          "2001-02-01T00:00:00.000000000",
          "2001-03-01T00:00:00.000000000",
          "2001-04-01T00:00:00.000000000",
          "2001-05-01T00:00:00.000000000",
          "2001-06-01T00:00:00.000000000",
          "2001-07-01T00:00:00.000000000",
          "2001-08-01T00:00:00.000000000",
          "2001-09-01T00:00:00.000000000",
          "2001-10-01T00:00:00.000000000",
          "2001-11-01T00:00:00.000000000",
          "2001-12-01T00:00:00.000000000",
          "2002-01-01T00:00:00.000000000",
          "2002-02-01T00:00:00.000000000",
          "2002-03-01T00:00:00.000000000",
          "2002-04-01T00:00:00.000000000",
          "2002-05-01T00:00:00.000000000",
          "2002-06-01T00:00:00.000000000",
          "2002-07-01T00:00:00.000000000",
          "2002-08-01T00:00:00.000000000",
          "2002-09-01T00:00:00.000000000",
          "2002-10-01T00:00:00.000000000",
          "2002-11-01T00:00:00.000000000",
          "2002-12-01T00:00:00.000000000",
          "2003-01-01T00:00:00.000000000",
          "2003-02-01T00:00:00.000000000",
          "2003-03-01T00:00:00.000000000",
          "2003-04-01T00:00:00.000000000",
          "2003-05-01T00:00:00.000000000",
          "2003-06-01T00:00:00.000000000",
          "2003-07-01T00:00:00.000000000",
          "2003-08-01T00:00:00.000000000",
          "2003-09-01T00:00:00.000000000",
          "2003-10-01T00:00:00.000000000",
          "2003-11-01T00:00:00.000000000",
          "2003-12-01T00:00:00.000000000",
          "2004-01-01T00:00:00.000000000",
          "2004-02-01T00:00:00.000000000",
          "2004-03-01T00:00:00.000000000",
          "2004-04-01T00:00:00.000000000",
          "2004-05-01T00:00:00.000000000",
          "2004-06-01T00:00:00.000000000",
          "2004-07-01T00:00:00.000000000",
          "2004-08-01T00:00:00.000000000",
          "2004-09-01T00:00:00.000000000",
          "2004-10-01T00:00:00.000000000",
          "2004-11-01T00:00:00.000000000",
          "2004-12-01T00:00:00.000000000",
          "2005-01-01T00:00:00.000000000",
          "2005-02-01T00:00:00.000000000",
          "2005-03-01T00:00:00.000000000",
          "2005-04-01T00:00:00.000000000",
          "2005-05-01T00:00:00.000000000",
          "2005-06-01T00:00:00.000000000",
          "2005-07-01T00:00:00.000000000",
          "2005-08-01T00:00:00.000000000",
          "2005-09-01T00:00:00.000000000",
          "2005-10-01T00:00:00.000000000",
          "2005-11-01T00:00:00.000000000",
          "2005-12-01T00:00:00.000000000",
          "2006-01-01T00:00:00.000000000",
          "2006-02-01T00:00:00.000000000",
          "2006-03-01T00:00:00.000000000",
          "2006-04-01T00:00:00.000000000",
          "2006-05-01T00:00:00.000000000",
          "2006-06-01T00:00:00.000000000",
          "2006-07-01T00:00:00.000000000",
          "2006-08-01T00:00:00.000000000",
          "2006-09-01T00:00:00.000000000",
          "2006-10-01T00:00:00.000000000",
          "2006-11-01T00:00:00.000000000",
          "2006-12-01T00:00:00.000000000",
          "2007-01-01T00:00:00.000000000",
          "2007-02-01T00:00:00.000000000",
          "2007-03-01T00:00:00.000000000",
          "2007-04-01T00:00:00.000000000",
          "2007-05-01T00:00:00.000000000",
          "2007-06-01T00:00:00.000000000",
          "2007-07-01T00:00:00.000000000",
          "2007-08-01T00:00:00.000000000",
          "2007-09-01T00:00:00.000000000",
          "2007-10-01T00:00:00.000000000",
          "2007-11-01T00:00:00.000000000",
          "2007-12-01T00:00:00.000000000",
          "2008-01-01T00:00:00.000000000",
          "2008-02-01T00:00:00.000000000",
          "2008-03-01T00:00:00.000000000",
          "2008-04-01T00:00:00.000000000",
          "2008-05-01T00:00:00.000000000",
          "2008-06-01T00:00:00.000000000",
          "2008-07-01T00:00:00.000000000",
          "2008-08-01T00:00:00.000000000",
          "2008-09-01T00:00:00.000000000",
          "2008-10-01T00:00:00.000000000",
          "2008-11-01T00:00:00.000000000",
          "2008-12-01T00:00:00.000000000",
          "2009-01-01T00:00:00.000000000",
          "2009-02-01T00:00:00.000000000",
          "2009-03-01T00:00:00.000000000",
          "2009-04-01T00:00:00.000000000",
          "2009-05-01T00:00:00.000000000",
          "2009-06-01T00:00:00.000000000",
          "2009-07-01T00:00:00.000000000",
          "2009-08-01T00:00:00.000000000",
          "2009-09-01T00:00:00.000000000",
          "2009-10-01T00:00:00.000000000",
          "2009-11-01T00:00:00.000000000",
          "2009-12-01T00:00:00.000000000",
          "2010-01-01T00:00:00.000000000",
          "2010-02-01T00:00:00.000000000",
          "2010-03-01T00:00:00.000000000",
          "2010-04-01T00:00:00.000000000",
          "2010-05-01T00:00:00.000000000",
          "2010-06-01T00:00:00.000000000",
          "2010-07-01T00:00:00.000000000",
          "2010-08-01T00:00:00.000000000",
          "2010-09-01T00:00:00.000000000",
          "2010-10-01T00:00:00.000000000",
          "2010-11-01T00:00:00.000000000",
          "2010-12-01T00:00:00.000000000",
          "2011-01-01T00:00:00.000000000",
          "2011-02-01T00:00:00.000000000",
          "2011-03-01T00:00:00.000000000",
          "2011-04-01T00:00:00.000000000",
          "2011-05-01T00:00:00.000000000",
          "2011-06-01T00:00:00.000000000",
          "2011-07-01T00:00:00.000000000",
          "2011-08-01T00:00:00.000000000",
          "2011-09-01T00:00:00.000000000",
          "2011-10-01T00:00:00.000000000",
          "2011-11-01T00:00:00.000000000",
          "2011-12-01T00:00:00.000000000",
          "2012-01-01T00:00:00.000000000",
          "2012-02-01T00:00:00.000000000",
          "2012-03-01T00:00:00.000000000",
          "2012-04-01T00:00:00.000000000",
          "2012-05-01T00:00:00.000000000",
          "2012-06-01T00:00:00.000000000",
          "2012-07-01T00:00:00.000000000",
          "2012-08-01T00:00:00.000000000",
          "2012-09-01T00:00:00.000000000",
          "2012-10-01T00:00:00.000000000",
          "2012-11-01T00:00:00.000000000",
          "2012-12-01T00:00:00.000000000",
          "2013-01-01T00:00:00.000000000",
          "2013-02-01T00:00:00.000000000",
          "2013-03-01T00:00:00.000000000",
          "2013-04-01T00:00:00.000000000",
          "2013-05-01T00:00:00.000000000",
          "2013-06-01T00:00:00.000000000",
          "2013-07-01T00:00:00.000000000",
          "2013-08-01T00:00:00.000000000",
          "2013-09-01T00:00:00.000000000",
          "2013-10-01T00:00:00.000000000",
          "2013-11-01T00:00:00.000000000",
          "2013-12-01T00:00:00.000000000",
          "2014-01-01T00:00:00.000000000",
          "2014-02-01T00:00:00.000000000",
          "2014-03-01T00:00:00.000000000",
          "2014-04-01T00:00:00.000000000",
          "2014-05-01T00:00:00.000000000",
          "2014-06-01T00:00:00.000000000",
          "2014-07-01T00:00:00.000000000",
          "2014-08-01T00:00:00.000000000",
          "2014-09-01T00:00:00.000000000",
          "2014-10-01T00:00:00.000000000",
          "2014-11-01T00:00:00.000000000",
          "2014-12-01T00:00:00.000000000",
          "2015-01-01T00:00:00.000000000",
          "2015-02-01T00:00:00.000000000",
          "2015-03-01T00:00:00.000000000",
          "2015-04-01T00:00:00.000000000",
          "2015-05-01T00:00:00.000000000",
          "2015-06-01T00:00:00.000000000",
          "2015-07-01T00:00:00.000000000",
          "2015-08-01T00:00:00.000000000",
          "2015-09-01T00:00:00.000000000",
          "2015-10-01T00:00:00.000000000",
          "2015-11-01T00:00:00.000000000",
          "2015-12-01T00:00:00.000000000",
          "2016-01-01T00:00:00.000000000",
          "2016-02-01T00:00:00.000000000",
          "2016-03-01T00:00:00.000000000",
          "2016-04-01T00:00:00.000000000",
          "2016-05-01T00:00:00.000000000",
          "2016-06-01T00:00:00.000000000",
          "2016-07-01T00:00:00.000000000",
          "2016-08-01T00:00:00.000000000",
          "2016-09-01T00:00:00.000000000",
          "2016-10-01T00:00:00.000000000",
          "2016-11-01T00:00:00.000000000",
          "2016-12-01T00:00:00.000000000",
          "2017-01-01T00:00:00.000000000",
          "2017-02-01T00:00:00.000000000",
          "2017-03-01T00:00:00.000000000",
          "2017-04-01T00:00:00.000000000",
          "2017-05-01T00:00:00.000000000",
          "2017-06-01T00:00:00.000000000",
          "2017-07-01T00:00:00.000000000",
          "2017-08-01T00:00:00.000000000",
          "2017-09-01T00:00:00.000000000",
          "2017-10-01T00:00:00.000000000",
          "2017-11-01T00:00:00.000000000",
          "2017-12-01T00:00:00.000000000",
          "2018-01-01T00:00:00.000000000",
          "2018-02-01T00:00:00.000000000",
          "2018-03-01T00:00:00.000000000",
          "2018-04-01T00:00:00.000000000",
          "2018-05-01T00:00:00.000000000",
          "2018-06-01T00:00:00.000000000",
          "2018-07-01T00:00:00.000000000",
          "2018-08-01T00:00:00.000000000",
          "2018-09-01T00:00:00.000000000",
          "2018-10-01T00:00:00.000000000",
          "2018-11-01T00:00:00.000000000",
          "2018-12-01T00:00:00.000000000",
          "2019-01-01T00:00:00.000000000",
          "2019-02-01T00:00:00.000000000",
          "2019-03-01T00:00:00.000000000",
          "2019-04-01T00:00:00.000000000",
          "2019-05-01T00:00:00.000000000",
          "2019-06-01T00:00:00.000000000",
          "2019-07-01T00:00:00.000000000",
          "2019-08-01T00:00:00.000000000",
          "2019-09-01T00:00:00.000000000",
          "2019-10-01T00:00:00.000000000",
          "2019-11-01T00:00:00.000000000",
          "2019-12-01T00:00:00.000000000",
          "2020-01-01T00:00:00.000000000",
          "2020-02-01T00:00:00.000000000",
          "2020-03-01T00:00:00.000000000",
          "2020-04-01T00:00:00.000000000",
          "2020-05-01T00:00:00.000000000",
          "2020-06-01T00:00:00.000000000",
          "2020-07-01T00:00:00.000000000",
          "2020-08-01T00:00:00.000000000",
          "2020-09-01T00:00:00.000000000",
          "2020-10-01T00:00:00.000000000",
          "2020-11-01T00:00:00.000000000",
          "2020-12-01T00:00:00.000000000",
          "2021-01-01T00:00:00.000000000",
          "2021-02-01T00:00:00.000000000",
          "2021-03-01T00:00:00.000000000",
          "2021-04-01T00:00:00.000000000",
          "2021-05-01T00:00:00.000000000",
          "2021-06-01T00:00:00.000000000",
          "2021-07-01T00:00:00.000000000",
          "2021-08-01T00:00:00.000000000",
          "2021-09-01T00:00:00.000000000",
          "2021-10-01T00:00:00.000000000",
          "2021-11-01T00:00:00.000000000",
          "2021-12-01T00:00:00.000000000",
          "2022-01-01T00:00:00.000000000",
          "2022-02-01T00:00:00.000000000",
          "2022-03-01T00:00:00.000000000",
          "2022-04-01T00:00:00.000000000",
          "2022-05-01T00:00:00.000000000",
          "2022-06-01T00:00:00.000000000",
          "2022-07-01T00:00:00.000000000",
          "2022-08-01T00:00:00.000000000",
          "2022-09-01T00:00:00.000000000",
          "2022-10-01T00:00:00.000000000",
          "2022-11-01T00:00:00.000000000",
          "2022-12-01T00:00:00.000000000",
          "2023-01-01T00:00:00.000000000",
          "2023-02-01T00:00:00.000000000",
          "2023-03-01T00:00:00.000000000",
          "2023-04-01T00:00:00.000000000",
          "2023-05-01T00:00:00.000000000",
          "2023-06-01T00:00:00.000000000",
          "2023-07-01T00:00:00.000000000",
          "2023-08-01T00:00:00.000000000",
          "2023-09-01T00:00:00.000000000",
          "2023-10-01T00:00:00.000000000",
          "2023-11-01T00:00:00.000000000",
          "2023-12-01T00:00:00.000000000",
          "2024-01-01T00:00:00.000000000",
          "2024-02-01T00:00:00.000000000",
          "2024-03-01T00:00:00.000000000",
          "2024-04-01T00:00:00.000000000",
          "2024-05-01T00:00:00.000000000",
          "2024-06-01T00:00:00.000000000",
          "2024-07-01T00:00:00.000000000",
          "2024-08-01T00:00:00.000000000",
          "2024-09-01T00:00:00.000000000",
          "2024-10-01T00:00:00.000000000",
          "2024-11-01T00:00:00.000000000",
          "2024-12-01T00:00:00.000000000"
         ],
         "xaxis": "x",
         "y": {
          "bdata": "DwAXABYAGgAjADIALQAjACAALAA9ACwAKQAyADQANgBLACsALgAkACUAIwAgADIAIgAlAC0AQABRAD8ASAArACkAKgAlACwAPgAsAC0AJgAqADoANwApADIALQAvAEMAKAAgADEAMgAwAEEAOwA3AGEANwAsADUALgA1ADwANgBLAEIASAAoAC0ANgA/AEEAMQA+AHIANQBWAFMATwBUAEUAUABKAEEANwBIAEIAPgBQAEQAPQAzADwAWwBHAFUAQgBQAEAAZABzAEsAXwA5AEkAVQBjAHAARwBHAFAAfAB5AF4AZgBUAFoAVgBrAGAARgBkAGIAggCiAIoAdwBnAHMAvwB3AKYAhABsAO4AhACqAHYAhwCmAIoAkQCpAJIArgCqAMsAnQCvALQAyQC2AM8A1QDhAMoAqQD2AN0AtADpAM8ADAEOAekABgH3ABIB8QD3ABABHgEnAfYA8gC5APkA/ADeAOkA8AAoAT0BBAHoADcBJgEwAWUBSAE2AUIBMgE7AWcBawEwAXABIwEzAW8BbwFzAW4BFwF/AbQBXAGdAfMBcgFyAcoBuAG4AbUBpAEBAjsC9wHlATgDnwKeAccBugIlAiQCBgPeAv0DLwIDAiACUQLZAY0CPwI6Ao8CEQOaAooCjwKqAmsCegI/AnIClQK7ArECgQKcAgYDwgLqAhQD3wKsAmoDIwPvAusC9gIjA84DegPUAwAEqQOQA/YDIgRkBA4EjAPqA7gEfATmBMwENwUaBUcF0gSlBb4EdwRzBUwG4QUCB5kGZwYrBi4HSAftB30GLwZXBosH6ghfCWMJ8gg6CBIK+QnjCVsIggcICesJjwqBCuMLHAxlCrEKVQ4KDOgLzQkgCi8NzgwsDFQOBww6C4ANLQ5BDNcLFwpsCyMPJw3vDdUNCg4IDMwNtxFZD2IMYgo+DcQRoQ4zE0URRhB6EcARBhUCE6YS/RDmE/kXtRUxGBcaShnTFugbRx3ZHTgi",
          "dtype": "i2"
         },
         "yaxis": "y"
        },
        {
         "hovertemplate": "<b>OLS trendline</b><br>log10(count) = 2.37222e-09 * period + -0.430417<br>R<sup>2</sup>=0.974390<br><br>period=%{x}<br>count=%{y} <b>(trend)</b><extra></extra>",
         "legendgroup": "",
         "line": {
          "color": "red"
         },
         "marker": {
          "color": "#636efa",
          "symbol": "circle"
         },
         "mode": "lines",
         "name": "",
         "showlegend": false,
         "type": "scatter",
         "x": [
          "1994-01-01T00:00:00.000000000",
          "1994-02-01T00:00:00.000000000",
          "1994-03-01T00:00:00.000000000",
          "1994-04-01T00:00:00.000000000",
          "1994-05-01T00:00:00.000000000",
          "1994-06-01T00:00:00.000000000",
          "1994-07-01T00:00:00.000000000",
          "1994-08-01T00:00:00.000000000",
          "1994-09-01T00:00:00.000000000",
          "1994-10-01T00:00:00.000000000",
          "1994-11-01T00:00:00.000000000",
          "1994-12-01T00:00:00.000000000",
          "1995-01-01T00:00:00.000000000",
          "1995-02-01T00:00:00.000000000",
          "1995-03-01T00:00:00.000000000",
          "1995-04-01T00:00:00.000000000",
          "1995-05-01T00:00:00.000000000",
          "1995-06-01T00:00:00.000000000",
          "1995-07-01T00:00:00.000000000",
          "1995-08-01T00:00:00.000000000",
          "1995-09-01T00:00:00.000000000",
          "1995-10-01T00:00:00.000000000",
          "1995-11-01T00:00:00.000000000",
          "1995-12-01T00:00:00.000000000",
          "1996-01-01T00:00:00.000000000",
          "1996-02-01T00:00:00.000000000",
          "1996-03-01T00:00:00.000000000",
          "1996-04-01T00:00:00.000000000",
          "1996-05-01T00:00:00.000000000",
          "1996-06-01T00:00:00.000000000",
          "1996-07-01T00:00:00.000000000",
          "1996-08-01T00:00:00.000000000",
          "1996-09-01T00:00:00.000000000",
          "1996-10-01T00:00:00.000000000",
          "1996-11-01T00:00:00.000000000",
          "1996-12-01T00:00:00.000000000",
          "1997-01-01T00:00:00.000000000",
          "1997-02-01T00:00:00.000000000",
          "1997-03-01T00:00:00.000000000",
          "1997-04-01T00:00:00.000000000",
          "1997-05-01T00:00:00.000000000",
          "1997-06-01T00:00:00.000000000",
          "1997-07-01T00:00:00.000000000",
          "1997-08-01T00:00:00.000000000",
          "1997-09-01T00:00:00.000000000",
          "1997-10-01T00:00:00.000000000",
          "1997-11-01T00:00:00.000000000",
          "1997-12-01T00:00:00.000000000",
          "1998-01-01T00:00:00.000000000",
          "1998-02-01T00:00:00.000000000",
          "1998-03-01T00:00:00.000000000",
          "1998-04-01T00:00:00.000000000",
          "1998-05-01T00:00:00.000000000",
          "1998-06-01T00:00:00.000000000",
          "1998-07-01T00:00:00.000000000",
          "1998-08-01T00:00:00.000000000",
          "1998-09-01T00:00:00.000000000",
          "1998-10-01T00:00:00.000000000",
          "1998-11-01T00:00:00.000000000",
          "1998-12-01T00:00:00.000000000",
          "1999-01-01T00:00:00.000000000",
          "1999-02-01T00:00:00.000000000",
          "1999-03-01T00:00:00.000000000",
          "1999-04-01T00:00:00.000000000",
          "1999-05-01T00:00:00.000000000",
          "1999-06-01T00:00:00.000000000",
          "1999-07-01T00:00:00.000000000",
          "1999-08-01T00:00:00.000000000",
          "1999-09-01T00:00:00.000000000",
          "1999-10-01T00:00:00.000000000",
          "1999-11-01T00:00:00.000000000",
          "1999-12-01T00:00:00.000000000",
          "2000-01-01T00:00:00.000000000",
          "2000-02-01T00:00:00.000000000",
          "2000-03-01T00:00:00.000000000",
          "2000-04-01T00:00:00.000000000",
          "2000-05-01T00:00:00.000000000",
          "2000-06-01T00:00:00.000000000",
          "2000-07-01T00:00:00.000000000",
          "2000-08-01T00:00:00.000000000",
          "2000-09-01T00:00:00.000000000",
          "2000-10-01T00:00:00.000000000",
          "2000-11-01T00:00:00.000000000",
          "2000-12-01T00:00:00.000000000",
          "2001-01-01T00:00:00.000000000",
          "2001-02-01T00:00:00.000000000",
          "2001-03-01T00:00:00.000000000",
          "2001-04-01T00:00:00.000000000",
          "2001-05-01T00:00:00.000000000",
          "2001-06-01T00:00:00.000000000",
          "2001-07-01T00:00:00.000000000",
          "2001-08-01T00:00:00.000000000",
          "2001-09-01T00:00:00.000000000",
          "2001-10-01T00:00:00.000000000",
          "2001-11-01T00:00:00.000000000",
          "2001-12-01T00:00:00.000000000",
          "2002-01-01T00:00:00.000000000",
          "2002-02-01T00:00:00.000000000",
          "2002-03-01T00:00:00.000000000",
          "2002-04-01T00:00:00.000000000",
          "2002-05-01T00:00:00.000000000",
          "2002-06-01T00:00:00.000000000",
          "2002-07-01T00:00:00.000000000",
          "2002-08-01T00:00:00.000000000",
          "2002-09-01T00:00:00.000000000",
          "2002-10-01T00:00:00.000000000",
          "2002-11-01T00:00:00.000000000",
          "2002-12-01T00:00:00.000000000",
          "2003-01-01T00:00:00.000000000",
          "2003-02-01T00:00:00.000000000",
          "2003-03-01T00:00:00.000000000",
          "2003-04-01T00:00:00.000000000",
          "2003-05-01T00:00:00.000000000",
          "2003-06-01T00:00:00.000000000",
          "2003-07-01T00:00:00.000000000",
          "2003-08-01T00:00:00.000000000",
          "2003-09-01T00:00:00.000000000",
          "2003-10-01T00:00:00.000000000",
          "2003-11-01T00:00:00.000000000",
          "2003-12-01T00:00:00.000000000",
          "2004-01-01T00:00:00.000000000",
          "2004-02-01T00:00:00.000000000",
          "2004-03-01T00:00:00.000000000",
          "2004-04-01T00:00:00.000000000",
          "2004-05-01T00:00:00.000000000",
          "2004-06-01T00:00:00.000000000",
          "2004-07-01T00:00:00.000000000",
          "2004-08-01T00:00:00.000000000",
          "2004-09-01T00:00:00.000000000",
          "2004-10-01T00:00:00.000000000",
          "2004-11-01T00:00:00.000000000",
          "2004-12-01T00:00:00.000000000",
          "2005-01-01T00:00:00.000000000",
          "2005-02-01T00:00:00.000000000",
          "2005-03-01T00:00:00.000000000",
          "2005-04-01T00:00:00.000000000",
          "2005-05-01T00:00:00.000000000",
          "2005-06-01T00:00:00.000000000",
          "2005-07-01T00:00:00.000000000",
          "2005-08-01T00:00:00.000000000",
          "2005-09-01T00:00:00.000000000",
          "2005-10-01T00:00:00.000000000",
          "2005-11-01T00:00:00.000000000",
          "2005-12-01T00:00:00.000000000",
          "2006-01-01T00:00:00.000000000",
          "2006-02-01T00:00:00.000000000",
          "2006-03-01T00:00:00.000000000",
          "2006-04-01T00:00:00.000000000",
          "2006-05-01T00:00:00.000000000",
          "2006-06-01T00:00:00.000000000",
          "2006-07-01T00:00:00.000000000",
          "2006-08-01T00:00:00.000000000",
          "2006-09-01T00:00:00.000000000",
          "2006-10-01T00:00:00.000000000",
          "2006-11-01T00:00:00.000000000",
          "2006-12-01T00:00:00.000000000",
          "2007-01-01T00:00:00.000000000",
          "2007-02-01T00:00:00.000000000",
          "2007-03-01T00:00:00.000000000",
          "2007-04-01T00:00:00.000000000",
          "2007-05-01T00:00:00.000000000",
          "2007-06-01T00:00:00.000000000",
          "2007-07-01T00:00:00.000000000",
          "2007-08-01T00:00:00.000000000",
          "2007-09-01T00:00:00.000000000",
          "2007-10-01T00:00:00.000000000",
          "2007-11-01T00:00:00.000000000",
          "2007-12-01T00:00:00.000000000",
          "2008-01-01T00:00:00.000000000",
          "2008-02-01T00:00:00.000000000",
          "2008-03-01T00:00:00.000000000",
          "2008-04-01T00:00:00.000000000",
          "2008-05-01T00:00:00.000000000",
          "2008-06-01T00:00:00.000000000",
          "2008-07-01T00:00:00.000000000",
          "2008-08-01T00:00:00.000000000",
          "2008-09-01T00:00:00.000000000",
          "2008-10-01T00:00:00.000000000",
          "2008-11-01T00:00:00.000000000",
          "2008-12-01T00:00:00.000000000",
          "2009-01-01T00:00:00.000000000",
          "2009-02-01T00:00:00.000000000",
          "2009-03-01T00:00:00.000000000",
          "2009-04-01T00:00:00.000000000",
          "2009-05-01T00:00:00.000000000",
          "2009-06-01T00:00:00.000000000",
          "2009-07-01T00:00:00.000000000",
          "2009-08-01T00:00:00.000000000",
          "2009-09-01T00:00:00.000000000",
          "2009-10-01T00:00:00.000000000",
          "2009-11-01T00:00:00.000000000",
          "2009-12-01T00:00:00.000000000",
          "2010-01-01T00:00:00.000000000",
          "2010-02-01T00:00:00.000000000",
          "2010-03-01T00:00:00.000000000",
          "2010-04-01T00:00:00.000000000",
          "2010-05-01T00:00:00.000000000",
          "2010-06-01T00:00:00.000000000",
          "2010-07-01T00:00:00.000000000",
          "2010-08-01T00:00:00.000000000",
          "2010-09-01T00:00:00.000000000",
          "2010-10-01T00:00:00.000000000",
          "2010-11-01T00:00:00.000000000",
          "2010-12-01T00:00:00.000000000",
          "2011-01-01T00:00:00.000000000",
          "2011-02-01T00:00:00.000000000",
          "2011-03-01T00:00:00.000000000",
          "2011-04-01T00:00:00.000000000",
          "2011-05-01T00:00:00.000000000",
          "2011-06-01T00:00:00.000000000",
          "2011-07-01T00:00:00.000000000",
          "2011-08-01T00:00:00.000000000",
          "2011-09-01T00:00:00.000000000",
          "2011-10-01T00:00:00.000000000",
          "2011-11-01T00:00:00.000000000",
          "2011-12-01T00:00:00.000000000",
          "2012-01-01T00:00:00.000000000",
          "2012-02-01T00:00:00.000000000",
          "2012-03-01T00:00:00.000000000",
          "2012-04-01T00:00:00.000000000",
          "2012-05-01T00:00:00.000000000",
          "2012-06-01T00:00:00.000000000",
          "2012-07-01T00:00:00.000000000",
          "2012-08-01T00:00:00.000000000",
          "2012-09-01T00:00:00.000000000",
          "2012-10-01T00:00:00.000000000",
          "2012-11-01T00:00:00.000000000",
          "2012-12-01T00:00:00.000000000",
          "2013-01-01T00:00:00.000000000",
          "2013-02-01T00:00:00.000000000",
          "2013-03-01T00:00:00.000000000",
          "2013-04-01T00:00:00.000000000",
          "2013-05-01T00:00:00.000000000",
          "2013-06-01T00:00:00.000000000",
          "2013-07-01T00:00:00.000000000",
          "2013-08-01T00:00:00.000000000",
          "2013-09-01T00:00:00.000000000",
          "2013-10-01T00:00:00.000000000",
          "2013-11-01T00:00:00.000000000",
          "2013-12-01T00:00:00.000000000",
          "2014-01-01T00:00:00.000000000",
          "2014-02-01T00:00:00.000000000",
          "2014-03-01T00:00:00.000000000",
          "2014-04-01T00:00:00.000000000",
          "2014-05-01T00:00:00.000000000",
          "2014-06-01T00:00:00.000000000",
          "2014-07-01T00:00:00.000000000",
          "2014-08-01T00:00:00.000000000",
          "2014-09-01T00:00:00.000000000",
          "2014-10-01T00:00:00.000000000",
          "2014-11-01T00:00:00.000000000",
          "2014-12-01T00:00:00.000000000",
          "2015-01-01T00:00:00.000000000",
          "2015-02-01T00:00:00.000000000",
          "2015-03-01T00:00:00.000000000",
          "2015-04-01T00:00:00.000000000",
          "2015-05-01T00:00:00.000000000",
          "2015-06-01T00:00:00.000000000",
          "2015-07-01T00:00:00.000000000",
          "2015-08-01T00:00:00.000000000",
          "2015-09-01T00:00:00.000000000",
          "2015-10-01T00:00:00.000000000",
          "2015-11-01T00:00:00.000000000",
          "2015-12-01T00:00:00.000000000",
          "2016-01-01T00:00:00.000000000",
          "2016-02-01T00:00:00.000000000",
          "2016-03-01T00:00:00.000000000",
          "2016-04-01T00:00:00.000000000",
          "2016-05-01T00:00:00.000000000",
          "2016-06-01T00:00:00.000000000",
          "2016-07-01T00:00:00.000000000",
          "2016-08-01T00:00:00.000000000",
          "2016-09-01T00:00:00.000000000",
          "2016-10-01T00:00:00.000000000",
          "2016-11-01T00:00:00.000000000",
          "2016-12-01T00:00:00.000000000",
          "2017-01-01T00:00:00.000000000",
          "2017-02-01T00:00:00.000000000",
          "2017-03-01T00:00:00.000000000",
          "2017-04-01T00:00:00.000000000",
          "2017-05-01T00:00:00.000000000",
          "2017-06-01T00:00:00.000000000",
          "2017-07-01T00:00:00.000000000",
          "2017-08-01T00:00:00.000000000",
          "2017-09-01T00:00:00.000000000",
          "2017-10-01T00:00:00.000000000",
          "2017-11-01T00:00:00.000000000",
          "2017-12-01T00:00:00.000000000",
          "2018-01-01T00:00:00.000000000",
          "2018-02-01T00:00:00.000000000",
          "2018-03-01T00:00:00.000000000",
          "2018-04-01T00:00:00.000000000",
          "2018-05-01T00:00:00.000000000",
          "2018-06-01T00:00:00.000000000",
          "2018-07-01T00:00:00.000000000",
          "2018-08-01T00:00:00.000000000",
          "2018-09-01T00:00:00.000000000",
          "2018-10-01T00:00:00.000000000",
          "2018-11-01T00:00:00.000000000",
          "2018-12-01T00:00:00.000000000",
          "2019-01-01T00:00:00.000000000",
          "2019-02-01T00:00:00.000000000",
          "2019-03-01T00:00:00.000000000",
          "2019-04-01T00:00:00.000000000",
          "2019-05-01T00:00:00.000000000",
          "2019-06-01T00:00:00.000000000",
          "2019-07-01T00:00:00.000000000",
          "2019-08-01T00:00:00.000000000",
          "2019-09-01T00:00:00.000000000",
          "2019-10-01T00:00:00.000000000",
          "2019-11-01T00:00:00.000000000",
          "2019-12-01T00:00:00.000000000",
          "2020-01-01T00:00:00.000000000",
          "2020-02-01T00:00:00.000000000",
          "2020-03-01T00:00:00.000000000",
          "2020-04-01T00:00:00.000000000",
          "2020-05-01T00:00:00.000000000",
          "2020-06-01T00:00:00.000000000",
          "2020-07-01T00:00:00.000000000",
          "2020-08-01T00:00:00.000000000",
          "2020-09-01T00:00:00.000000000",
          "2020-10-01T00:00:00.000000000",
          "2020-11-01T00:00:00.000000000",
          "2020-12-01T00:00:00.000000000",
          "2021-01-01T00:00:00.000000000",
          "2021-02-01T00:00:00.000000000",
          "2021-03-01T00:00:00.000000000",
          "2021-04-01T00:00:00.000000000",
          "2021-05-01T00:00:00.000000000",
          "2021-06-01T00:00:00.000000000",
          "2021-07-01T00:00:00.000000000",
          "2021-08-01T00:00:00.000000000",
          "2021-09-01T00:00:00.000000000",
          "2021-10-01T00:00:00.000000000",
          "2021-11-01T00:00:00.000000000",
          "2021-12-01T00:00:00.000000000",
          "2022-01-01T00:00:00.000000000",
          "2022-02-01T00:00:00.000000000",
          "2022-03-01T00:00:00.000000000",
          "2022-04-01T00:00:00.000000000",
          "2022-05-01T00:00:00.000000000",
          "2022-06-01T00:00:00.000000000",
          "2022-07-01T00:00:00.000000000",
          "2022-08-01T00:00:00.000000000",
          "2022-09-01T00:00:00.000000000",
          "2022-10-01T00:00:00.000000000",
          "2022-11-01T00:00:00.000000000",
          "2022-12-01T00:00:00.000000000",
          "2023-01-01T00:00:00.000000000",
          "2023-02-01T00:00:00.000000000",
          "2023-03-01T00:00:00.000000000",
          "2023-04-01T00:00:00.000000000",
          "2023-05-01T00:00:00.000000000",
          "2023-06-01T00:00:00.000000000",
          "2023-07-01T00:00:00.000000000",
          "2023-08-01T00:00:00.000000000",
          "2023-09-01T00:00:00.000000000",
          "2023-10-01T00:00:00.000000000",
          "2023-11-01T00:00:00.000000000",
          "2023-12-01T00:00:00.000000000",
          "2024-01-01T00:00:00.000000000",
          "2024-02-01T00:00:00.000000000",
          "2024-03-01T00:00:00.000000000",
          "2024-04-01T00:00:00.000000000",
          "2024-05-01T00:00:00.000000000",
          "2024-06-01T00:00:00.000000000",
          "2024-07-01T00:00:00.000000000",
          "2024-08-01T00:00:00.000000000",
          "2024-09-01T00:00:00.000000000",
          "2024-10-01T00:00:00.000000000",
          "2024-11-01T00:00:00.000000000",
          "2024-12-01T00:00:00.000000000"
         ],
         "xaxis": "x",
         "y": {
          "bdata": "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",
          "dtype": "f8"
         },
         "yaxis": "y"
        },
        {
         "hovertemplate": "period=%{x}<br>count=%{y}<extra></extra>",
         "legendgroup": "",
         "marker": {
          "color": "#636efa",
          "symbol": "circle"
         },
         "mode": "markers",
         "name": "",
         "orientation": "v",
         "showlegend": false,
         "type": "scatter",
         "x": [
          "1994-01-01T00:00:00.000000000",
          "1994-02-01T00:00:00.000000000",
          "1994-03-01T00:00:00.000000000",
          "1994-04-01T00:00:00.000000000",
          "1994-05-01T00:00:00.000000000",
          "1994-06-01T00:00:00.000000000",
          "1994-07-01T00:00:00.000000000",
          "1994-08-01T00:00:00.000000000",
          "1994-09-01T00:00:00.000000000",
          "1994-10-01T00:00:00.000000000",
          "1994-11-01T00:00:00.000000000",
          "1994-12-01T00:00:00.000000000",
          "1995-01-01T00:00:00.000000000",
          "1995-02-01T00:00:00.000000000",
          "1995-03-01T00:00:00.000000000",
          "1995-04-01T00:00:00.000000000",
          "1995-05-01T00:00:00.000000000",
          "1995-06-01T00:00:00.000000000",
          "1995-07-01T00:00:00.000000000",
          "1995-08-01T00:00:00.000000000",
          "1995-09-01T00:00:00.000000000",
          "1995-10-01T00:00:00.000000000",
          "1995-11-01T00:00:00.000000000",
          "1995-12-01T00:00:00.000000000",
          "1996-01-01T00:00:00.000000000",
          "1996-02-01T00:00:00.000000000",
          "1996-03-01T00:00:00.000000000",
          "1996-04-01T00:00:00.000000000",
          "1996-05-01T00:00:00.000000000",
          "1996-06-01T00:00:00.000000000",
          "1996-07-01T00:00:00.000000000",
          "1996-08-01T00:00:00.000000000",
          "1996-09-01T00:00:00.000000000",
          "1996-10-01T00:00:00.000000000",
          "1996-11-01T00:00:00.000000000",
          "1996-12-01T00:00:00.000000000",
          "1997-01-01T00:00:00.000000000",
          "1997-02-01T00:00:00.000000000",
          "1997-03-01T00:00:00.000000000",
          "1997-04-01T00:00:00.000000000",
          "1997-05-01T00:00:00.000000000",
          "1997-06-01T00:00:00.000000000",
          "1997-07-01T00:00:00.000000000",
          "1997-08-01T00:00:00.000000000",
          "1997-09-01T00:00:00.000000000",
          "1997-10-01T00:00:00.000000000",
          "1997-11-01T00:00:00.000000000",
          "1997-12-01T00:00:00.000000000",
          "1998-01-01T00:00:00.000000000",
          "1998-02-01T00:00:00.000000000",
          "1998-03-01T00:00:00.000000000",
          "1998-04-01T00:00:00.000000000",
          "1998-05-01T00:00:00.000000000",
          "1998-06-01T00:00:00.000000000",
          "1998-07-01T00:00:00.000000000",
          "1998-08-01T00:00:00.000000000",
          "1998-09-01T00:00:00.000000000",
          "1998-10-01T00:00:00.000000000",
          "1998-11-01T00:00:00.000000000",
          "1998-12-01T00:00:00.000000000",
          "1999-01-01T00:00:00.000000000",
          "1999-02-01T00:00:00.000000000",
          "1999-03-01T00:00:00.000000000",
          "1999-04-01T00:00:00.000000000",
          "1999-05-01T00:00:00.000000000",
          "1999-06-01T00:00:00.000000000",
          "1999-07-01T00:00:00.000000000",
          "1999-08-01T00:00:00.000000000",
          "1999-09-01T00:00:00.000000000",
          "1999-10-01T00:00:00.000000000",
          "1999-11-01T00:00:00.000000000",
          "1999-12-01T00:00:00.000000000",
          "2000-01-01T00:00:00.000000000",
          "2000-02-01T00:00:00.000000000",
          "2000-03-01T00:00:00.000000000",
          "2000-04-01T00:00:00.000000000",
          "2000-05-01T00:00:00.000000000",
          "2000-06-01T00:00:00.000000000",
          "2000-07-01T00:00:00.000000000",
          "2000-08-01T00:00:00.000000000",
          "2000-09-01T00:00:00.000000000",
          "2000-10-01T00:00:00.000000000",
          "2000-11-01T00:00:00.000000000",
          "2000-12-01T00:00:00.000000000",
          "2001-01-01T00:00:00.000000000",
          "2001-02-01T00:00:00.000000000",
          "2001-03-01T00:00:00.000000000",
          "2001-04-01T00:00:00.000000000",
          "2001-05-01T00:00:00.000000000",
          "2001-06-01T00:00:00.000000000",
          "2001-07-01T00:00:00.000000000",
          "2001-08-01T00:00:00.000000000",
          "2001-09-01T00:00:00.000000000",
          "2001-10-01T00:00:00.000000000",
          "2001-11-01T00:00:00.000000000",
          "2001-12-01T00:00:00.000000000",
          "2002-01-01T00:00:00.000000000",
          "2002-02-01T00:00:00.000000000",
          "2002-03-01T00:00:00.000000000",
          "2002-04-01T00:00:00.000000000",
          "2002-05-01T00:00:00.000000000",
          "2002-06-01T00:00:00.000000000",
          "2002-07-01T00:00:00.000000000",
          "2002-08-01T00:00:00.000000000",
          "2002-09-01T00:00:00.000000000",
          "2002-10-01T00:00:00.000000000",
          "2002-11-01T00:00:00.000000000",
          "2002-12-01T00:00:00.000000000",
          "2003-01-01T00:00:00.000000000",
          "2003-02-01T00:00:00.000000000",
          "2003-03-01T00:00:00.000000000",
          "2003-04-01T00:00:00.000000000",
          "2003-05-01T00:00:00.000000000",
          "2003-06-01T00:00:00.000000000",
          "2003-07-01T00:00:00.000000000",
          "2003-08-01T00:00:00.000000000",
          "2003-09-01T00:00:00.000000000",
          "2003-10-01T00:00:00.000000000",
          "2003-11-01T00:00:00.000000000",
          "2003-12-01T00:00:00.000000000",
          "2004-01-01T00:00:00.000000000",
          "2004-02-01T00:00:00.000000000",
          "2004-03-01T00:00:00.000000000",
          "2004-04-01T00:00:00.000000000",
          "2004-05-01T00:00:00.000000000",
          "2004-06-01T00:00:00.000000000",
          "2004-07-01T00:00:00.000000000",
          "2004-08-01T00:00:00.000000000",
          "2004-09-01T00:00:00.000000000",
          "2004-10-01T00:00:00.000000000",
          "2004-11-01T00:00:00.000000000",
          "2004-12-01T00:00:00.000000000",
          "2005-01-01T00:00:00.000000000",
          "2005-02-01T00:00:00.000000000",
          "2005-03-01T00:00:00.000000000",
          "2005-04-01T00:00:00.000000000",
          "2005-05-01T00:00:00.000000000",
          "2005-06-01T00:00:00.000000000",
          "2005-07-01T00:00:00.000000000",
          "2005-08-01T00:00:00.000000000",
          "2005-09-01T00:00:00.000000000",
          "2005-10-01T00:00:00.000000000",
          "2005-11-01T00:00:00.000000000",
          "2005-12-01T00:00:00.000000000",
          "2006-01-01T00:00:00.000000000",
          "2006-02-01T00:00:00.000000000",
          "2006-03-01T00:00:00.000000000",
          "2006-04-01T00:00:00.000000000",
          "2006-05-01T00:00:00.000000000",
          "2006-06-01T00:00:00.000000000",
          "2006-07-01T00:00:00.000000000",
          "2006-08-01T00:00:00.000000000",
          "2006-09-01T00:00:00.000000000",
          "2006-10-01T00:00:00.000000000",
          "2006-11-01T00:00:00.000000000",
          "2006-12-01T00:00:00.000000000",
          "2007-01-01T00:00:00.000000000",
          "2007-02-01T00:00:00.000000000",
          "2007-03-01T00:00:00.000000000",
          "2007-04-01T00:00:00.000000000",
          "2007-05-01T00:00:00.000000000",
          "2007-06-01T00:00:00.000000000",
          "2007-07-01T00:00:00.000000000",
          "2007-08-01T00:00:00.000000000",
          "2007-09-01T00:00:00.000000000",
          "2007-10-01T00:00:00.000000000",
          "2007-11-01T00:00:00.000000000",
          "2007-12-01T00:00:00.000000000",
          "2008-01-01T00:00:00.000000000",
          "2008-02-01T00:00:00.000000000",
          "2008-03-01T00:00:00.000000000",
          "2008-04-01T00:00:00.000000000",
          "2008-05-01T00:00:00.000000000",
          "2008-06-01T00:00:00.000000000",
          "2008-07-01T00:00:00.000000000",
          "2008-08-01T00:00:00.000000000",
          "2008-09-01T00:00:00.000000000",
          "2008-10-01T00:00:00.000000000",
          "2008-11-01T00:00:00.000000000",
          "2008-12-01T00:00:00.000000000",
          "2009-01-01T00:00:00.000000000",
          "2009-02-01T00:00:00.000000000",
          "2009-03-01T00:00:00.000000000",
          "2009-04-01T00:00:00.000000000",
          "2009-05-01T00:00:00.000000000",
          "2009-06-01T00:00:00.000000000",
          "2009-07-01T00:00:00.000000000",
          "2009-08-01T00:00:00.000000000",
          "2009-09-01T00:00:00.000000000",
          "2009-10-01T00:00:00.000000000",
          "2009-11-01T00:00:00.000000000",
          "2009-12-01T00:00:00.000000000",
          "2010-01-01T00:00:00.000000000",
          "2010-02-01T00:00:00.000000000",
          "2010-03-01T00:00:00.000000000",
          "2010-04-01T00:00:00.000000000",
          "2010-05-01T00:00:00.000000000",
          "2010-06-01T00:00:00.000000000",
          "2010-07-01T00:00:00.000000000",
          "2010-08-01T00:00:00.000000000",
          "2010-09-01T00:00:00.000000000",
          "2010-10-01T00:00:00.000000000",
          "2010-11-01T00:00:00.000000000",
          "2010-12-01T00:00:00.000000000",
          "2011-01-01T00:00:00.000000000",
          "2011-02-01T00:00:00.000000000",
          "2011-03-01T00:00:00.000000000",
          "2011-04-01T00:00:00.000000000",
          "2011-05-01T00:00:00.000000000",
          "2011-06-01T00:00:00.000000000",
          "2011-07-01T00:00:00.000000000",
          "2011-08-01T00:00:00.000000000",
          "2011-09-01T00:00:00.000000000",
          "2011-10-01T00:00:00.000000000",
          "2011-11-01T00:00:00.000000000",
          "2011-12-01T00:00:00.000000000",
          "2012-01-01T00:00:00.000000000",
          "2012-02-01T00:00:00.000000000",
          "2012-03-01T00:00:00.000000000",
          "2012-04-01T00:00:00.000000000",
          "2012-05-01T00:00:00.000000000",
          "2012-06-01T00:00:00.000000000",
          "2012-07-01T00:00:00.000000000",
          "2012-08-01T00:00:00.000000000",
          "2012-09-01T00:00:00.000000000",
          "2012-10-01T00:00:00.000000000",
          "2012-11-01T00:00:00.000000000",
          "2012-12-01T00:00:00.000000000",
          "2013-01-01T00:00:00.000000000",
          "2013-02-01T00:00:00.000000000",
          "2013-03-01T00:00:00.000000000",
          "2013-04-01T00:00:00.000000000",
          "2013-05-01T00:00:00.000000000",
          "2013-06-01T00:00:00.000000000",
          "2013-07-01T00:00:00.000000000",
          "2013-08-01T00:00:00.000000000",
          "2013-09-01T00:00:00.000000000",
          "2013-10-01T00:00:00.000000000",
          "2013-11-01T00:00:00.000000000",
          "2013-12-01T00:00:00.000000000",
          "2014-01-01T00:00:00.000000000",
          "2014-02-01T00:00:00.000000000",
          "2014-03-01T00:00:00.000000000",
          "2014-04-01T00:00:00.000000000",
          "2014-05-01T00:00:00.000000000",
          "2014-06-01T00:00:00.000000000",
          "2014-07-01T00:00:00.000000000",
          "2014-08-01T00:00:00.000000000",
          "2014-09-01T00:00:00.000000000",
          "2014-10-01T00:00:00.000000000",
          "2014-11-01T00:00:00.000000000",
          "2014-12-01T00:00:00.000000000",
          "2015-01-01T00:00:00.000000000",
          "2015-02-01T00:00:00.000000000",
          "2015-03-01T00:00:00.000000000",
          "2015-04-01T00:00:00.000000000",
          "2015-05-01T00:00:00.000000000",
          "2015-06-01T00:00:00.000000000",
          "2015-07-01T00:00:00.000000000",
          "2015-08-01T00:00:00.000000000",
          "2015-09-01T00:00:00.000000000",
          "2015-10-01T00:00:00.000000000",
          "2015-11-01T00:00:00.000000000",
          "2015-12-01T00:00:00.000000000",
          "2016-01-01T00:00:00.000000000",
          "2016-02-01T00:00:00.000000000",
          "2016-03-01T00:00:00.000000000",
          "2016-04-01T00:00:00.000000000",
          "2016-05-01T00:00:00.000000000",
          "2016-06-01T00:00:00.000000000",
          "2016-07-01T00:00:00.000000000",
          "2016-08-01T00:00:00.000000000",
          "2016-09-01T00:00:00.000000000",
          "2016-10-01T00:00:00.000000000",
          "2016-11-01T00:00:00.000000000",
          "2016-12-01T00:00:00.000000000",
          "2017-01-01T00:00:00.000000000",
          "2017-02-01T00:00:00.000000000",
          "2017-03-01T00:00:00.000000000",
          "2017-04-01T00:00:00.000000000",
          "2017-05-01T00:00:00.000000000",
          "2017-06-01T00:00:00.000000000",
          "2017-07-01T00:00:00.000000000",
          "2017-08-01T00:00:00.000000000",
          "2017-09-01T00:00:00.000000000",
          "2017-10-01T00:00:00.000000000",
          "2017-11-01T00:00:00.000000000",
          "2017-12-01T00:00:00.000000000",
          "2018-01-01T00:00:00.000000000",
          "2018-02-01T00:00:00.000000000",
          "2018-03-01T00:00:00.000000000",
          "2018-04-01T00:00:00.000000000",
          "2018-05-01T00:00:00.000000000",
          "2018-06-01T00:00:00.000000000",
          "2018-07-01T00:00:00.000000000",
          "2018-08-01T00:00:00.000000000",
          "2018-09-01T00:00:00.000000000",
          "2018-10-01T00:00:00.000000000",
          "2018-11-01T00:00:00.000000000",
          "2018-12-01T00:00:00.000000000",
          "2019-01-01T00:00:00.000000000",
          "2019-02-01T00:00:00.000000000",
          "2019-03-01T00:00:00.000000000",
          "2019-04-01T00:00:00.000000000",
          "2019-05-01T00:00:00.000000000",
          "2019-06-01T00:00:00.000000000",
          "2019-07-01T00:00:00.000000000",
          "2019-08-01T00:00:00.000000000",
          "2019-09-01T00:00:00.000000000",
          "2019-10-01T00:00:00.000000000",
          "2019-11-01T00:00:00.000000000",
          "2019-12-01T00:00:00.000000000",
          "2020-01-01T00:00:00.000000000",
          "2020-02-01T00:00:00.000000000",
          "2020-03-01T00:00:00.000000000",
          "2020-04-01T00:00:00.000000000",
          "2020-05-01T00:00:00.000000000",
          "2020-06-01T00:00:00.000000000",
          "2020-07-01T00:00:00.000000000",
          "2020-08-01T00:00:00.000000000",
          "2020-09-01T00:00:00.000000000",
          "2020-10-01T00:00:00.000000000",
          "2020-11-01T00:00:00.000000000",
          "2020-12-01T00:00:00.000000000",
          "2021-01-01T00:00:00.000000000",
          "2021-02-01T00:00:00.000000000",
          "2021-03-01T00:00:00.000000000",
          "2021-04-01T00:00:00.000000000",
          "2021-05-01T00:00:00.000000000",
          "2021-06-01T00:00:00.000000000",
          "2021-07-01T00:00:00.000000000",
          "2021-08-01T00:00:00.000000000",
          "2021-09-01T00:00:00.000000000",
          "2021-10-01T00:00:00.000000000",
          "2021-11-01T00:00:00.000000000",
          "2021-12-01T00:00:00.000000000",
          "2022-01-01T00:00:00.000000000",
          "2022-02-01T00:00:00.000000000",
          "2022-03-01T00:00:00.000000000",
          "2022-04-01T00:00:00.000000000",
          "2022-05-01T00:00:00.000000000",
          "2022-06-01T00:00:00.000000000",
          "2022-07-01T00:00:00.000000000",
          "2022-08-01T00:00:00.000000000",
          "2022-09-01T00:00:00.000000000",
          "2022-10-01T00:00:00.000000000",
          "2022-11-01T00:00:00.000000000",
          "2022-12-01T00:00:00.000000000",
          "2023-01-01T00:00:00.000000000",
          "2023-02-01T00:00:00.000000000",
          "2023-03-01T00:00:00.000000000",
          "2023-04-01T00:00:00.000000000",
          "2023-05-01T00:00:00.000000000",
          "2023-06-01T00:00:00.000000000",
          "2023-07-01T00:00:00.000000000",
          "2023-08-01T00:00:00.000000000",
          "2023-09-01T00:00:00.000000000",
          "2023-10-01T00:00:00.000000000",
          "2023-11-01T00:00:00.000000000",
          "2023-12-01T00:00:00.000000000",
          "2024-01-01T00:00:00.000000000",
          "2024-02-01T00:00:00.000000000",
          "2024-03-01T00:00:00.000000000",
          "2024-04-01T00:00:00.000000000",
          "2024-05-01T00:00:00.000000000",
          "2024-06-01T00:00:00.000000000",
          "2024-07-01T00:00:00.000000000",
          "2024-08-01T00:00:00.000000000",
          "2024-09-01T00:00:00.000000000",
          "2024-10-01T00:00:00.000000000",
          "2024-11-01T00:00:00.000000000",
          "2024-12-01T00:00:00.000000000"
         ],
         "xaxis": "x2",
         "y": {
          "bdata": "DwAXABYAGgAjADIALQAjACAALAA9ACwAKQAyADQANgBLACsALgAkACUAIwAgADIAIgAlAC0AQABRAD8ASAArACkAKgAlACwAPgAsAC0AJgAqADoANwApADIALQAvAEMAKAAgADEAMgAwAEEAOwA3AGEANwAsADUALgA1ADwANgBLAEIASAAoAC0ANgA/AEEAMQA+AHIANQBWAFMATwBUAEUAUABKAEEANwBIAEIAPgBQAEQAPQAzADwAWwBHAFUAQgBQAEAAZABzAEsAXwA5AEkAVQBjAHAARwBHAFAAfAB5AF4AZgBUAFoAVgBrAGAARgBkAGIAggCiAIoAdwBnAHMAvwB3AKYAhABsAO4AhACqAHYAhwCmAIoAkQCpAJIArgCqAMsAnQCvALQAyQC2AM8A1QDhAMoAqQD2AN0AtADpAM8ADAEOAekABgH3ABIB8QD3ABABHgEnAfYA8gC5APkA/ADeAOkA8AAoAT0BBAHoADcBJgEwAWUBSAE2AUIBMgE7AWcBawEwAXABIwEzAW8BbwFzAW4BFwF/AbQBXAGdAfMBcgFyAcoBuAG4AbUBpAEBAjsC9wHlATgDnwKeAccBugIlAiQCBgPeAv0DLwIDAiACUQLZAY0CPwI6Ao8CEQOaAooCjwKqAmsCegI/AnIClQK7ArECgQKcAgYDwgLqAhQD3wKsAmoDIwPvAusC9gIjA84DegPUAwAEqQOQA/YDIgRkBA4EjAPqA7gEfATmBMwENwUaBUcF0gSlBb4EdwRzBUwG4QUCB5kGZwYrBi4HSAftB30GLwZXBosH6ghfCWMJ8gg6CBIK+QnjCVsIggcICesJjwqBCuMLHAxlCrEKVQ4KDOgLzQkgCi8NzgwsDFQOBww6C4ANLQ5BDNcLFwpsCyMPJw3vDdUNCg4IDMwNtxFZD2IMYgo+DcQRoQ4zE0URRhB6EcARBhUCE6YS/RDmE/kXtRUxGBcaShnTFugbRx3ZHTgi",
          "dtype": "i2"
         },
         "yaxis": "y2"
        },
        {
         "hovertemplate": "<b>OLS trendline</b><br>log10(count) = 2.37222e-09 * period + -0.430417<br>R<sup>2</sup>=0.974390<br><br>period=%{x}<br>count=%{y} <b>(trend)</b><extra></extra>",
         "legendgroup": "",
         "line": {
          "color": "red"
         },
         "marker": {
          "color": "#636efa",
          "symbol": "circle"
         },
         "mode": "lines",
         "name": "",
         "showlegend": false,
         "type": "scatter",
         "x": [
          "1994-01-01T00:00:00.000000000",
          "1994-02-01T00:00:00.000000000",
          "1994-03-01T00:00:00.000000000",
          "1994-04-01T00:00:00.000000000",
          "1994-05-01T00:00:00.000000000",
          "1994-06-01T00:00:00.000000000",
          "1994-07-01T00:00:00.000000000",
          "1994-08-01T00:00:00.000000000",
          "1994-09-01T00:00:00.000000000",
          "1994-10-01T00:00:00.000000000",
          "1994-11-01T00:00:00.000000000",
          "1994-12-01T00:00:00.000000000",
          "1995-01-01T00:00:00.000000000",
          "1995-02-01T00:00:00.000000000",
          "1995-03-01T00:00:00.000000000",
          "1995-04-01T00:00:00.000000000",
          "1995-05-01T00:00:00.000000000",
          "1995-06-01T00:00:00.000000000",
          "1995-07-01T00:00:00.000000000",
          "1995-08-01T00:00:00.000000000",
          "1995-09-01T00:00:00.000000000",
          "1995-10-01T00:00:00.000000000",
          "1995-11-01T00:00:00.000000000",
          "1995-12-01T00:00:00.000000000",
          "1996-01-01T00:00:00.000000000",
          "1996-02-01T00:00:00.000000000",
          "1996-03-01T00:00:00.000000000",
          "1996-04-01T00:00:00.000000000",
          "1996-05-01T00:00:00.000000000",
          "1996-06-01T00:00:00.000000000",
          "1996-07-01T00:00:00.000000000",
          "1996-08-01T00:00:00.000000000",
          "1996-09-01T00:00:00.000000000",
          "1996-10-01T00:00:00.000000000",
          "1996-11-01T00:00:00.000000000",
          "1996-12-01T00:00:00.000000000",
          "1997-01-01T00:00:00.000000000",
          "1997-02-01T00:00:00.000000000",
          "1997-03-01T00:00:00.000000000",
          "1997-04-01T00:00:00.000000000",
          "1997-05-01T00:00:00.000000000",
          "1997-06-01T00:00:00.000000000",
          "1997-07-01T00:00:00.000000000",
          "1997-08-01T00:00:00.000000000",
          "1997-09-01T00:00:00.000000000",
          "1997-10-01T00:00:00.000000000",
          "1997-11-01T00:00:00.000000000",
          "1997-12-01T00:00:00.000000000",
          "1998-01-01T00:00:00.000000000",
          "1998-02-01T00:00:00.000000000",
          "1998-03-01T00:00:00.000000000",
          "1998-04-01T00:00:00.000000000",
          "1998-05-01T00:00:00.000000000",
          "1998-06-01T00:00:00.000000000",
          "1998-07-01T00:00:00.000000000",
          "1998-08-01T00:00:00.000000000",
          "1998-09-01T00:00:00.000000000",
          "1998-10-01T00:00:00.000000000",
          "1998-11-01T00:00:00.000000000",
          "1998-12-01T00:00:00.000000000",
          "1999-01-01T00:00:00.000000000",
          "1999-02-01T00:00:00.000000000",
          "1999-03-01T00:00:00.000000000",
          "1999-04-01T00:00:00.000000000",
          "1999-05-01T00:00:00.000000000",
          "1999-06-01T00:00:00.000000000",
          "1999-07-01T00:00:00.000000000",
          "1999-08-01T00:00:00.000000000",
          "1999-09-01T00:00:00.000000000",
          "1999-10-01T00:00:00.000000000",
          "1999-11-01T00:00:00.000000000",
          "1999-12-01T00:00:00.000000000",
          "2000-01-01T00:00:00.000000000",
          "2000-02-01T00:00:00.000000000",
          "2000-03-01T00:00:00.000000000",
          "2000-04-01T00:00:00.000000000",
          "2000-05-01T00:00:00.000000000",
          "2000-06-01T00:00:00.000000000",
          "2000-07-01T00:00:00.000000000",
          "2000-08-01T00:00:00.000000000",
          "2000-09-01T00:00:00.000000000",
          "2000-10-01T00:00:00.000000000",
          "2000-11-01T00:00:00.000000000",
          "2000-12-01T00:00:00.000000000",
          "2001-01-01T00:00:00.000000000",
          "2001-02-01T00:00:00.000000000",
          "2001-03-01T00:00:00.000000000",
          "2001-04-01T00:00:00.000000000",
          "2001-05-01T00:00:00.000000000",
          "2001-06-01T00:00:00.000000000",
          "2001-07-01T00:00:00.000000000",
          "2001-08-01T00:00:00.000000000",
          "2001-09-01T00:00:00.000000000",
          "2001-10-01T00:00:00.000000000",
          "2001-11-01T00:00:00.000000000",
          "2001-12-01T00:00:00.000000000",
          "2002-01-01T00:00:00.000000000",
          "2002-02-01T00:00:00.000000000",
          "2002-03-01T00:00:00.000000000",
          "2002-04-01T00:00:00.000000000",
          "2002-05-01T00:00:00.000000000",
          "2002-06-01T00:00:00.000000000",
          "2002-07-01T00:00:00.000000000",
          "2002-08-01T00:00:00.000000000",
          "2002-09-01T00:00:00.000000000",
          "2002-10-01T00:00:00.000000000",
          "2002-11-01T00:00:00.000000000",
          "2002-12-01T00:00:00.000000000",
          "2003-01-01T00:00:00.000000000",
          "2003-02-01T00:00:00.000000000",
          "2003-03-01T00:00:00.000000000",
          "2003-04-01T00:00:00.000000000",
          "2003-05-01T00:00:00.000000000",
          "2003-06-01T00:00:00.000000000",
          "2003-07-01T00:00:00.000000000",
          "2003-08-01T00:00:00.000000000",
          "2003-09-01T00:00:00.000000000",
          "2003-10-01T00:00:00.000000000",
          "2003-11-01T00:00:00.000000000",
          "2003-12-01T00:00:00.000000000",
          "2004-01-01T00:00:00.000000000",
          "2004-02-01T00:00:00.000000000",
          "2004-03-01T00:00:00.000000000",
          "2004-04-01T00:00:00.000000000",
          "2004-05-01T00:00:00.000000000",
          "2004-06-01T00:00:00.000000000",
          "2004-07-01T00:00:00.000000000",
          "2004-08-01T00:00:00.000000000",
          "2004-09-01T00:00:00.000000000",
          "2004-10-01T00:00:00.000000000",
          "2004-11-01T00:00:00.000000000",
          "2004-12-01T00:00:00.000000000",
          "2005-01-01T00:00:00.000000000",
          "2005-02-01T00:00:00.000000000",
          "2005-03-01T00:00:00.000000000",
          "2005-04-01T00:00:00.000000000",
          "2005-05-01T00:00:00.000000000",
          "2005-06-01T00:00:00.000000000",
          "2005-07-01T00:00:00.000000000",
          "2005-08-01T00:00:00.000000000",
          "2005-09-01T00:00:00.000000000",
          "2005-10-01T00:00:00.000000000",
          "2005-11-01T00:00:00.000000000",
          "2005-12-01T00:00:00.000000000",
          "2006-01-01T00:00:00.000000000",
          "2006-02-01T00:00:00.000000000",
          "2006-03-01T00:00:00.000000000",
          "2006-04-01T00:00:00.000000000",
          "2006-05-01T00:00:00.000000000",
          "2006-06-01T00:00:00.000000000",
          "2006-07-01T00:00:00.000000000",
          "2006-08-01T00:00:00.000000000",
          "2006-09-01T00:00:00.000000000",
          "2006-10-01T00:00:00.000000000",
          "2006-11-01T00:00:00.000000000",
          "2006-12-01T00:00:00.000000000",
          "2007-01-01T00:00:00.000000000",
          "2007-02-01T00:00:00.000000000",
          "2007-03-01T00:00:00.000000000",
          "2007-04-01T00:00:00.000000000",
          "2007-05-01T00:00:00.000000000",
          "2007-06-01T00:00:00.000000000",
          "2007-07-01T00:00:00.000000000",
          "2007-08-01T00:00:00.000000000",
          "2007-09-01T00:00:00.000000000",
          "2007-10-01T00:00:00.000000000",
          "2007-11-01T00:00:00.000000000",
          "2007-12-01T00:00:00.000000000",
          "2008-01-01T00:00:00.000000000",
          "2008-02-01T00:00:00.000000000",
          "2008-03-01T00:00:00.000000000",
          "2008-04-01T00:00:00.000000000",
          "2008-05-01T00:00:00.000000000",
          "2008-06-01T00:00:00.000000000",
          "2008-07-01T00:00:00.000000000",
          "2008-08-01T00:00:00.000000000",
          "2008-09-01T00:00:00.000000000",
          "2008-10-01T00:00:00.000000000",
          "2008-11-01T00:00:00.000000000",
          "2008-12-01T00:00:00.000000000",
          "2009-01-01T00:00:00.000000000",
          "2009-02-01T00:00:00.000000000",
          "2009-03-01T00:00:00.000000000",
          "2009-04-01T00:00:00.000000000",
          "2009-05-01T00:00:00.000000000",
          "2009-06-01T00:00:00.000000000",
          "2009-07-01T00:00:00.000000000",
          "2009-08-01T00:00:00.000000000",
          "2009-09-01T00:00:00.000000000",
          "2009-10-01T00:00:00.000000000",
          "2009-11-01T00:00:00.000000000",
          "2009-12-01T00:00:00.000000000",
          "2010-01-01T00:00:00.000000000",
          "2010-02-01T00:00:00.000000000",
          "2010-03-01T00:00:00.000000000",
          "2010-04-01T00:00:00.000000000",
          "2010-05-01T00:00:00.000000000",
          "2010-06-01T00:00:00.000000000",
          "2010-07-01T00:00:00.000000000",
          "2010-08-01T00:00:00.000000000",
          "2010-09-01T00:00:00.000000000",
          "2010-10-01T00:00:00.000000000",
          "2010-11-01T00:00:00.000000000",
          "2010-12-01T00:00:00.000000000",
          "2011-01-01T00:00:00.000000000",
          "2011-02-01T00:00:00.000000000",
          "2011-03-01T00:00:00.000000000",
          "2011-04-01T00:00:00.000000000",
          "2011-05-01T00:00:00.000000000",
          "2011-06-01T00:00:00.000000000",
          "2011-07-01T00:00:00.000000000",
          "2011-08-01T00:00:00.000000000",
          "2011-09-01T00:00:00.000000000",
          "2011-10-01T00:00:00.000000000",
          "2011-11-01T00:00:00.000000000",
          "2011-12-01T00:00:00.000000000",
          "2012-01-01T00:00:00.000000000",
          "2012-02-01T00:00:00.000000000",
          "2012-03-01T00:00:00.000000000",
          "2012-04-01T00:00:00.000000000",
          "2012-05-01T00:00:00.000000000",
          "2012-06-01T00:00:00.000000000",
          "2012-07-01T00:00:00.000000000",
          "2012-08-01T00:00:00.000000000",
          "2012-09-01T00:00:00.000000000",
          "2012-10-01T00:00:00.000000000",
          "2012-11-01T00:00:00.000000000",
          "2012-12-01T00:00:00.000000000",
          "2013-01-01T00:00:00.000000000",
          "2013-02-01T00:00:00.000000000",
          "2013-03-01T00:00:00.000000000",
          "2013-04-01T00:00:00.000000000",
          "2013-05-01T00:00:00.000000000",
          "2013-06-01T00:00:00.000000000",
          "2013-07-01T00:00:00.000000000",
          "2013-08-01T00:00:00.000000000",
          "2013-09-01T00:00:00.000000000",
          "2013-10-01T00:00:00.000000000",
          "2013-11-01T00:00:00.000000000",
          "2013-12-01T00:00:00.000000000",
          "2014-01-01T00:00:00.000000000",
          "2014-02-01T00:00:00.000000000",
          "2014-03-01T00:00:00.000000000",
          "2014-04-01T00:00:00.000000000",
          "2014-05-01T00:00:00.000000000",
          "2014-06-01T00:00:00.000000000",
          "2014-07-01T00:00:00.000000000",
          "2014-08-01T00:00:00.000000000",
          "2014-09-01T00:00:00.000000000",
          "2014-10-01T00:00:00.000000000",
          "2014-11-01T00:00:00.000000000",
          "2014-12-01T00:00:00.000000000",
          "2015-01-01T00:00:00.000000000",
          "2015-02-01T00:00:00.000000000",
          "2015-03-01T00:00:00.000000000",
          "2015-04-01T00:00:00.000000000",
          "2015-05-01T00:00:00.000000000",
          "2015-06-01T00:00:00.000000000",
          "2015-07-01T00:00:00.000000000",
          "2015-08-01T00:00:00.000000000",
          "2015-09-01T00:00:00.000000000",
          "2015-10-01T00:00:00.000000000",
          "2015-11-01T00:00:00.000000000",
          "2015-12-01T00:00:00.000000000",
          "2016-01-01T00:00:00.000000000",
          "2016-02-01T00:00:00.000000000",
          "2016-03-01T00:00:00.000000000",
          "2016-04-01T00:00:00.000000000",
          "2016-05-01T00:00:00.000000000",
          "2016-06-01T00:00:00.000000000",
          "2016-07-01T00:00:00.000000000",
          "2016-08-01T00:00:00.000000000",
          "2016-09-01T00:00:00.000000000",
          "2016-10-01T00:00:00.000000000",
          "2016-11-01T00:00:00.000000000",
          "2016-12-01T00:00:00.000000000",
          "2017-01-01T00:00:00.000000000",
          "2017-02-01T00:00:00.000000000",
          "2017-03-01T00:00:00.000000000",
          "2017-04-01T00:00:00.000000000",
          "2017-05-01T00:00:00.000000000",
          "2017-06-01T00:00:00.000000000",
          "2017-07-01T00:00:00.000000000",
          "2017-08-01T00:00:00.000000000",
          "2017-09-01T00:00:00.000000000",
          "2017-10-01T00:00:00.000000000",
          "2017-11-01T00:00:00.000000000",
          "2017-12-01T00:00:00.000000000",
          "2018-01-01T00:00:00.000000000",
          "2018-02-01T00:00:00.000000000",
          "2018-03-01T00:00:00.000000000",
          "2018-04-01T00:00:00.000000000",
          "2018-05-01T00:00:00.000000000",
          "2018-06-01T00:00:00.000000000",
          "2018-07-01T00:00:00.000000000",
          "2018-08-01T00:00:00.000000000",
          "2018-09-01T00:00:00.000000000",
          "2018-10-01T00:00:00.000000000",
          "2018-11-01T00:00:00.000000000",
          "2018-12-01T00:00:00.000000000",
          "2019-01-01T00:00:00.000000000",
          "2019-02-01T00:00:00.000000000",
          "2019-03-01T00:00:00.000000000",
          "2019-04-01T00:00:00.000000000",
          "2019-05-01T00:00:00.000000000",
          "2019-06-01T00:00:00.000000000",
          "2019-07-01T00:00:00.000000000",
          "2019-08-01T00:00:00.000000000",
          "2019-09-01T00:00:00.000000000",
          "2019-10-01T00:00:00.000000000",
          "2019-11-01T00:00:00.000000000",
          "2019-12-01T00:00:00.000000000",
          "2020-01-01T00:00:00.000000000",
          "2020-02-01T00:00:00.000000000",
          "2020-03-01T00:00:00.000000000",
          "2020-04-01T00:00:00.000000000",
          "2020-05-01T00:00:00.000000000",
          "2020-06-01T00:00:00.000000000",
          "2020-07-01T00:00:00.000000000",
          "2020-08-01T00:00:00.000000000",
          "2020-09-01T00:00:00.000000000",
          "2020-10-01T00:00:00.000000000",
          "2020-11-01T00:00:00.000000000",
          "2020-12-01T00:00:00.000000000",
          "2021-01-01T00:00:00.000000000",
          "2021-02-01T00:00:00.000000000",
          "2021-03-01T00:00:00.000000000",
          "2021-04-01T00:00:00.000000000",
          "2021-05-01T00:00:00.000000000",
          "2021-06-01T00:00:00.000000000",
          "2021-07-01T00:00:00.000000000",
          "2021-08-01T00:00:00.000000000",
          "2021-09-01T00:00:00.000000000",
          "2021-10-01T00:00:00.000000000",
          "2021-11-01T00:00:00.000000000",
          "2021-12-01T00:00:00.000000000",
          "2022-01-01T00:00:00.000000000",
          "2022-02-01T00:00:00.000000000",
          "2022-03-01T00:00:00.000000000",
          "2022-04-01T00:00:00.000000000",
          "2022-05-01T00:00:00.000000000",
          "2022-06-01T00:00:00.000000000",
          "2022-07-01T00:00:00.000000000",
          "2022-08-01T00:00:00.000000000",
          "2022-09-01T00:00:00.000000000",
          "2022-10-01T00:00:00.000000000",
          "2022-11-01T00:00:00.000000000",
          "2022-12-01T00:00:00.000000000",
          "2023-01-01T00:00:00.000000000",
          "2023-02-01T00:00:00.000000000",
          "2023-03-01T00:00:00.000000000",
          "2023-04-01T00:00:00.000000000",
          "2023-05-01T00:00:00.000000000",
          "2023-06-01T00:00:00.000000000",
          "2023-07-01T00:00:00.000000000",
          "2023-08-01T00:00:00.000000000",
          "2023-09-01T00:00:00.000000000",
          "2023-10-01T00:00:00.000000000",
          "2023-11-01T00:00:00.000000000",
          "2023-12-01T00:00:00.000000000",
          "2024-01-01T00:00:00.000000000",
          "2024-02-01T00:00:00.000000000",
          "2024-03-01T00:00:00.000000000",
          "2024-04-01T00:00:00.000000000",
          "2024-05-01T00:00:00.000000000",
          "2024-06-01T00:00:00.000000000",
          "2024-07-01T00:00:00.000000000",
          "2024-08-01T00:00:00.000000000",
          "2024-09-01T00:00:00.000000000",
          "2024-10-01T00:00:00.000000000",
          "2024-11-01T00:00:00.000000000",
          "2024-12-01T00:00:00.000000000"
         ],
         "xaxis": "x2",
         "y": {
          "bdata": "CcFVLbo9N0BCKI9raZU3QClfTY+45TdAnTPRnOE/OECfZ8fwZZg4QNqlPBwx9ThAgkFwREtQOUCzMB8+zK85QJ4eXIm1EDpAZOZemtpvOkBdE2F9mNM6QDyb6vCENTtA1BRhlSycO0BUCiyGVwQ8QG0BHW6/YzxAESdqU9vOPEBzr1xoAzg9QHvljSRApj1Ag91Zd3oSPkBfCzRu74M+QFWicXIQ9z5ANcuiORhoP0BiYa0Llt4/QDir53d1KUBAGEPiWW9mQEAwUR9JT6RAQOm7HI8E30BAH6dHbqseQUDuofdGKV1BQOHftRCsnkFA5KInJ/3eQUC0BNbBaSJCQDljpr3UZkJAJ1tydQCqQkAHFHP+avBCQGYLVPCMNUNABX9S9wV+Q0Cf9IZrkMdDQFVUYVPrCkRAAZa+WolWREDTELKFxqBEQGlQc+6Z7kRArGt/LAI7RUDywup5G4tFQMGoIPpi3EVAWbcZMi8sRkAczjVp1n9GQFd6PUT30UZA2nUM8g8oR0CUjFhzbX9HQNgIOLpxz0dALQL7u0YpSEA+lmGMeIFIQMeQrzft3UhAg4Jhc7I4SUDrTihm2pdJQKIjm1pp+ElA4MxiujVXSkDE9yajlrpKQOtnUc4nHEtAX7FbwW+CS0BVILKXOepLQF52GZBISUxAUtcNnQC0TEDLjJKrxhxNQFyz46Scik1AcihWFHL2TUB6SvtHfWdOQIv7/fky2k5A9iTCY9FKT0D9sCTB4MBPQFh6BppkGlBA0qm+pCVXUECHC0bmy5RQQMDrPHJKz1BAyYec+7UOUUDj8GKT+UxRQLnQsUs/jlFAYiisbVTOUUASElIughFSQMcw+WKtVVJAxBA5fZqYUkAkijRiw95SQPWhXuKkI1NAdmyOWtprU0A8DBJBILVTQNaCY188+FNA7JeJ6ZNDVECDMTTgi41UQCabtLwW21RA9ooJwTcnVUCyy8VjBndVQJ5dmB8CyFVAAoK99IMXVkBdEvYw3WpWQJIn/XyxvFZAl8Pc6HkSV0CUY235hWlXQEhNN6k/uVdATAeS7cASWED1/lOHoGpYQC0aHQO/xlhAi4B3oS8hWUDwclPg/n9ZQOiRMtIz4FlAyIds06c+WkAmuZ4YrKFaQM+ngVDiAltAqNJT68poW0D2WLoBNNBbQPqNf13qLlxAohIu7z6ZXECEi6VSowFdQJhx4egSb11AYDEG04PaXUBSUA2mJUteQIwa4GlwvV5AQmxv2KUtX0Au7yAoR6NfQGIEc8dhC2BAXDnlL+pHYEC0RHv5VoVgQP6Ab/6ev2BA33ZTac/+YECQ3H322DxhQC+VStbhfWFA1ROxO7u9YUBCXuVcqgBiQAAi1wWWRGJAnGDpvESHYkBmBBA7LM1iQBIeloXNEWNAGSrxrb9ZY0DBd6tGwaJjQP58+9We5WNApNSfJLAwZEBrXIQnY3pkQNOqZLulx2RAsJVnyH8TZUCOHw8GBGNlQMRWH0S0s2VA/vTH++sCZkAcDc6F91VmQBpkMop/p2ZAPTDz/vf8ZkA9LLPqslNnQMud70gio2dA4KvxHVD8Z0AKV7LN3VNoQNjMTWqmr2hAwfowusIJaUBy/9GXOWhpQKxLBdsUyGlAY+cR0DAmakCEXA3I2IhqQKUNcWG06WpAAgTs/D1Pa0Bw3pKtRrZrQDcqUL+kFGxA8fd0MpZ+bEB7nOpFmeZsQFPFgtiiU21AaPINm6++bUCYL7Jv6C5uQOnPAqnIoG5AxOI5fpUQb0A5YtEmyYVvQGudK+bZ+G9AjhIN7rw4cECx/kN18HVwQFjvCSYCsHBAsFiOqffucEB7qjdixyxxQORhOqKTbXFApoC8gjGtcUAFZ98+4u9xQN1IWJeOM3JAoPNkJf91ckCmIa55pbtyQK8ea8oGAHNATqKw4bVHc0B7j01sc5BzQMUL7aYS03NAa9SH+90ddEAQ9+xKTGd0QFTajtlGtHRAUgJnMdr/dEAAU1NPFE91QOZRAFZ5n3VAeSpDNWfudUCBFYRVJUF2QD8AYVlhknZAbM6NIYrndkBjNCE09D13QEF3F4YZjXdAcaiHOfTld0BG5qJLMD14QCIMHVmjmHhAkc0fqWvyeEB9vOh3ilB5QNjhCWAMsHlAYrL8mtANekCSKMybHHB6QLbXKeud0HpA76nb38g1e0DOAp+EcZx7QAqdoZ53+ntAC2eiTwZkfECywMxtqMt8QBK32VtMOH1ApRooVPWifUDLBUmMxRJ+QO9NaJ47hH5AF4HIO6DzfkDKYH2jZmh/QKglxx8M239Ab7j50Z0pgEBfzDFMmGaAQNpnbttzoIBA+P57ri7fgEDKvIzIxByBQI+5SKFUXYFA0whiNLecgUCbW53FKd+BQJWcogiXIoJAnoqbp8lkgkDIzcUOL6qCQOXDXKFQ7oJAV3cR5rw1g0A2mwGiNn6DQIIaC8KXwINAEXvXXR0LhEB5+sc5R1SEQNVSTgb6oIRANU/l6kbshED0Pi8uNzuFQI6OlkNRi4VAoPpJj/XZhUDaf++NZiyGQH0HHthWfYZA9Sz8PTDShkAAiMDCSSiHQDNRd00ld4dACPTTLK3Ph0BtdV7tlyaIQEsCebu1gYhAxODoWSrbiEBVxe9r8TiJQGqBSkwamIlAKZPqHof1iUDEkkh+d1eKQOK8yteet4pAk+7ufWsci0AkLFdwtIKLQCeUn+Ri4ItAFuyLL49JjECr9Myy0LCMQMedDlsPHY1AP/kl5lSHjUCc5UfjvPaNQL4SKjHJZ45A5uDZ98XWjkDGO4SEH0uPQDlmuiFavY9AwwR7zowakEDnxeJwTleQQPjMCxH0kJBAuRxYanTPkEDchYYb0QyRQG5gSsUkTZFASbhCQkyMkUDpD4rigM6RQHfs6UqvEZJADvGKNKRTkkBQNBzryJiSQJWh+Pqq3JJAwfVmq9Qjk0A+xN/XCmyTQLWoNxcurpNAbfkzO274k0CW5H7jU0GUQPn8zTC/jZRAyfPP48XYlECM8U+RbCeVQJ++Tfs7d5VALOwH+JbFlUDzjfgcuxeWQJ6wD/RfaJZAt0afQeq8lkDZ4KuDsxKXQP+M6YtFYZdAFrNo5Hq5l0AvPTCfFBCYQOeOYn3daphA5hVEuP7DmECcdlJfbiGZQGjh5Io+gJlAfAWtRlTdmUCoLARa6T6aQHXZhhG3nppAla4GwSUDm0AWwUhaD2mbQFgFi3pmxptAlKscuzAvnEAWHIL9EZacQDgKYL7rAZ1ANWjvOM5rnUDFwTtcztqdQMTSeEhxS55AyyZEmQa6nkDQJ12w8y2fQNBeH9LDn59AfRxt1okLoEAGfQHWEkigQK2mXbmCgaBANjprz8i/oEBEfDtN7PygQAlQIQAEPaFAeAANnvB7oUDj7x2H572hQC7Tb0/XAKJAH/A+vY5CokBBs4T/coeiQN6x2scVy6JArwYTIv0Ro0CqBw/+71mjQCG8Y5bVm6NAS79Rg9Dlo0D1qYo3ci6kQFBySEiWeqRAolEkC1fFpEAzn3JntBOlQDT3oWs5Y6VAwyS5XUuxpUA3X5jwIgOmQIRN7Zp8U6ZAS3LpGbinpkDqlQ9kMf2mQFBlWi56S6dAqibqTF2jp0Dm1HVNpvmnQJk17YoaVKhAiDb8r+isqEBIXI89AQqpQIowCgd5aKlAw0Mp/TfFqUASkZQZciaqQAycpYLmhapAjWUYk/fpqkANFRYsgk+rQIYaukmCrKtAKE5V2+oUrEBP7Zg2bHusQCuyIm7h5qxAPbeCNGFQrUBzV8je+b6tQPVinMszL65AROz0BmKdrkDnJpcN4xCvQGUzKBdJgq9AiMhwuSn5r0BZ8URu5TiwQM4W7MYfcrBAEqkK0CuwsECWDs9PFu2wQNSqvEPyLLFAx6t8OaRrsUDN8t6kXa2xQM6pgwcP8LFAgEHRMokxskDNzeA8LXayQKZHrfiQubJA",
          "dtype": "f8"
         },
         "yaxis": "y2"
        }
       ],
       "layout": {
        "annotations": [
         {
          "font": {
           "size": 16
          },
          "showarrow": false,
          "text": "Linear Scale",
          "x": 0.225,
          "xanchor": "center",
          "xref": "paper",
          "y": 1,
          "yanchor": "bottom",
          "yref": "paper"
         },
         {
          "font": {
           "size": 16
          },
          "showarrow": false,
          "text": "Log Scale",
          "x": 0.775,
          "xanchor": "center",
          "xref": "paper",
          "y": 1,
          "yanchor": "bottom",
          "yref": "paper"
         }
        ],
        "template": {
         "data": {
          "bar": [
           {
            "error_x": {
             "color": "#2a3f5f"
            },
            "error_y": {
             "color": "#2a3f5f"
            },
            "marker": {
             "line": {
              "color": "white",
              "width": 0.5
             },
             "pattern": {
              "fillmode": "overlay",
              "size": 10,
              "solidity": 0.2
             }
            },
            "type": "bar"
           }
          ],
          "barpolar": [
           {
            "marker": {
             "line": {
              "color": "white",
              "width": 0.5
             },
             "pattern": {
              "fillmode": "overlay",
              "size": 10,
              "solidity": 0.2
             }
            },
            "type": "barpolar"
           }
          ],
          "carpet": [
           {
            "aaxis": {
             "endlinecolor": "#2a3f5f",
             "gridcolor": "#C8D4E3",
             "linecolor": "#C8D4E3",
             "minorgridcolor": "#C8D4E3",
             "startlinecolor": "#2a3f5f"
            },
            "baxis": {
             "endlinecolor": "#2a3f5f",
             "gridcolor": "#C8D4E3",
             "linecolor": "#C8D4E3",
             "minorgridcolor": "#C8D4E3",
             "startlinecolor": "#2a3f5f"
            },
            "type": "carpet"
           }
          ],
          "choropleth": [
           {
            "colorbar": {
             "outlinewidth": 0,
             "ticks": ""
            },
            "type": "choropleth"
           }
          ],
          "contour": [
           {
            "colorbar": {
             "outlinewidth": 0,
             "ticks": ""
            },
            "colorscale": [
             [
              0,
              "#0d0887"
             ],
             [
              0.1111111111111111,
              "#46039f"
             ],
             [
              0.2222222222222222,
              "#7201a8"
             ],
             [
              0.3333333333333333,
              "#9c179e"
             ],
             [
              0.4444444444444444,
              "#bd3786"
             ],
             [
              0.5555555555555556,
              "#d8576b"
             ],
             [
              0.6666666666666666,
              "#ed7953"
             ],
             [
              0.7777777777777778,
              "#fb9f3a"
             ],
             [
              0.8888888888888888,
              "#fdca26"
             ],
             [
              1,
              "#f0f921"
             ]
            ],
            "type": "contour"
           }
          ],
          "contourcarpet": [
           {
            "colorbar": {
             "outlinewidth": 0,
             "ticks": ""
            },
            "type": "contourcarpet"
           }
          ],
          "heatmap": [
           {
            "colorbar": {
             "outlinewidth": 0,
             "ticks": ""
            },
            "colorscale": [
             [
              0,
              "#0d0887"
             ],
             [
              0.1111111111111111,
              "#46039f"
             ],
             [
              0.2222222222222222,
              "#7201a8"
             ],
             [
              0.3333333333333333,
              "#9c179e"
             ],
             [
              0.4444444444444444,
              "#bd3786"
             ],
             [
              0.5555555555555556,
              "#d8576b"
             ],
             [
              0.6666666666666666,
              "#ed7953"
             ],
             [
              0.7777777777777778,
              "#fb9f3a"
             ],
             [
              0.8888888888888888,
              "#fdca26"
             ],
             [
              1,
              "#f0f921"
             ]
            ],
            "type": "heatmap"
           }
          ],
          "histogram": [
           {
            "marker": {
             "pattern": {
              "fillmode": "overlay",
              "size": 10,
              "solidity": 0.2
             }
            },
            "type": "histogram"
           }
          ],
          "histogram2d": [
           {
            "colorbar": {
             "outlinewidth": 0,
             "ticks": ""
            },
            "colorscale": [
             [
              0,
              "#0d0887"
             ],
             [
              0.1111111111111111,
              "#46039f"
             ],
             [
              0.2222222222222222,
              "#7201a8"
             ],
             [
              0.3333333333333333,
              "#9c179e"
             ],
             [
              0.4444444444444444,
              "#bd3786"
             ],
             [
              0.5555555555555556,
              "#d8576b"
             ],
             [
              0.6666666666666666,
              "#ed7953"
             ],
             [
              0.7777777777777778,
              "#fb9f3a"
             ],
             [
              0.8888888888888888,
              "#fdca26"
             ],
             [
              1,
              "#f0f921"
             ]
            ],
            "type": "histogram2d"
           }
          ],
          "histogram2dcontour": [
           {
            "colorbar": {
             "outlinewidth": 0,
             "ticks": ""
            },
            "colorscale": [
             [
              0,
              "#0d0887"
             ],
             [
              0.1111111111111111,
              "#46039f"
             ],
             [
              0.2222222222222222,
              "#7201a8"
             ],
             [
              0.3333333333333333,
              "#9c179e"
             ],
             [
              0.4444444444444444,
              "#bd3786"
             ],
             [
              0.5555555555555556,
              "#d8576b"
             ],
             [
              0.6666666666666666,
              "#ed7953"
             ],
             [
              0.7777777777777778,
              "#fb9f3a"
             ],
             [
              0.8888888888888888,
              "#fdca26"
             ],
             [
              1,
              "#f0f921"
             ]
            ],
            "type": "histogram2dcontour"
           }
          ],
          "mesh3d": [
           {
            "colorbar": {
             "outlinewidth": 0,
             "ticks": ""
            },
            "type": "mesh3d"
           }
          ],
          "parcoords": [
           {
            "line": {
             "colorbar": {
              "outlinewidth": 0,
              "ticks": ""
             }
            },
            "type": "parcoords"
           }
          ],
          "pie": [
           {
            "automargin": true,
            "type": "pie"
           }
          ],
          "scatter": [
           {
            "fillpattern": {
             "fillmode": "overlay",
             "size": 10,
             "solidity": 0.2
            },
            "type": "scatter"
           }
          ],
          "scatter3d": [
           {
            "line": {
             "colorbar": {
              "outlinewidth": 0,
              "ticks": ""
             }
            },
            "marker": {
             "colorbar": {
              "outlinewidth": 0,
              "ticks": ""
             }
            },
            "type": "scatter3d"
           }
          ],
          "scattercarpet": [
           {
            "marker": {
             "colorbar": {
              "outlinewidth": 0,
              "ticks": ""
             }
            },
            "type": "scattercarpet"
           }
          ],
          "scattergeo": [
           {
            "marker": {
             "colorbar": {
              "outlinewidth": 0,
              "ticks": ""
             }
            },
            "type": "scattergeo"
           }
          ],
          "scattergl": [
           {
            "marker": {
             "colorbar": {
              "outlinewidth": 0,
              "ticks": ""
             }
            },
            "type": "scattergl"
           }
          ],
          "scattermap": [
           {
            "marker": {
             "colorbar": {
              "outlinewidth": 0,
              "ticks": ""
             }
            },
            "type": "scattermap"
           }
          ],
          "scattermapbox": [
           {
            "marker": {
             "colorbar": {
              "outlinewidth": 0,
              "ticks": ""
             }
            },
            "type": "scattermapbox"
           }
          ],
          "scatterpolar": [
           {
            "marker": {
             "colorbar": {
              "outlinewidth": 0,
              "ticks": ""
             }
            },
            "type": "scatterpolar"
           }
          ],
          "scatterpolargl": [
           {
            "marker": {
             "colorbar": {
              "outlinewidth": 0,
              "ticks": ""
             }
            },
            "type": "scatterpolargl"
           }
          ],
          "scatterternary": [
           {
            "marker": {
             "colorbar": {
              "outlinewidth": 0,
              "ticks": ""
             }
            },
            "type": "scatterternary"
           }
          ],
          "surface": [
           {
            "colorbar": {
             "outlinewidth": 0,
             "ticks": ""
            },
            "colorscale": [
             [
              0,
              "#0d0887"
             ],
             [
              0.1111111111111111,
              "#46039f"
             ],
             [
              0.2222222222222222,
              "#7201a8"
             ],
             [
              0.3333333333333333,
              "#9c179e"
             ],
             [
              0.4444444444444444,
              "#bd3786"
             ],
             [
              0.5555555555555556,
              "#d8576b"
             ],
             [
              0.6666666666666666,
              "#ed7953"
             ],
             [
              0.7777777777777778,
              "#fb9f3a"
             ],
             [
              0.8888888888888888,
              "#fdca26"
             ],
             [
              1,
              "#f0f921"
             ]
            ],
            "type": "surface"
           }
          ],
          "table": [
           {
            "cells": {
             "fill": {
              "color": "#EBF0F8"
             },
             "line": {
              "color": "white"
             }
            },
            "header": {
             "fill": {
              "color": "#C8D4E3"
             },
             "line": {
              "color": "white"
             }
            },
            "type": "table"
           }
          ]
         },
         "layout": {
          "annotationdefaults": {
           "arrowcolor": "#2a3f5f",
           "arrowhead": 0,
           "arrowwidth": 1
          },
          "autotypenumbers": "strict",
          "coloraxis": {
           "colorbar": {
            "outlinewidth": 0,
            "ticks": ""
           }
          },
          "colorscale": {
           "diverging": [
            [
             0,
             "#8e0152"
            ],
            [
             0.1,
             "#c51b7d"
            ],
            [
             0.2,
             "#de77ae"
            ],
            [
             0.3,
             "#f1b6da"
            ],
            [
             0.4,
             "#fde0ef"
            ],
            [
             0.5,
             "#f7f7f7"
            ],
            [
             0.6,
             "#e6f5d0"
            ],
            [
             0.7,
             "#b8e186"
            ],
            [
             0.8,
             "#7fbc41"
            ],
            [
             0.9,
             "#4d9221"
            ],
            [
             1,
             "#276419"
            ]
           ],
           "sequential": [
            [
             0,
             "#0d0887"
            ],
            [
             0.1111111111111111,
             "#46039f"
            ],
            [
             0.2222222222222222,
             "#7201a8"
            ],
            [
             0.3333333333333333,
             "#9c179e"
            ],
            [
             0.4444444444444444,
             "#bd3786"
            ],
            [
             0.5555555555555556,
             "#d8576b"
            ],
            [
             0.6666666666666666,
             "#ed7953"
            ],
            [
             0.7777777777777778,
             "#fb9f3a"
            ],
            [
             0.8888888888888888,
             "#fdca26"
            ],
            [
             1,
             "#f0f921"
            ]
           ],
           "sequentialminus": [
            [
             0,
             "#0d0887"
            ],
            [
             0.1111111111111111,
             "#46039f"
            ],
            [
             0.2222222222222222,
             "#7201a8"
            ],
            [
             0.3333333333333333,
             "#9c179e"
            ],
            [
             0.4444444444444444,
             "#bd3786"
            ],
            [
             0.5555555555555556,
             "#d8576b"
            ],
            [
             0.6666666666666666,
             "#ed7953"
            ],
            [
             0.7777777777777778,
             "#fb9f3a"
            ],
            [
             0.8888888888888888,
             "#fdca26"
            ],
            [
             1,
             "#f0f921"
            ]
           ]
          },
          "colorway": [
           "#636efa",
           "#EF553B",
           "#00cc96",
           "#ab63fa",
           "#FFA15A",
           "#19d3f3",
           "#FF6692",
           "#B6E880",
           "#FF97FF",
           "#FECB52"
          ],
          "font": {
           "color": "#2a3f5f"
          },
          "geo": {
           "bgcolor": "white",
           "lakecolor": "white",
           "landcolor": "white",
           "showlakes": true,
           "showland": true,
           "subunitcolor": "#C8D4E3"
          },
          "hoverlabel": {
           "align": "left"
          },
          "hovermode": "closest",
          "mapbox": {
           "style": "light"
          },
          "paper_bgcolor": "white",
          "plot_bgcolor": "white",
          "polar": {
           "angularaxis": {
            "gridcolor": "#EBF0F8",
            "linecolor": "#EBF0F8",
            "ticks": ""
           },
           "bgcolor": "white",
           "radialaxis": {
            "gridcolor": "#EBF0F8",
            "linecolor": "#EBF0F8",
            "ticks": ""
           }
          },
          "scene": {
           "xaxis": {
            "backgroundcolor": "white",
            "gridcolor": "#DFE8F3",
            "gridwidth": 2,
            "linecolor": "#EBF0F8",
            "showbackground": true,
            "ticks": "",
            "zerolinecolor": "#EBF0F8"
           },
           "yaxis": {
            "backgroundcolor": "white",
            "gridcolor": "#DFE8F3",
            "gridwidth": 2,
            "linecolor": "#EBF0F8",
            "showbackground": true,
            "ticks": "",
            "zerolinecolor": "#EBF0F8"
           },
           "zaxis": {
            "backgroundcolor": "white",
            "gridcolor": "#DFE8F3",
            "gridwidth": 2,
            "linecolor": "#EBF0F8",
            "showbackground": true,
            "ticks": "",
            "zerolinecolor": "#EBF0F8"
           }
          },
          "shapedefaults": {
           "line": {
            "color": "#2a3f5f"
           }
          },
          "ternary": {
           "aaxis": {
            "gridcolor": "#DFE8F3",
            "linecolor": "#A2B1C6",
            "ticks": ""
           },
           "baxis": {
            "gridcolor": "#DFE8F3",
            "linecolor": "#A2B1C6",
            "ticks": ""
           },
           "bgcolor": "white",
           "caxis": {
            "gridcolor": "#DFE8F3",
            "linecolor": "#A2B1C6",
            "ticks": ""
           }
          },
          "title": {
           "x": 0.05
          },
          "xaxis": {
           "automargin": true,
           "gridcolor": "#EBF0F8",
           "linecolor": "#EBF0F8",
           "ticks": "",
           "title": {
            "standoff": 15
           },
           "zerolinecolor": "#EBF0F8",
           "zerolinewidth": 2
          },
          "yaxis": {
           "automargin": true,
           "gridcolor": "#EBF0F8",
           "linecolor": "#EBF0F8",
           "ticks": "",
           "title": {
            "standoff": 15
           },
           "zerolinecolor": "#EBF0F8",
           "zerolinewidth": 2
          }
         }
        },
        "title": {
         "font": {
          "size": 25
         },
         "text": "Number of initial Publications per Month",
         "x": 0.5
        },
        "xaxis": {
         "anchor": "y",
         "domain": [
          0,
          0.45
         ],
         "title": {
          "text": "Year of Publication"
         }
        },
        "xaxis2": {
         "anchor": "y2",
         "domain": [
          0.55,
          1
         ],
         "title": {
          "text": "Year of Publication"
         }
        },
        "yaxis": {
         "anchor": "x",
         "domain": [
          0,
          1
         ],
         "title": {
          "text": "# of Publications per Month"
         },
         "type": "linear"
        },
        "yaxis2": {
         "anchor": "x2",
         "domain": [
          0,
          1
         ],
         "title": {
          "text": "# of Publications per Month"
         },
         "type": "log"
        }
       }
      }
     },
     "metadata": {},
     "output_type": "display_data"
    }
   ],
   "source": [
    "df_initial = df_complete[df_complete[\"id\"].str.endswith(\"v1\")]\n",
    "plot_general_development(df_initial, \"initial\", \"M\")"
   ]
  },
  {
   "cell_type": "code",
   "execution_count": 30,
   "metadata": {
    "ExecuteTime": {
     "end_time": "2024-12-29T15:25:40.438958Z",
     "start_time": "2024-12-29T15:25:40.193374Z"
    }
   },
   "outputs": [
    {
     "data": {
      "application/vnd.plotly.v1+json": {
       "config": {
        "plotlyServerURL": "https://plot.ly"
       },
       "data": [
        {
         "hovertemplate": "period=%{x}<br>count=%{y}<extra></extra>",
         "legendgroup": "",
         "marker": {
          "color": "#636efa",
          "symbol": "circle"
         },
         "mode": "markers",
         "name": "",
         "orientation": "v",
         "showlegend": false,
         "type": "scatter",
         "x": [
          "1994-01-01T00:00:00.000000000",
          "1994-02-01T00:00:00.000000000",
          "1994-03-01T00:00:00.000000000",
          "1994-04-01T00:00:00.000000000",
          "1994-05-01T00:00:00.000000000",
          "1994-06-01T00:00:00.000000000",
          "1994-07-01T00:00:00.000000000",
          "1994-08-01T00:00:00.000000000",
          "1994-09-01T00:00:00.000000000",
          "1994-10-01T00:00:00.000000000",
          "1994-11-01T00:00:00.000000000",
          "1994-12-01T00:00:00.000000000",
          "1995-01-01T00:00:00.000000000",
          "1995-02-01T00:00:00.000000000",
          "1995-03-01T00:00:00.000000000",
          "1995-04-01T00:00:00.000000000",
          "1995-05-01T00:00:00.000000000",
          "1995-06-01T00:00:00.000000000",
          "1995-07-01T00:00:00.000000000",
          "1995-08-01T00:00:00.000000000",
          "1995-09-01T00:00:00.000000000",
          "1995-10-01T00:00:00.000000000",
          "1995-11-01T00:00:00.000000000",
          "1995-12-01T00:00:00.000000000",
          "1996-01-01T00:00:00.000000000",
          "1996-02-01T00:00:00.000000000",
          "1996-03-01T00:00:00.000000000",
          "1996-04-01T00:00:00.000000000",
          "1996-05-01T00:00:00.000000000",
          "1996-06-01T00:00:00.000000000",
          "1996-07-01T00:00:00.000000000",
          "1996-08-01T00:00:00.000000000",
          "1996-09-01T00:00:00.000000000",
          "1996-10-01T00:00:00.000000000",
          "1996-11-01T00:00:00.000000000",
          "1996-12-01T00:00:00.000000000",
          "1997-01-01T00:00:00.000000000",
          "1997-02-01T00:00:00.000000000",
          "1997-03-01T00:00:00.000000000",
          "1997-04-01T00:00:00.000000000",
          "1997-05-01T00:00:00.000000000",
          "1997-06-01T00:00:00.000000000",
          "1997-07-01T00:00:00.000000000",
          "1997-08-01T00:00:00.000000000",
          "1997-09-01T00:00:00.000000000",
          "1997-10-01T00:00:00.000000000",
          "1997-11-01T00:00:00.000000000",
          "1997-12-01T00:00:00.000000000",
          "1998-01-01T00:00:00.000000000",
          "1998-02-01T00:00:00.000000000",
          "1998-03-01T00:00:00.000000000",
          "1998-04-01T00:00:00.000000000",
          "1998-05-01T00:00:00.000000000",
          "1998-06-01T00:00:00.000000000",
          "1998-07-01T00:00:00.000000000",
          "1998-08-01T00:00:00.000000000",
          "1998-09-01T00:00:00.000000000",
          "1998-10-01T00:00:00.000000000",
          "1998-11-01T00:00:00.000000000",
          "1998-12-01T00:00:00.000000000",
          "1999-01-01T00:00:00.000000000",
          "1999-02-01T00:00:00.000000000",
          "1999-03-01T00:00:00.000000000",
          "1999-04-01T00:00:00.000000000",
          "1999-05-01T00:00:00.000000000",
          "1999-06-01T00:00:00.000000000",
          "1999-07-01T00:00:00.000000000",
          "1999-08-01T00:00:00.000000000",
          "1999-09-01T00:00:00.000000000",
          "1999-10-01T00:00:00.000000000",
          "1999-11-01T00:00:00.000000000",
          "1999-12-01T00:00:00.000000000",
          "2000-01-01T00:00:00.000000000",
          "2000-02-01T00:00:00.000000000",
          "2000-03-01T00:00:00.000000000",
          "2000-04-01T00:00:00.000000000",
          "2000-05-01T00:00:00.000000000",
          "2000-06-01T00:00:00.000000000",
          "2000-07-01T00:00:00.000000000",
          "2000-08-01T00:00:00.000000000",
          "2000-09-01T00:00:00.000000000",
          "2000-10-01T00:00:00.000000000",
          "2000-11-01T00:00:00.000000000",
          "2000-12-01T00:00:00.000000000",
          "2001-01-01T00:00:00.000000000",
          "2001-02-01T00:00:00.000000000",
          "2001-03-01T00:00:00.000000000",
          "2001-04-01T00:00:00.000000000",
          "2001-05-01T00:00:00.000000000",
          "2001-06-01T00:00:00.000000000",
          "2001-07-01T00:00:00.000000000",
          "2001-08-01T00:00:00.000000000",
          "2001-09-01T00:00:00.000000000",
          "2001-10-01T00:00:00.000000000",
          "2001-11-01T00:00:00.000000000",
          "2001-12-01T00:00:00.000000000",
          "2002-01-01T00:00:00.000000000",
          "2002-02-01T00:00:00.000000000",
          "2002-03-01T00:00:00.000000000",
          "2002-04-01T00:00:00.000000000",
          "2002-05-01T00:00:00.000000000",
          "2002-06-01T00:00:00.000000000",
          "2002-07-01T00:00:00.000000000",
          "2002-08-01T00:00:00.000000000",
          "2002-09-01T00:00:00.000000000",
          "2002-10-01T00:00:00.000000000",
          "2002-11-01T00:00:00.000000000",
          "2002-12-01T00:00:00.000000000",
          "2003-01-01T00:00:00.000000000",
          "2003-02-01T00:00:00.000000000",
          "2003-03-01T00:00:00.000000000",
          "2003-04-01T00:00:00.000000000",
          "2003-05-01T00:00:00.000000000",
          "2003-06-01T00:00:00.000000000",
          "2003-07-01T00:00:00.000000000",
          "2003-08-01T00:00:00.000000000",
          "2003-09-01T00:00:00.000000000",
          "2003-10-01T00:00:00.000000000",
          "2003-11-01T00:00:00.000000000",
          "2003-12-01T00:00:00.000000000",
          "2004-01-01T00:00:00.000000000",
          "2004-02-01T00:00:00.000000000",
          "2004-03-01T00:00:00.000000000",
          "2004-04-01T00:00:00.000000000",
          "2004-05-01T00:00:00.000000000",
          "2004-06-01T00:00:00.000000000",
          "2004-07-01T00:00:00.000000000",
          "2004-08-01T00:00:00.000000000",
          "2004-09-01T00:00:00.000000000",
          "2004-10-01T00:00:00.000000000",
          "2004-11-01T00:00:00.000000000",
          "2004-12-01T00:00:00.000000000",
          "2005-01-01T00:00:00.000000000",
          "2005-02-01T00:00:00.000000000",
          "2005-03-01T00:00:00.000000000",
          "2005-04-01T00:00:00.000000000",
          "2005-05-01T00:00:00.000000000",
          "2005-06-01T00:00:00.000000000",
          "2005-07-01T00:00:00.000000000",
          "2005-08-01T00:00:00.000000000",
          "2005-09-01T00:00:00.000000000",
          "2005-10-01T00:00:00.000000000",
          "2005-11-01T00:00:00.000000000",
          "2005-12-01T00:00:00.000000000",
          "2006-01-01T00:00:00.000000000",
          "2006-02-01T00:00:00.000000000",
          "2006-03-01T00:00:00.000000000",
          "2006-04-01T00:00:00.000000000",
          "2006-05-01T00:00:00.000000000",
          "2006-06-01T00:00:00.000000000",
          "2006-07-01T00:00:00.000000000",
          "2006-08-01T00:00:00.000000000",
          "2006-09-01T00:00:00.000000000",
          "2006-10-01T00:00:00.000000000",
          "2006-11-01T00:00:00.000000000",
          "2006-12-01T00:00:00.000000000",
          "2007-01-01T00:00:00.000000000",
          "2007-02-01T00:00:00.000000000",
          "2007-03-01T00:00:00.000000000",
          "2007-04-01T00:00:00.000000000",
          "2007-05-01T00:00:00.000000000",
          "2007-06-01T00:00:00.000000000",
          "2007-07-01T00:00:00.000000000",
          "2007-08-01T00:00:00.000000000",
          "2007-09-01T00:00:00.000000000",
          "2007-10-01T00:00:00.000000000",
          "2007-11-01T00:00:00.000000000",
          "2007-12-01T00:00:00.000000000",
          "2008-01-01T00:00:00.000000000",
          "2008-02-01T00:00:00.000000000",
          "2008-03-01T00:00:00.000000000",
          "2008-04-01T00:00:00.000000000",
          "2008-05-01T00:00:00.000000000",
          "2008-06-01T00:00:00.000000000",
          "2008-07-01T00:00:00.000000000",
          "2008-08-01T00:00:00.000000000",
          "2008-09-01T00:00:00.000000000",
          "2008-10-01T00:00:00.000000000",
          "2008-11-01T00:00:00.000000000",
          "2008-12-01T00:00:00.000000000",
          "2009-01-01T00:00:00.000000000",
          "2009-02-01T00:00:00.000000000",
          "2009-03-01T00:00:00.000000000",
          "2009-04-01T00:00:00.000000000",
          "2009-05-01T00:00:00.000000000",
          "2009-06-01T00:00:00.000000000",
          "2009-07-01T00:00:00.000000000",
          "2009-08-01T00:00:00.000000000",
          "2009-09-01T00:00:00.000000000",
          "2009-10-01T00:00:00.000000000",
          "2009-11-01T00:00:00.000000000",
          "2009-12-01T00:00:00.000000000",
          "2010-01-01T00:00:00.000000000",
          "2010-02-01T00:00:00.000000000",
          "2010-03-01T00:00:00.000000000",
          "2010-04-01T00:00:00.000000000",
          "2010-05-01T00:00:00.000000000",
          "2010-06-01T00:00:00.000000000",
          "2010-07-01T00:00:00.000000000",
          "2010-08-01T00:00:00.000000000",
          "2010-09-01T00:00:00.000000000",
          "2010-10-01T00:00:00.000000000",
          "2010-11-01T00:00:00.000000000",
          "2010-12-01T00:00:00.000000000",
          "2011-01-01T00:00:00.000000000",
          "2011-02-01T00:00:00.000000000",
          "2011-03-01T00:00:00.000000000",
          "2011-04-01T00:00:00.000000000",
          "2011-05-01T00:00:00.000000000",
          "2011-06-01T00:00:00.000000000",
          "2011-07-01T00:00:00.000000000",
          "2011-08-01T00:00:00.000000000",
          "2011-09-01T00:00:00.000000000",
          "2011-10-01T00:00:00.000000000",
          "2011-11-01T00:00:00.000000000",
          "2011-12-01T00:00:00.000000000",
          "2012-01-01T00:00:00.000000000",
          "2012-02-01T00:00:00.000000000",
          "2012-03-01T00:00:00.000000000",
          "2012-04-01T00:00:00.000000000",
          "2012-05-01T00:00:00.000000000",
          "2012-06-01T00:00:00.000000000",
          "2012-07-01T00:00:00.000000000",
          "2012-08-01T00:00:00.000000000",
          "2012-09-01T00:00:00.000000000",
          "2012-10-01T00:00:00.000000000",
          "2012-11-01T00:00:00.000000000",
          "2012-12-01T00:00:00.000000000",
          "2013-01-01T00:00:00.000000000",
          "2013-02-01T00:00:00.000000000",
          "2013-03-01T00:00:00.000000000",
          "2013-04-01T00:00:00.000000000",
          "2013-05-01T00:00:00.000000000",
          "2013-06-01T00:00:00.000000000",
          "2013-07-01T00:00:00.000000000",
          "2013-08-01T00:00:00.000000000",
          "2013-09-01T00:00:00.000000000",
          "2013-10-01T00:00:00.000000000",
          "2013-11-01T00:00:00.000000000",
          "2013-12-01T00:00:00.000000000",
          "2014-01-01T00:00:00.000000000",
          "2014-02-01T00:00:00.000000000",
          "2014-03-01T00:00:00.000000000",
          "2014-04-01T00:00:00.000000000",
          "2014-05-01T00:00:00.000000000",
          "2014-06-01T00:00:00.000000000",
          "2014-07-01T00:00:00.000000000",
          "2014-08-01T00:00:00.000000000",
          "2014-09-01T00:00:00.000000000",
          "2014-10-01T00:00:00.000000000",
          "2014-11-01T00:00:00.000000000",
          "2014-12-01T00:00:00.000000000",
          "2015-01-01T00:00:00.000000000",
          "2015-02-01T00:00:00.000000000",
          "2015-03-01T00:00:00.000000000",
          "2015-04-01T00:00:00.000000000",
          "2015-05-01T00:00:00.000000000",
          "2015-06-01T00:00:00.000000000",
          "2015-07-01T00:00:00.000000000",
          "2015-08-01T00:00:00.000000000",
          "2015-09-01T00:00:00.000000000",
          "2015-10-01T00:00:00.000000000",
          "2015-11-01T00:00:00.000000000",
          "2015-12-01T00:00:00.000000000",
          "2016-01-01T00:00:00.000000000",
          "2016-02-01T00:00:00.000000000",
          "2016-03-01T00:00:00.000000000",
          "2016-04-01T00:00:00.000000000",
          "2016-05-01T00:00:00.000000000",
          "2016-06-01T00:00:00.000000000",
          "2016-07-01T00:00:00.000000000",
          "2016-08-01T00:00:00.000000000",
          "2016-09-01T00:00:00.000000000",
          "2016-10-01T00:00:00.000000000",
          "2016-11-01T00:00:00.000000000",
          "2016-12-01T00:00:00.000000000",
          "2017-01-01T00:00:00.000000000",
          "2017-02-01T00:00:00.000000000",
          "2017-03-01T00:00:00.000000000",
          "2017-04-01T00:00:00.000000000",
          "2017-05-01T00:00:00.000000000",
          "2017-06-01T00:00:00.000000000",
          "2017-07-01T00:00:00.000000000",
          "2017-08-01T00:00:00.000000000",
          "2017-09-01T00:00:00.000000000",
          "2017-10-01T00:00:00.000000000",
          "2017-11-01T00:00:00.000000000",
          "2017-12-01T00:00:00.000000000",
          "2018-01-01T00:00:00.000000000",
          "2018-02-01T00:00:00.000000000",
          "2018-03-01T00:00:00.000000000",
          "2018-04-01T00:00:00.000000000",
          "2018-05-01T00:00:00.000000000",
          "2018-06-01T00:00:00.000000000",
          "2018-07-01T00:00:00.000000000",
          "2018-08-01T00:00:00.000000000",
          "2018-09-01T00:00:00.000000000",
          "2018-10-01T00:00:00.000000000",
          "2018-11-01T00:00:00.000000000",
          "2018-12-01T00:00:00.000000000",
          "2019-01-01T00:00:00.000000000",
          "2019-02-01T00:00:00.000000000",
          "2019-03-01T00:00:00.000000000",
          "2019-04-01T00:00:00.000000000",
          "2019-05-01T00:00:00.000000000",
          "2019-06-01T00:00:00.000000000",
          "2019-07-01T00:00:00.000000000",
          "2019-08-01T00:00:00.000000000",
          "2019-09-01T00:00:00.000000000",
          "2019-10-01T00:00:00.000000000",
          "2019-11-01T00:00:00.000000000",
          "2019-12-01T00:00:00.000000000",
          "2020-01-01T00:00:00.000000000",
          "2020-02-01T00:00:00.000000000",
          "2020-03-01T00:00:00.000000000",
          "2020-04-01T00:00:00.000000000",
          "2020-05-01T00:00:00.000000000",
          "2020-06-01T00:00:00.000000000",
          "2020-07-01T00:00:00.000000000",
          "2020-08-01T00:00:00.000000000",
          "2020-09-01T00:00:00.000000000",
          "2020-10-01T00:00:00.000000000",
          "2020-11-01T00:00:00.000000000",
          "2020-12-01T00:00:00.000000000",
          "2021-01-01T00:00:00.000000000",
          "2021-02-01T00:00:00.000000000",
          "2021-03-01T00:00:00.000000000",
          "2021-04-01T00:00:00.000000000",
          "2021-05-01T00:00:00.000000000",
          "2021-06-01T00:00:00.000000000",
          "2021-07-01T00:00:00.000000000",
          "2021-08-01T00:00:00.000000000",
          "2021-09-01T00:00:00.000000000",
          "2021-10-01T00:00:00.000000000",
          "2021-11-01T00:00:00.000000000",
          "2021-12-01T00:00:00.000000000",
          "2022-01-01T00:00:00.000000000",
          "2022-02-01T00:00:00.000000000",
          "2022-03-01T00:00:00.000000000",
          "2022-04-01T00:00:00.000000000",
          "2022-05-01T00:00:00.000000000",
          "2022-06-01T00:00:00.000000000",
          "2022-07-01T00:00:00.000000000",
          "2022-08-01T00:00:00.000000000",
          "2022-09-01T00:00:00.000000000",
          "2022-10-01T00:00:00.000000000",
          "2022-11-01T00:00:00.000000000",
          "2022-12-01T00:00:00.000000000",
          "2023-01-01T00:00:00.000000000",
          "2023-02-01T00:00:00.000000000",
          "2023-03-01T00:00:00.000000000",
          "2023-04-01T00:00:00.000000000",
          "2023-05-01T00:00:00.000000000",
          "2023-06-01T00:00:00.000000000",
          "2023-07-01T00:00:00.000000000",
          "2023-08-01T00:00:00.000000000",
          "2023-09-01T00:00:00.000000000",
          "2023-10-01T00:00:00.000000000",
          "2023-11-01T00:00:00.000000000",
          "2023-12-01T00:00:00.000000000",
          "2024-01-01T00:00:00.000000000",
          "2024-02-01T00:00:00.000000000",
          "2024-03-01T00:00:00.000000000",
          "2024-04-01T00:00:00.000000000",
          "2024-05-01T00:00:00.000000000",
          "2024-06-01T00:00:00.000000000",
          "2024-07-01T00:00:00.000000000",
          "2024-08-01T00:00:00.000000000",
          "2024-09-01T00:00:00.000000000",
          "2024-10-01T00:00:00.000000000",
          "2024-11-01T00:00:00.000000000",
          "2024-12-01T00:00:00.000000000"
         ],
         "xaxis": "x",
         "y": {
          "bdata": "AwAHAAgACgATABAACgAJAAUACQAQAAgACQANAAsAFQAPABUADgAKAAgAEgAPAAkAEAAPAAcAEwAXAAwADQARAAsAEAARABsAFQAQABYAEgARABYAEAAOABoAFgASABcAEQATABEAEAAUAB0AEwASABUAEAAdAB4AFAAaABoAGAAcABgAJQAbABkAHwAbACIAFwAbACcAJAAgAB4AGgAaACgAIQAlABoAJQAmACIAJAA0ACcAHwAkACMAJgAuADIAKgAlADIAIwAtAC4AMwAhADAAOwA5ADEAOAAxAD0ANAA+ADQANAAoAEgAMAA1AEgALAA7AEQANwBUAFkAPgA/AEkATQBVAEsARgBDAG4AQwBcAGoAXgBMAG4AUgB4AFkAfQBUAGkAXgBpAHMAbQB+AIYAjQCLAH0AlABvAH8AgACDAHQAgACAAJIAnACTAKQArgCsAJ0AqwCNAKYAowBwAMQAwwCqANQArQC8AMQAtACqAL8A3ACoAMoA3AAAAfYA9gDBAP0AFQENAd8A7gDOABgBLAEOAQ0B+gAeAUUBUwFJAT0BVwEtAU8BcAFqAW4BQgGDAW8BdQGAAXsBjQFHAYIBlwGoAZMBtwGdAY8BtwGMAakBvgGBAc8BDQLoAU8CrwGwAeIB+QHgASMC9gG+AdsBVgIsAs4C8gFiAo8CVwJNAhkDwAI7AosClgLSA6oCKwIEA0UD9gJtA1YDqgLDAlkDeQM0BIQD0AJ7A4sExwNcBAwE7QNtA2gEawSDBfEDwQNnBYEFGgX+BUoFTQVlBI0FVQa/BtEFgwX9BXQGHwdGCIQHugb7BfEHyggtCFEHHgb5CN0IdQmqCBEMogl8B0gIxwthCYEJSQdCCZwKxQkNCasLzAiMB3gJhAv/CGoJ5AewCeIL/gitCncKwggUCG4Jogx9CxAJUwicCucM0gluEGYMFQrNCRAMyQ5wDB8MiAoQEH0OZwsjDUENrwqhB8kHUAc8BTgH",
          "dtype": "i2"
         },
         "yaxis": "y"
        },
        {
         "hovertemplate": "<b>OLS trendline</b><br>log10(count) = 2.75653e-09 * period + -1.13418<br>R<sup>2</sup>=0.984835<br><br>period=%{x}<br>count=%{y} <b>(trend)</b><extra></extra>",
         "legendgroup": "",
         "line": {
          "color": "red"
         },
         "marker": {
          "color": "#636efa",
          "symbol": "circle"
         },
         "mode": "lines",
         "name": "",
         "showlegend": false,
         "type": "scatter",
         "x": [
          "1994-01-01T00:00:00.000000000",
          "1994-02-01T00:00:00.000000000",
          "1994-03-01T00:00:00.000000000",
          "1994-04-01T00:00:00.000000000",
          "1994-05-01T00:00:00.000000000",
          "1994-06-01T00:00:00.000000000",
          "1994-07-01T00:00:00.000000000",
          "1994-08-01T00:00:00.000000000",
          "1994-09-01T00:00:00.000000000",
          "1994-10-01T00:00:00.000000000",
          "1994-11-01T00:00:00.000000000",
          "1994-12-01T00:00:00.000000000",
          "1995-01-01T00:00:00.000000000",
          "1995-02-01T00:00:00.000000000",
          "1995-03-01T00:00:00.000000000",
          "1995-04-01T00:00:00.000000000",
          "1995-05-01T00:00:00.000000000",
          "1995-06-01T00:00:00.000000000",
          "1995-07-01T00:00:00.000000000",
          "1995-08-01T00:00:00.000000000",
          "1995-09-01T00:00:00.000000000",
          "1995-10-01T00:00:00.000000000",
          "1995-11-01T00:00:00.000000000",
          "1995-12-01T00:00:00.000000000",
          "1996-01-01T00:00:00.000000000",
          "1996-02-01T00:00:00.000000000",
          "1996-03-01T00:00:00.000000000",
          "1996-04-01T00:00:00.000000000",
          "1996-05-01T00:00:00.000000000",
          "1996-06-01T00:00:00.000000000",
          "1996-07-01T00:00:00.000000000",
          "1996-08-01T00:00:00.000000000",
          "1996-09-01T00:00:00.000000000",
          "1996-10-01T00:00:00.000000000",
          "1996-11-01T00:00:00.000000000",
          "1996-12-01T00:00:00.000000000",
          "1997-01-01T00:00:00.000000000",
          "1997-02-01T00:00:00.000000000",
          "1997-03-01T00:00:00.000000000",
          "1997-04-01T00:00:00.000000000",
          "1997-05-01T00:00:00.000000000",
          "1997-06-01T00:00:00.000000000",
          "1997-07-01T00:00:00.000000000",
          "1997-08-01T00:00:00.000000000",
          "1997-09-01T00:00:00.000000000",
          "1997-10-01T00:00:00.000000000",
          "1997-11-01T00:00:00.000000000",
          "1997-12-01T00:00:00.000000000",
          "1998-01-01T00:00:00.000000000",
          "1998-02-01T00:00:00.000000000",
          "1998-03-01T00:00:00.000000000",
          "1998-04-01T00:00:00.000000000",
          "1998-05-01T00:00:00.000000000",
          "1998-06-01T00:00:00.000000000",
          "1998-07-01T00:00:00.000000000",
          "1998-08-01T00:00:00.000000000",
          "1998-09-01T00:00:00.000000000",
          "1998-10-01T00:00:00.000000000",
          "1998-11-01T00:00:00.000000000",
          "1998-12-01T00:00:00.000000000",
          "1999-01-01T00:00:00.000000000",
          "1999-02-01T00:00:00.000000000",
          "1999-03-01T00:00:00.000000000",
          "1999-04-01T00:00:00.000000000",
          "1999-05-01T00:00:00.000000000",
          "1999-06-01T00:00:00.000000000",
          "1999-07-01T00:00:00.000000000",
          "1999-08-01T00:00:00.000000000",
          "1999-09-01T00:00:00.000000000",
          "1999-10-01T00:00:00.000000000",
          "1999-11-01T00:00:00.000000000",
          "1999-12-01T00:00:00.000000000",
          "2000-01-01T00:00:00.000000000",
          "2000-02-01T00:00:00.000000000",
          "2000-03-01T00:00:00.000000000",
          "2000-04-01T00:00:00.000000000",
          "2000-05-01T00:00:00.000000000",
          "2000-06-01T00:00:00.000000000",
          "2000-07-01T00:00:00.000000000",
          "2000-08-01T00:00:00.000000000",
          "2000-09-01T00:00:00.000000000",
          "2000-10-01T00:00:00.000000000",
          "2000-11-01T00:00:00.000000000",
          "2000-12-01T00:00:00.000000000",
          "2001-01-01T00:00:00.000000000",
          "2001-02-01T00:00:00.000000000",
          "2001-03-01T00:00:00.000000000",
          "2001-04-01T00:00:00.000000000",
          "2001-05-01T00:00:00.000000000",
          "2001-06-01T00:00:00.000000000",
          "2001-07-01T00:00:00.000000000",
          "2001-08-01T00:00:00.000000000",
          "2001-09-01T00:00:00.000000000",
          "2001-10-01T00:00:00.000000000",
          "2001-11-01T00:00:00.000000000",
          "2001-12-01T00:00:00.000000000",
          "2002-01-01T00:00:00.000000000",
          "2002-02-01T00:00:00.000000000",
          "2002-03-01T00:00:00.000000000",
          "2002-04-01T00:00:00.000000000",
          "2002-05-01T00:00:00.000000000",
          "2002-06-01T00:00:00.000000000",
          "2002-07-01T00:00:00.000000000",
          "2002-08-01T00:00:00.000000000",
          "2002-09-01T00:00:00.000000000",
          "2002-10-01T00:00:00.000000000",
          "2002-11-01T00:00:00.000000000",
          "2002-12-01T00:00:00.000000000",
          "2003-01-01T00:00:00.000000000",
          "2003-02-01T00:00:00.000000000",
          "2003-03-01T00:00:00.000000000",
          "2003-04-01T00:00:00.000000000",
          "2003-05-01T00:00:00.000000000",
          "2003-06-01T00:00:00.000000000",
          "2003-07-01T00:00:00.000000000",
          "2003-08-01T00:00:00.000000000",
          "2003-09-01T00:00:00.000000000",
          "2003-10-01T00:00:00.000000000",
          "2003-11-01T00:00:00.000000000",
          "2003-12-01T00:00:00.000000000",
          "2004-01-01T00:00:00.000000000",
          "2004-02-01T00:00:00.000000000",
          "2004-03-01T00:00:00.000000000",
          "2004-04-01T00:00:00.000000000",
          "2004-05-01T00:00:00.000000000",
          "2004-06-01T00:00:00.000000000",
          "2004-07-01T00:00:00.000000000",
          "2004-08-01T00:00:00.000000000",
          "2004-09-01T00:00:00.000000000",
          "2004-10-01T00:00:00.000000000",
          "2004-11-01T00:00:00.000000000",
          "2004-12-01T00:00:00.000000000",
          "2005-01-01T00:00:00.000000000",
          "2005-02-01T00:00:00.000000000",
          "2005-03-01T00:00:00.000000000",
          "2005-04-01T00:00:00.000000000",
          "2005-05-01T00:00:00.000000000",
          "2005-06-01T00:00:00.000000000",
          "2005-07-01T00:00:00.000000000",
          "2005-08-01T00:00:00.000000000",
          "2005-09-01T00:00:00.000000000",
          "2005-10-01T00:00:00.000000000",
          "2005-11-01T00:00:00.000000000",
          "2005-12-01T00:00:00.000000000",
          "2006-01-01T00:00:00.000000000",
          "2006-02-01T00:00:00.000000000",
          "2006-03-01T00:00:00.000000000",
          "2006-04-01T00:00:00.000000000",
          "2006-05-01T00:00:00.000000000",
          "2006-06-01T00:00:00.000000000",
          "2006-07-01T00:00:00.000000000",
          "2006-08-01T00:00:00.000000000",
          "2006-09-01T00:00:00.000000000",
          "2006-10-01T00:00:00.000000000",
          "2006-11-01T00:00:00.000000000",
          "2006-12-01T00:00:00.000000000",
          "2007-01-01T00:00:00.000000000",
          "2007-02-01T00:00:00.000000000",
          "2007-03-01T00:00:00.000000000",
          "2007-04-01T00:00:00.000000000",
          "2007-05-01T00:00:00.000000000",
          "2007-06-01T00:00:00.000000000",
          "2007-07-01T00:00:00.000000000",
          "2007-08-01T00:00:00.000000000",
          "2007-09-01T00:00:00.000000000",
          "2007-10-01T00:00:00.000000000",
          "2007-11-01T00:00:00.000000000",
          "2007-12-01T00:00:00.000000000",
          "2008-01-01T00:00:00.000000000",
          "2008-02-01T00:00:00.000000000",
          "2008-03-01T00:00:00.000000000",
          "2008-04-01T00:00:00.000000000",
          "2008-05-01T00:00:00.000000000",
          "2008-06-01T00:00:00.000000000",
          "2008-07-01T00:00:00.000000000",
          "2008-08-01T00:00:00.000000000",
          "2008-09-01T00:00:00.000000000",
          "2008-10-01T00:00:00.000000000",
          "2008-11-01T00:00:00.000000000",
          "2008-12-01T00:00:00.000000000",
          "2009-01-01T00:00:00.000000000",
          "2009-02-01T00:00:00.000000000",
          "2009-03-01T00:00:00.000000000",
          "2009-04-01T00:00:00.000000000",
          "2009-05-01T00:00:00.000000000",
          "2009-06-01T00:00:00.000000000",
          "2009-07-01T00:00:00.000000000",
          "2009-08-01T00:00:00.000000000",
          "2009-09-01T00:00:00.000000000",
          "2009-10-01T00:00:00.000000000",
          "2009-11-01T00:00:00.000000000",
          "2009-12-01T00:00:00.000000000",
          "2010-01-01T00:00:00.000000000",
          "2010-02-01T00:00:00.000000000",
          "2010-03-01T00:00:00.000000000",
          "2010-04-01T00:00:00.000000000",
          "2010-05-01T00:00:00.000000000",
          "2010-06-01T00:00:00.000000000",
          "2010-07-01T00:00:00.000000000",
          "2010-08-01T00:00:00.000000000",
          "2010-09-01T00:00:00.000000000",
          "2010-10-01T00:00:00.000000000",
          "2010-11-01T00:00:00.000000000",
          "2010-12-01T00:00:00.000000000",
          "2011-01-01T00:00:00.000000000",
          "2011-02-01T00:00:00.000000000",
          "2011-03-01T00:00:00.000000000",
          "2011-04-01T00:00:00.000000000",
          "2011-05-01T00:00:00.000000000",
          "2011-06-01T00:00:00.000000000",
          "2011-07-01T00:00:00.000000000",
          "2011-08-01T00:00:00.000000000",
          "2011-09-01T00:00:00.000000000",
          "2011-10-01T00:00:00.000000000",
          "2011-11-01T00:00:00.000000000",
          "2011-12-01T00:00:00.000000000",
          "2012-01-01T00:00:00.000000000",
          "2012-02-01T00:00:00.000000000",
          "2012-03-01T00:00:00.000000000",
          "2012-04-01T00:00:00.000000000",
          "2012-05-01T00:00:00.000000000",
          "2012-06-01T00:00:00.000000000",
          "2012-07-01T00:00:00.000000000",
          "2012-08-01T00:00:00.000000000",
          "2012-09-01T00:00:00.000000000",
          "2012-10-01T00:00:00.000000000",
          "2012-11-01T00:00:00.000000000",
          "2012-12-01T00:00:00.000000000",
          "2013-01-01T00:00:00.000000000",
          "2013-02-01T00:00:00.000000000",
          "2013-03-01T00:00:00.000000000",
          "2013-04-01T00:00:00.000000000",
          "2013-05-01T00:00:00.000000000",
          "2013-06-01T00:00:00.000000000",
          "2013-07-01T00:00:00.000000000",
          "2013-08-01T00:00:00.000000000",
          "2013-09-01T00:00:00.000000000",
          "2013-10-01T00:00:00.000000000",
          "2013-11-01T00:00:00.000000000",
          "2013-12-01T00:00:00.000000000",
          "2014-01-01T00:00:00.000000000",
          "2014-02-01T00:00:00.000000000",
          "2014-03-01T00:00:00.000000000",
          "2014-04-01T00:00:00.000000000",
          "2014-05-01T00:00:00.000000000",
          "2014-06-01T00:00:00.000000000",
          "2014-07-01T00:00:00.000000000",
          "2014-08-01T00:00:00.000000000",
          "2014-09-01T00:00:00.000000000",
          "2014-10-01T00:00:00.000000000",
          "2014-11-01T00:00:00.000000000",
          "2014-12-01T00:00:00.000000000",
          "2015-01-01T00:00:00.000000000",
          "2015-02-01T00:00:00.000000000",
          "2015-03-01T00:00:00.000000000",
          "2015-04-01T00:00:00.000000000",
          "2015-05-01T00:00:00.000000000",
          "2015-06-01T00:00:00.000000000",
          "2015-07-01T00:00:00.000000000",
          "2015-08-01T00:00:00.000000000",
          "2015-09-01T00:00:00.000000000",
          "2015-10-01T00:00:00.000000000",
          "2015-11-01T00:00:00.000000000",
          "2015-12-01T00:00:00.000000000",
          "2016-01-01T00:00:00.000000000",
          "2016-02-01T00:00:00.000000000",
          "2016-03-01T00:00:00.000000000",
          "2016-04-01T00:00:00.000000000",
          "2016-05-01T00:00:00.000000000",
          "2016-06-01T00:00:00.000000000",
          "2016-07-01T00:00:00.000000000",
          "2016-08-01T00:00:00.000000000",
          "2016-09-01T00:00:00.000000000",
          "2016-10-01T00:00:00.000000000",
          "2016-11-01T00:00:00.000000000",
          "2016-12-01T00:00:00.000000000",
          "2017-01-01T00:00:00.000000000",
          "2017-02-01T00:00:00.000000000",
          "2017-03-01T00:00:00.000000000",
          "2017-04-01T00:00:00.000000000",
          "2017-05-01T00:00:00.000000000",
          "2017-06-01T00:00:00.000000000",
          "2017-07-01T00:00:00.000000000",
          "2017-08-01T00:00:00.000000000",
          "2017-09-01T00:00:00.000000000",
          "2017-10-01T00:00:00.000000000",
          "2017-11-01T00:00:00.000000000",
          "2017-12-01T00:00:00.000000000",
          "2018-01-01T00:00:00.000000000",
          "2018-02-01T00:00:00.000000000",
          "2018-03-01T00:00:00.000000000",
          "2018-04-01T00:00:00.000000000",
          "2018-05-01T00:00:00.000000000",
          "2018-06-01T00:00:00.000000000",
          "2018-07-01T00:00:00.000000000",
          "2018-08-01T00:00:00.000000000",
          "2018-09-01T00:00:00.000000000",
          "2018-10-01T00:00:00.000000000",
          "2018-11-01T00:00:00.000000000",
          "2018-12-01T00:00:00.000000000",
          "2019-01-01T00:00:00.000000000",
          "2019-02-01T00:00:00.000000000",
          "2019-03-01T00:00:00.000000000",
          "2019-04-01T00:00:00.000000000",
          "2019-05-01T00:00:00.000000000",
          "2019-06-01T00:00:00.000000000",
          "2019-07-01T00:00:00.000000000",
          "2019-08-01T00:00:00.000000000",
          "2019-09-01T00:00:00.000000000",
          "2019-10-01T00:00:00.000000000",
          "2019-11-01T00:00:00.000000000",
          "2019-12-01T00:00:00.000000000",
          "2020-01-01T00:00:00.000000000",
          "2020-02-01T00:00:00.000000000",
          "2020-03-01T00:00:00.000000000",
          "2020-04-01T00:00:00.000000000",
          "2020-05-01T00:00:00.000000000",
          "2020-06-01T00:00:00.000000000",
          "2020-07-01T00:00:00.000000000",
          "2020-08-01T00:00:00.000000000",
          "2020-09-01T00:00:00.000000000",
          "2020-10-01T00:00:00.000000000",
          "2020-11-01T00:00:00.000000000",
          "2020-12-01T00:00:00.000000000",
          "2021-01-01T00:00:00.000000000",
          "2021-02-01T00:00:00.000000000",
          "2021-03-01T00:00:00.000000000",
          "2021-04-01T00:00:00.000000000",
          "2021-05-01T00:00:00.000000000",
          "2021-06-01T00:00:00.000000000",
          "2021-07-01T00:00:00.000000000",
          "2021-08-01T00:00:00.000000000",
          "2021-09-01T00:00:00.000000000",
          "2021-10-01T00:00:00.000000000",
          "2021-11-01T00:00:00.000000000",
          "2021-12-01T00:00:00.000000000",
          "2022-01-01T00:00:00.000000000",
          "2022-02-01T00:00:00.000000000",
          "2022-03-01T00:00:00.000000000",
          "2022-04-01T00:00:00.000000000",
          "2022-05-01T00:00:00.000000000",
          "2022-06-01T00:00:00.000000000",
          "2022-07-01T00:00:00.000000000",
          "2022-08-01T00:00:00.000000000",
          "2022-09-01T00:00:00.000000000",
          "2022-10-01T00:00:00.000000000",
          "2022-11-01T00:00:00.000000000",
          "2022-12-01T00:00:00.000000000",
          "2023-01-01T00:00:00.000000000",
          "2023-02-01T00:00:00.000000000",
          "2023-03-01T00:00:00.000000000",
          "2023-04-01T00:00:00.000000000",
          "2023-05-01T00:00:00.000000000",
          "2023-06-01T00:00:00.000000000",
          "2023-07-01T00:00:00.000000000",
          "2023-08-01T00:00:00.000000000",
          "2023-09-01T00:00:00.000000000",
          "2023-10-01T00:00:00.000000000",
          "2023-11-01T00:00:00.000000000",
          "2023-12-01T00:00:00.000000000",
          "2024-01-01T00:00:00.000000000",
          "2024-02-01T00:00:00.000000000",
          "2024-03-01T00:00:00.000000000",
          "2024-04-01T00:00:00.000000000",
          "2024-05-01T00:00:00.000000000",
          "2024-06-01T00:00:00.000000000",
          "2024-07-01T00:00:00.000000000",
          "2024-08-01T00:00:00.000000000",
          "2024-09-01T00:00:00.000000000",
          "2024-10-01T00:00:00.000000000",
          "2024-11-01T00:00:00.000000000",
          "2024-12-01T00:00:00.000000000"
         ],
         "xaxis": "x",
         "y": {
          "bdata": "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",
          "dtype": "f8"
         },
         "yaxis": "y"
        },
        {
         "hovertemplate": "period=%{x}<br>count=%{y}<extra></extra>",
         "legendgroup": "",
         "marker": {
          "color": "#636efa",
          "symbol": "circle"
         },
         "mode": "markers",
         "name": "",
         "orientation": "v",
         "showlegend": false,
         "type": "scatter",
         "x": [
          "1994-01-01T00:00:00.000000000",
          "1994-02-01T00:00:00.000000000",
          "1994-03-01T00:00:00.000000000",
          "1994-04-01T00:00:00.000000000",
          "1994-05-01T00:00:00.000000000",
          "1994-06-01T00:00:00.000000000",
          "1994-07-01T00:00:00.000000000",
          "1994-08-01T00:00:00.000000000",
          "1994-09-01T00:00:00.000000000",
          "1994-10-01T00:00:00.000000000",
          "1994-11-01T00:00:00.000000000",
          "1994-12-01T00:00:00.000000000",
          "1995-01-01T00:00:00.000000000",
          "1995-02-01T00:00:00.000000000",
          "1995-03-01T00:00:00.000000000",
          "1995-04-01T00:00:00.000000000",
          "1995-05-01T00:00:00.000000000",
          "1995-06-01T00:00:00.000000000",
          "1995-07-01T00:00:00.000000000",
          "1995-08-01T00:00:00.000000000",
          "1995-09-01T00:00:00.000000000",
          "1995-10-01T00:00:00.000000000",
          "1995-11-01T00:00:00.000000000",
          "1995-12-01T00:00:00.000000000",
          "1996-01-01T00:00:00.000000000",
          "1996-02-01T00:00:00.000000000",
          "1996-03-01T00:00:00.000000000",
          "1996-04-01T00:00:00.000000000",
          "1996-05-01T00:00:00.000000000",
          "1996-06-01T00:00:00.000000000",
          "1996-07-01T00:00:00.000000000",
          "1996-08-01T00:00:00.000000000",
          "1996-09-01T00:00:00.000000000",
          "1996-10-01T00:00:00.000000000",
          "1996-11-01T00:00:00.000000000",
          "1996-12-01T00:00:00.000000000",
          "1997-01-01T00:00:00.000000000",
          "1997-02-01T00:00:00.000000000",
          "1997-03-01T00:00:00.000000000",
          "1997-04-01T00:00:00.000000000",
          "1997-05-01T00:00:00.000000000",
          "1997-06-01T00:00:00.000000000",
          "1997-07-01T00:00:00.000000000",
          "1997-08-01T00:00:00.000000000",
          "1997-09-01T00:00:00.000000000",
          "1997-10-01T00:00:00.000000000",
          "1997-11-01T00:00:00.000000000",
          "1997-12-01T00:00:00.000000000",
          "1998-01-01T00:00:00.000000000",
          "1998-02-01T00:00:00.000000000",
          "1998-03-01T00:00:00.000000000",
          "1998-04-01T00:00:00.000000000",
          "1998-05-01T00:00:00.000000000",
          "1998-06-01T00:00:00.000000000",
          "1998-07-01T00:00:00.000000000",
          "1998-08-01T00:00:00.000000000",
          "1998-09-01T00:00:00.000000000",
          "1998-10-01T00:00:00.000000000",
          "1998-11-01T00:00:00.000000000",
          "1998-12-01T00:00:00.000000000",
          "1999-01-01T00:00:00.000000000",
          "1999-02-01T00:00:00.000000000",
          "1999-03-01T00:00:00.000000000",
          "1999-04-01T00:00:00.000000000",
          "1999-05-01T00:00:00.000000000",
          "1999-06-01T00:00:00.000000000",
          "1999-07-01T00:00:00.000000000",
          "1999-08-01T00:00:00.000000000",
          "1999-09-01T00:00:00.000000000",
          "1999-10-01T00:00:00.000000000",
          "1999-11-01T00:00:00.000000000",
          "1999-12-01T00:00:00.000000000",
          "2000-01-01T00:00:00.000000000",
          "2000-02-01T00:00:00.000000000",
          "2000-03-01T00:00:00.000000000",
          "2000-04-01T00:00:00.000000000",
          "2000-05-01T00:00:00.000000000",
          "2000-06-01T00:00:00.000000000",
          "2000-07-01T00:00:00.000000000",
          "2000-08-01T00:00:00.000000000",
          "2000-09-01T00:00:00.000000000",
          "2000-10-01T00:00:00.000000000",
          "2000-11-01T00:00:00.000000000",
          "2000-12-01T00:00:00.000000000",
          "2001-01-01T00:00:00.000000000",
          "2001-02-01T00:00:00.000000000",
          "2001-03-01T00:00:00.000000000",
          "2001-04-01T00:00:00.000000000",
          "2001-05-01T00:00:00.000000000",
          "2001-06-01T00:00:00.000000000",
          "2001-07-01T00:00:00.000000000",
          "2001-08-01T00:00:00.000000000",
          "2001-09-01T00:00:00.000000000",
          "2001-10-01T00:00:00.000000000",
          "2001-11-01T00:00:00.000000000",
          "2001-12-01T00:00:00.000000000",
          "2002-01-01T00:00:00.000000000",
          "2002-02-01T00:00:00.000000000",
          "2002-03-01T00:00:00.000000000",
          "2002-04-01T00:00:00.000000000",
          "2002-05-01T00:00:00.000000000",
          "2002-06-01T00:00:00.000000000",
          "2002-07-01T00:00:00.000000000",
          "2002-08-01T00:00:00.000000000",
          "2002-09-01T00:00:00.000000000",
          "2002-10-01T00:00:00.000000000",
          "2002-11-01T00:00:00.000000000",
          "2002-12-01T00:00:00.000000000",
          "2003-01-01T00:00:00.000000000",
          "2003-02-01T00:00:00.000000000",
          "2003-03-01T00:00:00.000000000",
          "2003-04-01T00:00:00.000000000",
          "2003-05-01T00:00:00.000000000",
          "2003-06-01T00:00:00.000000000",
          "2003-07-01T00:00:00.000000000",
          "2003-08-01T00:00:00.000000000",
          "2003-09-01T00:00:00.000000000",
          "2003-10-01T00:00:00.000000000",
          "2003-11-01T00:00:00.000000000",
          "2003-12-01T00:00:00.000000000",
          "2004-01-01T00:00:00.000000000",
          "2004-02-01T00:00:00.000000000",
          "2004-03-01T00:00:00.000000000",
          "2004-04-01T00:00:00.000000000",
          "2004-05-01T00:00:00.000000000",
          "2004-06-01T00:00:00.000000000",
          "2004-07-01T00:00:00.000000000",
          "2004-08-01T00:00:00.000000000",
          "2004-09-01T00:00:00.000000000",
          "2004-10-01T00:00:00.000000000",
          "2004-11-01T00:00:00.000000000",
          "2004-12-01T00:00:00.000000000",
          "2005-01-01T00:00:00.000000000",
          "2005-02-01T00:00:00.000000000",
          "2005-03-01T00:00:00.000000000",
          "2005-04-01T00:00:00.000000000",
          "2005-05-01T00:00:00.000000000",
          "2005-06-01T00:00:00.000000000",
          "2005-07-01T00:00:00.000000000",
          "2005-08-01T00:00:00.000000000",
          "2005-09-01T00:00:00.000000000",
          "2005-10-01T00:00:00.000000000",
          "2005-11-01T00:00:00.000000000",
          "2005-12-01T00:00:00.000000000",
          "2006-01-01T00:00:00.000000000",
          "2006-02-01T00:00:00.000000000",
          "2006-03-01T00:00:00.000000000",
          "2006-04-01T00:00:00.000000000",
          "2006-05-01T00:00:00.000000000",
          "2006-06-01T00:00:00.000000000",
          "2006-07-01T00:00:00.000000000",
          "2006-08-01T00:00:00.000000000",
          "2006-09-01T00:00:00.000000000",
          "2006-10-01T00:00:00.000000000",
          "2006-11-01T00:00:00.000000000",
          "2006-12-01T00:00:00.000000000",
          "2007-01-01T00:00:00.000000000",
          "2007-02-01T00:00:00.000000000",
          "2007-03-01T00:00:00.000000000",
          "2007-04-01T00:00:00.000000000",
          "2007-05-01T00:00:00.000000000",
          "2007-06-01T00:00:00.000000000",
          "2007-07-01T00:00:00.000000000",
          "2007-08-01T00:00:00.000000000",
          "2007-09-01T00:00:00.000000000",
          "2007-10-01T00:00:00.000000000",
          "2007-11-01T00:00:00.000000000",
          "2007-12-01T00:00:00.000000000",
          "2008-01-01T00:00:00.000000000",
          "2008-02-01T00:00:00.000000000",
          "2008-03-01T00:00:00.000000000",
          "2008-04-01T00:00:00.000000000",
          "2008-05-01T00:00:00.000000000",
          "2008-06-01T00:00:00.000000000",
          "2008-07-01T00:00:00.000000000",
          "2008-08-01T00:00:00.000000000",
          "2008-09-01T00:00:00.000000000",
          "2008-10-01T00:00:00.000000000",
          "2008-11-01T00:00:00.000000000",
          "2008-12-01T00:00:00.000000000",
          "2009-01-01T00:00:00.000000000",
          "2009-02-01T00:00:00.000000000",
          "2009-03-01T00:00:00.000000000",
          "2009-04-01T00:00:00.000000000",
          "2009-05-01T00:00:00.000000000",
          "2009-06-01T00:00:00.000000000",
          "2009-07-01T00:00:00.000000000",
          "2009-08-01T00:00:00.000000000",
          "2009-09-01T00:00:00.000000000",
          "2009-10-01T00:00:00.000000000",
          "2009-11-01T00:00:00.000000000",
          "2009-12-01T00:00:00.000000000",
          "2010-01-01T00:00:00.000000000",
          "2010-02-01T00:00:00.000000000",
          "2010-03-01T00:00:00.000000000",
          "2010-04-01T00:00:00.000000000",
          "2010-05-01T00:00:00.000000000",
          "2010-06-01T00:00:00.000000000",
          "2010-07-01T00:00:00.000000000",
          "2010-08-01T00:00:00.000000000",
          "2010-09-01T00:00:00.000000000",
          "2010-10-01T00:00:00.000000000",
          "2010-11-01T00:00:00.000000000",
          "2010-12-01T00:00:00.000000000",
          "2011-01-01T00:00:00.000000000",
          "2011-02-01T00:00:00.000000000",
          "2011-03-01T00:00:00.000000000",
          "2011-04-01T00:00:00.000000000",
          "2011-05-01T00:00:00.000000000",
          "2011-06-01T00:00:00.000000000",
          "2011-07-01T00:00:00.000000000",
          "2011-08-01T00:00:00.000000000",
          "2011-09-01T00:00:00.000000000",
          "2011-10-01T00:00:00.000000000",
          "2011-11-01T00:00:00.000000000",
          "2011-12-01T00:00:00.000000000",
          "2012-01-01T00:00:00.000000000",
          "2012-02-01T00:00:00.000000000",
          "2012-03-01T00:00:00.000000000",
          "2012-04-01T00:00:00.000000000",
          "2012-05-01T00:00:00.000000000",
          "2012-06-01T00:00:00.000000000",
          "2012-07-01T00:00:00.000000000",
          "2012-08-01T00:00:00.000000000",
          "2012-09-01T00:00:00.000000000",
          "2012-10-01T00:00:00.000000000",
          "2012-11-01T00:00:00.000000000",
          "2012-12-01T00:00:00.000000000",
          "2013-01-01T00:00:00.000000000",
          "2013-02-01T00:00:00.000000000",
          "2013-03-01T00:00:00.000000000",
          "2013-04-01T00:00:00.000000000",
          "2013-05-01T00:00:00.000000000",
          "2013-06-01T00:00:00.000000000",
          "2013-07-01T00:00:00.000000000",
          "2013-08-01T00:00:00.000000000",
          "2013-09-01T00:00:00.000000000",
          "2013-10-01T00:00:00.000000000",
          "2013-11-01T00:00:00.000000000",
          "2013-12-01T00:00:00.000000000",
          "2014-01-01T00:00:00.000000000",
          "2014-02-01T00:00:00.000000000",
          "2014-03-01T00:00:00.000000000",
          "2014-04-01T00:00:00.000000000",
          "2014-05-01T00:00:00.000000000",
          "2014-06-01T00:00:00.000000000",
          "2014-07-01T00:00:00.000000000",
          "2014-08-01T00:00:00.000000000",
          "2014-09-01T00:00:00.000000000",
          "2014-10-01T00:00:00.000000000",
          "2014-11-01T00:00:00.000000000",
          "2014-12-01T00:00:00.000000000",
          "2015-01-01T00:00:00.000000000",
          "2015-02-01T00:00:00.000000000",
          "2015-03-01T00:00:00.000000000",
          "2015-04-01T00:00:00.000000000",
          "2015-05-01T00:00:00.000000000",
          "2015-06-01T00:00:00.000000000",
          "2015-07-01T00:00:00.000000000",
          "2015-08-01T00:00:00.000000000",
          "2015-09-01T00:00:00.000000000",
          "2015-10-01T00:00:00.000000000",
          "2015-11-01T00:00:00.000000000",
          "2015-12-01T00:00:00.000000000",
          "2016-01-01T00:00:00.000000000",
          "2016-02-01T00:00:00.000000000",
          "2016-03-01T00:00:00.000000000",
          "2016-04-01T00:00:00.000000000",
          "2016-05-01T00:00:00.000000000",
          "2016-06-01T00:00:00.000000000",
          "2016-07-01T00:00:00.000000000",
          "2016-08-01T00:00:00.000000000",
          "2016-09-01T00:00:00.000000000",
          "2016-10-01T00:00:00.000000000",
          "2016-11-01T00:00:00.000000000",
          "2016-12-01T00:00:00.000000000",
          "2017-01-01T00:00:00.000000000",
          "2017-02-01T00:00:00.000000000",
          "2017-03-01T00:00:00.000000000",
          "2017-04-01T00:00:00.000000000",
          "2017-05-01T00:00:00.000000000",
          "2017-06-01T00:00:00.000000000",
          "2017-07-01T00:00:00.000000000",
          "2017-08-01T00:00:00.000000000",
          "2017-09-01T00:00:00.000000000",
          "2017-10-01T00:00:00.000000000",
          "2017-11-01T00:00:00.000000000",
          "2017-12-01T00:00:00.000000000",
          "2018-01-01T00:00:00.000000000",
          "2018-02-01T00:00:00.000000000",
          "2018-03-01T00:00:00.000000000",
          "2018-04-01T00:00:00.000000000",
          "2018-05-01T00:00:00.000000000",
          "2018-06-01T00:00:00.000000000",
          "2018-07-01T00:00:00.000000000",
          "2018-08-01T00:00:00.000000000",
          "2018-09-01T00:00:00.000000000",
          "2018-10-01T00:00:00.000000000",
          "2018-11-01T00:00:00.000000000",
          "2018-12-01T00:00:00.000000000",
          "2019-01-01T00:00:00.000000000",
          "2019-02-01T00:00:00.000000000",
          "2019-03-01T00:00:00.000000000",
          "2019-04-01T00:00:00.000000000",
          "2019-05-01T00:00:00.000000000",
          "2019-06-01T00:00:00.000000000",
          "2019-07-01T00:00:00.000000000",
          "2019-08-01T00:00:00.000000000",
          "2019-09-01T00:00:00.000000000",
          "2019-10-01T00:00:00.000000000",
          "2019-11-01T00:00:00.000000000",
          "2019-12-01T00:00:00.000000000",
          "2020-01-01T00:00:00.000000000",
          "2020-02-01T00:00:00.000000000",
          "2020-03-01T00:00:00.000000000",
          "2020-04-01T00:00:00.000000000",
          "2020-05-01T00:00:00.000000000",
          "2020-06-01T00:00:00.000000000",
          "2020-07-01T00:00:00.000000000",
          "2020-08-01T00:00:00.000000000",
          "2020-09-01T00:00:00.000000000",
          "2020-10-01T00:00:00.000000000",
          "2020-11-01T00:00:00.000000000",
          "2020-12-01T00:00:00.000000000",
          "2021-01-01T00:00:00.000000000",
          "2021-02-01T00:00:00.000000000",
          "2021-03-01T00:00:00.000000000",
          "2021-04-01T00:00:00.000000000",
          "2021-05-01T00:00:00.000000000",
          "2021-06-01T00:00:00.000000000",
          "2021-07-01T00:00:00.000000000",
          "2021-08-01T00:00:00.000000000",
          "2021-09-01T00:00:00.000000000",
          "2021-10-01T00:00:00.000000000",
          "2021-11-01T00:00:00.000000000",
          "2021-12-01T00:00:00.000000000",
          "2022-01-01T00:00:00.000000000",
          "2022-02-01T00:00:00.000000000",
          "2022-03-01T00:00:00.000000000",
          "2022-04-01T00:00:00.000000000",
          "2022-05-01T00:00:00.000000000",
          "2022-06-01T00:00:00.000000000",
          "2022-07-01T00:00:00.000000000",
          "2022-08-01T00:00:00.000000000",
          "2022-09-01T00:00:00.000000000",
          "2022-10-01T00:00:00.000000000",
          "2022-11-01T00:00:00.000000000",
          "2022-12-01T00:00:00.000000000",
          "2023-01-01T00:00:00.000000000",
          "2023-02-01T00:00:00.000000000",
          "2023-03-01T00:00:00.000000000",
          "2023-04-01T00:00:00.000000000",
          "2023-05-01T00:00:00.000000000",
          "2023-06-01T00:00:00.000000000",
          "2023-07-01T00:00:00.000000000",
          "2023-08-01T00:00:00.000000000",
          "2023-09-01T00:00:00.000000000",
          "2023-10-01T00:00:00.000000000",
          "2023-11-01T00:00:00.000000000",
          "2023-12-01T00:00:00.000000000",
          "2024-01-01T00:00:00.000000000",
          "2024-02-01T00:00:00.000000000",
          "2024-03-01T00:00:00.000000000",
          "2024-04-01T00:00:00.000000000",
          "2024-05-01T00:00:00.000000000",
          "2024-06-01T00:00:00.000000000",
          "2024-07-01T00:00:00.000000000",
          "2024-08-01T00:00:00.000000000",
          "2024-09-01T00:00:00.000000000",
          "2024-10-01T00:00:00.000000000",
          "2024-11-01T00:00:00.000000000",
          "2024-12-01T00:00:00.000000000"
         ],
         "xaxis": "x2",
         "y": {
          "bdata": "AwAHAAgACgATABAACgAJAAUACQAQAAgACQANAAsAFQAPABUADgAKAAgAEgAPAAkAEAAPAAcAEwAXAAwADQARAAsAEAARABsAFQAQABYAEgARABYAEAAOABoAFgASABcAEQATABEAEAAUAB0AEwASABUAEAAdAB4AFAAaABoAGAAcABgAJQAbABkAHwAbACIAFwAbACcAJAAgAB4AGgAaACgAIQAlABoAJQAmACIAJAA0ACcAHwAkACMAJgAuADIAKgAlADIAIwAtAC4AMwAhADAAOwA5ADEAOAAxAD0ANAA+ADQANAAoAEgAMAA1AEgALAA7AEQANwBUAFkAPgA/AEkATQBVAEsARgBDAG4AQwBcAGoAXgBMAG4AUgB4AFkAfQBUAGkAXgBpAHMAbQB+AIYAjQCLAH0AlABvAH8AgACDAHQAgACAAJIAnACTAKQArgCsAJ0AqwCNAKYAowBwAMQAwwCqANQArQC8AMQAtACqAL8A3ACoAMoA3AAAAfYA9gDBAP0AFQENAd8A7gDOABgBLAEOAQ0B+gAeAUUBUwFJAT0BVwEtAU8BcAFqAW4BQgGDAW8BdQGAAXsBjQFHAYIBlwGoAZMBtwGdAY8BtwGMAakBvgGBAc8BDQLoAU8CrwGwAeIB+QHgASMC9gG+AdsBVgIsAs4C8gFiAo8CVwJNAhkDwAI7AosClgLSA6oCKwIEA0UD9gJtA1YDqgLDAlkDeQM0BIQD0AJ7A4sExwNcBAwE7QNtA2gEawSDBfEDwQNnBYEFGgX+BUoFTQVlBI0FVQa/BtEFgwX9BXQGHwdGCIQHugb7BfEHyggtCFEHHgb5CN0IdQmqCBEMogl8B0gIxwthCYEJSQdCCZwKxQkNCasLzAiMB3gJhAv/CGoJ5AewCeIL/gitCncKwggUCG4Jogx9CxAJUwicCucM0gluEGYMFQrNCRAMyQ5wDB8MiAoQEH0OZwsjDUENrwqhB8kHUAc8BTgH",
          "dtype": "i2"
         },
         "yaxis": "y2"
        },
        {
         "hovertemplate": "<b>OLS trendline</b><br>log10(count) = 2.75653e-09 * period + -1.13418<br>R<sup>2</sup>=0.984835<br><br>period=%{x}<br>count=%{y} <b>(trend)</b><extra></extra>",
         "legendgroup": "",
         "line": {
          "color": "red"
         },
         "marker": {
          "color": "#636efa",
          "symbol": "circle"
         },
         "mode": "lines",
         "name": "",
         "showlegend": false,
         "type": "scatter",
         "x": [
          "1994-01-01T00:00:00.000000000",
          "1994-02-01T00:00:00.000000000",
          "1994-03-01T00:00:00.000000000",
          "1994-04-01T00:00:00.000000000",
          "1994-05-01T00:00:00.000000000",
          "1994-06-01T00:00:00.000000000",
          "1994-07-01T00:00:00.000000000",
          "1994-08-01T00:00:00.000000000",
          "1994-09-01T00:00:00.000000000",
          "1994-10-01T00:00:00.000000000",
          "1994-11-01T00:00:00.000000000",
          "1994-12-01T00:00:00.000000000",
          "1995-01-01T00:00:00.000000000",
          "1995-02-01T00:00:00.000000000",
          "1995-03-01T00:00:00.000000000",
          "1995-04-01T00:00:00.000000000",
          "1995-05-01T00:00:00.000000000",
          "1995-06-01T00:00:00.000000000",
          "1995-07-01T00:00:00.000000000",
          "1995-08-01T00:00:00.000000000",
          "1995-09-01T00:00:00.000000000",
          "1995-10-01T00:00:00.000000000",
          "1995-11-01T00:00:00.000000000",
          "1995-12-01T00:00:00.000000000",
          "1996-01-01T00:00:00.000000000",
          "1996-02-01T00:00:00.000000000",
          "1996-03-01T00:00:00.000000000",
          "1996-04-01T00:00:00.000000000",
          "1996-05-01T00:00:00.000000000",
          "1996-06-01T00:00:00.000000000",
          "1996-07-01T00:00:00.000000000",
          "1996-08-01T00:00:00.000000000",
          "1996-09-01T00:00:00.000000000",
          "1996-10-01T00:00:00.000000000",
          "1996-11-01T00:00:00.000000000",
          "1996-12-01T00:00:00.000000000",
          "1997-01-01T00:00:00.000000000",
          "1997-02-01T00:00:00.000000000",
          "1997-03-01T00:00:00.000000000",
          "1997-04-01T00:00:00.000000000",
          "1997-05-01T00:00:00.000000000",
          "1997-06-01T00:00:00.000000000",
          "1997-07-01T00:00:00.000000000",
          "1997-08-01T00:00:00.000000000",
          "1997-09-01T00:00:00.000000000",
          "1997-10-01T00:00:00.000000000",
          "1997-11-01T00:00:00.000000000",
          "1997-12-01T00:00:00.000000000",
          "1998-01-01T00:00:00.000000000",
          "1998-02-01T00:00:00.000000000",
          "1998-03-01T00:00:00.000000000",
          "1998-04-01T00:00:00.000000000",
          "1998-05-01T00:00:00.000000000",
          "1998-06-01T00:00:00.000000000",
          "1998-07-01T00:00:00.000000000",
          "1998-08-01T00:00:00.000000000",
          "1998-09-01T00:00:00.000000000",
          "1998-10-01T00:00:00.000000000",
          "1998-11-01T00:00:00.000000000",
          "1998-12-01T00:00:00.000000000",
          "1999-01-01T00:00:00.000000000",
          "1999-02-01T00:00:00.000000000",
          "1999-03-01T00:00:00.000000000",
          "1999-04-01T00:00:00.000000000",
          "1999-05-01T00:00:00.000000000",
          "1999-06-01T00:00:00.000000000",
          "1999-07-01T00:00:00.000000000",
          "1999-08-01T00:00:00.000000000",
          "1999-09-01T00:00:00.000000000",
          "1999-10-01T00:00:00.000000000",
          "1999-11-01T00:00:00.000000000",
          "1999-12-01T00:00:00.000000000",
          "2000-01-01T00:00:00.000000000",
          "2000-02-01T00:00:00.000000000",
          "2000-03-01T00:00:00.000000000",
          "2000-04-01T00:00:00.000000000",
          "2000-05-01T00:00:00.000000000",
          "2000-06-01T00:00:00.000000000",
          "2000-07-01T00:00:00.000000000",
          "2000-08-01T00:00:00.000000000",
          "2000-09-01T00:00:00.000000000",
          "2000-10-01T00:00:00.000000000",
          "2000-11-01T00:00:00.000000000",
          "2000-12-01T00:00:00.000000000",
          "2001-01-01T00:00:00.000000000",
          "2001-02-01T00:00:00.000000000",
          "2001-03-01T00:00:00.000000000",
          "2001-04-01T00:00:00.000000000",
          "2001-05-01T00:00:00.000000000",
          "2001-06-01T00:00:00.000000000",
          "2001-07-01T00:00:00.000000000",
          "2001-08-01T00:00:00.000000000",
          "2001-09-01T00:00:00.000000000",
          "2001-10-01T00:00:00.000000000",
          "2001-11-01T00:00:00.000000000",
          "2001-12-01T00:00:00.000000000",
          "2002-01-01T00:00:00.000000000",
          "2002-02-01T00:00:00.000000000",
          "2002-03-01T00:00:00.000000000",
          "2002-04-01T00:00:00.000000000",
          "2002-05-01T00:00:00.000000000",
          "2002-06-01T00:00:00.000000000",
          "2002-07-01T00:00:00.000000000",
          "2002-08-01T00:00:00.000000000",
          "2002-09-01T00:00:00.000000000",
          "2002-10-01T00:00:00.000000000",
          "2002-11-01T00:00:00.000000000",
          "2002-12-01T00:00:00.000000000",
          "2003-01-01T00:00:00.000000000",
          "2003-02-01T00:00:00.000000000",
          "2003-03-01T00:00:00.000000000",
          "2003-04-01T00:00:00.000000000",
          "2003-05-01T00:00:00.000000000",
          "2003-06-01T00:00:00.000000000",
          "2003-07-01T00:00:00.000000000",
          "2003-08-01T00:00:00.000000000",
          "2003-09-01T00:00:00.000000000",
          "2003-10-01T00:00:00.000000000",
          "2003-11-01T00:00:00.000000000",
          "2003-12-01T00:00:00.000000000",
          "2004-01-01T00:00:00.000000000",
          "2004-02-01T00:00:00.000000000",
          "2004-03-01T00:00:00.000000000",
          "2004-04-01T00:00:00.000000000",
          "2004-05-01T00:00:00.000000000",
          "2004-06-01T00:00:00.000000000",
          "2004-07-01T00:00:00.000000000",
          "2004-08-01T00:00:00.000000000",
          "2004-09-01T00:00:00.000000000",
          "2004-10-01T00:00:00.000000000",
          "2004-11-01T00:00:00.000000000",
          "2004-12-01T00:00:00.000000000",
          "2005-01-01T00:00:00.000000000",
          "2005-02-01T00:00:00.000000000",
          "2005-03-01T00:00:00.000000000",
          "2005-04-01T00:00:00.000000000",
          "2005-05-01T00:00:00.000000000",
          "2005-06-01T00:00:00.000000000",
          "2005-07-01T00:00:00.000000000",
          "2005-08-01T00:00:00.000000000",
          "2005-09-01T00:00:00.000000000",
          "2005-10-01T00:00:00.000000000",
          "2005-11-01T00:00:00.000000000",
          "2005-12-01T00:00:00.000000000",
          "2006-01-01T00:00:00.000000000",
          "2006-02-01T00:00:00.000000000",
          "2006-03-01T00:00:00.000000000",
          "2006-04-01T00:00:00.000000000",
          "2006-05-01T00:00:00.000000000",
          "2006-06-01T00:00:00.000000000",
          "2006-07-01T00:00:00.000000000",
          "2006-08-01T00:00:00.000000000",
          "2006-09-01T00:00:00.000000000",
          "2006-10-01T00:00:00.000000000",
          "2006-11-01T00:00:00.000000000",
          "2006-12-01T00:00:00.000000000",
          "2007-01-01T00:00:00.000000000",
          "2007-02-01T00:00:00.000000000",
          "2007-03-01T00:00:00.000000000",
          "2007-04-01T00:00:00.000000000",
          "2007-05-01T00:00:00.000000000",
          "2007-06-01T00:00:00.000000000",
          "2007-07-01T00:00:00.000000000",
          "2007-08-01T00:00:00.000000000",
          "2007-09-01T00:00:00.000000000",
          "2007-10-01T00:00:00.000000000",
          "2007-11-01T00:00:00.000000000",
          "2007-12-01T00:00:00.000000000",
          "2008-01-01T00:00:00.000000000",
          "2008-02-01T00:00:00.000000000",
          "2008-03-01T00:00:00.000000000",
          "2008-04-01T00:00:00.000000000",
          "2008-05-01T00:00:00.000000000",
          "2008-06-01T00:00:00.000000000",
          "2008-07-01T00:00:00.000000000",
          "2008-08-01T00:00:00.000000000",
          "2008-09-01T00:00:00.000000000",
          "2008-10-01T00:00:00.000000000",
          "2008-11-01T00:00:00.000000000",
          "2008-12-01T00:00:00.000000000",
          "2009-01-01T00:00:00.000000000",
          "2009-02-01T00:00:00.000000000",
          "2009-03-01T00:00:00.000000000",
          "2009-04-01T00:00:00.000000000",
          "2009-05-01T00:00:00.000000000",
          "2009-06-01T00:00:00.000000000",
          "2009-07-01T00:00:00.000000000",
          "2009-08-01T00:00:00.000000000",
          "2009-09-01T00:00:00.000000000",
          "2009-10-01T00:00:00.000000000",
          "2009-11-01T00:00:00.000000000",
          "2009-12-01T00:00:00.000000000",
          "2010-01-01T00:00:00.000000000",
          "2010-02-01T00:00:00.000000000",
          "2010-03-01T00:00:00.000000000",
          "2010-04-01T00:00:00.000000000",
          "2010-05-01T00:00:00.000000000",
          "2010-06-01T00:00:00.000000000",
          "2010-07-01T00:00:00.000000000",
          "2010-08-01T00:00:00.000000000",
          "2010-09-01T00:00:00.000000000",
          "2010-10-01T00:00:00.000000000",
          "2010-11-01T00:00:00.000000000",
          "2010-12-01T00:00:00.000000000",
          "2011-01-01T00:00:00.000000000",
          "2011-02-01T00:00:00.000000000",
          "2011-03-01T00:00:00.000000000",
          "2011-04-01T00:00:00.000000000",
          "2011-05-01T00:00:00.000000000",
          "2011-06-01T00:00:00.000000000",
          "2011-07-01T00:00:00.000000000",
          "2011-08-01T00:00:00.000000000",
          "2011-09-01T00:00:00.000000000",
          "2011-10-01T00:00:00.000000000",
          "2011-11-01T00:00:00.000000000",
          "2011-12-01T00:00:00.000000000",
          "2012-01-01T00:00:00.000000000",
          "2012-02-01T00:00:00.000000000",
          "2012-03-01T00:00:00.000000000",
          "2012-04-01T00:00:00.000000000",
          "2012-05-01T00:00:00.000000000",
          "2012-06-01T00:00:00.000000000",
          "2012-07-01T00:00:00.000000000",
          "2012-08-01T00:00:00.000000000",
          "2012-09-01T00:00:00.000000000",
          "2012-10-01T00:00:00.000000000",
          "2012-11-01T00:00:00.000000000",
          "2012-12-01T00:00:00.000000000",
          "2013-01-01T00:00:00.000000000",
          "2013-02-01T00:00:00.000000000",
          "2013-03-01T00:00:00.000000000",
          "2013-04-01T00:00:00.000000000",
          "2013-05-01T00:00:00.000000000",
          "2013-06-01T00:00:00.000000000",
          "2013-07-01T00:00:00.000000000",
          "2013-08-01T00:00:00.000000000",
          "2013-09-01T00:00:00.000000000",
          "2013-10-01T00:00:00.000000000",
          "2013-11-01T00:00:00.000000000",
          "2013-12-01T00:00:00.000000000",
          "2014-01-01T00:00:00.000000000",
          "2014-02-01T00:00:00.000000000",
          "2014-03-01T00:00:00.000000000",
          "2014-04-01T00:00:00.000000000",
          "2014-05-01T00:00:00.000000000",
          "2014-06-01T00:00:00.000000000",
          "2014-07-01T00:00:00.000000000",
          "2014-08-01T00:00:00.000000000",
          "2014-09-01T00:00:00.000000000",
          "2014-10-01T00:00:00.000000000",
          "2014-11-01T00:00:00.000000000",
          "2014-12-01T00:00:00.000000000",
          "2015-01-01T00:00:00.000000000",
          "2015-02-01T00:00:00.000000000",
          "2015-03-01T00:00:00.000000000",
          "2015-04-01T00:00:00.000000000",
          "2015-05-01T00:00:00.000000000",
          "2015-06-01T00:00:00.000000000",
          "2015-07-01T00:00:00.000000000",
          "2015-08-01T00:00:00.000000000",
          "2015-09-01T00:00:00.000000000",
          "2015-10-01T00:00:00.000000000",
          "2015-11-01T00:00:00.000000000",
          "2015-12-01T00:00:00.000000000",
          "2016-01-01T00:00:00.000000000",
          "2016-02-01T00:00:00.000000000",
          "2016-03-01T00:00:00.000000000",
          "2016-04-01T00:00:00.000000000",
          "2016-05-01T00:00:00.000000000",
          "2016-06-01T00:00:00.000000000",
          "2016-07-01T00:00:00.000000000",
          "2016-08-01T00:00:00.000000000",
          "2016-09-01T00:00:00.000000000",
          "2016-10-01T00:00:00.000000000",
          "2016-11-01T00:00:00.000000000",
          "2016-12-01T00:00:00.000000000",
          "2017-01-01T00:00:00.000000000",
          "2017-02-01T00:00:00.000000000",
          "2017-03-01T00:00:00.000000000",
          "2017-04-01T00:00:00.000000000",
          "2017-05-01T00:00:00.000000000",
          "2017-06-01T00:00:00.000000000",
          "2017-07-01T00:00:00.000000000",
          "2017-08-01T00:00:00.000000000",
          "2017-09-01T00:00:00.000000000",
          "2017-10-01T00:00:00.000000000",
          "2017-11-01T00:00:00.000000000",
          "2017-12-01T00:00:00.000000000",
          "2018-01-01T00:00:00.000000000",
          "2018-02-01T00:00:00.000000000",
          "2018-03-01T00:00:00.000000000",
          "2018-04-01T00:00:00.000000000",
          "2018-05-01T00:00:00.000000000",
          "2018-06-01T00:00:00.000000000",
          "2018-07-01T00:00:00.000000000",
          "2018-08-01T00:00:00.000000000",
          "2018-09-01T00:00:00.000000000",
          "2018-10-01T00:00:00.000000000",
          "2018-11-01T00:00:00.000000000",
          "2018-12-01T00:00:00.000000000",
          "2019-01-01T00:00:00.000000000",
          "2019-02-01T00:00:00.000000000",
          "2019-03-01T00:00:00.000000000",
          "2019-04-01T00:00:00.000000000",
          "2019-05-01T00:00:00.000000000",
          "2019-06-01T00:00:00.000000000",
          "2019-07-01T00:00:00.000000000",
          "2019-08-01T00:00:00.000000000",
          "2019-09-01T00:00:00.000000000",
          "2019-10-01T00:00:00.000000000",
          "2019-11-01T00:00:00.000000000",
          "2019-12-01T00:00:00.000000000",
          "2020-01-01T00:00:00.000000000",
          "2020-02-01T00:00:00.000000000",
          "2020-03-01T00:00:00.000000000",
          "2020-04-01T00:00:00.000000000",
          "2020-05-01T00:00:00.000000000",
          "2020-06-01T00:00:00.000000000",
          "2020-07-01T00:00:00.000000000",
          "2020-08-01T00:00:00.000000000",
          "2020-09-01T00:00:00.000000000",
          "2020-10-01T00:00:00.000000000",
          "2020-11-01T00:00:00.000000000",
          "2020-12-01T00:00:00.000000000",
          "2021-01-01T00:00:00.000000000",
          "2021-02-01T00:00:00.000000000",
          "2021-03-01T00:00:00.000000000",
          "2021-04-01T00:00:00.000000000",
          "2021-05-01T00:00:00.000000000",
          "2021-06-01T00:00:00.000000000",
          "2021-07-01T00:00:00.000000000",
          "2021-08-01T00:00:00.000000000",
          "2021-09-01T00:00:00.000000000",
          "2021-10-01T00:00:00.000000000",
          "2021-11-01T00:00:00.000000000",
          "2021-12-01T00:00:00.000000000",
          "2022-01-01T00:00:00.000000000",
          "2022-02-01T00:00:00.000000000",
          "2022-03-01T00:00:00.000000000",
          "2022-04-01T00:00:00.000000000",
          "2022-05-01T00:00:00.000000000",
          "2022-06-01T00:00:00.000000000",
          "2022-07-01T00:00:00.000000000",
          "2022-08-01T00:00:00.000000000",
          "2022-09-01T00:00:00.000000000",
          "2022-10-01T00:00:00.000000000",
          "2022-11-01T00:00:00.000000000",
          "2022-12-01T00:00:00.000000000",
          "2023-01-01T00:00:00.000000000",
          "2023-02-01T00:00:00.000000000",
          "2023-03-01T00:00:00.000000000",
          "2023-04-01T00:00:00.000000000",
          "2023-05-01T00:00:00.000000000",
          "2023-06-01T00:00:00.000000000",
          "2023-07-01T00:00:00.000000000",
          "2023-08-01T00:00:00.000000000",
          "2023-09-01T00:00:00.000000000",
          "2023-10-01T00:00:00.000000000",
          "2023-11-01T00:00:00.000000000",
          "2023-12-01T00:00:00.000000000",
          "2024-01-01T00:00:00.000000000",
          "2024-02-01T00:00:00.000000000",
          "2024-03-01T00:00:00.000000000",
          "2024-04-01T00:00:00.000000000",
          "2024-05-01T00:00:00.000000000",
          "2024-06-01T00:00:00.000000000",
          "2024-07-01T00:00:00.000000000",
          "2024-08-01T00:00:00.000000000",
          "2024-09-01T00:00:00.000000000",
          "2024-10-01T00:00:00.000000000",
          "2024-11-01T00:00:00.000000000",
          "2024-12-01T00:00:00.000000000"
         ],
         "xaxis": "x2",
         "y": {
          "bdata": "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",
          "dtype": "f8"
         },
         "yaxis": "y2"
        }
       ],
       "layout": {
        "annotations": [
         {
          "font": {
           "size": 16
          },
          "showarrow": false,
          "text": "Linear Scale",
          "x": 0.225,
          "xanchor": "center",
          "xref": "paper",
          "y": 1,
          "yanchor": "bottom",
          "yref": "paper"
         },
         {
          "font": {
           "size": 16
          },
          "showarrow": false,
          "text": "Log Scale",
          "x": 0.775,
          "xanchor": "center",
          "xref": "paper",
          "y": 1,
          "yanchor": "bottom",
          "yref": "paper"
         }
        ],
        "template": {
         "data": {
          "bar": [
           {
            "error_x": {
             "color": "#2a3f5f"
            },
            "error_y": {
             "color": "#2a3f5f"
            },
            "marker": {
             "line": {
              "color": "white",
              "width": 0.5
             },
             "pattern": {
              "fillmode": "overlay",
              "size": 10,
              "solidity": 0.2
             }
            },
            "type": "bar"
           }
          ],
          "barpolar": [
           {
            "marker": {
             "line": {
              "color": "white",
              "width": 0.5
             },
             "pattern": {
              "fillmode": "overlay",
              "size": 10,
              "solidity": 0.2
             }
            },
            "type": "barpolar"
           }
          ],
          "carpet": [
           {
            "aaxis": {
             "endlinecolor": "#2a3f5f",
             "gridcolor": "#C8D4E3",
             "linecolor": "#C8D4E3",
             "minorgridcolor": "#C8D4E3",
             "startlinecolor": "#2a3f5f"
            },
            "baxis": {
             "endlinecolor": "#2a3f5f",
             "gridcolor": "#C8D4E3",
             "linecolor": "#C8D4E3",
             "minorgridcolor": "#C8D4E3",
             "startlinecolor": "#2a3f5f"
            },
            "type": "carpet"
           }
          ],
          "choropleth": [
           {
            "colorbar": {
             "outlinewidth": 0,
             "ticks": ""
            },
            "type": "choropleth"
           }
          ],
          "contour": [
           {
            "colorbar": {
             "outlinewidth": 0,
             "ticks": ""
            },
            "colorscale": [
             [
              0,
              "#0d0887"
             ],
             [
              0.1111111111111111,
              "#46039f"
             ],
             [
              0.2222222222222222,
              "#7201a8"
             ],
             [
              0.3333333333333333,
              "#9c179e"
             ],
             [
              0.4444444444444444,
              "#bd3786"
             ],
             [
              0.5555555555555556,
              "#d8576b"
             ],
             [
              0.6666666666666666,
              "#ed7953"
             ],
             [
              0.7777777777777778,
              "#fb9f3a"
             ],
             [
              0.8888888888888888,
              "#fdca26"
             ],
             [
              1,
              "#f0f921"
             ]
            ],
            "type": "contour"
           }
          ],
          "contourcarpet": [
           {
            "colorbar": {
             "outlinewidth": 0,
             "ticks": ""
            },
            "type": "contourcarpet"
           }
          ],
          "heatmap": [
           {
            "colorbar": {
             "outlinewidth": 0,
             "ticks": ""
            },
            "colorscale": [
             [
              0,
              "#0d0887"
             ],
             [
              0.1111111111111111,
              "#46039f"
             ],
             [
              0.2222222222222222,
              "#7201a8"
             ],
             [
              0.3333333333333333,
              "#9c179e"
             ],
             [
              0.4444444444444444,
              "#bd3786"
             ],
             [
              0.5555555555555556,
              "#d8576b"
             ],
             [
              0.6666666666666666,
              "#ed7953"
             ],
             [
              0.7777777777777778,
              "#fb9f3a"
             ],
             [
              0.8888888888888888,
              "#fdca26"
             ],
             [
              1,
              "#f0f921"
             ]
            ],
            "type": "heatmap"
           }
          ],
          "histogram": [
           {
            "marker": {
             "pattern": {
              "fillmode": "overlay",
              "size": 10,
              "solidity": 0.2
             }
            },
            "type": "histogram"
           }
          ],
          "histogram2d": [
           {
            "colorbar": {
             "outlinewidth": 0,
             "ticks": ""
            },
            "colorscale": [
             [
              0,
              "#0d0887"
             ],
             [
              0.1111111111111111,
              "#46039f"
             ],
             [
              0.2222222222222222,
              "#7201a8"
             ],
             [
              0.3333333333333333,
              "#9c179e"
             ],
             [
              0.4444444444444444,
              "#bd3786"
             ],
             [
              0.5555555555555556,
              "#d8576b"
             ],
             [
              0.6666666666666666,
              "#ed7953"
             ],
             [
              0.7777777777777778,
              "#fb9f3a"
             ],
             [
              0.8888888888888888,
              "#fdca26"
             ],
             [
              1,
              "#f0f921"
             ]
            ],
            "type": "histogram2d"
           }
          ],
          "histogram2dcontour": [
           {
            "colorbar": {
             "outlinewidth": 0,
             "ticks": ""
            },
            "colorscale": [
             [
              0,
              "#0d0887"
             ],
             [
              0.1111111111111111,
              "#46039f"
             ],
             [
              0.2222222222222222,
              "#7201a8"
             ],
             [
              0.3333333333333333,
              "#9c179e"
             ],
             [
              0.4444444444444444,
              "#bd3786"
             ],
             [
              0.5555555555555556,
              "#d8576b"
             ],
             [
              0.6666666666666666,
              "#ed7953"
             ],
             [
              0.7777777777777778,
              "#fb9f3a"
             ],
             [
              0.8888888888888888,
              "#fdca26"
             ],
             [
              1,
              "#f0f921"
             ]
            ],
            "type": "histogram2dcontour"
           }
          ],
          "mesh3d": [
           {
            "colorbar": {
             "outlinewidth": 0,
             "ticks": ""
            },
            "type": "mesh3d"
           }
          ],
          "parcoords": [
           {
            "line": {
             "colorbar": {
              "outlinewidth": 0,
              "ticks": ""
             }
            },
            "type": "parcoords"
           }
          ],
          "pie": [
           {
            "automargin": true,
            "type": "pie"
           }
          ],
          "scatter": [
           {
            "fillpattern": {
             "fillmode": "overlay",
             "size": 10,
             "solidity": 0.2
            },
            "type": "scatter"
           }
          ],
          "scatter3d": [
           {
            "line": {
             "colorbar": {
              "outlinewidth": 0,
              "ticks": ""
             }
            },
            "marker": {
             "colorbar": {
              "outlinewidth": 0,
              "ticks": ""
             }
            },
            "type": "scatter3d"
           }
          ],
          "scattercarpet": [
           {
            "marker": {
             "colorbar": {
              "outlinewidth": 0,
              "ticks": ""
             }
            },
            "type": "scattercarpet"
           }
          ],
          "scattergeo": [
           {
            "marker": {
             "colorbar": {
              "outlinewidth": 0,
              "ticks": ""
             }
            },
            "type": "scattergeo"
           }
          ],
          "scattergl": [
           {
            "marker": {
             "colorbar": {
              "outlinewidth": 0,
              "ticks": ""
             }
            },
            "type": "scattergl"
           }
          ],
          "scattermap": [
           {
            "marker": {
             "colorbar": {
              "outlinewidth": 0,
              "ticks": ""
             }
            },
            "type": "scattermap"
           }
          ],
          "scattermapbox": [
           {
            "marker": {
             "colorbar": {
              "outlinewidth": 0,
              "ticks": ""
             }
            },
            "type": "scattermapbox"
           }
          ],
          "scatterpolar": [
           {
            "marker": {
             "colorbar": {
              "outlinewidth": 0,
              "ticks": ""
             }
            },
            "type": "scatterpolar"
           }
          ],
          "scatterpolargl": [
           {
            "marker": {
             "colorbar": {
              "outlinewidth": 0,
              "ticks": ""
             }
            },
            "type": "scatterpolargl"
           }
          ],
          "scatterternary": [
           {
            "marker": {
             "colorbar": {
              "outlinewidth": 0,
              "ticks": ""
             }
            },
            "type": "scatterternary"
           }
          ],
          "surface": [
           {
            "colorbar": {
             "outlinewidth": 0,
             "ticks": ""
            },
            "colorscale": [
             [
              0,
              "#0d0887"
             ],
             [
              0.1111111111111111,
              "#46039f"
             ],
             [
              0.2222222222222222,
              "#7201a8"
             ],
             [
              0.3333333333333333,
              "#9c179e"
             ],
             [
              0.4444444444444444,
              "#bd3786"
             ],
             [
              0.5555555555555556,
              "#d8576b"
             ],
             [
              0.6666666666666666,
              "#ed7953"
             ],
             [
              0.7777777777777778,
              "#fb9f3a"
             ],
             [
              0.8888888888888888,
              "#fdca26"
             ],
             [
              1,
              "#f0f921"
             ]
            ],
            "type": "surface"
           }
          ],
          "table": [
           {
            "cells": {
             "fill": {
              "color": "#EBF0F8"
             },
             "line": {
              "color": "white"
             }
            },
            "header": {
             "fill": {
              "color": "#C8D4E3"
             },
             "line": {
              "color": "white"
             }
            },
            "type": "table"
           }
          ]
         },
         "layout": {
          "annotationdefaults": {
           "arrowcolor": "#2a3f5f",
           "arrowhead": 0,
           "arrowwidth": 1
          },
          "autotypenumbers": "strict",
          "coloraxis": {
           "colorbar": {
            "outlinewidth": 0,
            "ticks": ""
           }
          },
          "colorscale": {
           "diverging": [
            [
             0,
             "#8e0152"
            ],
            [
             0.1,
             "#c51b7d"
            ],
            [
             0.2,
             "#de77ae"
            ],
            [
             0.3,
             "#f1b6da"
            ],
            [
             0.4,
             "#fde0ef"
            ],
            [
             0.5,
             "#f7f7f7"
            ],
            [
             0.6,
             "#e6f5d0"
            ],
            [
             0.7,
             "#b8e186"
            ],
            [
             0.8,
             "#7fbc41"
            ],
            [
             0.9,
             "#4d9221"
            ],
            [
             1,
             "#276419"
            ]
           ],
           "sequential": [
            [
             0,
             "#0d0887"
            ],
            [
             0.1111111111111111,
             "#46039f"
            ],
            [
             0.2222222222222222,
             "#7201a8"
            ],
            [
             0.3333333333333333,
             "#9c179e"
            ],
            [
             0.4444444444444444,
             "#bd3786"
            ],
            [
             0.5555555555555556,
             "#d8576b"
            ],
            [
             0.6666666666666666,
             "#ed7953"
            ],
            [
             0.7777777777777778,
             "#fb9f3a"
            ],
            [
             0.8888888888888888,
             "#fdca26"
            ],
            [
             1,
             "#f0f921"
            ]
           ],
           "sequentialminus": [
            [
             0,
             "#0d0887"
            ],
            [
             0.1111111111111111,
             "#46039f"
            ],
            [
             0.2222222222222222,
             "#7201a8"
            ],
            [
             0.3333333333333333,
             "#9c179e"
            ],
            [
             0.4444444444444444,
             "#bd3786"
            ],
            [
             0.5555555555555556,
             "#d8576b"
            ],
            [
             0.6666666666666666,
             "#ed7953"
            ],
            [
             0.7777777777777778,
             "#fb9f3a"
            ],
            [
             0.8888888888888888,
             "#fdca26"
            ],
            [
             1,
             "#f0f921"
            ]
           ]
          },
          "colorway": [
           "#636efa",
           "#EF553B",
           "#00cc96",
           "#ab63fa",
           "#FFA15A",
           "#19d3f3",
           "#FF6692",
           "#B6E880",
           "#FF97FF",
           "#FECB52"
          ],
          "font": {
           "color": "#2a3f5f"
          },
          "geo": {
           "bgcolor": "white",
           "lakecolor": "white",
           "landcolor": "white",
           "showlakes": true,
           "showland": true,
           "subunitcolor": "#C8D4E3"
          },
          "hoverlabel": {
           "align": "left"
          },
          "hovermode": "closest",
          "mapbox": {
           "style": "light"
          },
          "paper_bgcolor": "white",
          "plot_bgcolor": "white",
          "polar": {
           "angularaxis": {
            "gridcolor": "#EBF0F8",
            "linecolor": "#EBF0F8",
            "ticks": ""
           },
           "bgcolor": "white",
           "radialaxis": {
            "gridcolor": "#EBF0F8",
            "linecolor": "#EBF0F8",
            "ticks": ""
           }
          },
          "scene": {
           "xaxis": {
            "backgroundcolor": "white",
            "gridcolor": "#DFE8F3",
            "gridwidth": 2,
            "linecolor": "#EBF0F8",
            "showbackground": true,
            "ticks": "",
            "zerolinecolor": "#EBF0F8"
           },
           "yaxis": {
            "backgroundcolor": "white",
            "gridcolor": "#DFE8F3",
            "gridwidth": 2,
            "linecolor": "#EBF0F8",
            "showbackground": true,
            "ticks": "",
            "zerolinecolor": "#EBF0F8"
           },
           "zaxis": {
            "backgroundcolor": "white",
            "gridcolor": "#DFE8F3",
            "gridwidth": 2,
            "linecolor": "#EBF0F8",
            "showbackground": true,
            "ticks": "",
            "zerolinecolor": "#EBF0F8"
           }
          },
          "shapedefaults": {
           "line": {
            "color": "#2a3f5f"
           }
          },
          "ternary": {
           "aaxis": {
            "gridcolor": "#DFE8F3",
            "linecolor": "#A2B1C6",
            "ticks": ""
           },
           "baxis": {
            "gridcolor": "#DFE8F3",
            "linecolor": "#A2B1C6",
            "ticks": ""
           },
           "bgcolor": "white",
           "caxis": {
            "gridcolor": "#DFE8F3",
            "linecolor": "#A2B1C6",
            "ticks": ""
           }
          },
          "title": {
           "x": 0.05
          },
          "xaxis": {
           "automargin": true,
           "gridcolor": "#EBF0F8",
           "linecolor": "#EBF0F8",
           "ticks": "",
           "title": {
            "standoff": 15
           },
           "zerolinecolor": "#EBF0F8",
           "zerolinewidth": 2
          },
          "yaxis": {
           "automargin": true,
           "gridcolor": "#EBF0F8",
           "linecolor": "#EBF0F8",
           "ticks": "",
           "title": {
            "standoff": 15
           },
           "zerolinecolor": "#EBF0F8",
           "zerolinewidth": 2
          }
         }
        },
        "title": {
         "font": {
          "size": 25
         },
         "text": "Number of corrective Publications per Month",
         "x": 0.5
        },
        "xaxis": {
         "anchor": "y",
         "domain": [
          0,
          0.45
         ],
         "title": {
          "text": "Year of Publication"
         }
        },
        "xaxis2": {
         "anchor": "y2",
         "domain": [
          0.55,
          1
         ],
         "title": {
          "text": "Year of Publication"
         }
        },
        "yaxis": {
         "anchor": "x",
         "domain": [
          0,
          1
         ],
         "title": {
          "text": "# of Publications per Month"
         },
         "type": "linear"
        },
        "yaxis2": {
         "anchor": "x2",
         "domain": [
          0,
          1
         ],
         "title": {
          "text": "# of Publications per Month"
         },
         "type": "log"
        }
       }
      }
     },
     "metadata": {},
     "output_type": "display_data"
    }
   ],
   "source": [
    "df_corrective = df_complete[~df_complete[\"id\"].str.endswith(\"v1\")]\n",
    "plot_general_development(df_corrective, \"corrective\", \"M\")"
   ]
  },
  {
   "cell_type": "markdown",
   "metadata": {},
   "source": [
    "## Trend analysis for the different Categories"
   ]
  },
  {
   "cell_type": "code",
   "execution_count": 31,
   "metadata": {
    "ExecuteTime": {
     "end_time": "2024-12-29T15:25:40.456008Z",
     "start_time": "2024-12-29T15:25:40.449002Z"
    }
   },
   "outputs": [],
   "source": [
    "def plot_line_chart_by_categories(df, title):\n",
    "    \"\"\"\n",
    "    Plots line charts for the number of publications per year by category on both linear and logarithmic scales\n",
    "    \"\"\"\n",
    "    # Generate consistent color map for categories (lines for same category have same color in both plots)\n",
    "    color_map = generate_color_map(CATEGORIES)\n",
    "\n",
    "    # Create a figure with two subplots: one for linear scale, one for log scale\n",
    "    fig = make_subplots(\n",
    "        rows=1, cols=2,\n",
    "        subplot_titles=[\"Linear-Scale\", \"Log-Scale\"],\n",
    "        shared_yaxes=False\n",
    "    )\n",
    "\n",
    "    # Loop through each category and add its data as a trace to the subplots\n",
    "    for category in CATEGORIES:\n",
    "        # Filter data for the current category\n",
    "        category_data = df[df[\"categories\"] == category]\n",
    "\n",
    "        # Create a line trace for the current category\n",
    "        trace = go.Scatter(\n",
    "            x=category_data[\"period\"],\n",
    "            y=category_data[\"count\"],\n",
    "            mode=\"lines+markers\",\n",
    "            name=category,\n",
    "            line=dict(color=color_map[category])\n",
    "        )\n",
    "\n",
    "        fig.add_trace(trace, row=1, col=1)  # Linear scale\n",
    "        fig.add_trace(trace.update(showlegend=False), row=1, col=2)  # Log scale\n",
    "\n",
    "    # Update layout for the figure\n",
    "    fig.update_layout(\n",
    "        title={\n",
    "            \"text\": f\"Number of {title} Publications per Year by Category\",\n",
    "            \"font\": {\"size\": TITLE_SIZE},\n",
    "            \"x\": TITLE_X_POS,\n",
    "        },\n",
    "        xaxis_title=\"Year of Publication\",  # X-axis label for left (linear) plot\n",
    "        yaxis_title=\"# of Publications per Year\",  # Y-axis label for left (linear) plot\n",
    "        xaxis2_title=\"Year of Publication\",  # X-axis label for right (log) plot\n",
    "        yaxis2_title=\"# of Publications per Year\",  # Y-axis label for right (log) plot\n",
    "        yaxis2_type=\"log\",  # Set log scale for right plot\n",
    "        legend_title=\"Categories\",  # Title for the legend\n",
    "        height=550\n",
    "    )\n",
    "    fig.show()\n",
    "\n",
    "\n",
    "def plot_heatmap_by_category(df, title):\n",
    "    \"\"\"\n",
    "    Plots a heatmap showing the number of publications per year by category\n",
    "    \"\"\"\n",
    "    # Create a pivot table to reshape the data for the heatmap\n",
    "    # Rows represent categories, columns represent periods, values are publication counts\n",
    "    pivot_counts = df.pivot(index=\"categories\", columns=\"period\", values=\"count\").fillna(0).sort_index(ascending=False)  # Sort descending for categories to be sorted alphabetically\n",
    "\n",
    "    # Define constants for visualizations\n",
    "    colorscale = \"RdBu_r\"\n",
    "\n",
    "    fig = go.Figure(\n",
    "        data=go.Heatmap(\n",
    "            z=pivot_counts.values,  # Publication counts\n",
    "            x=pivot_counts.columns,  # Years\n",
    "            y=pivot_counts.index,  # Categories\n",
    "            text=np.array(pivot_counts.values).astype(int),  # Add exact counts as text\n",
    "            texttemplate=\"%{text}\",  # Display counts inside cells\n",
    "            colorbar={\"title\": \"Count\"},  # Title for the color bar\n",
    "            colorscale=colorscale  # Color scale for the heatmap\n",
    "        )\n",
    "    )\n",
    "\n",
    "    # Update layout for heatmap\n",
    "    fig.update_layout(\n",
    "        title={\n",
    "            \"text\": f\"Number of {title} Publications per Year by Category\",\n",
    "            \"font\": {\"size\": TITLE_SIZE},\n",
    "            \"x\": TITLE_X_POS,\n",
    "        },\n",
    "        xaxis_title=\"Year of Publication\",  # X-axis label\n",
    "        yaxis_title=\"Category\",  # Y-axis label\n",
    "        height=800\n",
    "    )\n",
    "    fig.show()"
   ]
  },
  {
   "cell_type": "code",
   "execution_count": 32,
   "metadata": {
    "ExecuteTime": {
     "end_time": "2024-12-29T15:25:40.478525Z",
     "start_time": "2024-12-29T15:25:40.474443Z"
    }
   },
   "outputs": [],
   "source": [
    "def visualize_publications_by_category(df, title):\n",
    "    \"\"\"\n",
    "    Visualizes publications by category using line plots and a heatmap.\n",
    "    \"\"\"\n",
    "    df = prepare_data(df, \"Y\", True)\n",
    "\n",
    "    plot_line_chart_by_categories(df, title)\n",
    "    plot_heatmap_by_category(df, title)\n"
   ]
  },
  {
   "cell_type": "code",
   "execution_count": 33,
   "metadata": {
    "ExecuteTime": {
     "end_time": "2024-12-29T15:25:41.943610Z",
     "start_time": "2024-12-29T15:25:40.480529Z"
    }
   },
   "outputs": [
    {
     "data": {
      "application/vnd.plotly.v1+json": {
       "config": {
        "plotlyServerURL": "https://plot.ly"
       },
       "data": [
        {
         "line": {
          "color": "#636EFA"
         },
         "mode": "lines+markers",
         "name": "cs.lg",
         "type": "scatter",
         "x": {
          "bdata": "zQfOB88H0AfRB9IH0wfUB9UH1gfXB9gH2QfaB9sH3AfdB94H3wfgB+EH4gfjB+QH5QfmB+cH6Ac=",
          "dtype": "i2"
         },
         "xaxis": "x",
         "y": {
          "bdata": "AgAAAAcAAAAZAAAAJAAAABcAAAAsAAAAHgAAACcAAABDAAAATQAAAFQAAACDAAAA5gAAAE8BAADVAQAAOwUAAH8FAADLBgAAtgkAAPUNAACDFAAAAykAAFpLAAAmZQAAoWcAAClwAADygAAABZgAAA==",
          "dtype": "i4"
         },
         "yaxis": "y"
        },
        {
         "line": {
          "color": "#636EFA"
         },
         "mode": "lines+markers",
         "name": "cs.lg",
         "showlegend": false,
         "type": "scatter",
         "x": {
          "bdata": "zQfOB88H0AfRB9IH0wfUB9UH1gfXB9gH2QfaB9sH3AfdB94H3wfgB+EH4gfjB+QH5QfmB+cH6Ac=",
          "dtype": "i2"
         },
         "xaxis": "x2",
         "y": {
          "bdata": "AgAAAAcAAAAZAAAAJAAAABcAAAAsAAAAHgAAACcAAABDAAAATQAAAFQAAACDAAAA5gAAAE8BAADVAQAAOwUAAH8FAADLBgAAtgkAAPUNAACDFAAAAykAAFpLAAAmZQAAoWcAAClwAADygAAABZgAAA==",
          "dtype": "i4"
         },
         "yaxis": "y2"
        },
        {
         "line": {
          "color": "#EF553B"
         },
         "mode": "lines+markers",
         "name": "cs.ai",
         "type": "scatter",
         "x": {
          "bdata": "ygfLB8wHzQfOB88H0AfRB9IH0wfUB9UH1gfXB9gH2QfaB9sH3AfdB94H3wfgB+EH4gfjB+QH5QfmB+cH6Ac=",
          "dtype": "i2"
         },
         "xaxis": "x",
         "y": {
          "bdata": "DgAbABwAFAAeACEAfQBDAHgAhQClAJwAqQDBABUBfgHdARIDbwTCBgMEWQSWB/8KthCREvgc4jDMOUdVQn4=",
          "dtype": "i2"
         },
         "yaxis": "y"
        },
        {
         "line": {
          "color": "#EF553B"
         },
         "mode": "lines+markers",
         "name": "cs.ai",
         "showlegend": false,
         "type": "scatter",
         "x": {
          "bdata": "ygfLB8wHzQfOB88H0AfRB9IH0wfUB9UH1gfXB9gH2QfaB9sH3AfdB94H3wfgB+EH4gfjB+QH5QfmB+cH6Ac=",
          "dtype": "i2"
         },
         "xaxis": "x2",
         "y": {
          "bdata": "DgAbABwAFAAeACEAfQBDAHgAhQClAJwAqQDBABUBfgHdARIDbwTCBgMEWQSWB/8KthCREvgc4jDMOUdVQn4=",
          "dtype": "i2"
         },
         "yaxis": "y2"
        },
        {
         "line": {
          "color": "#00CC96"
         },
         "mode": "lines+markers",
         "name": "cs.cc",
         "type": "scatter",
         "x": {
          "bdata": "ygfLB8wHzQfOB88H0AfRB9IH0wfUB9UH1gfXB9gH2QfaB9sH3AfdB94H3wfgB+EH4gfjB+QH5QfmB+cH6Ac=",
          "dtype": "i2"
         },
         "xaxis": "x",
         "y": {
          "bdata": "CwACAAEAAgAfAEAALABEAFsAWQBPAIMApgDHAA0BZgGlAaQB4wELAhsCPwJIAnsCZALfAiUDCQMIA0UDtwM=",
          "dtype": "i2"
         },
         "yaxis": "y"
        },
        {
         "line": {
          "color": "#00CC96"
         },
         "mode": "lines+markers",
         "name": "cs.cc",
         "showlegend": false,
         "type": "scatter",
         "x": {
          "bdata": "ygfLB8wHzQfOB88H0AfRB9IH0wfUB9UH1gfXB9gH2QfaB9sH3AfdB94H3wfgB+EH4gfjB+QH5QfmB+cH6Ac=",
          "dtype": "i2"
         },
         "xaxis": "x2",
         "y": {
          "bdata": "CwACAAEAAgAfAEAALABEAFsAWQBPAIMApgDHAA0BZgGlAaQB4wELAhsCPwJIAnsCZALfAiUDCQMIA0UDtwM=",
          "dtype": "i2"
         },
         "yaxis": "y2"
        },
        {
         "line": {
          "color": "#AB63FA"
         },
         "mode": "lines+markers",
         "name": "math.st",
         "type": "scatter",
         "x": {
          "bdata": "ygfNB84HzwfQB9EH0gfTB9QH1QfWB9cH2AfZB9oH2wfcB90H3gffB+AH4QfiB+MH5AflB+YH5wfoBw==",
          "dtype": "i2"
         },
         "xaxis": "x",
         "y": {
          "bdata": "AQABAAEAAgAJABEAGAAlAJ8ALwH7AUMCmwJ1ApUCUgPLA/4DTgSpBLcE9QQoBbcGigd1B54HlgdQCA==",
          "dtype": "i2"
         },
         "yaxis": "y"
        },
        {
         "line": {
          "color": "#AB63FA"
         },
         "mode": "lines+markers",
         "name": "math.st",
         "showlegend": false,
         "type": "scatter",
         "x": {
          "bdata": "ygfNB84HzwfQB9EH0gfTB9QH1QfWB9cH2AfZB9oH2wfcB90H3gffB+AH4QfiB+MH5AflB+YH5wfoBw==",
          "dtype": "i2"
         },
         "xaxis": "x2",
         "y": {
          "bdata": "AQABAAEAAgAJABEAGAAlAJ8ALwH7AUMCmwJ1ApUCUgPLA/4DTgSpBLcE9QQoBbcGigd1B54HlgdQCA==",
          "dtype": "i2"
         },
         "yaxis": "y2"
        },
        {
         "line": {
          "color": "#FFA15A"
         },
         "mode": "lines+markers",
         "name": "math.oc",
         "type": "scatter",
         "x": {
          "bdata": "ywfNB84HzwfQB9EH0gfTB9QH1QfWB9cH2AfZB9oH2wfcB90H3gffB+AH4QfiB+MH5AflB+YH5wfoBw==",
          "dtype": "i2"
         },
         "xaxis": "x",
         "y": {
          "bdata": "AgACAAcAKAAoACkAXQBYAG4AgQDSAC0BagHJAaEC1gPdBD4GPQe9CBQKjwvODT0R1hSQFK0UNha+Fw==",
          "dtype": "i2"
         },
         "yaxis": "y"
        },
        {
         "line": {
          "color": "#FFA15A"
         },
         "mode": "lines+markers",
         "name": "math.oc",
         "showlegend": false,
         "type": "scatter",
         "x": {
          "bdata": "ywfNB84HzwfQB9EH0gfTB9QH1QfWB9cH2AfZB9oH2wfcB90H3gffB+AH4QfiB+MH5AflB+YH5wfoBw==",
          "dtype": "i2"
         },
         "xaxis": "x2",
         "y": {
          "bdata": "AgACAAcAKAAoACkAXQBYAG4AgQDSAC0BagHJAaEC1gPdBD4GPQe9CBQKjwvODT0R1hSQFK0UNha+Fw==",
          "dtype": "i2"
         },
         "yaxis": "y2"
        },
        {
         "line": {
          "color": "#19D3F3"
         },
         "mode": "lines+markers",
         "name": "math.pr",
         "type": "scatter",
         "x": {
          "bdata": "ygfLB8wHzQfOB88H0AfRB9IH0wfUB9UH1gfXB9gH2QfaB9sH3AfdB94H3wfgB+EH4gfjB+QH5QfmB+cH6Ac=",
          "dtype": "i2"
         },
         "xaxis": "x",
         "y": {
          "bdata": "AwAEAAYAEwBfAHUAtQDQABMBeQG2ArwDyQSWBagFsQbkBx8JDgoAC0QLaQyPDKkMpw06Dn8Pfw9nD7oPFhE=",
          "dtype": "i2"
         },
         "yaxis": "y"
        },
        {
         "line": {
          "color": "#19D3F3"
         },
         "mode": "lines+markers",
         "name": "math.pr",
         "showlegend": false,
         "type": "scatter",
         "x": {
          "bdata": "ygfLB8wHzQfOB88H0AfRB9IH0wfUB9UH1gfXB9gH2QfaB9sH3AfdB94H3wfgB+EH4gfjB+QH5QfmB+cH6Ac=",
          "dtype": "i2"
         },
         "xaxis": "x2",
         "y": {
          "bdata": "AwAEAAYAEwBfAHUAtQDQABMBeQG2ArwDyQSWBagFsQbkBx8JDgoAC0QLaQyPDKkMpw06Dn8Pfw9nD7oPFhE=",
          "dtype": "i2"
         },
         "yaxis": "y2"
        },
        {
         "line": {
          "color": "#FF6692"
         },
         "mode": "lines+markers",
         "name": "stat.ml",
         "type": "scatter",
         "x": {
          "bdata": "0gfUB9UH1wfYB9kH2gfbB9wH3QfeB98H4AfhB+IH4wfkB+UH5gfnB+gH",
          "dtype": "i2"
         },
         "xaxis": "x",
         "y": {
          "bdata": "AQACAAEAKwBmAKMA+wCwAX8EowRPBR8HUwrUD80gzzHkMWsUehPUFIIW",
          "dtype": "i2"
         },
         "yaxis": "y"
        },
        {
         "line": {
          "color": "#FF6692"
         },
         "mode": "lines+markers",
         "name": "stat.ml",
         "showlegend": false,
         "type": "scatter",
         "x": {
          "bdata": "0gfUB9UH1wfYB9kH2gfbB9wH3QfeB98H4AfhB+IH4wfkB+UH5gfnB+gH",
          "dtype": "i2"
         },
         "xaxis": "x2",
         "y": {
          "bdata": "AQACAAEAKwBmAKMA+wCwAX8EowRPBR8HUwrUD80gzzHkMWsUehPUFIIW",
          "dtype": "i2"
         },
         "yaxis": "y2"
        },
        {
         "line": {
          "color": "#B6E880"
         },
         "mode": "lines+markers",
         "name": "cs.cv",
         "type": "scatter",
         "x": {
          "bdata": "zgfPB9AH0QfSB9MH1AfVB9YH1wfYB9kH2gfbB9wH3QfeB98H4AfhB+IH4wfkB+UH5gfnB+gH",
          "dtype": "i2"
         },
         "xaxis": "x",
         "y": {
          "bdata": "AwAEAA8ABQAQABkAIwAfACYAPQBVAJMAJQF8AUMCXgM+BdgILA5cFpAhUS3sOzND7EzJX9J1",
          "dtype": "i2"
         },
         "yaxis": "y"
        },
        {
         "line": {
          "color": "#B6E880"
         },
         "mode": "lines+markers",
         "name": "cs.cv",
         "showlegend": false,
         "type": "scatter",
         "x": {
          "bdata": "zgfPB9AH0QfSB9MH1AfVB9YH1wfYB9kH2gfbB9wH3QfeB98H4AfhB+IH4wfkB+UH5gfnB+gH",
          "dtype": "i2"
         },
         "xaxis": "x2",
         "y": {
          "bdata": "AwAEAA8ABQAQABkAIwAfACYAPQBVAJMAJQF8AUMCXgM+BdgILA5cFpAhUS3sOzND7EzJX9J1",
          "dtype": "i2"
         },
         "yaxis": "y2"
        },
        {
         "line": {
          "color": "#FF97FF"
         },
         "mode": "lines+markers",
         "name": "cs.cl",
         "type": "scatter",
         "x": {
          "bdata": "ygfLB8wHzQfOB88H0AfRB9IH0wfUB9UH1gfXB9gH2QfaB9sH3AfdB94H3wfgB+EH4gfjB+QH5QfmB+cH6Ac=",
          "dtype": "i2"
         },
         "xaxis": "x",
         "y": {
          "bdata": "3wDhAMoApABxADoAegBPAEIANwA2ABkANABCAEYAWwBWAH0A4QBOAS0CQAOaBl8JkQ4RFdcblB8LIxg1LE8=",
          "dtype": "i2"
         },
         "yaxis": "y"
        },
        {
         "line": {
          "color": "#FF97FF"
         },
         "mode": "lines+markers",
         "name": "cs.cl",
         "showlegend": false,
         "type": "scatter",
         "x": {
          "bdata": "ygfLB8wHzQfOB88H0AfRB9IH0wfUB9UH1gfXB9gH2QfaB9sH3AfdB94H3wfgB+EH4gfjB+QH5QfmB+cH6Ac=",
          "dtype": "i2"
         },
         "xaxis": "x2",
         "y": {
          "bdata": "3wDhAMoApABxADoAegBPAEIANwA2ABkANABCAEYAWwBWAH0A4QBOAS0CQAOaBl8JkQ4RFdcblB8LIxg1LE8=",
          "dtype": "i2"
         },
         "yaxis": "y2"
        },
        {
         "line": {
          "color": "#FECB52"
         },
         "mode": "lines+markers",
         "name": "cs.ne",
         "type": "scatter",
         "x": {
          "bdata": "zgfPB9AH0QfSB9MH1AfVB9YH1wfYB9kH2gfbB9wH3QfeB98H4AfhB+IH4wfkB+UH5gfnB+gH",
          "dtype": "i2"
         },
         "xaxis": "x",
         "y": {
          "bdata": "DwAKAAoADAAaAC0ALgA+ADAAWgB6AHcAqgCXAOoAOwELAo0CZgP/A7kExwXXBpQF6gUhBiQH",
          "dtype": "i2"
         },
         "yaxis": "y"
        },
        {
         "line": {
          "color": "#FECB52"
         },
         "mode": "lines+markers",
         "name": "cs.ne",
         "showlegend": false,
         "type": "scatter",
         "x": {
          "bdata": "zgfPB9AH0QfSB9MH1AfVB9YH1wfYB9kH2gfbB9wH3QfeB98H4AfhB+IH4wfkB+UH5gfnB+gH",
          "dtype": "i2"
         },
         "xaxis": "x2",
         "y": {
          "bdata": "DwAKAAoADAAaAC0ALgA+ADAAWgB6AHcAqgCXAOoAOwELAo0CZgP/A7kExwXXBpQF6gUhBiQH",
          "dtype": "i2"
         },
         "yaxis": "y2"
        },
        {
         "line": {
          "color": "#636EFA"
         },
         "mode": "lines+markers",
         "name": "cs.ro",
         "type": "scatter",
         "x": {
          "bdata": "zgfQB9EH0gfTB9QH1QfWB9cH2AfZB9oH2wfcB90H3gffB+AH4QfiB+MH5AflB+YH5wfoBw==",
          "dtype": "i2"
         },
         "xaxis": "x",
         "y": {
          "bdata": "AgAIAAEABwAEABUADwAjAGEAQwBBAEcAdgCgAMoAEgFyAQwD7AQxBysLhA9dEmAUXhr9IA==",
          "dtype": "i2"
         },
         "yaxis": "y"
        },
        {
         "line": {
          "color": "#636EFA"
         },
         "mode": "lines+markers",
         "name": "cs.ro",
         "showlegend": false,
         "type": "scatter",
         "x": {
          "bdata": "zgfQB9EH0gfTB9QH1QfWB9cH2AfZB9oH2wfcB90H3gffB+AH4QfiB+MH5AflB+YH5wfoBw==",
          "dtype": "i2"
         },
         "xaxis": "x2",
         "y": {
          "bdata": "AgAIAAEABwAEABUADwAjAGEAQwBBAEcAdgCgAMoAEgFyAQwD7AQxBysLhA9dEmAUXhr9IA==",
          "dtype": "i2"
         },
         "yaxis": "y2"
        },
        {
         "line": {
          "color": "#EF553B"
         },
         "mode": "lines+markers",
         "name": "math.ds",
         "type": "scatter",
         "x": {
          "bdata": "ygfLB8wHzQfOB88H0AfRB9IH0wfUB9UH1gfXB9gH2QfaB9sH3AfdB94H3wfgB+EH4gfjB+QH5QfmB+cH6Ac=",
          "dtype": "i2"
         },
         "xaxis": "x",
         "y": {
          "bdata": "GwAeACcAGwBJAKsArADSAAwBYwGsAfYBXALXAlUDyQNDBIkFXwZiBtkGwwfpB1cIhAj2CSoL5wpfCnIL7Qs=",
          "dtype": "i2"
         },
         "yaxis": "y"
        },
        {
         "line": {
          "color": "#EF553B"
         },
         "mode": "lines+markers",
         "name": "math.ds",
         "showlegend": false,
         "type": "scatter",
         "x": {
          "bdata": "ygfLB8wHzQfOB88H0AfRB9IH0wfUB9UH1gfXB9gH2QfaB9sH3AfdB94H3wfgB+EH4gfjB+QH5QfmB+cH6Ac=",
          "dtype": "i2"
         },
         "xaxis": "x2",
         "y": {
          "bdata": "GwAeACcAGwBJAKsArADSAAwBYwGsAfYBXALXAlUDyQNDBIkFXwZiBtkGwwfpB1cIhAj2CSoL5wpfCnIL7Qs=",
          "dtype": "i2"
         },
         "yaxis": "y2"
        },
        {
         "line": {
          "color": "#00CC96"
         },
         "mode": "lines+markers",
         "name": "cs.hc",
         "type": "scatter",
         "x": {
          "bdata": "zgfPB9AH0QfSB9MH1AfVB9YH1wfYB9kH2gfbB9wH3QfeB98H4AfhB+IH4wfkB+UH5gfnB+gH",
          "dtype": "i2"
         },
         "xaxis": "x",
         "y": {
          "bdata": "CAAHAAgADgALABIAGAALADAAUQBrAGQAYABNAJYA0QAMATIB+gGSApgDhQWKB3oIywmCDrsU",
          "dtype": "i2"
         },
         "yaxis": "y"
        },
        {
         "line": {
          "color": "#00CC96"
         },
         "mode": "lines+markers",
         "name": "cs.hc",
         "showlegend": false,
         "type": "scatter",
         "x": {
          "bdata": "zgfPB9AH0QfSB9MH1AfVB9YH1wfYB9kH2gfbB9wH3QfeB98H4AfhB+IH4wfkB+UH5gfnB+gH",
          "dtype": "i2"
         },
         "xaxis": "x2",
         "y": {
          "bdata": "CAAHAAgADgALABIAGAALADAAUQBrAGQAYABNAJYA0QAMATIB+gGSApgDhQWKB3oIywmCDrsU",
          "dtype": "i2"
         },
         "yaxis": "y2"
        },
        {
         "line": {
          "color": "#AB63FA"
         },
         "mode": "lines+markers",
         "name": "cs.dm",
         "type": "scatter",
         "x": {
          "bdata": "zgfPB9AH0QfSB9MH1AfVB9YH1wfYB9kH2gfbB9wH3QfeB98H4AfhB+IH4wfkB+UH5gfnB+gH",
          "dtype": "i2"
         },
         "xaxis": "x",
         "y": {
          "bdata": "AwAOABUAJAAtACwAUQBXAIgA6ABCAYQB3QE2AgIDjgJuAvcC5AIhA2MD6AMKBAEEAQQzBFQE",
          "dtype": "i2"
         },
         "yaxis": "y"
        },
        {
         "line": {
          "color": "#AB63FA"
         },
         "mode": "lines+markers",
         "name": "cs.dm",
         "showlegend": false,
         "type": "scatter",
         "x": {
          "bdata": "zgfPB9AH0QfSB9MH1AfVB9YH1wfYB9kH2gfbB9wH3QfeB98H4AfhB+IH4wfkB+UH5gfnB+gH",
          "dtype": "i2"
         },
         "xaxis": "x2",
         "y": {
          "bdata": "AwAOABUAJAAtACwAUQBXAIgA6ABCAYQB3QE2AgIDjgJuAvcC5AIhA2MD6AMKBAEEAQQzBFQE",
          "dtype": "i2"
         },
         "yaxis": "y2"
        },
        {
         "line": {
          "color": "#FFA15A"
         },
         "mode": "lines+markers",
         "name": "cs.ma",
         "type": "scatter",
         "x": {
          "bdata": "zgfPB9AH0QfSB9MH1AfVB9YH1wfYB9kH2gfbB9wH3QfeB98H4AfhB+IH4wfkB+UH5gfnB+gH",
          "dtype": "i2"
         },
         "xaxis": "x",
         "y": {
          "bdata": "BgAJAAUABwAUAA8AFQAeACoAIwBHAFQAXgBtAIcAjgDUAKcA6wBDAc8B2gKjA78DDgSwBF4F",
          "dtype": "i2"
         },
         "yaxis": "y"
        },
        {
         "line": {
          "color": "#FFA15A"
         },
         "mode": "lines+markers",
         "name": "cs.ma",
         "showlegend": false,
         "type": "scatter",
         "x": {
          "bdata": "zgfPB9AH0QfSB9MH1AfVB9YH1wfYB9kH2gfbB9wH3QfeB98H4AfhB+IH4wfkB+UH5gfnB+gH",
          "dtype": "i2"
         },
         "xaxis": "x2",
         "y": {
          "bdata": "BgAJAAUABwAUAA8AFQAeACoAIwBHAFQAXgBtAIcAjgDUAKcA6wBDAc8B2gKjA78DDgSwBF4F",
          "dtype": "i2"
         },
         "yaxis": "y2"
        },
        {
         "line": {
          "color": "#19D3F3"
         },
         "mode": "lines+markers",
         "name": "cs.sd",
         "type": "scatter",
         "x": {
          "bdata": "0AfRB9IH0wfUB9YH1wfYB9kH2gfbB9wH3QfeB98H4AfhB+IH4wfkB+UH5gfnB+gH",
          "dtype": "i2"
         },
         "xaxis": "x",
         "y": {
          "bdata": "BwADAAUAAwABAAQABgAHABMAGgAeACEAPABKAIQALQG+AUYD5ARpB6IIeQrCChcM",
          "dtype": "i2"
         },
         "yaxis": "y"
        },
        {
         "line": {
          "color": "#19D3F3"
         },
         "mode": "lines+markers",
         "name": "cs.sd",
         "showlegend": false,
         "type": "scatter",
         "x": {
          "bdata": "0AfRB9IH0wfUB9YH1wfYB9kH2gfbB9wH3QfeB98H4AfhB+IH4wfkB+UH5gfnB+gH",
          "dtype": "i2"
         },
         "xaxis": "x2",
         "y": {
          "bdata": "BwADAAUAAwABAAQABgAHABMAGgAeACEAPABKAIQALQG+AUYD5ARpB6IIeQrCChcM",
          "dtype": "i2"
         },
         "yaxis": "y2"
        },
        {
         "line": {
          "color": "#FF6692"
         },
         "mode": "lines+markers",
         "name": "math.qa",
         "type": "scatter",
         "x": {
          "bdata": "ygfLB8wHzQfOB88H0AfRB9IH0wfUB9UH1gfXB9gH2QfaB9sH3AfdB94H3wfgB+EH4gfjB+QH5QfmB+cH6Ac=",
          "dtype": "i2"
         },
         "xaxis": "x",
         "y": {
          "bdata": "EgGpAQgCSQIJAvEBEwIiAjsCOwIiAi8CQgJDAjACWgJyAmECdgKOApkCqwLdArwC1gLyAvkCyAL6AlYDeAM=",
          "dtype": "i2"
         },
         "yaxis": "y"
        },
        {
         "line": {
          "color": "#FF6692"
         },
         "mode": "lines+markers",
         "name": "math.qa",
         "showlegend": false,
         "type": "scatter",
         "x": {
          "bdata": "ygfLB8wHzQfOB88H0AfRB9IH0wfUB9UH1gfXB9gH2QfaB9sH3AfdB94H3wfgB+EH4gfjB+QH5QfmB+cH6Ac=",
          "dtype": "i2"
         },
         "xaxis": "x2",
         "y": {
          "bdata": "EgGpAQgCSQIJAvEBEwIiAjsCOwIiAi8CQgJDAjACWgJyAmECdgKOApkCqwLdArwC1gLyAvkCyAL6AlYDeAM=",
          "dtype": "i2"
         },
         "yaxis": "y2"
        },
        {
         "line": {
          "color": "#B6E880"
         },
         "mode": "lines+markers",
         "name": "q-fin.st",
         "type": "scatter",
         "x": {
          "bdata": "zQfOB88H0AfRB9IH0wfUB9UH1gfXB9gH2QfaB9sH3AfdB94H3wfgB+EH4gfjB+QH5QfmB+cH6Ac=",
          "dtype": "i2"
         },
         "xaxis": "x",
         "y": {
          "bdata": "DAALABoAIwAuACgAOgBCAF0AegB1AG0AbAB/AIUAgwCSAJgAjwCVAIcAowDvAB4BBAHvACcBPwE=",
          "dtype": "i2"
         },
         "yaxis": "y"
        },
        {
         "line": {
          "color": "#B6E880"
         },
         "mode": "lines+markers",
         "name": "q-fin.st",
         "showlegend": false,
         "type": "scatter",
         "x": {
          "bdata": "zQfOB88H0AfRB9IH0wfUB9UH1gfXB9gH2QfaB9sH3AfdB94H3wfgB+EH4gfjB+QH5QfmB+cH6Ac=",
          "dtype": "i2"
         },
         "xaxis": "x2",
         "y": {
          "bdata": "DAALABoAIwAuACgAOgBCAF0AegB1AG0AbAB/AIUAgwCSAJgAjwCVAIcAowDvAB4BBAHvACcBPwE=",
          "dtype": "i2"
         },
         "yaxis": "y2"
        },
        {
         "line": {
          "color": "#FF97FF"
         },
         "mode": "lines+markers",
         "name": "q-fin.mf",
         "type": "scatter",
         "x": {
          "bdata": "3gffB+AH4QfiB+MH5AflB+YH5wfoBw==",
          "dtype": "i2"
         },
         "xaxis": "x",
         "y": {
          "bdata": "gADGAOMAyADuACABLwEVAQABFAE5AQ==",
          "dtype": "i2"
         },
         "yaxis": "y"
        },
        {
         "line": {
          "color": "#FF97FF"
         },
         "mode": "lines+markers",
         "name": "q-fin.mf",
         "showlegend": false,
         "type": "scatter",
         "x": {
          "bdata": "3gffB+AH4QfiB+MH5AflB+YH5wfoBw==",
          "dtype": "i2"
         },
         "xaxis": "x2",
         "y": {
          "bdata": "gADGAOMAyADuACABLwEVAQABFAE5AQ==",
          "dtype": "i2"
         },
         "yaxis": "y2"
        },
        {
         "line": {
          "color": "#FECB52"
         },
         "mode": "lines+markers",
         "name": "q-fin.cp",
         "type": "scatter",
         "x": {
          "bdata": "zgfPB9AH0QfSB9MH1AfVB9YH1wfYB9kH2gfbB9wH3QfeB98H4AfhB+IH4wfkB+UH5gfnB+gH",
          "dtype": "i2"
         },
         "xaxis": "x",
         "y": {
          "bdata": "AwADAAIAAwACAAUABAAMABAAFgAoAGgAdgBlAGMAVwBQAGgAXAB0AIoAmgDKAOYAAQEPAWsB",
          "dtype": "i2"
         },
         "yaxis": "y"
        },
        {
         "line": {
          "color": "#FECB52"
         },
         "mode": "lines+markers",
         "name": "q-fin.cp",
         "showlegend": false,
         "type": "scatter",
         "x": {
          "bdata": "zgfPB9AH0QfSB9MH1AfVB9YH1wfYB9kH2gfbB9wH3QfeB98H4AfhB+IH4wfkB+UH5gfnB+gH",
          "dtype": "i2"
         },
         "xaxis": "x2",
         "y": {
          "bdata": "AwADAAIAAwACAAUABAAMABAAFgAoAGgAdgBlAGMAVwBQAGgAXAB0AIoAmgDKAOYAAQEPAWsB",
          "dtype": "i2"
         },
         "yaxis": "y2"
        },
        {
         "line": {
          "color": "#636EFA"
         },
         "mode": "lines+markers",
         "name": "stat.th",
         "type": "scatter",
         "x": {
          "bdata": "ygfNB84HzwfQB9EH0gfTB9QH1QfWB9cH2AfZB9oH2wfcB90H3gffB+AH4QfiB+MH5AflB+YH5wfoBw==",
          "dtype": "i2"
         },
         "xaxis": "x",
         "y": {
          "bdata": "AQABAAEAAgAJABEAGAAlAJ8ALwH7AUMCmwJ1ApUCUgPLA/4DTgSpBLYE9QQoBbcGigd1B54HlgdQCA==",
          "dtype": "i2"
         },
         "yaxis": "y"
        },
        {
         "line": {
          "color": "#636EFA"
         },
         "mode": "lines+markers",
         "name": "stat.th",
         "showlegend": false,
         "type": "scatter",
         "x": {
          "bdata": "ygfNB84HzwfQB9EH0gfTB9QH1QfWB9cH2AfZB9oH2wfcB90H3gffB+AH4QfiB+MH5AflB+YH5wfoBw==",
          "dtype": "i2"
         },
         "xaxis": "x2",
         "y": {
          "bdata": "AQABAAEAAgAJABEAGAAlAJ8ALwH7AUMCmwJ1ApUCUgPLA/4DTgSpBLYE9QQoBbcGigd1B54HlgdQCA==",
          "dtype": "i2"
         },
         "yaxis": "y2"
        }
       ],
       "layout": {
        "annotations": [
         {
          "font": {
           "size": 16
          },
          "showarrow": false,
          "text": "Linear-Scale",
          "x": 0.225,
          "xanchor": "center",
          "xref": "paper",
          "y": 1,
          "yanchor": "bottom",
          "yref": "paper"
         },
         {
          "font": {
           "size": 16
          },
          "showarrow": false,
          "text": "Log-Scale",
          "x": 0.775,
          "xanchor": "center",
          "xref": "paper",
          "y": 1,
          "yanchor": "bottom",
          "yref": "paper"
         }
        ],
        "height": 550,
        "legend": {
         "title": {
          "text": "Categories"
         }
        },
        "template": {
         "data": {
          "bar": [
           {
            "error_x": {
             "color": "#2a3f5f"
            },
            "error_y": {
             "color": "#2a3f5f"
            },
            "marker": {
             "line": {
              "color": "white",
              "width": 0.5
             },
             "pattern": {
              "fillmode": "overlay",
              "size": 10,
              "solidity": 0.2
             }
            },
            "type": "bar"
           }
          ],
          "barpolar": [
           {
            "marker": {
             "line": {
              "color": "white",
              "width": 0.5
             },
             "pattern": {
              "fillmode": "overlay",
              "size": 10,
              "solidity": 0.2
             }
            },
            "type": "barpolar"
           }
          ],
          "carpet": [
           {
            "aaxis": {
             "endlinecolor": "#2a3f5f",
             "gridcolor": "#C8D4E3",
             "linecolor": "#C8D4E3",
             "minorgridcolor": "#C8D4E3",
             "startlinecolor": "#2a3f5f"
            },
            "baxis": {
             "endlinecolor": "#2a3f5f",
             "gridcolor": "#C8D4E3",
             "linecolor": "#C8D4E3",
             "minorgridcolor": "#C8D4E3",
             "startlinecolor": "#2a3f5f"
            },
            "type": "carpet"
           }
          ],
          "choropleth": [
           {
            "colorbar": {
             "outlinewidth": 0,
             "ticks": ""
            },
            "type": "choropleth"
           }
          ],
          "contour": [
           {
            "colorbar": {
             "outlinewidth": 0,
             "ticks": ""
            },
            "colorscale": [
             [
              0,
              "#0d0887"
             ],
             [
              0.1111111111111111,
              "#46039f"
             ],
             [
              0.2222222222222222,
              "#7201a8"
             ],
             [
              0.3333333333333333,
              "#9c179e"
             ],
             [
              0.4444444444444444,
              "#bd3786"
             ],
             [
              0.5555555555555556,
              "#d8576b"
             ],
             [
              0.6666666666666666,
              "#ed7953"
             ],
             [
              0.7777777777777778,
              "#fb9f3a"
             ],
             [
              0.8888888888888888,
              "#fdca26"
             ],
             [
              1,
              "#f0f921"
             ]
            ],
            "type": "contour"
           }
          ],
          "contourcarpet": [
           {
            "colorbar": {
             "outlinewidth": 0,
             "ticks": ""
            },
            "type": "contourcarpet"
           }
          ],
          "heatmap": [
           {
            "colorbar": {
             "outlinewidth": 0,
             "ticks": ""
            },
            "colorscale": [
             [
              0,
              "#0d0887"
             ],
             [
              0.1111111111111111,
              "#46039f"
             ],
             [
              0.2222222222222222,
              "#7201a8"
             ],
             [
              0.3333333333333333,
              "#9c179e"
             ],
             [
              0.4444444444444444,
              "#bd3786"
             ],
             [
              0.5555555555555556,
              "#d8576b"
             ],
             [
              0.6666666666666666,
              "#ed7953"
             ],
             [
              0.7777777777777778,
              "#fb9f3a"
             ],
             [
              0.8888888888888888,
              "#fdca26"
             ],
             [
              1,
              "#f0f921"
             ]
            ],
            "type": "heatmap"
           }
          ],
          "histogram": [
           {
            "marker": {
             "pattern": {
              "fillmode": "overlay",
              "size": 10,
              "solidity": 0.2
             }
            },
            "type": "histogram"
           }
          ],
          "histogram2d": [
           {
            "colorbar": {
             "outlinewidth": 0,
             "ticks": ""
            },
            "colorscale": [
             [
              0,
              "#0d0887"
             ],
             [
              0.1111111111111111,
              "#46039f"
             ],
             [
              0.2222222222222222,
              "#7201a8"
             ],
             [
              0.3333333333333333,
              "#9c179e"
             ],
             [
              0.4444444444444444,
              "#bd3786"
             ],
             [
              0.5555555555555556,
              "#d8576b"
             ],
             [
              0.6666666666666666,
              "#ed7953"
             ],
             [
              0.7777777777777778,
              "#fb9f3a"
             ],
             [
              0.8888888888888888,
              "#fdca26"
             ],
             [
              1,
              "#f0f921"
             ]
            ],
            "type": "histogram2d"
           }
          ],
          "histogram2dcontour": [
           {
            "colorbar": {
             "outlinewidth": 0,
             "ticks": ""
            },
            "colorscale": [
             [
              0,
              "#0d0887"
             ],
             [
              0.1111111111111111,
              "#46039f"
             ],
             [
              0.2222222222222222,
              "#7201a8"
             ],
             [
              0.3333333333333333,
              "#9c179e"
             ],
             [
              0.4444444444444444,
              "#bd3786"
             ],
             [
              0.5555555555555556,
              "#d8576b"
             ],
             [
              0.6666666666666666,
              "#ed7953"
             ],
             [
              0.7777777777777778,
              "#fb9f3a"
             ],
             [
              0.8888888888888888,
              "#fdca26"
             ],
             [
              1,
              "#f0f921"
             ]
            ],
            "type": "histogram2dcontour"
           }
          ],
          "mesh3d": [
           {
            "colorbar": {
             "outlinewidth": 0,
             "ticks": ""
            },
            "type": "mesh3d"
           }
          ],
          "parcoords": [
           {
            "line": {
             "colorbar": {
              "outlinewidth": 0,
              "ticks": ""
             }
            },
            "type": "parcoords"
           }
          ],
          "pie": [
           {
            "automargin": true,
            "type": "pie"
           }
          ],
          "scatter": [
           {
            "fillpattern": {
             "fillmode": "overlay",
             "size": 10,
             "solidity": 0.2
            },
            "type": "scatter"
           }
          ],
          "scatter3d": [
           {
            "line": {
             "colorbar": {
              "outlinewidth": 0,
              "ticks": ""
             }
            },
            "marker": {
             "colorbar": {
              "outlinewidth": 0,
              "ticks": ""
             }
            },
            "type": "scatter3d"
           }
          ],
          "scattercarpet": [
           {
            "marker": {
             "colorbar": {
              "outlinewidth": 0,
              "ticks": ""
             }
            },
            "type": "scattercarpet"
           }
          ],
          "scattergeo": [
           {
            "marker": {
             "colorbar": {
              "outlinewidth": 0,
              "ticks": ""
             }
            },
            "type": "scattergeo"
           }
          ],
          "scattergl": [
           {
            "marker": {
             "colorbar": {
              "outlinewidth": 0,
              "ticks": ""
             }
            },
            "type": "scattergl"
           }
          ],
          "scattermap": [
           {
            "marker": {
             "colorbar": {
              "outlinewidth": 0,
              "ticks": ""
             }
            },
            "type": "scattermap"
           }
          ],
          "scattermapbox": [
           {
            "marker": {
             "colorbar": {
              "outlinewidth": 0,
              "ticks": ""
             }
            },
            "type": "scattermapbox"
           }
          ],
          "scatterpolar": [
           {
            "marker": {
             "colorbar": {
              "outlinewidth": 0,
              "ticks": ""
             }
            },
            "type": "scatterpolar"
           }
          ],
          "scatterpolargl": [
           {
            "marker": {
             "colorbar": {
              "outlinewidth": 0,
              "ticks": ""
             }
            },
            "type": "scatterpolargl"
           }
          ],
          "scatterternary": [
           {
            "marker": {
             "colorbar": {
              "outlinewidth": 0,
              "ticks": ""
             }
            },
            "type": "scatterternary"
           }
          ],
          "surface": [
           {
            "colorbar": {
             "outlinewidth": 0,
             "ticks": ""
            },
            "colorscale": [
             [
              0,
              "#0d0887"
             ],
             [
              0.1111111111111111,
              "#46039f"
             ],
             [
              0.2222222222222222,
              "#7201a8"
             ],
             [
              0.3333333333333333,
              "#9c179e"
             ],
             [
              0.4444444444444444,
              "#bd3786"
             ],
             [
              0.5555555555555556,
              "#d8576b"
             ],
             [
              0.6666666666666666,
              "#ed7953"
             ],
             [
              0.7777777777777778,
              "#fb9f3a"
             ],
             [
              0.8888888888888888,
              "#fdca26"
             ],
             [
              1,
              "#f0f921"
             ]
            ],
            "type": "surface"
           }
          ],
          "table": [
           {
            "cells": {
             "fill": {
              "color": "#EBF0F8"
             },
             "line": {
              "color": "white"
             }
            },
            "header": {
             "fill": {
              "color": "#C8D4E3"
             },
             "line": {
              "color": "white"
             }
            },
            "type": "table"
           }
          ]
         },
         "layout": {
          "annotationdefaults": {
           "arrowcolor": "#2a3f5f",
           "arrowhead": 0,
           "arrowwidth": 1
          },
          "autotypenumbers": "strict",
          "coloraxis": {
           "colorbar": {
            "outlinewidth": 0,
            "ticks": ""
           }
          },
          "colorscale": {
           "diverging": [
            [
             0,
             "#8e0152"
            ],
            [
             0.1,
             "#c51b7d"
            ],
            [
             0.2,
             "#de77ae"
            ],
            [
             0.3,
             "#f1b6da"
            ],
            [
             0.4,
             "#fde0ef"
            ],
            [
             0.5,
             "#f7f7f7"
            ],
            [
             0.6,
             "#e6f5d0"
            ],
            [
             0.7,
             "#b8e186"
            ],
            [
             0.8,
             "#7fbc41"
            ],
            [
             0.9,
             "#4d9221"
            ],
            [
             1,
             "#276419"
            ]
           ],
           "sequential": [
            [
             0,
             "#0d0887"
            ],
            [
             0.1111111111111111,
             "#46039f"
            ],
            [
             0.2222222222222222,
             "#7201a8"
            ],
            [
             0.3333333333333333,
             "#9c179e"
            ],
            [
             0.4444444444444444,
             "#bd3786"
            ],
            [
             0.5555555555555556,
             "#d8576b"
            ],
            [
             0.6666666666666666,
             "#ed7953"
            ],
            [
             0.7777777777777778,
             "#fb9f3a"
            ],
            [
             0.8888888888888888,
             "#fdca26"
            ],
            [
             1,
             "#f0f921"
            ]
           ],
           "sequentialminus": [
            [
             0,
             "#0d0887"
            ],
            [
             0.1111111111111111,
             "#46039f"
            ],
            [
             0.2222222222222222,
             "#7201a8"
            ],
            [
             0.3333333333333333,
             "#9c179e"
            ],
            [
             0.4444444444444444,
             "#bd3786"
            ],
            [
             0.5555555555555556,
             "#d8576b"
            ],
            [
             0.6666666666666666,
             "#ed7953"
            ],
            [
             0.7777777777777778,
             "#fb9f3a"
            ],
            [
             0.8888888888888888,
             "#fdca26"
            ],
            [
             1,
             "#f0f921"
            ]
           ]
          },
          "colorway": [
           "#636efa",
           "#EF553B",
           "#00cc96",
           "#ab63fa",
           "#FFA15A",
           "#19d3f3",
           "#FF6692",
           "#B6E880",
           "#FF97FF",
           "#FECB52"
          ],
          "font": {
           "color": "#2a3f5f"
          },
          "geo": {
           "bgcolor": "white",
           "lakecolor": "white",
           "landcolor": "white",
           "showlakes": true,
           "showland": true,
           "subunitcolor": "#C8D4E3"
          },
          "hoverlabel": {
           "align": "left"
          },
          "hovermode": "closest",
          "mapbox": {
           "style": "light"
          },
          "paper_bgcolor": "white",
          "plot_bgcolor": "white",
          "polar": {
           "angularaxis": {
            "gridcolor": "#EBF0F8",
            "linecolor": "#EBF0F8",
            "ticks": ""
           },
           "bgcolor": "white",
           "radialaxis": {
            "gridcolor": "#EBF0F8",
            "linecolor": "#EBF0F8",
            "ticks": ""
           }
          },
          "scene": {
           "xaxis": {
            "backgroundcolor": "white",
            "gridcolor": "#DFE8F3",
            "gridwidth": 2,
            "linecolor": "#EBF0F8",
            "showbackground": true,
            "ticks": "",
            "zerolinecolor": "#EBF0F8"
           },
           "yaxis": {
            "backgroundcolor": "white",
            "gridcolor": "#DFE8F3",
            "gridwidth": 2,
            "linecolor": "#EBF0F8",
            "showbackground": true,
            "ticks": "",
            "zerolinecolor": "#EBF0F8"
           },
           "zaxis": {
            "backgroundcolor": "white",
            "gridcolor": "#DFE8F3",
            "gridwidth": 2,
            "linecolor": "#EBF0F8",
            "showbackground": true,
            "ticks": "",
            "zerolinecolor": "#EBF0F8"
           }
          },
          "shapedefaults": {
           "line": {
            "color": "#2a3f5f"
           }
          },
          "ternary": {
           "aaxis": {
            "gridcolor": "#DFE8F3",
            "linecolor": "#A2B1C6",
            "ticks": ""
           },
           "baxis": {
            "gridcolor": "#DFE8F3",
            "linecolor": "#A2B1C6",
            "ticks": ""
           },
           "bgcolor": "white",
           "caxis": {
            "gridcolor": "#DFE8F3",
            "linecolor": "#A2B1C6",
            "ticks": ""
           }
          },
          "title": {
           "x": 0.05
          },
          "xaxis": {
           "automargin": true,
           "gridcolor": "#EBF0F8",
           "linecolor": "#EBF0F8",
           "ticks": "",
           "title": {
            "standoff": 15
           },
           "zerolinecolor": "#EBF0F8",
           "zerolinewidth": 2
          },
          "yaxis": {
           "automargin": true,
           "gridcolor": "#EBF0F8",
           "linecolor": "#EBF0F8",
           "ticks": "",
           "title": {
            "standoff": 15
           },
           "zerolinecolor": "#EBF0F8",
           "zerolinewidth": 2
          }
         }
        },
        "title": {
         "font": {
          "size": 25
         },
         "text": "Number of all Publications per Year by Category",
         "x": 0.5
        },
        "xaxis": {
         "anchor": "y",
         "domain": [
          0,
          0.45
         ],
         "title": {
          "text": "Year of Publication"
         }
        },
        "xaxis2": {
         "anchor": "y2",
         "domain": [
          0.55,
          1
         ],
         "title": {
          "text": "Year of Publication"
         }
        },
        "yaxis": {
         "anchor": "x",
         "domain": [
          0,
          1
         ],
         "title": {
          "text": "# of Publications per Year"
         }
        },
        "yaxis2": {
         "anchor": "x2",
         "domain": [
          0,
          1
         ],
         "title": {
          "text": "# of Publications per Year"
         },
         "type": "log"
        }
       }
      }
     },
     "metadata": {},
     "output_type": "display_data"
    },
    {
     "data": {
      "application/vnd.plotly.v1+json": {
       "config": {
        "plotlyServerURL": "https://plot.ly"
       },
       "data": [
        {
         "colorbar": {
          "title": {
           "text": "Count"
          }
         },
         "colorscale": [
          [
           0,
           "rgb(5,48,97)"
          ],
          [
           0.1,
           "rgb(33,102,172)"
          ],
          [
           0.2,
           "rgb(67,147,195)"
          ],
          [
           0.3,
           "rgb(146,197,222)"
          ],
          [
           0.4,
           "rgb(209,229,240)"
          ],
          [
           0.5,
           "rgb(247,247,247)"
          ],
          [
           0.6,
           "rgb(253,219,199)"
          ],
          [
           0.7,
           "rgb(244,165,130)"
          ],
          [
           0.8,
           "rgb(214,96,77)"
          ],
          [
           0.9,
           "rgb(178,24,43)"
          ],
          [
           1,
           "rgb(103,0,31)"
          ]
         ],
         "text": {
          "bdata": "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",
          "dtype": "i4",
          "shape": "21, 31"
         },
         "texttemplate": "%{text}",
         "type": "heatmap",
         "x": {
          "bdata": "ygfLB8wHzQfOB88H0AfRB9IH0wfUB9UH1gfXB9gH2QfaB9sH3AfdB94H3wfgB+EH4gfjB+QH5QfmB+cH6Ac=",
          "dtype": "i2"
         },
         "y": [
          "stat.th",
          "stat.ml",
          "q-fin.st",
          "q-fin.mf",
          "q-fin.cp",
          "math.st",
          "math.qa",
          "math.pr",
          "math.oc",
          "math.ds",
          "cs.sd",
          "cs.ro",
          "cs.ne",
          "cs.ma",
          "cs.lg",
          "cs.hc",
          "cs.dm",
          "cs.cv",
          "cs.cl",
          "cs.cc",
          "cs.ai"
         ],
         "z": {
          "bdata": "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",
          "dtype": "f8",
          "shape": "21, 31"
         }
        }
       ],
       "layout": {
        "height": 800,
        "template": {
         "data": {
          "bar": [
           {
            "error_x": {
             "color": "#2a3f5f"
            },
            "error_y": {
             "color": "#2a3f5f"
            },
            "marker": {
             "line": {
              "color": "white",
              "width": 0.5
             },
             "pattern": {
              "fillmode": "overlay",
              "size": 10,
              "solidity": 0.2
             }
            },
            "type": "bar"
           }
          ],
          "barpolar": [
           {
            "marker": {
             "line": {
              "color": "white",
              "width": 0.5
             },
             "pattern": {
              "fillmode": "overlay",
              "size": 10,
              "solidity": 0.2
             }
            },
            "type": "barpolar"
           }
          ],
          "carpet": [
           {
            "aaxis": {
             "endlinecolor": "#2a3f5f",
             "gridcolor": "#C8D4E3",
             "linecolor": "#C8D4E3",
             "minorgridcolor": "#C8D4E3",
             "startlinecolor": "#2a3f5f"
            },
            "baxis": {
             "endlinecolor": "#2a3f5f",
             "gridcolor": "#C8D4E3",
             "linecolor": "#C8D4E3",
             "minorgridcolor": "#C8D4E3",
             "startlinecolor": "#2a3f5f"
            },
            "type": "carpet"
           }
          ],
          "choropleth": [
           {
            "colorbar": {
             "outlinewidth": 0,
             "ticks": ""
            },
            "type": "choropleth"
           }
          ],
          "contour": [
           {
            "colorbar": {
             "outlinewidth": 0,
             "ticks": ""
            },
            "colorscale": [
             [
              0,
              "#0d0887"
             ],
             [
              0.1111111111111111,
              "#46039f"
             ],
             [
              0.2222222222222222,
              "#7201a8"
             ],
             [
              0.3333333333333333,
              "#9c179e"
             ],
             [
              0.4444444444444444,
              "#bd3786"
             ],
             [
              0.5555555555555556,
              "#d8576b"
             ],
             [
              0.6666666666666666,
              "#ed7953"
             ],
             [
              0.7777777777777778,
              "#fb9f3a"
             ],
             [
              0.8888888888888888,
              "#fdca26"
             ],
             [
              1,
              "#f0f921"
             ]
            ],
            "type": "contour"
           }
          ],
          "contourcarpet": [
           {
            "colorbar": {
             "outlinewidth": 0,
             "ticks": ""
            },
            "type": "contourcarpet"
           }
          ],
          "heatmap": [
           {
            "colorbar": {
             "outlinewidth": 0,
             "ticks": ""
            },
            "colorscale": [
             [
              0,
              "#0d0887"
             ],
             [
              0.1111111111111111,
              "#46039f"
             ],
             [
              0.2222222222222222,
              "#7201a8"
             ],
             [
              0.3333333333333333,
              "#9c179e"
             ],
             [
              0.4444444444444444,
              "#bd3786"
             ],
             [
              0.5555555555555556,
              "#d8576b"
             ],
             [
              0.6666666666666666,
              "#ed7953"
             ],
             [
              0.7777777777777778,
              "#fb9f3a"
             ],
             [
              0.8888888888888888,
              "#fdca26"
             ],
             [
              1,
              "#f0f921"
             ]
            ],
            "type": "heatmap"
           }
          ],
          "histogram": [
           {
            "marker": {
             "pattern": {
              "fillmode": "overlay",
              "size": 10,
              "solidity": 0.2
             }
            },
            "type": "histogram"
           }
          ],
          "histogram2d": [
           {
            "colorbar": {
             "outlinewidth": 0,
             "ticks": ""
            },
            "colorscale": [
             [
              0,
              "#0d0887"
             ],
             [
              0.1111111111111111,
              "#46039f"
             ],
             [
              0.2222222222222222,
              "#7201a8"
             ],
             [
              0.3333333333333333,
              "#9c179e"
             ],
             [
              0.4444444444444444,
              "#bd3786"
             ],
             [
              0.5555555555555556,
              "#d8576b"
             ],
             [
              0.6666666666666666,
              "#ed7953"
             ],
             [
              0.7777777777777778,
              "#fb9f3a"
             ],
             [
              0.8888888888888888,
              "#fdca26"
             ],
             [
              1,
              "#f0f921"
             ]
            ],
            "type": "histogram2d"
           }
          ],
          "histogram2dcontour": [
           {
            "colorbar": {
             "outlinewidth": 0,
             "ticks": ""
            },
            "colorscale": [
             [
              0,
              "#0d0887"
             ],
             [
              0.1111111111111111,
              "#46039f"
             ],
             [
              0.2222222222222222,
              "#7201a8"
             ],
             [
              0.3333333333333333,
              "#9c179e"
             ],
             [
              0.4444444444444444,
              "#bd3786"
             ],
             [
              0.5555555555555556,
              "#d8576b"
             ],
             [
              0.6666666666666666,
              "#ed7953"
             ],
             [
              0.7777777777777778,
              "#fb9f3a"
             ],
             [
              0.8888888888888888,
              "#fdca26"
             ],
             [
              1,
              "#f0f921"
             ]
            ],
            "type": "histogram2dcontour"
           }
          ],
          "mesh3d": [
           {
            "colorbar": {
             "outlinewidth": 0,
             "ticks": ""
            },
            "type": "mesh3d"
           }
          ],
          "parcoords": [
           {
            "line": {
             "colorbar": {
              "outlinewidth": 0,
              "ticks": ""
             }
            },
            "type": "parcoords"
           }
          ],
          "pie": [
           {
            "automargin": true,
            "type": "pie"
           }
          ],
          "scatter": [
           {
            "fillpattern": {
             "fillmode": "overlay",
             "size": 10,
             "solidity": 0.2
            },
            "type": "scatter"
           }
          ],
          "scatter3d": [
           {
            "line": {
             "colorbar": {
              "outlinewidth": 0,
              "ticks": ""
             }
            },
            "marker": {
             "colorbar": {
              "outlinewidth": 0,
              "ticks": ""
             }
            },
            "type": "scatter3d"
           }
          ],
          "scattercarpet": [
           {
            "marker": {
             "colorbar": {
              "outlinewidth": 0,
              "ticks": ""
             }
            },
            "type": "scattercarpet"
           }
          ],
          "scattergeo": [
           {
            "marker": {
             "colorbar": {
              "outlinewidth": 0,
              "ticks": ""
             }
            },
            "type": "scattergeo"
           }
          ],
          "scattergl": [
           {
            "marker": {
             "colorbar": {
              "outlinewidth": 0,
              "ticks": ""
             }
            },
            "type": "scattergl"
           }
          ],
          "scattermap": [
           {
            "marker": {
             "colorbar": {
              "outlinewidth": 0,
              "ticks": ""
             }
            },
            "type": "scattermap"
           }
          ],
          "scattermapbox": [
           {
            "marker": {
             "colorbar": {
              "outlinewidth": 0,
              "ticks": ""
             }
            },
            "type": "scattermapbox"
           }
          ],
          "scatterpolar": [
           {
            "marker": {
             "colorbar": {
              "outlinewidth": 0,
              "ticks": ""
             }
            },
            "type": "scatterpolar"
           }
          ],
          "scatterpolargl": [
           {
            "marker": {
             "colorbar": {
              "outlinewidth": 0,
              "ticks": ""
             }
            },
            "type": "scatterpolargl"
           }
          ],
          "scatterternary": [
           {
            "marker": {
             "colorbar": {
              "outlinewidth": 0,
              "ticks": ""
             }
            },
            "type": "scatterternary"
           }
          ],
          "surface": [
           {
            "colorbar": {
             "outlinewidth": 0,
             "ticks": ""
            },
            "colorscale": [
             [
              0,
              "#0d0887"
             ],
             [
              0.1111111111111111,
              "#46039f"
             ],
             [
              0.2222222222222222,
              "#7201a8"
             ],
             [
              0.3333333333333333,
              "#9c179e"
             ],
             [
              0.4444444444444444,
              "#bd3786"
             ],
             [
              0.5555555555555556,
              "#d8576b"
             ],
             [
              0.6666666666666666,
              "#ed7953"
             ],
             [
              0.7777777777777778,
              "#fb9f3a"
             ],
             [
              0.8888888888888888,
              "#fdca26"
             ],
             [
              1,
              "#f0f921"
             ]
            ],
            "type": "surface"
           }
          ],
          "table": [
           {
            "cells": {
             "fill": {
              "color": "#EBF0F8"
             },
             "line": {
              "color": "white"
             }
            },
            "header": {
             "fill": {
              "color": "#C8D4E3"
             },
             "line": {
              "color": "white"
             }
            },
            "type": "table"
           }
          ]
         },
         "layout": {
          "annotationdefaults": {
           "arrowcolor": "#2a3f5f",
           "arrowhead": 0,
           "arrowwidth": 1
          },
          "autotypenumbers": "strict",
          "coloraxis": {
           "colorbar": {
            "outlinewidth": 0,
            "ticks": ""
           }
          },
          "colorscale": {
           "diverging": [
            [
             0,
             "#8e0152"
            ],
            [
             0.1,
             "#c51b7d"
            ],
            [
             0.2,
             "#de77ae"
            ],
            [
             0.3,
             "#f1b6da"
            ],
            [
             0.4,
             "#fde0ef"
            ],
            [
             0.5,
             "#f7f7f7"
            ],
            [
             0.6,
             "#e6f5d0"
            ],
            [
             0.7,
             "#b8e186"
            ],
            [
             0.8,
             "#7fbc41"
            ],
            [
             0.9,
             "#4d9221"
            ],
            [
             1,
             "#276419"
            ]
           ],
           "sequential": [
            [
             0,
             "#0d0887"
            ],
            [
             0.1111111111111111,
             "#46039f"
            ],
            [
             0.2222222222222222,
             "#7201a8"
            ],
            [
             0.3333333333333333,
             "#9c179e"
            ],
            [
             0.4444444444444444,
             "#bd3786"
            ],
            [
             0.5555555555555556,
             "#d8576b"
            ],
            [
             0.6666666666666666,
             "#ed7953"
            ],
            [
             0.7777777777777778,
             "#fb9f3a"
            ],
            [
             0.8888888888888888,
             "#fdca26"
            ],
            [
             1,
             "#f0f921"
            ]
           ],
           "sequentialminus": [
            [
             0,
             "#0d0887"
            ],
            [
             0.1111111111111111,
             "#46039f"
            ],
            [
             0.2222222222222222,
             "#7201a8"
            ],
            [
             0.3333333333333333,
             "#9c179e"
            ],
            [
             0.4444444444444444,
             "#bd3786"
            ],
            [
             0.5555555555555556,
             "#d8576b"
            ],
            [
             0.6666666666666666,
             "#ed7953"
            ],
            [
             0.7777777777777778,
             "#fb9f3a"
            ],
            [
             0.8888888888888888,
             "#fdca26"
            ],
            [
             1,
             "#f0f921"
            ]
           ]
          },
          "colorway": [
           "#636efa",
           "#EF553B",
           "#00cc96",
           "#ab63fa",
           "#FFA15A",
           "#19d3f3",
           "#FF6692",
           "#B6E880",
           "#FF97FF",
           "#FECB52"
          ],
          "font": {
           "color": "#2a3f5f"
          },
          "geo": {
           "bgcolor": "white",
           "lakecolor": "white",
           "landcolor": "white",
           "showlakes": true,
           "showland": true,
           "subunitcolor": "#C8D4E3"
          },
          "hoverlabel": {
           "align": "left"
          },
          "hovermode": "closest",
          "mapbox": {
           "style": "light"
          },
          "paper_bgcolor": "white",
          "plot_bgcolor": "white",
          "polar": {
           "angularaxis": {
            "gridcolor": "#EBF0F8",
            "linecolor": "#EBF0F8",
            "ticks": ""
           },
           "bgcolor": "white",
           "radialaxis": {
            "gridcolor": "#EBF0F8",
            "linecolor": "#EBF0F8",
            "ticks": ""
           }
          },
          "scene": {
           "xaxis": {
            "backgroundcolor": "white",
            "gridcolor": "#DFE8F3",
            "gridwidth": 2,
            "linecolor": "#EBF0F8",
            "showbackground": true,
            "ticks": "",
            "zerolinecolor": "#EBF0F8"
           },
           "yaxis": {
            "backgroundcolor": "white",
            "gridcolor": "#DFE8F3",
            "gridwidth": 2,
            "linecolor": "#EBF0F8",
            "showbackground": true,
            "ticks": "",
            "zerolinecolor": "#EBF0F8"
           },
           "zaxis": {
            "backgroundcolor": "white",
            "gridcolor": "#DFE8F3",
            "gridwidth": 2,
            "linecolor": "#EBF0F8",
            "showbackground": true,
            "ticks": "",
            "zerolinecolor": "#EBF0F8"
           }
          },
          "shapedefaults": {
           "line": {
            "color": "#2a3f5f"
           }
          },
          "ternary": {
           "aaxis": {
            "gridcolor": "#DFE8F3",
            "linecolor": "#A2B1C6",
            "ticks": ""
           },
           "baxis": {
            "gridcolor": "#DFE8F3",
            "linecolor": "#A2B1C6",
            "ticks": ""
           },
           "bgcolor": "white",
           "caxis": {
            "gridcolor": "#DFE8F3",
            "linecolor": "#A2B1C6",
            "ticks": ""
           }
          },
          "title": {
           "x": 0.05
          },
          "xaxis": {
           "automargin": true,
           "gridcolor": "#EBF0F8",
           "linecolor": "#EBF0F8",
           "ticks": "",
           "title": {
            "standoff": 15
           },
           "zerolinecolor": "#EBF0F8",
           "zerolinewidth": 2
          },
          "yaxis": {
           "automargin": true,
           "gridcolor": "#EBF0F8",
           "linecolor": "#EBF0F8",
           "ticks": "",
           "title": {
            "standoff": 15
           },
           "zerolinecolor": "#EBF0F8",
           "zerolinewidth": 2
          }
         }
        },
        "title": {
         "font": {
          "size": 25
         },
         "text": "Number of all Publications per Year by Category",
         "x": 0.5
        },
        "xaxis": {
         "title": {
          "text": "Year of Publication"
         }
        },
        "yaxis": {
         "title": {
          "text": "Category"
         }
        }
       }
      }
     },
     "metadata": {},
     "output_type": "display_data"
    }
   ],
   "source": [
    "visualize_publications_by_category(df_complete, \"all\")"
   ]
  },
  {
   "cell_type": "markdown",
   "metadata": {},
   "source": [
    "**Niggl:**\n",
    "\n",
    "One of the main reasons for this exponential growth, which becomes particularly visible from 2015 onwards, is the widespread access to open-source frameworks such as TensorFlow (launched in 2015) and PyTorch (2016). These frameworks democratized machine learning research, allowing researchers from all backgrounds to prototype and deploy AI models more effectively. Around the same time, companies like Google, Facebook, and Microsoft began deploying machine learning solutions across various industries, addressing applied research problems such as recommender systems, autonomous vehicles, and healthcare diagnostics. In 2017, Google further accelerated this trend with the publication of the Transformer architecture, which revolutionized Natural Language Processing (NLP) by enabling significant breakthroughs, including the development of large-scale language models."
   ]
  },
  {
   "cell_type": "markdown",
   "metadata": {},
   "source": [
    "#### Analysis of the exponential Trend Contribution by Category\n",
    "\n",
    "The overall exponential growth in AI-related publications can be broken down into the handpicked categories that have been combined to create a representative overview of the field of ML and AI. When these categories are visualized individually, it becomes obvious that all categories follow a trend of increasing numbers of publications per year (e.g., Log-Scale). The Linear-Scale makes it evident that the categories Machine Learning (cs.LG), Artificial Intelligence (cs.AI), Computer Vision (cs.CV), Computation and Language (cs.CL), and Robotics (cs.RO), in particular, have been key contributors to the exponential growth in publications.\n",
    "\n",
    "In the following, we explore the factors driving this trend, starting with computer vision. Since 2011, computer vision research has experienced a paradigm shift with the advent of deep Convolutional Neural Networks. These methods dramatically improved image recognition and object detection, laying the foundation for subsequent innovations such as Generative Adversarial Networks in 2014, which further enhanced image synthesis and analysis. Such breakthroughs, augmented by large-scale datasets like ImageNet, not only accelerated academic productivity but also made real-world applications—ranging from automated quality control and surveillance to medical imaging diagnostics—both feasible and transformative.\n",
    "\n",
    "@article{simonyan2014very,\n",
    "  title={Very Deep Convolutional Networks for Large-Scale Image Recognition},\n",
    "  author={Simonyan, Karen and Zisserman, Andrew},\n",
    "  journal={arXiv preprint arXiv:1409.1556},\n",
    "  year={2014}\n",
    "}\n",
    "\n",
    "@article{goodfellow2014generative,\n",
    "  title={Generative Adversarial Nets},\n",
    "  author={Goodfellow, Ian and Pouget-Abadie, Jean and Mirza, Mehdi and Xu, Bing and Warde-Farley, David and Ozair, Sherjil and Courville, Aaron and Bengio, Yoshua},\n",
    "  journal={Advances in Neural Information Processing Systems},\n",
    "  volume={27},\n",
    "  year={2014}\n",
    "}\n",
    "\n",
    "Around 2015, robotics emerged as another key driver of exponential growth in AI publications. The introduction of self-driving car technologies by companies like Tesla and the increased accessibility of sophisticated robotic platforms, exemplified by those from Boston Dynamics, spurred rapid advances in human-robot interaction, warehouse automation, and mobility solutions. These developments have redefined urban transportation and industrial processes, demonstrating how robotics can integrate with computer vision to automate complex tasks.\n",
    "\n",
    "\n",
    "@article{lillicrap2015continuous,\n",
    "  title={Continuous control with deep reinforcement learning},\n",
    "  author={Lillicrap, Timothy P and Hunt, Jonathan J and Pritzel, Alexander and Heess, Nicolas and Erez, Tom and Tassa, Yuval and Silver, David and Wierstra, Daan},\n",
    "  journal={arXiv preprint arXiv:1509.02971},\n",
    "  year={2015}\n",
    "}\n",
    "\n",
    "In parallel, natural language processing underwent a revolution beginning with the launch of open-source platforms such as Hugging Face in 2016. This initiative democratized access to pre-trained language models and simplified fine-tuning for specialized tasks, thereby lowering research barriers and boosting productivity. The subsequent release of advanced chatbot systems like OpenAI’s GPT-2 in 2019 further accelerated progress, simultaneously driving applications in customer support and information retrieval while prompting increased attention to ethical, safety, and fairness concerns. Initiatives like DARPA’s Explainable AI projects, also emerging in 2016, underscored the critical importance of transparency and trust in AI systems, influencing both academic inquiry and consumer product development.\n",
    "\n",
    "@techreport{radford2019language,\n",
    "  title={Language Models are Unsupervised Multitask Learners},\n",
    "  author={Radford, Alec and others},\n",
    "  institution={OpenAI},\n",
    "  year={2019},\n",
    "  url={https://cdn.openai.com/better-language-models/language_models_are_unsupervised_multitask_learners.pdf}\n",
    "}\n",
    "\n",
    "@misc{DARPA_XAI,\n",
    "  title = {Explainable Artificial Intelligence (XAI)},\n",
    "  howpublished = {\\url{https://www.darpa.mil/program/explainable-artificial-intelligence}},\n",
    "  note = {Accessed: February 2025},\n",
    "  year = {2016}\n",
    "}\n",
    "\n",
    "Together, these sequential milestones illustrate how the exponential growth in scientific interest has not only expanded the volume of AI research but has also catalyzed societal transformation. By continuously pushing the frontiers in computer vision, robotics, and natural language processing, researchers have made technologies more accessible and practical, thereby reshaping industries, enhancing safety and efficiency, and laying the groundwork for future innovations that promise further positive societal impact.\n"
   ]
  },
  {
   "cell_type": "code",
   "execution_count": 34,
   "metadata": {
    "ExecuteTime": {
     "end_time": "2024-12-29T15:25:42.844256Z",
     "start_time": "2024-12-29T15:25:41.955044Z"
    }
   },
   "outputs": [
    {
     "data": {
      "application/vnd.plotly.v1+json": {
       "config": {
        "plotlyServerURL": "https://plot.ly"
       },
       "data": [
        {
         "line": {
          "color": "#636EFA"
         },
         "mode": "lines+markers",
         "name": "cs.lg",
         "type": "scatter",
         "x": {
          "bdata": "zQfOB88H0AfRB9IH0wfUB9UH1gfXB9gH2QfaB9sH3AfdB94H3wfgB+EH4gfjB+QH5QfmB+cH6Ac=",
          "dtype": "i2"
         },
         "xaxis": "x",
         "y": {
          "bdata": "AQAHABcAHQAUACkAGgAgADMAPgA+AFEAkQDIABQBxQM1A9ED2wQdBywKoRSjJ+U03zjcPuhIZmk=",
          "dtype": "i2"
         },
         "yaxis": "y"
        },
        {
         "line": {
          "color": "#636EFA"
         },
         "mode": "lines+markers",
         "name": "cs.lg",
         "showlegend": false,
         "type": "scatter",
         "x": {
          "bdata": "zQfOB88H0AfRB9IH0wfUB9UH1gfXB9gH2QfaB9sH3AfdB94H3wfgB+EH4gfjB+QH5QfmB+cH6Ac=",
          "dtype": "i2"
         },
         "xaxis": "x2",
         "y": {
          "bdata": "AQAHABcAHQAUACkAGgAgADMAPgA+AFEAkQDIABQBxQM1A9ED2wQdBywKoRSjJ+U03zjcPuhIZmk=",
          "dtype": "i2"
         },
         "yaxis": "y2"
        },
        {
         "line": {
          "color": "#EF553B"
         },
         "mode": "lines+markers",
         "name": "cs.ai",
         "type": "scatter",
         "x": {
          "bdata": "ygfLB8wHzQfOB88H0AfRB9IH0wfUB9UH1gfXB9gH2QfaB9sH3AfdB94H3wfgB+EH4gfjB+QH5QfmB+cH6Ac=",
          "dtype": "i2"
         },
         "xaxis": "x",
         "y": {
          "bdata": "DgAbABwAFAAcABoAagA4AF0AcACHAIEAeACYAMQAIAF7AYUCwgPRBRADvAKWBD4GvAnNCp0QyRwJIgUyjVY=",
          "dtype": "i2"
         },
         "yaxis": "y"
        },
        {
         "line": {
          "color": "#EF553B"
         },
         "mode": "lines+markers",
         "name": "cs.ai",
         "showlegend": false,
         "type": "scatter",
         "x": {
          "bdata": "ygfLB8wHzQfOB88H0AfRB9IH0wfUB9UH1gfXB9gH2QfaB9sH3AfdB94H3wfgB+EH4gfjB+QH5QfmB+cH6Ac=",
          "dtype": "i2"
         },
         "xaxis": "x2",
         "y": {
          "bdata": "DgAbABwAFAAcABoAagA4AF0AcACHAIEAeACYAMQAIAF7AYUCwgPRBRADvAKWBD4GvAnNCp0QyRwJIgUyjVY=",
          "dtype": "i2"
         },
         "yaxis": "y2"
        },
        {
         "line": {
          "color": "#00CC96"
         },
         "mode": "lines+markers",
         "name": "cs.cc",
         "type": "scatter",
         "x": {
          "bdata": "ygfLB80HzgfPB9AH0QfSB9MH1AfVB9YH1wfYB9kH2gfbB9wH3QfeB98H4AfhB+IH4wfkB+UH5gfnB+gH",
          "dtype": "i2"
         },
         "xaxis": "x",
         "y": {
          "bdata": "CwACAAEAFgAwABsAJwA5ADQALQBHAFQAbwCUANIA5gDMAAYB7gANARwBCQE5AS8BXQF9AW0BjQHEAaUC",
          "dtype": "i2"
         },
         "yaxis": "y"
        },
        {
         "line": {
          "color": "#00CC96"
         },
         "mode": "lines+markers",
         "name": "cs.cc",
         "showlegend": false,
         "type": "scatter",
         "x": {
          "bdata": "ygfLB80HzgfPB9AH0QfSB9MH1AfVB9YH1wfYB9kH2gfbB9wH3QfeB98H4AfhB+IH4wfkB+UH5gfnB+gH",
          "dtype": "i2"
         },
         "xaxis": "x2",
         "y": {
          "bdata": "CwACAAEAFgAwABsAJwA5ADQALQBHAFQAbwCUANIA5gDMAAYB7gANARwBCQE5AS8BXQF9AW0BjQHEAaUC",
          "dtype": "i2"
         },
         "yaxis": "y2"
        },
        {
         "line": {
          "color": "#AB63FA"
         },
         "mode": "lines+markers",
         "name": "math.st",
         "type": "scatter",
         "x": {
          "bdata": "zQfPB9AH0QfSB9MH1AfVB9YH1wfYB9kH2gfbB9wH3QfeB98H4AfhB+IH4wfkB+UH5gfnB+gH",
          "dtype": "i2"
         },
         "xaxis": "x",
         "y": {
          "bdata": "AQACAAYACgAQABYAdQDTAG0BmwGwAYsBdAGOAfABKAIIAjQCLwImAkMC7gIHA14DZwPWA/gF",
          "dtype": "i2"
         },
         "yaxis": "y"
        },
        {
         "line": {
          "color": "#AB63FA"
         },
         "mode": "lines+markers",
         "name": "math.st",
         "showlegend": false,
         "type": "scatter",
         "x": {
          "bdata": "zQfPB9AH0QfSB9MH1AfVB9YH1wfYB9kH2gfbB9wH3QfeB98H4AfhB+IH4wfkB+UH5gfnB+gH",
          "dtype": "i2"
         },
         "xaxis": "x2",
         "y": {
          "bdata": "AQACAAYACgAQABYAdQDTAG0BmwGwAYsBdAGOAfABKAIIAjQCLwImAkMC7gIHA14DZwPWA/gF",
          "dtype": "i2"
         },
         "yaxis": "y2"
        },
        {
         "line": {
          "color": "#FFA15A"
         },
         "mode": "lines+markers",
         "name": "math.oc",
         "type": "scatter",
         "x": {
          "bdata": "ywfNB84HzwfQB9EH0gfTB9QH1QfWB9cH2AfZB9oH2wfcB90H3gffB+AH4QfiB+MH5AflB+YH5wfoBw==",
          "dtype": "i2"
         },
         "xaxis": "x",
         "y": {
          "bdata": "AgACAAQAHgAgAB8ATwA8AEwAWACcANMA8gANAX0BGgLJAnoD0wOJBGwFAgbRBk4IHwoCCrcKQgyeEQ==",
          "dtype": "i2"
         },
         "yaxis": "y"
        },
        {
         "line": {
          "color": "#FFA15A"
         },
         "mode": "lines+markers",
         "name": "math.oc",
         "showlegend": false,
         "type": "scatter",
         "x": {
          "bdata": "ywfNB84HzwfQB9EH0gfTB9QH1QfWB9cH2AfZB9oH2wfcB90H3gffB+AH4QfiB+MH5AflB+YH5wfoBw==",
          "dtype": "i2"
         },
         "xaxis": "x2",
         "y": {
          "bdata": "AgACAAQAHgAgAB8ATwA8AEwAWACcANMA8gANAX0BGgLJAnoD0wOJBGwFAgbRBk4IHwoCCrcKQgyeEQ==",
          "dtype": "i2"
         },
         "yaxis": "y2"
        },
        {
         "line": {
          "color": "#19D3F3"
         },
         "mode": "lines+markers",
         "name": "math.pr",
         "type": "scatter",
         "x": {
          "bdata": "ygfLB8wHzQfOB88H0AfRB9IH0wfUB9UH1gfXB9gH2QfaB9sH3AfdB94H3wfgB+EH4gfjB+QH5QfmB+cH6Ac=",
          "dtype": "i2"
         },
         "xaxis": "x",
         "y": {
          "bdata": "AgADAAUAEABJAE8AgQCCAKgA4ADIAWYC6wJGAwADjQP+AyoEsQQQBTcFlAWyBZIFygURBnsG7QZYB1EInQw=",
          "dtype": "i2"
         },
         "yaxis": "y"
        },
        {
         "line": {
          "color": "#19D3F3"
         },
         "mode": "lines+markers",
         "name": "math.pr",
         "showlegend": false,
         "type": "scatter",
         "x": {
          "bdata": "ygfLB8wHzQfOB88H0AfRB9IH0wfUB9UH1gfXB9gH2QfaB9sH3AfdB94H3wfgB+EH4gfjB+QH5QfmB+cH6Ac=",
          "dtype": "i2"
         },
         "xaxis": "x2",
         "y": {
          "bdata": "AgADAAUAEABJAE8AgQCCAKgA4ADIAWYC6wJGAwADjQP+AyoEsQQQBTcFlAWyBZIFygURBnsG7QZYB1EInQw=",
          "dtype": "i2"
         },
         "yaxis": "y2"
        },
        {
         "line": {
          "color": "#FF6692"
         },
         "mode": "lines+markers",
         "name": "stat.ml",
         "type": "scatter",
         "x": {
          "bdata": "0gfUB9cH2AfZB9oH2wfcB90H3gffB+AH4QfiB+MH5AflB+YH5wfoBw==",
          "dtype": "i2"
         },
         "xaxis": "x",
         "y": {
          "bdata": "AQABABYAPwBiAIgAygAfA3ICxAJwAwsFugclEM4YLRfECLoIAQr2Dg==",
          "dtype": "i2"
         },
         "yaxis": "y"
        },
        {
         "line": {
          "color": "#FF6692"
         },
         "mode": "lines+markers",
         "name": "stat.ml",
         "showlegend": false,
         "type": "scatter",
         "x": {
          "bdata": "0gfUB9cH2AfZB9oH2wfcB90H3gffB+AH4QfiB+MH5AflB+YH5wfoBw==",
          "dtype": "i2"
         },
         "xaxis": "x2",
         "y": {
          "bdata": "AQABABYAPwBiAIgAygAfA3ICxAJwAwsFugclEM4YLRfECLoIAQr2Dg==",
          "dtype": "i2"
         },
         "yaxis": "y2"
        },
        {
         "line": {
          "color": "#B6E880"
         },
         "mode": "lines+markers",
         "name": "cs.cv",
         "type": "scatter",
         "x": {
          "bdata": "zgfPB9AH0QfSB9MH1AfVB9YH1wfYB9kH2gfbB9wH3QfeB98H4AfhB+IH4wfkB+UH5gfnB+gH",
          "dtype": "i2"
         },
         "xaxis": "x",
         "y": {
          "bdata": "AwADAA8AAwAPABQAGgAYABwAMgA/AHIA9AAbAb8BaQJbAyoFPAjDDFkTOhqnIiYn7y2COMZS",
          "dtype": "i2"
         },
         "yaxis": "y"
        },
        {
         "line": {
          "color": "#B6E880"
         },
         "mode": "lines+markers",
         "name": "cs.cv",
         "showlegend": false,
         "type": "scatter",
         "x": {
          "bdata": "zgfPB9AH0QfSB9MH1AfVB9YH1wfYB9kH2gfbB9wH3QfeB98H4AfhB+IH4wfkB+UH5gfnB+gH",
          "dtype": "i2"
         },
         "xaxis": "x2",
         "y": {
          "bdata": "AwADAA8AAwAPABQAGgAYABwAMgA/AHIA9AAbAb8BaQJbAyoFPAjDDFkTOhqnIiYn7y2COMZS",
          "dtype": "i2"
         },
         "yaxis": "y2"
        },
        {
         "line": {
          "color": "#FF97FF"
         },
         "mode": "lines+markers",
         "name": "cs.cl",
         "type": "scatter",
         "x": {
          "bdata": "ygfLB8wHzQfOB88H0AfRB9IH0wfUB9UH1gfXB9gH2QfaB9sH3AfdB94H3wfgB+EH4gfjB+QH5QfmB+cH6Ac=",
          "dtype": "i2"
         },
         "xaxis": "x",
         "y": {
          "bdata": "uwC7ALUAlQBiADUAdwBKAD8ANAAxABYAMQAxADgATABHAF4AtwD0AJAB5gHeA8EFYAn7DD0QVhPxFJ0eUTI=",
          "dtype": "i2"
         },
         "yaxis": "y"
        },
        {
         "line": {
          "color": "#FF97FF"
         },
         "mode": "lines+markers",
         "name": "cs.cl",
         "showlegend": false,
         "type": "scatter",
         "x": {
          "bdata": "ygfLB8wHzQfOB88H0AfRB9IH0wfUB9UH1gfXB9gH2QfaB9sH3AfdB94H3wfgB+EH4gfjB+QH5QfmB+cH6Ac=",
          "dtype": "i2"
         },
         "xaxis": "x2",
         "y": {
          "bdata": "uwC7ALUAlQBiADUAdwBKAD8ANAAxABYAMQAxADgATABHAF4AtwD0AJAB5gHeA8EFYAn7DD0QVhPxFJ0eUTI=",
          "dtype": "i2"
         },
         "yaxis": "y2"
        },
        {
         "line": {
          "color": "#FECB52"
         },
         "mode": "lines+markers",
         "name": "cs.ne",
         "type": "scatter",
         "x": {
          "bdata": "zgfPB9AH0QfSB9MH1AfVB9YH1wfYB9kH2gfbB9wH3QfeB98H4AfhB+IH4wfkB+UH5gfnB+gH",
          "dtype": "i2"
         },
         "xaxis": "x",
         "y": {
          "bdata": "DgAJAAkACgAYACYAKAA3ACYASABUAF8AjAByALMA1QBJAVsByQE8AqoCVgMXBGwDjwPfA0kF",
          "dtype": "i2"
         },
         "yaxis": "y"
        },
        {
         "line": {
          "color": "#FECB52"
         },
         "mode": "lines+markers",
         "name": "cs.ne",
         "showlegend": false,
         "type": "scatter",
         "x": {
          "bdata": "zgfPB9AH0QfSB9MH1AfVB9YH1wfYB9kH2gfbB9wH3QfeB98H4AfhB+IH4wfkB+UH5gfnB+gH",
          "dtype": "i2"
         },
         "xaxis": "x2",
         "y": {
          "bdata": "DgAJAAkACgAYACYAKAA3ACYASABUAF8AjAByALMA1QBJAVsByQE8AqoCVgMXBGwDjwPfA0kF",
          "dtype": "i2"
         },
         "yaxis": "y2"
        },
        {
         "line": {
          "color": "#636EFA"
         },
         "mode": "lines+markers",
         "name": "cs.ro",
         "type": "scatter",
         "x": {
          "bdata": "zgfQB9EH0gfTB9QH1QfWB9cH2AfZB9oH2wfcB90H3gffB+AH4QfiB+MH5AflB+YH5wfoBw==",
          "dtype": "i2"
         },
         "xaxis": "x",
         "y": {
          "bdata": "AgAHAAEABwAEABUADwAgAF0AOAA7ADsAXgB/AJMAxADjAOcB7gJCBJIG9AgqC3oMNRBJGA==",
          "dtype": "i2"
         },
         "yaxis": "y"
        },
        {
         "line": {
          "color": "#636EFA"
         },
         "mode": "lines+markers",
         "name": "cs.ro",
         "showlegend": false,
         "type": "scatter",
         "x": {
          "bdata": "zgfQB9EH0gfTB9QH1QfWB9cH2AfZB9oH2wfcB90H3gffB+AH4QfiB+MH5AflB+YH5wfoBw==",
          "dtype": "i2"
         },
         "xaxis": "x2",
         "y": {
          "bdata": "AgAHAAEABwAEABUADwAgAF0AOAA7ADsAXgB/AJMAxADjAOcB7gJCBJIG9AgqC3oMNRBJGA==",
          "dtype": "i2"
         },
         "yaxis": "y2"
        },
        {
         "line": {
          "color": "#EF553B"
         },
         "mode": "lines+markers",
         "name": "math.ds",
         "type": "scatter",
         "x": {
          "bdata": "ygfLB8wHzQfOB88H0AfRB9IH0wfUB9UH1gfXB9gH2QfaB9sH3AfdB94H3wfgB+EH4gfjB+QH5QfmB+cH6Ac=",
          "dtype": "i2"
         },
         "xaxis": "x",
         "y": {
          "bdata": "GAAeACQAEwA4AH8AfAB8AMAA6gAVASoBdwGqAeABQQJFAvkCXgM4A5ED7QMeBHEEWAT5BIwFpQV/Ba8GCAk=",
          "dtype": "i2"
         },
         "yaxis": "y"
        },
        {
         "line": {
          "color": "#EF553B"
         },
         "mode": "lines+markers",
         "name": "math.ds",
         "showlegend": false,
         "type": "scatter",
         "x": {
          "bdata": "ygfLB8wHzQfOB88H0AfRB9IH0wfUB9UH1gfXB9gH2QfaB9sH3AfdB94H3wfgB+EH4gfjB+QH5QfmB+cH6Ac=",
          "dtype": "i2"
         },
         "xaxis": "x2",
         "y": {
          "bdata": "GAAeACQAEwA4AH8AfAB8AMAA6gAVASoBdwGqAeABQQJFAvkCXgM4A5ED7QMeBHEEWAT5BIwFpQV/Ba8GCAk=",
          "dtype": "i2"
         },
         "yaxis": "y2"
        },
        {
         "line": {
          "color": "#00CC96"
         },
         "mode": "lines+markers",
         "name": "cs.hc",
         "type": "scatter",
         "x": {
          "bdata": "zgfPB9AH0QfSB9MH1AfVB9YH1wfYB9kH2gfbB9wH3QfeB98H4AfhB+IH4wfkB+UH5gfnB+gH",
          "dtype": "i2"
         },
         "xaxis": "x",
         "y": {
          "bdata": "BwAEAAgADAAJAA4AGAAJAB8ARwBnAFUAVwBAAHsArwDmAN8AhAHwAZYC+wM0BRYG+gZPCnIQ",
          "dtype": "i2"
         },
         "yaxis": "y"
        },
        {
         "line": {
          "color": "#00CC96"
         },
         "mode": "lines+markers",
         "name": "cs.hc",
         "showlegend": false,
         "type": "scatter",
         "x": {
          "bdata": "zgfPB9AH0QfSB9MH1AfVB9YH1wfYB9kH2gfbB9wH3QfeB98H4AfhB+IH4wfkB+UH5gfnB+gH",
          "dtype": "i2"
         },
         "xaxis": "x2",
         "y": {
          "bdata": "BwAEAAgADAAJAA4AGAAJAB8ARwBnAFUAVwBAAHsArwDmAN8AhAHwAZYC+wM0BRYG+gZPCnIQ",
          "dtype": "i2"
         },
         "yaxis": "y2"
        },
        {
         "line": {
          "color": "#AB63FA"
         },
         "mode": "lines+markers",
         "name": "cs.dm",
         "type": "scatter",
         "x": {
          "bdata": "zgfPB9AH0QfSB9MH1AfVB9YH1wfYB9kH2gfbB9wH3QfeB98H4AfhB+IH4wfkB+UH5gfnB+gH",
          "dtype": "i2"
         },
         "xaxis": "x",
         "y": {
          "bdata": "AwAIAA4AGgAhAB0AOAA6AFcAlwDAAOkADwE2AcIBagFXAXoBaAGhAbYBCQLwARgC/gE9AjED",
          "dtype": "i2"
         },
         "yaxis": "y"
        },
        {
         "line": {
          "color": "#AB63FA"
         },
         "mode": "lines+markers",
         "name": "cs.dm",
         "showlegend": false,
         "type": "scatter",
         "x": {
          "bdata": "zgfPB9AH0QfSB9MH1AfVB9YH1wfYB9kH2gfbB9wH3QfeB98H4AfhB+IH4wfkB+UH5gfnB+gH",
          "dtype": "i2"
         },
         "xaxis": "x2",
         "y": {
          "bdata": "AwAIAA4AGgAhAB0AOAA6AFcAlwDAAOkADwE2AcIBagFXAXoBaAGhAbYBCQLwARgC/gE9AjED",
          "dtype": "i2"
         },
         "yaxis": "y2"
        },
        {
         "line": {
          "color": "#FFA15A"
         },
         "mode": "lines+markers",
         "name": "cs.ma",
         "type": "scatter",
         "x": {
          "bdata": "zgfPB9AH0QfSB9MH1AfVB9YH1wfYB9kH2gfbB9wH3QfeB98H4AfhB+IH4wfkB+UH5gfnB+gH",
          "dtype": "i2"
         },
         "xaxis": "x",
         "y": {
          "bdata": "BgAJAAIABwATAA4AEQAYAB8AFwAxAEQASwBGAFwAXQCVAGQAnwDNAAABtAENAh0CaQITA9ID",
          "dtype": "i2"
         },
         "yaxis": "y"
        },
        {
         "line": {
          "color": "#FFA15A"
         },
         "mode": "lines+markers",
         "name": "cs.ma",
         "showlegend": false,
         "type": "scatter",
         "x": {
          "bdata": "zgfPB9AH0QfSB9MH1AfVB9YH1wfYB9kH2gfbB9wH3QfeB98H4AfhB+IH4wfkB+UH5gfnB+gH",
          "dtype": "i2"
         },
         "xaxis": "x2",
         "y": {
          "bdata": "BgAJAAIABwATAA4AEQAYAB8AFwAxAEQASwBGAFwAXQCVAGQAnwDNAAABtAENAh0CaQITA9ID",
          "dtype": "i2"
         },
         "yaxis": "y2"
        },
        {
         "line": {
          "color": "#19D3F3"
         },
         "mode": "lines+markers",
         "name": "cs.sd",
         "type": "scatter",
         "x": {
          "bdata": "0AfRB9IH0wfUB9YH1wfYB9kH2gfbB9wH3QfeB98H4AfhB+IH4wfkB+UH5gfnB+gH",
          "dtype": "i2"
         },
         "xaxis": "x",
         "y": {
          "bdata": "BAADAAUAAwABAAQABQAEAA0AFAAbABsALQA4AF4AyAAHAf0B4QJpBEMFVQb+BvsI",
          "dtype": "i2"
         },
         "yaxis": "y"
        },
        {
         "line": {
          "color": "#19D3F3"
         },
         "mode": "lines+markers",
         "name": "cs.sd",
         "showlegend": false,
         "type": "scatter",
         "x": {
          "bdata": "0AfRB9IH0wfUB9YH1wfYB9kH2gfbB9wH3QfeB98H4AfhB+IH4wfkB+UH5gfnB+gH",
          "dtype": "i2"
         },
         "xaxis": "x2",
         "y": {
          "bdata": "BAADAAUAAwABAAQABQAEAA0AFAAbABsALQA4AF4AyAAHAf0B4QJpBEMFVQb+BvsI",
          "dtype": "i2"
         },
         "yaxis": "y2"
        },
        {
         "line": {
          "color": "#FF6692"
         },
         "mode": "lines+markers",
         "name": "math.qa",
         "type": "scatter",
         "x": {
          "bdata": "ygfLB8wHzQfOB88H0AfRB9IH0wfUB9UH1gfXB9gH2QfaB9sH3AfdB94H3wfgB+EH4gfjB+QH5QfmB+cH6Ac=",
          "dtype": "i2"
         },
         "xaxis": "x",
         "y": {
          "bdata": "wgAsAWEBfgFUASoBQQEyASUBJAEDAQMBAAETAeoAAAH0AAIBDAEVARIBEwEhARMBMAEpATYBGAFhAa0BcQI=",
          "dtype": "i2"
         },
         "yaxis": "y"
        },
        {
         "line": {
          "color": "#FF6692"
         },
         "mode": "lines+markers",
         "name": "math.qa",
         "showlegend": false,
         "type": "scatter",
         "x": {
          "bdata": "ygfLB8wHzQfOB88H0AfRB9IH0wfUB9UH1gfXB9gH2QfaB9sH3AfdB94H3wfgB+EH4gfjB+QH5QfmB+cH6Ac=",
          "dtype": "i2"
         },
         "xaxis": "x2",
         "y": {
          "bdata": "wgAsAWEBfgFUASoBQQEyASUBJAEDAQMBAAETAeoAAAH0AAIBDAEVARIBEwEhARMBMAEpATYBGAFhAa0BcQI=",
          "dtype": "i2"
         },
         "yaxis": "y2"
        },
        {
         "line": {
          "color": "#B6E880"
         },
         "mode": "lines+markers",
         "name": "q-fin.st",
         "type": "scatter",
         "x": {
          "bdata": "zQfOB88H0AfRB9IH0wfUB9UH1gfXB9gH2QfaB9sH3AfdB94H3wfgB+EH4gfjB+QH5QfmB+cH6Ac=",
          "dtype": "i2"
         },
         "xaxis": "x",
         "y": {
          "bdata": "BgAJABUAGwAlACEAKAAsAD8ASgBWAE0ARgBHAGMAUwBNAGQAWgBdAFIAXgCOALIAqwCTANQA9QA=",
          "dtype": "i2"
         },
         "yaxis": "y"
        },
        {
         "line": {
          "color": "#B6E880"
         },
         "mode": "lines+markers",
         "name": "q-fin.st",
         "showlegend": false,
         "type": "scatter",
         "x": {
          "bdata": "zQfOB88H0AfRB9IH0wfUB9UH1gfXB9gH2QfaB9sH3AfdB94H3wfgB+EH4gfjB+QH5QfmB+cH6Ac=",
          "dtype": "i2"
         },
         "xaxis": "x2",
         "y": {
          "bdata": "BgAJABUAGwAlACEAKAAsAD8ASgBWAE0ARgBHAGMAUwBNAGQAWgBdAFIAXgCOALIAqwCTANQA9QA=",
          "dtype": "i2"
         },
         "yaxis": "y2"
        },
        {
         "line": {
          "color": "#FF97FF"
         },
         "mode": "lines+markers",
         "name": "q-fin.mf",
         "type": "scatter",
         "x": {
          "bdata": "3gffB+AH4QfiB+MH5AflB+YH5wfoBw==",
          "dtype": "i2"
         },
         "xaxis": "x",
         "y": {
          "bdata": "LwBSAHQAVgBsAH8AegCBAH0AjgDmAA==",
          "dtype": "i2"
         },
         "yaxis": "y"
        },
        {
         "line": {
          "color": "#FF97FF"
         },
         "mode": "lines+markers",
         "name": "q-fin.mf",
         "showlegend": false,
         "type": "scatter",
         "x": {
          "bdata": "3gffB+AH4QfiB+MH5AflB+YH5wfoBw==",
          "dtype": "i2"
         },
         "xaxis": "x2",
         "y": {
          "bdata": "LwBSAHQAVgBsAH8AegCBAH0AjgDmAA==",
          "dtype": "i2"
         },
         "yaxis": "y2"
        },
        {
         "line": {
          "color": "#FECB52"
         },
         "mode": "lines+markers",
         "name": "q-fin.cp",
         "type": "scatter",
         "x": {
          "bdata": "zgfPB9AH0QfSB9MH1AfVB9YH1wfYB9kH2gfbB9wH3QfeB98H4AfhB+IH4wfkB+UH5gfnB+gH",
          "dtype": "i2"
         },
         "xaxis": "x",
         "y": {
          "bdata": "AgACAAEAAwABAAQABAAIAAwADwAYADsASQA0ADcAKwAwADYAOAAzAEoASQBkAJEAlwCpABcB",
          "dtype": "i2"
         },
         "yaxis": "y"
        },
        {
         "line": {
          "color": "#FECB52"
         },
         "mode": "lines+markers",
         "name": "q-fin.cp",
         "showlegend": false,
         "type": "scatter",
         "x": {
          "bdata": "zgfPB9AH0QfSB9MH1AfVB9YH1wfYB9kH2gfbB9wH3QfeB98H4AfhB+IH4wfkB+UH5gfnB+gH",
          "dtype": "i2"
         },
         "xaxis": "x2",
         "y": {
          "bdata": "AgACAAEAAwABAAQABAAIAAwADwAYADsASQA0ADcAKwAwADYAOAAzAEoASQBkAJEAlwCpABcB",
          "dtype": "i2"
         },
         "yaxis": "y2"
        },
        {
         "line": {
          "color": "#636EFA"
         },
         "mode": "lines+markers",
         "name": "stat.th",
         "type": "scatter",
         "x": {
          "bdata": "zQfPB9AH0QfSB9MH1AfVB9YH1wfYB9kH2gfbB9wH3QfeB98H4AfhB+IH4wfkB+UH5gfnB+gH",
          "dtype": "i2"
         },
         "xaxis": "x",
         "y": {
          "bdata": "AQACAAYACgAQABYAdQDTAG0BmwGwAYsBdAGOAfABKAIIAjQCLgImAkMC7gIHA14DZwPWA/gF",
          "dtype": "i2"
         },
         "yaxis": "y"
        },
        {
         "line": {
          "color": "#636EFA"
         },
         "mode": "lines+markers",
         "name": "stat.th",
         "showlegend": false,
         "type": "scatter",
         "x": {
          "bdata": "zQfPB9AH0QfSB9MH1AfVB9YH1wfYB9kH2gfbB9wH3QfeB98H4AfhB+IH4wfkB+UH5gfnB+gH",
          "dtype": "i2"
         },
         "xaxis": "x2",
         "y": {
          "bdata": "AQACAAYACgAQABYAdQDTAG0BmwGwAYsBdAGOAfABKAIIAjQCLgImAkMC7gIHA14DZwPWA/gF",
          "dtype": "i2"
         },
         "yaxis": "y2"
        }
       ],
       "layout": {
        "annotations": [
         {
          "font": {
           "size": 16
          },
          "showarrow": false,
          "text": "Linear-Scale",
          "x": 0.225,
          "xanchor": "center",
          "xref": "paper",
          "y": 1,
          "yanchor": "bottom",
          "yref": "paper"
         },
         {
          "font": {
           "size": 16
          },
          "showarrow": false,
          "text": "Log-Scale",
          "x": 0.775,
          "xanchor": "center",
          "xref": "paper",
          "y": 1,
          "yanchor": "bottom",
          "yref": "paper"
         }
        ],
        "height": 550,
        "legend": {
         "title": {
          "text": "Categories"
         }
        },
        "template": {
         "data": {
          "bar": [
           {
            "error_x": {
             "color": "#2a3f5f"
            },
            "error_y": {
             "color": "#2a3f5f"
            },
            "marker": {
             "line": {
              "color": "white",
              "width": 0.5
             },
             "pattern": {
              "fillmode": "overlay",
              "size": 10,
              "solidity": 0.2
             }
            },
            "type": "bar"
           }
          ],
          "barpolar": [
           {
            "marker": {
             "line": {
              "color": "white",
              "width": 0.5
             },
             "pattern": {
              "fillmode": "overlay",
              "size": 10,
              "solidity": 0.2
             }
            },
            "type": "barpolar"
           }
          ],
          "carpet": [
           {
            "aaxis": {
             "endlinecolor": "#2a3f5f",
             "gridcolor": "#C8D4E3",
             "linecolor": "#C8D4E3",
             "minorgridcolor": "#C8D4E3",
             "startlinecolor": "#2a3f5f"
            },
            "baxis": {
             "endlinecolor": "#2a3f5f",
             "gridcolor": "#C8D4E3",
             "linecolor": "#C8D4E3",
             "minorgridcolor": "#C8D4E3",
             "startlinecolor": "#2a3f5f"
            },
            "type": "carpet"
           }
          ],
          "choropleth": [
           {
            "colorbar": {
             "outlinewidth": 0,
             "ticks": ""
            },
            "type": "choropleth"
           }
          ],
          "contour": [
           {
            "colorbar": {
             "outlinewidth": 0,
             "ticks": ""
            },
            "colorscale": [
             [
              0,
              "#0d0887"
             ],
             [
              0.1111111111111111,
              "#46039f"
             ],
             [
              0.2222222222222222,
              "#7201a8"
             ],
             [
              0.3333333333333333,
              "#9c179e"
             ],
             [
              0.4444444444444444,
              "#bd3786"
             ],
             [
              0.5555555555555556,
              "#d8576b"
             ],
             [
              0.6666666666666666,
              "#ed7953"
             ],
             [
              0.7777777777777778,
              "#fb9f3a"
             ],
             [
              0.8888888888888888,
              "#fdca26"
             ],
             [
              1,
              "#f0f921"
             ]
            ],
            "type": "contour"
           }
          ],
          "contourcarpet": [
           {
            "colorbar": {
             "outlinewidth": 0,
             "ticks": ""
            },
            "type": "contourcarpet"
           }
          ],
          "heatmap": [
           {
            "colorbar": {
             "outlinewidth": 0,
             "ticks": ""
            },
            "colorscale": [
             [
              0,
              "#0d0887"
             ],
             [
              0.1111111111111111,
              "#46039f"
             ],
             [
              0.2222222222222222,
              "#7201a8"
             ],
             [
              0.3333333333333333,
              "#9c179e"
             ],
             [
              0.4444444444444444,
              "#bd3786"
             ],
             [
              0.5555555555555556,
              "#d8576b"
             ],
             [
              0.6666666666666666,
              "#ed7953"
             ],
             [
              0.7777777777777778,
              "#fb9f3a"
             ],
             [
              0.8888888888888888,
              "#fdca26"
             ],
             [
              1,
              "#f0f921"
             ]
            ],
            "type": "heatmap"
           }
          ],
          "histogram": [
           {
            "marker": {
             "pattern": {
              "fillmode": "overlay",
              "size": 10,
              "solidity": 0.2
             }
            },
            "type": "histogram"
           }
          ],
          "histogram2d": [
           {
            "colorbar": {
             "outlinewidth": 0,
             "ticks": ""
            },
            "colorscale": [
             [
              0,
              "#0d0887"
             ],
             [
              0.1111111111111111,
              "#46039f"
             ],
             [
              0.2222222222222222,
              "#7201a8"
             ],
             [
              0.3333333333333333,
              "#9c179e"
             ],
             [
              0.4444444444444444,
              "#bd3786"
             ],
             [
              0.5555555555555556,
              "#d8576b"
             ],
             [
              0.6666666666666666,
              "#ed7953"
             ],
             [
              0.7777777777777778,
              "#fb9f3a"
             ],
             [
              0.8888888888888888,
              "#fdca26"
             ],
             [
              1,
              "#f0f921"
             ]
            ],
            "type": "histogram2d"
           }
          ],
          "histogram2dcontour": [
           {
            "colorbar": {
             "outlinewidth": 0,
             "ticks": ""
            },
            "colorscale": [
             [
              0,
              "#0d0887"
             ],
             [
              0.1111111111111111,
              "#46039f"
             ],
             [
              0.2222222222222222,
              "#7201a8"
             ],
             [
              0.3333333333333333,
              "#9c179e"
             ],
             [
              0.4444444444444444,
              "#bd3786"
             ],
             [
              0.5555555555555556,
              "#d8576b"
             ],
             [
              0.6666666666666666,
              "#ed7953"
             ],
             [
              0.7777777777777778,
              "#fb9f3a"
             ],
             [
              0.8888888888888888,
              "#fdca26"
             ],
             [
              1,
              "#f0f921"
             ]
            ],
            "type": "histogram2dcontour"
           }
          ],
          "mesh3d": [
           {
            "colorbar": {
             "outlinewidth": 0,
             "ticks": ""
            },
            "type": "mesh3d"
           }
          ],
          "parcoords": [
           {
            "line": {
             "colorbar": {
              "outlinewidth": 0,
              "ticks": ""
             }
            },
            "type": "parcoords"
           }
          ],
          "pie": [
           {
            "automargin": true,
            "type": "pie"
           }
          ],
          "scatter": [
           {
            "fillpattern": {
             "fillmode": "overlay",
             "size": 10,
             "solidity": 0.2
            },
            "type": "scatter"
           }
          ],
          "scatter3d": [
           {
            "line": {
             "colorbar": {
              "outlinewidth": 0,
              "ticks": ""
             }
            },
            "marker": {
             "colorbar": {
              "outlinewidth": 0,
              "ticks": ""
             }
            },
            "type": "scatter3d"
           }
          ],
          "scattercarpet": [
           {
            "marker": {
             "colorbar": {
              "outlinewidth": 0,
              "ticks": ""
             }
            },
            "type": "scattercarpet"
           }
          ],
          "scattergeo": [
           {
            "marker": {
             "colorbar": {
              "outlinewidth": 0,
              "ticks": ""
             }
            },
            "type": "scattergeo"
           }
          ],
          "scattergl": [
           {
            "marker": {
             "colorbar": {
              "outlinewidth": 0,
              "ticks": ""
             }
            },
            "type": "scattergl"
           }
          ],
          "scattermap": [
           {
            "marker": {
             "colorbar": {
              "outlinewidth": 0,
              "ticks": ""
             }
            },
            "type": "scattermap"
           }
          ],
          "scattermapbox": [
           {
            "marker": {
             "colorbar": {
              "outlinewidth": 0,
              "ticks": ""
             }
            },
            "type": "scattermapbox"
           }
          ],
          "scatterpolar": [
           {
            "marker": {
             "colorbar": {
              "outlinewidth": 0,
              "ticks": ""
             }
            },
            "type": "scatterpolar"
           }
          ],
          "scatterpolargl": [
           {
            "marker": {
             "colorbar": {
              "outlinewidth": 0,
              "ticks": ""
             }
            },
            "type": "scatterpolargl"
           }
          ],
          "scatterternary": [
           {
            "marker": {
             "colorbar": {
              "outlinewidth": 0,
              "ticks": ""
             }
            },
            "type": "scatterternary"
           }
          ],
          "surface": [
           {
            "colorbar": {
             "outlinewidth": 0,
             "ticks": ""
            },
            "colorscale": [
             [
              0,
              "#0d0887"
             ],
             [
              0.1111111111111111,
              "#46039f"
             ],
             [
              0.2222222222222222,
              "#7201a8"
             ],
             [
              0.3333333333333333,
              "#9c179e"
             ],
             [
              0.4444444444444444,
              "#bd3786"
             ],
             [
              0.5555555555555556,
              "#d8576b"
             ],
             [
              0.6666666666666666,
              "#ed7953"
             ],
             [
              0.7777777777777778,
              "#fb9f3a"
             ],
             [
              0.8888888888888888,
              "#fdca26"
             ],
             [
              1,
              "#f0f921"
             ]
            ],
            "type": "surface"
           }
          ],
          "table": [
           {
            "cells": {
             "fill": {
              "color": "#EBF0F8"
             },
             "line": {
              "color": "white"
             }
            },
            "header": {
             "fill": {
              "color": "#C8D4E3"
             },
             "line": {
              "color": "white"
             }
            },
            "type": "table"
           }
          ]
         },
         "layout": {
          "annotationdefaults": {
           "arrowcolor": "#2a3f5f",
           "arrowhead": 0,
           "arrowwidth": 1
          },
          "autotypenumbers": "strict",
          "coloraxis": {
           "colorbar": {
            "outlinewidth": 0,
            "ticks": ""
           }
          },
          "colorscale": {
           "diverging": [
            [
             0,
             "#8e0152"
            ],
            [
             0.1,
             "#c51b7d"
            ],
            [
             0.2,
             "#de77ae"
            ],
            [
             0.3,
             "#f1b6da"
            ],
            [
             0.4,
             "#fde0ef"
            ],
            [
             0.5,
             "#f7f7f7"
            ],
            [
             0.6,
             "#e6f5d0"
            ],
            [
             0.7,
             "#b8e186"
            ],
            [
             0.8,
             "#7fbc41"
            ],
            [
             0.9,
             "#4d9221"
            ],
            [
             1,
             "#276419"
            ]
           ],
           "sequential": [
            [
             0,
             "#0d0887"
            ],
            [
             0.1111111111111111,
             "#46039f"
            ],
            [
             0.2222222222222222,
             "#7201a8"
            ],
            [
             0.3333333333333333,
             "#9c179e"
            ],
            [
             0.4444444444444444,
             "#bd3786"
            ],
            [
             0.5555555555555556,
             "#d8576b"
            ],
            [
             0.6666666666666666,
             "#ed7953"
            ],
            [
             0.7777777777777778,
             "#fb9f3a"
            ],
            [
             0.8888888888888888,
             "#fdca26"
            ],
            [
             1,
             "#f0f921"
            ]
           ],
           "sequentialminus": [
            [
             0,
             "#0d0887"
            ],
            [
             0.1111111111111111,
             "#46039f"
            ],
            [
             0.2222222222222222,
             "#7201a8"
            ],
            [
             0.3333333333333333,
             "#9c179e"
            ],
            [
             0.4444444444444444,
             "#bd3786"
            ],
            [
             0.5555555555555556,
             "#d8576b"
            ],
            [
             0.6666666666666666,
             "#ed7953"
            ],
            [
             0.7777777777777778,
             "#fb9f3a"
            ],
            [
             0.8888888888888888,
             "#fdca26"
            ],
            [
             1,
             "#f0f921"
            ]
           ]
          },
          "colorway": [
           "#636efa",
           "#EF553B",
           "#00cc96",
           "#ab63fa",
           "#FFA15A",
           "#19d3f3",
           "#FF6692",
           "#B6E880",
           "#FF97FF",
           "#FECB52"
          ],
          "font": {
           "color": "#2a3f5f"
          },
          "geo": {
           "bgcolor": "white",
           "lakecolor": "white",
           "landcolor": "white",
           "showlakes": true,
           "showland": true,
           "subunitcolor": "#C8D4E3"
          },
          "hoverlabel": {
           "align": "left"
          },
          "hovermode": "closest",
          "mapbox": {
           "style": "light"
          },
          "paper_bgcolor": "white",
          "plot_bgcolor": "white",
          "polar": {
           "angularaxis": {
            "gridcolor": "#EBF0F8",
            "linecolor": "#EBF0F8",
            "ticks": ""
           },
           "bgcolor": "white",
           "radialaxis": {
            "gridcolor": "#EBF0F8",
            "linecolor": "#EBF0F8",
            "ticks": ""
           }
          },
          "scene": {
           "xaxis": {
            "backgroundcolor": "white",
            "gridcolor": "#DFE8F3",
            "gridwidth": 2,
            "linecolor": "#EBF0F8",
            "showbackground": true,
            "ticks": "",
            "zerolinecolor": "#EBF0F8"
           },
           "yaxis": {
            "backgroundcolor": "white",
            "gridcolor": "#DFE8F3",
            "gridwidth": 2,
            "linecolor": "#EBF0F8",
            "showbackground": true,
            "ticks": "",
            "zerolinecolor": "#EBF0F8"
           },
           "zaxis": {
            "backgroundcolor": "white",
            "gridcolor": "#DFE8F3",
            "gridwidth": 2,
            "linecolor": "#EBF0F8",
            "showbackground": true,
            "ticks": "",
            "zerolinecolor": "#EBF0F8"
           }
          },
          "shapedefaults": {
           "line": {
            "color": "#2a3f5f"
           }
          },
          "ternary": {
           "aaxis": {
            "gridcolor": "#DFE8F3",
            "linecolor": "#A2B1C6",
            "ticks": ""
           },
           "baxis": {
            "gridcolor": "#DFE8F3",
            "linecolor": "#A2B1C6",
            "ticks": ""
           },
           "bgcolor": "white",
           "caxis": {
            "gridcolor": "#DFE8F3",
            "linecolor": "#A2B1C6",
            "ticks": ""
           }
          },
          "title": {
           "x": 0.05
          },
          "xaxis": {
           "automargin": true,
           "gridcolor": "#EBF0F8",
           "linecolor": "#EBF0F8",
           "ticks": "",
           "title": {
            "standoff": 15
           },
           "zerolinecolor": "#EBF0F8",
           "zerolinewidth": 2
          },
          "yaxis": {
           "automargin": true,
           "gridcolor": "#EBF0F8",
           "linecolor": "#EBF0F8",
           "ticks": "",
           "title": {
            "standoff": 15
           },
           "zerolinecolor": "#EBF0F8",
           "zerolinewidth": 2
          }
         }
        },
        "title": {
         "font": {
          "size": 25
         },
         "text": "Number of initial Publications per Year by Category",
         "x": 0.5
        },
        "xaxis": {
         "anchor": "y",
         "domain": [
          0,
          0.45
         ],
         "title": {
          "text": "Year of Publication"
         }
        },
        "xaxis2": {
         "anchor": "y2",
         "domain": [
          0.55,
          1
         ],
         "title": {
          "text": "Year of Publication"
         }
        },
        "yaxis": {
         "anchor": "x",
         "domain": [
          0,
          1
         ],
         "title": {
          "text": "# of Publications per Year"
         }
        },
        "yaxis2": {
         "anchor": "x2",
         "domain": [
          0,
          1
         ],
         "title": {
          "text": "# of Publications per Year"
         },
         "type": "log"
        }
       }
      }
     },
     "metadata": {},
     "output_type": "display_data"
    },
    {
     "data": {
      "application/vnd.plotly.v1+json": {
       "config": {
        "plotlyServerURL": "https://plot.ly"
       },
       "data": [
        {
         "colorbar": {
          "title": {
           "text": "Count"
          }
         },
         "colorscale": [
          [
           0,
           "rgb(5,48,97)"
          ],
          [
           0.1,
           "rgb(33,102,172)"
          ],
          [
           0.2,
           "rgb(67,147,195)"
          ],
          [
           0.3,
           "rgb(146,197,222)"
          ],
          [
           0.4,
           "rgb(209,229,240)"
          ],
          [
           0.5,
           "rgb(247,247,247)"
          ],
          [
           0.6,
           "rgb(253,219,199)"
          ],
          [
           0.7,
           "rgb(244,165,130)"
          ],
          [
           0.8,
           "rgb(214,96,77)"
          ],
          [
           0.9,
           "rgb(178,24,43)"
          ],
          [
           1,
           "rgb(103,0,31)"
          ]
         ],
         "text": {
          "bdata": "AAAAAAAAAQAAAAIABgAKABAAFgB1ANMAbQGbAbABiwF0AY4B8AEoAggCNAIuAiYCQwLuAgcDXgNnA9YD+AUAAAAAAAAAAAAAAAAAAAAAAQAAAAEAAAAAABYAPwBiAIgAygAfA3ICxAJwAwsFugclEM4YLRfECLoIAQr2DgAAAAAAAAYACQAVABsAJQAhACgALAA/AEoAVgBNAEYARwBjAFMATQBkAFoAXQBSAF4AjgCyAKsAkwDUAPUAAAAAAAAAAAAAAAAAAAAAAAAAAAAAAAAAAAAAAAAAAAAAAAAAAAAAAC8AUgB0AFYAbAB/AHoAgQB9AI4A5gAAAAAAAAAAAAIAAgABAAMAAQAEAAQACAAMAA8AGAA7AEkANAA3ACsAMAA2ADgAMwBKAEkAZACRAJcAqQAXAQAAAAAAAAEAAAACAAYACgAQABYAdQDTAG0BmwGwAYsBdAGOAfABKAIIAjQCLwImAkMC7gIHA14DZwPWA/gFwgAsAWEBfgFUASoBQQEyASUBJAEDAQMBAAETAeoAAAH0AAIBDAEVARIBEwEhARMBMAEpATYBGAFhAa0BcQICAAMABQAQAEkATwCBAIIAqADgAMgBZgLrAkYDAAONA/4DKgSxBBAFNwWUBbIFkgXKBREGewbtBlgHUQidDAAAAgAAAAIABAAeACAAHwBPADwATABYAJwA0wDyAA0BfQEaAskCegPTA4kEbAUCBtEGTggfCgIKtwpCDJ4RGAAeACQAEwA4AH8AfAB8AMAA6gAVASoBdwGqAeABQQJFAvkCXgM4A5ED7QMeBHEEWAT5BIwFpQV/Ba8GCAkAAAAAAAAAAAAAAAAEAAMABQADAAEAAAAEAAUABAANABQAGwAbAC0AOABeAMgABwH9AeECaQRDBVUG/gb7CAAAAAAAAAAAAgAAAAcAAQAHAAQAFQAPACAAXQA4ADsAOwBeAH8AkwDEAOMA5wHuAkIEkgb0CCoLegw1EEkYAAAAAAAAAAAOAAkACQAKABgAJgAoADcAJgBIAFQAXwCMAHIAswDVAEkBWwHJATwCqgJWAxcEbAOPA98DSQUAAAAAAAAAAAYACQACAAcAEwAOABEAGAAfABcAMQBEAEsARgBcAF0AlQBkAJ8AzQAAAbQBDQIdAmkCEwPSAwAAAAAAAAEABwAXAB0AFAApABoAIAAzAD4APgBRAJEAyAAUAcUDNQPRA9sEHQcsCqEUoyflNN843D7oSGZpAAAAAAAAAAAHAAQACAAMAAkADgAYAAkAHwBHAGcAVQBXAEAAewCvAOYA3wCEAfABlgL7AzQFFgb6Bk8KchAAAAAAAAAAAAMACAAOABoAIQAdADgAOgBXAJcAwADpAA8BNgHCAWoBVwF6AWgBoQG2AQkC8AEYAv4BPQIxAwAAAAAAAAAAAwADAA8AAwAPABQAGgAYABwAMgA/AHIA9AAbAb8BaQJbAyoFPAjDDFkTOhqnIiYn7y2COMZSuwC7ALUAlQBiADUAdwBKAD8ANAAxABYAMQAxADgATABHAF4AtwD0AJAB5gHeA8EFYAn7DD0QVhPxFJ0eUTILAAIAAAABABYAMAAbACcAOQA0AC0ARwBUAG8AlADSAOYAzAAGAe4ADQEcAQkBOQEvAV0BfQFtAY0BxAGlAg4AGwAcABQAHAAaAGoAOABdAHAAhwCBAHgAmADEACABewGFAsID0QUQA7wClgQ+BrwJzQqdEMkcCSIFMo1W",
          "dtype": "i2",
          "shape": "21, 31"
         },
         "texttemplate": "%{text}",
         "type": "heatmap",
         "x": {
          "bdata": "ygfLB8wHzQfOB88H0AfRB9IH0wfUB9UH1gfXB9gH2QfaB9sH3AfdB94H3wfgB+EH4gfjB+QH5QfmB+cH6Ac=",
          "dtype": "i2"
         },
         "y": [
          "stat.th",
          "stat.ml",
          "q-fin.st",
          "q-fin.mf",
          "q-fin.cp",
          "math.st",
          "math.qa",
          "math.pr",
          "math.oc",
          "math.ds",
          "cs.sd",
          "cs.ro",
          "cs.ne",
          "cs.ma",
          "cs.lg",
          "cs.hc",
          "cs.dm",
          "cs.cv",
          "cs.cl",
          "cs.cc",
          "cs.ai"
         ],
         "z": {
          "bdata": "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",
          "dtype": "f8",
          "shape": "21, 31"
         }
        }
       ],
       "layout": {
        "height": 800,
        "template": {
         "data": {
          "bar": [
           {
            "error_x": {
             "color": "#2a3f5f"
            },
            "error_y": {
             "color": "#2a3f5f"
            },
            "marker": {
             "line": {
              "color": "white",
              "width": 0.5
             },
             "pattern": {
              "fillmode": "overlay",
              "size": 10,
              "solidity": 0.2
             }
            },
            "type": "bar"
           }
          ],
          "barpolar": [
           {
            "marker": {
             "line": {
              "color": "white",
              "width": 0.5
             },
             "pattern": {
              "fillmode": "overlay",
              "size": 10,
              "solidity": 0.2
             }
            },
            "type": "barpolar"
           }
          ],
          "carpet": [
           {
            "aaxis": {
             "endlinecolor": "#2a3f5f",
             "gridcolor": "#C8D4E3",
             "linecolor": "#C8D4E3",
             "minorgridcolor": "#C8D4E3",
             "startlinecolor": "#2a3f5f"
            },
            "baxis": {
             "endlinecolor": "#2a3f5f",
             "gridcolor": "#C8D4E3",
             "linecolor": "#C8D4E3",
             "minorgridcolor": "#C8D4E3",
             "startlinecolor": "#2a3f5f"
            },
            "type": "carpet"
           }
          ],
          "choropleth": [
           {
            "colorbar": {
             "outlinewidth": 0,
             "ticks": ""
            },
            "type": "choropleth"
           }
          ],
          "contour": [
           {
            "colorbar": {
             "outlinewidth": 0,
             "ticks": ""
            },
            "colorscale": [
             [
              0,
              "#0d0887"
             ],
             [
              0.1111111111111111,
              "#46039f"
             ],
             [
              0.2222222222222222,
              "#7201a8"
             ],
             [
              0.3333333333333333,
              "#9c179e"
             ],
             [
              0.4444444444444444,
              "#bd3786"
             ],
             [
              0.5555555555555556,
              "#d8576b"
             ],
             [
              0.6666666666666666,
              "#ed7953"
             ],
             [
              0.7777777777777778,
              "#fb9f3a"
             ],
             [
              0.8888888888888888,
              "#fdca26"
             ],
             [
              1,
              "#f0f921"
             ]
            ],
            "type": "contour"
           }
          ],
          "contourcarpet": [
           {
            "colorbar": {
             "outlinewidth": 0,
             "ticks": ""
            },
            "type": "contourcarpet"
           }
          ],
          "heatmap": [
           {
            "colorbar": {
             "outlinewidth": 0,
             "ticks": ""
            },
            "colorscale": [
             [
              0,
              "#0d0887"
             ],
             [
              0.1111111111111111,
              "#46039f"
             ],
             [
              0.2222222222222222,
              "#7201a8"
             ],
             [
              0.3333333333333333,
              "#9c179e"
             ],
             [
              0.4444444444444444,
              "#bd3786"
             ],
             [
              0.5555555555555556,
              "#d8576b"
             ],
             [
              0.6666666666666666,
              "#ed7953"
             ],
             [
              0.7777777777777778,
              "#fb9f3a"
             ],
             [
              0.8888888888888888,
              "#fdca26"
             ],
             [
              1,
              "#f0f921"
             ]
            ],
            "type": "heatmap"
           }
          ],
          "histogram": [
           {
            "marker": {
             "pattern": {
              "fillmode": "overlay",
              "size": 10,
              "solidity": 0.2
             }
            },
            "type": "histogram"
           }
          ],
          "histogram2d": [
           {
            "colorbar": {
             "outlinewidth": 0,
             "ticks": ""
            },
            "colorscale": [
             [
              0,
              "#0d0887"
             ],
             [
              0.1111111111111111,
              "#46039f"
             ],
             [
              0.2222222222222222,
              "#7201a8"
             ],
             [
              0.3333333333333333,
              "#9c179e"
             ],
             [
              0.4444444444444444,
              "#bd3786"
             ],
             [
              0.5555555555555556,
              "#d8576b"
             ],
             [
              0.6666666666666666,
              "#ed7953"
             ],
             [
              0.7777777777777778,
              "#fb9f3a"
             ],
             [
              0.8888888888888888,
              "#fdca26"
             ],
             [
              1,
              "#f0f921"
             ]
            ],
            "type": "histogram2d"
           }
          ],
          "histogram2dcontour": [
           {
            "colorbar": {
             "outlinewidth": 0,
             "ticks": ""
            },
            "colorscale": [
             [
              0,
              "#0d0887"
             ],
             [
              0.1111111111111111,
              "#46039f"
             ],
             [
              0.2222222222222222,
              "#7201a8"
             ],
             [
              0.3333333333333333,
              "#9c179e"
             ],
             [
              0.4444444444444444,
              "#bd3786"
             ],
             [
              0.5555555555555556,
              "#d8576b"
             ],
             [
              0.6666666666666666,
              "#ed7953"
             ],
             [
              0.7777777777777778,
              "#fb9f3a"
             ],
             [
              0.8888888888888888,
              "#fdca26"
             ],
             [
              1,
              "#f0f921"
             ]
            ],
            "type": "histogram2dcontour"
           }
          ],
          "mesh3d": [
           {
            "colorbar": {
             "outlinewidth": 0,
             "ticks": ""
            },
            "type": "mesh3d"
           }
          ],
          "parcoords": [
           {
            "line": {
             "colorbar": {
              "outlinewidth": 0,
              "ticks": ""
             }
            },
            "type": "parcoords"
           }
          ],
          "pie": [
           {
            "automargin": true,
            "type": "pie"
           }
          ],
          "scatter": [
           {
            "fillpattern": {
             "fillmode": "overlay",
             "size": 10,
             "solidity": 0.2
            },
            "type": "scatter"
           }
          ],
          "scatter3d": [
           {
            "line": {
             "colorbar": {
              "outlinewidth": 0,
              "ticks": ""
             }
            },
            "marker": {
             "colorbar": {
              "outlinewidth": 0,
              "ticks": ""
             }
            },
            "type": "scatter3d"
           }
          ],
          "scattercarpet": [
           {
            "marker": {
             "colorbar": {
              "outlinewidth": 0,
              "ticks": ""
             }
            },
            "type": "scattercarpet"
           }
          ],
          "scattergeo": [
           {
            "marker": {
             "colorbar": {
              "outlinewidth": 0,
              "ticks": ""
             }
            },
            "type": "scattergeo"
           }
          ],
          "scattergl": [
           {
            "marker": {
             "colorbar": {
              "outlinewidth": 0,
              "ticks": ""
             }
            },
            "type": "scattergl"
           }
          ],
          "scattermap": [
           {
            "marker": {
             "colorbar": {
              "outlinewidth": 0,
              "ticks": ""
             }
            },
            "type": "scattermap"
           }
          ],
          "scattermapbox": [
           {
            "marker": {
             "colorbar": {
              "outlinewidth": 0,
              "ticks": ""
             }
            },
            "type": "scattermapbox"
           }
          ],
          "scatterpolar": [
           {
            "marker": {
             "colorbar": {
              "outlinewidth": 0,
              "ticks": ""
             }
            },
            "type": "scatterpolar"
           }
          ],
          "scatterpolargl": [
           {
            "marker": {
             "colorbar": {
              "outlinewidth": 0,
              "ticks": ""
             }
            },
            "type": "scatterpolargl"
           }
          ],
          "scatterternary": [
           {
            "marker": {
             "colorbar": {
              "outlinewidth": 0,
              "ticks": ""
             }
            },
            "type": "scatterternary"
           }
          ],
          "surface": [
           {
            "colorbar": {
             "outlinewidth": 0,
             "ticks": ""
            },
            "colorscale": [
             [
              0,
              "#0d0887"
             ],
             [
              0.1111111111111111,
              "#46039f"
             ],
             [
              0.2222222222222222,
              "#7201a8"
             ],
             [
              0.3333333333333333,
              "#9c179e"
             ],
             [
              0.4444444444444444,
              "#bd3786"
             ],
             [
              0.5555555555555556,
              "#d8576b"
             ],
             [
              0.6666666666666666,
              "#ed7953"
             ],
             [
              0.7777777777777778,
              "#fb9f3a"
             ],
             [
              0.8888888888888888,
              "#fdca26"
             ],
             [
              1,
              "#f0f921"
             ]
            ],
            "type": "surface"
           }
          ],
          "table": [
           {
            "cells": {
             "fill": {
              "color": "#EBF0F8"
             },
             "line": {
              "color": "white"
             }
            },
            "header": {
             "fill": {
              "color": "#C8D4E3"
             },
             "line": {
              "color": "white"
             }
            },
            "type": "table"
           }
          ]
         },
         "layout": {
          "annotationdefaults": {
           "arrowcolor": "#2a3f5f",
           "arrowhead": 0,
           "arrowwidth": 1
          },
          "autotypenumbers": "strict",
          "coloraxis": {
           "colorbar": {
            "outlinewidth": 0,
            "ticks": ""
           }
          },
          "colorscale": {
           "diverging": [
            [
             0,
             "#8e0152"
            ],
            [
             0.1,
             "#c51b7d"
            ],
            [
             0.2,
             "#de77ae"
            ],
            [
             0.3,
             "#f1b6da"
            ],
            [
             0.4,
             "#fde0ef"
            ],
            [
             0.5,
             "#f7f7f7"
            ],
            [
             0.6,
             "#e6f5d0"
            ],
            [
             0.7,
             "#b8e186"
            ],
            [
             0.8,
             "#7fbc41"
            ],
            [
             0.9,
             "#4d9221"
            ],
            [
             1,
             "#276419"
            ]
           ],
           "sequential": [
            [
             0,
             "#0d0887"
            ],
            [
             0.1111111111111111,
             "#46039f"
            ],
            [
             0.2222222222222222,
             "#7201a8"
            ],
            [
             0.3333333333333333,
             "#9c179e"
            ],
            [
             0.4444444444444444,
             "#bd3786"
            ],
            [
             0.5555555555555556,
             "#d8576b"
            ],
            [
             0.6666666666666666,
             "#ed7953"
            ],
            [
             0.7777777777777778,
             "#fb9f3a"
            ],
            [
             0.8888888888888888,
             "#fdca26"
            ],
            [
             1,
             "#f0f921"
            ]
           ],
           "sequentialminus": [
            [
             0,
             "#0d0887"
            ],
            [
             0.1111111111111111,
             "#46039f"
            ],
            [
             0.2222222222222222,
             "#7201a8"
            ],
            [
             0.3333333333333333,
             "#9c179e"
            ],
            [
             0.4444444444444444,
             "#bd3786"
            ],
            [
             0.5555555555555556,
             "#d8576b"
            ],
            [
             0.6666666666666666,
             "#ed7953"
            ],
            [
             0.7777777777777778,
             "#fb9f3a"
            ],
            [
             0.8888888888888888,
             "#fdca26"
            ],
            [
             1,
             "#f0f921"
            ]
           ]
          },
          "colorway": [
           "#636efa",
           "#EF553B",
           "#00cc96",
           "#ab63fa",
           "#FFA15A",
           "#19d3f3",
           "#FF6692",
           "#B6E880",
           "#FF97FF",
           "#FECB52"
          ],
          "font": {
           "color": "#2a3f5f"
          },
          "geo": {
           "bgcolor": "white",
           "lakecolor": "white",
           "landcolor": "white",
           "showlakes": true,
           "showland": true,
           "subunitcolor": "#C8D4E3"
          },
          "hoverlabel": {
           "align": "left"
          },
          "hovermode": "closest",
          "mapbox": {
           "style": "light"
          },
          "paper_bgcolor": "white",
          "plot_bgcolor": "white",
          "polar": {
           "angularaxis": {
            "gridcolor": "#EBF0F8",
            "linecolor": "#EBF0F8",
            "ticks": ""
           },
           "bgcolor": "white",
           "radialaxis": {
            "gridcolor": "#EBF0F8",
            "linecolor": "#EBF0F8",
            "ticks": ""
           }
          },
          "scene": {
           "xaxis": {
            "backgroundcolor": "white",
            "gridcolor": "#DFE8F3",
            "gridwidth": 2,
            "linecolor": "#EBF0F8",
            "showbackground": true,
            "ticks": "",
            "zerolinecolor": "#EBF0F8"
           },
           "yaxis": {
            "backgroundcolor": "white",
            "gridcolor": "#DFE8F3",
            "gridwidth": 2,
            "linecolor": "#EBF0F8",
            "showbackground": true,
            "ticks": "",
            "zerolinecolor": "#EBF0F8"
           },
           "zaxis": {
            "backgroundcolor": "white",
            "gridcolor": "#DFE8F3",
            "gridwidth": 2,
            "linecolor": "#EBF0F8",
            "showbackground": true,
            "ticks": "",
            "zerolinecolor": "#EBF0F8"
           }
          },
          "shapedefaults": {
           "line": {
            "color": "#2a3f5f"
           }
          },
          "ternary": {
           "aaxis": {
            "gridcolor": "#DFE8F3",
            "linecolor": "#A2B1C6",
            "ticks": ""
           },
           "baxis": {
            "gridcolor": "#DFE8F3",
            "linecolor": "#A2B1C6",
            "ticks": ""
           },
           "bgcolor": "white",
           "caxis": {
            "gridcolor": "#DFE8F3",
            "linecolor": "#A2B1C6",
            "ticks": ""
           }
          },
          "title": {
           "x": 0.05
          },
          "xaxis": {
           "automargin": true,
           "gridcolor": "#EBF0F8",
           "linecolor": "#EBF0F8",
           "ticks": "",
           "title": {
            "standoff": 15
           },
           "zerolinecolor": "#EBF0F8",
           "zerolinewidth": 2
          },
          "yaxis": {
           "automargin": true,
           "gridcolor": "#EBF0F8",
           "linecolor": "#EBF0F8",
           "ticks": "",
           "title": {
            "standoff": 15
           },
           "zerolinecolor": "#EBF0F8",
           "zerolinewidth": 2
          }
         }
        },
        "title": {
         "font": {
          "size": 25
         },
         "text": "Number of initial Publications per Year by Category",
         "x": 0.5
        },
        "xaxis": {
         "title": {
          "text": "Year of Publication"
         }
        },
        "yaxis": {
         "title": {
          "text": "Category"
         }
        }
       }
      }
     },
     "metadata": {},
     "output_type": "display_data"
    }
   ],
   "source": [
    "visualize_publications_by_category(df_initial, \"initial\")"
   ]
  },
  {
   "cell_type": "markdown",
   "metadata": {},
   "source": [
    "Since the initial plots included both original publications (v1) and their subsequent revisions (v2, v3, etc.), the cleaned dataset presented here considers only the first version of each paper. This approach isolates the pure scientific contributions in ML and AI, providing a clearer view of the field's original research output. Although the absolute number of publications drops—for example, 2024’s total decreases from over 160,000 (including revisions) to over 110,000 (initial versions only)—the overall trend remains consistent, with categories such as cs.LG, cs.AI, cs.CV, cs.CL, and cs.RO continuing to drive growth.\n",
    "\n",
    "The accompanying chart visualizes the annual volume of revisions, which, while crucial for maintaining research accuracy through updates and corrections, also introduce a time cost that may limit the production of new contributions. Thus, revisions remain an important factor when evaluating monthly publication trends, as they indirectly influence research productivity and focus."
   ]
  },
  {
   "cell_type": "code",
   "execution_count": 35,
   "metadata": {
    "ExecuteTime": {
     "end_time": "2024-12-29T15:25:43.611278Z",
     "start_time": "2024-12-29T15:25:42.854160Z"
    }
   },
   "outputs": [
    {
     "data": {
      "application/vnd.plotly.v1+json": {
       "config": {
        "plotlyServerURL": "https://plot.ly"
       },
       "data": [
        {
         "line": {
          "color": "#636EFA"
         },
         "mode": "lines+markers",
         "name": "cs.lg",
         "type": "scatter",
         "x": {
          "bdata": "zQfPB9AH0QfSB9MH1AfVB9YH1wfYB9kH2gfbB9wH3QfeB98H4AfhB+IH4wfkB+UH5gfnB+gH",
          "dtype": "i2"
         },
         "xaxis": "x",
         "y": {
          "bdata": "AQACAAcAAwADAAQABwAQAA8AFgAyAFUAhwDBAHYBSgL6AtsE2AZXCmIUtyNBMMIuTTEKOJ8u",
          "dtype": "i2"
         },
         "yaxis": "y"
        },
        {
         "line": {
          "color": "#636EFA"
         },
         "mode": "lines+markers",
         "name": "cs.lg",
         "showlegend": false,
         "type": "scatter",
         "x": {
          "bdata": "zQfPB9AH0QfSB9MH1AfVB9YH1wfYB9kH2gfbB9wH3QfeB98H4AfhB+IH4wfkB+UH5gfnB+gH",
          "dtype": "i2"
         },
         "xaxis": "x2",
         "y": {
          "bdata": "AQACAAcAAwADAAQABwAQAA8AFgAyAFUAhwDBAHYBSgL6AtsE2AZXCmIUtyNBMMIuTTEKOJ8u",
          "dtype": "i2"
         },
         "yaxis": "y2"
        },
        {
         "line": {
          "color": "#EF553B"
         },
         "mode": "lines+markers",
         "name": "cs.ai",
         "type": "scatter",
         "x": {
          "bdata": "zgfPB9AH0QfSB9MH1AfVB9YH1wfYB9kH2gfbB9wH3QfeB98H4AfhB+IH4wfkB+UH5gfnB+gH",
          "dtype": "i2"
         },
         "xaxis": "x",
         "y": {
          "bdata": "AgAHABMACwAbABUAHgAbADEAKQBRAF4AYgCNAK0A8QDzAJ0BAAPBBPoGxAdbDBkUwxdCI7Un",
          "dtype": "i2"
         },
         "yaxis": "y"
        },
        {
         "line": {
          "color": "#EF553B"
         },
         "mode": "lines+markers",
         "name": "cs.ai",
         "showlegend": false,
         "type": "scatter",
         "x": {
          "bdata": "zgfPB9AH0QfSB9MH1AfVB9YH1wfYB9kH2gfbB9wH3QfeB98H4AfhB+IH4wfkB+UH5gfnB+gH",
          "dtype": "i2"
         },
         "xaxis": "x2",
         "y": {
          "bdata": "AgAHABMACwAbABUAHgAbADEAKQBRAF4AYgCNAK0A8QDzAJ0BAAPBBPoGxAdbDBkUwxdCI7Un",
          "dtype": "i2"
         },
         "yaxis": "y2"
        },
        {
         "line": {
          "color": "#00CC96"
         },
         "mode": "lines+markers",
         "name": "cs.cc",
         "type": "scatter",
         "x": {
          "bdata": "zAfNB84HzwfQB9EH0gfTB9QH1QfWB9cH2AfZB9oH2wfcB90H3gffB+AH4QfiB+MH5AflB+YH5wfoBw==",
          "dtype": "i2"
         },
         "xaxis": "x",
         "y": {
          "bdata": "AQABAAkAEAARAB0AIgAlACIAPABSAFgAeQCUAL8A2ADdAB0BDgEjAT8BQgE1AYIBqAGcAXsBgQESAQ==",
          "dtype": "i2"
         },
         "yaxis": "y"
        },
        {
         "line": {
          "color": "#00CC96"
         },
         "mode": "lines+markers",
         "name": "cs.cc",
         "showlegend": false,
         "type": "scatter",
         "x": {
          "bdata": "zAfNB84HzwfQB9EH0gfTB9QH1QfWB9cH2AfZB9oH2wfcB90H3gffB+AH4QfiB+MH5AflB+YH5wfoBw==",
          "dtype": "i2"
         },
         "xaxis": "x2",
         "y": {
          "bdata": "AQABAAkAEAARAB0AIgAlACIAPABSAFgAeQCUAL8A2ADdAB0BDgEjAT8BQgE1AYIBqAGcAXsBgQESAQ==",
          "dtype": "i2"
         },
         "yaxis": "y2"
        },
        {
         "line": {
          "color": "#AB63FA"
         },
         "mode": "lines+markers",
         "name": "math.st",
         "type": "scatter",
         "x": {
          "bdata": "ygfOB9AH0QfSB9MH1AfVB9YH1wfYB9kH2gfbB9wH3QfeB98H4AfhB+IH4wfkB+UH5gfnB+gH",
          "dtype": "i2"
         },
         "xaxis": "x",
         "y": {
          "bdata": "AQABAAMABwAIAA8AKgBcAI4AqADrAOoAIQHEAdsB1gFGAnUCiALPAuUCyQODBBcENwTAA1gC",
          "dtype": "i2"
         },
         "yaxis": "y"
        },
        {
         "line": {
          "color": "#AB63FA"
         },
         "mode": "lines+markers",
         "name": "math.st",
         "showlegend": false,
         "type": "scatter",
         "x": {
          "bdata": "ygfOB9AH0QfSB9MH1AfVB9YH1wfYB9kH2gfbB9wH3QfeB98H4AfhB+IH4wfkB+UH5gfnB+gH",
          "dtype": "i2"
         },
         "xaxis": "x2",
         "y": {
          "bdata": "AQABAAMABwAIAA8AKgBcAI4AqADrAOoAIQHEAdsB1gFGAnUCiALPAuUCyQODBBcENwTAA1gC",
          "dtype": "i2"
         },
         "yaxis": "y2"
        },
        {
         "line": {
          "color": "#FFA15A"
         },
         "mode": "lines+markers",
         "name": "math.oc",
         "type": "scatter",
         "x": {
          "bdata": "zgfPB9AH0QfSB9MH1AfVB9YH1wfYB9kH2gfbB9wH3QfeB98H4AfhB+IH4wfkB+UH5gfnB+gH",
          "dtype": "i2"
         },
         "xaxis": "x",
         "y": {
          "bdata": "AwAKAAgACgAOABwAIgApADYAWgB4ALwAJAG8ARQCxAJqAzQEqASNBf0G7wi3Co4K9gn0CSAG",
          "dtype": "i2"
         },
         "yaxis": "y"
        },
        {
         "line": {
          "color": "#FFA15A"
         },
         "mode": "lines+markers",
         "name": "math.oc",
         "showlegend": false,
         "type": "scatter",
         "x": {
          "bdata": "zgfPB9AH0QfSB9MH1AfVB9YH1wfYB9kH2gfbB9wH3QfeB98H4AfhB+IH4wfkB+UH5gfnB+gH",
          "dtype": "i2"
         },
         "xaxis": "x2",
         "y": {
          "bdata": "AwAKAAgACgAOABwAIgApADYAWgB4ALwAJAG8ARQCxAJqAzQEqASNBf0G7wi3Co4K9gn0CSAG",
          "dtype": "i2"
         },
         "yaxis": "y2"
        },
        {
         "line": {
          "color": "#19D3F3"
         },
         "mode": "lines+markers",
         "name": "math.pr",
         "type": "scatter",
         "x": {
          "bdata": "ygfLB8wHzQfOB88H0AfRB9IH0wfUB9UH1gfXB9gH2QfaB9sH3AfdB94H3wfgB+EH4gfjB+QH5QfmB+cH6Ac=",
          "dtype": "i2"
         },
         "xaxis": "x",
         "y": {
          "bdata": "AQABAAEAAwAWACYANABOAGsAmQDuAFYB3gFQAqgCJAPmA/UEXQXwBQ0G1QbdBhcH3QcpCAQJkggPCGkHeQQ=",
          "dtype": "i2"
         },
         "yaxis": "y"
        },
        {
         "line": {
          "color": "#19D3F3"
         },
         "mode": "lines+markers",
         "name": "math.pr",
         "showlegend": false,
         "type": "scatter",
         "x": {
          "bdata": "ygfLB8wHzQfOB88H0AfRB9IH0wfUB9UH1gfXB9gH2QfaB9sH3AfdB94H3wfgB+EH4gfjB+QH5QfmB+cH6Ac=",
          "dtype": "i2"
         },
         "xaxis": "x2",
         "y": {
          "bdata": "AQABAAEAAwAWACYANABOAGsAmQDuAFYB3gFQAqgCJAPmA/UEXQXwBQ0G1QbdBhcH3QcpCAQJkggPCGkHeQQ=",
          "dtype": "i2"
         },
         "yaxis": "y2"
        },
        {
         "line": {
          "color": "#FF6692"
         },
         "mode": "lines+markers",
         "name": "stat.ml",
         "type": "scatter",
         "x": {
          "bdata": "1AfVB9cH2AfZB9oH2wfcB90H3gffB+AH4QfiB+MH5AflB+YH5wfoBw==",
          "dtype": "i2"
         },
         "xaxis": "x",
         "y": {
          "bdata": "AQABABUAJwBBAHMA5gBgATECiwKvA0gFGgioEAEZtxqnC8AK0wqMBw==",
          "dtype": "i2"
         },
         "yaxis": "y"
        },
        {
         "line": {
          "color": "#FF6692"
         },
         "mode": "lines+markers",
         "name": "stat.ml",
         "showlegend": false,
         "type": "scatter",
         "x": {
          "bdata": "1AfVB9cH2AfZB9oH2wfcB90H3gffB+AH4QfiB+MH5AflB+YH5wfoBw==",
          "dtype": "i2"
         },
         "xaxis": "x2",
         "y": {
          "bdata": "AQABABUAJwBBAHMA5gBgATECiwKvA0gFGgioEAEZtxqnC8AK0wqMBw==",
          "dtype": "i2"
         },
         "yaxis": "y2"
        },
        {
         "line": {
          "color": "#B6E880"
         },
         "mode": "lines+markers",
         "name": "cs.cv",
         "type": "scatter",
         "x": {
          "bdata": "zwfRB9IH0wfUB9UH1gfXB9gH2QfaB9sH3AfdB94H3wfgB+EH4gfjB+QH5QfmB+cH6Ac=",
          "dtype": "i2"
         },
         "xaxis": "x",
         "y": {
          "bdata": "AQACAAEABQAJAAcACgALABYAIQAxAGEAhAD1AOMBrgPwBZkJNw4XE0UZDRz9HkcnDCM=",
          "dtype": "i2"
         },
         "yaxis": "y"
        },
        {
         "line": {
          "color": "#B6E880"
         },
         "mode": "lines+markers",
         "name": "cs.cv",
         "showlegend": false,
         "type": "scatter",
         "x": {
          "bdata": "zwfRB9IH0wfUB9UH1gfXB9gH2QfaB9sH3AfdB94H3wfgB+EH4gfjB+QH5QfmB+cH6Ac=",
          "dtype": "i2"
         },
         "xaxis": "x2",
         "y": {
          "bdata": "AQACAAEABQAJAAcACgALABYAIQAxAGEAhAD1AOMBrgPwBZkJNw4XE0UZDRz9HkcnDCM=",
          "dtype": "i2"
         },
         "yaxis": "y2"
        },
        {
         "line": {
          "color": "#FF97FF"
         },
         "mode": "lines+markers",
         "name": "cs.cl",
         "type": "scatter",
         "x": {
          "bdata": "ygfLB8wHzQfOB88H0AfRB9IH0wfUB9UH1gfXB9gH2QfaB9sH3AfdB94H3wfgB+EH4gfjB+QH5QfmB+cH6Ac=",
          "dtype": "i2"
         },
         "xaxis": "x",
         "y": {
          "bdata": "JAAmABUADwAPAAUAAwAFAAMAAwAFAAMAAwARAA4ADwAPAB8AKgBaAJ0AWgG8Ap4DMQUWCJoLPgwaDnsW2xw=",
          "dtype": "i2"
         },
         "yaxis": "y"
        },
        {
         "line": {
          "color": "#FF97FF"
         },
         "mode": "lines+markers",
         "name": "cs.cl",
         "showlegend": false,
         "type": "scatter",
         "x": {
          "bdata": "ygfLB8wHzQfOB88H0AfRB9IH0wfUB9UH1gfXB9gH2QfaB9sH3AfdB94H3wfgB+EH4gfjB+QH5QfmB+cH6Ac=",
          "dtype": "i2"
         },
         "xaxis": "x2",
         "y": {
          "bdata": "JAAmABUADwAPAAUAAwAFAAMAAwAFAAMAAwARAA4ADwAPAB8AKgBaAJ0AWgG8Ap4DMQUWCJoLPgwaDnsW2xw=",
          "dtype": "i2"
         },
         "yaxis": "y2"
        },
        {
         "line": {
          "color": "#FECB52"
         },
         "mode": "lines+markers",
         "name": "cs.ne",
         "type": "scatter",
         "x": {
          "bdata": "zgfPB9AH0QfSB9MH1AfVB9YH1wfYB9kH2gfbB9wH3QfeB98H4AfhB+IH4wfkB+UH5gfnB+gH",
          "dtype": "i2"
         },
         "xaxis": "x",
         "y": {
          "bdata": "AQABAAEAAgACAAcABgAHAAoAEgAmABgAHgAlADcAZgDCADIBnQHDAQ8CcQLAAigCWwJCAtsB",
          "dtype": "i2"
         },
         "yaxis": "y"
        },
        {
         "line": {
          "color": "#FECB52"
         },
         "mode": "lines+markers",
         "name": "cs.ne",
         "showlegend": false,
         "type": "scatter",
         "x": {
          "bdata": "zgfPB9AH0QfSB9MH1AfVB9YH1wfYB9kH2gfbB9wH3QfeB98H4AfhB+IH4wfkB+UH5gfnB+gH",
          "dtype": "i2"
         },
         "xaxis": "x2",
         "y": {
          "bdata": "AQABAAEAAgACAAcABgAHAAoAEgAmABgAHgAlADcAZgDCADIBnQHDAQ8CcQLAAigCWwJCAtsB",
          "dtype": "i2"
         },
         "yaxis": "y2"
        },
        {
         "line": {
          "color": "#636EFA"
         },
         "mode": "lines+markers",
         "name": "cs.ro",
         "type": "scatter",
         "x": {
          "bdata": "0AfWB9cH2AfZB9oH2wfcB90H3gffB+AH4QfiB+MH5AflB+YH5wfoBw==",
          "dtype": "i2"
         },
         "xaxis": "x",
         "y": {
          "bdata": "AQADAAQACwAGAAwAGAAhADcATgCPACUB/gHvApkEkAYzB+YHKQq0CA==",
          "dtype": "i2"
         },
         "yaxis": "y"
        },
        {
         "line": {
          "color": "#636EFA"
         },
         "mode": "lines+markers",
         "name": "cs.ro",
         "showlegend": false,
         "type": "scatter",
         "x": {
          "bdata": "0AfWB9cH2AfZB9oH2wfcB90H3gffB+AH4QfiB+MH5AflB+YH5wfoBw==",
          "dtype": "i2"
         },
         "xaxis": "x2",
         "y": {
          "bdata": "AQADAAQACwAGAAwAGAAhADcATgCPACUB/gHvApkEkAYzB+YHKQq0CA==",
          "dtype": "i2"
         },
         "yaxis": "y2"
        },
        {
         "line": {
          "color": "#EF553B"
         },
         "mode": "lines+markers",
         "name": "math.ds",
         "type": "scatter",
         "x": {
          "bdata": "ygfMB80HzgfPB9AH0QfSB9MH1AfVB9YH1wfYB9kH2gfbB9wH3QfeB98H4AfhB+IH4wfkB+UH5gfnB+gH",
          "dtype": "i2"
         },
         "xaxis": "x",
         "y": {
          "bdata": "AwADAAgAEQAsADAAVgBMAHkAlwDMAOUALQF1AYgB/gGQAgEDKgNIA9YDywPmAywE/QSeBUIF4ATDBOUC",
          "dtype": "i2"
         },
         "yaxis": "y"
        },
        {
         "line": {
          "color": "#EF553B"
         },
         "mode": "lines+markers",
         "name": "math.ds",
         "showlegend": false,
         "type": "scatter",
         "x": {
          "bdata": "ygfMB80HzgfPB9AH0QfSB9MH1AfVB9YH1wfYB9kH2gfbB9wH3QfeB98H4AfhB+IH4wfkB+UH5gfnB+gH",
          "dtype": "i2"
         },
         "xaxis": "x2",
         "y": {
          "bdata": "AwADAAgAEQAsADAAVgBMAHkAlwDMAOUALQF1AYgB/gGQAgEDKgNIA9YDywPmAywE/QSeBUIF4ATDBOUC",
          "dtype": "i2"
         },
         "yaxis": "y2"
        },
        {
         "line": {
          "color": "#00CC96"
         },
         "mode": "lines+markers",
         "name": "cs.hc",
         "type": "scatter",
         "x": {
          "bdata": "zgfPB9EH0gfTB9UH1gfXB9gH2QfaB9sH3AfdB94H3wfgB+EH4gfjB+QH5QfmB+cH6Ac=",
          "dtype": "i2"
         },
         "xaxis": "x",
         "y": {
          "bdata": "AQADAAIAAgAEAAIAEQAKAAQADwAJAA0AGwAiACYAUwB2AKIAAgGKAVYCZALRAjMESQQ=",
          "dtype": "i2"
         },
         "yaxis": "y"
        },
        {
         "line": {
          "color": "#00CC96"
         },
         "mode": "lines+markers",
         "name": "cs.hc",
         "showlegend": false,
         "type": "scatter",
         "x": {
          "bdata": "zgfPB9EH0gfTB9UH1gfXB9gH2QfaB9sH3AfdB94H3wfgB+EH4gfjB+QH5QfmB+cH6Ac=",
          "dtype": "i2"
         },
         "xaxis": "x2",
         "y": {
          "bdata": "AQADAAIAAgAEAAIAEQAKAAQADwAJAA0AGwAiACYAUwB2AKIAAgGKAVYCZALRAjMESQQ=",
          "dtype": "i2"
         },
         "yaxis": "y2"
        },
        {
         "line": {
          "color": "#AB63FA"
         },
         "mode": "lines+markers",
         "name": "cs.dm",
         "type": "scatter",
         "x": {
          "bdata": "zwfQB9EH0gfTB9QH1QfWB9cH2AfZB9oH2wfcB90H3gffB+AH4QfiB+MH5AflB+YH5wfoBw==",
          "dtype": "i2"
         },
         "xaxis": "x",
         "y": {
          "bdata": "BgAHAAoADAAPABkAHQAxAFEAggCbAM4AAAFAASQBFwF9AXwBgAGtAd8BGgLpAQMC9gEjAQ==",
          "dtype": "i2"
         },
         "yaxis": "y"
        },
        {
         "line": {
          "color": "#AB63FA"
         },
         "mode": "lines+markers",
         "name": "cs.dm",
         "showlegend": false,
         "type": "scatter",
         "x": {
          "bdata": "zwfQB9EH0gfTB9QH1QfWB9cH2AfZB9oH2wfcB90H3gffB+AH4QfiB+MH5AflB+YH5wfoBw==",
          "dtype": "i2"
         },
         "xaxis": "x2",
         "y": {
          "bdata": "BgAHAAoADAAPABkAHQAxAFEAggCbAM4AAAFAASQBFwF9AXwBgAGtAd8BGgLpAQMC9gEjAQ==",
          "dtype": "i2"
         },
         "yaxis": "y2"
        },
        {
         "line": {
          "color": "#FFA15A"
         },
         "mode": "lines+markers",
         "name": "cs.ma",
         "type": "scatter",
         "x": {
          "bdata": "0AfSB9MH1AfVB9YH1wfYB9kH2gfbB9wH3QfeB98H4AfhB+IH4wfkB+UH5gfnB+gH",
          "dtype": "i2"
         },
         "xaxis": "x",
         "y": {
          "bdata": "AwABAAEABAAGAAsADAAWABAAEwAnACsAMQA/AEMATAB2AM8AJgGWAaIBpQGdAYwB",
          "dtype": "i2"
         },
         "yaxis": "y"
        },
        {
         "line": {
          "color": "#FFA15A"
         },
         "mode": "lines+markers",
         "name": "cs.ma",
         "showlegend": false,
         "type": "scatter",
         "x": {
          "bdata": "0AfSB9MH1AfVB9YH1wfYB9kH2gfbB9wH3QfeB98H4AfhB+IH4wfkB+UH5gfnB+gH",
          "dtype": "i2"
         },
         "xaxis": "x2",
         "y": {
          "bdata": "AwABAAEABAAGAAsADAAWABAAEwAnACsAMQA/AEMATAB2AM8AJgGWAaIBpQGdAYwB",
          "dtype": "i2"
         },
         "yaxis": "y2"
        },
        {
         "line": {
          "color": "#19D3F3"
         },
         "mode": "lines+markers",
         "name": "cs.sd",
         "type": "scatter",
         "x": {
          "bdata": "0AfXB9gH2QfaB9sH3AfdB94H3wfgB+EH4gfjB+QH5QfmB+cH6Ac=",
          "dtype": "i2"
         },
         "xaxis": "x",
         "y": {
          "bdata": "AwABAAMABgAGAAMABgAPABIAJgBlALcASQEDAgADXwMkBMQDHAM=",
          "dtype": "i2"
         },
         "yaxis": "y"
        },
        {
         "line": {
          "color": "#19D3F3"
         },
         "mode": "lines+markers",
         "name": "cs.sd",
         "showlegend": false,
         "type": "scatter",
         "x": {
          "bdata": "0AfXB9gH2QfaB9sH3AfdB94H3wfgB+EH4gfjB+QH5QfmB+cH6Ac=",
          "dtype": "i2"
         },
         "xaxis": "x2",
         "y": {
          "bdata": "AwABAAMABgAGAAMABgAPABIAJgBlALcASQEDAgADXwMkBMQDHAM=",
          "dtype": "i2"
         },
         "yaxis": "y2"
        },
        {
         "line": {
          "color": "#FF6692"
         },
         "mode": "lines+markers",
         "name": "math.qa",
         "type": "scatter",
         "x": {
          "bdata": "ygfLB8wHzQfOB88H0AfRB9IH0wfUB9UH1gfXB9gH2QfaB9sH3AfdB94H3wfgB+EH4gfjB+QH5QfmB+cH6Ac=",
          "dtype": "i2"
         },
         "xaxis": "x",
         "y": {
          "bdata": "UAB9AKcAywC1AMcA0gDwABYBFwEfASwBQgEwAUYBWgF+AV8BagF5AYcBmAG8AakBpgHJAcMBsAGZAakBBwE=",
          "dtype": "i2"
         },
         "yaxis": "y"
        },
        {
         "line": {
          "color": "#FF6692"
         },
         "mode": "lines+markers",
         "name": "math.qa",
         "showlegend": false,
         "type": "scatter",
         "x": {
          "bdata": "ygfLB8wHzQfOB88H0AfRB9IH0wfUB9UH1gfXB9gH2QfaB9sH3AfdB94H3wfgB+EH4gfjB+QH5QfmB+cH6Ac=",
          "dtype": "i2"
         },
         "xaxis": "x2",
         "y": {
          "bdata": "UAB9AKcAywC1AMcA0gDwABYBFwEfASwBQgEwAUYBWgF+AV8BagF5AYcBmAG8AakBpgHJAcMBsAGZAakBBwE=",
          "dtype": "i2"
         },
         "yaxis": "y2"
        },
        {
         "line": {
          "color": "#B6E880"
         },
         "mode": "lines+markers",
         "name": "q-fin.st",
         "type": "scatter",
         "x": {
          "bdata": "zQfOB88H0AfRB9IH0wfUB9UH1gfXB9gH2QfaB9sH3AfdB94H3wfgB+EH4gfjB+QH5QfmB+cH6Ac=",
          "dtype": "i2"
         },
         "xaxis": "x",
         "y": {
          "bdata": "BgIFCAkHEhYeMB8gJjgiMEU0NTg1RWFsWVxTSg==",
          "dtype": "i1"
         },
         "yaxis": "y"
        },
        {
         "line": {
          "color": "#B6E880"
         },
         "mode": "lines+markers",
         "name": "q-fin.st",
         "showlegend": false,
         "type": "scatter",
         "x": {
          "bdata": "zQfOB88H0AfRB9IH0wfUB9UH1gfXB9gH2QfaB9sH3AfdB94H3wfgB+EH4gfjB+QH5QfmB+cH6Ac=",
          "dtype": "i2"
         },
         "xaxis": "x2",
         "y": {
          "bdata": "BgIFCAkHEhYeMB8gJjgiMEU0NTg1RWFsWVxTSg==",
          "dtype": "i1"
         },
         "yaxis": "y2"
        },
        {
         "line": {
          "color": "#FF97FF"
         },
         "mode": "lines+markers",
         "name": "q-fin.mf",
         "type": "scatter",
         "x": {
          "bdata": "3gffB+AH4QfiB+MH5AflB+YH5wfoBw==",
          "dtype": "i2"
         },
         "xaxis": "x",
         "y": {
          "bdata": "UQB0AG8AcgCCAKEAtQCUAIMAhgBTAA==",
          "dtype": "i2"
         },
         "yaxis": "y"
        },
        {
         "line": {
          "color": "#FF97FF"
         },
         "mode": "lines+markers",
         "name": "q-fin.mf",
         "showlegend": false,
         "type": "scatter",
         "x": {
          "bdata": "3gffB+AH4QfiB+MH5AflB+YH5wfoBw==",
          "dtype": "i2"
         },
         "xaxis": "x2",
         "y": {
          "bdata": "UQB0AG8AcgCCAKEAtQCUAIMAhgBTAA==",
          "dtype": "i2"
         },
         "yaxis": "y2"
        },
        {
         "line": {
          "color": "#FECB52"
         },
         "mode": "lines+markers",
         "name": "q-fin.cp",
         "type": "scatter",
         "x": {
          "bdata": "zgfPB9AH0gfTB9UH1gfXB9gH2QfaB9sH3AfdB94H3wfgB+EH4gfjB+QH5QfmB+cH6Ac=",
          "dtype": "i2"
         },
         "xaxis": "x",
         "y": {
          "bdata": "AQEBAQEEBAcQLS0xLCwgMiRBQFFmVWpmVA==",
          "dtype": "i1"
         },
         "yaxis": "y"
        },
        {
         "line": {
          "color": "#FECB52"
         },
         "mode": "lines+markers",
         "name": "q-fin.cp",
         "showlegend": false,
         "type": "scatter",
         "x": {
          "bdata": "zgfPB9AH0gfTB9UH1gfXB9gH2QfaB9sH3AfdB94H3wfgB+EH4gfjB+QH5QfmB+cH6Ac=",
          "dtype": "i2"
         },
         "xaxis": "x2",
         "y": {
          "bdata": "AQEBAQEEBAcQLS0xLCwgMiRBQFFmVWpmVA==",
          "dtype": "i1"
         },
         "yaxis": "y2"
        },
        {
         "line": {
          "color": "#636EFA"
         },
         "mode": "lines+markers",
         "name": "stat.th",
         "type": "scatter",
         "x": {
          "bdata": "ygfOB9AH0QfSB9MH1AfVB9YH1wfYB9kH2gfbB9wH3QfeB98H4AfhB+IH4wfkB+UH5gfnB+gH",
          "dtype": "i2"
         },
         "xaxis": "x",
         "y": {
          "bdata": "AQABAAMABwAIAA8AKgBcAI4AqADrAOoAIQHEAdsB1gFGAnUCiALPAuUCyQODBBcENwTAA1gC",
          "dtype": "i2"
         },
         "yaxis": "y"
        },
        {
         "line": {
          "color": "#636EFA"
         },
         "mode": "lines+markers",
         "name": "stat.th",
         "showlegend": false,
         "type": "scatter",
         "x": {
          "bdata": "ygfOB9AH0QfSB9MH1AfVB9YH1wfYB9kH2gfbB9wH3QfeB98H4AfhB+IH4wfkB+UH5gfnB+gH",
          "dtype": "i2"
         },
         "xaxis": "x2",
         "y": {
          "bdata": "AQABAAMABwAIAA8AKgBcAI4AqADrAOoAIQHEAdsB1gFGAnUCiALPAuUCyQODBBcENwTAA1gC",
          "dtype": "i2"
         },
         "yaxis": "y2"
        }
       ],
       "layout": {
        "annotations": [
         {
          "font": {
           "size": 16
          },
          "showarrow": false,
          "text": "Linear-Scale",
          "x": 0.225,
          "xanchor": "center",
          "xref": "paper",
          "y": 1,
          "yanchor": "bottom",
          "yref": "paper"
         },
         {
          "font": {
           "size": 16
          },
          "showarrow": false,
          "text": "Log-Scale",
          "x": 0.775,
          "xanchor": "center",
          "xref": "paper",
          "y": 1,
          "yanchor": "bottom",
          "yref": "paper"
         }
        ],
        "height": 550,
        "legend": {
         "title": {
          "text": "Categories"
         }
        },
        "template": {
         "data": {
          "bar": [
           {
            "error_x": {
             "color": "#2a3f5f"
            },
            "error_y": {
             "color": "#2a3f5f"
            },
            "marker": {
             "line": {
              "color": "white",
              "width": 0.5
             },
             "pattern": {
              "fillmode": "overlay",
              "size": 10,
              "solidity": 0.2
             }
            },
            "type": "bar"
           }
          ],
          "barpolar": [
           {
            "marker": {
             "line": {
              "color": "white",
              "width": 0.5
             },
             "pattern": {
              "fillmode": "overlay",
              "size": 10,
              "solidity": 0.2
             }
            },
            "type": "barpolar"
           }
          ],
          "carpet": [
           {
            "aaxis": {
             "endlinecolor": "#2a3f5f",
             "gridcolor": "#C8D4E3",
             "linecolor": "#C8D4E3",
             "minorgridcolor": "#C8D4E3",
             "startlinecolor": "#2a3f5f"
            },
            "baxis": {
             "endlinecolor": "#2a3f5f",
             "gridcolor": "#C8D4E3",
             "linecolor": "#C8D4E3",
             "minorgridcolor": "#C8D4E3",
             "startlinecolor": "#2a3f5f"
            },
            "type": "carpet"
           }
          ],
          "choropleth": [
           {
            "colorbar": {
             "outlinewidth": 0,
             "ticks": ""
            },
            "type": "choropleth"
           }
          ],
          "contour": [
           {
            "colorbar": {
             "outlinewidth": 0,
             "ticks": ""
            },
            "colorscale": [
             [
              0,
              "#0d0887"
             ],
             [
              0.1111111111111111,
              "#46039f"
             ],
             [
              0.2222222222222222,
              "#7201a8"
             ],
             [
              0.3333333333333333,
              "#9c179e"
             ],
             [
              0.4444444444444444,
              "#bd3786"
             ],
             [
              0.5555555555555556,
              "#d8576b"
             ],
             [
              0.6666666666666666,
              "#ed7953"
             ],
             [
              0.7777777777777778,
              "#fb9f3a"
             ],
             [
              0.8888888888888888,
              "#fdca26"
             ],
             [
              1,
              "#f0f921"
             ]
            ],
            "type": "contour"
           }
          ],
          "contourcarpet": [
           {
            "colorbar": {
             "outlinewidth": 0,
             "ticks": ""
            },
            "type": "contourcarpet"
           }
          ],
          "heatmap": [
           {
            "colorbar": {
             "outlinewidth": 0,
             "ticks": ""
            },
            "colorscale": [
             [
              0,
              "#0d0887"
             ],
             [
              0.1111111111111111,
              "#46039f"
             ],
             [
              0.2222222222222222,
              "#7201a8"
             ],
             [
              0.3333333333333333,
              "#9c179e"
             ],
             [
              0.4444444444444444,
              "#bd3786"
             ],
             [
              0.5555555555555556,
              "#d8576b"
             ],
             [
              0.6666666666666666,
              "#ed7953"
             ],
             [
              0.7777777777777778,
              "#fb9f3a"
             ],
             [
              0.8888888888888888,
              "#fdca26"
             ],
             [
              1,
              "#f0f921"
             ]
            ],
            "type": "heatmap"
           }
          ],
          "histogram": [
           {
            "marker": {
             "pattern": {
              "fillmode": "overlay",
              "size": 10,
              "solidity": 0.2
             }
            },
            "type": "histogram"
           }
          ],
          "histogram2d": [
           {
            "colorbar": {
             "outlinewidth": 0,
             "ticks": ""
            },
            "colorscale": [
             [
              0,
              "#0d0887"
             ],
             [
              0.1111111111111111,
              "#46039f"
             ],
             [
              0.2222222222222222,
              "#7201a8"
             ],
             [
              0.3333333333333333,
              "#9c179e"
             ],
             [
              0.4444444444444444,
              "#bd3786"
             ],
             [
              0.5555555555555556,
              "#d8576b"
             ],
             [
              0.6666666666666666,
              "#ed7953"
             ],
             [
              0.7777777777777778,
              "#fb9f3a"
             ],
             [
              0.8888888888888888,
              "#fdca26"
             ],
             [
              1,
              "#f0f921"
             ]
            ],
            "type": "histogram2d"
           }
          ],
          "histogram2dcontour": [
           {
            "colorbar": {
             "outlinewidth": 0,
             "ticks": ""
            },
            "colorscale": [
             [
              0,
              "#0d0887"
             ],
             [
              0.1111111111111111,
              "#46039f"
             ],
             [
              0.2222222222222222,
              "#7201a8"
             ],
             [
              0.3333333333333333,
              "#9c179e"
             ],
             [
              0.4444444444444444,
              "#bd3786"
             ],
             [
              0.5555555555555556,
              "#d8576b"
             ],
             [
              0.6666666666666666,
              "#ed7953"
             ],
             [
              0.7777777777777778,
              "#fb9f3a"
             ],
             [
              0.8888888888888888,
              "#fdca26"
             ],
             [
              1,
              "#f0f921"
             ]
            ],
            "type": "histogram2dcontour"
           }
          ],
          "mesh3d": [
           {
            "colorbar": {
             "outlinewidth": 0,
             "ticks": ""
            },
            "type": "mesh3d"
           }
          ],
          "parcoords": [
           {
            "line": {
             "colorbar": {
              "outlinewidth": 0,
              "ticks": ""
             }
            },
            "type": "parcoords"
           }
          ],
          "pie": [
           {
            "automargin": true,
            "type": "pie"
           }
          ],
          "scatter": [
           {
            "fillpattern": {
             "fillmode": "overlay",
             "size": 10,
             "solidity": 0.2
            },
            "type": "scatter"
           }
          ],
          "scatter3d": [
           {
            "line": {
             "colorbar": {
              "outlinewidth": 0,
              "ticks": ""
             }
            },
            "marker": {
             "colorbar": {
              "outlinewidth": 0,
              "ticks": ""
             }
            },
            "type": "scatter3d"
           }
          ],
          "scattercarpet": [
           {
            "marker": {
             "colorbar": {
              "outlinewidth": 0,
              "ticks": ""
             }
            },
            "type": "scattercarpet"
           }
          ],
          "scattergeo": [
           {
            "marker": {
             "colorbar": {
              "outlinewidth": 0,
              "ticks": ""
             }
            },
            "type": "scattergeo"
           }
          ],
          "scattergl": [
           {
            "marker": {
             "colorbar": {
              "outlinewidth": 0,
              "ticks": ""
             }
            },
            "type": "scattergl"
           }
          ],
          "scattermap": [
           {
            "marker": {
             "colorbar": {
              "outlinewidth": 0,
              "ticks": ""
             }
            },
            "type": "scattermap"
           }
          ],
          "scattermapbox": [
           {
            "marker": {
             "colorbar": {
              "outlinewidth": 0,
              "ticks": ""
             }
            },
            "type": "scattermapbox"
           }
          ],
          "scatterpolar": [
           {
            "marker": {
             "colorbar": {
              "outlinewidth": 0,
              "ticks": ""
             }
            },
            "type": "scatterpolar"
           }
          ],
          "scatterpolargl": [
           {
            "marker": {
             "colorbar": {
              "outlinewidth": 0,
              "ticks": ""
             }
            },
            "type": "scatterpolargl"
           }
          ],
          "scatterternary": [
           {
            "marker": {
             "colorbar": {
              "outlinewidth": 0,
              "ticks": ""
             }
            },
            "type": "scatterternary"
           }
          ],
          "surface": [
           {
            "colorbar": {
             "outlinewidth": 0,
             "ticks": ""
            },
            "colorscale": [
             [
              0,
              "#0d0887"
             ],
             [
              0.1111111111111111,
              "#46039f"
             ],
             [
              0.2222222222222222,
              "#7201a8"
             ],
             [
              0.3333333333333333,
              "#9c179e"
             ],
             [
              0.4444444444444444,
              "#bd3786"
             ],
             [
              0.5555555555555556,
              "#d8576b"
             ],
             [
              0.6666666666666666,
              "#ed7953"
             ],
             [
              0.7777777777777778,
              "#fb9f3a"
             ],
             [
              0.8888888888888888,
              "#fdca26"
             ],
             [
              1,
              "#f0f921"
             ]
            ],
            "type": "surface"
           }
          ],
          "table": [
           {
            "cells": {
             "fill": {
              "color": "#EBF0F8"
             },
             "line": {
              "color": "white"
             }
            },
            "header": {
             "fill": {
              "color": "#C8D4E3"
             },
             "line": {
              "color": "white"
             }
            },
            "type": "table"
           }
          ]
         },
         "layout": {
          "annotationdefaults": {
           "arrowcolor": "#2a3f5f",
           "arrowhead": 0,
           "arrowwidth": 1
          },
          "autotypenumbers": "strict",
          "coloraxis": {
           "colorbar": {
            "outlinewidth": 0,
            "ticks": ""
           }
          },
          "colorscale": {
           "diverging": [
            [
             0,
             "#8e0152"
            ],
            [
             0.1,
             "#c51b7d"
            ],
            [
             0.2,
             "#de77ae"
            ],
            [
             0.3,
             "#f1b6da"
            ],
            [
             0.4,
             "#fde0ef"
            ],
            [
             0.5,
             "#f7f7f7"
            ],
            [
             0.6,
             "#e6f5d0"
            ],
            [
             0.7,
             "#b8e186"
            ],
            [
             0.8,
             "#7fbc41"
            ],
            [
             0.9,
             "#4d9221"
            ],
            [
             1,
             "#276419"
            ]
           ],
           "sequential": [
            [
             0,
             "#0d0887"
            ],
            [
             0.1111111111111111,
             "#46039f"
            ],
            [
             0.2222222222222222,
             "#7201a8"
            ],
            [
             0.3333333333333333,
             "#9c179e"
            ],
            [
             0.4444444444444444,
             "#bd3786"
            ],
            [
             0.5555555555555556,
             "#d8576b"
            ],
            [
             0.6666666666666666,
             "#ed7953"
            ],
            [
             0.7777777777777778,
             "#fb9f3a"
            ],
            [
             0.8888888888888888,
             "#fdca26"
            ],
            [
             1,
             "#f0f921"
            ]
           ],
           "sequentialminus": [
            [
             0,
             "#0d0887"
            ],
            [
             0.1111111111111111,
             "#46039f"
            ],
            [
             0.2222222222222222,
             "#7201a8"
            ],
            [
             0.3333333333333333,
             "#9c179e"
            ],
            [
             0.4444444444444444,
             "#bd3786"
            ],
            [
             0.5555555555555556,
             "#d8576b"
            ],
            [
             0.6666666666666666,
             "#ed7953"
            ],
            [
             0.7777777777777778,
             "#fb9f3a"
            ],
            [
             0.8888888888888888,
             "#fdca26"
            ],
            [
             1,
             "#f0f921"
            ]
           ]
          },
          "colorway": [
           "#636efa",
           "#EF553B",
           "#00cc96",
           "#ab63fa",
           "#FFA15A",
           "#19d3f3",
           "#FF6692",
           "#B6E880",
           "#FF97FF",
           "#FECB52"
          ],
          "font": {
           "color": "#2a3f5f"
          },
          "geo": {
           "bgcolor": "white",
           "lakecolor": "white",
           "landcolor": "white",
           "showlakes": true,
           "showland": true,
           "subunitcolor": "#C8D4E3"
          },
          "hoverlabel": {
           "align": "left"
          },
          "hovermode": "closest",
          "mapbox": {
           "style": "light"
          },
          "paper_bgcolor": "white",
          "plot_bgcolor": "white",
          "polar": {
           "angularaxis": {
            "gridcolor": "#EBF0F8",
            "linecolor": "#EBF0F8",
            "ticks": ""
           },
           "bgcolor": "white",
           "radialaxis": {
            "gridcolor": "#EBF0F8",
            "linecolor": "#EBF0F8",
            "ticks": ""
           }
          },
          "scene": {
           "xaxis": {
            "backgroundcolor": "white",
            "gridcolor": "#DFE8F3",
            "gridwidth": 2,
            "linecolor": "#EBF0F8",
            "showbackground": true,
            "ticks": "",
            "zerolinecolor": "#EBF0F8"
           },
           "yaxis": {
            "backgroundcolor": "white",
            "gridcolor": "#DFE8F3",
            "gridwidth": 2,
            "linecolor": "#EBF0F8",
            "showbackground": true,
            "ticks": "",
            "zerolinecolor": "#EBF0F8"
           },
           "zaxis": {
            "backgroundcolor": "white",
            "gridcolor": "#DFE8F3",
            "gridwidth": 2,
            "linecolor": "#EBF0F8",
            "showbackground": true,
            "ticks": "",
            "zerolinecolor": "#EBF0F8"
           }
          },
          "shapedefaults": {
           "line": {
            "color": "#2a3f5f"
           }
          },
          "ternary": {
           "aaxis": {
            "gridcolor": "#DFE8F3",
            "linecolor": "#A2B1C6",
            "ticks": ""
           },
           "baxis": {
            "gridcolor": "#DFE8F3",
            "linecolor": "#A2B1C6",
            "ticks": ""
           },
           "bgcolor": "white",
           "caxis": {
            "gridcolor": "#DFE8F3",
            "linecolor": "#A2B1C6",
            "ticks": ""
           }
          },
          "title": {
           "x": 0.05
          },
          "xaxis": {
           "automargin": true,
           "gridcolor": "#EBF0F8",
           "linecolor": "#EBF0F8",
           "ticks": "",
           "title": {
            "standoff": 15
           },
           "zerolinecolor": "#EBF0F8",
           "zerolinewidth": 2
          },
          "yaxis": {
           "automargin": true,
           "gridcolor": "#EBF0F8",
           "linecolor": "#EBF0F8",
           "ticks": "",
           "title": {
            "standoff": 15
           },
           "zerolinecolor": "#EBF0F8",
           "zerolinewidth": 2
          }
         }
        },
        "title": {
         "font": {
          "size": 25
         },
         "text": "Number of corrective Publications per Year by Category",
         "x": 0.5
        },
        "xaxis": {
         "anchor": "y",
         "domain": [
          0,
          0.45
         ],
         "title": {
          "text": "Year of Publication"
         }
        },
        "xaxis2": {
         "anchor": "y2",
         "domain": [
          0.55,
          1
         ],
         "title": {
          "text": "Year of Publication"
         }
        },
        "yaxis": {
         "anchor": "x",
         "domain": [
          0,
          1
         ],
         "title": {
          "text": "# of Publications per Year"
         }
        },
        "yaxis2": {
         "anchor": "x2",
         "domain": [
          0,
          1
         ],
         "title": {
          "text": "# of Publications per Year"
         },
         "type": "log"
        }
       }
      }
     },
     "metadata": {},
     "output_type": "display_data"
    },
    {
     "data": {
      "application/vnd.plotly.v1+json": {
       "config": {
        "plotlyServerURL": "https://plot.ly"
       },
       "data": [
        {
         "colorbar": {
          "title": {
           "text": "Count"
          }
         },
         "colorscale": [
          [
           0,
           "rgb(5,48,97)"
          ],
          [
           0.1,
           "rgb(33,102,172)"
          ],
          [
           0.2,
           "rgb(67,147,195)"
          ],
          [
           0.3,
           "rgb(146,197,222)"
          ],
          [
           0.4,
           "rgb(209,229,240)"
          ],
          [
           0.5,
           "rgb(247,247,247)"
          ],
          [
           0.6,
           "rgb(253,219,199)"
          ],
          [
           0.7,
           "rgb(244,165,130)"
          ],
          [
           0.8,
           "rgb(214,96,77)"
          ],
          [
           0.9,
           "rgb(178,24,43)"
          ],
          [
           1,
           "rgb(103,0,31)"
          ]
         ],
         "text": {
          "bdata": "AQAAAAAAAAABAAAAAwAHAAgADwAqAFwAjgCoAOsA6gAhAcQB2wHWAUYCdQKIAs8C5QLJA4MEFwQ3BMADWAIAAAAAAAAAAAAAAAAAAAAAAAAAAAEAAQAAABUAJwBBAHMA5gBgATECiwKvA0gFGgioEAEZtxqnC8AK0wqMBwAAAAAAAAYAAgAFAAgACQAHABIAFgAeADAAHwAgACYAOAAiADAARQA0ADUAOAA1AEUAYQBsAFkAXABTAEoAAAAAAAAAAAAAAAAAAAAAAAAAAAAAAAAAAAAAAAAAAAAAAAAAAAAAAFEAdABvAHIAggChALUAlACDAIYAUwAAAAAAAAAAAAEAAQABAAAAAQABAAAABAAEAAcAEAAtAC0AMQAsACwAIAAyACQAQQBAAFEAZgBVAGoAZgBUAAEAAAAAAAAAAQAAAAMABwAIAA8AKgBcAI4AqADrAOoAIQHEAdsB1gFGAnUCiALPAuUCyQODBBcENwTAA1gCUAB9AKcAywC1AMcA0gDwABYBFwEfASwBQgEwAUYBWgF+AV8BagF5AYcBmAG8AakBpgHJAcMBsAGZAakBBwEBAAEAAQADABYAJgA0AE4AawCZAO4AVgHeAVACqAIkA+YD9QRdBfAFDQbVBt0GFwfdBykIBAmSCA8IaQd5BAAAAAAAAAAAAwAKAAgACgAOABwAIgApADYAWgB4ALwAJAG8ARQCxAJqAzQEqASNBf0G7wi3Co4K9gn0CSAGAwAAAAMACAARACwAMABWAEwAeQCXAMwA5QAtAXUBiAH+AZACAQMqA0gD1gPLA+YDLAT9BJ4FQgXgBMME5QIAAAAAAAAAAAAAAAADAAAAAAAAAAAAAAAAAAEAAwAGAAYAAwAGAA8AEgAmAGUAtwBJAQMCAANfAyQExAMcAwAAAAAAAAAAAAAAAAEAAAAAAAAAAAAAAAMABAALAAYADAAYACEANwBOAI8AJQH+Ae8CmQSQBjMH5gcpCrQIAAAAAAAAAAABAAEAAQACAAIABwAGAAcACgASACYAGAAeACUANwBmAMIAMgGdAcMBDwJxAsACKAJbAkIC2wEAAAAAAAAAAAAAAAADAAAAAQABAAQABgALAAwAFgAQABMAJwArADEAPwBDAEwAdgDPACYBlgGiAaUBnQGMAQAAAAAAAAEAAAACAAcAAwADAAQABwAQAA8AFgAyAFUAhwDBAHYBSgL6AtsE2AZXCmIUtyNBMMIuTTEKOJ8uAAAAAAAAAAABAAMAAAACAAIABAAAAAIAEQAKAAQADwAJAA0AGwAiACYAUwB2AKIAAgGKAVYCZALRAjMESQQAAAAAAAAAAAAABgAHAAoADAAPABkAHQAxAFEAggCbAM4AAAFAASQBFwF9AXwBgAGtAd8BGgLpAQMC9gEjAQAAAAAAAAAAAAABAAAAAgABAAUACQAHAAoACwAWACEAMQBhAIQA9QDjAa4D8AWZCTcOFxNFGQ0c/R5HJwwjJAAmABUADwAPAAUAAwAFAAMAAwAFAAMAAwARAA4ADwAPAB8AKgBaAJ0AWgG8Ap4DMQUWCJoLPgwaDnsW2xwAAAAAAQABAAkAEAARAB0AIgAlACIAPABSAFgAeQCUAL8A2ADdAB0BDgEjAT8BQgE1AYIBqAGcAXsBgQESAQAAAAAAAAAAAgAHABMACwAbABUAHgAbADEAKQBRAF4AYgCNAK0A8QDzAJ0BAAPBBPoGxAdbDBkUwxdCI7Un",
          "dtype": "i2",
          "shape": "21, 31"
         },
         "texttemplate": "%{text}",
         "type": "heatmap",
         "x": {
          "bdata": "ygfLB8wHzQfOB88H0AfRB9IH0wfUB9UH1gfXB9gH2QfaB9sH3AfdB94H3wfgB+EH4gfjB+QH5QfmB+cH6Ac=",
          "dtype": "i2"
         },
         "y": [
          "stat.th",
          "stat.ml",
          "q-fin.st",
          "q-fin.mf",
          "q-fin.cp",
          "math.st",
          "math.qa",
          "math.pr",
          "math.oc",
          "math.ds",
          "cs.sd",
          "cs.ro",
          "cs.ne",
          "cs.ma",
          "cs.lg",
          "cs.hc",
          "cs.dm",
          "cs.cv",
          "cs.cl",
          "cs.cc",
          "cs.ai"
         ],
         "z": {
          "bdata": "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",
          "dtype": "f8",
          "shape": "21, 31"
         }
        }
       ],
       "layout": {
        "height": 800,
        "template": {
         "data": {
          "bar": [
           {
            "error_x": {
             "color": "#2a3f5f"
            },
            "error_y": {
             "color": "#2a3f5f"
            },
            "marker": {
             "line": {
              "color": "white",
              "width": 0.5
             },
             "pattern": {
              "fillmode": "overlay",
              "size": 10,
              "solidity": 0.2
             }
            },
            "type": "bar"
           }
          ],
          "barpolar": [
           {
            "marker": {
             "line": {
              "color": "white",
              "width": 0.5
             },
             "pattern": {
              "fillmode": "overlay",
              "size": 10,
              "solidity": 0.2
             }
            },
            "type": "barpolar"
           }
          ],
          "carpet": [
           {
            "aaxis": {
             "endlinecolor": "#2a3f5f",
             "gridcolor": "#C8D4E3",
             "linecolor": "#C8D4E3",
             "minorgridcolor": "#C8D4E3",
             "startlinecolor": "#2a3f5f"
            },
            "baxis": {
             "endlinecolor": "#2a3f5f",
             "gridcolor": "#C8D4E3",
             "linecolor": "#C8D4E3",
             "minorgridcolor": "#C8D4E3",
             "startlinecolor": "#2a3f5f"
            },
            "type": "carpet"
           }
          ],
          "choropleth": [
           {
            "colorbar": {
             "outlinewidth": 0,
             "ticks": ""
            },
            "type": "choropleth"
           }
          ],
          "contour": [
           {
            "colorbar": {
             "outlinewidth": 0,
             "ticks": ""
            },
            "colorscale": [
             [
              0,
              "#0d0887"
             ],
             [
              0.1111111111111111,
              "#46039f"
             ],
             [
              0.2222222222222222,
              "#7201a8"
             ],
             [
              0.3333333333333333,
              "#9c179e"
             ],
             [
              0.4444444444444444,
              "#bd3786"
             ],
             [
              0.5555555555555556,
              "#d8576b"
             ],
             [
              0.6666666666666666,
              "#ed7953"
             ],
             [
              0.7777777777777778,
              "#fb9f3a"
             ],
             [
              0.8888888888888888,
              "#fdca26"
             ],
             [
              1,
              "#f0f921"
             ]
            ],
            "type": "contour"
           }
          ],
          "contourcarpet": [
           {
            "colorbar": {
             "outlinewidth": 0,
             "ticks": ""
            },
            "type": "contourcarpet"
           }
          ],
          "heatmap": [
           {
            "colorbar": {
             "outlinewidth": 0,
             "ticks": ""
            },
            "colorscale": [
             [
              0,
              "#0d0887"
             ],
             [
              0.1111111111111111,
              "#46039f"
             ],
             [
              0.2222222222222222,
              "#7201a8"
             ],
             [
              0.3333333333333333,
              "#9c179e"
             ],
             [
              0.4444444444444444,
              "#bd3786"
             ],
             [
              0.5555555555555556,
              "#d8576b"
             ],
             [
              0.6666666666666666,
              "#ed7953"
             ],
             [
              0.7777777777777778,
              "#fb9f3a"
             ],
             [
              0.8888888888888888,
              "#fdca26"
             ],
             [
              1,
              "#f0f921"
             ]
            ],
            "type": "heatmap"
           }
          ],
          "histogram": [
           {
            "marker": {
             "pattern": {
              "fillmode": "overlay",
              "size": 10,
              "solidity": 0.2
             }
            },
            "type": "histogram"
           }
          ],
          "histogram2d": [
           {
            "colorbar": {
             "outlinewidth": 0,
             "ticks": ""
            },
            "colorscale": [
             [
              0,
              "#0d0887"
             ],
             [
              0.1111111111111111,
              "#46039f"
             ],
             [
              0.2222222222222222,
              "#7201a8"
             ],
             [
              0.3333333333333333,
              "#9c179e"
             ],
             [
              0.4444444444444444,
              "#bd3786"
             ],
             [
              0.5555555555555556,
              "#d8576b"
             ],
             [
              0.6666666666666666,
              "#ed7953"
             ],
             [
              0.7777777777777778,
              "#fb9f3a"
             ],
             [
              0.8888888888888888,
              "#fdca26"
             ],
             [
              1,
              "#f0f921"
             ]
            ],
            "type": "histogram2d"
           }
          ],
          "histogram2dcontour": [
           {
            "colorbar": {
             "outlinewidth": 0,
             "ticks": ""
            },
            "colorscale": [
             [
              0,
              "#0d0887"
             ],
             [
              0.1111111111111111,
              "#46039f"
             ],
             [
              0.2222222222222222,
              "#7201a8"
             ],
             [
              0.3333333333333333,
              "#9c179e"
             ],
             [
              0.4444444444444444,
              "#bd3786"
             ],
             [
              0.5555555555555556,
              "#d8576b"
             ],
             [
              0.6666666666666666,
              "#ed7953"
             ],
             [
              0.7777777777777778,
              "#fb9f3a"
             ],
             [
              0.8888888888888888,
              "#fdca26"
             ],
             [
              1,
              "#f0f921"
             ]
            ],
            "type": "histogram2dcontour"
           }
          ],
          "mesh3d": [
           {
            "colorbar": {
             "outlinewidth": 0,
             "ticks": ""
            },
            "type": "mesh3d"
           }
          ],
          "parcoords": [
           {
            "line": {
             "colorbar": {
              "outlinewidth": 0,
              "ticks": ""
             }
            },
            "type": "parcoords"
           }
          ],
          "pie": [
           {
            "automargin": true,
            "type": "pie"
           }
          ],
          "scatter": [
           {
            "fillpattern": {
             "fillmode": "overlay",
             "size": 10,
             "solidity": 0.2
            },
            "type": "scatter"
           }
          ],
          "scatter3d": [
           {
            "line": {
             "colorbar": {
              "outlinewidth": 0,
              "ticks": ""
             }
            },
            "marker": {
             "colorbar": {
              "outlinewidth": 0,
              "ticks": ""
             }
            },
            "type": "scatter3d"
           }
          ],
          "scattercarpet": [
           {
            "marker": {
             "colorbar": {
              "outlinewidth": 0,
              "ticks": ""
             }
            },
            "type": "scattercarpet"
           }
          ],
          "scattergeo": [
           {
            "marker": {
             "colorbar": {
              "outlinewidth": 0,
              "ticks": ""
             }
            },
            "type": "scattergeo"
           }
          ],
          "scattergl": [
           {
            "marker": {
             "colorbar": {
              "outlinewidth": 0,
              "ticks": ""
             }
            },
            "type": "scattergl"
           }
          ],
          "scattermap": [
           {
            "marker": {
             "colorbar": {
              "outlinewidth": 0,
              "ticks": ""
             }
            },
            "type": "scattermap"
           }
          ],
          "scattermapbox": [
           {
            "marker": {
             "colorbar": {
              "outlinewidth": 0,
              "ticks": ""
             }
            },
            "type": "scattermapbox"
           }
          ],
          "scatterpolar": [
           {
            "marker": {
             "colorbar": {
              "outlinewidth": 0,
              "ticks": ""
             }
            },
            "type": "scatterpolar"
           }
          ],
          "scatterpolargl": [
           {
            "marker": {
             "colorbar": {
              "outlinewidth": 0,
              "ticks": ""
             }
            },
            "type": "scatterpolargl"
           }
          ],
          "scatterternary": [
           {
            "marker": {
             "colorbar": {
              "outlinewidth": 0,
              "ticks": ""
             }
            },
            "type": "scatterternary"
           }
          ],
          "surface": [
           {
            "colorbar": {
             "outlinewidth": 0,
             "ticks": ""
            },
            "colorscale": [
             [
              0,
              "#0d0887"
             ],
             [
              0.1111111111111111,
              "#46039f"
             ],
             [
              0.2222222222222222,
              "#7201a8"
             ],
             [
              0.3333333333333333,
              "#9c179e"
             ],
             [
              0.4444444444444444,
              "#bd3786"
             ],
             [
              0.5555555555555556,
              "#d8576b"
             ],
             [
              0.6666666666666666,
              "#ed7953"
             ],
             [
              0.7777777777777778,
              "#fb9f3a"
             ],
             [
              0.8888888888888888,
              "#fdca26"
             ],
             [
              1,
              "#f0f921"
             ]
            ],
            "type": "surface"
           }
          ],
          "table": [
           {
            "cells": {
             "fill": {
              "color": "#EBF0F8"
             },
             "line": {
              "color": "white"
             }
            },
            "header": {
             "fill": {
              "color": "#C8D4E3"
             },
             "line": {
              "color": "white"
             }
            },
            "type": "table"
           }
          ]
         },
         "layout": {
          "annotationdefaults": {
           "arrowcolor": "#2a3f5f",
           "arrowhead": 0,
           "arrowwidth": 1
          },
          "autotypenumbers": "strict",
          "coloraxis": {
           "colorbar": {
            "outlinewidth": 0,
            "ticks": ""
           }
          },
          "colorscale": {
           "diverging": [
            [
             0,
             "#8e0152"
            ],
            [
             0.1,
             "#c51b7d"
            ],
            [
             0.2,
             "#de77ae"
            ],
            [
             0.3,
             "#f1b6da"
            ],
            [
             0.4,
             "#fde0ef"
            ],
            [
             0.5,
             "#f7f7f7"
            ],
            [
             0.6,
             "#e6f5d0"
            ],
            [
             0.7,
             "#b8e186"
            ],
            [
             0.8,
             "#7fbc41"
            ],
            [
             0.9,
             "#4d9221"
            ],
            [
             1,
             "#276419"
            ]
           ],
           "sequential": [
            [
             0,
             "#0d0887"
            ],
            [
             0.1111111111111111,
             "#46039f"
            ],
            [
             0.2222222222222222,
             "#7201a8"
            ],
            [
             0.3333333333333333,
             "#9c179e"
            ],
            [
             0.4444444444444444,
             "#bd3786"
            ],
            [
             0.5555555555555556,
             "#d8576b"
            ],
            [
             0.6666666666666666,
             "#ed7953"
            ],
            [
             0.7777777777777778,
             "#fb9f3a"
            ],
            [
             0.8888888888888888,
             "#fdca26"
            ],
            [
             1,
             "#f0f921"
            ]
           ],
           "sequentialminus": [
            [
             0,
             "#0d0887"
            ],
            [
             0.1111111111111111,
             "#46039f"
            ],
            [
             0.2222222222222222,
             "#7201a8"
            ],
            [
             0.3333333333333333,
             "#9c179e"
            ],
            [
             0.4444444444444444,
             "#bd3786"
            ],
            [
             0.5555555555555556,
             "#d8576b"
            ],
            [
             0.6666666666666666,
             "#ed7953"
            ],
            [
             0.7777777777777778,
             "#fb9f3a"
            ],
            [
             0.8888888888888888,
             "#fdca26"
            ],
            [
             1,
             "#f0f921"
            ]
           ]
          },
          "colorway": [
           "#636efa",
           "#EF553B",
           "#00cc96",
           "#ab63fa",
           "#FFA15A",
           "#19d3f3",
           "#FF6692",
           "#B6E880",
           "#FF97FF",
           "#FECB52"
          ],
          "font": {
           "color": "#2a3f5f"
          },
          "geo": {
           "bgcolor": "white",
           "lakecolor": "white",
           "landcolor": "white",
           "showlakes": true,
           "showland": true,
           "subunitcolor": "#C8D4E3"
          },
          "hoverlabel": {
           "align": "left"
          },
          "hovermode": "closest",
          "mapbox": {
           "style": "light"
          },
          "paper_bgcolor": "white",
          "plot_bgcolor": "white",
          "polar": {
           "angularaxis": {
            "gridcolor": "#EBF0F8",
            "linecolor": "#EBF0F8",
            "ticks": ""
           },
           "bgcolor": "white",
           "radialaxis": {
            "gridcolor": "#EBF0F8",
            "linecolor": "#EBF0F8",
            "ticks": ""
           }
          },
          "scene": {
           "xaxis": {
            "backgroundcolor": "white",
            "gridcolor": "#DFE8F3",
            "gridwidth": 2,
            "linecolor": "#EBF0F8",
            "showbackground": true,
            "ticks": "",
            "zerolinecolor": "#EBF0F8"
           },
           "yaxis": {
            "backgroundcolor": "white",
            "gridcolor": "#DFE8F3",
            "gridwidth": 2,
            "linecolor": "#EBF0F8",
            "showbackground": true,
            "ticks": "",
            "zerolinecolor": "#EBF0F8"
           },
           "zaxis": {
            "backgroundcolor": "white",
            "gridcolor": "#DFE8F3",
            "gridwidth": 2,
            "linecolor": "#EBF0F8",
            "showbackground": true,
            "ticks": "",
            "zerolinecolor": "#EBF0F8"
           }
          },
          "shapedefaults": {
           "line": {
            "color": "#2a3f5f"
           }
          },
          "ternary": {
           "aaxis": {
            "gridcolor": "#DFE8F3",
            "linecolor": "#A2B1C6",
            "ticks": ""
           },
           "baxis": {
            "gridcolor": "#DFE8F3",
            "linecolor": "#A2B1C6",
            "ticks": ""
           },
           "bgcolor": "white",
           "caxis": {
            "gridcolor": "#DFE8F3",
            "linecolor": "#A2B1C6",
            "ticks": ""
           }
          },
          "title": {
           "x": 0.05
          },
          "xaxis": {
           "automargin": true,
           "gridcolor": "#EBF0F8",
           "linecolor": "#EBF0F8",
           "ticks": "",
           "title": {
            "standoff": 15
           },
           "zerolinecolor": "#EBF0F8",
           "zerolinewidth": 2
          },
          "yaxis": {
           "automargin": true,
           "gridcolor": "#EBF0F8",
           "linecolor": "#EBF0F8",
           "ticks": "",
           "title": {
            "standoff": 15
           },
           "zerolinecolor": "#EBF0F8",
           "zerolinewidth": 2
          }
         }
        },
        "title": {
         "font": {
          "size": 25
         },
         "text": "Number of corrective Publications per Year by Category",
         "x": 0.5
        },
        "xaxis": {
         "title": {
          "text": "Year of Publication"
         }
        },
        "yaxis": {
         "title": {
          "text": "Category"
         }
        }
       }
      }
     },
     "metadata": {},
     "output_type": "display_data"
    }
   ],
   "source": [
    "visualize_publications_by_category(df_corrective, \"corrective\")"
   ]
  },
  {
   "cell_type": "markdown",
   "metadata": {},
   "source": [
    "### Analysis of the relative impact by Category for each Year since 1994"
   ]
  },
  {
   "cell_type": "code",
   "execution_count": 36,
   "metadata": {
    "ExecuteTime": {
     "end_time": "2024-12-29T15:25:43.626955Z",
     "start_time": "2024-12-29T15:25:43.622823Z"
    }
   },
   "outputs": [],
   "source": [
    "def visualize_publications_by_category_normalized(df, title):\n",
    "    \"\"\"\n",
    "    Visualizes the normalized distribution of publications per year by category.\n",
    "\n",
    "    This function creates a heatmap where the values are normalized ratios of\n",
    "    publications within each category. It shows the relative contribution of each\n",
    "    category to the total publications for that category.\n",
    "    \"\"\"\n",
    "    df = prepare_data(df, \"Y\", True)\n",
    "\n",
    "    # Create a pivot table with categorises as rows and periods as columns\n",
    "    pivot_counts = df.pivot(index=\"categories\", columns=\"period\", values=\"count\").fillna(0)\n",
    "\n",
    "    # Normalize publication counts so that each column (year) sums to 1\n",
    "    normalized_counts = pivot_counts.div(pivot_counts.sum(axis=0), axis=1)\n",
    "    # Sort categories alphabetically in descending order to sort the heatmap alphabetically (it's reversed)\n",
    "    normalized_counts = normalized_counts.sort_index(ascending=False)\n",
    "\n",
    "    # Create the heatmap figure\n",
    "    fig = go.Figure(\n",
    "        data=go.Heatmap(\n",
    "            z=normalized_counts.values,\n",
    "            x=normalized_counts.columns,\n",
    "            y=normalized_counts.index,\n",
    "            colorbar=dict(title=\"Ratio\"),\n",
    "            colorscale='RdBu_r'\n",
    "        )\n",
    "    )\n",
    "\n",
    "    fig.update_layout(\n",
    "        title=dict(\n",
    "            text=f\"Normalized Number of {title} Publications per Year by Category\",\n",
    "            font=dict(size=TITLE_SIZE),\n",
    "            x=TITLE_X_POS,\n",
    "            xanchor=\"center\"\n",
    "        ),\n",
    "        xaxis_title=\"Year of Publication\",\n",
    "        yaxis_title=\"Category\",\n",
    "        height=800,\n",
    "    )\n",
    "\n",
    "    fig.show()"
   ]
  },
  {
   "cell_type": "code",
   "execution_count": 37,
   "metadata": {
    "ExecuteTime": {
     "end_time": "2024-12-29T15:25:45.187178Z",
     "start_time": "2024-12-29T15:25:43.636348Z"
    }
   },
   "outputs": [
    {
     "data": {
      "application/vnd.plotly.v1+json": {
       "config": {
        "plotlyServerURL": "https://plot.ly"
       },
       "data": [
        {
         "colorbar": {
          "title": {
           "text": "Ratio"
          }
         },
         "colorscale": [
          [
           0,
           "rgb(5,48,97)"
          ],
          [
           0.1,
           "rgb(33,102,172)"
          ],
          [
           0.2,
           "rgb(67,147,195)"
          ],
          [
           0.3,
           "rgb(146,197,222)"
          ],
          [
           0.4,
           "rgb(209,229,240)"
          ],
          [
           0.5,
           "rgb(247,247,247)"
          ],
          [
           0.6,
           "rgb(253,219,199)"
          ],
          [
           0.7,
           "rgb(244,165,130)"
          ],
          [
           0.8,
           "rgb(214,96,77)"
          ],
          [
           0.9,
           "rgb(178,24,43)"
          ],
          [
           1,
           "rgb(103,0,31)"
          ]
         ],
         "type": "heatmap",
         "x": {
          "bdata": "ygfLB8wHzQfOB88H0AfRB9IH0wfUB9UH1gfXB9gH2QfaB9sH3AfdB94H3wfgB+EH4gfjB+QH5QfmB+cH6Ac=",
          "dtype": "i2"
         },
         "y": [
          "stat.th",
          "stat.ml",
          "q-fin.st",
          "q-fin.mf",
          "q-fin.cp",
          "math.st",
          "math.qa",
          "math.pr",
          "math.oc",
          "math.ds",
          "cs.sd",
          "cs.ro",
          "cs.ne",
          "cs.ma",
          "cs.lg",
          "cs.hc",
          "cs.dm",
          "cs.cv",
          "cs.cl",
          "cs.cc",
          "cs.ai"
         ],
         "z": {
          "bdata": "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",
          "dtype": "f8",
          "shape": "21, 31"
         }
        }
       ],
       "layout": {
        "height": 800,
        "template": {
         "data": {
          "bar": [
           {
            "error_x": {
             "color": "#2a3f5f"
            },
            "error_y": {
             "color": "#2a3f5f"
            },
            "marker": {
             "line": {
              "color": "white",
              "width": 0.5
             },
             "pattern": {
              "fillmode": "overlay",
              "size": 10,
              "solidity": 0.2
             }
            },
            "type": "bar"
           }
          ],
          "barpolar": [
           {
            "marker": {
             "line": {
              "color": "white",
              "width": 0.5
             },
             "pattern": {
              "fillmode": "overlay",
              "size": 10,
              "solidity": 0.2
             }
            },
            "type": "barpolar"
           }
          ],
          "carpet": [
           {
            "aaxis": {
             "endlinecolor": "#2a3f5f",
             "gridcolor": "#C8D4E3",
             "linecolor": "#C8D4E3",
             "minorgridcolor": "#C8D4E3",
             "startlinecolor": "#2a3f5f"
            },
            "baxis": {
             "endlinecolor": "#2a3f5f",
             "gridcolor": "#C8D4E3",
             "linecolor": "#C8D4E3",
             "minorgridcolor": "#C8D4E3",
             "startlinecolor": "#2a3f5f"
            },
            "type": "carpet"
           }
          ],
          "choropleth": [
           {
            "colorbar": {
             "outlinewidth": 0,
             "ticks": ""
            },
            "type": "choropleth"
           }
          ],
          "contour": [
           {
            "colorbar": {
             "outlinewidth": 0,
             "ticks": ""
            },
            "colorscale": [
             [
              0,
              "#0d0887"
             ],
             [
              0.1111111111111111,
              "#46039f"
             ],
             [
              0.2222222222222222,
              "#7201a8"
             ],
             [
              0.3333333333333333,
              "#9c179e"
             ],
             [
              0.4444444444444444,
              "#bd3786"
             ],
             [
              0.5555555555555556,
              "#d8576b"
             ],
             [
              0.6666666666666666,
              "#ed7953"
             ],
             [
              0.7777777777777778,
              "#fb9f3a"
             ],
             [
              0.8888888888888888,
              "#fdca26"
             ],
             [
              1,
              "#f0f921"
             ]
            ],
            "type": "contour"
           }
          ],
          "contourcarpet": [
           {
            "colorbar": {
             "outlinewidth": 0,
             "ticks": ""
            },
            "type": "contourcarpet"
           }
          ],
          "heatmap": [
           {
            "colorbar": {
             "outlinewidth": 0,
             "ticks": ""
            },
            "colorscale": [
             [
              0,
              "#0d0887"
             ],
             [
              0.1111111111111111,
              "#46039f"
             ],
             [
              0.2222222222222222,
              "#7201a8"
             ],
             [
              0.3333333333333333,
              "#9c179e"
             ],
             [
              0.4444444444444444,
              "#bd3786"
             ],
             [
              0.5555555555555556,
              "#d8576b"
             ],
             [
              0.6666666666666666,
              "#ed7953"
             ],
             [
              0.7777777777777778,
              "#fb9f3a"
             ],
             [
              0.8888888888888888,
              "#fdca26"
             ],
             [
              1,
              "#f0f921"
             ]
            ],
            "type": "heatmap"
           }
          ],
          "histogram": [
           {
            "marker": {
             "pattern": {
              "fillmode": "overlay",
              "size": 10,
              "solidity": 0.2
             }
            },
            "type": "histogram"
           }
          ],
          "histogram2d": [
           {
            "colorbar": {
             "outlinewidth": 0,
             "ticks": ""
            },
            "colorscale": [
             [
              0,
              "#0d0887"
             ],
             [
              0.1111111111111111,
              "#46039f"
             ],
             [
              0.2222222222222222,
              "#7201a8"
             ],
             [
              0.3333333333333333,
              "#9c179e"
             ],
             [
              0.4444444444444444,
              "#bd3786"
             ],
             [
              0.5555555555555556,
              "#d8576b"
             ],
             [
              0.6666666666666666,
              "#ed7953"
             ],
             [
              0.7777777777777778,
              "#fb9f3a"
             ],
             [
              0.8888888888888888,
              "#fdca26"
             ],
             [
              1,
              "#f0f921"
             ]
            ],
            "type": "histogram2d"
           }
          ],
          "histogram2dcontour": [
           {
            "colorbar": {
             "outlinewidth": 0,
             "ticks": ""
            },
            "colorscale": [
             [
              0,
              "#0d0887"
             ],
             [
              0.1111111111111111,
              "#46039f"
             ],
             [
              0.2222222222222222,
              "#7201a8"
             ],
             [
              0.3333333333333333,
              "#9c179e"
             ],
             [
              0.4444444444444444,
              "#bd3786"
             ],
             [
              0.5555555555555556,
              "#d8576b"
             ],
             [
              0.6666666666666666,
              "#ed7953"
             ],
             [
              0.7777777777777778,
              "#fb9f3a"
             ],
             [
              0.8888888888888888,
              "#fdca26"
             ],
             [
              1,
              "#f0f921"
             ]
            ],
            "type": "histogram2dcontour"
           }
          ],
          "mesh3d": [
           {
            "colorbar": {
             "outlinewidth": 0,
             "ticks": ""
            },
            "type": "mesh3d"
           }
          ],
          "parcoords": [
           {
            "line": {
             "colorbar": {
              "outlinewidth": 0,
              "ticks": ""
             }
            },
            "type": "parcoords"
           }
          ],
          "pie": [
           {
            "automargin": true,
            "type": "pie"
           }
          ],
          "scatter": [
           {
            "fillpattern": {
             "fillmode": "overlay",
             "size": 10,
             "solidity": 0.2
            },
            "type": "scatter"
           }
          ],
          "scatter3d": [
           {
            "line": {
             "colorbar": {
              "outlinewidth": 0,
              "ticks": ""
             }
            },
            "marker": {
             "colorbar": {
              "outlinewidth": 0,
              "ticks": ""
             }
            },
            "type": "scatter3d"
           }
          ],
          "scattercarpet": [
           {
            "marker": {
             "colorbar": {
              "outlinewidth": 0,
              "ticks": ""
             }
            },
            "type": "scattercarpet"
           }
          ],
          "scattergeo": [
           {
            "marker": {
             "colorbar": {
              "outlinewidth": 0,
              "ticks": ""
             }
            },
            "type": "scattergeo"
           }
          ],
          "scattergl": [
           {
            "marker": {
             "colorbar": {
              "outlinewidth": 0,
              "ticks": ""
             }
            },
            "type": "scattergl"
           }
          ],
          "scattermap": [
           {
            "marker": {
             "colorbar": {
              "outlinewidth": 0,
              "ticks": ""
             }
            },
            "type": "scattermap"
           }
          ],
          "scattermapbox": [
           {
            "marker": {
             "colorbar": {
              "outlinewidth": 0,
              "ticks": ""
             }
            },
            "type": "scattermapbox"
           }
          ],
          "scatterpolar": [
           {
            "marker": {
             "colorbar": {
              "outlinewidth": 0,
              "ticks": ""
             }
            },
            "type": "scatterpolar"
           }
          ],
          "scatterpolargl": [
           {
            "marker": {
             "colorbar": {
              "outlinewidth": 0,
              "ticks": ""
             }
            },
            "type": "scatterpolargl"
           }
          ],
          "scatterternary": [
           {
            "marker": {
             "colorbar": {
              "outlinewidth": 0,
              "ticks": ""
             }
            },
            "type": "scatterternary"
           }
          ],
          "surface": [
           {
            "colorbar": {
             "outlinewidth": 0,
             "ticks": ""
            },
            "colorscale": [
             [
              0,
              "#0d0887"
             ],
             [
              0.1111111111111111,
              "#46039f"
             ],
             [
              0.2222222222222222,
              "#7201a8"
             ],
             [
              0.3333333333333333,
              "#9c179e"
             ],
             [
              0.4444444444444444,
              "#bd3786"
             ],
             [
              0.5555555555555556,
              "#d8576b"
             ],
             [
              0.6666666666666666,
              "#ed7953"
             ],
             [
              0.7777777777777778,
              "#fb9f3a"
             ],
             [
              0.8888888888888888,
              "#fdca26"
             ],
             [
              1,
              "#f0f921"
             ]
            ],
            "type": "surface"
           }
          ],
          "table": [
           {
            "cells": {
             "fill": {
              "color": "#EBF0F8"
             },
             "line": {
              "color": "white"
             }
            },
            "header": {
             "fill": {
              "color": "#C8D4E3"
             },
             "line": {
              "color": "white"
             }
            },
            "type": "table"
           }
          ]
         },
         "layout": {
          "annotationdefaults": {
           "arrowcolor": "#2a3f5f",
           "arrowhead": 0,
           "arrowwidth": 1
          },
          "autotypenumbers": "strict",
          "coloraxis": {
           "colorbar": {
            "outlinewidth": 0,
            "ticks": ""
           }
          },
          "colorscale": {
           "diverging": [
            [
             0,
             "#8e0152"
            ],
            [
             0.1,
             "#c51b7d"
            ],
            [
             0.2,
             "#de77ae"
            ],
            [
             0.3,
             "#f1b6da"
            ],
            [
             0.4,
             "#fde0ef"
            ],
            [
             0.5,
             "#f7f7f7"
            ],
            [
             0.6,
             "#e6f5d0"
            ],
            [
             0.7,
             "#b8e186"
            ],
            [
             0.8,
             "#7fbc41"
            ],
            [
             0.9,
             "#4d9221"
            ],
            [
             1,
             "#276419"
            ]
           ],
           "sequential": [
            [
             0,
             "#0d0887"
            ],
            [
             0.1111111111111111,
             "#46039f"
            ],
            [
             0.2222222222222222,
             "#7201a8"
            ],
            [
             0.3333333333333333,
             "#9c179e"
            ],
            [
             0.4444444444444444,
             "#bd3786"
            ],
            [
             0.5555555555555556,
             "#d8576b"
            ],
            [
             0.6666666666666666,
             "#ed7953"
            ],
            [
             0.7777777777777778,
             "#fb9f3a"
            ],
            [
             0.8888888888888888,
             "#fdca26"
            ],
            [
             1,
             "#f0f921"
            ]
           ],
           "sequentialminus": [
            [
             0,
             "#0d0887"
            ],
            [
             0.1111111111111111,
             "#46039f"
            ],
            [
             0.2222222222222222,
             "#7201a8"
            ],
            [
             0.3333333333333333,
             "#9c179e"
            ],
            [
             0.4444444444444444,
             "#bd3786"
            ],
            [
             0.5555555555555556,
             "#d8576b"
            ],
            [
             0.6666666666666666,
             "#ed7953"
            ],
            [
             0.7777777777777778,
             "#fb9f3a"
            ],
            [
             0.8888888888888888,
             "#fdca26"
            ],
            [
             1,
             "#f0f921"
            ]
           ]
          },
          "colorway": [
           "#636efa",
           "#EF553B",
           "#00cc96",
           "#ab63fa",
           "#FFA15A",
           "#19d3f3",
           "#FF6692",
           "#B6E880",
           "#FF97FF",
           "#FECB52"
          ],
          "font": {
           "color": "#2a3f5f"
          },
          "geo": {
           "bgcolor": "white",
           "lakecolor": "white",
           "landcolor": "white",
           "showlakes": true,
           "showland": true,
           "subunitcolor": "#C8D4E3"
          },
          "hoverlabel": {
           "align": "left"
          },
          "hovermode": "closest",
          "mapbox": {
           "style": "light"
          },
          "paper_bgcolor": "white",
          "plot_bgcolor": "white",
          "polar": {
           "angularaxis": {
            "gridcolor": "#EBF0F8",
            "linecolor": "#EBF0F8",
            "ticks": ""
           },
           "bgcolor": "white",
           "radialaxis": {
            "gridcolor": "#EBF0F8",
            "linecolor": "#EBF0F8",
            "ticks": ""
           }
          },
          "scene": {
           "xaxis": {
            "backgroundcolor": "white",
            "gridcolor": "#DFE8F3",
            "gridwidth": 2,
            "linecolor": "#EBF0F8",
            "showbackground": true,
            "ticks": "",
            "zerolinecolor": "#EBF0F8"
           },
           "yaxis": {
            "backgroundcolor": "white",
            "gridcolor": "#DFE8F3",
            "gridwidth": 2,
            "linecolor": "#EBF0F8",
            "showbackground": true,
            "ticks": "",
            "zerolinecolor": "#EBF0F8"
           },
           "zaxis": {
            "backgroundcolor": "white",
            "gridcolor": "#DFE8F3",
            "gridwidth": 2,
            "linecolor": "#EBF0F8",
            "showbackground": true,
            "ticks": "",
            "zerolinecolor": "#EBF0F8"
           }
          },
          "shapedefaults": {
           "line": {
            "color": "#2a3f5f"
           }
          },
          "ternary": {
           "aaxis": {
            "gridcolor": "#DFE8F3",
            "linecolor": "#A2B1C6",
            "ticks": ""
           },
           "baxis": {
            "gridcolor": "#DFE8F3",
            "linecolor": "#A2B1C6",
            "ticks": ""
           },
           "bgcolor": "white",
           "caxis": {
            "gridcolor": "#DFE8F3",
            "linecolor": "#A2B1C6",
            "ticks": ""
           }
          },
          "title": {
           "x": 0.05
          },
          "xaxis": {
           "automargin": true,
           "gridcolor": "#EBF0F8",
           "linecolor": "#EBF0F8",
           "ticks": "",
           "title": {
            "standoff": 15
           },
           "zerolinecolor": "#EBF0F8",
           "zerolinewidth": 2
          },
          "yaxis": {
           "automargin": true,
           "gridcolor": "#EBF0F8",
           "linecolor": "#EBF0F8",
           "ticks": "",
           "title": {
            "standoff": 15
           },
           "zerolinecolor": "#EBF0F8",
           "zerolinewidth": 2
          }
         }
        },
        "title": {
         "font": {
          "size": 25
         },
         "text": "Normalized Number of initial Publications per Year by Category",
         "x": 0.5,
         "xanchor": "center"
        },
        "xaxis": {
         "title": {
          "text": "Year of Publication"
         }
        },
        "yaxis": {
         "title": {
          "text": "Category"
         }
        }
       }
      }
     },
     "metadata": {},
     "output_type": "display_data"
    }
   ],
   "source": [
    "visualize_publications_by_category_normalized(df_complete, \"initial\")"
   ]
  },
  {
   "cell_type": "markdown",
   "metadata": {},
   "source": [
    "**in abhängigkeit mit vorangegangenem Kapitel auf den sozialen impact abstimmen**"
   ]
  },
  {
   "cell_type": "markdown",
   "metadata": {},
   "source": [
    "#### Analysis of the Shift from Theoretical Foundations to Applied Advancements in AI and ML\n",
    "\n",
    "The exponential growth in AI-related publications mirrors a transformative shift from early theoretical underpinnings to practical, applied advancements. This evolution is clearly reflected in the contributions of key categories such as Machine Learning (cs.LG), Artificial Intelligence (cs.AI), Computation and Language (cs.CL), and Computer Vision (cs.CV). In the early years, theoretical research dominated AI and ML, but the rapid expansion of computational resources and the emergence of practical frameworks soon accelerated the adoption of applied methods.\n",
    "\n",
    "A closer look at publication trends reveals that during this foundational phase, additional mathematical disciplines played a critical role. Quantum Algebra (math.QA) was particularly dominant between 1994 and 2005, while Probability (math.PR) significantly influenced research from 2002 to 2015. Dynamical Systems (math.DS) also made substantial contributions between 1999 and 2011. These intensive theoretical studies in mathematics provided the essential tools and insights without which the development of groundbreaking algorithms and techniques—and consequently, the practical implementation and widespread popularity of the five key growth areas—would not have been possible.\n",
    "\n",
    "This gradual transition from theory to practice is further evidenced by the growing prominence of computer science-oriented research. Although the influence of pure mathematical categories has waned, applied domains have surged. For example, early advances in natural language processing were noted between 1994 and 1998, laying the groundwork for a renaissance from 2016 to 2024 driven by innovations such as the Transformer architecture and pre-trained language models.\n",
    "\n",
    "@article{schmidhuber2015deep,\n",
    "  title={Deep learning in neural networks: An overview},\n",
    "  author={Schmidhuber, J{\\\"u}rgen},\n",
    "  journal={Neural Networks},\n",
    "  volume={61},\n",
    "  pages={85--117},\n",
    "  year={2015},\n",
    "  publisher={Elsevier},\n",
    "  url={https://www.sciencedirect.com/science/article/pii/S0893608014002135}\n",
    "}\n",
    "\n",
    "The evolution from theoretical to applied AI and ML is not a rejection of foundational research but a natural progression. Theoretical advances have continuously provided the mathematical and algorithmic groundwork that enabled the development of practical technologies, now reshaping society and human life. Today, the dynamic interplay between theory and application continues to drive innovation, ensuring that foundational research adapts to meet emerging real-world challenges."
   ]
  },
  {
   "cell_type": "code",
   "execution_count": null,
   "metadata": {},
   "outputs": [],
   "source": []
  },
  {
   "cell_type": "markdown",
   "metadata": {},
   "source": [
    "## Social Implications\n",
    "\n",
    "The exponential growth in scientific interest and research in artificial intelligence is enabling us to achieve remarkable breakthroughs that have tangible benefits for society. This section highlights two compelling examples of how AI innovations are already transforming lives and hold promise for a better future.\n",
    "\n",
    "One striking example comes from the medical field, where AI is revolutionizing drug discovery. Advanced structure-based machine learning algorithms are being used to predict how potential drug compounds interact with target proteins. In the case of neurodegenerative diseases like Parkinson’s, these methods can identify more potent compounds faster and with greater accuracy. By reducing errors and cutting costs in the early stages of drug development, such AI-driven approaches not only accelerate the discovery of disease-modifying therapies but also hold the potential to save lives. \\cite{horne2024discovery}\n",
    "\n",
    "Another impactful application of AI is found in assistive technology for the visually impaired. In the work of Shetty et al., computer vision techniques—especially optical character recognition combined with other machine learning–based vision tasks—are deployed to convert visual information into audio descriptions. This technology empowers blind individuals by “reading” their surroundings aloud, identifying objects, and even interpreting printed text in their environment. As a result, it significantly enhances their ability to navigate daily life independently. \\cite{harinakshi2024smart}\n",
    "\n",
    "These examples illustrate only a fraction of the possibilities unlocked by the rapidly expanding interest in AI research. The continuous, exponential growth in scientific exploration is not only advancing technological frontiers but is also translating into practical applications that improve healthcare, accessibility, and overall quality of life. As research continues to accelerate, we can expect even more impressive contributions that will shape our society and secure a better future for humanity.\n",
    "\n",
    "Fazit: Kann subba aber auch nicht so subba"
   ]
  },
  {
   "cell_type": "markdown",
   "metadata": {},
   "source": [
    "Quellen Zitieren und Verzeichnis (IEEE Notation)"
   ]
  },
  {
   "cell_type": "markdown",
   "metadata": {},
   "source": [
    "@article{horne2024discovery,\n",
    "  title={Discovery of potent inhibitors of $\\alpha$-synuclein aggregation using structure-based iterative learning},\n",
    "  author={Horne, Robert I and Andrzejewska, Ewa A and Alam, Parvez and Brotzakis, Z Faidon and Srivastava, Ankit and Aubert, Alice and Nowinska, Magdalena and Gregory, Rebecca C and Staats, Roxine and Possenti, Andrea and others},\n",
    "  journal={Nature Chemical Biology},\n",
    "  pages={1--12},\n",
    "  year={2024},\n",
    "  publisher={Nature Publishing Group US New York}\n",
    "}\n",
    "\n",
    "@inproceedings{harinakshi2024smart,\n",
    "  title={A Smart Visual Assistance System For Visually Impaired People In Real-World Environments},\n",
    "  author={Harinakshi, C and Hosalikar, Nehal and Shetty, Karthik and Keerthan, K and Ravindra, Shetty Rachana},\n",
    "  booktitle={2024 International Conference on Intelligent Systems for Cybersecurity (ISCS)},\n",
    "  pages={1--6},\n",
    "  year={2024},\n",
    "  organization={IEEE}\n",
    "}"
   ]
  },
  {
   "cell_type": "markdown",
   "metadata": {},
   "source": []
  }
 ],
 "metadata": {
  "kernelspec": {
   "display_name": ".venv",
   "language": "python",
   "name": "python3"
  },
  "language_info": {
   "codemirror_mode": {
    "name": "ipython",
    "version": 3
   },
   "file_extension": ".py",
   "mimetype": "text/x-python",
   "name": "python",
   "nbconvert_exporter": "python",
   "pygments_lexer": "ipython3",
   "version": "3.12.9"
  }
 },
 "nbformat": 4,
 "nbformat_minor": 2
}
