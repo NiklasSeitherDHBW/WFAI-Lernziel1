{
 "cells": [
  {
   "cell_type": "markdown",
   "metadata": {},
   "source": [
    "# Development of AI in scientific research"
   ]
  },
  {
   "cell_type": "markdown",
   "metadata": {},
   "source": [
    "Artificial Intelligence (AI) has emerged as one of the most talked-about topics in recent years. Breakthroughs in technologies such as machine learning(ML), large language models (LLM), and computer vision (CV) have not only transformed how we live and work but have also  created a significant buzz in the economy. Major tech companies like Google, Microsoft or NVIDIA have achieved tremendous profits and remarkable stock market growth through their investments and research in AI. The innovative potential of AI is widely regarded as a catalyst for economic growth and technological progress.\n",
    "\n",
    "While the societal and economic enthusiasm for AI is undeniable, this analysis aims to investigate whether a comparable trend can be observed in the scientific community. This analysis examines publication data from the past three decades to identify patterns in research activity and explore whether the increasing prominence of AI is reflected in scientific output. The focus is directed toward publications in key disciplines such as computer science, mathematics, quantitative finance, and statistics, which provide the foundational framework for advancements in AI. Furthermore, this analysis also discusses the social implications of AI, considering both the potential benefits such as improved efficiency and novel problem-solving capabilities and the challenges it poses for society, including ethical, legal, and equality concerns."
   ]
  },
  {
   "cell_type": "code",
   "execution_count": 38,
   "metadata": {},
   "outputs": [],
   "source": [
    "import numpy as np\n",
    "import pandas as pd\n",
    "import plotly.express as px\n",
    "import plotly.graph_objects as go\n",
    "import plotly.io as pio\n",
    "from plotly.subplots import make_subplots\n",
    "\n",
    "# Override default plotly theme to white background with gridlines\n",
    "pio.templates.default = \"plotly_white\""
   ]
  },
  {
   "cell_type": "code",
   "execution_count": 39,
   "metadata": {
    "ExecuteTime": {
     "end_time": "2024-12-29T15:25:38.821764Z",
     "start_time": "2024-12-29T15:25:38.818625Z"
    }
   },
   "outputs": [],
   "source": [
    "TITLE_SIZE = 25\n",
    "TITLE_X_POS = 0.5"
   ]
  },
  {
   "cell_type": "markdown",
   "metadata": {},
   "source": [
    "## Data"
   ]
  },
  {
   "cell_type": "markdown",
   "metadata": {},
   "source": [
    "The data for this analysis was sourced from *arXiv.org*, a repository for scientific preprints. To investigate the development and trends in Artificial Intelligence research, publications from 1994 to the end of 2024 were queried. The focus was set on categories that are highly relevant to the theoretical and practical advancements in AI. These categories were carefully selected to ensure coverage of core disciplines such as computer science, mathematics, quantitative finance, and statistics, which are central to the development of AI methodologies and applications. A complete overview of all categories can be found at https://arxiv.org/category_taxonomy.\n",
    "\n",
    "The selected categories reflect a comprehensive view of AI research, ranging from foundational theories to applied methodologies. This approach also highlights the interplay between traditional mathematical and statistical methods and emerging AI driven techniques. The inclusion criteria were designed to capture the evolution of AI research over time, while broader, less directly related domains, such as economics, electrical engineering, physics, and quantitative biology were  excluded. An exception was made for quantitative finance due to its role in applying methods such as Long Short-Term Memory (LSTM) neural networks, which have significant applications in financial time series modeling and other AI-related fields.\n",
    "\n",
    "The analysis specifically includes publications from the following domains:\n",
    "| Domain                | Category   | Description                                   |\n",
    "|-----------------------|------------|-----------------------------------------------|\n",
    "| **Computer Science**  | cs.AI      | Artificial Intelligence                      |\n",
    "|                       | cs.CC      | Computational Complexity                     |\n",
    "|                       | cs.CL      | Computation and Language                     |\n",
    "|                       | cs.CV      | Computer Vision and Pattern Recognition      |\n",
    "|                       | cs.DM      | Discrete Mathematics                         |\n",
    "|                       | cs.HC      | Human-Computer Interaction                   |\n",
    "|                       | cs.LG      | Machine Learning                             |\n",
    "|                       | cs.MA      | Multiagent Systems                           |\n",
    "|                       | cs.NE      | Neural and Evolutionary Computing            |\n",
    "|                       | cs.RO      | Robotics                                     |\n",
    "|                       | cs.SD      | Sound                                        |\n",
    "| **Mathematics**       | math.DS    | Dynamical Systems                            |\n",
    "|                       | math.OC    | Optimization and Control                     |\n",
    "|                       | math.PR    | Probability                                  |\n",
    "|                       | math.QA    | Quantum Algebra                              |\n",
    "|                       | math.ST    | Statistics                                   |\n",
    "| **Quantitative Finance** | q-fin.CP   | Computational Finance                        |\n",
    "|                       | q-fin.MF   | Mathematical Finance                         |\n",
    "|                       | q-fin.ST   | Statistical Finance                          |\n",
    "| **Statistics**        | stat.ML    | Machine Learning in Statistics               |\n",
    "|                       | stat.TH    | Theoretical Statistics                       |"
   ]
  },
  {
   "cell_type": "code",
   "execution_count": 40,
   "metadata": {},
   "outputs": [],
   "source": [
    "CATEGORIES = [\n",
    "    \"cs.ai\",\n",
    "    \"cs.cc\",\n",
    "    \"cs.cl\",\n",
    "    \"cs.cv\",\n",
    "    \"cs.dm\",\n",
    "    \"cs.hc\",\n",
    "    \"cs.lg\",\n",
    "    \"cs.ma\",\n",
    "    \"cs.ne\",\n",
    "    \"cs.ro\",\n",
    "    \"cs.sd\",\n",
    "    \"math.ds\",\n",
    "    \"math.oc\",\n",
    "    \"math.pr\",\n",
    "    \"math.qa\",\n",
    "    \"stat.ml\",\n",
    "    \"stat.th\",\n",
    "    \"q-fin.cp\",\n",
    "    \"q-fin.mf\",\n",
    "    \"q-fin.st\"\n",
    "]\n",
    "\n",
    "ARXIV_CATEGORIES_MAPPING = {\n",
    "    \"cs.LG\": \"Machine Learning (Computer Science)\",\n",
    "    \"cs.AI\": \"Artificial Intelligence\",\n",
    "    \"cs.CC\": \"Computational Complexity\",\n",
    "    \"math.ST\": \"Statistics Theory (Mathematics)\",\n",
    "    \"math.OC\": \"Optimization and Control\",\n",
    "    \"math.PR\": \"Probability\",\n",
    "    \"stat.ML\": \"Machine Learning (Statistics)\",\n",
    "    \"cs.CV\": \"Computer Vision and Pattern Recognition\",\n",
    "    \"cs.CL\": \"Computation and Language\",\n",
    "    \"cs.NE\": \"Neural and Evolutionary Computing\",\n",
    "    \"cs.RO\": \"Robotics\",\n",
    "    \"math.DS\": \"Dynamical Systems\",\n",
    "    \"cs.HC\": \"Human-Computer Interaction\",\n",
    "    \"cs.DM\": \"Discrete Mathematics\",\n",
    "    \"cs.MA\": \"Multiagent Systems\",\n",
    "    \"cs.SD\": \"Sound\",\n",
    "    \"math.QA\": \"Quantum Algebra\",\n",
    "    \"q-fin.ST\": \"Statistical Finance\",\n",
    "    \"q-fin.MF\": \"Mathematical Finance\",\n",
    "    \"q-fin.CP\": \"Computational Finance\",\n",
    "    \"stat.TH\": \"Theoretical Statistics\"\n",
    "}\n"
   ]
  },
  {
   "cell_type": "code",
   "execution_count": 41,
   "metadata": {
    "ExecuteTime": {
     "end_time": "2024-12-29T15:25:39.461601Z",
     "start_time": "2024-12-29T15:25:38.831096Z"
    }
   },
   "outputs": [
    {
     "data": {
      "text/html": [
       "<div>\n",
       "<style scoped>\n",
       "    .dataframe tbody tr th:only-of-type {\n",
       "        vertical-align: middle;\n",
       "    }\n",
       "\n",
       "    .dataframe tbody tr th {\n",
       "        vertical-align: top;\n",
       "    }\n",
       "\n",
       "    .dataframe thead th {\n",
       "        text-align: right;\n",
       "    }\n",
       "</style>\n",
       "<table border=\"1\" class=\"dataframe\">\n",
       "  <thead>\n",
       "    <tr style=\"text-align: right;\">\n",
       "      <th></th>\n",
       "      <th>paper_id</th>\n",
       "      <th>published_date</th>\n",
       "      <th>categories</th>\n",
       "      <th>id</th>\n",
       "    </tr>\n",
       "  </thead>\n",
       "  <tbody>\n",
       "    <tr>\n",
       "      <th>0</th>\n",
       "      <td>http://arxiv.org/abs/cs/9401101v1</td>\n",
       "      <td>1994-01-01</td>\n",
       "      <td>cs.AI</td>\n",
       "      <td>9401101v1</td>\n",
       "    </tr>\n",
       "    <tr>\n",
       "      <th>1</th>\n",
       "      <td>http://arxiv.org/abs/hep-th/9401023v1</td>\n",
       "      <td>1994-01-06</td>\n",
       "      <td>hep-th,math.QA</td>\n",
       "      <td>9401023v1</td>\n",
       "    </tr>\n",
       "    <tr>\n",
       "      <th>2</th>\n",
       "      <td>http://arxiv.org/abs/hep-th/9401016v1</td>\n",
       "      <td>1994-01-06</td>\n",
       "      <td>hep-th,math.QA</td>\n",
       "      <td>9401016v1</td>\n",
       "    </tr>\n",
       "    <tr>\n",
       "      <th>3</th>\n",
       "      <td>http://arxiv.org/abs/math/9401224v1</td>\n",
       "      <td>1994-01-12</td>\n",
       "      <td>math.DS</td>\n",
       "      <td>9401224v1</td>\n",
       "    </tr>\n",
       "    <tr>\n",
       "      <th>4</th>\n",
       "      <td>http://arxiv.org/abs/hep-th/9401050v1</td>\n",
       "      <td>1994-01-12</td>\n",
       "      <td>hep-th,math.QA</td>\n",
       "      <td>9401050v1</td>\n",
       "    </tr>\n",
       "    <tr>\n",
       "      <th>...</th>\n",
       "      <td>...</td>\n",
       "      <td>...</td>\n",
       "      <td>...</td>\n",
       "      <td>...</td>\n",
       "    </tr>\n",
       "    <tr>\n",
       "      <th>637596</th>\n",
       "      <td>http://arxiv.org/abs/2501.03254v1</td>\n",
       "      <td>2024-12-31</td>\n",
       "      <td>cs.AI,cond-mat.mtrl-sci,cs.CE,cs.LG,cs.NE</td>\n",
       "      <td>2501.03254v1</td>\n",
       "    </tr>\n",
       "    <tr>\n",
       "      <th>637597</th>\n",
       "      <td>http://arxiv.org/abs/2501.00195v1</td>\n",
       "      <td>2024-12-31</td>\n",
       "      <td>cs.LG,cs.AI</td>\n",
       "      <td>2501.00195v1</td>\n",
       "    </tr>\n",
       "    <tr>\n",
       "      <th>637598</th>\n",
       "      <td>http://arxiv.org/abs/2501.00192v1</td>\n",
       "      <td>2024-12-31</td>\n",
       "      <td>cs.CV,cs.CL,cs.CY,cs.LG</td>\n",
       "      <td>2501.00192v1</td>\n",
       "    </tr>\n",
       "    <tr>\n",
       "      <th>637599</th>\n",
       "      <td>http://arxiv.org/abs/2501.00191v1</td>\n",
       "      <td>2024-12-31</td>\n",
       "      <td>cs.GT,cs.MA,cs.SI,cs.SY,eess.SY,math.OC</td>\n",
       "      <td>2501.00191v1</td>\n",
       "    </tr>\n",
       "    <tr>\n",
       "      <th>637600</th>\n",
       "      <td>http://arxiv.org/abs/2501.00190v2</td>\n",
       "      <td>2024-12-31</td>\n",
       "      <td>cs.LG,cs.AI,cs.HC</td>\n",
       "      <td>2501.00190v2</td>\n",
       "    </tr>\n",
       "  </tbody>\n",
       "</table>\n",
       "<p>637601 rows × 4 columns</p>\n",
       "</div>"
      ],
      "text/plain": [
       "                                     paper_id published_date  \\\n",
       "0           http://arxiv.org/abs/cs/9401101v1     1994-01-01   \n",
       "1       http://arxiv.org/abs/hep-th/9401023v1     1994-01-06   \n",
       "2       http://arxiv.org/abs/hep-th/9401016v1     1994-01-06   \n",
       "3         http://arxiv.org/abs/math/9401224v1     1994-01-12   \n",
       "4       http://arxiv.org/abs/hep-th/9401050v1     1994-01-12   \n",
       "...                                       ...            ...   \n",
       "637596      http://arxiv.org/abs/2501.03254v1     2024-12-31   \n",
       "637597      http://arxiv.org/abs/2501.00195v1     2024-12-31   \n",
       "637598      http://arxiv.org/abs/2501.00192v1     2024-12-31   \n",
       "637599      http://arxiv.org/abs/2501.00191v1     2024-12-31   \n",
       "637600      http://arxiv.org/abs/2501.00190v2     2024-12-31   \n",
       "\n",
       "                                       categories            id  \n",
       "0                                           cs.AI     9401101v1  \n",
       "1                                  hep-th,math.QA     9401023v1  \n",
       "2                                  hep-th,math.QA     9401016v1  \n",
       "3                                         math.DS     9401224v1  \n",
       "4                                  hep-th,math.QA     9401050v1  \n",
       "...                                           ...           ...  \n",
       "637596  cs.AI,cond-mat.mtrl-sci,cs.CE,cs.LG,cs.NE  2501.03254v1  \n",
       "637597                                cs.LG,cs.AI  2501.00195v1  \n",
       "637598                    cs.CV,cs.CL,cs.CY,cs.LG  2501.00192v1  \n",
       "637599    cs.GT,cs.MA,cs.SI,cs.SY,eess.SY,math.OC  2501.00191v1  \n",
       "637600                          cs.LG,cs.AI,cs.HC  2501.00190v2  \n",
       "\n",
       "[637601 rows x 4 columns]"
      ]
     },
     "execution_count": 41,
     "metadata": {},
     "output_type": "execute_result"
    }
   ],
   "source": [
    "# Load Data\n",
    "df_complete = pd.read_csv(\"complete_arxiv_papers.csv\")\n",
    "df_complete"
   ]
  },
  {
   "cell_type": "code",
   "execution_count": 42,
   "metadata": {
    "ExecuteTime": {
     "end_time": "2024-12-29T15:25:39.538600Z",
     "start_time": "2024-12-29T15:25:39.490521Z"
    }
   },
   "outputs": [],
   "source": [
    "# Convert date from string to datetime object\n",
    "df_complete[\"published_date\"] = pd.to_datetime(df_complete[\"published_date\"])"
   ]
  },
  {
   "cell_type": "markdown",
   "metadata": {},
   "source": [
    "## Helper Functions"
   ]
  },
  {
   "cell_type": "code",
   "execution_count": 43,
   "metadata": {
    "ExecuteTime": {
     "end_time": "2024-12-29T15:25:39.567129Z",
     "start_time": "2024-12-29T15:25:39.560912Z"
    }
   },
   "outputs": [],
   "source": [
    "def prepare_data(df, period, also_group_categories=False):\n",
    "    \"\"\"\n",
    "    Prepares the data for visualization by adding a period column based on the specified frequency\n",
    "    \"\"\"\n",
    "    df = df.copy(deep=True)\n",
    "\n",
    "    # Add period column based on specified frequency\n",
    "    if period.lower() == \"y\":\n",
    "        df[\"period\"] = df[\"published_date\"].dt.to_period(period).dt.year\n",
    "    else:    \n",
    "        df[\"period\"] = df[\"published_date\"].dt.to_period(period).dt.to_timestamp()\n",
    "\n",
    "    if also_group_categories:\n",
    "        # Convert comma-separated string of categories to python list\n",
    "        df['categories'] = df['categories'].str.lower().str.split(',')\n",
    "\n",
    "        # Explode the categories into separate rows\n",
    "        df = df.explode(\"categories\")\n",
    "        df[\"categories\"] = df[\"categories\"].str.strip()\n",
    "\n",
    "        # Filter rows to only keep the ones matching a specified category\n",
    "        df = df[df['categories'].isin(CATEGORIES)]\n",
    "\n",
    "        # Group the data by categories and period and count occurrences\n",
    "        df = df.groupby(['categories', 'period']).size().reset_index(name='count')\n",
    "    else:\n",
    "        # Group data by just the period and count occurrences\n",
    "        df = df.groupby(\"period\").size().reset_index(name=\"count\")\n",
    "    \n",
    "    return df\n"
   ]
  },
  {
   "cell_type": "code",
   "execution_count": 44,
   "metadata": {
    "ExecuteTime": {
     "end_time": "2024-12-29T15:25:39.608059Z",
     "start_time": "2024-12-29T15:25:39.603650Z"
    }
   },
   "outputs": [],
   "source": [
    "def generate_color_map(categories):\n",
    "    \"\"\"\n",
    "    Generate a consistent color map for categories to ensure that each category is assigned a unique color.\n",
    "\n",
    "    This is done for the visualization of the line charts that are side-by-side so that the same category appears with the same color in both plots.\n",
    "    \"\"\"\n",
    "    return {category: px.colors.qualitative.Plotly[i % len(px.colors.qualitative.Plotly)]\n",
    "            for i, category in enumerate(categories)}\n"
   ]
  },
  {
   "cell_type": "markdown",
   "metadata": {},
   "source": [
    "## Visualization"
   ]
  },
  {
   "cell_type": "markdown",
   "metadata": {},
   "source": [
    "The dataset analyzed includes a unique identifier for each publication, referred to as *paper_id*. This identifier features a versioning system, where the suffix *v1* denotes the initial release of a paper. Later versions, such as *v2*, *v3* and beyond, typically reflect corrections, refinements or improvements to the original work. While these subsequent versions address important refinements, they generally do not introduce groundbreaking ideas. Therefore, this analysis focuses primarily on the initial publications (*v1*), as they are considered the most significant in contributing to scientific progress.\n",
    "\n",
    "The structure of the analysis is designed to provide a clear and comprehensive understanding of the trends in AI and ML related research. It begins with a broad overview of publication activity, including all versions, to illustrate the overall growth in the field. The focus then narrows to initial publications, highlighting their foundational role in advancing knowledge. The next section explores category specific trends, offering a detailed examination of key areas such as machine learning, computer vision, and statistics. Finally, a relative analysis is presented to highlight the proportional impact of individual categories over time, offering insights into their evolving significance."
   ]
  },
  {
   "cell_type": "markdown",
   "metadata": {},
   "source": [
    "### General Development of Publications in AI and ML related fields"
   ]
  },
  {
   "cell_type": "code",
   "execution_count": 45,
   "metadata": {
    "ExecuteTime": {
     "end_time": "2024-12-29T15:25:39.674057Z",
     "start_time": "2024-12-29T15:25:39.659222Z"
    }
   },
   "outputs": [],
   "source": [
    "def plot_general_development(df, title, period):\n",
    "    \"\"\"\n",
    "    Plots the number of publications per period on both linear and logarithmic scales side-by-side.\n",
    "    \"\"\"\n",
    "    papers_per_period = prepare_data(df, period)\n",
    "\n",
    "    # Create a scatter plot with a linear scale\n",
    "    # To enable the ols trendline to depict an exponential trend log_y is set to True only for the trendline\n",
    "    fig_linear = px.scatter(\n",
    "        papers_per_period,\n",
    "        x=\"period\",\n",
    "        y=\"count\",\n",
    "        trendline=\"ols\",\n",
    "        trendline_color_override=\"red\",\n",
    "        trendline_options=dict(log_y=True),\n",
    "    )\n",
    "\n",
    "    # Create a scatter plot with a logarithmic scale\n",
    "    # To enable the ols trendline to depict a linear trend on a log scale log_y is set to True for both the plot and the trendline\n",
    "    fig_log = px.scatter(\n",
    "        papers_per_period,\n",
    "        x=\"period\",\n",
    "        y=\"count\",\n",
    "        trendline=\"ols\",\n",
    "        trendline_color_override=\"red\",\n",
    "        log_y=True,\n",
    "        trendline_options=dict(log_y=True),\n",
    "    )\n",
    "\n",
    "    # Combine the two plots into a single figure to display them side-by-side\n",
    "    subfig = make_subplots(rows=1, cols=2, subplot_titles=[\"Linear Scale\", \"Log Scale\"])\n",
    "\n",
    "    # Add linear plot to the left side of the figure and log plot to the right side\n",
    "    for trace in fig_linear.data:\n",
    "        subfig.add_trace(trace, row=1, col=1)\n",
    "    for trace in fig_log.data:\n",
    "        subfig.add_trace(trace, row=1, col=2)\n",
    "\n",
    "    # Update layout for the combined figure\n",
    "    subfig.update_yaxes(\n",
    "        title=\"# of Publications per Month\", row=1, col=1, type=\"linear\"\n",
    "    )  # Update the y-axis label and linear-scale for the left plot\n",
    "    subfig.update_yaxes(\n",
    "        title=\"# of Publications per Month\", row=1, col=2, type=\"log\"\n",
    "    )  # Update the y-axis label and set logarithmic-scale for the right plot\n",
    "    subfig.update_xaxes(\n",
    "        title=\"Year of Publication\"\n",
    "    )  # Update the x-axis label for both plots\n",
    "\n",
    "    # Update the title text of the combined figure and center it\n",
    "    subfig.update_layout(\n",
    "        title=dict(\n",
    "            text=f\"Number of {title} Publications per Month\",\n",
    "            font=dict(size=TITLE_SIZE),\n",
    "            x=TITLE_X_POS,\n",
    "        )\n",
    "    )\n",
    "\n",
    "    subfig.show()\n"
   ]
  },
  {
   "cell_type": "code",
   "execution_count": 46,
   "metadata": {
    "ExecuteTime": {
     "end_time": "2024-12-29T15:25:39.894979Z",
     "start_time": "2024-12-29T15:25:39.683595Z"
    }
   },
   "outputs": [
    {
     "data": {
      "application/vnd.plotly.v1+json": {
       "config": {
        "plotlyServerURL": "https://plot.ly"
       },
       "data": [
        {
         "hovertemplate": "period=%{x}<br>count=%{y}<extra></extra>",
         "legendgroup": "",
         "marker": {
          "color": "#636efa",
          "symbol": "circle"
         },
         "mode": "markers",
         "name": "",
         "orientation": "v",
         "showlegend": false,
         "type": "scatter",
         "x": [
          "1994-01-01T00:00:00.000000000",
          "1994-02-01T00:00:00.000000000",
          "1994-03-01T00:00:00.000000000",
          "1994-04-01T00:00:00.000000000",
          "1994-05-01T00:00:00.000000000",
          "1994-06-01T00:00:00.000000000",
          "1994-07-01T00:00:00.000000000",
          "1994-08-01T00:00:00.000000000",
          "1994-09-01T00:00:00.000000000",
          "1994-10-01T00:00:00.000000000",
          "1994-11-01T00:00:00.000000000",
          "1994-12-01T00:00:00.000000000",
          "1995-01-01T00:00:00.000000000",
          "1995-02-01T00:00:00.000000000",
          "1995-03-01T00:00:00.000000000",
          "1995-04-01T00:00:00.000000000",
          "1995-05-01T00:00:00.000000000",
          "1995-06-01T00:00:00.000000000",
          "1995-07-01T00:00:00.000000000",
          "1995-08-01T00:00:00.000000000",
          "1995-09-01T00:00:00.000000000",
          "1995-10-01T00:00:00.000000000",
          "1995-11-01T00:00:00.000000000",
          "1995-12-01T00:00:00.000000000",
          "1996-01-01T00:00:00.000000000",
          "1996-02-01T00:00:00.000000000",
          "1996-03-01T00:00:00.000000000",
          "1996-04-01T00:00:00.000000000",
          "1996-05-01T00:00:00.000000000",
          "1996-06-01T00:00:00.000000000",
          "1996-07-01T00:00:00.000000000",
          "1996-08-01T00:00:00.000000000",
          "1996-09-01T00:00:00.000000000",
          "1996-10-01T00:00:00.000000000",
          "1996-11-01T00:00:00.000000000",
          "1996-12-01T00:00:00.000000000",
          "1997-01-01T00:00:00.000000000",
          "1997-02-01T00:00:00.000000000",
          "1997-03-01T00:00:00.000000000",
          "1997-04-01T00:00:00.000000000",
          "1997-05-01T00:00:00.000000000",
          "1997-06-01T00:00:00.000000000",
          "1997-07-01T00:00:00.000000000",
          "1997-08-01T00:00:00.000000000",
          "1997-09-01T00:00:00.000000000",
          "1997-10-01T00:00:00.000000000",
          "1997-11-01T00:00:00.000000000",
          "1997-12-01T00:00:00.000000000",
          "1998-01-01T00:00:00.000000000",
          "1998-02-01T00:00:00.000000000",
          "1998-03-01T00:00:00.000000000",
          "1998-04-01T00:00:00.000000000",
          "1998-05-01T00:00:00.000000000",
          "1998-06-01T00:00:00.000000000",
          "1998-07-01T00:00:00.000000000",
          "1998-08-01T00:00:00.000000000",
          "1998-09-01T00:00:00.000000000",
          "1998-10-01T00:00:00.000000000",
          "1998-11-01T00:00:00.000000000",
          "1998-12-01T00:00:00.000000000",
          "1999-01-01T00:00:00.000000000",
          "1999-02-01T00:00:00.000000000",
          "1999-03-01T00:00:00.000000000",
          "1999-04-01T00:00:00.000000000",
          "1999-05-01T00:00:00.000000000",
          "1999-06-01T00:00:00.000000000",
          "1999-07-01T00:00:00.000000000",
          "1999-08-01T00:00:00.000000000",
          "1999-09-01T00:00:00.000000000",
          "1999-10-01T00:00:00.000000000",
          "1999-11-01T00:00:00.000000000",
          "1999-12-01T00:00:00.000000000",
          "2000-01-01T00:00:00.000000000",
          "2000-02-01T00:00:00.000000000",
          "2000-03-01T00:00:00.000000000",
          "2000-04-01T00:00:00.000000000",
          "2000-05-01T00:00:00.000000000",
          "2000-06-01T00:00:00.000000000",
          "2000-07-01T00:00:00.000000000",
          "2000-08-01T00:00:00.000000000",
          "2000-09-01T00:00:00.000000000",
          "2000-10-01T00:00:00.000000000",
          "2000-11-01T00:00:00.000000000",
          "2000-12-01T00:00:00.000000000",
          "2001-01-01T00:00:00.000000000",
          "2001-02-01T00:00:00.000000000",
          "2001-03-01T00:00:00.000000000",
          "2001-04-01T00:00:00.000000000",
          "2001-05-01T00:00:00.000000000",
          "2001-06-01T00:00:00.000000000",
          "2001-07-01T00:00:00.000000000",
          "2001-08-01T00:00:00.000000000",
          "2001-09-01T00:00:00.000000000",
          "2001-10-01T00:00:00.000000000",
          "2001-11-01T00:00:00.000000000",
          "2001-12-01T00:00:00.000000000",
          "2002-01-01T00:00:00.000000000",
          "2002-02-01T00:00:00.000000000",
          "2002-03-01T00:00:00.000000000",
          "2002-04-01T00:00:00.000000000",
          "2002-05-01T00:00:00.000000000",
          "2002-06-01T00:00:00.000000000",
          "2002-07-01T00:00:00.000000000",
          "2002-08-01T00:00:00.000000000",
          "2002-09-01T00:00:00.000000000",
          "2002-10-01T00:00:00.000000000",
          "2002-11-01T00:00:00.000000000",
          "2002-12-01T00:00:00.000000000",
          "2003-01-01T00:00:00.000000000",
          "2003-02-01T00:00:00.000000000",
          "2003-03-01T00:00:00.000000000",
          "2003-04-01T00:00:00.000000000",
          "2003-05-01T00:00:00.000000000",
          "2003-06-01T00:00:00.000000000",
          "2003-07-01T00:00:00.000000000",
          "2003-08-01T00:00:00.000000000",
          "2003-09-01T00:00:00.000000000",
          "2003-10-01T00:00:00.000000000",
          "2003-11-01T00:00:00.000000000",
          "2003-12-01T00:00:00.000000000",
          "2004-01-01T00:00:00.000000000",
          "2004-02-01T00:00:00.000000000",
          "2004-03-01T00:00:00.000000000",
          "2004-04-01T00:00:00.000000000",
          "2004-05-01T00:00:00.000000000",
          "2004-06-01T00:00:00.000000000",
          "2004-07-01T00:00:00.000000000",
          "2004-08-01T00:00:00.000000000",
          "2004-09-01T00:00:00.000000000",
          "2004-10-01T00:00:00.000000000",
          "2004-11-01T00:00:00.000000000",
          "2004-12-01T00:00:00.000000000",
          "2005-01-01T00:00:00.000000000",
          "2005-02-01T00:00:00.000000000",
          "2005-03-01T00:00:00.000000000",
          "2005-04-01T00:00:00.000000000",
          "2005-05-01T00:00:00.000000000",
          "2005-06-01T00:00:00.000000000",
          "2005-07-01T00:00:00.000000000",
          "2005-08-01T00:00:00.000000000",
          "2005-09-01T00:00:00.000000000",
          "2005-10-01T00:00:00.000000000",
          "2005-11-01T00:00:00.000000000",
          "2005-12-01T00:00:00.000000000",
          "2006-01-01T00:00:00.000000000",
          "2006-02-01T00:00:00.000000000",
          "2006-03-01T00:00:00.000000000",
          "2006-04-01T00:00:00.000000000",
          "2006-05-01T00:00:00.000000000",
          "2006-06-01T00:00:00.000000000",
          "2006-07-01T00:00:00.000000000",
          "2006-08-01T00:00:00.000000000",
          "2006-09-01T00:00:00.000000000",
          "2006-10-01T00:00:00.000000000",
          "2006-11-01T00:00:00.000000000",
          "2006-12-01T00:00:00.000000000",
          "2007-01-01T00:00:00.000000000",
          "2007-02-01T00:00:00.000000000",
          "2007-03-01T00:00:00.000000000",
          "2007-04-01T00:00:00.000000000",
          "2007-05-01T00:00:00.000000000",
          "2007-06-01T00:00:00.000000000",
          "2007-07-01T00:00:00.000000000",
          "2007-08-01T00:00:00.000000000",
          "2007-09-01T00:00:00.000000000",
          "2007-10-01T00:00:00.000000000",
          "2007-11-01T00:00:00.000000000",
          "2007-12-01T00:00:00.000000000",
          "2008-01-01T00:00:00.000000000",
          "2008-02-01T00:00:00.000000000",
          "2008-03-01T00:00:00.000000000",
          "2008-04-01T00:00:00.000000000",
          "2008-05-01T00:00:00.000000000",
          "2008-06-01T00:00:00.000000000",
          "2008-07-01T00:00:00.000000000",
          "2008-08-01T00:00:00.000000000",
          "2008-09-01T00:00:00.000000000",
          "2008-10-01T00:00:00.000000000",
          "2008-11-01T00:00:00.000000000",
          "2008-12-01T00:00:00.000000000",
          "2009-01-01T00:00:00.000000000",
          "2009-02-01T00:00:00.000000000",
          "2009-03-01T00:00:00.000000000",
          "2009-04-01T00:00:00.000000000",
          "2009-05-01T00:00:00.000000000",
          "2009-06-01T00:00:00.000000000",
          "2009-07-01T00:00:00.000000000",
          "2009-08-01T00:00:00.000000000",
          "2009-09-01T00:00:00.000000000",
          "2009-10-01T00:00:00.000000000",
          "2009-11-01T00:00:00.000000000",
          "2009-12-01T00:00:00.000000000",
          "2010-01-01T00:00:00.000000000",
          "2010-02-01T00:00:00.000000000",
          "2010-03-01T00:00:00.000000000",
          "2010-04-01T00:00:00.000000000",
          "2010-05-01T00:00:00.000000000",
          "2010-06-01T00:00:00.000000000",
          "2010-07-01T00:00:00.000000000",
          "2010-08-01T00:00:00.000000000",
          "2010-09-01T00:00:00.000000000",
          "2010-10-01T00:00:00.000000000",
          "2010-11-01T00:00:00.000000000",
          "2010-12-01T00:00:00.000000000",
          "2011-01-01T00:00:00.000000000",
          "2011-02-01T00:00:00.000000000",
          "2011-03-01T00:00:00.000000000",
          "2011-04-01T00:00:00.000000000",
          "2011-05-01T00:00:00.000000000",
          "2011-06-01T00:00:00.000000000",
          "2011-07-01T00:00:00.000000000",
          "2011-08-01T00:00:00.000000000",
          "2011-09-01T00:00:00.000000000",
          "2011-10-01T00:00:00.000000000",
          "2011-11-01T00:00:00.000000000",
          "2011-12-01T00:00:00.000000000",
          "2012-01-01T00:00:00.000000000",
          "2012-02-01T00:00:00.000000000",
          "2012-03-01T00:00:00.000000000",
          "2012-04-01T00:00:00.000000000",
          "2012-05-01T00:00:00.000000000",
          "2012-06-01T00:00:00.000000000",
          "2012-07-01T00:00:00.000000000",
          "2012-08-01T00:00:00.000000000",
          "2012-09-01T00:00:00.000000000",
          "2012-10-01T00:00:00.000000000",
          "2012-11-01T00:00:00.000000000",
          "2012-12-01T00:00:00.000000000",
          "2013-01-01T00:00:00.000000000",
          "2013-02-01T00:00:00.000000000",
          "2013-03-01T00:00:00.000000000",
          "2013-04-01T00:00:00.000000000",
          "2013-05-01T00:00:00.000000000",
          "2013-06-01T00:00:00.000000000",
          "2013-07-01T00:00:00.000000000",
          "2013-08-01T00:00:00.000000000",
          "2013-09-01T00:00:00.000000000",
          "2013-10-01T00:00:00.000000000",
          "2013-11-01T00:00:00.000000000",
          "2013-12-01T00:00:00.000000000",
          "2014-01-01T00:00:00.000000000",
          "2014-02-01T00:00:00.000000000",
          "2014-03-01T00:00:00.000000000",
          "2014-04-01T00:00:00.000000000",
          "2014-05-01T00:00:00.000000000",
          "2014-06-01T00:00:00.000000000",
          "2014-07-01T00:00:00.000000000",
          "2014-08-01T00:00:00.000000000",
          "2014-09-01T00:00:00.000000000",
          "2014-10-01T00:00:00.000000000",
          "2014-11-01T00:00:00.000000000",
          "2014-12-01T00:00:00.000000000",
          "2015-01-01T00:00:00.000000000",
          "2015-02-01T00:00:00.000000000",
          "2015-03-01T00:00:00.000000000",
          "2015-04-01T00:00:00.000000000",
          "2015-05-01T00:00:00.000000000",
          "2015-06-01T00:00:00.000000000",
          "2015-07-01T00:00:00.000000000",
          "2015-08-01T00:00:00.000000000",
          "2015-09-01T00:00:00.000000000",
          "2015-10-01T00:00:00.000000000",
          "2015-11-01T00:00:00.000000000",
          "2015-12-01T00:00:00.000000000",
          "2016-01-01T00:00:00.000000000",
          "2016-02-01T00:00:00.000000000",
          "2016-03-01T00:00:00.000000000",
          "2016-04-01T00:00:00.000000000",
          "2016-05-01T00:00:00.000000000",
          "2016-06-01T00:00:00.000000000",
          "2016-07-01T00:00:00.000000000",
          "2016-08-01T00:00:00.000000000",
          "2016-09-01T00:00:00.000000000",
          "2016-10-01T00:00:00.000000000",
          "2016-11-01T00:00:00.000000000",
          "2016-12-01T00:00:00.000000000",
          "2017-01-01T00:00:00.000000000",
          "2017-02-01T00:00:00.000000000",
          "2017-03-01T00:00:00.000000000",
          "2017-04-01T00:00:00.000000000",
          "2017-05-01T00:00:00.000000000",
          "2017-06-01T00:00:00.000000000",
          "2017-07-01T00:00:00.000000000",
          "2017-08-01T00:00:00.000000000",
          "2017-09-01T00:00:00.000000000",
          "2017-10-01T00:00:00.000000000",
          "2017-11-01T00:00:00.000000000",
          "2017-12-01T00:00:00.000000000",
          "2018-01-01T00:00:00.000000000",
          "2018-02-01T00:00:00.000000000",
          "2018-03-01T00:00:00.000000000",
          "2018-04-01T00:00:00.000000000",
          "2018-05-01T00:00:00.000000000",
          "2018-06-01T00:00:00.000000000",
          "2018-07-01T00:00:00.000000000",
          "2018-08-01T00:00:00.000000000",
          "2018-09-01T00:00:00.000000000",
          "2018-10-01T00:00:00.000000000",
          "2018-11-01T00:00:00.000000000",
          "2018-12-01T00:00:00.000000000",
          "2019-01-01T00:00:00.000000000",
          "2019-02-01T00:00:00.000000000",
          "2019-03-01T00:00:00.000000000",
          "2019-04-01T00:00:00.000000000",
          "2019-05-01T00:00:00.000000000",
          "2019-06-01T00:00:00.000000000",
          "2019-07-01T00:00:00.000000000",
          "2019-08-01T00:00:00.000000000",
          "2019-09-01T00:00:00.000000000",
          "2019-10-01T00:00:00.000000000",
          "2019-11-01T00:00:00.000000000",
          "2019-12-01T00:00:00.000000000",
          "2020-01-01T00:00:00.000000000",
          "2020-02-01T00:00:00.000000000",
          "2020-03-01T00:00:00.000000000",
          "2020-04-01T00:00:00.000000000",
          "2020-05-01T00:00:00.000000000",
          "2020-06-01T00:00:00.000000000",
          "2020-07-01T00:00:00.000000000",
          "2020-08-01T00:00:00.000000000",
          "2020-09-01T00:00:00.000000000",
          "2020-10-01T00:00:00.000000000",
          "2020-11-01T00:00:00.000000000",
          "2020-12-01T00:00:00.000000000",
          "2021-01-01T00:00:00.000000000",
          "2021-02-01T00:00:00.000000000",
          "2021-03-01T00:00:00.000000000",
          "2021-04-01T00:00:00.000000000",
          "2021-05-01T00:00:00.000000000",
          "2021-06-01T00:00:00.000000000",
          "2021-07-01T00:00:00.000000000",
          "2021-08-01T00:00:00.000000000",
          "2021-09-01T00:00:00.000000000",
          "2021-10-01T00:00:00.000000000",
          "2021-11-01T00:00:00.000000000",
          "2021-12-01T00:00:00.000000000",
          "2022-01-01T00:00:00.000000000",
          "2022-02-01T00:00:00.000000000",
          "2022-03-01T00:00:00.000000000",
          "2022-04-01T00:00:00.000000000",
          "2022-05-01T00:00:00.000000000",
          "2022-06-01T00:00:00.000000000",
          "2022-07-01T00:00:00.000000000",
          "2022-08-01T00:00:00.000000000",
          "2022-09-01T00:00:00.000000000",
          "2022-10-01T00:00:00.000000000",
          "2022-11-01T00:00:00.000000000",
          "2022-12-01T00:00:00.000000000",
          "2023-01-01T00:00:00.000000000",
          "2023-02-01T00:00:00.000000000",
          "2023-03-01T00:00:00.000000000",
          "2023-04-01T00:00:00.000000000",
          "2023-05-01T00:00:00.000000000",
          "2023-06-01T00:00:00.000000000",
          "2023-07-01T00:00:00.000000000",
          "2023-08-01T00:00:00.000000000",
          "2023-09-01T00:00:00.000000000",
          "2023-10-01T00:00:00.000000000",
          "2023-11-01T00:00:00.000000000",
          "2023-12-01T00:00:00.000000000",
          "2024-01-01T00:00:00.000000000",
          "2024-02-01T00:00:00.000000000",
          "2024-03-01T00:00:00.000000000",
          "2024-04-01T00:00:00.000000000",
          "2024-05-01T00:00:00.000000000",
          "2024-06-01T00:00:00.000000000",
          "2024-07-01T00:00:00.000000000",
          "2024-08-01T00:00:00.000000000",
          "2024-09-01T00:00:00.000000000",
          "2024-10-01T00:00:00.000000000",
          "2024-11-01T00:00:00.000000000",
          "2024-12-01T00:00:00.000000000"
         ],
         "xaxis": "x",
         "y": {
          "bdata": "EgAeAB4AJAA2AEIANwAsACUANQBNADQAMgA/AD8ASwBaAEAAPAAuAC0ANQAvADsAMgA0ADQAUwBoAEsAVQA8ADQAOgA2AEcAUwA8AEMAOAA7AFAARwA3AEwAQwBBAFoAOQAzAEIAQgBEAF4ATgBJAHYARwBJAFMAQgBPAFYATgBnAFoAbQBDAEYAVQBaAGMASABZAJkAWQB2AHEAaQBuAG0AcQBvAFsAXABuAGQAYgCEAGsAXABXAF8AgQB1AIcAbAB1AHIAhwCgAHkAkgBaAHkAkACcAKEAfwB4AI0AsAC3AJIAmgB8AKIAhgCgAKgAcgCfAKYAuQD2AOMAtQCmALwADAHMAPEAygCvAFwBxwAGAeAA5QDyAPgA4wAhAesAKwH+ADQB+wAYAScBNgE0AVUBYgFsAUcBPQFlAVwBNAFsAUMBjAGOAXsBogGKAbYBnwGjAa0ByQG0AZwBlQEpAb0BvwGIAb0BnQHkAQECuAGSAfYBAgLYAS8CJAI2AjgCKAL8AWQCgAI9Ak8CEQIBAocCmwKBAnsCEQKdAvkCrwLmAjADyQKfAhkDKAMiAyMD5gKEA6oDbANlA7MELATlAkkDUQTNA7cDvQR7BIwF5gOPA8kDDwRaA1wETAQiBN4EwARKBGwEiASKBI4EcAT9A00E6wTnBH8FcwT+BJUFGQU3BS0GnwXnBPUFuQXBBpUFIQUnBhMHcAZBB1YHUwZTBk8HmweYCJIHXAZlB0MJQwhCCdgIJAmHCK8JPQkoC68IOAjaCs0L+woADeMLtAuQCrsMnQ2sDk4MsgtUDP8NCRClEecQrA81DgMSwxIQEqwPoA0BEsgSBBQrE/QXvhXhEfkSHBprFWkVFhFiE8sXkxY5Ff8Z0xTGEvgWsRlAFUEV+xEcFQUbJRacGEwYzBYcFDoXWR7WGnIVtRLaF6secxihI6sdWxpHG9AdzyNyH8UehRv2I3YmHCFUJVgn+SN0HrEjlyQVI3Ap",
          "dtype": "i2"
         },
         "yaxis": "y"
        },
        {
         "hovertemplate": "<b>OLS trendline</b><br>log10(count) = 2.50403e-09 * period + -0.38432<br>R<sup>2</sup>=0.985285<br><br>period=%{x}<br>count=%{y} <b>(trend)</b><extra></extra>",
         "legendgroup": "",
         "line": {
          "color": "red"
         },
         "marker": {
          "color": "#636efa",
          "symbol": "circle"
         },
         "mode": "lines",
         "name": "",
         "showlegend": false,
         "type": "scatter",
         "x": [
          "1994-01-01T00:00:00.000000000",
          "1994-02-01T00:00:00.000000000",
          "1994-03-01T00:00:00.000000000",
          "1994-04-01T00:00:00.000000000",
          "1994-05-01T00:00:00.000000000",
          "1994-06-01T00:00:00.000000000",
          "1994-07-01T00:00:00.000000000",
          "1994-08-01T00:00:00.000000000",
          "1994-09-01T00:00:00.000000000",
          "1994-10-01T00:00:00.000000000",
          "1994-11-01T00:00:00.000000000",
          "1994-12-01T00:00:00.000000000",
          "1995-01-01T00:00:00.000000000",
          "1995-02-01T00:00:00.000000000",
          "1995-03-01T00:00:00.000000000",
          "1995-04-01T00:00:00.000000000",
          "1995-05-01T00:00:00.000000000",
          "1995-06-01T00:00:00.000000000",
          "1995-07-01T00:00:00.000000000",
          "1995-08-01T00:00:00.000000000",
          "1995-09-01T00:00:00.000000000",
          "1995-10-01T00:00:00.000000000",
          "1995-11-01T00:00:00.000000000",
          "1995-12-01T00:00:00.000000000",
          "1996-01-01T00:00:00.000000000",
          "1996-02-01T00:00:00.000000000",
          "1996-03-01T00:00:00.000000000",
          "1996-04-01T00:00:00.000000000",
          "1996-05-01T00:00:00.000000000",
          "1996-06-01T00:00:00.000000000",
          "1996-07-01T00:00:00.000000000",
          "1996-08-01T00:00:00.000000000",
          "1996-09-01T00:00:00.000000000",
          "1996-10-01T00:00:00.000000000",
          "1996-11-01T00:00:00.000000000",
          "1996-12-01T00:00:00.000000000",
          "1997-01-01T00:00:00.000000000",
          "1997-02-01T00:00:00.000000000",
          "1997-03-01T00:00:00.000000000",
          "1997-04-01T00:00:00.000000000",
          "1997-05-01T00:00:00.000000000",
          "1997-06-01T00:00:00.000000000",
          "1997-07-01T00:00:00.000000000",
          "1997-08-01T00:00:00.000000000",
          "1997-09-01T00:00:00.000000000",
          "1997-10-01T00:00:00.000000000",
          "1997-11-01T00:00:00.000000000",
          "1997-12-01T00:00:00.000000000",
          "1998-01-01T00:00:00.000000000",
          "1998-02-01T00:00:00.000000000",
          "1998-03-01T00:00:00.000000000",
          "1998-04-01T00:00:00.000000000",
          "1998-05-01T00:00:00.000000000",
          "1998-06-01T00:00:00.000000000",
          "1998-07-01T00:00:00.000000000",
          "1998-08-01T00:00:00.000000000",
          "1998-09-01T00:00:00.000000000",
          "1998-10-01T00:00:00.000000000",
          "1998-11-01T00:00:00.000000000",
          "1998-12-01T00:00:00.000000000",
          "1999-01-01T00:00:00.000000000",
          "1999-02-01T00:00:00.000000000",
          "1999-03-01T00:00:00.000000000",
          "1999-04-01T00:00:00.000000000",
          "1999-05-01T00:00:00.000000000",
          "1999-06-01T00:00:00.000000000",
          "1999-07-01T00:00:00.000000000",
          "1999-08-01T00:00:00.000000000",
          "1999-09-01T00:00:00.000000000",
          "1999-10-01T00:00:00.000000000",
          "1999-11-01T00:00:00.000000000",
          "1999-12-01T00:00:00.000000000",
          "2000-01-01T00:00:00.000000000",
          "2000-02-01T00:00:00.000000000",
          "2000-03-01T00:00:00.000000000",
          "2000-04-01T00:00:00.000000000",
          "2000-05-01T00:00:00.000000000",
          "2000-06-01T00:00:00.000000000",
          "2000-07-01T00:00:00.000000000",
          "2000-08-01T00:00:00.000000000",
          "2000-09-01T00:00:00.000000000",
          "2000-10-01T00:00:00.000000000",
          "2000-11-01T00:00:00.000000000",
          "2000-12-01T00:00:00.000000000",
          "2001-01-01T00:00:00.000000000",
          "2001-02-01T00:00:00.000000000",
          "2001-03-01T00:00:00.000000000",
          "2001-04-01T00:00:00.000000000",
          "2001-05-01T00:00:00.000000000",
          "2001-06-01T00:00:00.000000000",
          "2001-07-01T00:00:00.000000000",
          "2001-08-01T00:00:00.000000000",
          "2001-09-01T00:00:00.000000000",
          "2001-10-01T00:00:00.000000000",
          "2001-11-01T00:00:00.000000000",
          "2001-12-01T00:00:00.000000000",
          "2002-01-01T00:00:00.000000000",
          "2002-02-01T00:00:00.000000000",
          "2002-03-01T00:00:00.000000000",
          "2002-04-01T00:00:00.000000000",
          "2002-05-01T00:00:00.000000000",
          "2002-06-01T00:00:00.000000000",
          "2002-07-01T00:00:00.000000000",
          "2002-08-01T00:00:00.000000000",
          "2002-09-01T00:00:00.000000000",
          "2002-10-01T00:00:00.000000000",
          "2002-11-01T00:00:00.000000000",
          "2002-12-01T00:00:00.000000000",
          "2003-01-01T00:00:00.000000000",
          "2003-02-01T00:00:00.000000000",
          "2003-03-01T00:00:00.000000000",
          "2003-04-01T00:00:00.000000000",
          "2003-05-01T00:00:00.000000000",
          "2003-06-01T00:00:00.000000000",
          "2003-07-01T00:00:00.000000000",
          "2003-08-01T00:00:00.000000000",
          "2003-09-01T00:00:00.000000000",
          "2003-10-01T00:00:00.000000000",
          "2003-11-01T00:00:00.000000000",
          "2003-12-01T00:00:00.000000000",
          "2004-01-01T00:00:00.000000000",
          "2004-02-01T00:00:00.000000000",
          "2004-03-01T00:00:00.000000000",
          "2004-04-01T00:00:00.000000000",
          "2004-05-01T00:00:00.000000000",
          "2004-06-01T00:00:00.000000000",
          "2004-07-01T00:00:00.000000000",
          "2004-08-01T00:00:00.000000000",
          "2004-09-01T00:00:00.000000000",
          "2004-10-01T00:00:00.000000000",
          "2004-11-01T00:00:00.000000000",
          "2004-12-01T00:00:00.000000000",
          "2005-01-01T00:00:00.000000000",
          "2005-02-01T00:00:00.000000000",
          "2005-03-01T00:00:00.000000000",
          "2005-04-01T00:00:00.000000000",
          "2005-05-01T00:00:00.000000000",
          "2005-06-01T00:00:00.000000000",
          "2005-07-01T00:00:00.000000000",
          "2005-08-01T00:00:00.000000000",
          "2005-09-01T00:00:00.000000000",
          "2005-10-01T00:00:00.000000000",
          "2005-11-01T00:00:00.000000000",
          "2005-12-01T00:00:00.000000000",
          "2006-01-01T00:00:00.000000000",
          "2006-02-01T00:00:00.000000000",
          "2006-03-01T00:00:00.000000000",
          "2006-04-01T00:00:00.000000000",
          "2006-05-01T00:00:00.000000000",
          "2006-06-01T00:00:00.000000000",
          "2006-07-01T00:00:00.000000000",
          "2006-08-01T00:00:00.000000000",
          "2006-09-01T00:00:00.000000000",
          "2006-10-01T00:00:00.000000000",
          "2006-11-01T00:00:00.000000000",
          "2006-12-01T00:00:00.000000000",
          "2007-01-01T00:00:00.000000000",
          "2007-02-01T00:00:00.000000000",
          "2007-03-01T00:00:00.000000000",
          "2007-04-01T00:00:00.000000000",
          "2007-05-01T00:00:00.000000000",
          "2007-06-01T00:00:00.000000000",
          "2007-07-01T00:00:00.000000000",
          "2007-08-01T00:00:00.000000000",
          "2007-09-01T00:00:00.000000000",
          "2007-10-01T00:00:00.000000000",
          "2007-11-01T00:00:00.000000000",
          "2007-12-01T00:00:00.000000000",
          "2008-01-01T00:00:00.000000000",
          "2008-02-01T00:00:00.000000000",
          "2008-03-01T00:00:00.000000000",
          "2008-04-01T00:00:00.000000000",
          "2008-05-01T00:00:00.000000000",
          "2008-06-01T00:00:00.000000000",
          "2008-07-01T00:00:00.000000000",
          "2008-08-01T00:00:00.000000000",
          "2008-09-01T00:00:00.000000000",
          "2008-10-01T00:00:00.000000000",
          "2008-11-01T00:00:00.000000000",
          "2008-12-01T00:00:00.000000000",
          "2009-01-01T00:00:00.000000000",
          "2009-02-01T00:00:00.000000000",
          "2009-03-01T00:00:00.000000000",
          "2009-04-01T00:00:00.000000000",
          "2009-05-01T00:00:00.000000000",
          "2009-06-01T00:00:00.000000000",
          "2009-07-01T00:00:00.000000000",
          "2009-08-01T00:00:00.000000000",
          "2009-09-01T00:00:00.000000000",
          "2009-10-01T00:00:00.000000000",
          "2009-11-01T00:00:00.000000000",
          "2009-12-01T00:00:00.000000000",
          "2010-01-01T00:00:00.000000000",
          "2010-02-01T00:00:00.000000000",
          "2010-03-01T00:00:00.000000000",
          "2010-04-01T00:00:00.000000000",
          "2010-05-01T00:00:00.000000000",
          "2010-06-01T00:00:00.000000000",
          "2010-07-01T00:00:00.000000000",
          "2010-08-01T00:00:00.000000000",
          "2010-09-01T00:00:00.000000000",
          "2010-10-01T00:00:00.000000000",
          "2010-11-01T00:00:00.000000000",
          "2010-12-01T00:00:00.000000000",
          "2011-01-01T00:00:00.000000000",
          "2011-02-01T00:00:00.000000000",
          "2011-03-01T00:00:00.000000000",
          "2011-04-01T00:00:00.000000000",
          "2011-05-01T00:00:00.000000000",
          "2011-06-01T00:00:00.000000000",
          "2011-07-01T00:00:00.000000000",
          "2011-08-01T00:00:00.000000000",
          "2011-09-01T00:00:00.000000000",
          "2011-10-01T00:00:00.000000000",
          "2011-11-01T00:00:00.000000000",
          "2011-12-01T00:00:00.000000000",
          "2012-01-01T00:00:00.000000000",
          "2012-02-01T00:00:00.000000000",
          "2012-03-01T00:00:00.000000000",
          "2012-04-01T00:00:00.000000000",
          "2012-05-01T00:00:00.000000000",
          "2012-06-01T00:00:00.000000000",
          "2012-07-01T00:00:00.000000000",
          "2012-08-01T00:00:00.000000000",
          "2012-09-01T00:00:00.000000000",
          "2012-10-01T00:00:00.000000000",
          "2012-11-01T00:00:00.000000000",
          "2012-12-01T00:00:00.000000000",
          "2013-01-01T00:00:00.000000000",
          "2013-02-01T00:00:00.000000000",
          "2013-03-01T00:00:00.000000000",
          "2013-04-01T00:00:00.000000000",
          "2013-05-01T00:00:00.000000000",
          "2013-06-01T00:00:00.000000000",
          "2013-07-01T00:00:00.000000000",
          "2013-08-01T00:00:00.000000000",
          "2013-09-01T00:00:00.000000000",
          "2013-10-01T00:00:00.000000000",
          "2013-11-01T00:00:00.000000000",
          "2013-12-01T00:00:00.000000000",
          "2014-01-01T00:00:00.000000000",
          "2014-02-01T00:00:00.000000000",
          "2014-03-01T00:00:00.000000000",
          "2014-04-01T00:00:00.000000000",
          "2014-05-01T00:00:00.000000000",
          "2014-06-01T00:00:00.000000000",
          "2014-07-01T00:00:00.000000000",
          "2014-08-01T00:00:00.000000000",
          "2014-09-01T00:00:00.000000000",
          "2014-10-01T00:00:00.000000000",
          "2014-11-01T00:00:00.000000000",
          "2014-12-01T00:00:00.000000000",
          "2015-01-01T00:00:00.000000000",
          "2015-02-01T00:00:00.000000000",
          "2015-03-01T00:00:00.000000000",
          "2015-04-01T00:00:00.000000000",
          "2015-05-01T00:00:00.000000000",
          "2015-06-01T00:00:00.000000000",
          "2015-07-01T00:00:00.000000000",
          "2015-08-01T00:00:00.000000000",
          "2015-09-01T00:00:00.000000000",
          "2015-10-01T00:00:00.000000000",
          "2015-11-01T00:00:00.000000000",
          "2015-12-01T00:00:00.000000000",
          "2016-01-01T00:00:00.000000000",
          "2016-02-01T00:00:00.000000000",
          "2016-03-01T00:00:00.000000000",
          "2016-04-01T00:00:00.000000000",
          "2016-05-01T00:00:00.000000000",
          "2016-06-01T00:00:00.000000000",
          "2016-07-01T00:00:00.000000000",
          "2016-08-01T00:00:00.000000000",
          "2016-09-01T00:00:00.000000000",
          "2016-10-01T00:00:00.000000000",
          "2016-11-01T00:00:00.000000000",
          "2016-12-01T00:00:00.000000000",
          "2017-01-01T00:00:00.000000000",
          "2017-02-01T00:00:00.000000000",
          "2017-03-01T00:00:00.000000000",
          "2017-04-01T00:00:00.000000000",
          "2017-05-01T00:00:00.000000000",
          "2017-06-01T00:00:00.000000000",
          "2017-07-01T00:00:00.000000000",
          "2017-08-01T00:00:00.000000000",
          "2017-09-01T00:00:00.000000000",
          "2017-10-01T00:00:00.000000000",
          "2017-11-01T00:00:00.000000000",
          "2017-12-01T00:00:00.000000000",
          "2018-01-01T00:00:00.000000000",
          "2018-02-01T00:00:00.000000000",
          "2018-03-01T00:00:00.000000000",
          "2018-04-01T00:00:00.000000000",
          "2018-05-01T00:00:00.000000000",
          "2018-06-01T00:00:00.000000000",
          "2018-07-01T00:00:00.000000000",
          "2018-08-01T00:00:00.000000000",
          "2018-09-01T00:00:00.000000000",
          "2018-10-01T00:00:00.000000000",
          "2018-11-01T00:00:00.000000000",
          "2018-12-01T00:00:00.000000000",
          "2019-01-01T00:00:00.000000000",
          "2019-02-01T00:00:00.000000000",
          "2019-03-01T00:00:00.000000000",
          "2019-04-01T00:00:00.000000000",
          "2019-05-01T00:00:00.000000000",
          "2019-06-01T00:00:00.000000000",
          "2019-07-01T00:00:00.000000000",
          "2019-08-01T00:00:00.000000000",
          "2019-09-01T00:00:00.000000000",
          "2019-10-01T00:00:00.000000000",
          "2019-11-01T00:00:00.000000000",
          "2019-12-01T00:00:00.000000000",
          "2020-01-01T00:00:00.000000000",
          "2020-02-01T00:00:00.000000000",
          "2020-03-01T00:00:00.000000000",
          "2020-04-01T00:00:00.000000000",
          "2020-05-01T00:00:00.000000000",
          "2020-06-01T00:00:00.000000000",
          "2020-07-01T00:00:00.000000000",
          "2020-08-01T00:00:00.000000000",
          "2020-09-01T00:00:00.000000000",
          "2020-10-01T00:00:00.000000000",
          "2020-11-01T00:00:00.000000000",
          "2020-12-01T00:00:00.000000000",
          "2021-01-01T00:00:00.000000000",
          "2021-02-01T00:00:00.000000000",
          "2021-03-01T00:00:00.000000000",
          "2021-04-01T00:00:00.000000000",
          "2021-05-01T00:00:00.000000000",
          "2021-06-01T00:00:00.000000000",
          "2021-07-01T00:00:00.000000000",
          "2021-08-01T00:00:00.000000000",
          "2021-09-01T00:00:00.000000000",
          "2021-10-01T00:00:00.000000000",
          "2021-11-01T00:00:00.000000000",
          "2021-12-01T00:00:00.000000000",
          "2022-01-01T00:00:00.000000000",
          "2022-02-01T00:00:00.000000000",
          "2022-03-01T00:00:00.000000000",
          "2022-04-01T00:00:00.000000000",
          "2022-05-01T00:00:00.000000000",
          "2022-06-01T00:00:00.000000000",
          "2022-07-01T00:00:00.000000000",
          "2022-08-01T00:00:00.000000000",
          "2022-09-01T00:00:00.000000000",
          "2022-10-01T00:00:00.000000000",
          "2022-11-01T00:00:00.000000000",
          "2022-12-01T00:00:00.000000000",
          "2023-01-01T00:00:00.000000000",
          "2023-02-01T00:00:00.000000000",
          "2023-03-01T00:00:00.000000000",
          "2023-04-01T00:00:00.000000000",
          "2023-05-01T00:00:00.000000000",
          "2023-06-01T00:00:00.000000000",
          "2023-07-01T00:00:00.000000000",
          "2023-08-01T00:00:00.000000000",
          "2023-09-01T00:00:00.000000000",
          "2023-10-01T00:00:00.000000000",
          "2023-11-01T00:00:00.000000000",
          "2023-12-01T00:00:00.000000000",
          "2024-01-01T00:00:00.000000000",
          "2024-02-01T00:00:00.000000000",
          "2024-03-01T00:00:00.000000000",
          "2024-04-01T00:00:00.000000000",
          "2024-05-01T00:00:00.000000000",
          "2024-06-01T00:00:00.000000000",
          "2024-07-01T00:00:00.000000000",
          "2024-08-01T00:00:00.000000000",
          "2024-09-01T00:00:00.000000000",
          "2024-10-01T00:00:00.000000000",
          "2024-11-01T00:00:00.000000000",
          "2024-12-01T00:00:00.000000000"
         ],
         "xaxis": "x",
         "y": {
          "bdata": "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",
          "dtype": "f8"
         },
         "yaxis": "y"
        },
        {
         "hovertemplate": "period=%{x}<br>count=%{y}<extra></extra>",
         "legendgroup": "",
         "marker": {
          "color": "#636efa",
          "symbol": "circle"
         },
         "mode": "markers",
         "name": "",
         "orientation": "v",
         "showlegend": false,
         "type": "scatter",
         "x": [
          "1994-01-01T00:00:00.000000000",
          "1994-02-01T00:00:00.000000000",
          "1994-03-01T00:00:00.000000000",
          "1994-04-01T00:00:00.000000000",
          "1994-05-01T00:00:00.000000000",
          "1994-06-01T00:00:00.000000000",
          "1994-07-01T00:00:00.000000000",
          "1994-08-01T00:00:00.000000000",
          "1994-09-01T00:00:00.000000000",
          "1994-10-01T00:00:00.000000000",
          "1994-11-01T00:00:00.000000000",
          "1994-12-01T00:00:00.000000000",
          "1995-01-01T00:00:00.000000000",
          "1995-02-01T00:00:00.000000000",
          "1995-03-01T00:00:00.000000000",
          "1995-04-01T00:00:00.000000000",
          "1995-05-01T00:00:00.000000000",
          "1995-06-01T00:00:00.000000000",
          "1995-07-01T00:00:00.000000000",
          "1995-08-01T00:00:00.000000000",
          "1995-09-01T00:00:00.000000000",
          "1995-10-01T00:00:00.000000000",
          "1995-11-01T00:00:00.000000000",
          "1995-12-01T00:00:00.000000000",
          "1996-01-01T00:00:00.000000000",
          "1996-02-01T00:00:00.000000000",
          "1996-03-01T00:00:00.000000000",
          "1996-04-01T00:00:00.000000000",
          "1996-05-01T00:00:00.000000000",
          "1996-06-01T00:00:00.000000000",
          "1996-07-01T00:00:00.000000000",
          "1996-08-01T00:00:00.000000000",
          "1996-09-01T00:00:00.000000000",
          "1996-10-01T00:00:00.000000000",
          "1996-11-01T00:00:00.000000000",
          "1996-12-01T00:00:00.000000000",
          "1997-01-01T00:00:00.000000000",
          "1997-02-01T00:00:00.000000000",
          "1997-03-01T00:00:00.000000000",
          "1997-04-01T00:00:00.000000000",
          "1997-05-01T00:00:00.000000000",
          "1997-06-01T00:00:00.000000000",
          "1997-07-01T00:00:00.000000000",
          "1997-08-01T00:00:00.000000000",
          "1997-09-01T00:00:00.000000000",
          "1997-10-01T00:00:00.000000000",
          "1997-11-01T00:00:00.000000000",
          "1997-12-01T00:00:00.000000000",
          "1998-01-01T00:00:00.000000000",
          "1998-02-01T00:00:00.000000000",
          "1998-03-01T00:00:00.000000000",
          "1998-04-01T00:00:00.000000000",
          "1998-05-01T00:00:00.000000000",
          "1998-06-01T00:00:00.000000000",
          "1998-07-01T00:00:00.000000000",
          "1998-08-01T00:00:00.000000000",
          "1998-09-01T00:00:00.000000000",
          "1998-10-01T00:00:00.000000000",
          "1998-11-01T00:00:00.000000000",
          "1998-12-01T00:00:00.000000000",
          "1999-01-01T00:00:00.000000000",
          "1999-02-01T00:00:00.000000000",
          "1999-03-01T00:00:00.000000000",
          "1999-04-01T00:00:00.000000000",
          "1999-05-01T00:00:00.000000000",
          "1999-06-01T00:00:00.000000000",
          "1999-07-01T00:00:00.000000000",
          "1999-08-01T00:00:00.000000000",
          "1999-09-01T00:00:00.000000000",
          "1999-10-01T00:00:00.000000000",
          "1999-11-01T00:00:00.000000000",
          "1999-12-01T00:00:00.000000000",
          "2000-01-01T00:00:00.000000000",
          "2000-02-01T00:00:00.000000000",
          "2000-03-01T00:00:00.000000000",
          "2000-04-01T00:00:00.000000000",
          "2000-05-01T00:00:00.000000000",
          "2000-06-01T00:00:00.000000000",
          "2000-07-01T00:00:00.000000000",
          "2000-08-01T00:00:00.000000000",
          "2000-09-01T00:00:00.000000000",
          "2000-10-01T00:00:00.000000000",
          "2000-11-01T00:00:00.000000000",
          "2000-12-01T00:00:00.000000000",
          "2001-01-01T00:00:00.000000000",
          "2001-02-01T00:00:00.000000000",
          "2001-03-01T00:00:00.000000000",
          "2001-04-01T00:00:00.000000000",
          "2001-05-01T00:00:00.000000000",
          "2001-06-01T00:00:00.000000000",
          "2001-07-01T00:00:00.000000000",
          "2001-08-01T00:00:00.000000000",
          "2001-09-01T00:00:00.000000000",
          "2001-10-01T00:00:00.000000000",
          "2001-11-01T00:00:00.000000000",
          "2001-12-01T00:00:00.000000000",
          "2002-01-01T00:00:00.000000000",
          "2002-02-01T00:00:00.000000000",
          "2002-03-01T00:00:00.000000000",
          "2002-04-01T00:00:00.000000000",
          "2002-05-01T00:00:00.000000000",
          "2002-06-01T00:00:00.000000000",
          "2002-07-01T00:00:00.000000000",
          "2002-08-01T00:00:00.000000000",
          "2002-09-01T00:00:00.000000000",
          "2002-10-01T00:00:00.000000000",
          "2002-11-01T00:00:00.000000000",
          "2002-12-01T00:00:00.000000000",
          "2003-01-01T00:00:00.000000000",
          "2003-02-01T00:00:00.000000000",
          "2003-03-01T00:00:00.000000000",
          "2003-04-01T00:00:00.000000000",
          "2003-05-01T00:00:00.000000000",
          "2003-06-01T00:00:00.000000000",
          "2003-07-01T00:00:00.000000000",
          "2003-08-01T00:00:00.000000000",
          "2003-09-01T00:00:00.000000000",
          "2003-10-01T00:00:00.000000000",
          "2003-11-01T00:00:00.000000000",
          "2003-12-01T00:00:00.000000000",
          "2004-01-01T00:00:00.000000000",
          "2004-02-01T00:00:00.000000000",
          "2004-03-01T00:00:00.000000000",
          "2004-04-01T00:00:00.000000000",
          "2004-05-01T00:00:00.000000000",
          "2004-06-01T00:00:00.000000000",
          "2004-07-01T00:00:00.000000000",
          "2004-08-01T00:00:00.000000000",
          "2004-09-01T00:00:00.000000000",
          "2004-10-01T00:00:00.000000000",
          "2004-11-01T00:00:00.000000000",
          "2004-12-01T00:00:00.000000000",
          "2005-01-01T00:00:00.000000000",
          "2005-02-01T00:00:00.000000000",
          "2005-03-01T00:00:00.000000000",
          "2005-04-01T00:00:00.000000000",
          "2005-05-01T00:00:00.000000000",
          "2005-06-01T00:00:00.000000000",
          "2005-07-01T00:00:00.000000000",
          "2005-08-01T00:00:00.000000000",
          "2005-09-01T00:00:00.000000000",
          "2005-10-01T00:00:00.000000000",
          "2005-11-01T00:00:00.000000000",
          "2005-12-01T00:00:00.000000000",
          "2006-01-01T00:00:00.000000000",
          "2006-02-01T00:00:00.000000000",
          "2006-03-01T00:00:00.000000000",
          "2006-04-01T00:00:00.000000000",
          "2006-05-01T00:00:00.000000000",
          "2006-06-01T00:00:00.000000000",
          "2006-07-01T00:00:00.000000000",
          "2006-08-01T00:00:00.000000000",
          "2006-09-01T00:00:00.000000000",
          "2006-10-01T00:00:00.000000000",
          "2006-11-01T00:00:00.000000000",
          "2006-12-01T00:00:00.000000000",
          "2007-01-01T00:00:00.000000000",
          "2007-02-01T00:00:00.000000000",
          "2007-03-01T00:00:00.000000000",
          "2007-04-01T00:00:00.000000000",
          "2007-05-01T00:00:00.000000000",
          "2007-06-01T00:00:00.000000000",
          "2007-07-01T00:00:00.000000000",
          "2007-08-01T00:00:00.000000000",
          "2007-09-01T00:00:00.000000000",
          "2007-10-01T00:00:00.000000000",
          "2007-11-01T00:00:00.000000000",
          "2007-12-01T00:00:00.000000000",
          "2008-01-01T00:00:00.000000000",
          "2008-02-01T00:00:00.000000000",
          "2008-03-01T00:00:00.000000000",
          "2008-04-01T00:00:00.000000000",
          "2008-05-01T00:00:00.000000000",
          "2008-06-01T00:00:00.000000000",
          "2008-07-01T00:00:00.000000000",
          "2008-08-01T00:00:00.000000000",
          "2008-09-01T00:00:00.000000000",
          "2008-10-01T00:00:00.000000000",
          "2008-11-01T00:00:00.000000000",
          "2008-12-01T00:00:00.000000000",
          "2009-01-01T00:00:00.000000000",
          "2009-02-01T00:00:00.000000000",
          "2009-03-01T00:00:00.000000000",
          "2009-04-01T00:00:00.000000000",
          "2009-05-01T00:00:00.000000000",
          "2009-06-01T00:00:00.000000000",
          "2009-07-01T00:00:00.000000000",
          "2009-08-01T00:00:00.000000000",
          "2009-09-01T00:00:00.000000000",
          "2009-10-01T00:00:00.000000000",
          "2009-11-01T00:00:00.000000000",
          "2009-12-01T00:00:00.000000000",
          "2010-01-01T00:00:00.000000000",
          "2010-02-01T00:00:00.000000000",
          "2010-03-01T00:00:00.000000000",
          "2010-04-01T00:00:00.000000000",
          "2010-05-01T00:00:00.000000000",
          "2010-06-01T00:00:00.000000000",
          "2010-07-01T00:00:00.000000000",
          "2010-08-01T00:00:00.000000000",
          "2010-09-01T00:00:00.000000000",
          "2010-10-01T00:00:00.000000000",
          "2010-11-01T00:00:00.000000000",
          "2010-12-01T00:00:00.000000000",
          "2011-01-01T00:00:00.000000000",
          "2011-02-01T00:00:00.000000000",
          "2011-03-01T00:00:00.000000000",
          "2011-04-01T00:00:00.000000000",
          "2011-05-01T00:00:00.000000000",
          "2011-06-01T00:00:00.000000000",
          "2011-07-01T00:00:00.000000000",
          "2011-08-01T00:00:00.000000000",
          "2011-09-01T00:00:00.000000000",
          "2011-10-01T00:00:00.000000000",
          "2011-11-01T00:00:00.000000000",
          "2011-12-01T00:00:00.000000000",
          "2012-01-01T00:00:00.000000000",
          "2012-02-01T00:00:00.000000000",
          "2012-03-01T00:00:00.000000000",
          "2012-04-01T00:00:00.000000000",
          "2012-05-01T00:00:00.000000000",
          "2012-06-01T00:00:00.000000000",
          "2012-07-01T00:00:00.000000000",
          "2012-08-01T00:00:00.000000000",
          "2012-09-01T00:00:00.000000000",
          "2012-10-01T00:00:00.000000000",
          "2012-11-01T00:00:00.000000000",
          "2012-12-01T00:00:00.000000000",
          "2013-01-01T00:00:00.000000000",
          "2013-02-01T00:00:00.000000000",
          "2013-03-01T00:00:00.000000000",
          "2013-04-01T00:00:00.000000000",
          "2013-05-01T00:00:00.000000000",
          "2013-06-01T00:00:00.000000000",
          "2013-07-01T00:00:00.000000000",
          "2013-08-01T00:00:00.000000000",
          "2013-09-01T00:00:00.000000000",
          "2013-10-01T00:00:00.000000000",
          "2013-11-01T00:00:00.000000000",
          "2013-12-01T00:00:00.000000000",
          "2014-01-01T00:00:00.000000000",
          "2014-02-01T00:00:00.000000000",
          "2014-03-01T00:00:00.000000000",
          "2014-04-01T00:00:00.000000000",
          "2014-05-01T00:00:00.000000000",
          "2014-06-01T00:00:00.000000000",
          "2014-07-01T00:00:00.000000000",
          "2014-08-01T00:00:00.000000000",
          "2014-09-01T00:00:00.000000000",
          "2014-10-01T00:00:00.000000000",
          "2014-11-01T00:00:00.000000000",
          "2014-12-01T00:00:00.000000000",
          "2015-01-01T00:00:00.000000000",
          "2015-02-01T00:00:00.000000000",
          "2015-03-01T00:00:00.000000000",
          "2015-04-01T00:00:00.000000000",
          "2015-05-01T00:00:00.000000000",
          "2015-06-01T00:00:00.000000000",
          "2015-07-01T00:00:00.000000000",
          "2015-08-01T00:00:00.000000000",
          "2015-09-01T00:00:00.000000000",
          "2015-10-01T00:00:00.000000000",
          "2015-11-01T00:00:00.000000000",
          "2015-12-01T00:00:00.000000000",
          "2016-01-01T00:00:00.000000000",
          "2016-02-01T00:00:00.000000000",
          "2016-03-01T00:00:00.000000000",
          "2016-04-01T00:00:00.000000000",
          "2016-05-01T00:00:00.000000000",
          "2016-06-01T00:00:00.000000000",
          "2016-07-01T00:00:00.000000000",
          "2016-08-01T00:00:00.000000000",
          "2016-09-01T00:00:00.000000000",
          "2016-10-01T00:00:00.000000000",
          "2016-11-01T00:00:00.000000000",
          "2016-12-01T00:00:00.000000000",
          "2017-01-01T00:00:00.000000000",
          "2017-02-01T00:00:00.000000000",
          "2017-03-01T00:00:00.000000000",
          "2017-04-01T00:00:00.000000000",
          "2017-05-01T00:00:00.000000000",
          "2017-06-01T00:00:00.000000000",
          "2017-07-01T00:00:00.000000000",
          "2017-08-01T00:00:00.000000000",
          "2017-09-01T00:00:00.000000000",
          "2017-10-01T00:00:00.000000000",
          "2017-11-01T00:00:00.000000000",
          "2017-12-01T00:00:00.000000000",
          "2018-01-01T00:00:00.000000000",
          "2018-02-01T00:00:00.000000000",
          "2018-03-01T00:00:00.000000000",
          "2018-04-01T00:00:00.000000000",
          "2018-05-01T00:00:00.000000000",
          "2018-06-01T00:00:00.000000000",
          "2018-07-01T00:00:00.000000000",
          "2018-08-01T00:00:00.000000000",
          "2018-09-01T00:00:00.000000000",
          "2018-10-01T00:00:00.000000000",
          "2018-11-01T00:00:00.000000000",
          "2018-12-01T00:00:00.000000000",
          "2019-01-01T00:00:00.000000000",
          "2019-02-01T00:00:00.000000000",
          "2019-03-01T00:00:00.000000000",
          "2019-04-01T00:00:00.000000000",
          "2019-05-01T00:00:00.000000000",
          "2019-06-01T00:00:00.000000000",
          "2019-07-01T00:00:00.000000000",
          "2019-08-01T00:00:00.000000000",
          "2019-09-01T00:00:00.000000000",
          "2019-10-01T00:00:00.000000000",
          "2019-11-01T00:00:00.000000000",
          "2019-12-01T00:00:00.000000000",
          "2020-01-01T00:00:00.000000000",
          "2020-02-01T00:00:00.000000000",
          "2020-03-01T00:00:00.000000000",
          "2020-04-01T00:00:00.000000000",
          "2020-05-01T00:00:00.000000000",
          "2020-06-01T00:00:00.000000000",
          "2020-07-01T00:00:00.000000000",
          "2020-08-01T00:00:00.000000000",
          "2020-09-01T00:00:00.000000000",
          "2020-10-01T00:00:00.000000000",
          "2020-11-01T00:00:00.000000000",
          "2020-12-01T00:00:00.000000000",
          "2021-01-01T00:00:00.000000000",
          "2021-02-01T00:00:00.000000000",
          "2021-03-01T00:00:00.000000000",
          "2021-04-01T00:00:00.000000000",
          "2021-05-01T00:00:00.000000000",
          "2021-06-01T00:00:00.000000000",
          "2021-07-01T00:00:00.000000000",
          "2021-08-01T00:00:00.000000000",
          "2021-09-01T00:00:00.000000000",
          "2021-10-01T00:00:00.000000000",
          "2021-11-01T00:00:00.000000000",
          "2021-12-01T00:00:00.000000000",
          "2022-01-01T00:00:00.000000000",
          "2022-02-01T00:00:00.000000000",
          "2022-03-01T00:00:00.000000000",
          "2022-04-01T00:00:00.000000000",
          "2022-05-01T00:00:00.000000000",
          "2022-06-01T00:00:00.000000000",
          "2022-07-01T00:00:00.000000000",
          "2022-08-01T00:00:00.000000000",
          "2022-09-01T00:00:00.000000000",
          "2022-10-01T00:00:00.000000000",
          "2022-11-01T00:00:00.000000000",
          "2022-12-01T00:00:00.000000000",
          "2023-01-01T00:00:00.000000000",
          "2023-02-01T00:00:00.000000000",
          "2023-03-01T00:00:00.000000000",
          "2023-04-01T00:00:00.000000000",
          "2023-05-01T00:00:00.000000000",
          "2023-06-01T00:00:00.000000000",
          "2023-07-01T00:00:00.000000000",
          "2023-08-01T00:00:00.000000000",
          "2023-09-01T00:00:00.000000000",
          "2023-10-01T00:00:00.000000000",
          "2023-11-01T00:00:00.000000000",
          "2023-12-01T00:00:00.000000000",
          "2024-01-01T00:00:00.000000000",
          "2024-02-01T00:00:00.000000000",
          "2024-03-01T00:00:00.000000000",
          "2024-04-01T00:00:00.000000000",
          "2024-05-01T00:00:00.000000000",
          "2024-06-01T00:00:00.000000000",
          "2024-07-01T00:00:00.000000000",
          "2024-08-01T00:00:00.000000000",
          "2024-09-01T00:00:00.000000000",
          "2024-10-01T00:00:00.000000000",
          "2024-11-01T00:00:00.000000000",
          "2024-12-01T00:00:00.000000000"
         ],
         "xaxis": "x2",
         "y": {
          "bdata": "EgAeAB4AJAA2AEIANwAsACUANQBNADQAMgA/AD8ASwBaAEAAPAAuAC0ANQAvADsAMgA0ADQAUwBoAEsAVQA8ADQAOgA2AEcAUwA8AEMAOAA7AFAARwA3AEwAQwBBAFoAOQAzAEIAQgBEAF4ATgBJAHYARwBJAFMAQgBPAFYATgBnAFoAbQBDAEYAVQBaAGMASABZAJkAWQB2AHEAaQBuAG0AcQBvAFsAXABuAGQAYgCEAGsAXABXAF8AgQB1AIcAbAB1AHIAhwCgAHkAkgBaAHkAkACcAKEAfwB4AI0AsAC3AJIAmgB8AKIAhgCgAKgAcgCfAKYAuQD2AOMAtQCmALwADAHMAPEAygCvAFwBxwAGAeAA5QDyAPgA4wAhAesAKwH+ADQB+wAYAScBNgE0AVUBYgFsAUcBPQFlAVwBNAFsAUMBjAGOAXsBogGKAbYBnwGjAa0ByQG0AZwBlQEpAb0BvwGIAb0BnQHkAQECuAGSAfYBAgLYAS8CJAI2AjgCKAL8AWQCgAI9Ak8CEQIBAocCmwKBAnsCEQKdAvkCrwLmAjADyQKfAhkDKAMiAyMD5gKEA6oDbANlA7MELATlAkkDUQTNA7cDvQR7BIwF5gOPA8kDDwRaA1wETAQiBN4EwARKBGwEiASKBI4EcAT9A00E6wTnBH8FcwT+BJUFGQU3BS0GnwXnBPUFuQXBBpUFIQUnBhMHcAZBB1YHUwZTBk8HmweYCJIHXAZlB0MJQwhCCdgIJAmHCK8JPQkoC68IOAjaCs0L+woADeMLtAuQCrsMnQ2sDk4MsgtUDP8NCRClEecQrA81DgMSwxIQEqwPoA0BEsgSBBQrE/QXvhXhEfkSHBprFWkVFhFiE8sXkxY5Ff8Z0xTGEvgWsRlAFUEV+xEcFQUbJRacGEwYzBYcFDoXWR7WGnIVtRLaF6secxihI6sdWxpHG9AdzyNyH8UehRv2I3YmHCFUJVgn+SN0HrEjlyQVI3Ap",
          "dtype": "i2"
         },
         "yaxis": "y2"
        },
        {
         "hovertemplate": "<b>OLS trendline</b><br>log10(count) = 2.50403e-09 * period + -0.38432<br>R<sup>2</sup>=0.985285<br><br>period=%{x}<br>count=%{y} <b>(trend)</b><extra></extra>",
         "legendgroup": "",
         "line": {
          "color": "red"
         },
         "marker": {
          "color": "#636efa",
          "symbol": "circle"
         },
         "mode": "lines",
         "name": "",
         "showlegend": false,
         "type": "scatter",
         "x": [
          "1994-01-01T00:00:00.000000000",
          "1994-02-01T00:00:00.000000000",
          "1994-03-01T00:00:00.000000000",
          "1994-04-01T00:00:00.000000000",
          "1994-05-01T00:00:00.000000000",
          "1994-06-01T00:00:00.000000000",
          "1994-07-01T00:00:00.000000000",
          "1994-08-01T00:00:00.000000000",
          "1994-09-01T00:00:00.000000000",
          "1994-10-01T00:00:00.000000000",
          "1994-11-01T00:00:00.000000000",
          "1994-12-01T00:00:00.000000000",
          "1995-01-01T00:00:00.000000000",
          "1995-02-01T00:00:00.000000000",
          "1995-03-01T00:00:00.000000000",
          "1995-04-01T00:00:00.000000000",
          "1995-05-01T00:00:00.000000000",
          "1995-06-01T00:00:00.000000000",
          "1995-07-01T00:00:00.000000000",
          "1995-08-01T00:00:00.000000000",
          "1995-09-01T00:00:00.000000000",
          "1995-10-01T00:00:00.000000000",
          "1995-11-01T00:00:00.000000000",
          "1995-12-01T00:00:00.000000000",
          "1996-01-01T00:00:00.000000000",
          "1996-02-01T00:00:00.000000000",
          "1996-03-01T00:00:00.000000000",
          "1996-04-01T00:00:00.000000000",
          "1996-05-01T00:00:00.000000000",
          "1996-06-01T00:00:00.000000000",
          "1996-07-01T00:00:00.000000000",
          "1996-08-01T00:00:00.000000000",
          "1996-09-01T00:00:00.000000000",
          "1996-10-01T00:00:00.000000000",
          "1996-11-01T00:00:00.000000000",
          "1996-12-01T00:00:00.000000000",
          "1997-01-01T00:00:00.000000000",
          "1997-02-01T00:00:00.000000000",
          "1997-03-01T00:00:00.000000000",
          "1997-04-01T00:00:00.000000000",
          "1997-05-01T00:00:00.000000000",
          "1997-06-01T00:00:00.000000000",
          "1997-07-01T00:00:00.000000000",
          "1997-08-01T00:00:00.000000000",
          "1997-09-01T00:00:00.000000000",
          "1997-10-01T00:00:00.000000000",
          "1997-11-01T00:00:00.000000000",
          "1997-12-01T00:00:00.000000000",
          "1998-01-01T00:00:00.000000000",
          "1998-02-01T00:00:00.000000000",
          "1998-03-01T00:00:00.000000000",
          "1998-04-01T00:00:00.000000000",
          "1998-05-01T00:00:00.000000000",
          "1998-06-01T00:00:00.000000000",
          "1998-07-01T00:00:00.000000000",
          "1998-08-01T00:00:00.000000000",
          "1998-09-01T00:00:00.000000000",
          "1998-10-01T00:00:00.000000000",
          "1998-11-01T00:00:00.000000000",
          "1998-12-01T00:00:00.000000000",
          "1999-01-01T00:00:00.000000000",
          "1999-02-01T00:00:00.000000000",
          "1999-03-01T00:00:00.000000000",
          "1999-04-01T00:00:00.000000000",
          "1999-05-01T00:00:00.000000000",
          "1999-06-01T00:00:00.000000000",
          "1999-07-01T00:00:00.000000000",
          "1999-08-01T00:00:00.000000000",
          "1999-09-01T00:00:00.000000000",
          "1999-10-01T00:00:00.000000000",
          "1999-11-01T00:00:00.000000000",
          "1999-12-01T00:00:00.000000000",
          "2000-01-01T00:00:00.000000000",
          "2000-02-01T00:00:00.000000000",
          "2000-03-01T00:00:00.000000000",
          "2000-04-01T00:00:00.000000000",
          "2000-05-01T00:00:00.000000000",
          "2000-06-01T00:00:00.000000000",
          "2000-07-01T00:00:00.000000000",
          "2000-08-01T00:00:00.000000000",
          "2000-09-01T00:00:00.000000000",
          "2000-10-01T00:00:00.000000000",
          "2000-11-01T00:00:00.000000000",
          "2000-12-01T00:00:00.000000000",
          "2001-01-01T00:00:00.000000000",
          "2001-02-01T00:00:00.000000000",
          "2001-03-01T00:00:00.000000000",
          "2001-04-01T00:00:00.000000000",
          "2001-05-01T00:00:00.000000000",
          "2001-06-01T00:00:00.000000000",
          "2001-07-01T00:00:00.000000000",
          "2001-08-01T00:00:00.000000000",
          "2001-09-01T00:00:00.000000000",
          "2001-10-01T00:00:00.000000000",
          "2001-11-01T00:00:00.000000000",
          "2001-12-01T00:00:00.000000000",
          "2002-01-01T00:00:00.000000000",
          "2002-02-01T00:00:00.000000000",
          "2002-03-01T00:00:00.000000000",
          "2002-04-01T00:00:00.000000000",
          "2002-05-01T00:00:00.000000000",
          "2002-06-01T00:00:00.000000000",
          "2002-07-01T00:00:00.000000000",
          "2002-08-01T00:00:00.000000000",
          "2002-09-01T00:00:00.000000000",
          "2002-10-01T00:00:00.000000000",
          "2002-11-01T00:00:00.000000000",
          "2002-12-01T00:00:00.000000000",
          "2003-01-01T00:00:00.000000000",
          "2003-02-01T00:00:00.000000000",
          "2003-03-01T00:00:00.000000000",
          "2003-04-01T00:00:00.000000000",
          "2003-05-01T00:00:00.000000000",
          "2003-06-01T00:00:00.000000000",
          "2003-07-01T00:00:00.000000000",
          "2003-08-01T00:00:00.000000000",
          "2003-09-01T00:00:00.000000000",
          "2003-10-01T00:00:00.000000000",
          "2003-11-01T00:00:00.000000000",
          "2003-12-01T00:00:00.000000000",
          "2004-01-01T00:00:00.000000000",
          "2004-02-01T00:00:00.000000000",
          "2004-03-01T00:00:00.000000000",
          "2004-04-01T00:00:00.000000000",
          "2004-05-01T00:00:00.000000000",
          "2004-06-01T00:00:00.000000000",
          "2004-07-01T00:00:00.000000000",
          "2004-08-01T00:00:00.000000000",
          "2004-09-01T00:00:00.000000000",
          "2004-10-01T00:00:00.000000000",
          "2004-11-01T00:00:00.000000000",
          "2004-12-01T00:00:00.000000000",
          "2005-01-01T00:00:00.000000000",
          "2005-02-01T00:00:00.000000000",
          "2005-03-01T00:00:00.000000000",
          "2005-04-01T00:00:00.000000000",
          "2005-05-01T00:00:00.000000000",
          "2005-06-01T00:00:00.000000000",
          "2005-07-01T00:00:00.000000000",
          "2005-08-01T00:00:00.000000000",
          "2005-09-01T00:00:00.000000000",
          "2005-10-01T00:00:00.000000000",
          "2005-11-01T00:00:00.000000000",
          "2005-12-01T00:00:00.000000000",
          "2006-01-01T00:00:00.000000000",
          "2006-02-01T00:00:00.000000000",
          "2006-03-01T00:00:00.000000000",
          "2006-04-01T00:00:00.000000000",
          "2006-05-01T00:00:00.000000000",
          "2006-06-01T00:00:00.000000000",
          "2006-07-01T00:00:00.000000000",
          "2006-08-01T00:00:00.000000000",
          "2006-09-01T00:00:00.000000000",
          "2006-10-01T00:00:00.000000000",
          "2006-11-01T00:00:00.000000000",
          "2006-12-01T00:00:00.000000000",
          "2007-01-01T00:00:00.000000000",
          "2007-02-01T00:00:00.000000000",
          "2007-03-01T00:00:00.000000000",
          "2007-04-01T00:00:00.000000000",
          "2007-05-01T00:00:00.000000000",
          "2007-06-01T00:00:00.000000000",
          "2007-07-01T00:00:00.000000000",
          "2007-08-01T00:00:00.000000000",
          "2007-09-01T00:00:00.000000000",
          "2007-10-01T00:00:00.000000000",
          "2007-11-01T00:00:00.000000000",
          "2007-12-01T00:00:00.000000000",
          "2008-01-01T00:00:00.000000000",
          "2008-02-01T00:00:00.000000000",
          "2008-03-01T00:00:00.000000000",
          "2008-04-01T00:00:00.000000000",
          "2008-05-01T00:00:00.000000000",
          "2008-06-01T00:00:00.000000000",
          "2008-07-01T00:00:00.000000000",
          "2008-08-01T00:00:00.000000000",
          "2008-09-01T00:00:00.000000000",
          "2008-10-01T00:00:00.000000000",
          "2008-11-01T00:00:00.000000000",
          "2008-12-01T00:00:00.000000000",
          "2009-01-01T00:00:00.000000000",
          "2009-02-01T00:00:00.000000000",
          "2009-03-01T00:00:00.000000000",
          "2009-04-01T00:00:00.000000000",
          "2009-05-01T00:00:00.000000000",
          "2009-06-01T00:00:00.000000000",
          "2009-07-01T00:00:00.000000000",
          "2009-08-01T00:00:00.000000000",
          "2009-09-01T00:00:00.000000000",
          "2009-10-01T00:00:00.000000000",
          "2009-11-01T00:00:00.000000000",
          "2009-12-01T00:00:00.000000000",
          "2010-01-01T00:00:00.000000000",
          "2010-02-01T00:00:00.000000000",
          "2010-03-01T00:00:00.000000000",
          "2010-04-01T00:00:00.000000000",
          "2010-05-01T00:00:00.000000000",
          "2010-06-01T00:00:00.000000000",
          "2010-07-01T00:00:00.000000000",
          "2010-08-01T00:00:00.000000000",
          "2010-09-01T00:00:00.000000000",
          "2010-10-01T00:00:00.000000000",
          "2010-11-01T00:00:00.000000000",
          "2010-12-01T00:00:00.000000000",
          "2011-01-01T00:00:00.000000000",
          "2011-02-01T00:00:00.000000000",
          "2011-03-01T00:00:00.000000000",
          "2011-04-01T00:00:00.000000000",
          "2011-05-01T00:00:00.000000000",
          "2011-06-01T00:00:00.000000000",
          "2011-07-01T00:00:00.000000000",
          "2011-08-01T00:00:00.000000000",
          "2011-09-01T00:00:00.000000000",
          "2011-10-01T00:00:00.000000000",
          "2011-11-01T00:00:00.000000000",
          "2011-12-01T00:00:00.000000000",
          "2012-01-01T00:00:00.000000000",
          "2012-02-01T00:00:00.000000000",
          "2012-03-01T00:00:00.000000000",
          "2012-04-01T00:00:00.000000000",
          "2012-05-01T00:00:00.000000000",
          "2012-06-01T00:00:00.000000000",
          "2012-07-01T00:00:00.000000000",
          "2012-08-01T00:00:00.000000000",
          "2012-09-01T00:00:00.000000000",
          "2012-10-01T00:00:00.000000000",
          "2012-11-01T00:00:00.000000000",
          "2012-12-01T00:00:00.000000000",
          "2013-01-01T00:00:00.000000000",
          "2013-02-01T00:00:00.000000000",
          "2013-03-01T00:00:00.000000000",
          "2013-04-01T00:00:00.000000000",
          "2013-05-01T00:00:00.000000000",
          "2013-06-01T00:00:00.000000000",
          "2013-07-01T00:00:00.000000000",
          "2013-08-01T00:00:00.000000000",
          "2013-09-01T00:00:00.000000000",
          "2013-10-01T00:00:00.000000000",
          "2013-11-01T00:00:00.000000000",
          "2013-12-01T00:00:00.000000000",
          "2014-01-01T00:00:00.000000000",
          "2014-02-01T00:00:00.000000000",
          "2014-03-01T00:00:00.000000000",
          "2014-04-01T00:00:00.000000000",
          "2014-05-01T00:00:00.000000000",
          "2014-06-01T00:00:00.000000000",
          "2014-07-01T00:00:00.000000000",
          "2014-08-01T00:00:00.000000000",
          "2014-09-01T00:00:00.000000000",
          "2014-10-01T00:00:00.000000000",
          "2014-11-01T00:00:00.000000000",
          "2014-12-01T00:00:00.000000000",
          "2015-01-01T00:00:00.000000000",
          "2015-02-01T00:00:00.000000000",
          "2015-03-01T00:00:00.000000000",
          "2015-04-01T00:00:00.000000000",
          "2015-05-01T00:00:00.000000000",
          "2015-06-01T00:00:00.000000000",
          "2015-07-01T00:00:00.000000000",
          "2015-08-01T00:00:00.000000000",
          "2015-09-01T00:00:00.000000000",
          "2015-10-01T00:00:00.000000000",
          "2015-11-01T00:00:00.000000000",
          "2015-12-01T00:00:00.000000000",
          "2016-01-01T00:00:00.000000000",
          "2016-02-01T00:00:00.000000000",
          "2016-03-01T00:00:00.000000000",
          "2016-04-01T00:00:00.000000000",
          "2016-05-01T00:00:00.000000000",
          "2016-06-01T00:00:00.000000000",
          "2016-07-01T00:00:00.000000000",
          "2016-08-01T00:00:00.000000000",
          "2016-09-01T00:00:00.000000000",
          "2016-10-01T00:00:00.000000000",
          "2016-11-01T00:00:00.000000000",
          "2016-12-01T00:00:00.000000000",
          "2017-01-01T00:00:00.000000000",
          "2017-02-01T00:00:00.000000000",
          "2017-03-01T00:00:00.000000000",
          "2017-04-01T00:00:00.000000000",
          "2017-05-01T00:00:00.000000000",
          "2017-06-01T00:00:00.000000000",
          "2017-07-01T00:00:00.000000000",
          "2017-08-01T00:00:00.000000000",
          "2017-09-01T00:00:00.000000000",
          "2017-10-01T00:00:00.000000000",
          "2017-11-01T00:00:00.000000000",
          "2017-12-01T00:00:00.000000000",
          "2018-01-01T00:00:00.000000000",
          "2018-02-01T00:00:00.000000000",
          "2018-03-01T00:00:00.000000000",
          "2018-04-01T00:00:00.000000000",
          "2018-05-01T00:00:00.000000000",
          "2018-06-01T00:00:00.000000000",
          "2018-07-01T00:00:00.000000000",
          "2018-08-01T00:00:00.000000000",
          "2018-09-01T00:00:00.000000000",
          "2018-10-01T00:00:00.000000000",
          "2018-11-01T00:00:00.000000000",
          "2018-12-01T00:00:00.000000000",
          "2019-01-01T00:00:00.000000000",
          "2019-02-01T00:00:00.000000000",
          "2019-03-01T00:00:00.000000000",
          "2019-04-01T00:00:00.000000000",
          "2019-05-01T00:00:00.000000000",
          "2019-06-01T00:00:00.000000000",
          "2019-07-01T00:00:00.000000000",
          "2019-08-01T00:00:00.000000000",
          "2019-09-01T00:00:00.000000000",
          "2019-10-01T00:00:00.000000000",
          "2019-11-01T00:00:00.000000000",
          "2019-12-01T00:00:00.000000000",
          "2020-01-01T00:00:00.000000000",
          "2020-02-01T00:00:00.000000000",
          "2020-03-01T00:00:00.000000000",
          "2020-04-01T00:00:00.000000000",
          "2020-05-01T00:00:00.000000000",
          "2020-06-01T00:00:00.000000000",
          "2020-07-01T00:00:00.000000000",
          "2020-08-01T00:00:00.000000000",
          "2020-09-01T00:00:00.000000000",
          "2020-10-01T00:00:00.000000000",
          "2020-11-01T00:00:00.000000000",
          "2020-12-01T00:00:00.000000000",
          "2021-01-01T00:00:00.000000000",
          "2021-02-01T00:00:00.000000000",
          "2021-03-01T00:00:00.000000000",
          "2021-04-01T00:00:00.000000000",
          "2021-05-01T00:00:00.000000000",
          "2021-06-01T00:00:00.000000000",
          "2021-07-01T00:00:00.000000000",
          "2021-08-01T00:00:00.000000000",
          "2021-09-01T00:00:00.000000000",
          "2021-10-01T00:00:00.000000000",
          "2021-11-01T00:00:00.000000000",
          "2021-12-01T00:00:00.000000000",
          "2022-01-01T00:00:00.000000000",
          "2022-02-01T00:00:00.000000000",
          "2022-03-01T00:00:00.000000000",
          "2022-04-01T00:00:00.000000000",
          "2022-05-01T00:00:00.000000000",
          "2022-06-01T00:00:00.000000000",
          "2022-07-01T00:00:00.000000000",
          "2022-08-01T00:00:00.000000000",
          "2022-09-01T00:00:00.000000000",
          "2022-10-01T00:00:00.000000000",
          "2022-11-01T00:00:00.000000000",
          "2022-12-01T00:00:00.000000000",
          "2023-01-01T00:00:00.000000000",
          "2023-02-01T00:00:00.000000000",
          "2023-03-01T00:00:00.000000000",
          "2023-04-01T00:00:00.000000000",
          "2023-05-01T00:00:00.000000000",
          "2023-06-01T00:00:00.000000000",
          "2023-07-01T00:00:00.000000000",
          "2023-08-01T00:00:00.000000000",
          "2023-09-01T00:00:00.000000000",
          "2023-10-01T00:00:00.000000000",
          "2023-11-01T00:00:00.000000000",
          "2023-12-01T00:00:00.000000000",
          "2024-01-01T00:00:00.000000000",
          "2024-02-01T00:00:00.000000000",
          "2024-03-01T00:00:00.000000000",
          "2024-04-01T00:00:00.000000000",
          "2024-05-01T00:00:00.000000000",
          "2024-06-01T00:00:00.000000000",
          "2024-07-01T00:00:00.000000000",
          "2024-08-01T00:00:00.000000000",
          "2024-09-01T00:00:00.000000000",
          "2024-10-01T00:00:00.000000000",
          "2024-11-01T00:00:00.000000000",
          "2024-12-01T00:00:00.000000000"
         ],
         "xaxis": "x2",
         "y": {
          "bdata": "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",
          "dtype": "f8"
         },
         "yaxis": "y2"
        }
       ],
       "layout": {
        "annotations": [
         {
          "font": {
           "size": 16
          },
          "showarrow": false,
          "text": "Linear Scale",
          "x": 0.225,
          "xanchor": "center",
          "xref": "paper",
          "y": 1,
          "yanchor": "bottom",
          "yref": "paper"
         },
         {
          "font": {
           "size": 16
          },
          "showarrow": false,
          "text": "Log Scale",
          "x": 0.775,
          "xanchor": "center",
          "xref": "paper",
          "y": 1,
          "yanchor": "bottom",
          "yref": "paper"
         }
        ],
        "template": {
         "data": {
          "bar": [
           {
            "error_x": {
             "color": "#2a3f5f"
            },
            "error_y": {
             "color": "#2a3f5f"
            },
            "marker": {
             "line": {
              "color": "white",
              "width": 0.5
             },
             "pattern": {
              "fillmode": "overlay",
              "size": 10,
              "solidity": 0.2
             }
            },
            "type": "bar"
           }
          ],
          "barpolar": [
           {
            "marker": {
             "line": {
              "color": "white",
              "width": 0.5
             },
             "pattern": {
              "fillmode": "overlay",
              "size": 10,
              "solidity": 0.2
             }
            },
            "type": "barpolar"
           }
          ],
          "carpet": [
           {
            "aaxis": {
             "endlinecolor": "#2a3f5f",
             "gridcolor": "#C8D4E3",
             "linecolor": "#C8D4E3",
             "minorgridcolor": "#C8D4E3",
             "startlinecolor": "#2a3f5f"
            },
            "baxis": {
             "endlinecolor": "#2a3f5f",
             "gridcolor": "#C8D4E3",
             "linecolor": "#C8D4E3",
             "minorgridcolor": "#C8D4E3",
             "startlinecolor": "#2a3f5f"
            },
            "type": "carpet"
           }
          ],
          "choropleth": [
           {
            "colorbar": {
             "outlinewidth": 0,
             "ticks": ""
            },
            "type": "choropleth"
           }
          ],
          "contour": [
           {
            "colorbar": {
             "outlinewidth": 0,
             "ticks": ""
            },
            "colorscale": [
             [
              0,
              "#0d0887"
             ],
             [
              0.1111111111111111,
              "#46039f"
             ],
             [
              0.2222222222222222,
              "#7201a8"
             ],
             [
              0.3333333333333333,
              "#9c179e"
             ],
             [
              0.4444444444444444,
              "#bd3786"
             ],
             [
              0.5555555555555556,
              "#d8576b"
             ],
             [
              0.6666666666666666,
              "#ed7953"
             ],
             [
              0.7777777777777778,
              "#fb9f3a"
             ],
             [
              0.8888888888888888,
              "#fdca26"
             ],
             [
              1,
              "#f0f921"
             ]
            ],
            "type": "contour"
           }
          ],
          "contourcarpet": [
           {
            "colorbar": {
             "outlinewidth": 0,
             "ticks": ""
            },
            "type": "contourcarpet"
           }
          ],
          "heatmap": [
           {
            "colorbar": {
             "outlinewidth": 0,
             "ticks": ""
            },
            "colorscale": [
             [
              0,
              "#0d0887"
             ],
             [
              0.1111111111111111,
              "#46039f"
             ],
             [
              0.2222222222222222,
              "#7201a8"
             ],
             [
              0.3333333333333333,
              "#9c179e"
             ],
             [
              0.4444444444444444,
              "#bd3786"
             ],
             [
              0.5555555555555556,
              "#d8576b"
             ],
             [
              0.6666666666666666,
              "#ed7953"
             ],
             [
              0.7777777777777778,
              "#fb9f3a"
             ],
             [
              0.8888888888888888,
              "#fdca26"
             ],
             [
              1,
              "#f0f921"
             ]
            ],
            "type": "heatmap"
           }
          ],
          "histogram": [
           {
            "marker": {
             "pattern": {
              "fillmode": "overlay",
              "size": 10,
              "solidity": 0.2
             }
            },
            "type": "histogram"
           }
          ],
          "histogram2d": [
           {
            "colorbar": {
             "outlinewidth": 0,
             "ticks": ""
            },
            "colorscale": [
             [
              0,
              "#0d0887"
             ],
             [
              0.1111111111111111,
              "#46039f"
             ],
             [
              0.2222222222222222,
              "#7201a8"
             ],
             [
              0.3333333333333333,
              "#9c179e"
             ],
             [
              0.4444444444444444,
              "#bd3786"
             ],
             [
              0.5555555555555556,
              "#d8576b"
             ],
             [
              0.6666666666666666,
              "#ed7953"
             ],
             [
              0.7777777777777778,
              "#fb9f3a"
             ],
             [
              0.8888888888888888,
              "#fdca26"
             ],
             [
              1,
              "#f0f921"
             ]
            ],
            "type": "histogram2d"
           }
          ],
          "histogram2dcontour": [
           {
            "colorbar": {
             "outlinewidth": 0,
             "ticks": ""
            },
            "colorscale": [
             [
              0,
              "#0d0887"
             ],
             [
              0.1111111111111111,
              "#46039f"
             ],
             [
              0.2222222222222222,
              "#7201a8"
             ],
             [
              0.3333333333333333,
              "#9c179e"
             ],
             [
              0.4444444444444444,
              "#bd3786"
             ],
             [
              0.5555555555555556,
              "#d8576b"
             ],
             [
              0.6666666666666666,
              "#ed7953"
             ],
             [
              0.7777777777777778,
              "#fb9f3a"
             ],
             [
              0.8888888888888888,
              "#fdca26"
             ],
             [
              1,
              "#f0f921"
             ]
            ],
            "type": "histogram2dcontour"
           }
          ],
          "mesh3d": [
           {
            "colorbar": {
             "outlinewidth": 0,
             "ticks": ""
            },
            "type": "mesh3d"
           }
          ],
          "parcoords": [
           {
            "line": {
             "colorbar": {
              "outlinewidth": 0,
              "ticks": ""
             }
            },
            "type": "parcoords"
           }
          ],
          "pie": [
           {
            "automargin": true,
            "type": "pie"
           }
          ],
          "scatter": [
           {
            "fillpattern": {
             "fillmode": "overlay",
             "size": 10,
             "solidity": 0.2
            },
            "type": "scatter"
           }
          ],
          "scatter3d": [
           {
            "line": {
             "colorbar": {
              "outlinewidth": 0,
              "ticks": ""
             }
            },
            "marker": {
             "colorbar": {
              "outlinewidth": 0,
              "ticks": ""
             }
            },
            "type": "scatter3d"
           }
          ],
          "scattercarpet": [
           {
            "marker": {
             "colorbar": {
              "outlinewidth": 0,
              "ticks": ""
             }
            },
            "type": "scattercarpet"
           }
          ],
          "scattergeo": [
           {
            "marker": {
             "colorbar": {
              "outlinewidth": 0,
              "ticks": ""
             }
            },
            "type": "scattergeo"
           }
          ],
          "scattergl": [
           {
            "marker": {
             "colorbar": {
              "outlinewidth": 0,
              "ticks": ""
             }
            },
            "type": "scattergl"
           }
          ],
          "scattermap": [
           {
            "marker": {
             "colorbar": {
              "outlinewidth": 0,
              "ticks": ""
             }
            },
            "type": "scattermap"
           }
          ],
          "scattermapbox": [
           {
            "marker": {
             "colorbar": {
              "outlinewidth": 0,
              "ticks": ""
             }
            },
            "type": "scattermapbox"
           }
          ],
          "scatterpolar": [
           {
            "marker": {
             "colorbar": {
              "outlinewidth": 0,
              "ticks": ""
             }
            },
            "type": "scatterpolar"
           }
          ],
          "scatterpolargl": [
           {
            "marker": {
             "colorbar": {
              "outlinewidth": 0,
              "ticks": ""
             }
            },
            "type": "scatterpolargl"
           }
          ],
          "scatterternary": [
           {
            "marker": {
             "colorbar": {
              "outlinewidth": 0,
              "ticks": ""
             }
            },
            "type": "scatterternary"
           }
          ],
          "surface": [
           {
            "colorbar": {
             "outlinewidth": 0,
             "ticks": ""
            },
            "colorscale": [
             [
              0,
              "#0d0887"
             ],
             [
              0.1111111111111111,
              "#46039f"
             ],
             [
              0.2222222222222222,
              "#7201a8"
             ],
             [
              0.3333333333333333,
              "#9c179e"
             ],
             [
              0.4444444444444444,
              "#bd3786"
             ],
             [
              0.5555555555555556,
              "#d8576b"
             ],
             [
              0.6666666666666666,
              "#ed7953"
             ],
             [
              0.7777777777777778,
              "#fb9f3a"
             ],
             [
              0.8888888888888888,
              "#fdca26"
             ],
             [
              1,
              "#f0f921"
             ]
            ],
            "type": "surface"
           }
          ],
          "table": [
           {
            "cells": {
             "fill": {
              "color": "#EBF0F8"
             },
             "line": {
              "color": "white"
             }
            },
            "header": {
             "fill": {
              "color": "#C8D4E3"
             },
             "line": {
              "color": "white"
             }
            },
            "type": "table"
           }
          ]
         },
         "layout": {
          "annotationdefaults": {
           "arrowcolor": "#2a3f5f",
           "arrowhead": 0,
           "arrowwidth": 1
          },
          "autotypenumbers": "strict",
          "coloraxis": {
           "colorbar": {
            "outlinewidth": 0,
            "ticks": ""
           }
          },
          "colorscale": {
           "diverging": [
            [
             0,
             "#8e0152"
            ],
            [
             0.1,
             "#c51b7d"
            ],
            [
             0.2,
             "#de77ae"
            ],
            [
             0.3,
             "#f1b6da"
            ],
            [
             0.4,
             "#fde0ef"
            ],
            [
             0.5,
             "#f7f7f7"
            ],
            [
             0.6,
             "#e6f5d0"
            ],
            [
             0.7,
             "#b8e186"
            ],
            [
             0.8,
             "#7fbc41"
            ],
            [
             0.9,
             "#4d9221"
            ],
            [
             1,
             "#276419"
            ]
           ],
           "sequential": [
            [
             0,
             "#0d0887"
            ],
            [
             0.1111111111111111,
             "#46039f"
            ],
            [
             0.2222222222222222,
             "#7201a8"
            ],
            [
             0.3333333333333333,
             "#9c179e"
            ],
            [
             0.4444444444444444,
             "#bd3786"
            ],
            [
             0.5555555555555556,
             "#d8576b"
            ],
            [
             0.6666666666666666,
             "#ed7953"
            ],
            [
             0.7777777777777778,
             "#fb9f3a"
            ],
            [
             0.8888888888888888,
             "#fdca26"
            ],
            [
             1,
             "#f0f921"
            ]
           ],
           "sequentialminus": [
            [
             0,
             "#0d0887"
            ],
            [
             0.1111111111111111,
             "#46039f"
            ],
            [
             0.2222222222222222,
             "#7201a8"
            ],
            [
             0.3333333333333333,
             "#9c179e"
            ],
            [
             0.4444444444444444,
             "#bd3786"
            ],
            [
             0.5555555555555556,
             "#d8576b"
            ],
            [
             0.6666666666666666,
             "#ed7953"
            ],
            [
             0.7777777777777778,
             "#fb9f3a"
            ],
            [
             0.8888888888888888,
             "#fdca26"
            ],
            [
             1,
             "#f0f921"
            ]
           ]
          },
          "colorway": [
           "#636efa",
           "#EF553B",
           "#00cc96",
           "#ab63fa",
           "#FFA15A",
           "#19d3f3",
           "#FF6692",
           "#B6E880",
           "#FF97FF",
           "#FECB52"
          ],
          "font": {
           "color": "#2a3f5f"
          },
          "geo": {
           "bgcolor": "white",
           "lakecolor": "white",
           "landcolor": "white",
           "showlakes": true,
           "showland": true,
           "subunitcolor": "#C8D4E3"
          },
          "hoverlabel": {
           "align": "left"
          },
          "hovermode": "closest",
          "mapbox": {
           "style": "light"
          },
          "paper_bgcolor": "white",
          "plot_bgcolor": "white",
          "polar": {
           "angularaxis": {
            "gridcolor": "#EBF0F8",
            "linecolor": "#EBF0F8",
            "ticks": ""
           },
           "bgcolor": "white",
           "radialaxis": {
            "gridcolor": "#EBF0F8",
            "linecolor": "#EBF0F8",
            "ticks": ""
           }
          },
          "scene": {
           "xaxis": {
            "backgroundcolor": "white",
            "gridcolor": "#DFE8F3",
            "gridwidth": 2,
            "linecolor": "#EBF0F8",
            "showbackground": true,
            "ticks": "",
            "zerolinecolor": "#EBF0F8"
           },
           "yaxis": {
            "backgroundcolor": "white",
            "gridcolor": "#DFE8F3",
            "gridwidth": 2,
            "linecolor": "#EBF0F8",
            "showbackground": true,
            "ticks": "",
            "zerolinecolor": "#EBF0F8"
           },
           "zaxis": {
            "backgroundcolor": "white",
            "gridcolor": "#DFE8F3",
            "gridwidth": 2,
            "linecolor": "#EBF0F8",
            "showbackground": true,
            "ticks": "",
            "zerolinecolor": "#EBF0F8"
           }
          },
          "shapedefaults": {
           "line": {
            "color": "#2a3f5f"
           }
          },
          "ternary": {
           "aaxis": {
            "gridcolor": "#DFE8F3",
            "linecolor": "#A2B1C6",
            "ticks": ""
           },
           "baxis": {
            "gridcolor": "#DFE8F3",
            "linecolor": "#A2B1C6",
            "ticks": ""
           },
           "bgcolor": "white",
           "caxis": {
            "gridcolor": "#DFE8F3",
            "linecolor": "#A2B1C6",
            "ticks": ""
           }
          },
          "title": {
           "x": 0.05
          },
          "xaxis": {
           "automargin": true,
           "gridcolor": "#EBF0F8",
           "linecolor": "#EBF0F8",
           "ticks": "",
           "title": {
            "standoff": 15
           },
           "zerolinecolor": "#EBF0F8",
           "zerolinewidth": 2
          },
          "yaxis": {
           "automargin": true,
           "gridcolor": "#EBF0F8",
           "linecolor": "#EBF0F8",
           "ticks": "",
           "title": {
            "standoff": 15
           },
           "zerolinecolor": "#EBF0F8",
           "zerolinewidth": 2
          }
         }
        },
        "title": {
         "font": {
          "size": 25
         },
         "text": "Number of all Publications per Month",
         "x": 0.5
        },
        "xaxis": {
         "anchor": "y",
         "domain": [
          0,
          0.45
         ],
         "title": {
          "text": "Year of Publication"
         }
        },
        "xaxis2": {
         "anchor": "y2",
         "domain": [
          0.55,
          1
         ],
         "title": {
          "text": "Year of Publication"
         }
        },
        "yaxis": {
         "anchor": "x",
         "domain": [
          0,
          1
         ],
         "title": {
          "text": "# of Publications per Month"
         },
         "type": "linear"
        },
        "yaxis2": {
         "anchor": "x2",
         "domain": [
          0,
          1
         ],
         "title": {
          "text": "# of Publications per Month"
         },
         "type": "log"
        }
       }
      }
     },
     "metadata": {},
     "output_type": "display_data"
    }
   ],
   "source": [
    "plot_general_development(df_complete, \"all\", \"M\")"
   ]
  },
  {
   "cell_type": "markdown",
   "metadata": {},
   "source": [
    "The growth of research in artificial intelligence and machine learning over the past three decades is reflected in the exponential rise in publications per month. As illustrated in the chart above, the number of publications has increased significantly, particularly from the early 2010s onward. One of the main reasons for this exponential growth, which becomes particularly visible from 2015 onwards, is the widespread access to open-source frameworks such as TensorFlow (launched in 2015) and PyTorch (2016). These frameworks democratized machine learning research, allowing researchers from all backgrounds to prototype and deploy AI models more effectively. Around the same time, companies like Google, Facebook, and Microsoft began deploying machine learning solutions across various industries, addressing applied research problems such as recommender systems, autonomous vehicles, and healthcare diagnostics. In 2017, Google further accelerated this trend with the publication of the Transformer architecture, which revolutionized Natural Language Processing (NLP) by enabling significant breakthroughs, including the development of large-scale language models [8, 12].\n",
    "\n",
    "On the linear scale, the data indicates a significant upward trend in the number of publications per month, with particularly accelerated growth in recent years. This increase can be attributed to the widespread adoption of AI technologies and the enhanced accessibility of research dissemination via platforms such as arXiv. These platforms, by enabling the rapid sharing of findings, have significantly contributed to the acceleration of innovation within the field. A logarithmic scale analysis further supports these observations, revealing a near linear trend indicative of sustained exponential growth. When viewed in conjunction with the conference trends, the publication data highlights a broader narrative: AI and ML have evolved from specialized academic disciplines into central drivers of scientific discovery and technological progress. This growth not only underscores the expanding influence of these fields but also signals their crucial role in shaping the future of research and innovation.\n",
    "\n",
    "This trend is mirrored in the competitive landscape of AI and ML conferences, as shown in the chart below. Over the last decade, submissions to leading conferences such as NeurIPS, CVPR, and AAAI have risen exponentially, with counts reaching more than ten thousand annually. However, acceptance rates have concurrently declined, often falling below 30%, highlighting the increasing rigor and selectivity of these prestigious venues. This dual trend, rising submissions alongside decreasing acceptance rates, not only reflects the growing interest in these fields but also underscores their role in shaping the forefront of scientific discovery and technological progress.\n",
    "\n",
    "![conference_trends](https://raw.githubusercontent.com/lixin4ever/Conference-Acceptance-Rate/refs/heads/master/conference_trends.png)\n",
    "Source: [[7]](https://github.com/lixin4ever/Conference-Acceptance-Rate/blob/6bd0861b9caa8fe6d4bc9dd98892b12052cea549/conference_trends.png)"
   ]
  },
  {
   "cell_type": "markdown",
   "metadata": {},
   "source": [
    "- AI index Stanford:\n",
    "  - Nestor Maslej, Loredana Fattorini, Raymond Perrault, Vanessa Parli, Anka Reuel, Erik Brynjolfsson, John Etchemendy,\n",
    "Katrina Ligett, Terah Lyons, James Manyika, Juan Carlos Niebles, Yoav Shoham, Russell Wald, and Jack Clark,\n",
    "“The AI Index 2024 Annual Report,” AI Index Steering Committee, Institute for Human-Centered AI, Stanford\n",
    "University, Stanford, CA, April 2024.\n",
    "  - 1 Development and Research: How much scientific research is done and to what extend are companies use/deploy ai\n",
    "  - 9 Public Opinion: How do people think about AI and how well known is it accros the demography"
   ]
  },
  {
   "cell_type": "markdown",
   "metadata": {},
   "source": [
    "The trends in initial (*v1*) and corrective publications provide additional insights into the evolution of research within AI and ML. The charts below illustrate the number of publications per month for both categories, distinguishing between the introduction of new ideas and subsequent refinements.\n",
    "\n",
    "Initial publications (*v1*) are fundamental to scientific progress, as they introduce novel methodologies, findings, or concepts. The data reveals that the growth in initial publications not only follows an exponential pattern but surpasses it. This indicates a phase of extraordinary acceleration in AI and ML research, driven by factors such as increased investments, widespread access to computational tools, and the practical integration of AI across various industries. The linear scale highlights the dramatic surge in initial contributions in recent years, while the logarithmic scale demonstrates that this growth significantly outpaces the expected trajectory of an exponential trend. This suggests that the pace of innovation in AI and ML is accelerating beyond conventional projections.\n",
    "\n",
    "Corrective publications, encompassing versions beyond v1, represent the iterative nature of scientific research. These versions are typically created to address minor errors, refine methodologies, or clarify previously published findings. While essential to maintaining the quality and rigor of scientific work, corrective publications do not exhibit the same remarkable growth trends as initial publications. Their trajectory, as seen on a linear scale, reflects a steady and proportional increase over time, mirroring the overall expansion of research activity in the field. On a logarithmic scale, the trend in corrective publications suggests that while revisions are becoming more frequent, they remain supplementary to the primary contributions of initial publications. Corrective versions serve as a means to enhance the precision and reliability of the scientific record but do not fundamentally alter the state of knowledge or introduce groundbreaking ideas. Consequently, they are less indicative of the field's innovation trajectory and more reflective of its maturing standards of scholarly scrutiny.\n",
    "\n",
    "Given the close alignment between the trends in initial and corrective publications, and the super-exponential growth observed in initial contributions, the analysis places its primary emphasis on the dataset filtered for v1 publications. This focus allows for a deeper exploration of the foundational contributions driving AI and ML research, avoiding the potential distortions introduced by iterative revisions. By honing in on initial publications, the analysis seeks to capture the most impactful advancements and innovations shaping the field."
   ]
  },
  {
   "cell_type": "code",
   "execution_count": 47,
   "metadata": {
    "ExecuteTime": {
     "end_time": "2024-12-29T15:25:40.184267Z",
     "start_time": "2024-12-29T15:25:39.903789Z"
    }
   },
   "outputs": [
    {
     "data": {
      "application/vnd.plotly.v1+json": {
       "config": {
        "plotlyServerURL": "https://plot.ly"
       },
       "data": [
        {
         "hovertemplate": "period=%{x}<br>count=%{y}<extra></extra>",
         "legendgroup": "",
         "marker": {
          "color": "#636efa",
          "symbol": "circle"
         },
         "mode": "markers",
         "name": "",
         "orientation": "v",
         "showlegend": false,
         "type": "scatter",
         "x": [
          "1994-01-01T00:00:00.000000000",
          "1994-02-01T00:00:00.000000000",
          "1994-03-01T00:00:00.000000000",
          "1994-04-01T00:00:00.000000000",
          "1994-05-01T00:00:00.000000000",
          "1994-06-01T00:00:00.000000000",
          "1994-07-01T00:00:00.000000000",
          "1994-08-01T00:00:00.000000000",
          "1994-09-01T00:00:00.000000000",
          "1994-10-01T00:00:00.000000000",
          "1994-11-01T00:00:00.000000000",
          "1994-12-01T00:00:00.000000000",
          "1995-01-01T00:00:00.000000000",
          "1995-02-01T00:00:00.000000000",
          "1995-03-01T00:00:00.000000000",
          "1995-04-01T00:00:00.000000000",
          "1995-05-01T00:00:00.000000000",
          "1995-06-01T00:00:00.000000000",
          "1995-07-01T00:00:00.000000000",
          "1995-08-01T00:00:00.000000000",
          "1995-09-01T00:00:00.000000000",
          "1995-10-01T00:00:00.000000000",
          "1995-11-01T00:00:00.000000000",
          "1995-12-01T00:00:00.000000000",
          "1996-01-01T00:00:00.000000000",
          "1996-02-01T00:00:00.000000000",
          "1996-03-01T00:00:00.000000000",
          "1996-04-01T00:00:00.000000000",
          "1996-05-01T00:00:00.000000000",
          "1996-06-01T00:00:00.000000000",
          "1996-07-01T00:00:00.000000000",
          "1996-08-01T00:00:00.000000000",
          "1996-09-01T00:00:00.000000000",
          "1996-10-01T00:00:00.000000000",
          "1996-11-01T00:00:00.000000000",
          "1996-12-01T00:00:00.000000000",
          "1997-01-01T00:00:00.000000000",
          "1997-02-01T00:00:00.000000000",
          "1997-03-01T00:00:00.000000000",
          "1997-04-01T00:00:00.000000000",
          "1997-05-01T00:00:00.000000000",
          "1997-06-01T00:00:00.000000000",
          "1997-07-01T00:00:00.000000000",
          "1997-08-01T00:00:00.000000000",
          "1997-09-01T00:00:00.000000000",
          "1997-10-01T00:00:00.000000000",
          "1997-11-01T00:00:00.000000000",
          "1997-12-01T00:00:00.000000000",
          "1998-01-01T00:00:00.000000000",
          "1998-02-01T00:00:00.000000000",
          "1998-03-01T00:00:00.000000000",
          "1998-04-01T00:00:00.000000000",
          "1998-05-01T00:00:00.000000000",
          "1998-06-01T00:00:00.000000000",
          "1998-07-01T00:00:00.000000000",
          "1998-08-01T00:00:00.000000000",
          "1998-09-01T00:00:00.000000000",
          "1998-10-01T00:00:00.000000000",
          "1998-11-01T00:00:00.000000000",
          "1998-12-01T00:00:00.000000000",
          "1999-01-01T00:00:00.000000000",
          "1999-02-01T00:00:00.000000000",
          "1999-03-01T00:00:00.000000000",
          "1999-04-01T00:00:00.000000000",
          "1999-05-01T00:00:00.000000000",
          "1999-06-01T00:00:00.000000000",
          "1999-07-01T00:00:00.000000000",
          "1999-08-01T00:00:00.000000000",
          "1999-09-01T00:00:00.000000000",
          "1999-10-01T00:00:00.000000000",
          "1999-11-01T00:00:00.000000000",
          "1999-12-01T00:00:00.000000000",
          "2000-01-01T00:00:00.000000000",
          "2000-02-01T00:00:00.000000000",
          "2000-03-01T00:00:00.000000000",
          "2000-04-01T00:00:00.000000000",
          "2000-05-01T00:00:00.000000000",
          "2000-06-01T00:00:00.000000000",
          "2000-07-01T00:00:00.000000000",
          "2000-08-01T00:00:00.000000000",
          "2000-09-01T00:00:00.000000000",
          "2000-10-01T00:00:00.000000000",
          "2000-11-01T00:00:00.000000000",
          "2000-12-01T00:00:00.000000000",
          "2001-01-01T00:00:00.000000000",
          "2001-02-01T00:00:00.000000000",
          "2001-03-01T00:00:00.000000000",
          "2001-04-01T00:00:00.000000000",
          "2001-05-01T00:00:00.000000000",
          "2001-06-01T00:00:00.000000000",
          "2001-07-01T00:00:00.000000000",
          "2001-08-01T00:00:00.000000000",
          "2001-09-01T00:00:00.000000000",
          "2001-10-01T00:00:00.000000000",
          "2001-11-01T00:00:00.000000000",
          "2001-12-01T00:00:00.000000000",
          "2002-01-01T00:00:00.000000000",
          "2002-02-01T00:00:00.000000000",
          "2002-03-01T00:00:00.000000000",
          "2002-04-01T00:00:00.000000000",
          "2002-05-01T00:00:00.000000000",
          "2002-06-01T00:00:00.000000000",
          "2002-07-01T00:00:00.000000000",
          "2002-08-01T00:00:00.000000000",
          "2002-09-01T00:00:00.000000000",
          "2002-10-01T00:00:00.000000000",
          "2002-11-01T00:00:00.000000000",
          "2002-12-01T00:00:00.000000000",
          "2003-01-01T00:00:00.000000000",
          "2003-02-01T00:00:00.000000000",
          "2003-03-01T00:00:00.000000000",
          "2003-04-01T00:00:00.000000000",
          "2003-05-01T00:00:00.000000000",
          "2003-06-01T00:00:00.000000000",
          "2003-07-01T00:00:00.000000000",
          "2003-08-01T00:00:00.000000000",
          "2003-09-01T00:00:00.000000000",
          "2003-10-01T00:00:00.000000000",
          "2003-11-01T00:00:00.000000000",
          "2003-12-01T00:00:00.000000000",
          "2004-01-01T00:00:00.000000000",
          "2004-02-01T00:00:00.000000000",
          "2004-03-01T00:00:00.000000000",
          "2004-04-01T00:00:00.000000000",
          "2004-05-01T00:00:00.000000000",
          "2004-06-01T00:00:00.000000000",
          "2004-07-01T00:00:00.000000000",
          "2004-08-01T00:00:00.000000000",
          "2004-09-01T00:00:00.000000000",
          "2004-10-01T00:00:00.000000000",
          "2004-11-01T00:00:00.000000000",
          "2004-12-01T00:00:00.000000000",
          "2005-01-01T00:00:00.000000000",
          "2005-02-01T00:00:00.000000000",
          "2005-03-01T00:00:00.000000000",
          "2005-04-01T00:00:00.000000000",
          "2005-05-01T00:00:00.000000000",
          "2005-06-01T00:00:00.000000000",
          "2005-07-01T00:00:00.000000000",
          "2005-08-01T00:00:00.000000000",
          "2005-09-01T00:00:00.000000000",
          "2005-10-01T00:00:00.000000000",
          "2005-11-01T00:00:00.000000000",
          "2005-12-01T00:00:00.000000000",
          "2006-01-01T00:00:00.000000000",
          "2006-02-01T00:00:00.000000000",
          "2006-03-01T00:00:00.000000000",
          "2006-04-01T00:00:00.000000000",
          "2006-05-01T00:00:00.000000000",
          "2006-06-01T00:00:00.000000000",
          "2006-07-01T00:00:00.000000000",
          "2006-08-01T00:00:00.000000000",
          "2006-09-01T00:00:00.000000000",
          "2006-10-01T00:00:00.000000000",
          "2006-11-01T00:00:00.000000000",
          "2006-12-01T00:00:00.000000000",
          "2007-01-01T00:00:00.000000000",
          "2007-02-01T00:00:00.000000000",
          "2007-03-01T00:00:00.000000000",
          "2007-04-01T00:00:00.000000000",
          "2007-05-01T00:00:00.000000000",
          "2007-06-01T00:00:00.000000000",
          "2007-07-01T00:00:00.000000000",
          "2007-08-01T00:00:00.000000000",
          "2007-09-01T00:00:00.000000000",
          "2007-10-01T00:00:00.000000000",
          "2007-11-01T00:00:00.000000000",
          "2007-12-01T00:00:00.000000000",
          "2008-01-01T00:00:00.000000000",
          "2008-02-01T00:00:00.000000000",
          "2008-03-01T00:00:00.000000000",
          "2008-04-01T00:00:00.000000000",
          "2008-05-01T00:00:00.000000000",
          "2008-06-01T00:00:00.000000000",
          "2008-07-01T00:00:00.000000000",
          "2008-08-01T00:00:00.000000000",
          "2008-09-01T00:00:00.000000000",
          "2008-10-01T00:00:00.000000000",
          "2008-11-01T00:00:00.000000000",
          "2008-12-01T00:00:00.000000000",
          "2009-01-01T00:00:00.000000000",
          "2009-02-01T00:00:00.000000000",
          "2009-03-01T00:00:00.000000000",
          "2009-04-01T00:00:00.000000000",
          "2009-05-01T00:00:00.000000000",
          "2009-06-01T00:00:00.000000000",
          "2009-07-01T00:00:00.000000000",
          "2009-08-01T00:00:00.000000000",
          "2009-09-01T00:00:00.000000000",
          "2009-10-01T00:00:00.000000000",
          "2009-11-01T00:00:00.000000000",
          "2009-12-01T00:00:00.000000000",
          "2010-01-01T00:00:00.000000000",
          "2010-02-01T00:00:00.000000000",
          "2010-03-01T00:00:00.000000000",
          "2010-04-01T00:00:00.000000000",
          "2010-05-01T00:00:00.000000000",
          "2010-06-01T00:00:00.000000000",
          "2010-07-01T00:00:00.000000000",
          "2010-08-01T00:00:00.000000000",
          "2010-09-01T00:00:00.000000000",
          "2010-10-01T00:00:00.000000000",
          "2010-11-01T00:00:00.000000000",
          "2010-12-01T00:00:00.000000000",
          "2011-01-01T00:00:00.000000000",
          "2011-02-01T00:00:00.000000000",
          "2011-03-01T00:00:00.000000000",
          "2011-04-01T00:00:00.000000000",
          "2011-05-01T00:00:00.000000000",
          "2011-06-01T00:00:00.000000000",
          "2011-07-01T00:00:00.000000000",
          "2011-08-01T00:00:00.000000000",
          "2011-09-01T00:00:00.000000000",
          "2011-10-01T00:00:00.000000000",
          "2011-11-01T00:00:00.000000000",
          "2011-12-01T00:00:00.000000000",
          "2012-01-01T00:00:00.000000000",
          "2012-02-01T00:00:00.000000000",
          "2012-03-01T00:00:00.000000000",
          "2012-04-01T00:00:00.000000000",
          "2012-05-01T00:00:00.000000000",
          "2012-06-01T00:00:00.000000000",
          "2012-07-01T00:00:00.000000000",
          "2012-08-01T00:00:00.000000000",
          "2012-09-01T00:00:00.000000000",
          "2012-10-01T00:00:00.000000000",
          "2012-11-01T00:00:00.000000000",
          "2012-12-01T00:00:00.000000000",
          "2013-01-01T00:00:00.000000000",
          "2013-02-01T00:00:00.000000000",
          "2013-03-01T00:00:00.000000000",
          "2013-04-01T00:00:00.000000000",
          "2013-05-01T00:00:00.000000000",
          "2013-06-01T00:00:00.000000000",
          "2013-07-01T00:00:00.000000000",
          "2013-08-01T00:00:00.000000000",
          "2013-09-01T00:00:00.000000000",
          "2013-10-01T00:00:00.000000000",
          "2013-11-01T00:00:00.000000000",
          "2013-12-01T00:00:00.000000000",
          "2014-01-01T00:00:00.000000000",
          "2014-02-01T00:00:00.000000000",
          "2014-03-01T00:00:00.000000000",
          "2014-04-01T00:00:00.000000000",
          "2014-05-01T00:00:00.000000000",
          "2014-06-01T00:00:00.000000000",
          "2014-07-01T00:00:00.000000000",
          "2014-08-01T00:00:00.000000000",
          "2014-09-01T00:00:00.000000000",
          "2014-10-01T00:00:00.000000000",
          "2014-11-01T00:00:00.000000000",
          "2014-12-01T00:00:00.000000000",
          "2015-01-01T00:00:00.000000000",
          "2015-02-01T00:00:00.000000000",
          "2015-03-01T00:00:00.000000000",
          "2015-04-01T00:00:00.000000000",
          "2015-05-01T00:00:00.000000000",
          "2015-06-01T00:00:00.000000000",
          "2015-07-01T00:00:00.000000000",
          "2015-08-01T00:00:00.000000000",
          "2015-09-01T00:00:00.000000000",
          "2015-10-01T00:00:00.000000000",
          "2015-11-01T00:00:00.000000000",
          "2015-12-01T00:00:00.000000000",
          "2016-01-01T00:00:00.000000000",
          "2016-02-01T00:00:00.000000000",
          "2016-03-01T00:00:00.000000000",
          "2016-04-01T00:00:00.000000000",
          "2016-05-01T00:00:00.000000000",
          "2016-06-01T00:00:00.000000000",
          "2016-07-01T00:00:00.000000000",
          "2016-08-01T00:00:00.000000000",
          "2016-09-01T00:00:00.000000000",
          "2016-10-01T00:00:00.000000000",
          "2016-11-01T00:00:00.000000000",
          "2016-12-01T00:00:00.000000000",
          "2017-01-01T00:00:00.000000000",
          "2017-02-01T00:00:00.000000000",
          "2017-03-01T00:00:00.000000000",
          "2017-04-01T00:00:00.000000000",
          "2017-05-01T00:00:00.000000000",
          "2017-06-01T00:00:00.000000000",
          "2017-07-01T00:00:00.000000000",
          "2017-08-01T00:00:00.000000000",
          "2017-09-01T00:00:00.000000000",
          "2017-10-01T00:00:00.000000000",
          "2017-11-01T00:00:00.000000000",
          "2017-12-01T00:00:00.000000000",
          "2018-01-01T00:00:00.000000000",
          "2018-02-01T00:00:00.000000000",
          "2018-03-01T00:00:00.000000000",
          "2018-04-01T00:00:00.000000000",
          "2018-05-01T00:00:00.000000000",
          "2018-06-01T00:00:00.000000000",
          "2018-07-01T00:00:00.000000000",
          "2018-08-01T00:00:00.000000000",
          "2018-09-01T00:00:00.000000000",
          "2018-10-01T00:00:00.000000000",
          "2018-11-01T00:00:00.000000000",
          "2018-12-01T00:00:00.000000000",
          "2019-01-01T00:00:00.000000000",
          "2019-02-01T00:00:00.000000000",
          "2019-03-01T00:00:00.000000000",
          "2019-04-01T00:00:00.000000000",
          "2019-05-01T00:00:00.000000000",
          "2019-06-01T00:00:00.000000000",
          "2019-07-01T00:00:00.000000000",
          "2019-08-01T00:00:00.000000000",
          "2019-09-01T00:00:00.000000000",
          "2019-10-01T00:00:00.000000000",
          "2019-11-01T00:00:00.000000000",
          "2019-12-01T00:00:00.000000000",
          "2020-01-01T00:00:00.000000000",
          "2020-02-01T00:00:00.000000000",
          "2020-03-01T00:00:00.000000000",
          "2020-04-01T00:00:00.000000000",
          "2020-05-01T00:00:00.000000000",
          "2020-06-01T00:00:00.000000000",
          "2020-07-01T00:00:00.000000000",
          "2020-08-01T00:00:00.000000000",
          "2020-09-01T00:00:00.000000000",
          "2020-10-01T00:00:00.000000000",
          "2020-11-01T00:00:00.000000000",
          "2020-12-01T00:00:00.000000000",
          "2021-01-01T00:00:00.000000000",
          "2021-02-01T00:00:00.000000000",
          "2021-03-01T00:00:00.000000000",
          "2021-04-01T00:00:00.000000000",
          "2021-05-01T00:00:00.000000000",
          "2021-06-01T00:00:00.000000000",
          "2021-07-01T00:00:00.000000000",
          "2021-08-01T00:00:00.000000000",
          "2021-09-01T00:00:00.000000000",
          "2021-10-01T00:00:00.000000000",
          "2021-11-01T00:00:00.000000000",
          "2021-12-01T00:00:00.000000000",
          "2022-01-01T00:00:00.000000000",
          "2022-02-01T00:00:00.000000000",
          "2022-03-01T00:00:00.000000000",
          "2022-04-01T00:00:00.000000000",
          "2022-05-01T00:00:00.000000000",
          "2022-06-01T00:00:00.000000000",
          "2022-07-01T00:00:00.000000000",
          "2022-08-01T00:00:00.000000000",
          "2022-09-01T00:00:00.000000000",
          "2022-10-01T00:00:00.000000000",
          "2022-11-01T00:00:00.000000000",
          "2022-12-01T00:00:00.000000000",
          "2023-01-01T00:00:00.000000000",
          "2023-02-01T00:00:00.000000000",
          "2023-03-01T00:00:00.000000000",
          "2023-04-01T00:00:00.000000000",
          "2023-05-01T00:00:00.000000000",
          "2023-06-01T00:00:00.000000000",
          "2023-07-01T00:00:00.000000000",
          "2023-08-01T00:00:00.000000000",
          "2023-09-01T00:00:00.000000000",
          "2023-10-01T00:00:00.000000000",
          "2023-11-01T00:00:00.000000000",
          "2023-12-01T00:00:00.000000000",
          "2024-01-01T00:00:00.000000000",
          "2024-02-01T00:00:00.000000000",
          "2024-03-01T00:00:00.000000000",
          "2024-04-01T00:00:00.000000000",
          "2024-05-01T00:00:00.000000000",
          "2024-06-01T00:00:00.000000000",
          "2024-07-01T00:00:00.000000000",
          "2024-08-01T00:00:00.000000000",
          "2024-09-01T00:00:00.000000000",
          "2024-10-01T00:00:00.000000000",
          "2024-11-01T00:00:00.000000000",
          "2024-12-01T00:00:00.000000000"
         ],
         "xaxis": "x",
         "y": {
          "bdata": "DwAXABYAGgAjADIALQAjACAALAA9ACwAKQAyADQANgBLACsALgAkACUAIwAgADIAIgAlAC0AQABRAD8ASAArACkAKgAlACwAPgAsAC0AJgAqADoANwApADIALQAvAEMAKAAgADEAMgAwAEEAOwA3AGEANwAsADUALgA1ADwANgBLAEIASAAoAC0ANgA/AEEAMQA+AHIANQBWAFMATwBUAEUAUABKAEEANwBIAEIAPgBQAEQAPQAzADwAWwBHAFUAQgBQAEAAZABzAEsAXwA5AEkAVQBjAHAARwBHAFAAfAB5AF4AZgBUAFoAVgBrAGAARgBkAGIAggCiAIoAdwBnAHMAvwB3AKYAhABsAO4AhACqAHYAhwCmAIoAkQCpAJIArgCqAMsAnQCvALQAyQC2AM8A1QDhAMoAqQD2AN0AtADpAM8ADAEOAekABgH3ABIB8QD3ABABHgEnAfYA8gC5APkA/ADeAOkA8AAoAT0BBAHoADcBJgEwAWUBSAE2AUIBMgE7AWcBawEwAXABIwEzAW8BbwFzAW4BFwF/AbQBXAGdAfMBcgFyAcoBuAG4AbUBpAEBAjsC9wHlATgDnwKeAccBugIlAiQCBgPeAv0DLwIDAiACUQLZAY0CPwI6Ao8CEQOaAooCjwKqAmsCegI/AnIClQK7ArECgQKcAgYDwgLqAhQD3wKsAmoDIwPvAusC9gIjA84DegPUAwAEqQOQA/YDIgRkBA4EjAPqA7gEfATmBMwENwUaBUcF0gSlBb4EdwRzBUwG4QUCB5kGZwYrBi4HSAftB30GLwZXBosH6ghfCWMJ8gg6CBIK+QnjCVsIggcICesJjwqBCuMLHAxlCrEKVQ4KDOgLzQkgCi8NzgwsDFQOBww6C4ANLQ5BDNcLFwpsCyMPJw3vDdUNCg4IDMwNtxFZD2IMYgo+DcQRoQ4zE0URRhB6EcARBhUCE6YS/RDmE/kXtRUxGBcaShnTFugbRx3ZHTgi",
          "dtype": "i2"
         },
         "yaxis": "y"
        },
        {
         "hovertemplate": "<b>OLS trendline</b><br>log10(count) = 2.37222e-09 * period + -0.430417<br>R<sup>2</sup>=0.974390<br><br>period=%{x}<br>count=%{y} <b>(trend)</b><extra></extra>",
         "legendgroup": "",
         "line": {
          "color": "red"
         },
         "marker": {
          "color": "#636efa",
          "symbol": "circle"
         },
         "mode": "lines",
         "name": "",
         "showlegend": false,
         "type": "scatter",
         "x": [
          "1994-01-01T00:00:00.000000000",
          "1994-02-01T00:00:00.000000000",
          "1994-03-01T00:00:00.000000000",
          "1994-04-01T00:00:00.000000000",
          "1994-05-01T00:00:00.000000000",
          "1994-06-01T00:00:00.000000000",
          "1994-07-01T00:00:00.000000000",
          "1994-08-01T00:00:00.000000000",
          "1994-09-01T00:00:00.000000000",
          "1994-10-01T00:00:00.000000000",
          "1994-11-01T00:00:00.000000000",
          "1994-12-01T00:00:00.000000000",
          "1995-01-01T00:00:00.000000000",
          "1995-02-01T00:00:00.000000000",
          "1995-03-01T00:00:00.000000000",
          "1995-04-01T00:00:00.000000000",
          "1995-05-01T00:00:00.000000000",
          "1995-06-01T00:00:00.000000000",
          "1995-07-01T00:00:00.000000000",
          "1995-08-01T00:00:00.000000000",
          "1995-09-01T00:00:00.000000000",
          "1995-10-01T00:00:00.000000000",
          "1995-11-01T00:00:00.000000000",
          "1995-12-01T00:00:00.000000000",
          "1996-01-01T00:00:00.000000000",
          "1996-02-01T00:00:00.000000000",
          "1996-03-01T00:00:00.000000000",
          "1996-04-01T00:00:00.000000000",
          "1996-05-01T00:00:00.000000000",
          "1996-06-01T00:00:00.000000000",
          "1996-07-01T00:00:00.000000000",
          "1996-08-01T00:00:00.000000000",
          "1996-09-01T00:00:00.000000000",
          "1996-10-01T00:00:00.000000000",
          "1996-11-01T00:00:00.000000000",
          "1996-12-01T00:00:00.000000000",
          "1997-01-01T00:00:00.000000000",
          "1997-02-01T00:00:00.000000000",
          "1997-03-01T00:00:00.000000000",
          "1997-04-01T00:00:00.000000000",
          "1997-05-01T00:00:00.000000000",
          "1997-06-01T00:00:00.000000000",
          "1997-07-01T00:00:00.000000000",
          "1997-08-01T00:00:00.000000000",
          "1997-09-01T00:00:00.000000000",
          "1997-10-01T00:00:00.000000000",
          "1997-11-01T00:00:00.000000000",
          "1997-12-01T00:00:00.000000000",
          "1998-01-01T00:00:00.000000000",
          "1998-02-01T00:00:00.000000000",
          "1998-03-01T00:00:00.000000000",
          "1998-04-01T00:00:00.000000000",
          "1998-05-01T00:00:00.000000000",
          "1998-06-01T00:00:00.000000000",
          "1998-07-01T00:00:00.000000000",
          "1998-08-01T00:00:00.000000000",
          "1998-09-01T00:00:00.000000000",
          "1998-10-01T00:00:00.000000000",
          "1998-11-01T00:00:00.000000000",
          "1998-12-01T00:00:00.000000000",
          "1999-01-01T00:00:00.000000000",
          "1999-02-01T00:00:00.000000000",
          "1999-03-01T00:00:00.000000000",
          "1999-04-01T00:00:00.000000000",
          "1999-05-01T00:00:00.000000000",
          "1999-06-01T00:00:00.000000000",
          "1999-07-01T00:00:00.000000000",
          "1999-08-01T00:00:00.000000000",
          "1999-09-01T00:00:00.000000000",
          "1999-10-01T00:00:00.000000000",
          "1999-11-01T00:00:00.000000000",
          "1999-12-01T00:00:00.000000000",
          "2000-01-01T00:00:00.000000000",
          "2000-02-01T00:00:00.000000000",
          "2000-03-01T00:00:00.000000000",
          "2000-04-01T00:00:00.000000000",
          "2000-05-01T00:00:00.000000000",
          "2000-06-01T00:00:00.000000000",
          "2000-07-01T00:00:00.000000000",
          "2000-08-01T00:00:00.000000000",
          "2000-09-01T00:00:00.000000000",
          "2000-10-01T00:00:00.000000000",
          "2000-11-01T00:00:00.000000000",
          "2000-12-01T00:00:00.000000000",
          "2001-01-01T00:00:00.000000000",
          "2001-02-01T00:00:00.000000000",
          "2001-03-01T00:00:00.000000000",
          "2001-04-01T00:00:00.000000000",
          "2001-05-01T00:00:00.000000000",
          "2001-06-01T00:00:00.000000000",
          "2001-07-01T00:00:00.000000000",
          "2001-08-01T00:00:00.000000000",
          "2001-09-01T00:00:00.000000000",
          "2001-10-01T00:00:00.000000000",
          "2001-11-01T00:00:00.000000000",
          "2001-12-01T00:00:00.000000000",
          "2002-01-01T00:00:00.000000000",
          "2002-02-01T00:00:00.000000000",
          "2002-03-01T00:00:00.000000000",
          "2002-04-01T00:00:00.000000000",
          "2002-05-01T00:00:00.000000000",
          "2002-06-01T00:00:00.000000000",
          "2002-07-01T00:00:00.000000000",
          "2002-08-01T00:00:00.000000000",
          "2002-09-01T00:00:00.000000000",
          "2002-10-01T00:00:00.000000000",
          "2002-11-01T00:00:00.000000000",
          "2002-12-01T00:00:00.000000000",
          "2003-01-01T00:00:00.000000000",
          "2003-02-01T00:00:00.000000000",
          "2003-03-01T00:00:00.000000000",
          "2003-04-01T00:00:00.000000000",
          "2003-05-01T00:00:00.000000000",
          "2003-06-01T00:00:00.000000000",
          "2003-07-01T00:00:00.000000000",
          "2003-08-01T00:00:00.000000000",
          "2003-09-01T00:00:00.000000000",
          "2003-10-01T00:00:00.000000000",
          "2003-11-01T00:00:00.000000000",
          "2003-12-01T00:00:00.000000000",
          "2004-01-01T00:00:00.000000000",
          "2004-02-01T00:00:00.000000000",
          "2004-03-01T00:00:00.000000000",
          "2004-04-01T00:00:00.000000000",
          "2004-05-01T00:00:00.000000000",
          "2004-06-01T00:00:00.000000000",
          "2004-07-01T00:00:00.000000000",
          "2004-08-01T00:00:00.000000000",
          "2004-09-01T00:00:00.000000000",
          "2004-10-01T00:00:00.000000000",
          "2004-11-01T00:00:00.000000000",
          "2004-12-01T00:00:00.000000000",
          "2005-01-01T00:00:00.000000000",
          "2005-02-01T00:00:00.000000000",
          "2005-03-01T00:00:00.000000000",
          "2005-04-01T00:00:00.000000000",
          "2005-05-01T00:00:00.000000000",
          "2005-06-01T00:00:00.000000000",
          "2005-07-01T00:00:00.000000000",
          "2005-08-01T00:00:00.000000000",
          "2005-09-01T00:00:00.000000000",
          "2005-10-01T00:00:00.000000000",
          "2005-11-01T00:00:00.000000000",
          "2005-12-01T00:00:00.000000000",
          "2006-01-01T00:00:00.000000000",
          "2006-02-01T00:00:00.000000000",
          "2006-03-01T00:00:00.000000000",
          "2006-04-01T00:00:00.000000000",
          "2006-05-01T00:00:00.000000000",
          "2006-06-01T00:00:00.000000000",
          "2006-07-01T00:00:00.000000000",
          "2006-08-01T00:00:00.000000000",
          "2006-09-01T00:00:00.000000000",
          "2006-10-01T00:00:00.000000000",
          "2006-11-01T00:00:00.000000000",
          "2006-12-01T00:00:00.000000000",
          "2007-01-01T00:00:00.000000000",
          "2007-02-01T00:00:00.000000000",
          "2007-03-01T00:00:00.000000000",
          "2007-04-01T00:00:00.000000000",
          "2007-05-01T00:00:00.000000000",
          "2007-06-01T00:00:00.000000000",
          "2007-07-01T00:00:00.000000000",
          "2007-08-01T00:00:00.000000000",
          "2007-09-01T00:00:00.000000000",
          "2007-10-01T00:00:00.000000000",
          "2007-11-01T00:00:00.000000000",
          "2007-12-01T00:00:00.000000000",
          "2008-01-01T00:00:00.000000000",
          "2008-02-01T00:00:00.000000000",
          "2008-03-01T00:00:00.000000000",
          "2008-04-01T00:00:00.000000000",
          "2008-05-01T00:00:00.000000000",
          "2008-06-01T00:00:00.000000000",
          "2008-07-01T00:00:00.000000000",
          "2008-08-01T00:00:00.000000000",
          "2008-09-01T00:00:00.000000000",
          "2008-10-01T00:00:00.000000000",
          "2008-11-01T00:00:00.000000000",
          "2008-12-01T00:00:00.000000000",
          "2009-01-01T00:00:00.000000000",
          "2009-02-01T00:00:00.000000000",
          "2009-03-01T00:00:00.000000000",
          "2009-04-01T00:00:00.000000000",
          "2009-05-01T00:00:00.000000000",
          "2009-06-01T00:00:00.000000000",
          "2009-07-01T00:00:00.000000000",
          "2009-08-01T00:00:00.000000000",
          "2009-09-01T00:00:00.000000000",
          "2009-10-01T00:00:00.000000000",
          "2009-11-01T00:00:00.000000000",
          "2009-12-01T00:00:00.000000000",
          "2010-01-01T00:00:00.000000000",
          "2010-02-01T00:00:00.000000000",
          "2010-03-01T00:00:00.000000000",
          "2010-04-01T00:00:00.000000000",
          "2010-05-01T00:00:00.000000000",
          "2010-06-01T00:00:00.000000000",
          "2010-07-01T00:00:00.000000000",
          "2010-08-01T00:00:00.000000000",
          "2010-09-01T00:00:00.000000000",
          "2010-10-01T00:00:00.000000000",
          "2010-11-01T00:00:00.000000000",
          "2010-12-01T00:00:00.000000000",
          "2011-01-01T00:00:00.000000000",
          "2011-02-01T00:00:00.000000000",
          "2011-03-01T00:00:00.000000000",
          "2011-04-01T00:00:00.000000000",
          "2011-05-01T00:00:00.000000000",
          "2011-06-01T00:00:00.000000000",
          "2011-07-01T00:00:00.000000000",
          "2011-08-01T00:00:00.000000000",
          "2011-09-01T00:00:00.000000000",
          "2011-10-01T00:00:00.000000000",
          "2011-11-01T00:00:00.000000000",
          "2011-12-01T00:00:00.000000000",
          "2012-01-01T00:00:00.000000000",
          "2012-02-01T00:00:00.000000000",
          "2012-03-01T00:00:00.000000000",
          "2012-04-01T00:00:00.000000000",
          "2012-05-01T00:00:00.000000000",
          "2012-06-01T00:00:00.000000000",
          "2012-07-01T00:00:00.000000000",
          "2012-08-01T00:00:00.000000000",
          "2012-09-01T00:00:00.000000000",
          "2012-10-01T00:00:00.000000000",
          "2012-11-01T00:00:00.000000000",
          "2012-12-01T00:00:00.000000000",
          "2013-01-01T00:00:00.000000000",
          "2013-02-01T00:00:00.000000000",
          "2013-03-01T00:00:00.000000000",
          "2013-04-01T00:00:00.000000000",
          "2013-05-01T00:00:00.000000000",
          "2013-06-01T00:00:00.000000000",
          "2013-07-01T00:00:00.000000000",
          "2013-08-01T00:00:00.000000000",
          "2013-09-01T00:00:00.000000000",
          "2013-10-01T00:00:00.000000000",
          "2013-11-01T00:00:00.000000000",
          "2013-12-01T00:00:00.000000000",
          "2014-01-01T00:00:00.000000000",
          "2014-02-01T00:00:00.000000000",
          "2014-03-01T00:00:00.000000000",
          "2014-04-01T00:00:00.000000000",
          "2014-05-01T00:00:00.000000000",
          "2014-06-01T00:00:00.000000000",
          "2014-07-01T00:00:00.000000000",
          "2014-08-01T00:00:00.000000000",
          "2014-09-01T00:00:00.000000000",
          "2014-10-01T00:00:00.000000000",
          "2014-11-01T00:00:00.000000000",
          "2014-12-01T00:00:00.000000000",
          "2015-01-01T00:00:00.000000000",
          "2015-02-01T00:00:00.000000000",
          "2015-03-01T00:00:00.000000000",
          "2015-04-01T00:00:00.000000000",
          "2015-05-01T00:00:00.000000000",
          "2015-06-01T00:00:00.000000000",
          "2015-07-01T00:00:00.000000000",
          "2015-08-01T00:00:00.000000000",
          "2015-09-01T00:00:00.000000000",
          "2015-10-01T00:00:00.000000000",
          "2015-11-01T00:00:00.000000000",
          "2015-12-01T00:00:00.000000000",
          "2016-01-01T00:00:00.000000000",
          "2016-02-01T00:00:00.000000000",
          "2016-03-01T00:00:00.000000000",
          "2016-04-01T00:00:00.000000000",
          "2016-05-01T00:00:00.000000000",
          "2016-06-01T00:00:00.000000000",
          "2016-07-01T00:00:00.000000000",
          "2016-08-01T00:00:00.000000000",
          "2016-09-01T00:00:00.000000000",
          "2016-10-01T00:00:00.000000000",
          "2016-11-01T00:00:00.000000000",
          "2016-12-01T00:00:00.000000000",
          "2017-01-01T00:00:00.000000000",
          "2017-02-01T00:00:00.000000000",
          "2017-03-01T00:00:00.000000000",
          "2017-04-01T00:00:00.000000000",
          "2017-05-01T00:00:00.000000000",
          "2017-06-01T00:00:00.000000000",
          "2017-07-01T00:00:00.000000000",
          "2017-08-01T00:00:00.000000000",
          "2017-09-01T00:00:00.000000000",
          "2017-10-01T00:00:00.000000000",
          "2017-11-01T00:00:00.000000000",
          "2017-12-01T00:00:00.000000000",
          "2018-01-01T00:00:00.000000000",
          "2018-02-01T00:00:00.000000000",
          "2018-03-01T00:00:00.000000000",
          "2018-04-01T00:00:00.000000000",
          "2018-05-01T00:00:00.000000000",
          "2018-06-01T00:00:00.000000000",
          "2018-07-01T00:00:00.000000000",
          "2018-08-01T00:00:00.000000000",
          "2018-09-01T00:00:00.000000000",
          "2018-10-01T00:00:00.000000000",
          "2018-11-01T00:00:00.000000000",
          "2018-12-01T00:00:00.000000000",
          "2019-01-01T00:00:00.000000000",
          "2019-02-01T00:00:00.000000000",
          "2019-03-01T00:00:00.000000000",
          "2019-04-01T00:00:00.000000000",
          "2019-05-01T00:00:00.000000000",
          "2019-06-01T00:00:00.000000000",
          "2019-07-01T00:00:00.000000000",
          "2019-08-01T00:00:00.000000000",
          "2019-09-01T00:00:00.000000000",
          "2019-10-01T00:00:00.000000000",
          "2019-11-01T00:00:00.000000000",
          "2019-12-01T00:00:00.000000000",
          "2020-01-01T00:00:00.000000000",
          "2020-02-01T00:00:00.000000000",
          "2020-03-01T00:00:00.000000000",
          "2020-04-01T00:00:00.000000000",
          "2020-05-01T00:00:00.000000000",
          "2020-06-01T00:00:00.000000000",
          "2020-07-01T00:00:00.000000000",
          "2020-08-01T00:00:00.000000000",
          "2020-09-01T00:00:00.000000000",
          "2020-10-01T00:00:00.000000000",
          "2020-11-01T00:00:00.000000000",
          "2020-12-01T00:00:00.000000000",
          "2021-01-01T00:00:00.000000000",
          "2021-02-01T00:00:00.000000000",
          "2021-03-01T00:00:00.000000000",
          "2021-04-01T00:00:00.000000000",
          "2021-05-01T00:00:00.000000000",
          "2021-06-01T00:00:00.000000000",
          "2021-07-01T00:00:00.000000000",
          "2021-08-01T00:00:00.000000000",
          "2021-09-01T00:00:00.000000000",
          "2021-10-01T00:00:00.000000000",
          "2021-11-01T00:00:00.000000000",
          "2021-12-01T00:00:00.000000000",
          "2022-01-01T00:00:00.000000000",
          "2022-02-01T00:00:00.000000000",
          "2022-03-01T00:00:00.000000000",
          "2022-04-01T00:00:00.000000000",
          "2022-05-01T00:00:00.000000000",
          "2022-06-01T00:00:00.000000000",
          "2022-07-01T00:00:00.000000000",
          "2022-08-01T00:00:00.000000000",
          "2022-09-01T00:00:00.000000000",
          "2022-10-01T00:00:00.000000000",
          "2022-11-01T00:00:00.000000000",
          "2022-12-01T00:00:00.000000000",
          "2023-01-01T00:00:00.000000000",
          "2023-02-01T00:00:00.000000000",
          "2023-03-01T00:00:00.000000000",
          "2023-04-01T00:00:00.000000000",
          "2023-05-01T00:00:00.000000000",
          "2023-06-01T00:00:00.000000000",
          "2023-07-01T00:00:00.000000000",
          "2023-08-01T00:00:00.000000000",
          "2023-09-01T00:00:00.000000000",
          "2023-10-01T00:00:00.000000000",
          "2023-11-01T00:00:00.000000000",
          "2023-12-01T00:00:00.000000000",
          "2024-01-01T00:00:00.000000000",
          "2024-02-01T00:00:00.000000000",
          "2024-03-01T00:00:00.000000000",
          "2024-04-01T00:00:00.000000000",
          "2024-05-01T00:00:00.000000000",
          "2024-06-01T00:00:00.000000000",
          "2024-07-01T00:00:00.000000000",
          "2024-08-01T00:00:00.000000000",
          "2024-09-01T00:00:00.000000000",
          "2024-10-01T00:00:00.000000000",
          "2024-11-01T00:00:00.000000000",
          "2024-12-01T00:00:00.000000000"
         ],
         "xaxis": "x",
         "y": {
          "bdata": "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",
          "dtype": "f8"
         },
         "yaxis": "y"
        },
        {
         "hovertemplate": "period=%{x}<br>count=%{y}<extra></extra>",
         "legendgroup": "",
         "marker": {
          "color": "#636efa",
          "symbol": "circle"
         },
         "mode": "markers",
         "name": "",
         "orientation": "v",
         "showlegend": false,
         "type": "scatter",
         "x": [
          "1994-01-01T00:00:00.000000000",
          "1994-02-01T00:00:00.000000000",
          "1994-03-01T00:00:00.000000000",
          "1994-04-01T00:00:00.000000000",
          "1994-05-01T00:00:00.000000000",
          "1994-06-01T00:00:00.000000000",
          "1994-07-01T00:00:00.000000000",
          "1994-08-01T00:00:00.000000000",
          "1994-09-01T00:00:00.000000000",
          "1994-10-01T00:00:00.000000000",
          "1994-11-01T00:00:00.000000000",
          "1994-12-01T00:00:00.000000000",
          "1995-01-01T00:00:00.000000000",
          "1995-02-01T00:00:00.000000000",
          "1995-03-01T00:00:00.000000000",
          "1995-04-01T00:00:00.000000000",
          "1995-05-01T00:00:00.000000000",
          "1995-06-01T00:00:00.000000000",
          "1995-07-01T00:00:00.000000000",
          "1995-08-01T00:00:00.000000000",
          "1995-09-01T00:00:00.000000000",
          "1995-10-01T00:00:00.000000000",
          "1995-11-01T00:00:00.000000000",
          "1995-12-01T00:00:00.000000000",
          "1996-01-01T00:00:00.000000000",
          "1996-02-01T00:00:00.000000000",
          "1996-03-01T00:00:00.000000000",
          "1996-04-01T00:00:00.000000000",
          "1996-05-01T00:00:00.000000000",
          "1996-06-01T00:00:00.000000000",
          "1996-07-01T00:00:00.000000000",
          "1996-08-01T00:00:00.000000000",
          "1996-09-01T00:00:00.000000000",
          "1996-10-01T00:00:00.000000000",
          "1996-11-01T00:00:00.000000000",
          "1996-12-01T00:00:00.000000000",
          "1997-01-01T00:00:00.000000000",
          "1997-02-01T00:00:00.000000000",
          "1997-03-01T00:00:00.000000000",
          "1997-04-01T00:00:00.000000000",
          "1997-05-01T00:00:00.000000000",
          "1997-06-01T00:00:00.000000000",
          "1997-07-01T00:00:00.000000000",
          "1997-08-01T00:00:00.000000000",
          "1997-09-01T00:00:00.000000000",
          "1997-10-01T00:00:00.000000000",
          "1997-11-01T00:00:00.000000000",
          "1997-12-01T00:00:00.000000000",
          "1998-01-01T00:00:00.000000000",
          "1998-02-01T00:00:00.000000000",
          "1998-03-01T00:00:00.000000000",
          "1998-04-01T00:00:00.000000000",
          "1998-05-01T00:00:00.000000000",
          "1998-06-01T00:00:00.000000000",
          "1998-07-01T00:00:00.000000000",
          "1998-08-01T00:00:00.000000000",
          "1998-09-01T00:00:00.000000000",
          "1998-10-01T00:00:00.000000000",
          "1998-11-01T00:00:00.000000000",
          "1998-12-01T00:00:00.000000000",
          "1999-01-01T00:00:00.000000000",
          "1999-02-01T00:00:00.000000000",
          "1999-03-01T00:00:00.000000000",
          "1999-04-01T00:00:00.000000000",
          "1999-05-01T00:00:00.000000000",
          "1999-06-01T00:00:00.000000000",
          "1999-07-01T00:00:00.000000000",
          "1999-08-01T00:00:00.000000000",
          "1999-09-01T00:00:00.000000000",
          "1999-10-01T00:00:00.000000000",
          "1999-11-01T00:00:00.000000000",
          "1999-12-01T00:00:00.000000000",
          "2000-01-01T00:00:00.000000000",
          "2000-02-01T00:00:00.000000000",
          "2000-03-01T00:00:00.000000000",
          "2000-04-01T00:00:00.000000000",
          "2000-05-01T00:00:00.000000000",
          "2000-06-01T00:00:00.000000000",
          "2000-07-01T00:00:00.000000000",
          "2000-08-01T00:00:00.000000000",
          "2000-09-01T00:00:00.000000000",
          "2000-10-01T00:00:00.000000000",
          "2000-11-01T00:00:00.000000000",
          "2000-12-01T00:00:00.000000000",
          "2001-01-01T00:00:00.000000000",
          "2001-02-01T00:00:00.000000000",
          "2001-03-01T00:00:00.000000000",
          "2001-04-01T00:00:00.000000000",
          "2001-05-01T00:00:00.000000000",
          "2001-06-01T00:00:00.000000000",
          "2001-07-01T00:00:00.000000000",
          "2001-08-01T00:00:00.000000000",
          "2001-09-01T00:00:00.000000000",
          "2001-10-01T00:00:00.000000000",
          "2001-11-01T00:00:00.000000000",
          "2001-12-01T00:00:00.000000000",
          "2002-01-01T00:00:00.000000000",
          "2002-02-01T00:00:00.000000000",
          "2002-03-01T00:00:00.000000000",
          "2002-04-01T00:00:00.000000000",
          "2002-05-01T00:00:00.000000000",
          "2002-06-01T00:00:00.000000000",
          "2002-07-01T00:00:00.000000000",
          "2002-08-01T00:00:00.000000000",
          "2002-09-01T00:00:00.000000000",
          "2002-10-01T00:00:00.000000000",
          "2002-11-01T00:00:00.000000000",
          "2002-12-01T00:00:00.000000000",
          "2003-01-01T00:00:00.000000000",
          "2003-02-01T00:00:00.000000000",
          "2003-03-01T00:00:00.000000000",
          "2003-04-01T00:00:00.000000000",
          "2003-05-01T00:00:00.000000000",
          "2003-06-01T00:00:00.000000000",
          "2003-07-01T00:00:00.000000000",
          "2003-08-01T00:00:00.000000000",
          "2003-09-01T00:00:00.000000000",
          "2003-10-01T00:00:00.000000000",
          "2003-11-01T00:00:00.000000000",
          "2003-12-01T00:00:00.000000000",
          "2004-01-01T00:00:00.000000000",
          "2004-02-01T00:00:00.000000000",
          "2004-03-01T00:00:00.000000000",
          "2004-04-01T00:00:00.000000000",
          "2004-05-01T00:00:00.000000000",
          "2004-06-01T00:00:00.000000000",
          "2004-07-01T00:00:00.000000000",
          "2004-08-01T00:00:00.000000000",
          "2004-09-01T00:00:00.000000000",
          "2004-10-01T00:00:00.000000000",
          "2004-11-01T00:00:00.000000000",
          "2004-12-01T00:00:00.000000000",
          "2005-01-01T00:00:00.000000000",
          "2005-02-01T00:00:00.000000000",
          "2005-03-01T00:00:00.000000000",
          "2005-04-01T00:00:00.000000000",
          "2005-05-01T00:00:00.000000000",
          "2005-06-01T00:00:00.000000000",
          "2005-07-01T00:00:00.000000000",
          "2005-08-01T00:00:00.000000000",
          "2005-09-01T00:00:00.000000000",
          "2005-10-01T00:00:00.000000000",
          "2005-11-01T00:00:00.000000000",
          "2005-12-01T00:00:00.000000000",
          "2006-01-01T00:00:00.000000000",
          "2006-02-01T00:00:00.000000000",
          "2006-03-01T00:00:00.000000000",
          "2006-04-01T00:00:00.000000000",
          "2006-05-01T00:00:00.000000000",
          "2006-06-01T00:00:00.000000000",
          "2006-07-01T00:00:00.000000000",
          "2006-08-01T00:00:00.000000000",
          "2006-09-01T00:00:00.000000000",
          "2006-10-01T00:00:00.000000000",
          "2006-11-01T00:00:00.000000000",
          "2006-12-01T00:00:00.000000000",
          "2007-01-01T00:00:00.000000000",
          "2007-02-01T00:00:00.000000000",
          "2007-03-01T00:00:00.000000000",
          "2007-04-01T00:00:00.000000000",
          "2007-05-01T00:00:00.000000000",
          "2007-06-01T00:00:00.000000000",
          "2007-07-01T00:00:00.000000000",
          "2007-08-01T00:00:00.000000000",
          "2007-09-01T00:00:00.000000000",
          "2007-10-01T00:00:00.000000000",
          "2007-11-01T00:00:00.000000000",
          "2007-12-01T00:00:00.000000000",
          "2008-01-01T00:00:00.000000000",
          "2008-02-01T00:00:00.000000000",
          "2008-03-01T00:00:00.000000000",
          "2008-04-01T00:00:00.000000000",
          "2008-05-01T00:00:00.000000000",
          "2008-06-01T00:00:00.000000000",
          "2008-07-01T00:00:00.000000000",
          "2008-08-01T00:00:00.000000000",
          "2008-09-01T00:00:00.000000000",
          "2008-10-01T00:00:00.000000000",
          "2008-11-01T00:00:00.000000000",
          "2008-12-01T00:00:00.000000000",
          "2009-01-01T00:00:00.000000000",
          "2009-02-01T00:00:00.000000000",
          "2009-03-01T00:00:00.000000000",
          "2009-04-01T00:00:00.000000000",
          "2009-05-01T00:00:00.000000000",
          "2009-06-01T00:00:00.000000000",
          "2009-07-01T00:00:00.000000000",
          "2009-08-01T00:00:00.000000000",
          "2009-09-01T00:00:00.000000000",
          "2009-10-01T00:00:00.000000000",
          "2009-11-01T00:00:00.000000000",
          "2009-12-01T00:00:00.000000000",
          "2010-01-01T00:00:00.000000000",
          "2010-02-01T00:00:00.000000000",
          "2010-03-01T00:00:00.000000000",
          "2010-04-01T00:00:00.000000000",
          "2010-05-01T00:00:00.000000000",
          "2010-06-01T00:00:00.000000000",
          "2010-07-01T00:00:00.000000000",
          "2010-08-01T00:00:00.000000000",
          "2010-09-01T00:00:00.000000000",
          "2010-10-01T00:00:00.000000000",
          "2010-11-01T00:00:00.000000000",
          "2010-12-01T00:00:00.000000000",
          "2011-01-01T00:00:00.000000000",
          "2011-02-01T00:00:00.000000000",
          "2011-03-01T00:00:00.000000000",
          "2011-04-01T00:00:00.000000000",
          "2011-05-01T00:00:00.000000000",
          "2011-06-01T00:00:00.000000000",
          "2011-07-01T00:00:00.000000000",
          "2011-08-01T00:00:00.000000000",
          "2011-09-01T00:00:00.000000000",
          "2011-10-01T00:00:00.000000000",
          "2011-11-01T00:00:00.000000000",
          "2011-12-01T00:00:00.000000000",
          "2012-01-01T00:00:00.000000000",
          "2012-02-01T00:00:00.000000000",
          "2012-03-01T00:00:00.000000000",
          "2012-04-01T00:00:00.000000000",
          "2012-05-01T00:00:00.000000000",
          "2012-06-01T00:00:00.000000000",
          "2012-07-01T00:00:00.000000000",
          "2012-08-01T00:00:00.000000000",
          "2012-09-01T00:00:00.000000000",
          "2012-10-01T00:00:00.000000000",
          "2012-11-01T00:00:00.000000000",
          "2012-12-01T00:00:00.000000000",
          "2013-01-01T00:00:00.000000000",
          "2013-02-01T00:00:00.000000000",
          "2013-03-01T00:00:00.000000000",
          "2013-04-01T00:00:00.000000000",
          "2013-05-01T00:00:00.000000000",
          "2013-06-01T00:00:00.000000000",
          "2013-07-01T00:00:00.000000000",
          "2013-08-01T00:00:00.000000000",
          "2013-09-01T00:00:00.000000000",
          "2013-10-01T00:00:00.000000000",
          "2013-11-01T00:00:00.000000000",
          "2013-12-01T00:00:00.000000000",
          "2014-01-01T00:00:00.000000000",
          "2014-02-01T00:00:00.000000000",
          "2014-03-01T00:00:00.000000000",
          "2014-04-01T00:00:00.000000000",
          "2014-05-01T00:00:00.000000000",
          "2014-06-01T00:00:00.000000000",
          "2014-07-01T00:00:00.000000000",
          "2014-08-01T00:00:00.000000000",
          "2014-09-01T00:00:00.000000000",
          "2014-10-01T00:00:00.000000000",
          "2014-11-01T00:00:00.000000000",
          "2014-12-01T00:00:00.000000000",
          "2015-01-01T00:00:00.000000000",
          "2015-02-01T00:00:00.000000000",
          "2015-03-01T00:00:00.000000000",
          "2015-04-01T00:00:00.000000000",
          "2015-05-01T00:00:00.000000000",
          "2015-06-01T00:00:00.000000000",
          "2015-07-01T00:00:00.000000000",
          "2015-08-01T00:00:00.000000000",
          "2015-09-01T00:00:00.000000000",
          "2015-10-01T00:00:00.000000000",
          "2015-11-01T00:00:00.000000000",
          "2015-12-01T00:00:00.000000000",
          "2016-01-01T00:00:00.000000000",
          "2016-02-01T00:00:00.000000000",
          "2016-03-01T00:00:00.000000000",
          "2016-04-01T00:00:00.000000000",
          "2016-05-01T00:00:00.000000000",
          "2016-06-01T00:00:00.000000000",
          "2016-07-01T00:00:00.000000000",
          "2016-08-01T00:00:00.000000000",
          "2016-09-01T00:00:00.000000000",
          "2016-10-01T00:00:00.000000000",
          "2016-11-01T00:00:00.000000000",
          "2016-12-01T00:00:00.000000000",
          "2017-01-01T00:00:00.000000000",
          "2017-02-01T00:00:00.000000000",
          "2017-03-01T00:00:00.000000000",
          "2017-04-01T00:00:00.000000000",
          "2017-05-01T00:00:00.000000000",
          "2017-06-01T00:00:00.000000000",
          "2017-07-01T00:00:00.000000000",
          "2017-08-01T00:00:00.000000000",
          "2017-09-01T00:00:00.000000000",
          "2017-10-01T00:00:00.000000000",
          "2017-11-01T00:00:00.000000000",
          "2017-12-01T00:00:00.000000000",
          "2018-01-01T00:00:00.000000000",
          "2018-02-01T00:00:00.000000000",
          "2018-03-01T00:00:00.000000000",
          "2018-04-01T00:00:00.000000000",
          "2018-05-01T00:00:00.000000000",
          "2018-06-01T00:00:00.000000000",
          "2018-07-01T00:00:00.000000000",
          "2018-08-01T00:00:00.000000000",
          "2018-09-01T00:00:00.000000000",
          "2018-10-01T00:00:00.000000000",
          "2018-11-01T00:00:00.000000000",
          "2018-12-01T00:00:00.000000000",
          "2019-01-01T00:00:00.000000000",
          "2019-02-01T00:00:00.000000000",
          "2019-03-01T00:00:00.000000000",
          "2019-04-01T00:00:00.000000000",
          "2019-05-01T00:00:00.000000000",
          "2019-06-01T00:00:00.000000000",
          "2019-07-01T00:00:00.000000000",
          "2019-08-01T00:00:00.000000000",
          "2019-09-01T00:00:00.000000000",
          "2019-10-01T00:00:00.000000000",
          "2019-11-01T00:00:00.000000000",
          "2019-12-01T00:00:00.000000000",
          "2020-01-01T00:00:00.000000000",
          "2020-02-01T00:00:00.000000000",
          "2020-03-01T00:00:00.000000000",
          "2020-04-01T00:00:00.000000000",
          "2020-05-01T00:00:00.000000000",
          "2020-06-01T00:00:00.000000000",
          "2020-07-01T00:00:00.000000000",
          "2020-08-01T00:00:00.000000000",
          "2020-09-01T00:00:00.000000000",
          "2020-10-01T00:00:00.000000000",
          "2020-11-01T00:00:00.000000000",
          "2020-12-01T00:00:00.000000000",
          "2021-01-01T00:00:00.000000000",
          "2021-02-01T00:00:00.000000000",
          "2021-03-01T00:00:00.000000000",
          "2021-04-01T00:00:00.000000000",
          "2021-05-01T00:00:00.000000000",
          "2021-06-01T00:00:00.000000000",
          "2021-07-01T00:00:00.000000000",
          "2021-08-01T00:00:00.000000000",
          "2021-09-01T00:00:00.000000000",
          "2021-10-01T00:00:00.000000000",
          "2021-11-01T00:00:00.000000000",
          "2021-12-01T00:00:00.000000000",
          "2022-01-01T00:00:00.000000000",
          "2022-02-01T00:00:00.000000000",
          "2022-03-01T00:00:00.000000000",
          "2022-04-01T00:00:00.000000000",
          "2022-05-01T00:00:00.000000000",
          "2022-06-01T00:00:00.000000000",
          "2022-07-01T00:00:00.000000000",
          "2022-08-01T00:00:00.000000000",
          "2022-09-01T00:00:00.000000000",
          "2022-10-01T00:00:00.000000000",
          "2022-11-01T00:00:00.000000000",
          "2022-12-01T00:00:00.000000000",
          "2023-01-01T00:00:00.000000000",
          "2023-02-01T00:00:00.000000000",
          "2023-03-01T00:00:00.000000000",
          "2023-04-01T00:00:00.000000000",
          "2023-05-01T00:00:00.000000000",
          "2023-06-01T00:00:00.000000000",
          "2023-07-01T00:00:00.000000000",
          "2023-08-01T00:00:00.000000000",
          "2023-09-01T00:00:00.000000000",
          "2023-10-01T00:00:00.000000000",
          "2023-11-01T00:00:00.000000000",
          "2023-12-01T00:00:00.000000000",
          "2024-01-01T00:00:00.000000000",
          "2024-02-01T00:00:00.000000000",
          "2024-03-01T00:00:00.000000000",
          "2024-04-01T00:00:00.000000000",
          "2024-05-01T00:00:00.000000000",
          "2024-06-01T00:00:00.000000000",
          "2024-07-01T00:00:00.000000000",
          "2024-08-01T00:00:00.000000000",
          "2024-09-01T00:00:00.000000000",
          "2024-10-01T00:00:00.000000000",
          "2024-11-01T00:00:00.000000000",
          "2024-12-01T00:00:00.000000000"
         ],
         "xaxis": "x2",
         "y": {
          "bdata": "DwAXABYAGgAjADIALQAjACAALAA9ACwAKQAyADQANgBLACsALgAkACUAIwAgADIAIgAlAC0AQABRAD8ASAArACkAKgAlACwAPgAsAC0AJgAqADoANwApADIALQAvAEMAKAAgADEAMgAwAEEAOwA3AGEANwAsADUALgA1ADwANgBLAEIASAAoAC0ANgA/AEEAMQA+AHIANQBWAFMATwBUAEUAUABKAEEANwBIAEIAPgBQAEQAPQAzADwAWwBHAFUAQgBQAEAAZABzAEsAXwA5AEkAVQBjAHAARwBHAFAAfAB5AF4AZgBUAFoAVgBrAGAARgBkAGIAggCiAIoAdwBnAHMAvwB3AKYAhABsAO4AhACqAHYAhwCmAIoAkQCpAJIArgCqAMsAnQCvALQAyQC2AM8A1QDhAMoAqQD2AN0AtADpAM8ADAEOAekABgH3ABIB8QD3ABABHgEnAfYA8gC5APkA/ADeAOkA8AAoAT0BBAHoADcBJgEwAWUBSAE2AUIBMgE7AWcBawEwAXABIwEzAW8BbwFzAW4BFwF/AbQBXAGdAfMBcgFyAcoBuAG4AbUBpAEBAjsC9wHlATgDnwKeAccBugIlAiQCBgPeAv0DLwIDAiACUQLZAY0CPwI6Ao8CEQOaAooCjwKqAmsCegI/AnIClQK7ArECgQKcAgYDwgLqAhQD3wKsAmoDIwPvAusC9gIjA84DegPUAwAEqQOQA/YDIgRkBA4EjAPqA7gEfATmBMwENwUaBUcF0gSlBb4EdwRzBUwG4QUCB5kGZwYrBi4HSAftB30GLwZXBosH6ghfCWMJ8gg6CBIK+QnjCVsIggcICesJjwqBCuMLHAxlCrEKVQ4KDOgLzQkgCi8NzgwsDFQOBww6C4ANLQ5BDNcLFwpsCyMPJw3vDdUNCg4IDMwNtxFZD2IMYgo+DcQRoQ4zE0URRhB6EcARBhUCE6YS/RDmE/kXtRUxGBcaShnTFugbRx3ZHTgi",
          "dtype": "i2"
         },
         "yaxis": "y2"
        },
        {
         "hovertemplate": "<b>OLS trendline</b><br>log10(count) = 2.37222e-09 * period + -0.430417<br>R<sup>2</sup>=0.974390<br><br>period=%{x}<br>count=%{y} <b>(trend)</b><extra></extra>",
         "legendgroup": "",
         "line": {
          "color": "red"
         },
         "marker": {
          "color": "#636efa",
          "symbol": "circle"
         },
         "mode": "lines",
         "name": "",
         "showlegend": false,
         "type": "scatter",
         "x": [
          "1994-01-01T00:00:00.000000000",
          "1994-02-01T00:00:00.000000000",
          "1994-03-01T00:00:00.000000000",
          "1994-04-01T00:00:00.000000000",
          "1994-05-01T00:00:00.000000000",
          "1994-06-01T00:00:00.000000000",
          "1994-07-01T00:00:00.000000000",
          "1994-08-01T00:00:00.000000000",
          "1994-09-01T00:00:00.000000000",
          "1994-10-01T00:00:00.000000000",
          "1994-11-01T00:00:00.000000000",
          "1994-12-01T00:00:00.000000000",
          "1995-01-01T00:00:00.000000000",
          "1995-02-01T00:00:00.000000000",
          "1995-03-01T00:00:00.000000000",
          "1995-04-01T00:00:00.000000000",
          "1995-05-01T00:00:00.000000000",
          "1995-06-01T00:00:00.000000000",
          "1995-07-01T00:00:00.000000000",
          "1995-08-01T00:00:00.000000000",
          "1995-09-01T00:00:00.000000000",
          "1995-10-01T00:00:00.000000000",
          "1995-11-01T00:00:00.000000000",
          "1995-12-01T00:00:00.000000000",
          "1996-01-01T00:00:00.000000000",
          "1996-02-01T00:00:00.000000000",
          "1996-03-01T00:00:00.000000000",
          "1996-04-01T00:00:00.000000000",
          "1996-05-01T00:00:00.000000000",
          "1996-06-01T00:00:00.000000000",
          "1996-07-01T00:00:00.000000000",
          "1996-08-01T00:00:00.000000000",
          "1996-09-01T00:00:00.000000000",
          "1996-10-01T00:00:00.000000000",
          "1996-11-01T00:00:00.000000000",
          "1996-12-01T00:00:00.000000000",
          "1997-01-01T00:00:00.000000000",
          "1997-02-01T00:00:00.000000000",
          "1997-03-01T00:00:00.000000000",
          "1997-04-01T00:00:00.000000000",
          "1997-05-01T00:00:00.000000000",
          "1997-06-01T00:00:00.000000000",
          "1997-07-01T00:00:00.000000000",
          "1997-08-01T00:00:00.000000000",
          "1997-09-01T00:00:00.000000000",
          "1997-10-01T00:00:00.000000000",
          "1997-11-01T00:00:00.000000000",
          "1997-12-01T00:00:00.000000000",
          "1998-01-01T00:00:00.000000000",
          "1998-02-01T00:00:00.000000000",
          "1998-03-01T00:00:00.000000000",
          "1998-04-01T00:00:00.000000000",
          "1998-05-01T00:00:00.000000000",
          "1998-06-01T00:00:00.000000000",
          "1998-07-01T00:00:00.000000000",
          "1998-08-01T00:00:00.000000000",
          "1998-09-01T00:00:00.000000000",
          "1998-10-01T00:00:00.000000000",
          "1998-11-01T00:00:00.000000000",
          "1998-12-01T00:00:00.000000000",
          "1999-01-01T00:00:00.000000000",
          "1999-02-01T00:00:00.000000000",
          "1999-03-01T00:00:00.000000000",
          "1999-04-01T00:00:00.000000000",
          "1999-05-01T00:00:00.000000000",
          "1999-06-01T00:00:00.000000000",
          "1999-07-01T00:00:00.000000000",
          "1999-08-01T00:00:00.000000000",
          "1999-09-01T00:00:00.000000000",
          "1999-10-01T00:00:00.000000000",
          "1999-11-01T00:00:00.000000000",
          "1999-12-01T00:00:00.000000000",
          "2000-01-01T00:00:00.000000000",
          "2000-02-01T00:00:00.000000000",
          "2000-03-01T00:00:00.000000000",
          "2000-04-01T00:00:00.000000000",
          "2000-05-01T00:00:00.000000000",
          "2000-06-01T00:00:00.000000000",
          "2000-07-01T00:00:00.000000000",
          "2000-08-01T00:00:00.000000000",
          "2000-09-01T00:00:00.000000000",
          "2000-10-01T00:00:00.000000000",
          "2000-11-01T00:00:00.000000000",
          "2000-12-01T00:00:00.000000000",
          "2001-01-01T00:00:00.000000000",
          "2001-02-01T00:00:00.000000000",
          "2001-03-01T00:00:00.000000000",
          "2001-04-01T00:00:00.000000000",
          "2001-05-01T00:00:00.000000000",
          "2001-06-01T00:00:00.000000000",
          "2001-07-01T00:00:00.000000000",
          "2001-08-01T00:00:00.000000000",
          "2001-09-01T00:00:00.000000000",
          "2001-10-01T00:00:00.000000000",
          "2001-11-01T00:00:00.000000000",
          "2001-12-01T00:00:00.000000000",
          "2002-01-01T00:00:00.000000000",
          "2002-02-01T00:00:00.000000000",
          "2002-03-01T00:00:00.000000000",
          "2002-04-01T00:00:00.000000000",
          "2002-05-01T00:00:00.000000000",
          "2002-06-01T00:00:00.000000000",
          "2002-07-01T00:00:00.000000000",
          "2002-08-01T00:00:00.000000000",
          "2002-09-01T00:00:00.000000000",
          "2002-10-01T00:00:00.000000000",
          "2002-11-01T00:00:00.000000000",
          "2002-12-01T00:00:00.000000000",
          "2003-01-01T00:00:00.000000000",
          "2003-02-01T00:00:00.000000000",
          "2003-03-01T00:00:00.000000000",
          "2003-04-01T00:00:00.000000000",
          "2003-05-01T00:00:00.000000000",
          "2003-06-01T00:00:00.000000000",
          "2003-07-01T00:00:00.000000000",
          "2003-08-01T00:00:00.000000000",
          "2003-09-01T00:00:00.000000000",
          "2003-10-01T00:00:00.000000000",
          "2003-11-01T00:00:00.000000000",
          "2003-12-01T00:00:00.000000000",
          "2004-01-01T00:00:00.000000000",
          "2004-02-01T00:00:00.000000000",
          "2004-03-01T00:00:00.000000000",
          "2004-04-01T00:00:00.000000000",
          "2004-05-01T00:00:00.000000000",
          "2004-06-01T00:00:00.000000000",
          "2004-07-01T00:00:00.000000000",
          "2004-08-01T00:00:00.000000000",
          "2004-09-01T00:00:00.000000000",
          "2004-10-01T00:00:00.000000000",
          "2004-11-01T00:00:00.000000000",
          "2004-12-01T00:00:00.000000000",
          "2005-01-01T00:00:00.000000000",
          "2005-02-01T00:00:00.000000000",
          "2005-03-01T00:00:00.000000000",
          "2005-04-01T00:00:00.000000000",
          "2005-05-01T00:00:00.000000000",
          "2005-06-01T00:00:00.000000000",
          "2005-07-01T00:00:00.000000000",
          "2005-08-01T00:00:00.000000000",
          "2005-09-01T00:00:00.000000000",
          "2005-10-01T00:00:00.000000000",
          "2005-11-01T00:00:00.000000000",
          "2005-12-01T00:00:00.000000000",
          "2006-01-01T00:00:00.000000000",
          "2006-02-01T00:00:00.000000000",
          "2006-03-01T00:00:00.000000000",
          "2006-04-01T00:00:00.000000000",
          "2006-05-01T00:00:00.000000000",
          "2006-06-01T00:00:00.000000000",
          "2006-07-01T00:00:00.000000000",
          "2006-08-01T00:00:00.000000000",
          "2006-09-01T00:00:00.000000000",
          "2006-10-01T00:00:00.000000000",
          "2006-11-01T00:00:00.000000000",
          "2006-12-01T00:00:00.000000000",
          "2007-01-01T00:00:00.000000000",
          "2007-02-01T00:00:00.000000000",
          "2007-03-01T00:00:00.000000000",
          "2007-04-01T00:00:00.000000000",
          "2007-05-01T00:00:00.000000000",
          "2007-06-01T00:00:00.000000000",
          "2007-07-01T00:00:00.000000000",
          "2007-08-01T00:00:00.000000000",
          "2007-09-01T00:00:00.000000000",
          "2007-10-01T00:00:00.000000000",
          "2007-11-01T00:00:00.000000000",
          "2007-12-01T00:00:00.000000000",
          "2008-01-01T00:00:00.000000000",
          "2008-02-01T00:00:00.000000000",
          "2008-03-01T00:00:00.000000000",
          "2008-04-01T00:00:00.000000000",
          "2008-05-01T00:00:00.000000000",
          "2008-06-01T00:00:00.000000000",
          "2008-07-01T00:00:00.000000000",
          "2008-08-01T00:00:00.000000000",
          "2008-09-01T00:00:00.000000000",
          "2008-10-01T00:00:00.000000000",
          "2008-11-01T00:00:00.000000000",
          "2008-12-01T00:00:00.000000000",
          "2009-01-01T00:00:00.000000000",
          "2009-02-01T00:00:00.000000000",
          "2009-03-01T00:00:00.000000000",
          "2009-04-01T00:00:00.000000000",
          "2009-05-01T00:00:00.000000000",
          "2009-06-01T00:00:00.000000000",
          "2009-07-01T00:00:00.000000000",
          "2009-08-01T00:00:00.000000000",
          "2009-09-01T00:00:00.000000000",
          "2009-10-01T00:00:00.000000000",
          "2009-11-01T00:00:00.000000000",
          "2009-12-01T00:00:00.000000000",
          "2010-01-01T00:00:00.000000000",
          "2010-02-01T00:00:00.000000000",
          "2010-03-01T00:00:00.000000000",
          "2010-04-01T00:00:00.000000000",
          "2010-05-01T00:00:00.000000000",
          "2010-06-01T00:00:00.000000000",
          "2010-07-01T00:00:00.000000000",
          "2010-08-01T00:00:00.000000000",
          "2010-09-01T00:00:00.000000000",
          "2010-10-01T00:00:00.000000000",
          "2010-11-01T00:00:00.000000000",
          "2010-12-01T00:00:00.000000000",
          "2011-01-01T00:00:00.000000000",
          "2011-02-01T00:00:00.000000000",
          "2011-03-01T00:00:00.000000000",
          "2011-04-01T00:00:00.000000000",
          "2011-05-01T00:00:00.000000000",
          "2011-06-01T00:00:00.000000000",
          "2011-07-01T00:00:00.000000000",
          "2011-08-01T00:00:00.000000000",
          "2011-09-01T00:00:00.000000000",
          "2011-10-01T00:00:00.000000000",
          "2011-11-01T00:00:00.000000000",
          "2011-12-01T00:00:00.000000000",
          "2012-01-01T00:00:00.000000000",
          "2012-02-01T00:00:00.000000000",
          "2012-03-01T00:00:00.000000000",
          "2012-04-01T00:00:00.000000000",
          "2012-05-01T00:00:00.000000000",
          "2012-06-01T00:00:00.000000000",
          "2012-07-01T00:00:00.000000000",
          "2012-08-01T00:00:00.000000000",
          "2012-09-01T00:00:00.000000000",
          "2012-10-01T00:00:00.000000000",
          "2012-11-01T00:00:00.000000000",
          "2012-12-01T00:00:00.000000000",
          "2013-01-01T00:00:00.000000000",
          "2013-02-01T00:00:00.000000000",
          "2013-03-01T00:00:00.000000000",
          "2013-04-01T00:00:00.000000000",
          "2013-05-01T00:00:00.000000000",
          "2013-06-01T00:00:00.000000000",
          "2013-07-01T00:00:00.000000000",
          "2013-08-01T00:00:00.000000000",
          "2013-09-01T00:00:00.000000000",
          "2013-10-01T00:00:00.000000000",
          "2013-11-01T00:00:00.000000000",
          "2013-12-01T00:00:00.000000000",
          "2014-01-01T00:00:00.000000000",
          "2014-02-01T00:00:00.000000000",
          "2014-03-01T00:00:00.000000000",
          "2014-04-01T00:00:00.000000000",
          "2014-05-01T00:00:00.000000000",
          "2014-06-01T00:00:00.000000000",
          "2014-07-01T00:00:00.000000000",
          "2014-08-01T00:00:00.000000000",
          "2014-09-01T00:00:00.000000000",
          "2014-10-01T00:00:00.000000000",
          "2014-11-01T00:00:00.000000000",
          "2014-12-01T00:00:00.000000000",
          "2015-01-01T00:00:00.000000000",
          "2015-02-01T00:00:00.000000000",
          "2015-03-01T00:00:00.000000000",
          "2015-04-01T00:00:00.000000000",
          "2015-05-01T00:00:00.000000000",
          "2015-06-01T00:00:00.000000000",
          "2015-07-01T00:00:00.000000000",
          "2015-08-01T00:00:00.000000000",
          "2015-09-01T00:00:00.000000000",
          "2015-10-01T00:00:00.000000000",
          "2015-11-01T00:00:00.000000000",
          "2015-12-01T00:00:00.000000000",
          "2016-01-01T00:00:00.000000000",
          "2016-02-01T00:00:00.000000000",
          "2016-03-01T00:00:00.000000000",
          "2016-04-01T00:00:00.000000000",
          "2016-05-01T00:00:00.000000000",
          "2016-06-01T00:00:00.000000000",
          "2016-07-01T00:00:00.000000000",
          "2016-08-01T00:00:00.000000000",
          "2016-09-01T00:00:00.000000000",
          "2016-10-01T00:00:00.000000000",
          "2016-11-01T00:00:00.000000000",
          "2016-12-01T00:00:00.000000000",
          "2017-01-01T00:00:00.000000000",
          "2017-02-01T00:00:00.000000000",
          "2017-03-01T00:00:00.000000000",
          "2017-04-01T00:00:00.000000000",
          "2017-05-01T00:00:00.000000000",
          "2017-06-01T00:00:00.000000000",
          "2017-07-01T00:00:00.000000000",
          "2017-08-01T00:00:00.000000000",
          "2017-09-01T00:00:00.000000000",
          "2017-10-01T00:00:00.000000000",
          "2017-11-01T00:00:00.000000000",
          "2017-12-01T00:00:00.000000000",
          "2018-01-01T00:00:00.000000000",
          "2018-02-01T00:00:00.000000000",
          "2018-03-01T00:00:00.000000000",
          "2018-04-01T00:00:00.000000000",
          "2018-05-01T00:00:00.000000000",
          "2018-06-01T00:00:00.000000000",
          "2018-07-01T00:00:00.000000000",
          "2018-08-01T00:00:00.000000000",
          "2018-09-01T00:00:00.000000000",
          "2018-10-01T00:00:00.000000000",
          "2018-11-01T00:00:00.000000000",
          "2018-12-01T00:00:00.000000000",
          "2019-01-01T00:00:00.000000000",
          "2019-02-01T00:00:00.000000000",
          "2019-03-01T00:00:00.000000000",
          "2019-04-01T00:00:00.000000000",
          "2019-05-01T00:00:00.000000000",
          "2019-06-01T00:00:00.000000000",
          "2019-07-01T00:00:00.000000000",
          "2019-08-01T00:00:00.000000000",
          "2019-09-01T00:00:00.000000000",
          "2019-10-01T00:00:00.000000000",
          "2019-11-01T00:00:00.000000000",
          "2019-12-01T00:00:00.000000000",
          "2020-01-01T00:00:00.000000000",
          "2020-02-01T00:00:00.000000000",
          "2020-03-01T00:00:00.000000000",
          "2020-04-01T00:00:00.000000000",
          "2020-05-01T00:00:00.000000000",
          "2020-06-01T00:00:00.000000000",
          "2020-07-01T00:00:00.000000000",
          "2020-08-01T00:00:00.000000000",
          "2020-09-01T00:00:00.000000000",
          "2020-10-01T00:00:00.000000000",
          "2020-11-01T00:00:00.000000000",
          "2020-12-01T00:00:00.000000000",
          "2021-01-01T00:00:00.000000000",
          "2021-02-01T00:00:00.000000000",
          "2021-03-01T00:00:00.000000000",
          "2021-04-01T00:00:00.000000000",
          "2021-05-01T00:00:00.000000000",
          "2021-06-01T00:00:00.000000000",
          "2021-07-01T00:00:00.000000000",
          "2021-08-01T00:00:00.000000000",
          "2021-09-01T00:00:00.000000000",
          "2021-10-01T00:00:00.000000000",
          "2021-11-01T00:00:00.000000000",
          "2021-12-01T00:00:00.000000000",
          "2022-01-01T00:00:00.000000000",
          "2022-02-01T00:00:00.000000000",
          "2022-03-01T00:00:00.000000000",
          "2022-04-01T00:00:00.000000000",
          "2022-05-01T00:00:00.000000000",
          "2022-06-01T00:00:00.000000000",
          "2022-07-01T00:00:00.000000000",
          "2022-08-01T00:00:00.000000000",
          "2022-09-01T00:00:00.000000000",
          "2022-10-01T00:00:00.000000000",
          "2022-11-01T00:00:00.000000000",
          "2022-12-01T00:00:00.000000000",
          "2023-01-01T00:00:00.000000000",
          "2023-02-01T00:00:00.000000000",
          "2023-03-01T00:00:00.000000000",
          "2023-04-01T00:00:00.000000000",
          "2023-05-01T00:00:00.000000000",
          "2023-06-01T00:00:00.000000000",
          "2023-07-01T00:00:00.000000000",
          "2023-08-01T00:00:00.000000000",
          "2023-09-01T00:00:00.000000000",
          "2023-10-01T00:00:00.000000000",
          "2023-11-01T00:00:00.000000000",
          "2023-12-01T00:00:00.000000000",
          "2024-01-01T00:00:00.000000000",
          "2024-02-01T00:00:00.000000000",
          "2024-03-01T00:00:00.000000000",
          "2024-04-01T00:00:00.000000000",
          "2024-05-01T00:00:00.000000000",
          "2024-06-01T00:00:00.000000000",
          "2024-07-01T00:00:00.000000000",
          "2024-08-01T00:00:00.000000000",
          "2024-09-01T00:00:00.000000000",
          "2024-10-01T00:00:00.000000000",
          "2024-11-01T00:00:00.000000000",
          "2024-12-01T00:00:00.000000000"
         ],
         "xaxis": "x2",
         "y": {
          "bdata": "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",
          "dtype": "f8"
         },
         "yaxis": "y2"
        }
       ],
       "layout": {
        "annotations": [
         {
          "font": {
           "size": 16
          },
          "showarrow": false,
          "text": "Linear Scale",
          "x": 0.225,
          "xanchor": "center",
          "xref": "paper",
          "y": 1,
          "yanchor": "bottom",
          "yref": "paper"
         },
         {
          "font": {
           "size": 16
          },
          "showarrow": false,
          "text": "Log Scale",
          "x": 0.775,
          "xanchor": "center",
          "xref": "paper",
          "y": 1,
          "yanchor": "bottom",
          "yref": "paper"
         }
        ],
        "template": {
         "data": {
          "bar": [
           {
            "error_x": {
             "color": "#2a3f5f"
            },
            "error_y": {
             "color": "#2a3f5f"
            },
            "marker": {
             "line": {
              "color": "white",
              "width": 0.5
             },
             "pattern": {
              "fillmode": "overlay",
              "size": 10,
              "solidity": 0.2
             }
            },
            "type": "bar"
           }
          ],
          "barpolar": [
           {
            "marker": {
             "line": {
              "color": "white",
              "width": 0.5
             },
             "pattern": {
              "fillmode": "overlay",
              "size": 10,
              "solidity": 0.2
             }
            },
            "type": "barpolar"
           }
          ],
          "carpet": [
           {
            "aaxis": {
             "endlinecolor": "#2a3f5f",
             "gridcolor": "#C8D4E3",
             "linecolor": "#C8D4E3",
             "minorgridcolor": "#C8D4E3",
             "startlinecolor": "#2a3f5f"
            },
            "baxis": {
             "endlinecolor": "#2a3f5f",
             "gridcolor": "#C8D4E3",
             "linecolor": "#C8D4E3",
             "minorgridcolor": "#C8D4E3",
             "startlinecolor": "#2a3f5f"
            },
            "type": "carpet"
           }
          ],
          "choropleth": [
           {
            "colorbar": {
             "outlinewidth": 0,
             "ticks": ""
            },
            "type": "choropleth"
           }
          ],
          "contour": [
           {
            "colorbar": {
             "outlinewidth": 0,
             "ticks": ""
            },
            "colorscale": [
             [
              0,
              "#0d0887"
             ],
             [
              0.1111111111111111,
              "#46039f"
             ],
             [
              0.2222222222222222,
              "#7201a8"
             ],
             [
              0.3333333333333333,
              "#9c179e"
             ],
             [
              0.4444444444444444,
              "#bd3786"
             ],
             [
              0.5555555555555556,
              "#d8576b"
             ],
             [
              0.6666666666666666,
              "#ed7953"
             ],
             [
              0.7777777777777778,
              "#fb9f3a"
             ],
             [
              0.8888888888888888,
              "#fdca26"
             ],
             [
              1,
              "#f0f921"
             ]
            ],
            "type": "contour"
           }
          ],
          "contourcarpet": [
           {
            "colorbar": {
             "outlinewidth": 0,
             "ticks": ""
            },
            "type": "contourcarpet"
           }
          ],
          "heatmap": [
           {
            "colorbar": {
             "outlinewidth": 0,
             "ticks": ""
            },
            "colorscale": [
             [
              0,
              "#0d0887"
             ],
             [
              0.1111111111111111,
              "#46039f"
             ],
             [
              0.2222222222222222,
              "#7201a8"
             ],
             [
              0.3333333333333333,
              "#9c179e"
             ],
             [
              0.4444444444444444,
              "#bd3786"
             ],
             [
              0.5555555555555556,
              "#d8576b"
             ],
             [
              0.6666666666666666,
              "#ed7953"
             ],
             [
              0.7777777777777778,
              "#fb9f3a"
             ],
             [
              0.8888888888888888,
              "#fdca26"
             ],
             [
              1,
              "#f0f921"
             ]
            ],
            "type": "heatmap"
           }
          ],
          "histogram": [
           {
            "marker": {
             "pattern": {
              "fillmode": "overlay",
              "size": 10,
              "solidity": 0.2
             }
            },
            "type": "histogram"
           }
          ],
          "histogram2d": [
           {
            "colorbar": {
             "outlinewidth": 0,
             "ticks": ""
            },
            "colorscale": [
             [
              0,
              "#0d0887"
             ],
             [
              0.1111111111111111,
              "#46039f"
             ],
             [
              0.2222222222222222,
              "#7201a8"
             ],
             [
              0.3333333333333333,
              "#9c179e"
             ],
             [
              0.4444444444444444,
              "#bd3786"
             ],
             [
              0.5555555555555556,
              "#d8576b"
             ],
             [
              0.6666666666666666,
              "#ed7953"
             ],
             [
              0.7777777777777778,
              "#fb9f3a"
             ],
             [
              0.8888888888888888,
              "#fdca26"
             ],
             [
              1,
              "#f0f921"
             ]
            ],
            "type": "histogram2d"
           }
          ],
          "histogram2dcontour": [
           {
            "colorbar": {
             "outlinewidth": 0,
             "ticks": ""
            },
            "colorscale": [
             [
              0,
              "#0d0887"
             ],
             [
              0.1111111111111111,
              "#46039f"
             ],
             [
              0.2222222222222222,
              "#7201a8"
             ],
             [
              0.3333333333333333,
              "#9c179e"
             ],
             [
              0.4444444444444444,
              "#bd3786"
             ],
             [
              0.5555555555555556,
              "#d8576b"
             ],
             [
              0.6666666666666666,
              "#ed7953"
             ],
             [
              0.7777777777777778,
              "#fb9f3a"
             ],
             [
              0.8888888888888888,
              "#fdca26"
             ],
             [
              1,
              "#f0f921"
             ]
            ],
            "type": "histogram2dcontour"
           }
          ],
          "mesh3d": [
           {
            "colorbar": {
             "outlinewidth": 0,
             "ticks": ""
            },
            "type": "mesh3d"
           }
          ],
          "parcoords": [
           {
            "line": {
             "colorbar": {
              "outlinewidth": 0,
              "ticks": ""
             }
            },
            "type": "parcoords"
           }
          ],
          "pie": [
           {
            "automargin": true,
            "type": "pie"
           }
          ],
          "scatter": [
           {
            "fillpattern": {
             "fillmode": "overlay",
             "size": 10,
             "solidity": 0.2
            },
            "type": "scatter"
           }
          ],
          "scatter3d": [
           {
            "line": {
             "colorbar": {
              "outlinewidth": 0,
              "ticks": ""
             }
            },
            "marker": {
             "colorbar": {
              "outlinewidth": 0,
              "ticks": ""
             }
            },
            "type": "scatter3d"
           }
          ],
          "scattercarpet": [
           {
            "marker": {
             "colorbar": {
              "outlinewidth": 0,
              "ticks": ""
             }
            },
            "type": "scattercarpet"
           }
          ],
          "scattergeo": [
           {
            "marker": {
             "colorbar": {
              "outlinewidth": 0,
              "ticks": ""
             }
            },
            "type": "scattergeo"
           }
          ],
          "scattergl": [
           {
            "marker": {
             "colorbar": {
              "outlinewidth": 0,
              "ticks": ""
             }
            },
            "type": "scattergl"
           }
          ],
          "scattermap": [
           {
            "marker": {
             "colorbar": {
              "outlinewidth": 0,
              "ticks": ""
             }
            },
            "type": "scattermap"
           }
          ],
          "scattermapbox": [
           {
            "marker": {
             "colorbar": {
              "outlinewidth": 0,
              "ticks": ""
             }
            },
            "type": "scattermapbox"
           }
          ],
          "scatterpolar": [
           {
            "marker": {
             "colorbar": {
              "outlinewidth": 0,
              "ticks": ""
             }
            },
            "type": "scatterpolar"
           }
          ],
          "scatterpolargl": [
           {
            "marker": {
             "colorbar": {
              "outlinewidth": 0,
              "ticks": ""
             }
            },
            "type": "scatterpolargl"
           }
          ],
          "scatterternary": [
           {
            "marker": {
             "colorbar": {
              "outlinewidth": 0,
              "ticks": ""
             }
            },
            "type": "scatterternary"
           }
          ],
          "surface": [
           {
            "colorbar": {
             "outlinewidth": 0,
             "ticks": ""
            },
            "colorscale": [
             [
              0,
              "#0d0887"
             ],
             [
              0.1111111111111111,
              "#46039f"
             ],
             [
              0.2222222222222222,
              "#7201a8"
             ],
             [
              0.3333333333333333,
              "#9c179e"
             ],
             [
              0.4444444444444444,
              "#bd3786"
             ],
             [
              0.5555555555555556,
              "#d8576b"
             ],
             [
              0.6666666666666666,
              "#ed7953"
             ],
             [
              0.7777777777777778,
              "#fb9f3a"
             ],
             [
              0.8888888888888888,
              "#fdca26"
             ],
             [
              1,
              "#f0f921"
             ]
            ],
            "type": "surface"
           }
          ],
          "table": [
           {
            "cells": {
             "fill": {
              "color": "#EBF0F8"
             },
             "line": {
              "color": "white"
             }
            },
            "header": {
             "fill": {
              "color": "#C8D4E3"
             },
             "line": {
              "color": "white"
             }
            },
            "type": "table"
           }
          ]
         },
         "layout": {
          "annotationdefaults": {
           "arrowcolor": "#2a3f5f",
           "arrowhead": 0,
           "arrowwidth": 1
          },
          "autotypenumbers": "strict",
          "coloraxis": {
           "colorbar": {
            "outlinewidth": 0,
            "ticks": ""
           }
          },
          "colorscale": {
           "diverging": [
            [
             0,
             "#8e0152"
            ],
            [
             0.1,
             "#c51b7d"
            ],
            [
             0.2,
             "#de77ae"
            ],
            [
             0.3,
             "#f1b6da"
            ],
            [
             0.4,
             "#fde0ef"
            ],
            [
             0.5,
             "#f7f7f7"
            ],
            [
             0.6,
             "#e6f5d0"
            ],
            [
             0.7,
             "#b8e186"
            ],
            [
             0.8,
             "#7fbc41"
            ],
            [
             0.9,
             "#4d9221"
            ],
            [
             1,
             "#276419"
            ]
           ],
           "sequential": [
            [
             0,
             "#0d0887"
            ],
            [
             0.1111111111111111,
             "#46039f"
            ],
            [
             0.2222222222222222,
             "#7201a8"
            ],
            [
             0.3333333333333333,
             "#9c179e"
            ],
            [
             0.4444444444444444,
             "#bd3786"
            ],
            [
             0.5555555555555556,
             "#d8576b"
            ],
            [
             0.6666666666666666,
             "#ed7953"
            ],
            [
             0.7777777777777778,
             "#fb9f3a"
            ],
            [
             0.8888888888888888,
             "#fdca26"
            ],
            [
             1,
             "#f0f921"
            ]
           ],
           "sequentialminus": [
            [
             0,
             "#0d0887"
            ],
            [
             0.1111111111111111,
             "#46039f"
            ],
            [
             0.2222222222222222,
             "#7201a8"
            ],
            [
             0.3333333333333333,
             "#9c179e"
            ],
            [
             0.4444444444444444,
             "#bd3786"
            ],
            [
             0.5555555555555556,
             "#d8576b"
            ],
            [
             0.6666666666666666,
             "#ed7953"
            ],
            [
             0.7777777777777778,
             "#fb9f3a"
            ],
            [
             0.8888888888888888,
             "#fdca26"
            ],
            [
             1,
             "#f0f921"
            ]
           ]
          },
          "colorway": [
           "#636efa",
           "#EF553B",
           "#00cc96",
           "#ab63fa",
           "#FFA15A",
           "#19d3f3",
           "#FF6692",
           "#B6E880",
           "#FF97FF",
           "#FECB52"
          ],
          "font": {
           "color": "#2a3f5f"
          },
          "geo": {
           "bgcolor": "white",
           "lakecolor": "white",
           "landcolor": "white",
           "showlakes": true,
           "showland": true,
           "subunitcolor": "#C8D4E3"
          },
          "hoverlabel": {
           "align": "left"
          },
          "hovermode": "closest",
          "mapbox": {
           "style": "light"
          },
          "paper_bgcolor": "white",
          "plot_bgcolor": "white",
          "polar": {
           "angularaxis": {
            "gridcolor": "#EBF0F8",
            "linecolor": "#EBF0F8",
            "ticks": ""
           },
           "bgcolor": "white",
           "radialaxis": {
            "gridcolor": "#EBF0F8",
            "linecolor": "#EBF0F8",
            "ticks": ""
           }
          },
          "scene": {
           "xaxis": {
            "backgroundcolor": "white",
            "gridcolor": "#DFE8F3",
            "gridwidth": 2,
            "linecolor": "#EBF0F8",
            "showbackground": true,
            "ticks": "",
            "zerolinecolor": "#EBF0F8"
           },
           "yaxis": {
            "backgroundcolor": "white",
            "gridcolor": "#DFE8F3",
            "gridwidth": 2,
            "linecolor": "#EBF0F8",
            "showbackground": true,
            "ticks": "",
            "zerolinecolor": "#EBF0F8"
           },
           "zaxis": {
            "backgroundcolor": "white",
            "gridcolor": "#DFE8F3",
            "gridwidth": 2,
            "linecolor": "#EBF0F8",
            "showbackground": true,
            "ticks": "",
            "zerolinecolor": "#EBF0F8"
           }
          },
          "shapedefaults": {
           "line": {
            "color": "#2a3f5f"
           }
          },
          "ternary": {
           "aaxis": {
            "gridcolor": "#DFE8F3",
            "linecolor": "#A2B1C6",
            "ticks": ""
           },
           "baxis": {
            "gridcolor": "#DFE8F3",
            "linecolor": "#A2B1C6",
            "ticks": ""
           },
           "bgcolor": "white",
           "caxis": {
            "gridcolor": "#DFE8F3",
            "linecolor": "#A2B1C6",
            "ticks": ""
           }
          },
          "title": {
           "x": 0.05
          },
          "xaxis": {
           "automargin": true,
           "gridcolor": "#EBF0F8",
           "linecolor": "#EBF0F8",
           "ticks": "",
           "title": {
            "standoff": 15
           },
           "zerolinecolor": "#EBF0F8",
           "zerolinewidth": 2
          },
          "yaxis": {
           "automargin": true,
           "gridcolor": "#EBF0F8",
           "linecolor": "#EBF0F8",
           "ticks": "",
           "title": {
            "standoff": 15
           },
           "zerolinecolor": "#EBF0F8",
           "zerolinewidth": 2
          }
         }
        },
        "title": {
         "font": {
          "size": 25
         },
         "text": "Number of initial Publications per Month",
         "x": 0.5
        },
        "xaxis": {
         "anchor": "y",
         "domain": [
          0,
          0.45
         ],
         "title": {
          "text": "Year of Publication"
         }
        },
        "xaxis2": {
         "anchor": "y2",
         "domain": [
          0.55,
          1
         ],
         "title": {
          "text": "Year of Publication"
         }
        },
        "yaxis": {
         "anchor": "x",
         "domain": [
          0,
          1
         ],
         "title": {
          "text": "# of Publications per Month"
         },
         "type": "linear"
        },
        "yaxis2": {
         "anchor": "x2",
         "domain": [
          0,
          1
         ],
         "title": {
          "text": "# of Publications per Month"
         },
         "type": "log"
        }
       }
      }
     },
     "metadata": {},
     "output_type": "display_data"
    }
   ],
   "source": [
    "df_initial = df_complete[df_complete[\"id\"].str.endswith(\"v1\")]\n",
    "plot_general_development(df_initial, \"initial\", \"M\")"
   ]
  },
  {
   "cell_type": "code",
   "execution_count": 48,
   "metadata": {
    "ExecuteTime": {
     "end_time": "2024-12-29T15:25:40.438958Z",
     "start_time": "2024-12-29T15:25:40.193374Z"
    }
   },
   "outputs": [
    {
     "data": {
      "application/vnd.plotly.v1+json": {
       "config": {
        "plotlyServerURL": "https://plot.ly"
       },
       "data": [
        {
         "hovertemplate": "period=%{x}<br>count=%{y}<extra></extra>",
         "legendgroup": "",
         "marker": {
          "color": "#636efa",
          "symbol": "circle"
         },
         "mode": "markers",
         "name": "",
         "orientation": "v",
         "showlegend": false,
         "type": "scatter",
         "x": [
          "1994-01-01T00:00:00.000000000",
          "1994-02-01T00:00:00.000000000",
          "1994-03-01T00:00:00.000000000",
          "1994-04-01T00:00:00.000000000",
          "1994-05-01T00:00:00.000000000",
          "1994-06-01T00:00:00.000000000",
          "1994-07-01T00:00:00.000000000",
          "1994-08-01T00:00:00.000000000",
          "1994-09-01T00:00:00.000000000",
          "1994-10-01T00:00:00.000000000",
          "1994-11-01T00:00:00.000000000",
          "1994-12-01T00:00:00.000000000",
          "1995-01-01T00:00:00.000000000",
          "1995-02-01T00:00:00.000000000",
          "1995-03-01T00:00:00.000000000",
          "1995-04-01T00:00:00.000000000",
          "1995-05-01T00:00:00.000000000",
          "1995-06-01T00:00:00.000000000",
          "1995-07-01T00:00:00.000000000",
          "1995-08-01T00:00:00.000000000",
          "1995-09-01T00:00:00.000000000",
          "1995-10-01T00:00:00.000000000",
          "1995-11-01T00:00:00.000000000",
          "1995-12-01T00:00:00.000000000",
          "1996-01-01T00:00:00.000000000",
          "1996-02-01T00:00:00.000000000",
          "1996-03-01T00:00:00.000000000",
          "1996-04-01T00:00:00.000000000",
          "1996-05-01T00:00:00.000000000",
          "1996-06-01T00:00:00.000000000",
          "1996-07-01T00:00:00.000000000",
          "1996-08-01T00:00:00.000000000",
          "1996-09-01T00:00:00.000000000",
          "1996-10-01T00:00:00.000000000",
          "1996-11-01T00:00:00.000000000",
          "1996-12-01T00:00:00.000000000",
          "1997-01-01T00:00:00.000000000",
          "1997-02-01T00:00:00.000000000",
          "1997-03-01T00:00:00.000000000",
          "1997-04-01T00:00:00.000000000",
          "1997-05-01T00:00:00.000000000",
          "1997-06-01T00:00:00.000000000",
          "1997-07-01T00:00:00.000000000",
          "1997-08-01T00:00:00.000000000",
          "1997-09-01T00:00:00.000000000",
          "1997-10-01T00:00:00.000000000",
          "1997-11-01T00:00:00.000000000",
          "1997-12-01T00:00:00.000000000",
          "1998-01-01T00:00:00.000000000",
          "1998-02-01T00:00:00.000000000",
          "1998-03-01T00:00:00.000000000",
          "1998-04-01T00:00:00.000000000",
          "1998-05-01T00:00:00.000000000",
          "1998-06-01T00:00:00.000000000",
          "1998-07-01T00:00:00.000000000",
          "1998-08-01T00:00:00.000000000",
          "1998-09-01T00:00:00.000000000",
          "1998-10-01T00:00:00.000000000",
          "1998-11-01T00:00:00.000000000",
          "1998-12-01T00:00:00.000000000",
          "1999-01-01T00:00:00.000000000",
          "1999-02-01T00:00:00.000000000",
          "1999-03-01T00:00:00.000000000",
          "1999-04-01T00:00:00.000000000",
          "1999-05-01T00:00:00.000000000",
          "1999-06-01T00:00:00.000000000",
          "1999-07-01T00:00:00.000000000",
          "1999-08-01T00:00:00.000000000",
          "1999-09-01T00:00:00.000000000",
          "1999-10-01T00:00:00.000000000",
          "1999-11-01T00:00:00.000000000",
          "1999-12-01T00:00:00.000000000",
          "2000-01-01T00:00:00.000000000",
          "2000-02-01T00:00:00.000000000",
          "2000-03-01T00:00:00.000000000",
          "2000-04-01T00:00:00.000000000",
          "2000-05-01T00:00:00.000000000",
          "2000-06-01T00:00:00.000000000",
          "2000-07-01T00:00:00.000000000",
          "2000-08-01T00:00:00.000000000",
          "2000-09-01T00:00:00.000000000",
          "2000-10-01T00:00:00.000000000",
          "2000-11-01T00:00:00.000000000",
          "2000-12-01T00:00:00.000000000",
          "2001-01-01T00:00:00.000000000",
          "2001-02-01T00:00:00.000000000",
          "2001-03-01T00:00:00.000000000",
          "2001-04-01T00:00:00.000000000",
          "2001-05-01T00:00:00.000000000",
          "2001-06-01T00:00:00.000000000",
          "2001-07-01T00:00:00.000000000",
          "2001-08-01T00:00:00.000000000",
          "2001-09-01T00:00:00.000000000",
          "2001-10-01T00:00:00.000000000",
          "2001-11-01T00:00:00.000000000",
          "2001-12-01T00:00:00.000000000",
          "2002-01-01T00:00:00.000000000",
          "2002-02-01T00:00:00.000000000",
          "2002-03-01T00:00:00.000000000",
          "2002-04-01T00:00:00.000000000",
          "2002-05-01T00:00:00.000000000",
          "2002-06-01T00:00:00.000000000",
          "2002-07-01T00:00:00.000000000",
          "2002-08-01T00:00:00.000000000",
          "2002-09-01T00:00:00.000000000",
          "2002-10-01T00:00:00.000000000",
          "2002-11-01T00:00:00.000000000",
          "2002-12-01T00:00:00.000000000",
          "2003-01-01T00:00:00.000000000",
          "2003-02-01T00:00:00.000000000",
          "2003-03-01T00:00:00.000000000",
          "2003-04-01T00:00:00.000000000",
          "2003-05-01T00:00:00.000000000",
          "2003-06-01T00:00:00.000000000",
          "2003-07-01T00:00:00.000000000",
          "2003-08-01T00:00:00.000000000",
          "2003-09-01T00:00:00.000000000",
          "2003-10-01T00:00:00.000000000",
          "2003-11-01T00:00:00.000000000",
          "2003-12-01T00:00:00.000000000",
          "2004-01-01T00:00:00.000000000",
          "2004-02-01T00:00:00.000000000",
          "2004-03-01T00:00:00.000000000",
          "2004-04-01T00:00:00.000000000",
          "2004-05-01T00:00:00.000000000",
          "2004-06-01T00:00:00.000000000",
          "2004-07-01T00:00:00.000000000",
          "2004-08-01T00:00:00.000000000",
          "2004-09-01T00:00:00.000000000",
          "2004-10-01T00:00:00.000000000",
          "2004-11-01T00:00:00.000000000",
          "2004-12-01T00:00:00.000000000",
          "2005-01-01T00:00:00.000000000",
          "2005-02-01T00:00:00.000000000",
          "2005-03-01T00:00:00.000000000",
          "2005-04-01T00:00:00.000000000",
          "2005-05-01T00:00:00.000000000",
          "2005-06-01T00:00:00.000000000",
          "2005-07-01T00:00:00.000000000",
          "2005-08-01T00:00:00.000000000",
          "2005-09-01T00:00:00.000000000",
          "2005-10-01T00:00:00.000000000",
          "2005-11-01T00:00:00.000000000",
          "2005-12-01T00:00:00.000000000",
          "2006-01-01T00:00:00.000000000",
          "2006-02-01T00:00:00.000000000",
          "2006-03-01T00:00:00.000000000",
          "2006-04-01T00:00:00.000000000",
          "2006-05-01T00:00:00.000000000",
          "2006-06-01T00:00:00.000000000",
          "2006-07-01T00:00:00.000000000",
          "2006-08-01T00:00:00.000000000",
          "2006-09-01T00:00:00.000000000",
          "2006-10-01T00:00:00.000000000",
          "2006-11-01T00:00:00.000000000",
          "2006-12-01T00:00:00.000000000",
          "2007-01-01T00:00:00.000000000",
          "2007-02-01T00:00:00.000000000",
          "2007-03-01T00:00:00.000000000",
          "2007-04-01T00:00:00.000000000",
          "2007-05-01T00:00:00.000000000",
          "2007-06-01T00:00:00.000000000",
          "2007-07-01T00:00:00.000000000",
          "2007-08-01T00:00:00.000000000",
          "2007-09-01T00:00:00.000000000",
          "2007-10-01T00:00:00.000000000",
          "2007-11-01T00:00:00.000000000",
          "2007-12-01T00:00:00.000000000",
          "2008-01-01T00:00:00.000000000",
          "2008-02-01T00:00:00.000000000",
          "2008-03-01T00:00:00.000000000",
          "2008-04-01T00:00:00.000000000",
          "2008-05-01T00:00:00.000000000",
          "2008-06-01T00:00:00.000000000",
          "2008-07-01T00:00:00.000000000",
          "2008-08-01T00:00:00.000000000",
          "2008-09-01T00:00:00.000000000",
          "2008-10-01T00:00:00.000000000",
          "2008-11-01T00:00:00.000000000",
          "2008-12-01T00:00:00.000000000",
          "2009-01-01T00:00:00.000000000",
          "2009-02-01T00:00:00.000000000",
          "2009-03-01T00:00:00.000000000",
          "2009-04-01T00:00:00.000000000",
          "2009-05-01T00:00:00.000000000",
          "2009-06-01T00:00:00.000000000",
          "2009-07-01T00:00:00.000000000",
          "2009-08-01T00:00:00.000000000",
          "2009-09-01T00:00:00.000000000",
          "2009-10-01T00:00:00.000000000",
          "2009-11-01T00:00:00.000000000",
          "2009-12-01T00:00:00.000000000",
          "2010-01-01T00:00:00.000000000",
          "2010-02-01T00:00:00.000000000",
          "2010-03-01T00:00:00.000000000",
          "2010-04-01T00:00:00.000000000",
          "2010-05-01T00:00:00.000000000",
          "2010-06-01T00:00:00.000000000",
          "2010-07-01T00:00:00.000000000",
          "2010-08-01T00:00:00.000000000",
          "2010-09-01T00:00:00.000000000",
          "2010-10-01T00:00:00.000000000",
          "2010-11-01T00:00:00.000000000",
          "2010-12-01T00:00:00.000000000",
          "2011-01-01T00:00:00.000000000",
          "2011-02-01T00:00:00.000000000",
          "2011-03-01T00:00:00.000000000",
          "2011-04-01T00:00:00.000000000",
          "2011-05-01T00:00:00.000000000",
          "2011-06-01T00:00:00.000000000",
          "2011-07-01T00:00:00.000000000",
          "2011-08-01T00:00:00.000000000",
          "2011-09-01T00:00:00.000000000",
          "2011-10-01T00:00:00.000000000",
          "2011-11-01T00:00:00.000000000",
          "2011-12-01T00:00:00.000000000",
          "2012-01-01T00:00:00.000000000",
          "2012-02-01T00:00:00.000000000",
          "2012-03-01T00:00:00.000000000",
          "2012-04-01T00:00:00.000000000",
          "2012-05-01T00:00:00.000000000",
          "2012-06-01T00:00:00.000000000",
          "2012-07-01T00:00:00.000000000",
          "2012-08-01T00:00:00.000000000",
          "2012-09-01T00:00:00.000000000",
          "2012-10-01T00:00:00.000000000",
          "2012-11-01T00:00:00.000000000",
          "2012-12-01T00:00:00.000000000",
          "2013-01-01T00:00:00.000000000",
          "2013-02-01T00:00:00.000000000",
          "2013-03-01T00:00:00.000000000",
          "2013-04-01T00:00:00.000000000",
          "2013-05-01T00:00:00.000000000",
          "2013-06-01T00:00:00.000000000",
          "2013-07-01T00:00:00.000000000",
          "2013-08-01T00:00:00.000000000",
          "2013-09-01T00:00:00.000000000",
          "2013-10-01T00:00:00.000000000",
          "2013-11-01T00:00:00.000000000",
          "2013-12-01T00:00:00.000000000",
          "2014-01-01T00:00:00.000000000",
          "2014-02-01T00:00:00.000000000",
          "2014-03-01T00:00:00.000000000",
          "2014-04-01T00:00:00.000000000",
          "2014-05-01T00:00:00.000000000",
          "2014-06-01T00:00:00.000000000",
          "2014-07-01T00:00:00.000000000",
          "2014-08-01T00:00:00.000000000",
          "2014-09-01T00:00:00.000000000",
          "2014-10-01T00:00:00.000000000",
          "2014-11-01T00:00:00.000000000",
          "2014-12-01T00:00:00.000000000",
          "2015-01-01T00:00:00.000000000",
          "2015-02-01T00:00:00.000000000",
          "2015-03-01T00:00:00.000000000",
          "2015-04-01T00:00:00.000000000",
          "2015-05-01T00:00:00.000000000",
          "2015-06-01T00:00:00.000000000",
          "2015-07-01T00:00:00.000000000",
          "2015-08-01T00:00:00.000000000",
          "2015-09-01T00:00:00.000000000",
          "2015-10-01T00:00:00.000000000",
          "2015-11-01T00:00:00.000000000",
          "2015-12-01T00:00:00.000000000",
          "2016-01-01T00:00:00.000000000",
          "2016-02-01T00:00:00.000000000",
          "2016-03-01T00:00:00.000000000",
          "2016-04-01T00:00:00.000000000",
          "2016-05-01T00:00:00.000000000",
          "2016-06-01T00:00:00.000000000",
          "2016-07-01T00:00:00.000000000",
          "2016-08-01T00:00:00.000000000",
          "2016-09-01T00:00:00.000000000",
          "2016-10-01T00:00:00.000000000",
          "2016-11-01T00:00:00.000000000",
          "2016-12-01T00:00:00.000000000",
          "2017-01-01T00:00:00.000000000",
          "2017-02-01T00:00:00.000000000",
          "2017-03-01T00:00:00.000000000",
          "2017-04-01T00:00:00.000000000",
          "2017-05-01T00:00:00.000000000",
          "2017-06-01T00:00:00.000000000",
          "2017-07-01T00:00:00.000000000",
          "2017-08-01T00:00:00.000000000",
          "2017-09-01T00:00:00.000000000",
          "2017-10-01T00:00:00.000000000",
          "2017-11-01T00:00:00.000000000",
          "2017-12-01T00:00:00.000000000",
          "2018-01-01T00:00:00.000000000",
          "2018-02-01T00:00:00.000000000",
          "2018-03-01T00:00:00.000000000",
          "2018-04-01T00:00:00.000000000",
          "2018-05-01T00:00:00.000000000",
          "2018-06-01T00:00:00.000000000",
          "2018-07-01T00:00:00.000000000",
          "2018-08-01T00:00:00.000000000",
          "2018-09-01T00:00:00.000000000",
          "2018-10-01T00:00:00.000000000",
          "2018-11-01T00:00:00.000000000",
          "2018-12-01T00:00:00.000000000",
          "2019-01-01T00:00:00.000000000",
          "2019-02-01T00:00:00.000000000",
          "2019-03-01T00:00:00.000000000",
          "2019-04-01T00:00:00.000000000",
          "2019-05-01T00:00:00.000000000",
          "2019-06-01T00:00:00.000000000",
          "2019-07-01T00:00:00.000000000",
          "2019-08-01T00:00:00.000000000",
          "2019-09-01T00:00:00.000000000",
          "2019-10-01T00:00:00.000000000",
          "2019-11-01T00:00:00.000000000",
          "2019-12-01T00:00:00.000000000",
          "2020-01-01T00:00:00.000000000",
          "2020-02-01T00:00:00.000000000",
          "2020-03-01T00:00:00.000000000",
          "2020-04-01T00:00:00.000000000",
          "2020-05-01T00:00:00.000000000",
          "2020-06-01T00:00:00.000000000",
          "2020-07-01T00:00:00.000000000",
          "2020-08-01T00:00:00.000000000",
          "2020-09-01T00:00:00.000000000",
          "2020-10-01T00:00:00.000000000",
          "2020-11-01T00:00:00.000000000",
          "2020-12-01T00:00:00.000000000",
          "2021-01-01T00:00:00.000000000",
          "2021-02-01T00:00:00.000000000",
          "2021-03-01T00:00:00.000000000",
          "2021-04-01T00:00:00.000000000",
          "2021-05-01T00:00:00.000000000",
          "2021-06-01T00:00:00.000000000",
          "2021-07-01T00:00:00.000000000",
          "2021-08-01T00:00:00.000000000",
          "2021-09-01T00:00:00.000000000",
          "2021-10-01T00:00:00.000000000",
          "2021-11-01T00:00:00.000000000",
          "2021-12-01T00:00:00.000000000",
          "2022-01-01T00:00:00.000000000",
          "2022-02-01T00:00:00.000000000",
          "2022-03-01T00:00:00.000000000",
          "2022-04-01T00:00:00.000000000",
          "2022-05-01T00:00:00.000000000",
          "2022-06-01T00:00:00.000000000",
          "2022-07-01T00:00:00.000000000",
          "2022-08-01T00:00:00.000000000",
          "2022-09-01T00:00:00.000000000",
          "2022-10-01T00:00:00.000000000",
          "2022-11-01T00:00:00.000000000",
          "2022-12-01T00:00:00.000000000",
          "2023-01-01T00:00:00.000000000",
          "2023-02-01T00:00:00.000000000",
          "2023-03-01T00:00:00.000000000",
          "2023-04-01T00:00:00.000000000",
          "2023-05-01T00:00:00.000000000",
          "2023-06-01T00:00:00.000000000",
          "2023-07-01T00:00:00.000000000",
          "2023-08-01T00:00:00.000000000",
          "2023-09-01T00:00:00.000000000",
          "2023-10-01T00:00:00.000000000",
          "2023-11-01T00:00:00.000000000",
          "2023-12-01T00:00:00.000000000",
          "2024-01-01T00:00:00.000000000",
          "2024-02-01T00:00:00.000000000",
          "2024-03-01T00:00:00.000000000",
          "2024-04-01T00:00:00.000000000",
          "2024-05-01T00:00:00.000000000",
          "2024-06-01T00:00:00.000000000",
          "2024-07-01T00:00:00.000000000",
          "2024-08-01T00:00:00.000000000",
          "2024-09-01T00:00:00.000000000",
          "2024-10-01T00:00:00.000000000",
          "2024-11-01T00:00:00.000000000",
          "2024-12-01T00:00:00.000000000"
         ],
         "xaxis": "x",
         "y": {
          "bdata": "AwAHAAgACgATABAACgAJAAUACQAQAAgACQANAAsAFQAPABUADgAKAAgAEgAPAAkAEAAPAAcAEwAXAAwADQARAAsAEAARABsAFQAQABYAEgARABYAEAAOABoAFgASABcAEQATABEAEAAUAB0AEwASABUAEAAdAB4AFAAaABoAGAAcABgAJQAbABkAHwAbACIAFwAbACcAJAAgAB4AGgAaACgAIQAlABoAJQAmACIAJAA0ACcAHwAkACMAJgAuADIAKgAlADIAIwAtAC4AMwAhADAAOwA5ADEAOAAxAD0ANAA+ADQANAAoAEgAMAA1AEgALAA7AEQANwBUAFkAPgA/AEkATQBVAEsARgBDAG4AQwBcAGoAXgBMAG4AUgB4AFkAfQBUAGkAXgBpAHMAbQB+AIYAjQCLAH0AlABvAH8AgACDAHQAgACAAJIAnACTAKQArgCsAJ0AqwCNAKYAowBwAMQAwwCqANQArQC8AMQAtACqAL8A3ACoAMoA3AAAAfYA9gDBAP0AFQENAd8A7gDOABgBLAEOAQ0B+gAeAUUBUwFJAT0BVwEtAU8BcAFqAW4BQgGDAW8BdQGAAXsBjQFHAYIBlwGoAZMBtwGdAY8BtwGMAakBvgGBAc8BDQLoAU8CrwGwAeIB+QHgASMC9gG+AdsBVgIsAs4C8gFiAo8CVwJNAhkDwAI7AosClgLSA6oCKwIEA0UD9gJtA1YDqgLDAlkDeQM0BIQD0AJ7A4sExwNcBAwE7QNtA2gEawSDBfEDwQNnBYEFGgX+BUoFTQVlBI0FVQa/BtEFgwX9BXQGHwdGCIQHugb7BfEHyggtCFEHHgb5CN0IdQmqCBEMogl8B0gIxwthCYEJSQdCCZwKxQkNCasLzAiMB3gJhAv/CGoJ5AewCeIL/gitCncKwggUCG4Jogx9CxAJUwicCucM0gluEGYMFQrNCRAMyQ5wDB8MiAoQEH0OZwsjDUENrwqhB8kHUAc8BTgH",
          "dtype": "i2"
         },
         "yaxis": "y"
        },
        {
         "hovertemplate": "<b>OLS trendline</b><br>log10(count) = 2.75653e-09 * period + -1.13418<br>R<sup>2</sup>=0.984835<br><br>period=%{x}<br>count=%{y} <b>(trend)</b><extra></extra>",
         "legendgroup": "",
         "line": {
          "color": "red"
         },
         "marker": {
          "color": "#636efa",
          "symbol": "circle"
         },
         "mode": "lines",
         "name": "",
         "showlegend": false,
         "type": "scatter",
         "x": [
          "1994-01-01T00:00:00.000000000",
          "1994-02-01T00:00:00.000000000",
          "1994-03-01T00:00:00.000000000",
          "1994-04-01T00:00:00.000000000",
          "1994-05-01T00:00:00.000000000",
          "1994-06-01T00:00:00.000000000",
          "1994-07-01T00:00:00.000000000",
          "1994-08-01T00:00:00.000000000",
          "1994-09-01T00:00:00.000000000",
          "1994-10-01T00:00:00.000000000",
          "1994-11-01T00:00:00.000000000",
          "1994-12-01T00:00:00.000000000",
          "1995-01-01T00:00:00.000000000",
          "1995-02-01T00:00:00.000000000",
          "1995-03-01T00:00:00.000000000",
          "1995-04-01T00:00:00.000000000",
          "1995-05-01T00:00:00.000000000",
          "1995-06-01T00:00:00.000000000",
          "1995-07-01T00:00:00.000000000",
          "1995-08-01T00:00:00.000000000",
          "1995-09-01T00:00:00.000000000",
          "1995-10-01T00:00:00.000000000",
          "1995-11-01T00:00:00.000000000",
          "1995-12-01T00:00:00.000000000",
          "1996-01-01T00:00:00.000000000",
          "1996-02-01T00:00:00.000000000",
          "1996-03-01T00:00:00.000000000",
          "1996-04-01T00:00:00.000000000",
          "1996-05-01T00:00:00.000000000",
          "1996-06-01T00:00:00.000000000",
          "1996-07-01T00:00:00.000000000",
          "1996-08-01T00:00:00.000000000",
          "1996-09-01T00:00:00.000000000",
          "1996-10-01T00:00:00.000000000",
          "1996-11-01T00:00:00.000000000",
          "1996-12-01T00:00:00.000000000",
          "1997-01-01T00:00:00.000000000",
          "1997-02-01T00:00:00.000000000",
          "1997-03-01T00:00:00.000000000",
          "1997-04-01T00:00:00.000000000",
          "1997-05-01T00:00:00.000000000",
          "1997-06-01T00:00:00.000000000",
          "1997-07-01T00:00:00.000000000",
          "1997-08-01T00:00:00.000000000",
          "1997-09-01T00:00:00.000000000",
          "1997-10-01T00:00:00.000000000",
          "1997-11-01T00:00:00.000000000",
          "1997-12-01T00:00:00.000000000",
          "1998-01-01T00:00:00.000000000",
          "1998-02-01T00:00:00.000000000",
          "1998-03-01T00:00:00.000000000",
          "1998-04-01T00:00:00.000000000",
          "1998-05-01T00:00:00.000000000",
          "1998-06-01T00:00:00.000000000",
          "1998-07-01T00:00:00.000000000",
          "1998-08-01T00:00:00.000000000",
          "1998-09-01T00:00:00.000000000",
          "1998-10-01T00:00:00.000000000",
          "1998-11-01T00:00:00.000000000",
          "1998-12-01T00:00:00.000000000",
          "1999-01-01T00:00:00.000000000",
          "1999-02-01T00:00:00.000000000",
          "1999-03-01T00:00:00.000000000",
          "1999-04-01T00:00:00.000000000",
          "1999-05-01T00:00:00.000000000",
          "1999-06-01T00:00:00.000000000",
          "1999-07-01T00:00:00.000000000",
          "1999-08-01T00:00:00.000000000",
          "1999-09-01T00:00:00.000000000",
          "1999-10-01T00:00:00.000000000",
          "1999-11-01T00:00:00.000000000",
          "1999-12-01T00:00:00.000000000",
          "2000-01-01T00:00:00.000000000",
          "2000-02-01T00:00:00.000000000",
          "2000-03-01T00:00:00.000000000",
          "2000-04-01T00:00:00.000000000",
          "2000-05-01T00:00:00.000000000",
          "2000-06-01T00:00:00.000000000",
          "2000-07-01T00:00:00.000000000",
          "2000-08-01T00:00:00.000000000",
          "2000-09-01T00:00:00.000000000",
          "2000-10-01T00:00:00.000000000",
          "2000-11-01T00:00:00.000000000",
          "2000-12-01T00:00:00.000000000",
          "2001-01-01T00:00:00.000000000",
          "2001-02-01T00:00:00.000000000",
          "2001-03-01T00:00:00.000000000",
          "2001-04-01T00:00:00.000000000",
          "2001-05-01T00:00:00.000000000",
          "2001-06-01T00:00:00.000000000",
          "2001-07-01T00:00:00.000000000",
          "2001-08-01T00:00:00.000000000",
          "2001-09-01T00:00:00.000000000",
          "2001-10-01T00:00:00.000000000",
          "2001-11-01T00:00:00.000000000",
          "2001-12-01T00:00:00.000000000",
          "2002-01-01T00:00:00.000000000",
          "2002-02-01T00:00:00.000000000",
          "2002-03-01T00:00:00.000000000",
          "2002-04-01T00:00:00.000000000",
          "2002-05-01T00:00:00.000000000",
          "2002-06-01T00:00:00.000000000",
          "2002-07-01T00:00:00.000000000",
          "2002-08-01T00:00:00.000000000",
          "2002-09-01T00:00:00.000000000",
          "2002-10-01T00:00:00.000000000",
          "2002-11-01T00:00:00.000000000",
          "2002-12-01T00:00:00.000000000",
          "2003-01-01T00:00:00.000000000",
          "2003-02-01T00:00:00.000000000",
          "2003-03-01T00:00:00.000000000",
          "2003-04-01T00:00:00.000000000",
          "2003-05-01T00:00:00.000000000",
          "2003-06-01T00:00:00.000000000",
          "2003-07-01T00:00:00.000000000",
          "2003-08-01T00:00:00.000000000",
          "2003-09-01T00:00:00.000000000",
          "2003-10-01T00:00:00.000000000",
          "2003-11-01T00:00:00.000000000",
          "2003-12-01T00:00:00.000000000",
          "2004-01-01T00:00:00.000000000",
          "2004-02-01T00:00:00.000000000",
          "2004-03-01T00:00:00.000000000",
          "2004-04-01T00:00:00.000000000",
          "2004-05-01T00:00:00.000000000",
          "2004-06-01T00:00:00.000000000",
          "2004-07-01T00:00:00.000000000",
          "2004-08-01T00:00:00.000000000",
          "2004-09-01T00:00:00.000000000",
          "2004-10-01T00:00:00.000000000",
          "2004-11-01T00:00:00.000000000",
          "2004-12-01T00:00:00.000000000",
          "2005-01-01T00:00:00.000000000",
          "2005-02-01T00:00:00.000000000",
          "2005-03-01T00:00:00.000000000",
          "2005-04-01T00:00:00.000000000",
          "2005-05-01T00:00:00.000000000",
          "2005-06-01T00:00:00.000000000",
          "2005-07-01T00:00:00.000000000",
          "2005-08-01T00:00:00.000000000",
          "2005-09-01T00:00:00.000000000",
          "2005-10-01T00:00:00.000000000",
          "2005-11-01T00:00:00.000000000",
          "2005-12-01T00:00:00.000000000",
          "2006-01-01T00:00:00.000000000",
          "2006-02-01T00:00:00.000000000",
          "2006-03-01T00:00:00.000000000",
          "2006-04-01T00:00:00.000000000",
          "2006-05-01T00:00:00.000000000",
          "2006-06-01T00:00:00.000000000",
          "2006-07-01T00:00:00.000000000",
          "2006-08-01T00:00:00.000000000",
          "2006-09-01T00:00:00.000000000",
          "2006-10-01T00:00:00.000000000",
          "2006-11-01T00:00:00.000000000",
          "2006-12-01T00:00:00.000000000",
          "2007-01-01T00:00:00.000000000",
          "2007-02-01T00:00:00.000000000",
          "2007-03-01T00:00:00.000000000",
          "2007-04-01T00:00:00.000000000",
          "2007-05-01T00:00:00.000000000",
          "2007-06-01T00:00:00.000000000",
          "2007-07-01T00:00:00.000000000",
          "2007-08-01T00:00:00.000000000",
          "2007-09-01T00:00:00.000000000",
          "2007-10-01T00:00:00.000000000",
          "2007-11-01T00:00:00.000000000",
          "2007-12-01T00:00:00.000000000",
          "2008-01-01T00:00:00.000000000",
          "2008-02-01T00:00:00.000000000",
          "2008-03-01T00:00:00.000000000",
          "2008-04-01T00:00:00.000000000",
          "2008-05-01T00:00:00.000000000",
          "2008-06-01T00:00:00.000000000",
          "2008-07-01T00:00:00.000000000",
          "2008-08-01T00:00:00.000000000",
          "2008-09-01T00:00:00.000000000",
          "2008-10-01T00:00:00.000000000",
          "2008-11-01T00:00:00.000000000",
          "2008-12-01T00:00:00.000000000",
          "2009-01-01T00:00:00.000000000",
          "2009-02-01T00:00:00.000000000",
          "2009-03-01T00:00:00.000000000",
          "2009-04-01T00:00:00.000000000",
          "2009-05-01T00:00:00.000000000",
          "2009-06-01T00:00:00.000000000",
          "2009-07-01T00:00:00.000000000",
          "2009-08-01T00:00:00.000000000",
          "2009-09-01T00:00:00.000000000",
          "2009-10-01T00:00:00.000000000",
          "2009-11-01T00:00:00.000000000",
          "2009-12-01T00:00:00.000000000",
          "2010-01-01T00:00:00.000000000",
          "2010-02-01T00:00:00.000000000",
          "2010-03-01T00:00:00.000000000",
          "2010-04-01T00:00:00.000000000",
          "2010-05-01T00:00:00.000000000",
          "2010-06-01T00:00:00.000000000",
          "2010-07-01T00:00:00.000000000",
          "2010-08-01T00:00:00.000000000",
          "2010-09-01T00:00:00.000000000",
          "2010-10-01T00:00:00.000000000",
          "2010-11-01T00:00:00.000000000",
          "2010-12-01T00:00:00.000000000",
          "2011-01-01T00:00:00.000000000",
          "2011-02-01T00:00:00.000000000",
          "2011-03-01T00:00:00.000000000",
          "2011-04-01T00:00:00.000000000",
          "2011-05-01T00:00:00.000000000",
          "2011-06-01T00:00:00.000000000",
          "2011-07-01T00:00:00.000000000",
          "2011-08-01T00:00:00.000000000",
          "2011-09-01T00:00:00.000000000",
          "2011-10-01T00:00:00.000000000",
          "2011-11-01T00:00:00.000000000",
          "2011-12-01T00:00:00.000000000",
          "2012-01-01T00:00:00.000000000",
          "2012-02-01T00:00:00.000000000",
          "2012-03-01T00:00:00.000000000",
          "2012-04-01T00:00:00.000000000",
          "2012-05-01T00:00:00.000000000",
          "2012-06-01T00:00:00.000000000",
          "2012-07-01T00:00:00.000000000",
          "2012-08-01T00:00:00.000000000",
          "2012-09-01T00:00:00.000000000",
          "2012-10-01T00:00:00.000000000",
          "2012-11-01T00:00:00.000000000",
          "2012-12-01T00:00:00.000000000",
          "2013-01-01T00:00:00.000000000",
          "2013-02-01T00:00:00.000000000",
          "2013-03-01T00:00:00.000000000",
          "2013-04-01T00:00:00.000000000",
          "2013-05-01T00:00:00.000000000",
          "2013-06-01T00:00:00.000000000",
          "2013-07-01T00:00:00.000000000",
          "2013-08-01T00:00:00.000000000",
          "2013-09-01T00:00:00.000000000",
          "2013-10-01T00:00:00.000000000",
          "2013-11-01T00:00:00.000000000",
          "2013-12-01T00:00:00.000000000",
          "2014-01-01T00:00:00.000000000",
          "2014-02-01T00:00:00.000000000",
          "2014-03-01T00:00:00.000000000",
          "2014-04-01T00:00:00.000000000",
          "2014-05-01T00:00:00.000000000",
          "2014-06-01T00:00:00.000000000",
          "2014-07-01T00:00:00.000000000",
          "2014-08-01T00:00:00.000000000",
          "2014-09-01T00:00:00.000000000",
          "2014-10-01T00:00:00.000000000",
          "2014-11-01T00:00:00.000000000",
          "2014-12-01T00:00:00.000000000",
          "2015-01-01T00:00:00.000000000",
          "2015-02-01T00:00:00.000000000",
          "2015-03-01T00:00:00.000000000",
          "2015-04-01T00:00:00.000000000",
          "2015-05-01T00:00:00.000000000",
          "2015-06-01T00:00:00.000000000",
          "2015-07-01T00:00:00.000000000",
          "2015-08-01T00:00:00.000000000",
          "2015-09-01T00:00:00.000000000",
          "2015-10-01T00:00:00.000000000",
          "2015-11-01T00:00:00.000000000",
          "2015-12-01T00:00:00.000000000",
          "2016-01-01T00:00:00.000000000",
          "2016-02-01T00:00:00.000000000",
          "2016-03-01T00:00:00.000000000",
          "2016-04-01T00:00:00.000000000",
          "2016-05-01T00:00:00.000000000",
          "2016-06-01T00:00:00.000000000",
          "2016-07-01T00:00:00.000000000",
          "2016-08-01T00:00:00.000000000",
          "2016-09-01T00:00:00.000000000",
          "2016-10-01T00:00:00.000000000",
          "2016-11-01T00:00:00.000000000",
          "2016-12-01T00:00:00.000000000",
          "2017-01-01T00:00:00.000000000",
          "2017-02-01T00:00:00.000000000",
          "2017-03-01T00:00:00.000000000",
          "2017-04-01T00:00:00.000000000",
          "2017-05-01T00:00:00.000000000",
          "2017-06-01T00:00:00.000000000",
          "2017-07-01T00:00:00.000000000",
          "2017-08-01T00:00:00.000000000",
          "2017-09-01T00:00:00.000000000",
          "2017-10-01T00:00:00.000000000",
          "2017-11-01T00:00:00.000000000",
          "2017-12-01T00:00:00.000000000",
          "2018-01-01T00:00:00.000000000",
          "2018-02-01T00:00:00.000000000",
          "2018-03-01T00:00:00.000000000",
          "2018-04-01T00:00:00.000000000",
          "2018-05-01T00:00:00.000000000",
          "2018-06-01T00:00:00.000000000",
          "2018-07-01T00:00:00.000000000",
          "2018-08-01T00:00:00.000000000",
          "2018-09-01T00:00:00.000000000",
          "2018-10-01T00:00:00.000000000",
          "2018-11-01T00:00:00.000000000",
          "2018-12-01T00:00:00.000000000",
          "2019-01-01T00:00:00.000000000",
          "2019-02-01T00:00:00.000000000",
          "2019-03-01T00:00:00.000000000",
          "2019-04-01T00:00:00.000000000",
          "2019-05-01T00:00:00.000000000",
          "2019-06-01T00:00:00.000000000",
          "2019-07-01T00:00:00.000000000",
          "2019-08-01T00:00:00.000000000",
          "2019-09-01T00:00:00.000000000",
          "2019-10-01T00:00:00.000000000",
          "2019-11-01T00:00:00.000000000",
          "2019-12-01T00:00:00.000000000",
          "2020-01-01T00:00:00.000000000",
          "2020-02-01T00:00:00.000000000",
          "2020-03-01T00:00:00.000000000",
          "2020-04-01T00:00:00.000000000",
          "2020-05-01T00:00:00.000000000",
          "2020-06-01T00:00:00.000000000",
          "2020-07-01T00:00:00.000000000",
          "2020-08-01T00:00:00.000000000",
          "2020-09-01T00:00:00.000000000",
          "2020-10-01T00:00:00.000000000",
          "2020-11-01T00:00:00.000000000",
          "2020-12-01T00:00:00.000000000",
          "2021-01-01T00:00:00.000000000",
          "2021-02-01T00:00:00.000000000",
          "2021-03-01T00:00:00.000000000",
          "2021-04-01T00:00:00.000000000",
          "2021-05-01T00:00:00.000000000",
          "2021-06-01T00:00:00.000000000",
          "2021-07-01T00:00:00.000000000",
          "2021-08-01T00:00:00.000000000",
          "2021-09-01T00:00:00.000000000",
          "2021-10-01T00:00:00.000000000",
          "2021-11-01T00:00:00.000000000",
          "2021-12-01T00:00:00.000000000",
          "2022-01-01T00:00:00.000000000",
          "2022-02-01T00:00:00.000000000",
          "2022-03-01T00:00:00.000000000",
          "2022-04-01T00:00:00.000000000",
          "2022-05-01T00:00:00.000000000",
          "2022-06-01T00:00:00.000000000",
          "2022-07-01T00:00:00.000000000",
          "2022-08-01T00:00:00.000000000",
          "2022-09-01T00:00:00.000000000",
          "2022-10-01T00:00:00.000000000",
          "2022-11-01T00:00:00.000000000",
          "2022-12-01T00:00:00.000000000",
          "2023-01-01T00:00:00.000000000",
          "2023-02-01T00:00:00.000000000",
          "2023-03-01T00:00:00.000000000",
          "2023-04-01T00:00:00.000000000",
          "2023-05-01T00:00:00.000000000",
          "2023-06-01T00:00:00.000000000",
          "2023-07-01T00:00:00.000000000",
          "2023-08-01T00:00:00.000000000",
          "2023-09-01T00:00:00.000000000",
          "2023-10-01T00:00:00.000000000",
          "2023-11-01T00:00:00.000000000",
          "2023-12-01T00:00:00.000000000",
          "2024-01-01T00:00:00.000000000",
          "2024-02-01T00:00:00.000000000",
          "2024-03-01T00:00:00.000000000",
          "2024-04-01T00:00:00.000000000",
          "2024-05-01T00:00:00.000000000",
          "2024-06-01T00:00:00.000000000",
          "2024-07-01T00:00:00.000000000",
          "2024-08-01T00:00:00.000000000",
          "2024-09-01T00:00:00.000000000",
          "2024-10-01T00:00:00.000000000",
          "2024-11-01T00:00:00.000000000",
          "2024-12-01T00:00:00.000000000"
         ],
         "xaxis": "x",
         "y": {
          "bdata": "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",
          "dtype": "f8"
         },
         "yaxis": "y"
        },
        {
         "hovertemplate": "period=%{x}<br>count=%{y}<extra></extra>",
         "legendgroup": "",
         "marker": {
          "color": "#636efa",
          "symbol": "circle"
         },
         "mode": "markers",
         "name": "",
         "orientation": "v",
         "showlegend": false,
         "type": "scatter",
         "x": [
          "1994-01-01T00:00:00.000000000",
          "1994-02-01T00:00:00.000000000",
          "1994-03-01T00:00:00.000000000",
          "1994-04-01T00:00:00.000000000",
          "1994-05-01T00:00:00.000000000",
          "1994-06-01T00:00:00.000000000",
          "1994-07-01T00:00:00.000000000",
          "1994-08-01T00:00:00.000000000",
          "1994-09-01T00:00:00.000000000",
          "1994-10-01T00:00:00.000000000",
          "1994-11-01T00:00:00.000000000",
          "1994-12-01T00:00:00.000000000",
          "1995-01-01T00:00:00.000000000",
          "1995-02-01T00:00:00.000000000",
          "1995-03-01T00:00:00.000000000",
          "1995-04-01T00:00:00.000000000",
          "1995-05-01T00:00:00.000000000",
          "1995-06-01T00:00:00.000000000",
          "1995-07-01T00:00:00.000000000",
          "1995-08-01T00:00:00.000000000",
          "1995-09-01T00:00:00.000000000",
          "1995-10-01T00:00:00.000000000",
          "1995-11-01T00:00:00.000000000",
          "1995-12-01T00:00:00.000000000",
          "1996-01-01T00:00:00.000000000",
          "1996-02-01T00:00:00.000000000",
          "1996-03-01T00:00:00.000000000",
          "1996-04-01T00:00:00.000000000",
          "1996-05-01T00:00:00.000000000",
          "1996-06-01T00:00:00.000000000",
          "1996-07-01T00:00:00.000000000",
          "1996-08-01T00:00:00.000000000",
          "1996-09-01T00:00:00.000000000",
          "1996-10-01T00:00:00.000000000",
          "1996-11-01T00:00:00.000000000",
          "1996-12-01T00:00:00.000000000",
          "1997-01-01T00:00:00.000000000",
          "1997-02-01T00:00:00.000000000",
          "1997-03-01T00:00:00.000000000",
          "1997-04-01T00:00:00.000000000",
          "1997-05-01T00:00:00.000000000",
          "1997-06-01T00:00:00.000000000",
          "1997-07-01T00:00:00.000000000",
          "1997-08-01T00:00:00.000000000",
          "1997-09-01T00:00:00.000000000",
          "1997-10-01T00:00:00.000000000",
          "1997-11-01T00:00:00.000000000",
          "1997-12-01T00:00:00.000000000",
          "1998-01-01T00:00:00.000000000",
          "1998-02-01T00:00:00.000000000",
          "1998-03-01T00:00:00.000000000",
          "1998-04-01T00:00:00.000000000",
          "1998-05-01T00:00:00.000000000",
          "1998-06-01T00:00:00.000000000",
          "1998-07-01T00:00:00.000000000",
          "1998-08-01T00:00:00.000000000",
          "1998-09-01T00:00:00.000000000",
          "1998-10-01T00:00:00.000000000",
          "1998-11-01T00:00:00.000000000",
          "1998-12-01T00:00:00.000000000",
          "1999-01-01T00:00:00.000000000",
          "1999-02-01T00:00:00.000000000",
          "1999-03-01T00:00:00.000000000",
          "1999-04-01T00:00:00.000000000",
          "1999-05-01T00:00:00.000000000",
          "1999-06-01T00:00:00.000000000",
          "1999-07-01T00:00:00.000000000",
          "1999-08-01T00:00:00.000000000",
          "1999-09-01T00:00:00.000000000",
          "1999-10-01T00:00:00.000000000",
          "1999-11-01T00:00:00.000000000",
          "1999-12-01T00:00:00.000000000",
          "2000-01-01T00:00:00.000000000",
          "2000-02-01T00:00:00.000000000",
          "2000-03-01T00:00:00.000000000",
          "2000-04-01T00:00:00.000000000",
          "2000-05-01T00:00:00.000000000",
          "2000-06-01T00:00:00.000000000",
          "2000-07-01T00:00:00.000000000",
          "2000-08-01T00:00:00.000000000",
          "2000-09-01T00:00:00.000000000",
          "2000-10-01T00:00:00.000000000",
          "2000-11-01T00:00:00.000000000",
          "2000-12-01T00:00:00.000000000",
          "2001-01-01T00:00:00.000000000",
          "2001-02-01T00:00:00.000000000",
          "2001-03-01T00:00:00.000000000",
          "2001-04-01T00:00:00.000000000",
          "2001-05-01T00:00:00.000000000",
          "2001-06-01T00:00:00.000000000",
          "2001-07-01T00:00:00.000000000",
          "2001-08-01T00:00:00.000000000",
          "2001-09-01T00:00:00.000000000",
          "2001-10-01T00:00:00.000000000",
          "2001-11-01T00:00:00.000000000",
          "2001-12-01T00:00:00.000000000",
          "2002-01-01T00:00:00.000000000",
          "2002-02-01T00:00:00.000000000",
          "2002-03-01T00:00:00.000000000",
          "2002-04-01T00:00:00.000000000",
          "2002-05-01T00:00:00.000000000",
          "2002-06-01T00:00:00.000000000",
          "2002-07-01T00:00:00.000000000",
          "2002-08-01T00:00:00.000000000",
          "2002-09-01T00:00:00.000000000",
          "2002-10-01T00:00:00.000000000",
          "2002-11-01T00:00:00.000000000",
          "2002-12-01T00:00:00.000000000",
          "2003-01-01T00:00:00.000000000",
          "2003-02-01T00:00:00.000000000",
          "2003-03-01T00:00:00.000000000",
          "2003-04-01T00:00:00.000000000",
          "2003-05-01T00:00:00.000000000",
          "2003-06-01T00:00:00.000000000",
          "2003-07-01T00:00:00.000000000",
          "2003-08-01T00:00:00.000000000",
          "2003-09-01T00:00:00.000000000",
          "2003-10-01T00:00:00.000000000",
          "2003-11-01T00:00:00.000000000",
          "2003-12-01T00:00:00.000000000",
          "2004-01-01T00:00:00.000000000",
          "2004-02-01T00:00:00.000000000",
          "2004-03-01T00:00:00.000000000",
          "2004-04-01T00:00:00.000000000",
          "2004-05-01T00:00:00.000000000",
          "2004-06-01T00:00:00.000000000",
          "2004-07-01T00:00:00.000000000",
          "2004-08-01T00:00:00.000000000",
          "2004-09-01T00:00:00.000000000",
          "2004-10-01T00:00:00.000000000",
          "2004-11-01T00:00:00.000000000",
          "2004-12-01T00:00:00.000000000",
          "2005-01-01T00:00:00.000000000",
          "2005-02-01T00:00:00.000000000",
          "2005-03-01T00:00:00.000000000",
          "2005-04-01T00:00:00.000000000",
          "2005-05-01T00:00:00.000000000",
          "2005-06-01T00:00:00.000000000",
          "2005-07-01T00:00:00.000000000",
          "2005-08-01T00:00:00.000000000",
          "2005-09-01T00:00:00.000000000",
          "2005-10-01T00:00:00.000000000",
          "2005-11-01T00:00:00.000000000",
          "2005-12-01T00:00:00.000000000",
          "2006-01-01T00:00:00.000000000",
          "2006-02-01T00:00:00.000000000",
          "2006-03-01T00:00:00.000000000",
          "2006-04-01T00:00:00.000000000",
          "2006-05-01T00:00:00.000000000",
          "2006-06-01T00:00:00.000000000",
          "2006-07-01T00:00:00.000000000",
          "2006-08-01T00:00:00.000000000",
          "2006-09-01T00:00:00.000000000",
          "2006-10-01T00:00:00.000000000",
          "2006-11-01T00:00:00.000000000",
          "2006-12-01T00:00:00.000000000",
          "2007-01-01T00:00:00.000000000",
          "2007-02-01T00:00:00.000000000",
          "2007-03-01T00:00:00.000000000",
          "2007-04-01T00:00:00.000000000",
          "2007-05-01T00:00:00.000000000",
          "2007-06-01T00:00:00.000000000",
          "2007-07-01T00:00:00.000000000",
          "2007-08-01T00:00:00.000000000",
          "2007-09-01T00:00:00.000000000",
          "2007-10-01T00:00:00.000000000",
          "2007-11-01T00:00:00.000000000",
          "2007-12-01T00:00:00.000000000",
          "2008-01-01T00:00:00.000000000",
          "2008-02-01T00:00:00.000000000",
          "2008-03-01T00:00:00.000000000",
          "2008-04-01T00:00:00.000000000",
          "2008-05-01T00:00:00.000000000",
          "2008-06-01T00:00:00.000000000",
          "2008-07-01T00:00:00.000000000",
          "2008-08-01T00:00:00.000000000",
          "2008-09-01T00:00:00.000000000",
          "2008-10-01T00:00:00.000000000",
          "2008-11-01T00:00:00.000000000",
          "2008-12-01T00:00:00.000000000",
          "2009-01-01T00:00:00.000000000",
          "2009-02-01T00:00:00.000000000",
          "2009-03-01T00:00:00.000000000",
          "2009-04-01T00:00:00.000000000",
          "2009-05-01T00:00:00.000000000",
          "2009-06-01T00:00:00.000000000",
          "2009-07-01T00:00:00.000000000",
          "2009-08-01T00:00:00.000000000",
          "2009-09-01T00:00:00.000000000",
          "2009-10-01T00:00:00.000000000",
          "2009-11-01T00:00:00.000000000",
          "2009-12-01T00:00:00.000000000",
          "2010-01-01T00:00:00.000000000",
          "2010-02-01T00:00:00.000000000",
          "2010-03-01T00:00:00.000000000",
          "2010-04-01T00:00:00.000000000",
          "2010-05-01T00:00:00.000000000",
          "2010-06-01T00:00:00.000000000",
          "2010-07-01T00:00:00.000000000",
          "2010-08-01T00:00:00.000000000",
          "2010-09-01T00:00:00.000000000",
          "2010-10-01T00:00:00.000000000",
          "2010-11-01T00:00:00.000000000",
          "2010-12-01T00:00:00.000000000",
          "2011-01-01T00:00:00.000000000",
          "2011-02-01T00:00:00.000000000",
          "2011-03-01T00:00:00.000000000",
          "2011-04-01T00:00:00.000000000",
          "2011-05-01T00:00:00.000000000",
          "2011-06-01T00:00:00.000000000",
          "2011-07-01T00:00:00.000000000",
          "2011-08-01T00:00:00.000000000",
          "2011-09-01T00:00:00.000000000",
          "2011-10-01T00:00:00.000000000",
          "2011-11-01T00:00:00.000000000",
          "2011-12-01T00:00:00.000000000",
          "2012-01-01T00:00:00.000000000",
          "2012-02-01T00:00:00.000000000",
          "2012-03-01T00:00:00.000000000",
          "2012-04-01T00:00:00.000000000",
          "2012-05-01T00:00:00.000000000",
          "2012-06-01T00:00:00.000000000",
          "2012-07-01T00:00:00.000000000",
          "2012-08-01T00:00:00.000000000",
          "2012-09-01T00:00:00.000000000",
          "2012-10-01T00:00:00.000000000",
          "2012-11-01T00:00:00.000000000",
          "2012-12-01T00:00:00.000000000",
          "2013-01-01T00:00:00.000000000",
          "2013-02-01T00:00:00.000000000",
          "2013-03-01T00:00:00.000000000",
          "2013-04-01T00:00:00.000000000",
          "2013-05-01T00:00:00.000000000",
          "2013-06-01T00:00:00.000000000",
          "2013-07-01T00:00:00.000000000",
          "2013-08-01T00:00:00.000000000",
          "2013-09-01T00:00:00.000000000",
          "2013-10-01T00:00:00.000000000",
          "2013-11-01T00:00:00.000000000",
          "2013-12-01T00:00:00.000000000",
          "2014-01-01T00:00:00.000000000",
          "2014-02-01T00:00:00.000000000",
          "2014-03-01T00:00:00.000000000",
          "2014-04-01T00:00:00.000000000",
          "2014-05-01T00:00:00.000000000",
          "2014-06-01T00:00:00.000000000",
          "2014-07-01T00:00:00.000000000",
          "2014-08-01T00:00:00.000000000",
          "2014-09-01T00:00:00.000000000",
          "2014-10-01T00:00:00.000000000",
          "2014-11-01T00:00:00.000000000",
          "2014-12-01T00:00:00.000000000",
          "2015-01-01T00:00:00.000000000",
          "2015-02-01T00:00:00.000000000",
          "2015-03-01T00:00:00.000000000",
          "2015-04-01T00:00:00.000000000",
          "2015-05-01T00:00:00.000000000",
          "2015-06-01T00:00:00.000000000",
          "2015-07-01T00:00:00.000000000",
          "2015-08-01T00:00:00.000000000",
          "2015-09-01T00:00:00.000000000",
          "2015-10-01T00:00:00.000000000",
          "2015-11-01T00:00:00.000000000",
          "2015-12-01T00:00:00.000000000",
          "2016-01-01T00:00:00.000000000",
          "2016-02-01T00:00:00.000000000",
          "2016-03-01T00:00:00.000000000",
          "2016-04-01T00:00:00.000000000",
          "2016-05-01T00:00:00.000000000",
          "2016-06-01T00:00:00.000000000",
          "2016-07-01T00:00:00.000000000",
          "2016-08-01T00:00:00.000000000",
          "2016-09-01T00:00:00.000000000",
          "2016-10-01T00:00:00.000000000",
          "2016-11-01T00:00:00.000000000",
          "2016-12-01T00:00:00.000000000",
          "2017-01-01T00:00:00.000000000",
          "2017-02-01T00:00:00.000000000",
          "2017-03-01T00:00:00.000000000",
          "2017-04-01T00:00:00.000000000",
          "2017-05-01T00:00:00.000000000",
          "2017-06-01T00:00:00.000000000",
          "2017-07-01T00:00:00.000000000",
          "2017-08-01T00:00:00.000000000",
          "2017-09-01T00:00:00.000000000",
          "2017-10-01T00:00:00.000000000",
          "2017-11-01T00:00:00.000000000",
          "2017-12-01T00:00:00.000000000",
          "2018-01-01T00:00:00.000000000",
          "2018-02-01T00:00:00.000000000",
          "2018-03-01T00:00:00.000000000",
          "2018-04-01T00:00:00.000000000",
          "2018-05-01T00:00:00.000000000",
          "2018-06-01T00:00:00.000000000",
          "2018-07-01T00:00:00.000000000",
          "2018-08-01T00:00:00.000000000",
          "2018-09-01T00:00:00.000000000",
          "2018-10-01T00:00:00.000000000",
          "2018-11-01T00:00:00.000000000",
          "2018-12-01T00:00:00.000000000",
          "2019-01-01T00:00:00.000000000",
          "2019-02-01T00:00:00.000000000",
          "2019-03-01T00:00:00.000000000",
          "2019-04-01T00:00:00.000000000",
          "2019-05-01T00:00:00.000000000",
          "2019-06-01T00:00:00.000000000",
          "2019-07-01T00:00:00.000000000",
          "2019-08-01T00:00:00.000000000",
          "2019-09-01T00:00:00.000000000",
          "2019-10-01T00:00:00.000000000",
          "2019-11-01T00:00:00.000000000",
          "2019-12-01T00:00:00.000000000",
          "2020-01-01T00:00:00.000000000",
          "2020-02-01T00:00:00.000000000",
          "2020-03-01T00:00:00.000000000",
          "2020-04-01T00:00:00.000000000",
          "2020-05-01T00:00:00.000000000",
          "2020-06-01T00:00:00.000000000",
          "2020-07-01T00:00:00.000000000",
          "2020-08-01T00:00:00.000000000",
          "2020-09-01T00:00:00.000000000",
          "2020-10-01T00:00:00.000000000",
          "2020-11-01T00:00:00.000000000",
          "2020-12-01T00:00:00.000000000",
          "2021-01-01T00:00:00.000000000",
          "2021-02-01T00:00:00.000000000",
          "2021-03-01T00:00:00.000000000",
          "2021-04-01T00:00:00.000000000",
          "2021-05-01T00:00:00.000000000",
          "2021-06-01T00:00:00.000000000",
          "2021-07-01T00:00:00.000000000",
          "2021-08-01T00:00:00.000000000",
          "2021-09-01T00:00:00.000000000",
          "2021-10-01T00:00:00.000000000",
          "2021-11-01T00:00:00.000000000",
          "2021-12-01T00:00:00.000000000",
          "2022-01-01T00:00:00.000000000",
          "2022-02-01T00:00:00.000000000",
          "2022-03-01T00:00:00.000000000",
          "2022-04-01T00:00:00.000000000",
          "2022-05-01T00:00:00.000000000",
          "2022-06-01T00:00:00.000000000",
          "2022-07-01T00:00:00.000000000",
          "2022-08-01T00:00:00.000000000",
          "2022-09-01T00:00:00.000000000",
          "2022-10-01T00:00:00.000000000",
          "2022-11-01T00:00:00.000000000",
          "2022-12-01T00:00:00.000000000",
          "2023-01-01T00:00:00.000000000",
          "2023-02-01T00:00:00.000000000",
          "2023-03-01T00:00:00.000000000",
          "2023-04-01T00:00:00.000000000",
          "2023-05-01T00:00:00.000000000",
          "2023-06-01T00:00:00.000000000",
          "2023-07-01T00:00:00.000000000",
          "2023-08-01T00:00:00.000000000",
          "2023-09-01T00:00:00.000000000",
          "2023-10-01T00:00:00.000000000",
          "2023-11-01T00:00:00.000000000",
          "2023-12-01T00:00:00.000000000",
          "2024-01-01T00:00:00.000000000",
          "2024-02-01T00:00:00.000000000",
          "2024-03-01T00:00:00.000000000",
          "2024-04-01T00:00:00.000000000",
          "2024-05-01T00:00:00.000000000",
          "2024-06-01T00:00:00.000000000",
          "2024-07-01T00:00:00.000000000",
          "2024-08-01T00:00:00.000000000",
          "2024-09-01T00:00:00.000000000",
          "2024-10-01T00:00:00.000000000",
          "2024-11-01T00:00:00.000000000",
          "2024-12-01T00:00:00.000000000"
         ],
         "xaxis": "x2",
         "y": {
          "bdata": "AwAHAAgACgATABAACgAJAAUACQAQAAgACQANAAsAFQAPABUADgAKAAgAEgAPAAkAEAAPAAcAEwAXAAwADQARAAsAEAARABsAFQAQABYAEgARABYAEAAOABoAFgASABcAEQATABEAEAAUAB0AEwASABUAEAAdAB4AFAAaABoAGAAcABgAJQAbABkAHwAbACIAFwAbACcAJAAgAB4AGgAaACgAIQAlABoAJQAmACIAJAA0ACcAHwAkACMAJgAuADIAKgAlADIAIwAtAC4AMwAhADAAOwA5ADEAOAAxAD0ANAA+ADQANAAoAEgAMAA1AEgALAA7AEQANwBUAFkAPgA/AEkATQBVAEsARgBDAG4AQwBcAGoAXgBMAG4AUgB4AFkAfQBUAGkAXgBpAHMAbQB+AIYAjQCLAH0AlABvAH8AgACDAHQAgACAAJIAnACTAKQArgCsAJ0AqwCNAKYAowBwAMQAwwCqANQArQC8AMQAtACqAL8A3ACoAMoA3AAAAfYA9gDBAP0AFQENAd8A7gDOABgBLAEOAQ0B+gAeAUUBUwFJAT0BVwEtAU8BcAFqAW4BQgGDAW8BdQGAAXsBjQFHAYIBlwGoAZMBtwGdAY8BtwGMAakBvgGBAc8BDQLoAU8CrwGwAeIB+QHgASMC9gG+AdsBVgIsAs4C8gFiAo8CVwJNAhkDwAI7AosClgLSA6oCKwIEA0UD9gJtA1YDqgLDAlkDeQM0BIQD0AJ7A4sExwNcBAwE7QNtA2gEawSDBfEDwQNnBYEFGgX+BUoFTQVlBI0FVQa/BtEFgwX9BXQGHwdGCIQHugb7BfEHyggtCFEHHgb5CN0IdQmqCBEMogl8B0gIxwthCYEJSQdCCZwKxQkNCasLzAiMB3gJhAv/CGoJ5AewCeIL/gitCncKwggUCG4Jogx9CxAJUwicCucM0gluEGYMFQrNCRAMyQ5wDB8MiAoQEH0OZwsjDUENrwqhB8kHUAc8BTgH",
          "dtype": "i2"
         },
         "yaxis": "y2"
        },
        {
         "hovertemplate": "<b>OLS trendline</b><br>log10(count) = 2.75653e-09 * period + -1.13418<br>R<sup>2</sup>=0.984835<br><br>period=%{x}<br>count=%{y} <b>(trend)</b><extra></extra>",
         "legendgroup": "",
         "line": {
          "color": "red"
         },
         "marker": {
          "color": "#636efa",
          "symbol": "circle"
         },
         "mode": "lines",
         "name": "",
         "showlegend": false,
         "type": "scatter",
         "x": [
          "1994-01-01T00:00:00.000000000",
          "1994-02-01T00:00:00.000000000",
          "1994-03-01T00:00:00.000000000",
          "1994-04-01T00:00:00.000000000",
          "1994-05-01T00:00:00.000000000",
          "1994-06-01T00:00:00.000000000",
          "1994-07-01T00:00:00.000000000",
          "1994-08-01T00:00:00.000000000",
          "1994-09-01T00:00:00.000000000",
          "1994-10-01T00:00:00.000000000",
          "1994-11-01T00:00:00.000000000",
          "1994-12-01T00:00:00.000000000",
          "1995-01-01T00:00:00.000000000",
          "1995-02-01T00:00:00.000000000",
          "1995-03-01T00:00:00.000000000",
          "1995-04-01T00:00:00.000000000",
          "1995-05-01T00:00:00.000000000",
          "1995-06-01T00:00:00.000000000",
          "1995-07-01T00:00:00.000000000",
          "1995-08-01T00:00:00.000000000",
          "1995-09-01T00:00:00.000000000",
          "1995-10-01T00:00:00.000000000",
          "1995-11-01T00:00:00.000000000",
          "1995-12-01T00:00:00.000000000",
          "1996-01-01T00:00:00.000000000",
          "1996-02-01T00:00:00.000000000",
          "1996-03-01T00:00:00.000000000",
          "1996-04-01T00:00:00.000000000",
          "1996-05-01T00:00:00.000000000",
          "1996-06-01T00:00:00.000000000",
          "1996-07-01T00:00:00.000000000",
          "1996-08-01T00:00:00.000000000",
          "1996-09-01T00:00:00.000000000",
          "1996-10-01T00:00:00.000000000",
          "1996-11-01T00:00:00.000000000",
          "1996-12-01T00:00:00.000000000",
          "1997-01-01T00:00:00.000000000",
          "1997-02-01T00:00:00.000000000",
          "1997-03-01T00:00:00.000000000",
          "1997-04-01T00:00:00.000000000",
          "1997-05-01T00:00:00.000000000",
          "1997-06-01T00:00:00.000000000",
          "1997-07-01T00:00:00.000000000",
          "1997-08-01T00:00:00.000000000",
          "1997-09-01T00:00:00.000000000",
          "1997-10-01T00:00:00.000000000",
          "1997-11-01T00:00:00.000000000",
          "1997-12-01T00:00:00.000000000",
          "1998-01-01T00:00:00.000000000",
          "1998-02-01T00:00:00.000000000",
          "1998-03-01T00:00:00.000000000",
          "1998-04-01T00:00:00.000000000",
          "1998-05-01T00:00:00.000000000",
          "1998-06-01T00:00:00.000000000",
          "1998-07-01T00:00:00.000000000",
          "1998-08-01T00:00:00.000000000",
          "1998-09-01T00:00:00.000000000",
          "1998-10-01T00:00:00.000000000",
          "1998-11-01T00:00:00.000000000",
          "1998-12-01T00:00:00.000000000",
          "1999-01-01T00:00:00.000000000",
          "1999-02-01T00:00:00.000000000",
          "1999-03-01T00:00:00.000000000",
          "1999-04-01T00:00:00.000000000",
          "1999-05-01T00:00:00.000000000",
          "1999-06-01T00:00:00.000000000",
          "1999-07-01T00:00:00.000000000",
          "1999-08-01T00:00:00.000000000",
          "1999-09-01T00:00:00.000000000",
          "1999-10-01T00:00:00.000000000",
          "1999-11-01T00:00:00.000000000",
          "1999-12-01T00:00:00.000000000",
          "2000-01-01T00:00:00.000000000",
          "2000-02-01T00:00:00.000000000",
          "2000-03-01T00:00:00.000000000",
          "2000-04-01T00:00:00.000000000",
          "2000-05-01T00:00:00.000000000",
          "2000-06-01T00:00:00.000000000",
          "2000-07-01T00:00:00.000000000",
          "2000-08-01T00:00:00.000000000",
          "2000-09-01T00:00:00.000000000",
          "2000-10-01T00:00:00.000000000",
          "2000-11-01T00:00:00.000000000",
          "2000-12-01T00:00:00.000000000",
          "2001-01-01T00:00:00.000000000",
          "2001-02-01T00:00:00.000000000",
          "2001-03-01T00:00:00.000000000",
          "2001-04-01T00:00:00.000000000",
          "2001-05-01T00:00:00.000000000",
          "2001-06-01T00:00:00.000000000",
          "2001-07-01T00:00:00.000000000",
          "2001-08-01T00:00:00.000000000",
          "2001-09-01T00:00:00.000000000",
          "2001-10-01T00:00:00.000000000",
          "2001-11-01T00:00:00.000000000",
          "2001-12-01T00:00:00.000000000",
          "2002-01-01T00:00:00.000000000",
          "2002-02-01T00:00:00.000000000",
          "2002-03-01T00:00:00.000000000",
          "2002-04-01T00:00:00.000000000",
          "2002-05-01T00:00:00.000000000",
          "2002-06-01T00:00:00.000000000",
          "2002-07-01T00:00:00.000000000",
          "2002-08-01T00:00:00.000000000",
          "2002-09-01T00:00:00.000000000",
          "2002-10-01T00:00:00.000000000",
          "2002-11-01T00:00:00.000000000",
          "2002-12-01T00:00:00.000000000",
          "2003-01-01T00:00:00.000000000",
          "2003-02-01T00:00:00.000000000",
          "2003-03-01T00:00:00.000000000",
          "2003-04-01T00:00:00.000000000",
          "2003-05-01T00:00:00.000000000",
          "2003-06-01T00:00:00.000000000",
          "2003-07-01T00:00:00.000000000",
          "2003-08-01T00:00:00.000000000",
          "2003-09-01T00:00:00.000000000",
          "2003-10-01T00:00:00.000000000",
          "2003-11-01T00:00:00.000000000",
          "2003-12-01T00:00:00.000000000",
          "2004-01-01T00:00:00.000000000",
          "2004-02-01T00:00:00.000000000",
          "2004-03-01T00:00:00.000000000",
          "2004-04-01T00:00:00.000000000",
          "2004-05-01T00:00:00.000000000",
          "2004-06-01T00:00:00.000000000",
          "2004-07-01T00:00:00.000000000",
          "2004-08-01T00:00:00.000000000",
          "2004-09-01T00:00:00.000000000",
          "2004-10-01T00:00:00.000000000",
          "2004-11-01T00:00:00.000000000",
          "2004-12-01T00:00:00.000000000",
          "2005-01-01T00:00:00.000000000",
          "2005-02-01T00:00:00.000000000",
          "2005-03-01T00:00:00.000000000",
          "2005-04-01T00:00:00.000000000",
          "2005-05-01T00:00:00.000000000",
          "2005-06-01T00:00:00.000000000",
          "2005-07-01T00:00:00.000000000",
          "2005-08-01T00:00:00.000000000",
          "2005-09-01T00:00:00.000000000",
          "2005-10-01T00:00:00.000000000",
          "2005-11-01T00:00:00.000000000",
          "2005-12-01T00:00:00.000000000",
          "2006-01-01T00:00:00.000000000",
          "2006-02-01T00:00:00.000000000",
          "2006-03-01T00:00:00.000000000",
          "2006-04-01T00:00:00.000000000",
          "2006-05-01T00:00:00.000000000",
          "2006-06-01T00:00:00.000000000",
          "2006-07-01T00:00:00.000000000",
          "2006-08-01T00:00:00.000000000",
          "2006-09-01T00:00:00.000000000",
          "2006-10-01T00:00:00.000000000",
          "2006-11-01T00:00:00.000000000",
          "2006-12-01T00:00:00.000000000",
          "2007-01-01T00:00:00.000000000",
          "2007-02-01T00:00:00.000000000",
          "2007-03-01T00:00:00.000000000",
          "2007-04-01T00:00:00.000000000",
          "2007-05-01T00:00:00.000000000",
          "2007-06-01T00:00:00.000000000",
          "2007-07-01T00:00:00.000000000",
          "2007-08-01T00:00:00.000000000",
          "2007-09-01T00:00:00.000000000",
          "2007-10-01T00:00:00.000000000",
          "2007-11-01T00:00:00.000000000",
          "2007-12-01T00:00:00.000000000",
          "2008-01-01T00:00:00.000000000",
          "2008-02-01T00:00:00.000000000",
          "2008-03-01T00:00:00.000000000",
          "2008-04-01T00:00:00.000000000",
          "2008-05-01T00:00:00.000000000",
          "2008-06-01T00:00:00.000000000",
          "2008-07-01T00:00:00.000000000",
          "2008-08-01T00:00:00.000000000",
          "2008-09-01T00:00:00.000000000",
          "2008-10-01T00:00:00.000000000",
          "2008-11-01T00:00:00.000000000",
          "2008-12-01T00:00:00.000000000",
          "2009-01-01T00:00:00.000000000",
          "2009-02-01T00:00:00.000000000",
          "2009-03-01T00:00:00.000000000",
          "2009-04-01T00:00:00.000000000",
          "2009-05-01T00:00:00.000000000",
          "2009-06-01T00:00:00.000000000",
          "2009-07-01T00:00:00.000000000",
          "2009-08-01T00:00:00.000000000",
          "2009-09-01T00:00:00.000000000",
          "2009-10-01T00:00:00.000000000",
          "2009-11-01T00:00:00.000000000",
          "2009-12-01T00:00:00.000000000",
          "2010-01-01T00:00:00.000000000",
          "2010-02-01T00:00:00.000000000",
          "2010-03-01T00:00:00.000000000",
          "2010-04-01T00:00:00.000000000",
          "2010-05-01T00:00:00.000000000",
          "2010-06-01T00:00:00.000000000",
          "2010-07-01T00:00:00.000000000",
          "2010-08-01T00:00:00.000000000",
          "2010-09-01T00:00:00.000000000",
          "2010-10-01T00:00:00.000000000",
          "2010-11-01T00:00:00.000000000",
          "2010-12-01T00:00:00.000000000",
          "2011-01-01T00:00:00.000000000",
          "2011-02-01T00:00:00.000000000",
          "2011-03-01T00:00:00.000000000",
          "2011-04-01T00:00:00.000000000",
          "2011-05-01T00:00:00.000000000",
          "2011-06-01T00:00:00.000000000",
          "2011-07-01T00:00:00.000000000",
          "2011-08-01T00:00:00.000000000",
          "2011-09-01T00:00:00.000000000",
          "2011-10-01T00:00:00.000000000",
          "2011-11-01T00:00:00.000000000",
          "2011-12-01T00:00:00.000000000",
          "2012-01-01T00:00:00.000000000",
          "2012-02-01T00:00:00.000000000",
          "2012-03-01T00:00:00.000000000",
          "2012-04-01T00:00:00.000000000",
          "2012-05-01T00:00:00.000000000",
          "2012-06-01T00:00:00.000000000",
          "2012-07-01T00:00:00.000000000",
          "2012-08-01T00:00:00.000000000",
          "2012-09-01T00:00:00.000000000",
          "2012-10-01T00:00:00.000000000",
          "2012-11-01T00:00:00.000000000",
          "2012-12-01T00:00:00.000000000",
          "2013-01-01T00:00:00.000000000",
          "2013-02-01T00:00:00.000000000",
          "2013-03-01T00:00:00.000000000",
          "2013-04-01T00:00:00.000000000",
          "2013-05-01T00:00:00.000000000",
          "2013-06-01T00:00:00.000000000",
          "2013-07-01T00:00:00.000000000",
          "2013-08-01T00:00:00.000000000",
          "2013-09-01T00:00:00.000000000",
          "2013-10-01T00:00:00.000000000",
          "2013-11-01T00:00:00.000000000",
          "2013-12-01T00:00:00.000000000",
          "2014-01-01T00:00:00.000000000",
          "2014-02-01T00:00:00.000000000",
          "2014-03-01T00:00:00.000000000",
          "2014-04-01T00:00:00.000000000",
          "2014-05-01T00:00:00.000000000",
          "2014-06-01T00:00:00.000000000",
          "2014-07-01T00:00:00.000000000",
          "2014-08-01T00:00:00.000000000",
          "2014-09-01T00:00:00.000000000",
          "2014-10-01T00:00:00.000000000",
          "2014-11-01T00:00:00.000000000",
          "2014-12-01T00:00:00.000000000",
          "2015-01-01T00:00:00.000000000",
          "2015-02-01T00:00:00.000000000",
          "2015-03-01T00:00:00.000000000",
          "2015-04-01T00:00:00.000000000",
          "2015-05-01T00:00:00.000000000",
          "2015-06-01T00:00:00.000000000",
          "2015-07-01T00:00:00.000000000",
          "2015-08-01T00:00:00.000000000",
          "2015-09-01T00:00:00.000000000",
          "2015-10-01T00:00:00.000000000",
          "2015-11-01T00:00:00.000000000",
          "2015-12-01T00:00:00.000000000",
          "2016-01-01T00:00:00.000000000",
          "2016-02-01T00:00:00.000000000",
          "2016-03-01T00:00:00.000000000",
          "2016-04-01T00:00:00.000000000",
          "2016-05-01T00:00:00.000000000",
          "2016-06-01T00:00:00.000000000",
          "2016-07-01T00:00:00.000000000",
          "2016-08-01T00:00:00.000000000",
          "2016-09-01T00:00:00.000000000",
          "2016-10-01T00:00:00.000000000",
          "2016-11-01T00:00:00.000000000",
          "2016-12-01T00:00:00.000000000",
          "2017-01-01T00:00:00.000000000",
          "2017-02-01T00:00:00.000000000",
          "2017-03-01T00:00:00.000000000",
          "2017-04-01T00:00:00.000000000",
          "2017-05-01T00:00:00.000000000",
          "2017-06-01T00:00:00.000000000",
          "2017-07-01T00:00:00.000000000",
          "2017-08-01T00:00:00.000000000",
          "2017-09-01T00:00:00.000000000",
          "2017-10-01T00:00:00.000000000",
          "2017-11-01T00:00:00.000000000",
          "2017-12-01T00:00:00.000000000",
          "2018-01-01T00:00:00.000000000",
          "2018-02-01T00:00:00.000000000",
          "2018-03-01T00:00:00.000000000",
          "2018-04-01T00:00:00.000000000",
          "2018-05-01T00:00:00.000000000",
          "2018-06-01T00:00:00.000000000",
          "2018-07-01T00:00:00.000000000",
          "2018-08-01T00:00:00.000000000",
          "2018-09-01T00:00:00.000000000",
          "2018-10-01T00:00:00.000000000",
          "2018-11-01T00:00:00.000000000",
          "2018-12-01T00:00:00.000000000",
          "2019-01-01T00:00:00.000000000",
          "2019-02-01T00:00:00.000000000",
          "2019-03-01T00:00:00.000000000",
          "2019-04-01T00:00:00.000000000",
          "2019-05-01T00:00:00.000000000",
          "2019-06-01T00:00:00.000000000",
          "2019-07-01T00:00:00.000000000",
          "2019-08-01T00:00:00.000000000",
          "2019-09-01T00:00:00.000000000",
          "2019-10-01T00:00:00.000000000",
          "2019-11-01T00:00:00.000000000",
          "2019-12-01T00:00:00.000000000",
          "2020-01-01T00:00:00.000000000",
          "2020-02-01T00:00:00.000000000",
          "2020-03-01T00:00:00.000000000",
          "2020-04-01T00:00:00.000000000",
          "2020-05-01T00:00:00.000000000",
          "2020-06-01T00:00:00.000000000",
          "2020-07-01T00:00:00.000000000",
          "2020-08-01T00:00:00.000000000",
          "2020-09-01T00:00:00.000000000",
          "2020-10-01T00:00:00.000000000",
          "2020-11-01T00:00:00.000000000",
          "2020-12-01T00:00:00.000000000",
          "2021-01-01T00:00:00.000000000",
          "2021-02-01T00:00:00.000000000",
          "2021-03-01T00:00:00.000000000",
          "2021-04-01T00:00:00.000000000",
          "2021-05-01T00:00:00.000000000",
          "2021-06-01T00:00:00.000000000",
          "2021-07-01T00:00:00.000000000",
          "2021-08-01T00:00:00.000000000",
          "2021-09-01T00:00:00.000000000",
          "2021-10-01T00:00:00.000000000",
          "2021-11-01T00:00:00.000000000",
          "2021-12-01T00:00:00.000000000",
          "2022-01-01T00:00:00.000000000",
          "2022-02-01T00:00:00.000000000",
          "2022-03-01T00:00:00.000000000",
          "2022-04-01T00:00:00.000000000",
          "2022-05-01T00:00:00.000000000",
          "2022-06-01T00:00:00.000000000",
          "2022-07-01T00:00:00.000000000",
          "2022-08-01T00:00:00.000000000",
          "2022-09-01T00:00:00.000000000",
          "2022-10-01T00:00:00.000000000",
          "2022-11-01T00:00:00.000000000",
          "2022-12-01T00:00:00.000000000",
          "2023-01-01T00:00:00.000000000",
          "2023-02-01T00:00:00.000000000",
          "2023-03-01T00:00:00.000000000",
          "2023-04-01T00:00:00.000000000",
          "2023-05-01T00:00:00.000000000",
          "2023-06-01T00:00:00.000000000",
          "2023-07-01T00:00:00.000000000",
          "2023-08-01T00:00:00.000000000",
          "2023-09-01T00:00:00.000000000",
          "2023-10-01T00:00:00.000000000",
          "2023-11-01T00:00:00.000000000",
          "2023-12-01T00:00:00.000000000",
          "2024-01-01T00:00:00.000000000",
          "2024-02-01T00:00:00.000000000",
          "2024-03-01T00:00:00.000000000",
          "2024-04-01T00:00:00.000000000",
          "2024-05-01T00:00:00.000000000",
          "2024-06-01T00:00:00.000000000",
          "2024-07-01T00:00:00.000000000",
          "2024-08-01T00:00:00.000000000",
          "2024-09-01T00:00:00.000000000",
          "2024-10-01T00:00:00.000000000",
          "2024-11-01T00:00:00.000000000",
          "2024-12-01T00:00:00.000000000"
         ],
         "xaxis": "x2",
         "y": {
          "bdata": "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",
          "dtype": "f8"
         },
         "yaxis": "y2"
        }
       ],
       "layout": {
        "annotations": [
         {
          "font": {
           "size": 16
          },
          "showarrow": false,
          "text": "Linear Scale",
          "x": 0.225,
          "xanchor": "center",
          "xref": "paper",
          "y": 1,
          "yanchor": "bottom",
          "yref": "paper"
         },
         {
          "font": {
           "size": 16
          },
          "showarrow": false,
          "text": "Log Scale",
          "x": 0.775,
          "xanchor": "center",
          "xref": "paper",
          "y": 1,
          "yanchor": "bottom",
          "yref": "paper"
         }
        ],
        "template": {
         "data": {
          "bar": [
           {
            "error_x": {
             "color": "#2a3f5f"
            },
            "error_y": {
             "color": "#2a3f5f"
            },
            "marker": {
             "line": {
              "color": "white",
              "width": 0.5
             },
             "pattern": {
              "fillmode": "overlay",
              "size": 10,
              "solidity": 0.2
             }
            },
            "type": "bar"
           }
          ],
          "barpolar": [
           {
            "marker": {
             "line": {
              "color": "white",
              "width": 0.5
             },
             "pattern": {
              "fillmode": "overlay",
              "size": 10,
              "solidity": 0.2
             }
            },
            "type": "barpolar"
           }
          ],
          "carpet": [
           {
            "aaxis": {
             "endlinecolor": "#2a3f5f",
             "gridcolor": "#C8D4E3",
             "linecolor": "#C8D4E3",
             "minorgridcolor": "#C8D4E3",
             "startlinecolor": "#2a3f5f"
            },
            "baxis": {
             "endlinecolor": "#2a3f5f",
             "gridcolor": "#C8D4E3",
             "linecolor": "#C8D4E3",
             "minorgridcolor": "#C8D4E3",
             "startlinecolor": "#2a3f5f"
            },
            "type": "carpet"
           }
          ],
          "choropleth": [
           {
            "colorbar": {
             "outlinewidth": 0,
             "ticks": ""
            },
            "type": "choropleth"
           }
          ],
          "contour": [
           {
            "colorbar": {
             "outlinewidth": 0,
             "ticks": ""
            },
            "colorscale": [
             [
              0,
              "#0d0887"
             ],
             [
              0.1111111111111111,
              "#46039f"
             ],
             [
              0.2222222222222222,
              "#7201a8"
             ],
             [
              0.3333333333333333,
              "#9c179e"
             ],
             [
              0.4444444444444444,
              "#bd3786"
             ],
             [
              0.5555555555555556,
              "#d8576b"
             ],
             [
              0.6666666666666666,
              "#ed7953"
             ],
             [
              0.7777777777777778,
              "#fb9f3a"
             ],
             [
              0.8888888888888888,
              "#fdca26"
             ],
             [
              1,
              "#f0f921"
             ]
            ],
            "type": "contour"
           }
          ],
          "contourcarpet": [
           {
            "colorbar": {
             "outlinewidth": 0,
             "ticks": ""
            },
            "type": "contourcarpet"
           }
          ],
          "heatmap": [
           {
            "colorbar": {
             "outlinewidth": 0,
             "ticks": ""
            },
            "colorscale": [
             [
              0,
              "#0d0887"
             ],
             [
              0.1111111111111111,
              "#46039f"
             ],
             [
              0.2222222222222222,
              "#7201a8"
             ],
             [
              0.3333333333333333,
              "#9c179e"
             ],
             [
              0.4444444444444444,
              "#bd3786"
             ],
             [
              0.5555555555555556,
              "#d8576b"
             ],
             [
              0.6666666666666666,
              "#ed7953"
             ],
             [
              0.7777777777777778,
              "#fb9f3a"
             ],
             [
              0.8888888888888888,
              "#fdca26"
             ],
             [
              1,
              "#f0f921"
             ]
            ],
            "type": "heatmap"
           }
          ],
          "histogram": [
           {
            "marker": {
             "pattern": {
              "fillmode": "overlay",
              "size": 10,
              "solidity": 0.2
             }
            },
            "type": "histogram"
           }
          ],
          "histogram2d": [
           {
            "colorbar": {
             "outlinewidth": 0,
             "ticks": ""
            },
            "colorscale": [
             [
              0,
              "#0d0887"
             ],
             [
              0.1111111111111111,
              "#46039f"
             ],
             [
              0.2222222222222222,
              "#7201a8"
             ],
             [
              0.3333333333333333,
              "#9c179e"
             ],
             [
              0.4444444444444444,
              "#bd3786"
             ],
             [
              0.5555555555555556,
              "#d8576b"
             ],
             [
              0.6666666666666666,
              "#ed7953"
             ],
             [
              0.7777777777777778,
              "#fb9f3a"
             ],
             [
              0.8888888888888888,
              "#fdca26"
             ],
             [
              1,
              "#f0f921"
             ]
            ],
            "type": "histogram2d"
           }
          ],
          "histogram2dcontour": [
           {
            "colorbar": {
             "outlinewidth": 0,
             "ticks": ""
            },
            "colorscale": [
             [
              0,
              "#0d0887"
             ],
             [
              0.1111111111111111,
              "#46039f"
             ],
             [
              0.2222222222222222,
              "#7201a8"
             ],
             [
              0.3333333333333333,
              "#9c179e"
             ],
             [
              0.4444444444444444,
              "#bd3786"
             ],
             [
              0.5555555555555556,
              "#d8576b"
             ],
             [
              0.6666666666666666,
              "#ed7953"
             ],
             [
              0.7777777777777778,
              "#fb9f3a"
             ],
             [
              0.8888888888888888,
              "#fdca26"
             ],
             [
              1,
              "#f0f921"
             ]
            ],
            "type": "histogram2dcontour"
           }
          ],
          "mesh3d": [
           {
            "colorbar": {
             "outlinewidth": 0,
             "ticks": ""
            },
            "type": "mesh3d"
           }
          ],
          "parcoords": [
           {
            "line": {
             "colorbar": {
              "outlinewidth": 0,
              "ticks": ""
             }
            },
            "type": "parcoords"
           }
          ],
          "pie": [
           {
            "automargin": true,
            "type": "pie"
           }
          ],
          "scatter": [
           {
            "fillpattern": {
             "fillmode": "overlay",
             "size": 10,
             "solidity": 0.2
            },
            "type": "scatter"
           }
          ],
          "scatter3d": [
           {
            "line": {
             "colorbar": {
              "outlinewidth": 0,
              "ticks": ""
             }
            },
            "marker": {
             "colorbar": {
              "outlinewidth": 0,
              "ticks": ""
             }
            },
            "type": "scatter3d"
           }
          ],
          "scattercarpet": [
           {
            "marker": {
             "colorbar": {
              "outlinewidth": 0,
              "ticks": ""
             }
            },
            "type": "scattercarpet"
           }
          ],
          "scattergeo": [
           {
            "marker": {
             "colorbar": {
              "outlinewidth": 0,
              "ticks": ""
             }
            },
            "type": "scattergeo"
           }
          ],
          "scattergl": [
           {
            "marker": {
             "colorbar": {
              "outlinewidth": 0,
              "ticks": ""
             }
            },
            "type": "scattergl"
           }
          ],
          "scattermap": [
           {
            "marker": {
             "colorbar": {
              "outlinewidth": 0,
              "ticks": ""
             }
            },
            "type": "scattermap"
           }
          ],
          "scattermapbox": [
           {
            "marker": {
             "colorbar": {
              "outlinewidth": 0,
              "ticks": ""
             }
            },
            "type": "scattermapbox"
           }
          ],
          "scatterpolar": [
           {
            "marker": {
             "colorbar": {
              "outlinewidth": 0,
              "ticks": ""
             }
            },
            "type": "scatterpolar"
           }
          ],
          "scatterpolargl": [
           {
            "marker": {
             "colorbar": {
              "outlinewidth": 0,
              "ticks": ""
             }
            },
            "type": "scatterpolargl"
           }
          ],
          "scatterternary": [
           {
            "marker": {
             "colorbar": {
              "outlinewidth": 0,
              "ticks": ""
             }
            },
            "type": "scatterternary"
           }
          ],
          "surface": [
           {
            "colorbar": {
             "outlinewidth": 0,
             "ticks": ""
            },
            "colorscale": [
             [
              0,
              "#0d0887"
             ],
             [
              0.1111111111111111,
              "#46039f"
             ],
             [
              0.2222222222222222,
              "#7201a8"
             ],
             [
              0.3333333333333333,
              "#9c179e"
             ],
             [
              0.4444444444444444,
              "#bd3786"
             ],
             [
              0.5555555555555556,
              "#d8576b"
             ],
             [
              0.6666666666666666,
              "#ed7953"
             ],
             [
              0.7777777777777778,
              "#fb9f3a"
             ],
             [
              0.8888888888888888,
              "#fdca26"
             ],
             [
              1,
              "#f0f921"
             ]
            ],
            "type": "surface"
           }
          ],
          "table": [
           {
            "cells": {
             "fill": {
              "color": "#EBF0F8"
             },
             "line": {
              "color": "white"
             }
            },
            "header": {
             "fill": {
              "color": "#C8D4E3"
             },
             "line": {
              "color": "white"
             }
            },
            "type": "table"
           }
          ]
         },
         "layout": {
          "annotationdefaults": {
           "arrowcolor": "#2a3f5f",
           "arrowhead": 0,
           "arrowwidth": 1
          },
          "autotypenumbers": "strict",
          "coloraxis": {
           "colorbar": {
            "outlinewidth": 0,
            "ticks": ""
           }
          },
          "colorscale": {
           "diverging": [
            [
             0,
             "#8e0152"
            ],
            [
             0.1,
             "#c51b7d"
            ],
            [
             0.2,
             "#de77ae"
            ],
            [
             0.3,
             "#f1b6da"
            ],
            [
             0.4,
             "#fde0ef"
            ],
            [
             0.5,
             "#f7f7f7"
            ],
            [
             0.6,
             "#e6f5d0"
            ],
            [
             0.7,
             "#b8e186"
            ],
            [
             0.8,
             "#7fbc41"
            ],
            [
             0.9,
             "#4d9221"
            ],
            [
             1,
             "#276419"
            ]
           ],
           "sequential": [
            [
             0,
             "#0d0887"
            ],
            [
             0.1111111111111111,
             "#46039f"
            ],
            [
             0.2222222222222222,
             "#7201a8"
            ],
            [
             0.3333333333333333,
             "#9c179e"
            ],
            [
             0.4444444444444444,
             "#bd3786"
            ],
            [
             0.5555555555555556,
             "#d8576b"
            ],
            [
             0.6666666666666666,
             "#ed7953"
            ],
            [
             0.7777777777777778,
             "#fb9f3a"
            ],
            [
             0.8888888888888888,
             "#fdca26"
            ],
            [
             1,
             "#f0f921"
            ]
           ],
           "sequentialminus": [
            [
             0,
             "#0d0887"
            ],
            [
             0.1111111111111111,
             "#46039f"
            ],
            [
             0.2222222222222222,
             "#7201a8"
            ],
            [
             0.3333333333333333,
             "#9c179e"
            ],
            [
             0.4444444444444444,
             "#bd3786"
            ],
            [
             0.5555555555555556,
             "#d8576b"
            ],
            [
             0.6666666666666666,
             "#ed7953"
            ],
            [
             0.7777777777777778,
             "#fb9f3a"
            ],
            [
             0.8888888888888888,
             "#fdca26"
            ],
            [
             1,
             "#f0f921"
            ]
           ]
          },
          "colorway": [
           "#636efa",
           "#EF553B",
           "#00cc96",
           "#ab63fa",
           "#FFA15A",
           "#19d3f3",
           "#FF6692",
           "#B6E880",
           "#FF97FF",
           "#FECB52"
          ],
          "font": {
           "color": "#2a3f5f"
          },
          "geo": {
           "bgcolor": "white",
           "lakecolor": "white",
           "landcolor": "white",
           "showlakes": true,
           "showland": true,
           "subunitcolor": "#C8D4E3"
          },
          "hoverlabel": {
           "align": "left"
          },
          "hovermode": "closest",
          "mapbox": {
           "style": "light"
          },
          "paper_bgcolor": "white",
          "plot_bgcolor": "white",
          "polar": {
           "angularaxis": {
            "gridcolor": "#EBF0F8",
            "linecolor": "#EBF0F8",
            "ticks": ""
           },
           "bgcolor": "white",
           "radialaxis": {
            "gridcolor": "#EBF0F8",
            "linecolor": "#EBF0F8",
            "ticks": ""
           }
          },
          "scene": {
           "xaxis": {
            "backgroundcolor": "white",
            "gridcolor": "#DFE8F3",
            "gridwidth": 2,
            "linecolor": "#EBF0F8",
            "showbackground": true,
            "ticks": "",
            "zerolinecolor": "#EBF0F8"
           },
           "yaxis": {
            "backgroundcolor": "white",
            "gridcolor": "#DFE8F3",
            "gridwidth": 2,
            "linecolor": "#EBF0F8",
            "showbackground": true,
            "ticks": "",
            "zerolinecolor": "#EBF0F8"
           },
           "zaxis": {
            "backgroundcolor": "white",
            "gridcolor": "#DFE8F3",
            "gridwidth": 2,
            "linecolor": "#EBF0F8",
            "showbackground": true,
            "ticks": "",
            "zerolinecolor": "#EBF0F8"
           }
          },
          "shapedefaults": {
           "line": {
            "color": "#2a3f5f"
           }
          },
          "ternary": {
           "aaxis": {
            "gridcolor": "#DFE8F3",
            "linecolor": "#A2B1C6",
            "ticks": ""
           },
           "baxis": {
            "gridcolor": "#DFE8F3",
            "linecolor": "#A2B1C6",
            "ticks": ""
           },
           "bgcolor": "white",
           "caxis": {
            "gridcolor": "#DFE8F3",
            "linecolor": "#A2B1C6",
            "ticks": ""
           }
          },
          "title": {
           "x": 0.05
          },
          "xaxis": {
           "automargin": true,
           "gridcolor": "#EBF0F8",
           "linecolor": "#EBF0F8",
           "ticks": "",
           "title": {
            "standoff": 15
           },
           "zerolinecolor": "#EBF0F8",
           "zerolinewidth": 2
          },
          "yaxis": {
           "automargin": true,
           "gridcolor": "#EBF0F8",
           "linecolor": "#EBF0F8",
           "ticks": "",
           "title": {
            "standoff": 15
           },
           "zerolinecolor": "#EBF0F8",
           "zerolinewidth": 2
          }
         }
        },
        "title": {
         "font": {
          "size": 25
         },
         "text": "Number of corrective Publications per Month",
         "x": 0.5
        },
        "xaxis": {
         "anchor": "y",
         "domain": [
          0,
          0.45
         ],
         "title": {
          "text": "Year of Publication"
         }
        },
        "xaxis2": {
         "anchor": "y2",
         "domain": [
          0.55,
          1
         ],
         "title": {
          "text": "Year of Publication"
         }
        },
        "yaxis": {
         "anchor": "x",
         "domain": [
          0,
          1
         ],
         "title": {
          "text": "# of Publications per Month"
         },
         "type": "linear"
        },
        "yaxis2": {
         "anchor": "x2",
         "domain": [
          0,
          1
         ],
         "title": {
          "text": "# of Publications per Month"
         },
         "type": "log"
        }
       }
      }
     },
     "metadata": {},
     "output_type": "display_data"
    }
   ],
   "source": [
    "df_corrective = df_complete[~df_complete[\"id\"].str.endswith(\"v1\")]\n",
    "plot_general_development(df_corrective, \"corrective\", \"M\")"
   ]
  },
  {
   "cell_type": "markdown",
   "metadata": {},
   "source": [
    "## Trend analysis for the different Categories"
   ]
  },
  {
   "cell_type": "code",
   "execution_count": 49,
   "metadata": {
    "ExecuteTime": {
     "end_time": "2024-12-29T15:25:40.456008Z",
     "start_time": "2024-12-29T15:25:40.449002Z"
    }
   },
   "outputs": [],
   "source": [
    "def plot_line_chart_by_categories(df, title):\n",
    "    \"\"\"\n",
    "    Plots line charts for the number of publications per year by category on both linear and logarithmic scales\n",
    "    \"\"\"\n",
    "    # Generate consistent color map for categories (lines for same category have same color in both plots)\n",
    "    color_map = generate_color_map(CATEGORIES)\n",
    "\n",
    "    # Create a figure with two subplots: one for linear scale, one for log scale\n",
    "    fig = make_subplots(\n",
    "        rows=1, cols=2,\n",
    "        subplot_titles=[\"Linear-Scale\", \"Log-Scale\"],\n",
    "        shared_yaxes=False\n",
    "    )\n",
    "\n",
    "    # Loop through each category and add its data as a trace to the subplots\n",
    "    for category in CATEGORIES:\n",
    "        # Filter data for the current category\n",
    "        category_data = df[df[\"categories\"] == category]\n",
    "\n",
    "        # Create a line trace for the left subplot (linear scale)\n",
    "        trace_linear = go.Scatter(\n",
    "            x=category_data[\"period\"],\n",
    "            y=category_data[\"count\"],\n",
    "            mode=\"lines+markers\",\n",
    "            name=category,\n",
    "            line=dict(color=color_map[category]),\n",
    "            legendgroup=category,  # Group legend items together\n",
    "        )\n",
    "\n",
    "        # Create a line trace for the right subplot (log scale)\n",
    "        trace_log = go.Scatter(\n",
    "            x=category_data[\"period\"],\n",
    "            y=category_data[\"count\"],\n",
    "            mode=\"lines+markers\",\n",
    "            line=dict(color=color_map[category]),\n",
    "            legendgroup=category,  # Same legend group as the linear scale trace\n",
    "            showlegend=False,  # Hide legend in the second plot to avoid duplicates\n",
    "        )\n",
    "\n",
    "        fig.add_trace(trace_linear, row=1, col=1)  # Linear scale\n",
    "        fig.add_trace(trace_log, row=1, col=2)  # Log scale\n",
    "\n",
    "    # Update layout for the figure\n",
    "    fig.update_layout(\n",
    "        title={\n",
    "            \"text\": f\"Number of {title} Publications per Year by Category\",\n",
    "            \"font\": {\"size\": TITLE_SIZE},\n",
    "            \"x\": TITLE_X_POS,\n",
    "        },\n",
    "        xaxis_title=\"Year of Publication\",  # X-axis label for left (linear) plot\n",
    "        yaxis_title=\"# of Publications per Year\",  # Y-axis label for left (linear) plot\n",
    "        xaxis2_title=\"Year of Publication\",  # X-axis label for right (log) plot\n",
    "        yaxis2_title=\"# of Publications per Year\",  # Y-axis label for right (log) plot\n",
    "        yaxis2_type=\"log\",  # Set log scale for right plot\n",
    "        legend_title=\"Categories\",  # Title for the legend\n",
    "        height=550\n",
    "    )\n",
    "    fig.show()\n",
    "\n",
    "\n",
    "def plot_heatmap_by_category(df, title):\n",
    "    \"\"\"\n",
    "    Plots a heatmap showing the number of publications per year by category\n",
    "    \"\"\"\n",
    "    # Create a pivot table to reshape the data for the heatmap\n",
    "    # Rows represent categories, columns represent periods, values are publication counts\n",
    "    pivot_counts = df.pivot(index=\"categories\", columns=\"period\", values=\"count\").fillna(0).sort_index(ascending=False)  # Sort descending for categories to be sorted alphabetically\n",
    "\n",
    "    # Define constants for visualizations\n",
    "    colorscale = \"RdBu_r\"\n",
    "\n",
    "    fig = go.Figure(\n",
    "        data=go.Heatmap(\n",
    "            z=pivot_counts.values,  # Publication counts\n",
    "            x=pivot_counts.columns,  # Years\n",
    "            y=pivot_counts.index,  # Categories\n",
    "            text=np.array(pivot_counts.values).astype(int),  # Add exact counts as text\n",
    "            texttemplate=\"%{text}\",  # Display counts inside cells\n",
    "            colorbar={\"title\": \"Count\"},  # Title for the color bar\n",
    "            colorscale=colorscale  # Color scale for the heatmap\n",
    "        )\n",
    "    )\n",
    "\n",
    "    # Update layout for heatmap\n",
    "    fig.update_layout(\n",
    "        title={\n",
    "            \"text\": f\"Number of {title} Publications per Year by Category\",\n",
    "            \"font\": {\"size\": TITLE_SIZE},\n",
    "            \"x\": TITLE_X_POS,\n",
    "        },\n",
    "        xaxis_title=\"Year of Publication\",  # X-axis label\n",
    "        yaxis_title=\"Category\",  # Y-axis label\n",
    "        height=800\n",
    "    )\n",
    "    fig.show()"
   ]
  },
  {
   "cell_type": "code",
   "execution_count": 50,
   "metadata": {
    "ExecuteTime": {
     "end_time": "2024-12-29T15:25:40.478525Z",
     "start_time": "2024-12-29T15:25:40.474443Z"
    }
   },
   "outputs": [],
   "source": [
    "def visualize_publications_by_category(df, title):\n",
    "    \"\"\"\n",
    "    Visualizes publications by category using line plots and a heatmap.\n",
    "    \"\"\"\n",
    "    df = prepare_data(df, \"Y\", True)\n",
    "\n",
    "    plot_line_chart_by_categories(df, title)\n",
    "    plot_heatmap_by_category(df, title)\n"
   ]
  },
  {
   "cell_type": "code",
   "execution_count": 51,
   "metadata": {
    "ExecuteTime": {
     "end_time": "2024-12-29T15:25:41.943610Z",
     "start_time": "2024-12-29T15:25:40.480529Z"
    }
   },
   "outputs": [
    {
     "data": {
      "application/vnd.plotly.v1+json": {
       "config": {
        "plotlyServerURL": "https://plot.ly"
       },
       "data": [
        {
         "legendgroup": "cs.ai",
         "line": {
          "color": "#636EFA"
         },
         "mode": "lines+markers",
         "name": "cs.ai",
         "type": "scatter",
         "x": {
          "bdata": "ygfLB8wHzQfOB88H0AfRB9IH0wfUB9UH1gfXB9gH2QfaB9sH3AfdB94H3wfgB+EH4gfjB+QH5QfmB+cH6Ac=",
          "dtype": "i2"
         },
         "xaxis": "x",
         "y": {
          "bdata": "DgAbABwAFAAeACEAfQBDAHgAhQClAJwAqQDBABUBfgHdARIDbwTCBgMEWQSWB/8KthCREvgc4jDMOUdVQn4=",
          "dtype": "i2"
         },
         "yaxis": "y"
        },
        {
         "legendgroup": "cs.ai",
         "line": {
          "color": "#636EFA"
         },
         "mode": "lines+markers",
         "showlegend": false,
         "type": "scatter",
         "x": {
          "bdata": "ygfLB8wHzQfOB88H0AfRB9IH0wfUB9UH1gfXB9gH2QfaB9sH3AfdB94H3wfgB+EH4gfjB+QH5QfmB+cH6Ac=",
          "dtype": "i2"
         },
         "xaxis": "x2",
         "y": {
          "bdata": "DgAbABwAFAAeACEAfQBDAHgAhQClAJwAqQDBABUBfgHdARIDbwTCBgMEWQSWB/8KthCREvgc4jDMOUdVQn4=",
          "dtype": "i2"
         },
         "yaxis": "y2"
        },
        {
         "legendgroup": "cs.cc",
         "line": {
          "color": "#EF553B"
         },
         "mode": "lines+markers",
         "name": "cs.cc",
         "type": "scatter",
         "x": {
          "bdata": "ygfLB8wHzQfOB88H0AfRB9IH0wfUB9UH1gfXB9gH2QfaB9sH3AfdB94H3wfgB+EH4gfjB+QH5QfmB+cH6Ac=",
          "dtype": "i2"
         },
         "xaxis": "x",
         "y": {
          "bdata": "CwACAAEAAgAfAEAALABEAFsAWQBPAIMApgDHAA0BZgGlAaQB4wELAhsCPwJIAnsCZALfAiUDCQMIA0UDtwM=",
          "dtype": "i2"
         },
         "yaxis": "y"
        },
        {
         "legendgroup": "cs.cc",
         "line": {
          "color": "#EF553B"
         },
         "mode": "lines+markers",
         "showlegend": false,
         "type": "scatter",
         "x": {
          "bdata": "ygfLB8wHzQfOB88H0AfRB9IH0wfUB9UH1gfXB9gH2QfaB9sH3AfdB94H3wfgB+EH4gfjB+QH5QfmB+cH6Ac=",
          "dtype": "i2"
         },
         "xaxis": "x2",
         "y": {
          "bdata": "CwACAAEAAgAfAEAALABEAFsAWQBPAIMApgDHAA0BZgGlAaQB4wELAhsCPwJIAnsCZALfAiUDCQMIA0UDtwM=",
          "dtype": "i2"
         },
         "yaxis": "y2"
        },
        {
         "legendgroup": "cs.cl",
         "line": {
          "color": "#00CC96"
         },
         "mode": "lines+markers",
         "name": "cs.cl",
         "type": "scatter",
         "x": {
          "bdata": "ygfLB8wHzQfOB88H0AfRB9IH0wfUB9UH1gfXB9gH2QfaB9sH3AfdB94H3wfgB+EH4gfjB+QH5QfmB+cH6Ac=",
          "dtype": "i2"
         },
         "xaxis": "x",
         "y": {
          "bdata": "3wDhAMoApABxADoAegBPAEIANwA2ABkANABCAEYAWwBWAH0A4QBOAS0CQAOaBl8JkQ4RFdcblB8LIxg1LE8=",
          "dtype": "i2"
         },
         "yaxis": "y"
        },
        {
         "legendgroup": "cs.cl",
         "line": {
          "color": "#00CC96"
         },
         "mode": "lines+markers",
         "showlegend": false,
         "type": "scatter",
         "x": {
          "bdata": "ygfLB8wHzQfOB88H0AfRB9IH0wfUB9UH1gfXB9gH2QfaB9sH3AfdB94H3wfgB+EH4gfjB+QH5QfmB+cH6Ac=",
          "dtype": "i2"
         },
         "xaxis": "x2",
         "y": {
          "bdata": "3wDhAMoApABxADoAegBPAEIANwA2ABkANABCAEYAWwBWAH0A4QBOAS0CQAOaBl8JkQ4RFdcblB8LIxg1LE8=",
          "dtype": "i2"
         },
         "yaxis": "y2"
        },
        {
         "legendgroup": "cs.cv",
         "line": {
          "color": "#AB63FA"
         },
         "mode": "lines+markers",
         "name": "cs.cv",
         "type": "scatter",
         "x": {
          "bdata": "zgfPB9AH0QfSB9MH1AfVB9YH1wfYB9kH2gfbB9wH3QfeB98H4AfhB+IH4wfkB+UH5gfnB+gH",
          "dtype": "i2"
         },
         "xaxis": "x",
         "y": {
          "bdata": "AwAEAA8ABQAQABkAIwAfACYAPQBVAJMAJQF8AUMCXgM+BdgILA5cFpAhUS3sOzND7EzJX9J1",
          "dtype": "i2"
         },
         "yaxis": "y"
        },
        {
         "legendgroup": "cs.cv",
         "line": {
          "color": "#AB63FA"
         },
         "mode": "lines+markers",
         "showlegend": false,
         "type": "scatter",
         "x": {
          "bdata": "zgfPB9AH0QfSB9MH1AfVB9YH1wfYB9kH2gfbB9wH3QfeB98H4AfhB+IH4wfkB+UH5gfnB+gH",
          "dtype": "i2"
         },
         "xaxis": "x2",
         "y": {
          "bdata": "AwAEAA8ABQAQABkAIwAfACYAPQBVAJMAJQF8AUMCXgM+BdgILA5cFpAhUS3sOzND7EzJX9J1",
          "dtype": "i2"
         },
         "yaxis": "y2"
        },
        {
         "legendgroup": "cs.dm",
         "line": {
          "color": "#FFA15A"
         },
         "mode": "lines+markers",
         "name": "cs.dm",
         "type": "scatter",
         "x": {
          "bdata": "zgfPB9AH0QfSB9MH1AfVB9YH1wfYB9kH2gfbB9wH3QfeB98H4AfhB+IH4wfkB+UH5gfnB+gH",
          "dtype": "i2"
         },
         "xaxis": "x",
         "y": {
          "bdata": "AwAOABUAJAAtACwAUQBXAIgA6ABCAYQB3QE2AgIDjgJuAvcC5AIhA2MD6AMKBAEEAQQzBFQE",
          "dtype": "i2"
         },
         "yaxis": "y"
        },
        {
         "legendgroup": "cs.dm",
         "line": {
          "color": "#FFA15A"
         },
         "mode": "lines+markers",
         "showlegend": false,
         "type": "scatter",
         "x": {
          "bdata": "zgfPB9AH0QfSB9MH1AfVB9YH1wfYB9kH2gfbB9wH3QfeB98H4AfhB+IH4wfkB+UH5gfnB+gH",
          "dtype": "i2"
         },
         "xaxis": "x2",
         "y": {
          "bdata": "AwAOABUAJAAtACwAUQBXAIgA6ABCAYQB3QE2AgIDjgJuAvcC5AIhA2MD6AMKBAEEAQQzBFQE",
          "dtype": "i2"
         },
         "yaxis": "y2"
        },
        {
         "legendgroup": "cs.hc",
         "line": {
          "color": "#19D3F3"
         },
         "mode": "lines+markers",
         "name": "cs.hc",
         "type": "scatter",
         "x": {
          "bdata": "zgfPB9AH0QfSB9MH1AfVB9YH1wfYB9kH2gfbB9wH3QfeB98H4AfhB+IH4wfkB+UH5gfnB+gH",
          "dtype": "i2"
         },
         "xaxis": "x",
         "y": {
          "bdata": "CAAHAAgADgALABIAGAALADAAUQBrAGQAYABNAJYA0QAMATIB+gGSApgDhQWKB3oIywmCDrsU",
          "dtype": "i2"
         },
         "yaxis": "y"
        },
        {
         "legendgroup": "cs.hc",
         "line": {
          "color": "#19D3F3"
         },
         "mode": "lines+markers",
         "showlegend": false,
         "type": "scatter",
         "x": {
          "bdata": "zgfPB9AH0QfSB9MH1AfVB9YH1wfYB9kH2gfbB9wH3QfeB98H4AfhB+IH4wfkB+UH5gfnB+gH",
          "dtype": "i2"
         },
         "xaxis": "x2",
         "y": {
          "bdata": "CAAHAAgADgALABIAGAALADAAUQBrAGQAYABNAJYA0QAMATIB+gGSApgDhQWKB3oIywmCDrsU",
          "dtype": "i2"
         },
         "yaxis": "y2"
        },
        {
         "legendgroup": "cs.lg",
         "line": {
          "color": "#FF6692"
         },
         "mode": "lines+markers",
         "name": "cs.lg",
         "type": "scatter",
         "x": {
          "bdata": "zQfOB88H0AfRB9IH0wfUB9UH1gfXB9gH2QfaB9sH3AfdB94H3wfgB+EH4gfjB+QH5QfmB+cH6Ac=",
          "dtype": "i2"
         },
         "xaxis": "x",
         "y": {
          "bdata": "AgAAAAcAAAAZAAAAJAAAABcAAAAsAAAAHgAAACcAAABDAAAATQAAAFQAAACDAAAA5gAAAE8BAADVAQAAOwUAAH8FAADLBgAAtgkAAPUNAACDFAAAAykAAFpLAAAmZQAAoWcAAClwAADygAAABZgAAA==",
          "dtype": "i4"
         },
         "yaxis": "y"
        },
        {
         "legendgroup": "cs.lg",
         "line": {
          "color": "#FF6692"
         },
         "mode": "lines+markers",
         "showlegend": false,
         "type": "scatter",
         "x": {
          "bdata": "zQfOB88H0AfRB9IH0wfUB9UH1gfXB9gH2QfaB9sH3AfdB94H3wfgB+EH4gfjB+QH5QfmB+cH6Ac=",
          "dtype": "i2"
         },
         "xaxis": "x2",
         "y": {
          "bdata": "AgAAAAcAAAAZAAAAJAAAABcAAAAsAAAAHgAAACcAAABDAAAATQAAAFQAAACDAAAA5gAAAE8BAADVAQAAOwUAAH8FAADLBgAAtgkAAPUNAACDFAAAAykAAFpLAAAmZQAAoWcAAClwAADygAAABZgAAA==",
          "dtype": "i4"
         },
         "yaxis": "y2"
        },
        {
         "legendgroup": "cs.ma",
         "line": {
          "color": "#B6E880"
         },
         "mode": "lines+markers",
         "name": "cs.ma",
         "type": "scatter",
         "x": {
          "bdata": "zgfPB9AH0QfSB9MH1AfVB9YH1wfYB9kH2gfbB9wH3QfeB98H4AfhB+IH4wfkB+UH5gfnB+gH",
          "dtype": "i2"
         },
         "xaxis": "x",
         "y": {
          "bdata": "BgAJAAUABwAUAA8AFQAeACoAIwBHAFQAXgBtAIcAjgDUAKcA6wBDAc8B2gKjA78DDgSwBF4F",
          "dtype": "i2"
         },
         "yaxis": "y"
        },
        {
         "legendgroup": "cs.ma",
         "line": {
          "color": "#B6E880"
         },
         "mode": "lines+markers",
         "showlegend": false,
         "type": "scatter",
         "x": {
          "bdata": "zgfPB9AH0QfSB9MH1AfVB9YH1wfYB9kH2gfbB9wH3QfeB98H4AfhB+IH4wfkB+UH5gfnB+gH",
          "dtype": "i2"
         },
         "xaxis": "x2",
         "y": {
          "bdata": "BgAJAAUABwAUAA8AFQAeACoAIwBHAFQAXgBtAIcAjgDUAKcA6wBDAc8B2gKjA78DDgSwBF4F",
          "dtype": "i2"
         },
         "yaxis": "y2"
        },
        {
         "legendgroup": "cs.ne",
         "line": {
          "color": "#FF97FF"
         },
         "mode": "lines+markers",
         "name": "cs.ne",
         "type": "scatter",
         "x": {
          "bdata": "zgfPB9AH0QfSB9MH1AfVB9YH1wfYB9kH2gfbB9wH3QfeB98H4AfhB+IH4wfkB+UH5gfnB+gH",
          "dtype": "i2"
         },
         "xaxis": "x",
         "y": {
          "bdata": "DwAKAAoADAAaAC0ALgA+ADAAWgB6AHcAqgCXAOoAOwELAo0CZgP/A7kExwXXBpQF6gUhBiQH",
          "dtype": "i2"
         },
         "yaxis": "y"
        },
        {
         "legendgroup": "cs.ne",
         "line": {
          "color": "#FF97FF"
         },
         "mode": "lines+markers",
         "showlegend": false,
         "type": "scatter",
         "x": {
          "bdata": "zgfPB9AH0QfSB9MH1AfVB9YH1wfYB9kH2gfbB9wH3QfeB98H4AfhB+IH4wfkB+UH5gfnB+gH",
          "dtype": "i2"
         },
         "xaxis": "x2",
         "y": {
          "bdata": "DwAKAAoADAAaAC0ALgA+ADAAWgB6AHcAqgCXAOoAOwELAo0CZgP/A7kExwXXBpQF6gUhBiQH",
          "dtype": "i2"
         },
         "yaxis": "y2"
        },
        {
         "legendgroup": "cs.ro",
         "line": {
          "color": "#FECB52"
         },
         "mode": "lines+markers",
         "name": "cs.ro",
         "type": "scatter",
         "x": {
          "bdata": "zgfQB9EH0gfTB9QH1QfWB9cH2AfZB9oH2wfcB90H3gffB+AH4QfiB+MH5AflB+YH5wfoBw==",
          "dtype": "i2"
         },
         "xaxis": "x",
         "y": {
          "bdata": "AgAIAAEABwAEABUADwAjAGEAQwBBAEcAdgCgAMoAEgFyAQwD7AQxBysLhA9dEmAUXhr9IA==",
          "dtype": "i2"
         },
         "yaxis": "y"
        },
        {
         "legendgroup": "cs.ro",
         "line": {
          "color": "#FECB52"
         },
         "mode": "lines+markers",
         "showlegend": false,
         "type": "scatter",
         "x": {
          "bdata": "zgfQB9EH0gfTB9QH1QfWB9cH2AfZB9oH2wfcB90H3gffB+AH4QfiB+MH5AflB+YH5wfoBw==",
          "dtype": "i2"
         },
         "xaxis": "x2",
         "y": {
          "bdata": "AgAIAAEABwAEABUADwAjAGEAQwBBAEcAdgCgAMoAEgFyAQwD7AQxBysLhA9dEmAUXhr9IA==",
          "dtype": "i2"
         },
         "yaxis": "y2"
        },
        {
         "legendgroup": "cs.sd",
         "line": {
          "color": "#636EFA"
         },
         "mode": "lines+markers",
         "name": "cs.sd",
         "type": "scatter",
         "x": {
          "bdata": "0AfRB9IH0wfUB9YH1wfYB9kH2gfbB9wH3QfeB98H4AfhB+IH4wfkB+UH5gfnB+gH",
          "dtype": "i2"
         },
         "xaxis": "x",
         "y": {
          "bdata": "BwADAAUAAwABAAQABgAHABMAGgAeACEAPABKAIQALQG+AUYD5ARpB6IIeQrCChcM",
          "dtype": "i2"
         },
         "yaxis": "y"
        },
        {
         "legendgroup": "cs.sd",
         "line": {
          "color": "#636EFA"
         },
         "mode": "lines+markers",
         "showlegend": false,
         "type": "scatter",
         "x": {
          "bdata": "0AfRB9IH0wfUB9YH1wfYB9kH2gfbB9wH3QfeB98H4AfhB+IH4wfkB+UH5gfnB+gH",
          "dtype": "i2"
         },
         "xaxis": "x2",
         "y": {
          "bdata": "BwADAAUAAwABAAQABgAHABMAGgAeACEAPABKAIQALQG+AUYD5ARpB6IIeQrCChcM",
          "dtype": "i2"
         },
         "yaxis": "y2"
        },
        {
         "legendgroup": "math.ds",
         "line": {
          "color": "#EF553B"
         },
         "mode": "lines+markers",
         "name": "math.ds",
         "type": "scatter",
         "x": {
          "bdata": "ygfLB8wHzQfOB88H0AfRB9IH0wfUB9UH1gfXB9gH2QfaB9sH3AfdB94H3wfgB+EH4gfjB+QH5QfmB+cH6Ac=",
          "dtype": "i2"
         },
         "xaxis": "x",
         "y": {
          "bdata": "GwAeACcAGwBJAKsArADSAAwBYwGsAfYBXALXAlUDyQNDBIkFXwZiBtkGwwfpB1cIhAj2CSoL5wpfCnIL7Qs=",
          "dtype": "i2"
         },
         "yaxis": "y"
        },
        {
         "legendgroup": "math.ds",
         "line": {
          "color": "#EF553B"
         },
         "mode": "lines+markers",
         "showlegend": false,
         "type": "scatter",
         "x": {
          "bdata": "ygfLB8wHzQfOB88H0AfRB9IH0wfUB9UH1gfXB9gH2QfaB9sH3AfdB94H3wfgB+EH4gfjB+QH5QfmB+cH6Ac=",
          "dtype": "i2"
         },
         "xaxis": "x2",
         "y": {
          "bdata": "GwAeACcAGwBJAKsArADSAAwBYwGsAfYBXALXAlUDyQNDBIkFXwZiBtkGwwfpB1cIhAj2CSoL5wpfCnIL7Qs=",
          "dtype": "i2"
         },
         "yaxis": "y2"
        },
        {
         "legendgroup": "math.oc",
         "line": {
          "color": "#00CC96"
         },
         "mode": "lines+markers",
         "name": "math.oc",
         "type": "scatter",
         "x": {
          "bdata": "ywfNB84HzwfQB9EH0gfTB9QH1QfWB9cH2AfZB9oH2wfcB90H3gffB+AH4QfiB+MH5AflB+YH5wfoBw==",
          "dtype": "i2"
         },
         "xaxis": "x",
         "y": {
          "bdata": "AgACAAcAKAAoACkAXQBYAG4AgQDSAC0BagHJAaEC1gPdBD4GPQe9CBQKjwvODT0R1hSQFK0UNha+Fw==",
          "dtype": "i2"
         },
         "yaxis": "y"
        },
        {
         "legendgroup": "math.oc",
         "line": {
          "color": "#00CC96"
         },
         "mode": "lines+markers",
         "showlegend": false,
         "type": "scatter",
         "x": {
          "bdata": "ywfNB84HzwfQB9EH0gfTB9QH1QfWB9cH2AfZB9oH2wfcB90H3gffB+AH4QfiB+MH5AflB+YH5wfoBw==",
          "dtype": "i2"
         },
         "xaxis": "x2",
         "y": {
          "bdata": "AgACAAcAKAAoACkAXQBYAG4AgQDSAC0BagHJAaEC1gPdBD4GPQe9CBQKjwvODT0R1hSQFK0UNha+Fw==",
          "dtype": "i2"
         },
         "yaxis": "y2"
        },
        {
         "legendgroup": "math.pr",
         "line": {
          "color": "#AB63FA"
         },
         "mode": "lines+markers",
         "name": "math.pr",
         "type": "scatter",
         "x": {
          "bdata": "ygfLB8wHzQfOB88H0AfRB9IH0wfUB9UH1gfXB9gH2QfaB9sH3AfdB94H3wfgB+EH4gfjB+QH5QfmB+cH6Ac=",
          "dtype": "i2"
         },
         "xaxis": "x",
         "y": {
          "bdata": "AwAEAAYAEwBfAHUAtQDQABMBeQG2ArwDyQSWBagFsQbkBx8JDgoAC0QLaQyPDKkMpw06Dn8Pfw9nD7oPFhE=",
          "dtype": "i2"
         },
         "yaxis": "y"
        },
        {
         "legendgroup": "math.pr",
         "line": {
          "color": "#AB63FA"
         },
         "mode": "lines+markers",
         "showlegend": false,
         "type": "scatter",
         "x": {
          "bdata": "ygfLB8wHzQfOB88H0AfRB9IH0wfUB9UH1gfXB9gH2QfaB9sH3AfdB94H3wfgB+EH4gfjB+QH5QfmB+cH6Ac=",
          "dtype": "i2"
         },
         "xaxis": "x2",
         "y": {
          "bdata": "AwAEAAYAEwBfAHUAtQDQABMBeQG2ArwDyQSWBagFsQbkBx8JDgoAC0QLaQyPDKkMpw06Dn8Pfw9nD7oPFhE=",
          "dtype": "i2"
         },
         "yaxis": "y2"
        },
        {
         "legendgroup": "math.qa",
         "line": {
          "color": "#FFA15A"
         },
         "mode": "lines+markers",
         "name": "math.qa",
         "type": "scatter",
         "x": {
          "bdata": "ygfLB8wHzQfOB88H0AfRB9IH0wfUB9UH1gfXB9gH2QfaB9sH3AfdB94H3wfgB+EH4gfjB+QH5QfmB+cH6Ac=",
          "dtype": "i2"
         },
         "xaxis": "x",
         "y": {
          "bdata": "EgGpAQgCSQIJAvEBEwIiAjsCOwIiAi8CQgJDAjACWgJyAmECdgKOApkCqwLdArwC1gLyAvkCyAL6AlYDeAM=",
          "dtype": "i2"
         },
         "yaxis": "y"
        },
        {
         "legendgroup": "math.qa",
         "line": {
          "color": "#FFA15A"
         },
         "mode": "lines+markers",
         "showlegend": false,
         "type": "scatter",
         "x": {
          "bdata": "ygfLB8wHzQfOB88H0AfRB9IH0wfUB9UH1gfXB9gH2QfaB9sH3AfdB94H3wfgB+EH4gfjB+QH5QfmB+cH6Ac=",
          "dtype": "i2"
         },
         "xaxis": "x2",
         "y": {
          "bdata": "EgGpAQgCSQIJAvEBEwIiAjsCOwIiAi8CQgJDAjACWgJyAmECdgKOApkCqwLdArwC1gLyAvkCyAL6AlYDeAM=",
          "dtype": "i2"
         },
         "yaxis": "y2"
        },
        {
         "legendgroup": "stat.ml",
         "line": {
          "color": "#19D3F3"
         },
         "mode": "lines+markers",
         "name": "stat.ml",
         "type": "scatter",
         "x": {
          "bdata": "0gfUB9UH1wfYB9kH2gfbB9wH3QfeB98H4AfhB+IH4wfkB+UH5gfnB+gH",
          "dtype": "i2"
         },
         "xaxis": "x",
         "y": {
          "bdata": "AQACAAEAKwBmAKMA+wCwAX8EowRPBR8HUwrUD80gzzHkMWsUehPUFIIW",
          "dtype": "i2"
         },
         "yaxis": "y"
        },
        {
         "legendgroup": "stat.ml",
         "line": {
          "color": "#19D3F3"
         },
         "mode": "lines+markers",
         "showlegend": false,
         "type": "scatter",
         "x": {
          "bdata": "0gfUB9UH1wfYB9kH2gfbB9wH3QfeB98H4AfhB+IH4wfkB+UH5gfnB+gH",
          "dtype": "i2"
         },
         "xaxis": "x2",
         "y": {
          "bdata": "AQACAAEAKwBmAKMA+wCwAX8EowRPBR8HUwrUD80gzzHkMWsUehPUFIIW",
          "dtype": "i2"
         },
         "yaxis": "y2"
        },
        {
         "legendgroup": "stat.th",
         "line": {
          "color": "#FF6692"
         },
         "mode": "lines+markers",
         "name": "stat.th",
         "type": "scatter",
         "x": {
          "bdata": "ygfNB84HzwfQB9EH0gfTB9QH1QfWB9cH2AfZB9oH2wfcB90H3gffB+AH4QfiB+MH5AflB+YH5wfoBw==",
          "dtype": "i2"
         },
         "xaxis": "x",
         "y": {
          "bdata": "AQABAAEAAgAJABEAGAAlAJ8ALwH7AUMCmwJ1ApUCUgPLA/4DTgSpBLYE9QQoBbcGigd1B54HlgdQCA==",
          "dtype": "i2"
         },
         "yaxis": "y"
        },
        {
         "legendgroup": "stat.th",
         "line": {
          "color": "#FF6692"
         },
         "mode": "lines+markers",
         "showlegend": false,
         "type": "scatter",
         "x": {
          "bdata": "ygfNB84HzwfQB9EH0gfTB9QH1QfWB9cH2AfZB9oH2wfcB90H3gffB+AH4QfiB+MH5AflB+YH5wfoBw==",
          "dtype": "i2"
         },
         "xaxis": "x2",
         "y": {
          "bdata": "AQABAAEAAgAJABEAGAAlAJ8ALwH7AUMCmwJ1ApUCUgPLA/4DTgSpBLYE9QQoBbcGigd1B54HlgdQCA==",
          "dtype": "i2"
         },
         "yaxis": "y2"
        },
        {
         "legendgroup": "q-fin.cp",
         "line": {
          "color": "#B6E880"
         },
         "mode": "lines+markers",
         "name": "q-fin.cp",
         "type": "scatter",
         "x": {
          "bdata": "zgfPB9AH0QfSB9MH1AfVB9YH1wfYB9kH2gfbB9wH3QfeB98H4AfhB+IH4wfkB+UH5gfnB+gH",
          "dtype": "i2"
         },
         "xaxis": "x",
         "y": {
          "bdata": "AwADAAIAAwACAAUABAAMABAAFgAoAGgAdgBlAGMAVwBQAGgAXAB0AIoAmgDKAOYAAQEPAWsB",
          "dtype": "i2"
         },
         "yaxis": "y"
        },
        {
         "legendgroup": "q-fin.cp",
         "line": {
          "color": "#B6E880"
         },
         "mode": "lines+markers",
         "showlegend": false,
         "type": "scatter",
         "x": {
          "bdata": "zgfPB9AH0QfSB9MH1AfVB9YH1wfYB9kH2gfbB9wH3QfeB98H4AfhB+IH4wfkB+UH5gfnB+gH",
          "dtype": "i2"
         },
         "xaxis": "x2",
         "y": {
          "bdata": "AwADAAIAAwACAAUABAAMABAAFgAoAGgAdgBlAGMAVwBQAGgAXAB0AIoAmgDKAOYAAQEPAWsB",
          "dtype": "i2"
         },
         "yaxis": "y2"
        },
        {
         "legendgroup": "q-fin.mf",
         "line": {
          "color": "#FF97FF"
         },
         "mode": "lines+markers",
         "name": "q-fin.mf",
         "type": "scatter",
         "x": {
          "bdata": "3gffB+AH4QfiB+MH5AflB+YH5wfoBw==",
          "dtype": "i2"
         },
         "xaxis": "x",
         "y": {
          "bdata": "gADGAOMAyADuACABLwEVAQABFAE5AQ==",
          "dtype": "i2"
         },
         "yaxis": "y"
        },
        {
         "legendgroup": "q-fin.mf",
         "line": {
          "color": "#FF97FF"
         },
         "mode": "lines+markers",
         "showlegend": false,
         "type": "scatter",
         "x": {
          "bdata": "3gffB+AH4QfiB+MH5AflB+YH5wfoBw==",
          "dtype": "i2"
         },
         "xaxis": "x2",
         "y": {
          "bdata": "gADGAOMAyADuACABLwEVAQABFAE5AQ==",
          "dtype": "i2"
         },
         "yaxis": "y2"
        },
        {
         "legendgroup": "q-fin.st",
         "line": {
          "color": "#FECB52"
         },
         "mode": "lines+markers",
         "name": "q-fin.st",
         "type": "scatter",
         "x": {
          "bdata": "zQfOB88H0AfRB9IH0wfUB9UH1gfXB9gH2QfaB9sH3AfdB94H3wfgB+EH4gfjB+QH5QfmB+cH6Ac=",
          "dtype": "i2"
         },
         "xaxis": "x",
         "y": {
          "bdata": "DAALABoAIwAuACgAOgBCAF0AegB1AG0AbAB/AIUAgwCSAJgAjwCVAIcAowDvAB4BBAHvACcBPwE=",
          "dtype": "i2"
         },
         "yaxis": "y"
        },
        {
         "legendgroup": "q-fin.st",
         "line": {
          "color": "#FECB52"
         },
         "mode": "lines+markers",
         "showlegend": false,
         "type": "scatter",
         "x": {
          "bdata": "zQfOB88H0AfRB9IH0wfUB9UH1gfXB9gH2QfaB9sH3AfdB94H3wfgB+EH4gfjB+QH5QfmB+cH6Ac=",
          "dtype": "i2"
         },
         "xaxis": "x2",
         "y": {
          "bdata": "DAALABoAIwAuACgAOgBCAF0AegB1AG0AbAB/AIUAgwCSAJgAjwCVAIcAowDvAB4BBAHvACcBPwE=",
          "dtype": "i2"
         },
         "yaxis": "y2"
        }
       ],
       "layout": {
        "annotations": [
         {
          "font": {
           "size": 16
          },
          "showarrow": false,
          "text": "Linear-Scale",
          "x": 0.225,
          "xanchor": "center",
          "xref": "paper",
          "y": 1,
          "yanchor": "bottom",
          "yref": "paper"
         },
         {
          "font": {
           "size": 16
          },
          "showarrow": false,
          "text": "Log-Scale",
          "x": 0.775,
          "xanchor": "center",
          "xref": "paper",
          "y": 1,
          "yanchor": "bottom",
          "yref": "paper"
         }
        ],
        "height": 550,
        "legend": {
         "title": {
          "text": "Categories"
         }
        },
        "template": {
         "data": {
          "bar": [
           {
            "error_x": {
             "color": "#2a3f5f"
            },
            "error_y": {
             "color": "#2a3f5f"
            },
            "marker": {
             "line": {
              "color": "white",
              "width": 0.5
             },
             "pattern": {
              "fillmode": "overlay",
              "size": 10,
              "solidity": 0.2
             }
            },
            "type": "bar"
           }
          ],
          "barpolar": [
           {
            "marker": {
             "line": {
              "color": "white",
              "width": 0.5
             },
             "pattern": {
              "fillmode": "overlay",
              "size": 10,
              "solidity": 0.2
             }
            },
            "type": "barpolar"
           }
          ],
          "carpet": [
           {
            "aaxis": {
             "endlinecolor": "#2a3f5f",
             "gridcolor": "#C8D4E3",
             "linecolor": "#C8D4E3",
             "minorgridcolor": "#C8D4E3",
             "startlinecolor": "#2a3f5f"
            },
            "baxis": {
             "endlinecolor": "#2a3f5f",
             "gridcolor": "#C8D4E3",
             "linecolor": "#C8D4E3",
             "minorgridcolor": "#C8D4E3",
             "startlinecolor": "#2a3f5f"
            },
            "type": "carpet"
           }
          ],
          "choropleth": [
           {
            "colorbar": {
             "outlinewidth": 0,
             "ticks": ""
            },
            "type": "choropleth"
           }
          ],
          "contour": [
           {
            "colorbar": {
             "outlinewidth": 0,
             "ticks": ""
            },
            "colorscale": [
             [
              0,
              "#0d0887"
             ],
             [
              0.1111111111111111,
              "#46039f"
             ],
             [
              0.2222222222222222,
              "#7201a8"
             ],
             [
              0.3333333333333333,
              "#9c179e"
             ],
             [
              0.4444444444444444,
              "#bd3786"
             ],
             [
              0.5555555555555556,
              "#d8576b"
             ],
             [
              0.6666666666666666,
              "#ed7953"
             ],
             [
              0.7777777777777778,
              "#fb9f3a"
             ],
             [
              0.8888888888888888,
              "#fdca26"
             ],
             [
              1,
              "#f0f921"
             ]
            ],
            "type": "contour"
           }
          ],
          "contourcarpet": [
           {
            "colorbar": {
             "outlinewidth": 0,
             "ticks": ""
            },
            "type": "contourcarpet"
           }
          ],
          "heatmap": [
           {
            "colorbar": {
             "outlinewidth": 0,
             "ticks": ""
            },
            "colorscale": [
             [
              0,
              "#0d0887"
             ],
             [
              0.1111111111111111,
              "#46039f"
             ],
             [
              0.2222222222222222,
              "#7201a8"
             ],
             [
              0.3333333333333333,
              "#9c179e"
             ],
             [
              0.4444444444444444,
              "#bd3786"
             ],
             [
              0.5555555555555556,
              "#d8576b"
             ],
             [
              0.6666666666666666,
              "#ed7953"
             ],
             [
              0.7777777777777778,
              "#fb9f3a"
             ],
             [
              0.8888888888888888,
              "#fdca26"
             ],
             [
              1,
              "#f0f921"
             ]
            ],
            "type": "heatmap"
           }
          ],
          "histogram": [
           {
            "marker": {
             "pattern": {
              "fillmode": "overlay",
              "size": 10,
              "solidity": 0.2
             }
            },
            "type": "histogram"
           }
          ],
          "histogram2d": [
           {
            "colorbar": {
             "outlinewidth": 0,
             "ticks": ""
            },
            "colorscale": [
             [
              0,
              "#0d0887"
             ],
             [
              0.1111111111111111,
              "#46039f"
             ],
             [
              0.2222222222222222,
              "#7201a8"
             ],
             [
              0.3333333333333333,
              "#9c179e"
             ],
             [
              0.4444444444444444,
              "#bd3786"
             ],
             [
              0.5555555555555556,
              "#d8576b"
             ],
             [
              0.6666666666666666,
              "#ed7953"
             ],
             [
              0.7777777777777778,
              "#fb9f3a"
             ],
             [
              0.8888888888888888,
              "#fdca26"
             ],
             [
              1,
              "#f0f921"
             ]
            ],
            "type": "histogram2d"
           }
          ],
          "histogram2dcontour": [
           {
            "colorbar": {
             "outlinewidth": 0,
             "ticks": ""
            },
            "colorscale": [
             [
              0,
              "#0d0887"
             ],
             [
              0.1111111111111111,
              "#46039f"
             ],
             [
              0.2222222222222222,
              "#7201a8"
             ],
             [
              0.3333333333333333,
              "#9c179e"
             ],
             [
              0.4444444444444444,
              "#bd3786"
             ],
             [
              0.5555555555555556,
              "#d8576b"
             ],
             [
              0.6666666666666666,
              "#ed7953"
             ],
             [
              0.7777777777777778,
              "#fb9f3a"
             ],
             [
              0.8888888888888888,
              "#fdca26"
             ],
             [
              1,
              "#f0f921"
             ]
            ],
            "type": "histogram2dcontour"
           }
          ],
          "mesh3d": [
           {
            "colorbar": {
             "outlinewidth": 0,
             "ticks": ""
            },
            "type": "mesh3d"
           }
          ],
          "parcoords": [
           {
            "line": {
             "colorbar": {
              "outlinewidth": 0,
              "ticks": ""
             }
            },
            "type": "parcoords"
           }
          ],
          "pie": [
           {
            "automargin": true,
            "type": "pie"
           }
          ],
          "scatter": [
           {
            "fillpattern": {
             "fillmode": "overlay",
             "size": 10,
             "solidity": 0.2
            },
            "type": "scatter"
           }
          ],
          "scatter3d": [
           {
            "line": {
             "colorbar": {
              "outlinewidth": 0,
              "ticks": ""
             }
            },
            "marker": {
             "colorbar": {
              "outlinewidth": 0,
              "ticks": ""
             }
            },
            "type": "scatter3d"
           }
          ],
          "scattercarpet": [
           {
            "marker": {
             "colorbar": {
              "outlinewidth": 0,
              "ticks": ""
             }
            },
            "type": "scattercarpet"
           }
          ],
          "scattergeo": [
           {
            "marker": {
             "colorbar": {
              "outlinewidth": 0,
              "ticks": ""
             }
            },
            "type": "scattergeo"
           }
          ],
          "scattergl": [
           {
            "marker": {
             "colorbar": {
              "outlinewidth": 0,
              "ticks": ""
             }
            },
            "type": "scattergl"
           }
          ],
          "scattermap": [
           {
            "marker": {
             "colorbar": {
              "outlinewidth": 0,
              "ticks": ""
             }
            },
            "type": "scattermap"
           }
          ],
          "scattermapbox": [
           {
            "marker": {
             "colorbar": {
              "outlinewidth": 0,
              "ticks": ""
             }
            },
            "type": "scattermapbox"
           }
          ],
          "scatterpolar": [
           {
            "marker": {
             "colorbar": {
              "outlinewidth": 0,
              "ticks": ""
             }
            },
            "type": "scatterpolar"
           }
          ],
          "scatterpolargl": [
           {
            "marker": {
             "colorbar": {
              "outlinewidth": 0,
              "ticks": ""
             }
            },
            "type": "scatterpolargl"
           }
          ],
          "scatterternary": [
           {
            "marker": {
             "colorbar": {
              "outlinewidth": 0,
              "ticks": ""
             }
            },
            "type": "scatterternary"
           }
          ],
          "surface": [
           {
            "colorbar": {
             "outlinewidth": 0,
             "ticks": ""
            },
            "colorscale": [
             [
              0,
              "#0d0887"
             ],
             [
              0.1111111111111111,
              "#46039f"
             ],
             [
              0.2222222222222222,
              "#7201a8"
             ],
             [
              0.3333333333333333,
              "#9c179e"
             ],
             [
              0.4444444444444444,
              "#bd3786"
             ],
             [
              0.5555555555555556,
              "#d8576b"
             ],
             [
              0.6666666666666666,
              "#ed7953"
             ],
             [
              0.7777777777777778,
              "#fb9f3a"
             ],
             [
              0.8888888888888888,
              "#fdca26"
             ],
             [
              1,
              "#f0f921"
             ]
            ],
            "type": "surface"
           }
          ],
          "table": [
           {
            "cells": {
             "fill": {
              "color": "#EBF0F8"
             },
             "line": {
              "color": "white"
             }
            },
            "header": {
             "fill": {
              "color": "#C8D4E3"
             },
             "line": {
              "color": "white"
             }
            },
            "type": "table"
           }
          ]
         },
         "layout": {
          "annotationdefaults": {
           "arrowcolor": "#2a3f5f",
           "arrowhead": 0,
           "arrowwidth": 1
          },
          "autotypenumbers": "strict",
          "coloraxis": {
           "colorbar": {
            "outlinewidth": 0,
            "ticks": ""
           }
          },
          "colorscale": {
           "diverging": [
            [
             0,
             "#8e0152"
            ],
            [
             0.1,
             "#c51b7d"
            ],
            [
             0.2,
             "#de77ae"
            ],
            [
             0.3,
             "#f1b6da"
            ],
            [
             0.4,
             "#fde0ef"
            ],
            [
             0.5,
             "#f7f7f7"
            ],
            [
             0.6,
             "#e6f5d0"
            ],
            [
             0.7,
             "#b8e186"
            ],
            [
             0.8,
             "#7fbc41"
            ],
            [
             0.9,
             "#4d9221"
            ],
            [
             1,
             "#276419"
            ]
           ],
           "sequential": [
            [
             0,
             "#0d0887"
            ],
            [
             0.1111111111111111,
             "#46039f"
            ],
            [
             0.2222222222222222,
             "#7201a8"
            ],
            [
             0.3333333333333333,
             "#9c179e"
            ],
            [
             0.4444444444444444,
             "#bd3786"
            ],
            [
             0.5555555555555556,
             "#d8576b"
            ],
            [
             0.6666666666666666,
             "#ed7953"
            ],
            [
             0.7777777777777778,
             "#fb9f3a"
            ],
            [
             0.8888888888888888,
             "#fdca26"
            ],
            [
             1,
             "#f0f921"
            ]
           ],
           "sequentialminus": [
            [
             0,
             "#0d0887"
            ],
            [
             0.1111111111111111,
             "#46039f"
            ],
            [
             0.2222222222222222,
             "#7201a8"
            ],
            [
             0.3333333333333333,
             "#9c179e"
            ],
            [
             0.4444444444444444,
             "#bd3786"
            ],
            [
             0.5555555555555556,
             "#d8576b"
            ],
            [
             0.6666666666666666,
             "#ed7953"
            ],
            [
             0.7777777777777778,
             "#fb9f3a"
            ],
            [
             0.8888888888888888,
             "#fdca26"
            ],
            [
             1,
             "#f0f921"
            ]
           ]
          },
          "colorway": [
           "#636efa",
           "#EF553B",
           "#00cc96",
           "#ab63fa",
           "#FFA15A",
           "#19d3f3",
           "#FF6692",
           "#B6E880",
           "#FF97FF",
           "#FECB52"
          ],
          "font": {
           "color": "#2a3f5f"
          },
          "geo": {
           "bgcolor": "white",
           "lakecolor": "white",
           "landcolor": "white",
           "showlakes": true,
           "showland": true,
           "subunitcolor": "#C8D4E3"
          },
          "hoverlabel": {
           "align": "left"
          },
          "hovermode": "closest",
          "mapbox": {
           "style": "light"
          },
          "paper_bgcolor": "white",
          "plot_bgcolor": "white",
          "polar": {
           "angularaxis": {
            "gridcolor": "#EBF0F8",
            "linecolor": "#EBF0F8",
            "ticks": ""
           },
           "bgcolor": "white",
           "radialaxis": {
            "gridcolor": "#EBF0F8",
            "linecolor": "#EBF0F8",
            "ticks": ""
           }
          },
          "scene": {
           "xaxis": {
            "backgroundcolor": "white",
            "gridcolor": "#DFE8F3",
            "gridwidth": 2,
            "linecolor": "#EBF0F8",
            "showbackground": true,
            "ticks": "",
            "zerolinecolor": "#EBF0F8"
           },
           "yaxis": {
            "backgroundcolor": "white",
            "gridcolor": "#DFE8F3",
            "gridwidth": 2,
            "linecolor": "#EBF0F8",
            "showbackground": true,
            "ticks": "",
            "zerolinecolor": "#EBF0F8"
           },
           "zaxis": {
            "backgroundcolor": "white",
            "gridcolor": "#DFE8F3",
            "gridwidth": 2,
            "linecolor": "#EBF0F8",
            "showbackground": true,
            "ticks": "",
            "zerolinecolor": "#EBF0F8"
           }
          },
          "shapedefaults": {
           "line": {
            "color": "#2a3f5f"
           }
          },
          "ternary": {
           "aaxis": {
            "gridcolor": "#DFE8F3",
            "linecolor": "#A2B1C6",
            "ticks": ""
           },
           "baxis": {
            "gridcolor": "#DFE8F3",
            "linecolor": "#A2B1C6",
            "ticks": ""
           },
           "bgcolor": "white",
           "caxis": {
            "gridcolor": "#DFE8F3",
            "linecolor": "#A2B1C6",
            "ticks": ""
           }
          },
          "title": {
           "x": 0.05
          },
          "xaxis": {
           "automargin": true,
           "gridcolor": "#EBF0F8",
           "linecolor": "#EBF0F8",
           "ticks": "",
           "title": {
            "standoff": 15
           },
           "zerolinecolor": "#EBF0F8",
           "zerolinewidth": 2
          },
          "yaxis": {
           "automargin": true,
           "gridcolor": "#EBF0F8",
           "linecolor": "#EBF0F8",
           "ticks": "",
           "title": {
            "standoff": 15
           },
           "zerolinecolor": "#EBF0F8",
           "zerolinewidth": 2
          }
         }
        },
        "title": {
         "font": {
          "size": 25
         },
         "text": "Number of all Publications per Year by Category",
         "x": 0.5
        },
        "xaxis": {
         "anchor": "y",
         "domain": [
          0,
          0.45
         ],
         "title": {
          "text": "Year of Publication"
         }
        },
        "xaxis2": {
         "anchor": "y2",
         "domain": [
          0.55,
          1
         ],
         "title": {
          "text": "Year of Publication"
         }
        },
        "yaxis": {
         "anchor": "x",
         "domain": [
          0,
          1
         ],
         "title": {
          "text": "# of Publications per Year"
         }
        },
        "yaxis2": {
         "anchor": "x2",
         "domain": [
          0,
          1
         ],
         "title": {
          "text": "# of Publications per Year"
         },
         "type": "log"
        }
       }
      }
     },
     "metadata": {},
     "output_type": "display_data"
    },
    {
     "data": {
      "application/vnd.plotly.v1+json": {
       "config": {
        "plotlyServerURL": "https://plot.ly"
       },
       "data": [
        {
         "colorbar": {
          "title": {
           "text": "Count"
          }
         },
         "colorscale": [
          [
           0,
           "rgb(5,48,97)"
          ],
          [
           0.1,
           "rgb(33,102,172)"
          ],
          [
           0.2,
           "rgb(67,147,195)"
          ],
          [
           0.3,
           "rgb(146,197,222)"
          ],
          [
           0.4,
           "rgb(209,229,240)"
          ],
          [
           0.5,
           "rgb(247,247,247)"
          ],
          [
           0.6,
           "rgb(253,219,199)"
          ],
          [
           0.7,
           "rgb(244,165,130)"
          ],
          [
           0.8,
           "rgb(214,96,77)"
          ],
          [
           0.9,
           "rgb(178,24,43)"
          ],
          [
           1,
           "rgb(103,0,31)"
          ]
         ],
         "text": {
          "bdata": "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",
          "dtype": "i4",
          "shape": "20, 31"
         },
         "texttemplate": "%{text}",
         "type": "heatmap",
         "x": {
          "bdata": "ygfLB8wHzQfOB88H0AfRB9IH0wfUB9UH1gfXB9gH2QfaB9sH3AfdB94H3wfgB+EH4gfjB+QH5QfmB+cH6Ac=",
          "dtype": "i2"
         },
         "y": [
          "stat.th",
          "stat.ml",
          "q-fin.st",
          "q-fin.mf",
          "q-fin.cp",
          "math.qa",
          "math.pr",
          "math.oc",
          "math.ds",
          "cs.sd",
          "cs.ro",
          "cs.ne",
          "cs.ma",
          "cs.lg",
          "cs.hc",
          "cs.dm",
          "cs.cv",
          "cs.cl",
          "cs.cc",
          "cs.ai"
         ],
         "z": {
          "bdata": "AAAAAAAA8D8AAAAAAAAAAAAAAAAAAAAAAAAAAAAA8D8AAAAAAADwPwAAAAAAAABAAAAAAAAAIkAAAAAAAAAxQAAAAAAAADhAAAAAAACAQkAAAAAAAOBjQAAAAAAA8HJAAAAAAACwf0AAAAAAABiCQAAAAAAA2IRAAAAAAACog0AAAAAAAKiEQAAAAAAAkIpAAAAAAABYjkAAAAAAAPCPQAAAAAAAOJFAAAAAAACkkkAAAAAAANiSQAAAAAAA1JNAAAAAAACglEAAAAAAANyaQAAAAAAAKJ5AAAAAAADUnUAAAAAAAHieQAAAAAAAWJ5AAAAAAACgoEAAAAAAAAAAAAAAAAAAAAAAAAAAAAAAAAAAAAAAAAAAAAAAAAAAAAAAAAAAAAAAAAAAAAAAAAAAAAAAAAAAAAAAAAAAAAAA8D8AAAAAAAAAAAAAAAAAAABAAAAAAAAA8D8AAAAAAAAAAAAAAAAAgEVAAAAAAACAWUAAAAAAAGBkQAAAAAAAYG9AAAAAAAAAe0AAAAAAAPyRQAAAAAAAjJJAAAAAAAA8lUAAAAAAAHycQAAAAAAApqRAAAAAAACor0AAAAAAgGbAQAAAAACA58hAAAAAAADyyEAAAAAAAGu0QAAAAAAAerNAAAAAAADUtEAAAAAAAIK2QAAAAAAAAAAAAAAAAAAAAAAAAAAAAAAAAAAAAAAAAChAAAAAAAAAJkAAAAAAAAA6QAAAAAAAgEFAAAAAAAAAR0AAAAAAAABEQAAAAAAAAE1AAAAAAACAUEAAAAAAAEBXQAAAAAAAgF5AAAAAAABAXUAAAAAAAEBbQAAAAAAAAFtAAAAAAADAX0AAAAAAAKBgQAAAAAAAYGBAAAAAAABAYkAAAAAAAABjQAAAAAAA4GFAAAAAAACgYkAAAAAAAOBgQAAAAAAAYGRAAAAAAADgbUAAAAAAAOBxQAAAAAAAQHBAAAAAAADgbUAAAAAAAHByQAAAAAAA8HNAAAAAAAAAAAAAAAAAAAAAAAAAAAAAAAAAAAAAAAAAAAAAAAAAAAAAAAAAAAAAAAAAAAAAAAAAAAAAAAAAAAAAAAAAAAAAAAAAAAAAAAAAAAAAAAAAAAAAAAAAAAAAAAAAAAAAAAAAAAAAAAAAAAAAAAAAAAAAAAAAAAAAAAAAAAAAAAAAAAAAAAAAAAAAAAAAAAAAAAAAAAAAAAAAAAAAAAAAAAAAAGBAAAAAAADAaEAAAAAAAGBsQAAAAAAAAGlAAAAAAADAbUAAAAAAAAByQAAAAAAA8HJAAAAAAABQcUAAAAAAAABwQAAAAAAAQHFAAAAAAACQc0AAAAAAAAAAAAAAAAAAAAAAAAAAAAAAAAAAAAAAAAAAAAAAAAAAAAhAAAAAAAAACEAAAAAAAAAAQAAAAAAAAAhAAAAAAAAAAEAAAAAAAAAUQAAAAAAAABBAAAAAAAAAKEAAAAAAAAAwQAAAAAAAADZAAAAAAAAAREAAAAAAAABaQAAAAAAAgF1AAAAAAABAWUAAAAAAAMBYQAAAAAAAwFVAAAAAAAAAVEAAAAAAAABaQAAAAAAAAFdAAAAAAAAAXUAAAAAAAEBhQAAAAAAAQGNAAAAAAABAaUAAAAAAAMBsQAAAAAAAEHBAAAAAAADwcEAAAAAAALB2QAAAAAAAIHFAAAAAAACQekAAAAAAAECAQAAAAAAASIJAAAAAAABIgEAAAAAAABB/QAAAAAAAmIBAAAAAAAAQgUAAAAAAANiBQAAAAAAA2IFAAAAAAAAQgUAAAAAAAHiBQAAAAAAAEIJAAAAAAAAYgkAAAAAAAICBQAAAAAAA0IJAAAAAAACQg0AAAAAAAAiDQAAAAAAAsINAAAAAAABwhEAAAAAAAMiEQAAAAAAAWIVAAAAAAADohkAAAAAAAOCFQAAAAAAAsIZAAAAAAACQh0AAAAAAAMiHQAAAAAAAQIZAAAAAAADQh0AAAAAAALCKQAAAAAAAwItAAAAAAAAACEAAAAAAAAAQQAAAAAAAABhAAAAAAAAAM0AAAAAAAMBXQAAAAAAAQF1AAAAAAACgZkAAAAAAAABqQAAAAAAAMHFAAAAAAACQd0AAAAAAALCFQAAAAAAA4I1AAAAAAAAkk0AAAAAAAFiWQAAAAAAAoJZAAAAAAADEmkAAAAAAAJCfQAAAAAAAPqJAAAAAAAAcpEAAAAAAAACmQAAAAAAAiKZAAAAAAADSqEAAAAAAAB6pQAAAAAAAUqlAAAAAAABOq0AAAAAAAHSsQAAAAAAA/q5AAAAAAAD+rkAAAAAAAM6uQAAAAAAAdK9AAAAAAAAWsUAAAAAAAAAAAAAAAAAAAABAAAAAAAAAAAAAAAAAAAAAQAAAAAAAABxAAAAAAAAAREAAAAAAAABEQAAAAAAAgERAAAAAAABAV0AAAAAAAABWQAAAAAAAgFtAAAAAAAAgYEAAAAAAAEBqQAAAAAAA0HJAAAAAAACgdkAAAAAAAJB8QAAAAAAACIVAAAAAAACwjkAAAAAAAHSTQAAAAAAA+JhAAAAAAAD0nEAAAAAAAHqhQAAAAAAAKKRAAAAAAAAep0AAAAAAAJyrQAAAAAAAPbFAAAAAAADWtEAAAAAAAJC0QAAAAAAArbRAAAAAAAA2tkAAAAAAAL63QAAAAAAAADtAAAAAAAAAPkAAAAAAAIBDQAAAAAAAADtAAAAAAABAUkAAAAAAAGBlQAAAAAAAgGVAAAAAAABAakAAAAAAAMBwQAAAAAAAMHZAAAAAAADAekAAAAAAAGB/QAAAAAAA4IJAAAAAAAC4hkAAAAAAAKiKQAAAAAAASI5AAAAAAAAMkUAAAAAAACSWQAAAAAAAfJlAAAAAAACImUAAAAAAAGSbQAAAAAAADJ9AAAAAAACkn0AAAAAAAK6gQAAAAAAACKFAAAAAAADso0AAAAAAAFSmQAAAAAAAzqVAAAAAAAC+pEAAAAAAAOSmQAAAAAAA2qdAAAAAAAAAAAAAAAAAAAAAAAAAAAAAAAAAAAAAAAAAAAAAAAAAAAAAAAAAAAAAAAAAAAAAAAAAHEAAAAAAAAAIQAAAAAAAABRAAAAAAAAACEAAAAAAAADwPwAAAAAAAAAAAAAAAAAAEEAAAAAAAAAYQAAAAAAAABxAAAAAAAAAM0AAAAAAAAA6QAAAAAAAAD5AAAAAAACAQEAAAAAAAABOQAAAAAAAgFJAAAAAAACAYEAAAAAAANByQAAAAAAA4HtAAAAAAAAwikAAAAAAAJCTQAAAAAAApJ1AAAAAAABEoUAAAAAAAPKkQAAAAAAAhKVAAAAAAAAuqEAAAAAAAAAAAAAAAAAAAAAAAAAAAAAAAAAAAAAAAAAAAAAAAAAAAABAAAAAAAAAAAAAAAAAAAAgQAAAAAAAAPA/AAAAAAAAHEAAAAAAAAAQQAAAAAAAADVAAAAAAAAALkAAAAAAAIBBQAAAAAAAQFhAAAAAAADAUEAAAAAAAEBQQAAAAAAAwFFAAAAAAACAXUAAAAAAAABkQAAAAAAAQGlAAAAAAAAgcUAAAAAAACB3QAAAAAAAYIhAAAAAAACwk0AAAAAAAMScQAAAAAAAVqZAAAAAAAAIr0AAAAAAAF2yQAAAAAAAYLRAAAAAAABeukAAAAAAgH7AQAAAAAAAAAAAAAAAAAAAAAAAAAAAAAAAAAAAAAAAAAAAAAAAAAAALkAAAAAAAAAkQAAAAAAAACRAAAAAAAAAKEAAAAAAAAA6QAAAAAAAgEZAAAAAAAAAR0AAAAAAAABPQAAAAAAAAEhAAAAAAACAVkAAAAAAAIBeQAAAAAAAwF1AAAAAAABAZUAAAAAAAOBiQAAAAAAAQG1AAAAAAACwc0AAAAAAAFiAQAAAAAAAaIRAAAAAAAAwi0AAAAAAAPiPQAAAAAAA5JJAAAAAAAAcl0AAAAAAAFybQAAAAAAAUJZAAAAAAACol0AAAAAAAISYQAAAAAAAkJxAAAAAAAAAAAAAAAAAAAAAAAAAAAAAAAAAAAAAAAAAAAAAAAAAAAAYQAAAAAAAACJAAAAAAAAAFEAAAAAAAAAcQAAAAAAAADRAAAAAAAAALkAAAAAAAAA1QAAAAAAAAD5AAAAAAAAARUAAAAAAAIBBQAAAAAAAwFFAAAAAAAAAVUAAAAAAAIBXQAAAAAAAQFtAAAAAAADgYEAAAAAAAMBhQAAAAAAAgGpAAAAAAADgZEAAAAAAAGBtQAAAAAAAMHRAAAAAAADwfEAAAAAAANCGQAAAAAAAGI1AAAAAAAD4jUAAAAAAADiQQAAAAAAAwJJAAAAAAAB4lUAAAAAAAAAAAAAAAAAAAAAAAAAAAAAAAAAAAAAAAAAAQAAAAAAAABxAAAAAAAAAOUAAAAAAAABCQAAAAAAAADdAAAAAAAAARkAAAAAAAAA+QAAAAAAAgENAAAAAAADAUEAAAAAAAEBTQAAAAAAAAFVAAAAAAABgYEAAAAAAAMBsQAAAAAAA8HRAAAAAAABQfUAAAAAAAOyUQAAAAAAA/JVAAAAAAAAsm0AAAAAAAGyjQAAAAAAA6qtAAAAAAACDtEAAAAAAgIHEQAAAAACA1tJAAAAAAIBJ2UAAAAAAQOjZQAAAAABACtxAAAAAAEAe4EAAAAAAoADjQAAAAAAAAAAAAAAAAAAAAAAAAAAAAAAAAAAAAAAAAAAAAAAAAAAAIEAAAAAAAAAcQAAAAAAAACBAAAAAAAAALEAAAAAAAAAmQAAAAAAAADJAAAAAAAAAOEAAAAAAAAAmQAAAAAAAAEhAAAAAAABAVEAAAAAAAMBaQAAAAAAAAFlAAAAAAAAAWEAAAAAAAEBTQAAAAAAAwGJAAAAAAAAgakAAAAAAAMBwQAAAAAAAIHNAAAAAAACgf0AAAAAAAJCEQAAAAAAAwIxAAAAAAAAUlkAAAAAAACieQAAAAAAA9KBAAAAAAACWo0AAAAAAAAStQAAAAAAAu7RAAAAAAAAAAAAAAAAAAAAAAAAAAAAAAAAAAAAAAAAAAAAAAAAAAAAIQAAAAAAAACxAAAAAAAAANUAAAAAAAABCQAAAAAAAgEZAAAAAAAAARkAAAAAAAEBUQAAAAAAAwFVAAAAAAAAAYUAAAAAAAABtQAAAAAAAIHRAAAAAAABAeEAAAAAAANB9QAAAAAAAsIFAAAAAAAAQiEAAAAAAAHCEQAAAAAAAcINAAAAAAAC4h0AAAAAAACCHQAAAAAAACIlAAAAAAAAYi0AAAAAAAECPQAAAAAAAKJBAAAAAAAAEkEAAAAAAAASQQAAAAAAAzJBAAAAAAABQkUAAAAAAAAAAAAAAAAAAAAAAAAAAAAAAAAAAAAAAAAAAAAAAAAAAAAhAAAAAAAAAEEAAAAAAAAAuQAAAAAAAABRAAAAAAAAAMEAAAAAAAAA5QAAAAAAAgEFAAAAAAAAAP0AAAAAAAABDQAAAAAAAgE5AAAAAAABAVUAAAAAAAGBiQAAAAAAAUHJAAAAAAADAd0AAAAAAABiCQAAAAAAA8IpAAAAAAAD4lEAAAAAAALChQAAAAAAAWKxAAAAAAABctkAAAAAAAMjAQAAAAACAqMZAAAAAAAD2zUAAAAAAwMzQQAAAAAAAO9NAAAAAAEDy10AAAAAAgHTdQAAAAAAA4GtAAAAAAAAgbEAAAAAAAEBpQAAAAAAAgGRAAAAAAABAXEAAAAAAAABNQAAAAAAAgF5AAAAAAADAU0AAAAAAAIBQQAAAAAAAgEtAAAAAAAAAS0AAAAAAAAA5QAAAAAAAAEpAAAAAAACAUEAAAAAAAIBRQAAAAAAAwFZAAAAAAACAVUAAAAAAAEBfQAAAAAAAIGxAAAAAAADgdEAAAAAAAGiBQAAAAAAAAIpAAAAAAABomkAAAAAAAL6iQAAAAAAAIq1AAAAAAAARtUAAAAAAANe7QAAAAAAAlL9AAAAAAICFwUAAAAAAAIzKQAAAAAAAy9NAAAAAAAAAJkAAAAAAAAAAQAAAAAAAAPA/AAAAAAAAAEAAAAAAAAA/QAAAAAAAAFBAAAAAAAAARkAAAAAAAABRQAAAAAAAwFZAAAAAAABAVkAAAAAAAMBTQAAAAAAAYGBAAAAAAADAZEAAAAAAAOBoQAAAAAAA0HBAAAAAAABgdkAAAAAAAFB6QAAAAAAAQHpAAAAAAAAwfkAAAAAAAFiAQAAAAAAA2IBAAAAAAAD4gUAAAAAAAECCQAAAAAAA2INAAAAAAAAgg0AAAAAAAPiGQAAAAAAAKIlAAAAAAABIiEAAAAAAAECIQAAAAAAAKIpAAAAAAAC4jUAAAAAAAAAsQAAAAAAAADtAAAAAAAAAPEAAAAAAAAA0QAAAAAAAAD5AAAAAAACAQEAAAAAAAEBfQAAAAAAAwFBAAAAAAAAAXkAAAAAAAKBgQAAAAAAAoGRAAAAAAACAY0AAAAAAACBlQAAAAAAAIGhAAAAAAABQcUAAAAAAAOB3QAAAAAAA0H1AAAAAAACQiEAAAAAAALyRQAAAAAAACJtAAAAAAAAMkEAAAAAAAGSRQAAAAAAAWJ5AAAAAAAD+pUAAAAAAALawQAAAAAAAkbJAAAAAAAD4vEAAAAAAAHHIQAAAAAAA5sxAAAAAAMBR1UAAAAAAgJDfQA==",
          "dtype": "f8",
          "shape": "20, 31"
         }
        }
       ],
       "layout": {
        "height": 800,
        "template": {
         "data": {
          "bar": [
           {
            "error_x": {
             "color": "#2a3f5f"
            },
            "error_y": {
             "color": "#2a3f5f"
            },
            "marker": {
             "line": {
              "color": "white",
              "width": 0.5
             },
             "pattern": {
              "fillmode": "overlay",
              "size": 10,
              "solidity": 0.2
             }
            },
            "type": "bar"
           }
          ],
          "barpolar": [
           {
            "marker": {
             "line": {
              "color": "white",
              "width": 0.5
             },
             "pattern": {
              "fillmode": "overlay",
              "size": 10,
              "solidity": 0.2
             }
            },
            "type": "barpolar"
           }
          ],
          "carpet": [
           {
            "aaxis": {
             "endlinecolor": "#2a3f5f",
             "gridcolor": "#C8D4E3",
             "linecolor": "#C8D4E3",
             "minorgridcolor": "#C8D4E3",
             "startlinecolor": "#2a3f5f"
            },
            "baxis": {
             "endlinecolor": "#2a3f5f",
             "gridcolor": "#C8D4E3",
             "linecolor": "#C8D4E3",
             "minorgridcolor": "#C8D4E3",
             "startlinecolor": "#2a3f5f"
            },
            "type": "carpet"
           }
          ],
          "choropleth": [
           {
            "colorbar": {
             "outlinewidth": 0,
             "ticks": ""
            },
            "type": "choropleth"
           }
          ],
          "contour": [
           {
            "colorbar": {
             "outlinewidth": 0,
             "ticks": ""
            },
            "colorscale": [
             [
              0,
              "#0d0887"
             ],
             [
              0.1111111111111111,
              "#46039f"
             ],
             [
              0.2222222222222222,
              "#7201a8"
             ],
             [
              0.3333333333333333,
              "#9c179e"
             ],
             [
              0.4444444444444444,
              "#bd3786"
             ],
             [
              0.5555555555555556,
              "#d8576b"
             ],
             [
              0.6666666666666666,
              "#ed7953"
             ],
             [
              0.7777777777777778,
              "#fb9f3a"
             ],
             [
              0.8888888888888888,
              "#fdca26"
             ],
             [
              1,
              "#f0f921"
             ]
            ],
            "type": "contour"
           }
          ],
          "contourcarpet": [
           {
            "colorbar": {
             "outlinewidth": 0,
             "ticks": ""
            },
            "type": "contourcarpet"
           }
          ],
          "heatmap": [
           {
            "colorbar": {
             "outlinewidth": 0,
             "ticks": ""
            },
            "colorscale": [
             [
              0,
              "#0d0887"
             ],
             [
              0.1111111111111111,
              "#46039f"
             ],
             [
              0.2222222222222222,
              "#7201a8"
             ],
             [
              0.3333333333333333,
              "#9c179e"
             ],
             [
              0.4444444444444444,
              "#bd3786"
             ],
             [
              0.5555555555555556,
              "#d8576b"
             ],
             [
              0.6666666666666666,
              "#ed7953"
             ],
             [
              0.7777777777777778,
              "#fb9f3a"
             ],
             [
              0.8888888888888888,
              "#fdca26"
             ],
             [
              1,
              "#f0f921"
             ]
            ],
            "type": "heatmap"
           }
          ],
          "histogram": [
           {
            "marker": {
             "pattern": {
              "fillmode": "overlay",
              "size": 10,
              "solidity": 0.2
             }
            },
            "type": "histogram"
           }
          ],
          "histogram2d": [
           {
            "colorbar": {
             "outlinewidth": 0,
             "ticks": ""
            },
            "colorscale": [
             [
              0,
              "#0d0887"
             ],
             [
              0.1111111111111111,
              "#46039f"
             ],
             [
              0.2222222222222222,
              "#7201a8"
             ],
             [
              0.3333333333333333,
              "#9c179e"
             ],
             [
              0.4444444444444444,
              "#bd3786"
             ],
             [
              0.5555555555555556,
              "#d8576b"
             ],
             [
              0.6666666666666666,
              "#ed7953"
             ],
             [
              0.7777777777777778,
              "#fb9f3a"
             ],
             [
              0.8888888888888888,
              "#fdca26"
             ],
             [
              1,
              "#f0f921"
             ]
            ],
            "type": "histogram2d"
           }
          ],
          "histogram2dcontour": [
           {
            "colorbar": {
             "outlinewidth": 0,
             "ticks": ""
            },
            "colorscale": [
             [
              0,
              "#0d0887"
             ],
             [
              0.1111111111111111,
              "#46039f"
             ],
             [
              0.2222222222222222,
              "#7201a8"
             ],
             [
              0.3333333333333333,
              "#9c179e"
             ],
             [
              0.4444444444444444,
              "#bd3786"
             ],
             [
              0.5555555555555556,
              "#d8576b"
             ],
             [
              0.6666666666666666,
              "#ed7953"
             ],
             [
              0.7777777777777778,
              "#fb9f3a"
             ],
             [
              0.8888888888888888,
              "#fdca26"
             ],
             [
              1,
              "#f0f921"
             ]
            ],
            "type": "histogram2dcontour"
           }
          ],
          "mesh3d": [
           {
            "colorbar": {
             "outlinewidth": 0,
             "ticks": ""
            },
            "type": "mesh3d"
           }
          ],
          "parcoords": [
           {
            "line": {
             "colorbar": {
              "outlinewidth": 0,
              "ticks": ""
             }
            },
            "type": "parcoords"
           }
          ],
          "pie": [
           {
            "automargin": true,
            "type": "pie"
           }
          ],
          "scatter": [
           {
            "fillpattern": {
             "fillmode": "overlay",
             "size": 10,
             "solidity": 0.2
            },
            "type": "scatter"
           }
          ],
          "scatter3d": [
           {
            "line": {
             "colorbar": {
              "outlinewidth": 0,
              "ticks": ""
             }
            },
            "marker": {
             "colorbar": {
              "outlinewidth": 0,
              "ticks": ""
             }
            },
            "type": "scatter3d"
           }
          ],
          "scattercarpet": [
           {
            "marker": {
             "colorbar": {
              "outlinewidth": 0,
              "ticks": ""
             }
            },
            "type": "scattercarpet"
           }
          ],
          "scattergeo": [
           {
            "marker": {
             "colorbar": {
              "outlinewidth": 0,
              "ticks": ""
             }
            },
            "type": "scattergeo"
           }
          ],
          "scattergl": [
           {
            "marker": {
             "colorbar": {
              "outlinewidth": 0,
              "ticks": ""
             }
            },
            "type": "scattergl"
           }
          ],
          "scattermap": [
           {
            "marker": {
             "colorbar": {
              "outlinewidth": 0,
              "ticks": ""
             }
            },
            "type": "scattermap"
           }
          ],
          "scattermapbox": [
           {
            "marker": {
             "colorbar": {
              "outlinewidth": 0,
              "ticks": ""
             }
            },
            "type": "scattermapbox"
           }
          ],
          "scatterpolar": [
           {
            "marker": {
             "colorbar": {
              "outlinewidth": 0,
              "ticks": ""
             }
            },
            "type": "scatterpolar"
           }
          ],
          "scatterpolargl": [
           {
            "marker": {
             "colorbar": {
              "outlinewidth": 0,
              "ticks": ""
             }
            },
            "type": "scatterpolargl"
           }
          ],
          "scatterternary": [
           {
            "marker": {
             "colorbar": {
              "outlinewidth": 0,
              "ticks": ""
             }
            },
            "type": "scatterternary"
           }
          ],
          "surface": [
           {
            "colorbar": {
             "outlinewidth": 0,
             "ticks": ""
            },
            "colorscale": [
             [
              0,
              "#0d0887"
             ],
             [
              0.1111111111111111,
              "#46039f"
             ],
             [
              0.2222222222222222,
              "#7201a8"
             ],
             [
              0.3333333333333333,
              "#9c179e"
             ],
             [
              0.4444444444444444,
              "#bd3786"
             ],
             [
              0.5555555555555556,
              "#d8576b"
             ],
             [
              0.6666666666666666,
              "#ed7953"
             ],
             [
              0.7777777777777778,
              "#fb9f3a"
             ],
             [
              0.8888888888888888,
              "#fdca26"
             ],
             [
              1,
              "#f0f921"
             ]
            ],
            "type": "surface"
           }
          ],
          "table": [
           {
            "cells": {
             "fill": {
              "color": "#EBF0F8"
             },
             "line": {
              "color": "white"
             }
            },
            "header": {
             "fill": {
              "color": "#C8D4E3"
             },
             "line": {
              "color": "white"
             }
            },
            "type": "table"
           }
          ]
         },
         "layout": {
          "annotationdefaults": {
           "arrowcolor": "#2a3f5f",
           "arrowhead": 0,
           "arrowwidth": 1
          },
          "autotypenumbers": "strict",
          "coloraxis": {
           "colorbar": {
            "outlinewidth": 0,
            "ticks": ""
           }
          },
          "colorscale": {
           "diverging": [
            [
             0,
             "#8e0152"
            ],
            [
             0.1,
             "#c51b7d"
            ],
            [
             0.2,
             "#de77ae"
            ],
            [
             0.3,
             "#f1b6da"
            ],
            [
             0.4,
             "#fde0ef"
            ],
            [
             0.5,
             "#f7f7f7"
            ],
            [
             0.6,
             "#e6f5d0"
            ],
            [
             0.7,
             "#b8e186"
            ],
            [
             0.8,
             "#7fbc41"
            ],
            [
             0.9,
             "#4d9221"
            ],
            [
             1,
             "#276419"
            ]
           ],
           "sequential": [
            [
             0,
             "#0d0887"
            ],
            [
             0.1111111111111111,
             "#46039f"
            ],
            [
             0.2222222222222222,
             "#7201a8"
            ],
            [
             0.3333333333333333,
             "#9c179e"
            ],
            [
             0.4444444444444444,
             "#bd3786"
            ],
            [
             0.5555555555555556,
             "#d8576b"
            ],
            [
             0.6666666666666666,
             "#ed7953"
            ],
            [
             0.7777777777777778,
             "#fb9f3a"
            ],
            [
             0.8888888888888888,
             "#fdca26"
            ],
            [
             1,
             "#f0f921"
            ]
           ],
           "sequentialminus": [
            [
             0,
             "#0d0887"
            ],
            [
             0.1111111111111111,
             "#46039f"
            ],
            [
             0.2222222222222222,
             "#7201a8"
            ],
            [
             0.3333333333333333,
             "#9c179e"
            ],
            [
             0.4444444444444444,
             "#bd3786"
            ],
            [
             0.5555555555555556,
             "#d8576b"
            ],
            [
             0.6666666666666666,
             "#ed7953"
            ],
            [
             0.7777777777777778,
             "#fb9f3a"
            ],
            [
             0.8888888888888888,
             "#fdca26"
            ],
            [
             1,
             "#f0f921"
            ]
           ]
          },
          "colorway": [
           "#636efa",
           "#EF553B",
           "#00cc96",
           "#ab63fa",
           "#FFA15A",
           "#19d3f3",
           "#FF6692",
           "#B6E880",
           "#FF97FF",
           "#FECB52"
          ],
          "font": {
           "color": "#2a3f5f"
          },
          "geo": {
           "bgcolor": "white",
           "lakecolor": "white",
           "landcolor": "white",
           "showlakes": true,
           "showland": true,
           "subunitcolor": "#C8D4E3"
          },
          "hoverlabel": {
           "align": "left"
          },
          "hovermode": "closest",
          "mapbox": {
           "style": "light"
          },
          "paper_bgcolor": "white",
          "plot_bgcolor": "white",
          "polar": {
           "angularaxis": {
            "gridcolor": "#EBF0F8",
            "linecolor": "#EBF0F8",
            "ticks": ""
           },
           "bgcolor": "white",
           "radialaxis": {
            "gridcolor": "#EBF0F8",
            "linecolor": "#EBF0F8",
            "ticks": ""
           }
          },
          "scene": {
           "xaxis": {
            "backgroundcolor": "white",
            "gridcolor": "#DFE8F3",
            "gridwidth": 2,
            "linecolor": "#EBF0F8",
            "showbackground": true,
            "ticks": "",
            "zerolinecolor": "#EBF0F8"
           },
           "yaxis": {
            "backgroundcolor": "white",
            "gridcolor": "#DFE8F3",
            "gridwidth": 2,
            "linecolor": "#EBF0F8",
            "showbackground": true,
            "ticks": "",
            "zerolinecolor": "#EBF0F8"
           },
           "zaxis": {
            "backgroundcolor": "white",
            "gridcolor": "#DFE8F3",
            "gridwidth": 2,
            "linecolor": "#EBF0F8",
            "showbackground": true,
            "ticks": "",
            "zerolinecolor": "#EBF0F8"
           }
          },
          "shapedefaults": {
           "line": {
            "color": "#2a3f5f"
           }
          },
          "ternary": {
           "aaxis": {
            "gridcolor": "#DFE8F3",
            "linecolor": "#A2B1C6",
            "ticks": ""
           },
           "baxis": {
            "gridcolor": "#DFE8F3",
            "linecolor": "#A2B1C6",
            "ticks": ""
           },
           "bgcolor": "white",
           "caxis": {
            "gridcolor": "#DFE8F3",
            "linecolor": "#A2B1C6",
            "ticks": ""
           }
          },
          "title": {
           "x": 0.05
          },
          "xaxis": {
           "automargin": true,
           "gridcolor": "#EBF0F8",
           "linecolor": "#EBF0F8",
           "ticks": "",
           "title": {
            "standoff": 15
           },
           "zerolinecolor": "#EBF0F8",
           "zerolinewidth": 2
          },
          "yaxis": {
           "automargin": true,
           "gridcolor": "#EBF0F8",
           "linecolor": "#EBF0F8",
           "ticks": "",
           "title": {
            "standoff": 15
           },
           "zerolinecolor": "#EBF0F8",
           "zerolinewidth": 2
          }
         }
        },
        "title": {
         "font": {
          "size": 25
         },
         "text": "Number of all Publications per Year by Category",
         "x": 0.5
        },
        "xaxis": {
         "title": {
          "text": "Year of Publication"
         }
        },
        "yaxis": {
         "title": {
          "text": "Category"
         }
        }
       }
      }
     },
     "metadata": {},
     "output_type": "display_data"
    }
   ],
   "source": [
    "visualize_publications_by_category(df_complete, \"all\")"
   ]
  },
  {
   "cell_type": "markdown",
   "metadata": {},
   "source": [
    "#### Analysis of the exponential Trend Contribution by Category\n",
    "\n",
    "The overall exponential growth in AI-related publications can be broken down into the handpicked categories that have been combined to create a representative overview of the field of ML and AI. When these categories are visualized individually, it becomes obvious that all categories follow a trend of increasing numbers of publications per year (e.g., Log-Scale). The Linear-Scale makes it evident that the categories Machine Learning (cs.LG), Artificial Intelligence (cs.AI), Computer Vision (cs.CV), Computation and Language (cs.CL), and Robotics (cs.RO), in particular, have been key contributors to the exponential growth in publications.\n",
    "\n",
    "In the following, we explore the factors driving this trend, starting with computer vision. Since 2011, computer vision research has experienced a paradigm shift with the advent of deep Convolutional Neural Networks. These methods dramatically improved image recognition and object detection, laying the foundation for subsequent innovations such as Generative Adversarial Networks in 2014, which further enhanced image synthesis and analysis. Such breakthroughs, augmented by large-scale datasets like ImageNet, not only accelerated academic productivity but also made real-world applications—ranging from automated quality control and surveillance to medical imaging diagnostics—both feasible and transformative [2, 15].\n",
    "\n",
    "Around 2015, robotics emerged as another key driver of exponential growth in AI publications. The introduction of self-driving car technologies by companies like Tesla and the increased accessibility of sophisticated robotic platforms, exemplified by those from Boston Dynamics, spurred rapid advances in human-robot interaction, warehouse automation, and mobility solutions. These developments have redefined urban transportation and industrial processes, demonstrating how robotics can integrate with computer vision to automate complex tasks [6].\n",
    "\n",
    "In parallel, natural language processing underwent a revolution beginning with the launch of open-source platforms such as Hugging Face in 2016. This initiative democratized access to pre-trained language models and simplified fine-tuning for specialized tasks, thereby lowering research barriers and boosting productivity. The subsequent release of advanced chatbot systems like OpenAI’s GPT-2 in 2019 further accelerated progress, simultaneously driving applications in customer support and information retrieval while prompting increased attention to ethical, safety, and fairness concerns. Initiatives like DARPA’s Explainable AI projects, also emerging in 2016, underscored the critical importance of transparency and trust in AI systems, influencing both academic inquiry and consumer product development [1, 13].\n",
    "\n",
    "Together, these sequential milestones illustrate how the exponential growth in scientific interest has not only expanded the volume of AI research but has also catalyzed societal transformation. By continuously pushing the frontiers in computer vision, robotics, and natural language processing, researchers have made technologies more accessible and practical, thereby reshaping industries, enhancing safety and efficiency, and laying the groundwork for future innovations that promise further positive societal impact.\n"
   ]
  },
  {
   "cell_type": "code",
   "execution_count": 52,
   "metadata": {
    "ExecuteTime": {
     "end_time": "2024-12-29T15:25:42.844256Z",
     "start_time": "2024-12-29T15:25:41.955044Z"
    }
   },
   "outputs": [
    {
     "data": {
      "application/vnd.plotly.v1+json": {
       "config": {
        "plotlyServerURL": "https://plot.ly"
       },
       "data": [
        {
         "legendgroup": "cs.ai",
         "line": {
          "color": "#636EFA"
         },
         "mode": "lines+markers",
         "name": "cs.ai",
         "type": "scatter",
         "x": {
          "bdata": "ygfLB8wHzQfOB88H0AfRB9IH0wfUB9UH1gfXB9gH2QfaB9sH3AfdB94H3wfgB+EH4gfjB+QH5QfmB+cH6Ac=",
          "dtype": "i2"
         },
         "xaxis": "x",
         "y": {
          "bdata": "DgAbABwAFAAcABoAagA4AF0AcACHAIEAeACYAMQAIAF7AYUCwgPRBRADvAKWBD4GvAnNCp0QyRwJIgUyjVY=",
          "dtype": "i2"
         },
         "yaxis": "y"
        },
        {
         "legendgroup": "cs.ai",
         "line": {
          "color": "#636EFA"
         },
         "mode": "lines+markers",
         "showlegend": false,
         "type": "scatter",
         "x": {
          "bdata": "ygfLB8wHzQfOB88H0AfRB9IH0wfUB9UH1gfXB9gH2QfaB9sH3AfdB94H3wfgB+EH4gfjB+QH5QfmB+cH6Ac=",
          "dtype": "i2"
         },
         "xaxis": "x2",
         "y": {
          "bdata": "DgAbABwAFAAcABoAagA4AF0AcACHAIEAeACYAMQAIAF7AYUCwgPRBRADvAKWBD4GvAnNCp0QyRwJIgUyjVY=",
          "dtype": "i2"
         },
         "yaxis": "y2"
        },
        {
         "legendgroup": "cs.cc",
         "line": {
          "color": "#EF553B"
         },
         "mode": "lines+markers",
         "name": "cs.cc",
         "type": "scatter",
         "x": {
          "bdata": "ygfLB80HzgfPB9AH0QfSB9MH1AfVB9YH1wfYB9kH2gfbB9wH3QfeB98H4AfhB+IH4wfkB+UH5gfnB+gH",
          "dtype": "i2"
         },
         "xaxis": "x",
         "y": {
          "bdata": "CwACAAEAFgAwABsAJwA5ADQALQBHAFQAbwCUANIA5gDMAAYB7gANARwBCQE5AS8BXQF9AW0BjQHEAaUC",
          "dtype": "i2"
         },
         "yaxis": "y"
        },
        {
         "legendgroup": "cs.cc",
         "line": {
          "color": "#EF553B"
         },
         "mode": "lines+markers",
         "showlegend": false,
         "type": "scatter",
         "x": {
          "bdata": "ygfLB80HzgfPB9AH0QfSB9MH1AfVB9YH1wfYB9kH2gfbB9wH3QfeB98H4AfhB+IH4wfkB+UH5gfnB+gH",
          "dtype": "i2"
         },
         "xaxis": "x2",
         "y": {
          "bdata": "CwACAAEAFgAwABsAJwA5ADQALQBHAFQAbwCUANIA5gDMAAYB7gANARwBCQE5AS8BXQF9AW0BjQHEAaUC",
          "dtype": "i2"
         },
         "yaxis": "y2"
        },
        {
         "legendgroup": "cs.cl",
         "line": {
          "color": "#00CC96"
         },
         "mode": "lines+markers",
         "name": "cs.cl",
         "type": "scatter",
         "x": {
          "bdata": "ygfLB8wHzQfOB88H0AfRB9IH0wfUB9UH1gfXB9gH2QfaB9sH3AfdB94H3wfgB+EH4gfjB+QH5QfmB+cH6Ac=",
          "dtype": "i2"
         },
         "xaxis": "x",
         "y": {
          "bdata": "uwC7ALUAlQBiADUAdwBKAD8ANAAxABYAMQAxADgATABHAF4AtwD0AJAB5gHeA8EFYAn7DD0QVhPxFJ0eUTI=",
          "dtype": "i2"
         },
         "yaxis": "y"
        },
        {
         "legendgroup": "cs.cl",
         "line": {
          "color": "#00CC96"
         },
         "mode": "lines+markers",
         "showlegend": false,
         "type": "scatter",
         "x": {
          "bdata": "ygfLB8wHzQfOB88H0AfRB9IH0wfUB9UH1gfXB9gH2QfaB9sH3AfdB94H3wfgB+EH4gfjB+QH5QfmB+cH6Ac=",
          "dtype": "i2"
         },
         "xaxis": "x2",
         "y": {
          "bdata": "uwC7ALUAlQBiADUAdwBKAD8ANAAxABYAMQAxADgATABHAF4AtwD0AJAB5gHeA8EFYAn7DD0QVhPxFJ0eUTI=",
          "dtype": "i2"
         },
         "yaxis": "y2"
        },
        {
         "legendgroup": "cs.cv",
         "line": {
          "color": "#AB63FA"
         },
         "mode": "lines+markers",
         "name": "cs.cv",
         "type": "scatter",
         "x": {
          "bdata": "zgfPB9AH0QfSB9MH1AfVB9YH1wfYB9kH2gfbB9wH3QfeB98H4AfhB+IH4wfkB+UH5gfnB+gH",
          "dtype": "i2"
         },
         "xaxis": "x",
         "y": {
          "bdata": "AwADAA8AAwAPABQAGgAYABwAMgA/AHIA9AAbAb8BaQJbAyoFPAjDDFkTOhqnIiYn7y2COMZS",
          "dtype": "i2"
         },
         "yaxis": "y"
        },
        {
         "legendgroup": "cs.cv",
         "line": {
          "color": "#AB63FA"
         },
         "mode": "lines+markers",
         "showlegend": false,
         "type": "scatter",
         "x": {
          "bdata": "zgfPB9AH0QfSB9MH1AfVB9YH1wfYB9kH2gfbB9wH3QfeB98H4AfhB+IH4wfkB+UH5gfnB+gH",
          "dtype": "i2"
         },
         "xaxis": "x2",
         "y": {
          "bdata": "AwADAA8AAwAPABQAGgAYABwAMgA/AHIA9AAbAb8BaQJbAyoFPAjDDFkTOhqnIiYn7y2COMZS",
          "dtype": "i2"
         },
         "yaxis": "y2"
        },
        {
         "legendgroup": "cs.dm",
         "line": {
          "color": "#FFA15A"
         },
         "mode": "lines+markers",
         "name": "cs.dm",
         "type": "scatter",
         "x": {
          "bdata": "zgfPB9AH0QfSB9MH1AfVB9YH1wfYB9kH2gfbB9wH3QfeB98H4AfhB+IH4wfkB+UH5gfnB+gH",
          "dtype": "i2"
         },
         "xaxis": "x",
         "y": {
          "bdata": "AwAIAA4AGgAhAB0AOAA6AFcAlwDAAOkADwE2AcIBagFXAXoBaAGhAbYBCQLwARgC/gE9AjED",
          "dtype": "i2"
         },
         "yaxis": "y"
        },
        {
         "legendgroup": "cs.dm",
         "line": {
          "color": "#FFA15A"
         },
         "mode": "lines+markers",
         "showlegend": false,
         "type": "scatter",
         "x": {
          "bdata": "zgfPB9AH0QfSB9MH1AfVB9YH1wfYB9kH2gfbB9wH3QfeB98H4AfhB+IH4wfkB+UH5gfnB+gH",
          "dtype": "i2"
         },
         "xaxis": "x2",
         "y": {
          "bdata": "AwAIAA4AGgAhAB0AOAA6AFcAlwDAAOkADwE2AcIBagFXAXoBaAGhAbYBCQLwARgC/gE9AjED",
          "dtype": "i2"
         },
         "yaxis": "y2"
        },
        {
         "legendgroup": "cs.hc",
         "line": {
          "color": "#19D3F3"
         },
         "mode": "lines+markers",
         "name": "cs.hc",
         "type": "scatter",
         "x": {
          "bdata": "zgfPB9AH0QfSB9MH1AfVB9YH1wfYB9kH2gfbB9wH3QfeB98H4AfhB+IH4wfkB+UH5gfnB+gH",
          "dtype": "i2"
         },
         "xaxis": "x",
         "y": {
          "bdata": "BwAEAAgADAAJAA4AGAAJAB8ARwBnAFUAVwBAAHsArwDmAN8AhAHwAZYC+wM0BRYG+gZPCnIQ",
          "dtype": "i2"
         },
         "yaxis": "y"
        },
        {
         "legendgroup": "cs.hc",
         "line": {
          "color": "#19D3F3"
         },
         "mode": "lines+markers",
         "showlegend": false,
         "type": "scatter",
         "x": {
          "bdata": "zgfPB9AH0QfSB9MH1AfVB9YH1wfYB9kH2gfbB9wH3QfeB98H4AfhB+IH4wfkB+UH5gfnB+gH",
          "dtype": "i2"
         },
         "xaxis": "x2",
         "y": {
          "bdata": "BwAEAAgADAAJAA4AGAAJAB8ARwBnAFUAVwBAAHsArwDmAN8AhAHwAZYC+wM0BRYG+gZPCnIQ",
          "dtype": "i2"
         },
         "yaxis": "y2"
        },
        {
         "legendgroup": "cs.lg",
         "line": {
          "color": "#FF6692"
         },
         "mode": "lines+markers",
         "name": "cs.lg",
         "type": "scatter",
         "x": {
          "bdata": "zQfOB88H0AfRB9IH0wfUB9UH1gfXB9gH2QfaB9sH3AfdB94H3wfgB+EH4gfjB+QH5QfmB+cH6Ac=",
          "dtype": "i2"
         },
         "xaxis": "x",
         "y": {
          "bdata": "AQAHABcAHQAUACkAGgAgADMAPgA+AFEAkQDIABQBxQM1A9ED2wQdBywKoRSjJ+U03zjcPuhIZmk=",
          "dtype": "i2"
         },
         "yaxis": "y"
        },
        {
         "legendgroup": "cs.lg",
         "line": {
          "color": "#FF6692"
         },
         "mode": "lines+markers",
         "showlegend": false,
         "type": "scatter",
         "x": {
          "bdata": "zQfOB88H0AfRB9IH0wfUB9UH1gfXB9gH2QfaB9sH3AfdB94H3wfgB+EH4gfjB+QH5QfmB+cH6Ac=",
          "dtype": "i2"
         },
         "xaxis": "x2",
         "y": {
          "bdata": "AQAHABcAHQAUACkAGgAgADMAPgA+AFEAkQDIABQBxQM1A9ED2wQdBywKoRSjJ+U03zjcPuhIZmk=",
          "dtype": "i2"
         },
         "yaxis": "y2"
        },
        {
         "legendgroup": "cs.ma",
         "line": {
          "color": "#B6E880"
         },
         "mode": "lines+markers",
         "name": "cs.ma",
         "type": "scatter",
         "x": {
          "bdata": "zgfPB9AH0QfSB9MH1AfVB9YH1wfYB9kH2gfbB9wH3QfeB98H4AfhB+IH4wfkB+UH5gfnB+gH",
          "dtype": "i2"
         },
         "xaxis": "x",
         "y": {
          "bdata": "BgAJAAIABwATAA4AEQAYAB8AFwAxAEQASwBGAFwAXQCVAGQAnwDNAAABtAENAh0CaQITA9ID",
          "dtype": "i2"
         },
         "yaxis": "y"
        },
        {
         "legendgroup": "cs.ma",
         "line": {
          "color": "#B6E880"
         },
         "mode": "lines+markers",
         "showlegend": false,
         "type": "scatter",
         "x": {
          "bdata": "zgfPB9AH0QfSB9MH1AfVB9YH1wfYB9kH2gfbB9wH3QfeB98H4AfhB+IH4wfkB+UH5gfnB+gH",
          "dtype": "i2"
         },
         "xaxis": "x2",
         "y": {
          "bdata": "BgAJAAIABwATAA4AEQAYAB8AFwAxAEQASwBGAFwAXQCVAGQAnwDNAAABtAENAh0CaQITA9ID",
          "dtype": "i2"
         },
         "yaxis": "y2"
        },
        {
         "legendgroup": "cs.ne",
         "line": {
          "color": "#FF97FF"
         },
         "mode": "lines+markers",
         "name": "cs.ne",
         "type": "scatter",
         "x": {
          "bdata": "zgfPB9AH0QfSB9MH1AfVB9YH1wfYB9kH2gfbB9wH3QfeB98H4AfhB+IH4wfkB+UH5gfnB+gH",
          "dtype": "i2"
         },
         "xaxis": "x",
         "y": {
          "bdata": "DgAJAAkACgAYACYAKAA3ACYASABUAF8AjAByALMA1QBJAVsByQE8AqoCVgMXBGwDjwPfA0kF",
          "dtype": "i2"
         },
         "yaxis": "y"
        },
        {
         "legendgroup": "cs.ne",
         "line": {
          "color": "#FF97FF"
         },
         "mode": "lines+markers",
         "showlegend": false,
         "type": "scatter",
         "x": {
          "bdata": "zgfPB9AH0QfSB9MH1AfVB9YH1wfYB9kH2gfbB9wH3QfeB98H4AfhB+IH4wfkB+UH5gfnB+gH",
          "dtype": "i2"
         },
         "xaxis": "x2",
         "y": {
          "bdata": "DgAJAAkACgAYACYAKAA3ACYASABUAF8AjAByALMA1QBJAVsByQE8AqoCVgMXBGwDjwPfA0kF",
          "dtype": "i2"
         },
         "yaxis": "y2"
        },
        {
         "legendgroup": "cs.ro",
         "line": {
          "color": "#FECB52"
         },
         "mode": "lines+markers",
         "name": "cs.ro",
         "type": "scatter",
         "x": {
          "bdata": "zgfQB9EH0gfTB9QH1QfWB9cH2AfZB9oH2wfcB90H3gffB+AH4QfiB+MH5AflB+YH5wfoBw==",
          "dtype": "i2"
         },
         "xaxis": "x",
         "y": {
          "bdata": "AgAHAAEABwAEABUADwAgAF0AOAA7ADsAXgB/AJMAxADjAOcB7gJCBJIG9AgqC3oMNRBJGA==",
          "dtype": "i2"
         },
         "yaxis": "y"
        },
        {
         "legendgroup": "cs.ro",
         "line": {
          "color": "#FECB52"
         },
         "mode": "lines+markers",
         "showlegend": false,
         "type": "scatter",
         "x": {
          "bdata": "zgfQB9EH0gfTB9QH1QfWB9cH2AfZB9oH2wfcB90H3gffB+AH4QfiB+MH5AflB+YH5wfoBw==",
          "dtype": "i2"
         },
         "xaxis": "x2",
         "y": {
          "bdata": "AgAHAAEABwAEABUADwAgAF0AOAA7ADsAXgB/AJMAxADjAOcB7gJCBJIG9AgqC3oMNRBJGA==",
          "dtype": "i2"
         },
         "yaxis": "y2"
        },
        {
         "legendgroup": "cs.sd",
         "line": {
          "color": "#636EFA"
         },
         "mode": "lines+markers",
         "name": "cs.sd",
         "type": "scatter",
         "x": {
          "bdata": "0AfRB9IH0wfUB9YH1wfYB9kH2gfbB9wH3QfeB98H4AfhB+IH4wfkB+UH5gfnB+gH",
          "dtype": "i2"
         },
         "xaxis": "x",
         "y": {
          "bdata": "BAADAAUAAwABAAQABQAEAA0AFAAbABsALQA4AF4AyAAHAf0B4QJpBEMFVQb+BvsI",
          "dtype": "i2"
         },
         "yaxis": "y"
        },
        {
         "legendgroup": "cs.sd",
         "line": {
          "color": "#636EFA"
         },
         "mode": "lines+markers",
         "showlegend": false,
         "type": "scatter",
         "x": {
          "bdata": "0AfRB9IH0wfUB9YH1wfYB9kH2gfbB9wH3QfeB98H4AfhB+IH4wfkB+UH5gfnB+gH",
          "dtype": "i2"
         },
         "xaxis": "x2",
         "y": {
          "bdata": "BAADAAUAAwABAAQABQAEAA0AFAAbABsALQA4AF4AyAAHAf0B4QJpBEMFVQb+BvsI",
          "dtype": "i2"
         },
         "yaxis": "y2"
        },
        {
         "legendgroup": "math.ds",
         "line": {
          "color": "#EF553B"
         },
         "mode": "lines+markers",
         "name": "math.ds",
         "type": "scatter",
         "x": {
          "bdata": "ygfLB8wHzQfOB88H0AfRB9IH0wfUB9UH1gfXB9gH2QfaB9sH3AfdB94H3wfgB+EH4gfjB+QH5QfmB+cH6Ac=",
          "dtype": "i2"
         },
         "xaxis": "x",
         "y": {
          "bdata": "GAAeACQAEwA4AH8AfAB8AMAA6gAVASoBdwGqAeABQQJFAvkCXgM4A5ED7QMeBHEEWAT5BIwFpQV/Ba8GCAk=",
          "dtype": "i2"
         },
         "yaxis": "y"
        },
        {
         "legendgroup": "math.ds",
         "line": {
          "color": "#EF553B"
         },
         "mode": "lines+markers",
         "showlegend": false,
         "type": "scatter",
         "x": {
          "bdata": "ygfLB8wHzQfOB88H0AfRB9IH0wfUB9UH1gfXB9gH2QfaB9sH3AfdB94H3wfgB+EH4gfjB+QH5QfmB+cH6Ac=",
          "dtype": "i2"
         },
         "xaxis": "x2",
         "y": {
          "bdata": "GAAeACQAEwA4AH8AfAB8AMAA6gAVASoBdwGqAeABQQJFAvkCXgM4A5ED7QMeBHEEWAT5BIwFpQV/Ba8GCAk=",
          "dtype": "i2"
         },
         "yaxis": "y2"
        },
        {
         "legendgroup": "math.oc",
         "line": {
          "color": "#00CC96"
         },
         "mode": "lines+markers",
         "name": "math.oc",
         "type": "scatter",
         "x": {
          "bdata": "ywfNB84HzwfQB9EH0gfTB9QH1QfWB9cH2AfZB9oH2wfcB90H3gffB+AH4QfiB+MH5AflB+YH5wfoBw==",
          "dtype": "i2"
         },
         "xaxis": "x",
         "y": {
          "bdata": "AgACAAQAHgAgAB8ATwA8AEwAWACcANMA8gANAX0BGgLJAnoD0wOJBGwFAgbRBk4IHwoCCrcKQgyeEQ==",
          "dtype": "i2"
         },
         "yaxis": "y"
        },
        {
         "legendgroup": "math.oc",
         "line": {
          "color": "#00CC96"
         },
         "mode": "lines+markers",
         "showlegend": false,
         "type": "scatter",
         "x": {
          "bdata": "ywfNB84HzwfQB9EH0gfTB9QH1QfWB9cH2AfZB9oH2wfcB90H3gffB+AH4QfiB+MH5AflB+YH5wfoBw==",
          "dtype": "i2"
         },
         "xaxis": "x2",
         "y": {
          "bdata": "AgACAAQAHgAgAB8ATwA8AEwAWACcANMA8gANAX0BGgLJAnoD0wOJBGwFAgbRBk4IHwoCCrcKQgyeEQ==",
          "dtype": "i2"
         },
         "yaxis": "y2"
        },
        {
         "legendgroup": "math.pr",
         "line": {
          "color": "#AB63FA"
         },
         "mode": "lines+markers",
         "name": "math.pr",
         "type": "scatter",
         "x": {
          "bdata": "ygfLB8wHzQfOB88H0AfRB9IH0wfUB9UH1gfXB9gH2QfaB9sH3AfdB94H3wfgB+EH4gfjB+QH5QfmB+cH6Ac=",
          "dtype": "i2"
         },
         "xaxis": "x",
         "y": {
          "bdata": "AgADAAUAEABJAE8AgQCCAKgA4ADIAWYC6wJGAwADjQP+AyoEsQQQBTcFlAWyBZIFygURBnsG7QZYB1EInQw=",
          "dtype": "i2"
         },
         "yaxis": "y"
        },
        {
         "legendgroup": "math.pr",
         "line": {
          "color": "#AB63FA"
         },
         "mode": "lines+markers",
         "showlegend": false,
         "type": "scatter",
         "x": {
          "bdata": "ygfLB8wHzQfOB88H0AfRB9IH0wfUB9UH1gfXB9gH2QfaB9sH3AfdB94H3wfgB+EH4gfjB+QH5QfmB+cH6Ac=",
          "dtype": "i2"
         },
         "xaxis": "x2",
         "y": {
          "bdata": "AgADAAUAEABJAE8AgQCCAKgA4ADIAWYC6wJGAwADjQP+AyoEsQQQBTcFlAWyBZIFygURBnsG7QZYB1EInQw=",
          "dtype": "i2"
         },
         "yaxis": "y2"
        },
        {
         "legendgroup": "math.qa",
         "line": {
          "color": "#FFA15A"
         },
         "mode": "lines+markers",
         "name": "math.qa",
         "type": "scatter",
         "x": {
          "bdata": "ygfLB8wHzQfOB88H0AfRB9IH0wfUB9UH1gfXB9gH2QfaB9sH3AfdB94H3wfgB+EH4gfjB+QH5QfmB+cH6Ac=",
          "dtype": "i2"
         },
         "xaxis": "x",
         "y": {
          "bdata": "wgAsAWEBfgFUASoBQQEyASUBJAEDAQMBAAETAeoAAAH0AAIBDAEVARIBEwEhARMBMAEpATYBGAFhAa0BcQI=",
          "dtype": "i2"
         },
         "yaxis": "y"
        },
        {
         "legendgroup": "math.qa",
         "line": {
          "color": "#FFA15A"
         },
         "mode": "lines+markers",
         "showlegend": false,
         "type": "scatter",
         "x": {
          "bdata": "ygfLB8wHzQfOB88H0AfRB9IH0wfUB9UH1gfXB9gH2QfaB9sH3AfdB94H3wfgB+EH4gfjB+QH5QfmB+cH6Ac=",
          "dtype": "i2"
         },
         "xaxis": "x2",
         "y": {
          "bdata": "wgAsAWEBfgFUASoBQQEyASUBJAEDAQMBAAETAeoAAAH0AAIBDAEVARIBEwEhARMBMAEpATYBGAFhAa0BcQI=",
          "dtype": "i2"
         },
         "yaxis": "y2"
        },
        {
         "legendgroup": "stat.ml",
         "line": {
          "color": "#19D3F3"
         },
         "mode": "lines+markers",
         "name": "stat.ml",
         "type": "scatter",
         "x": {
          "bdata": "0gfUB9cH2AfZB9oH2wfcB90H3gffB+AH4QfiB+MH5AflB+YH5wfoBw==",
          "dtype": "i2"
         },
         "xaxis": "x",
         "y": {
          "bdata": "AQABABYAPwBiAIgAygAfA3ICxAJwAwsFugclEM4YLRfECLoIAQr2Dg==",
          "dtype": "i2"
         },
         "yaxis": "y"
        },
        {
         "legendgroup": "stat.ml",
         "line": {
          "color": "#19D3F3"
         },
         "mode": "lines+markers",
         "showlegend": false,
         "type": "scatter",
         "x": {
          "bdata": "0gfUB9cH2AfZB9oH2wfcB90H3gffB+AH4QfiB+MH5AflB+YH5wfoBw==",
          "dtype": "i2"
         },
         "xaxis": "x2",
         "y": {
          "bdata": "AQABABYAPwBiAIgAygAfA3ICxAJwAwsFugclEM4YLRfECLoIAQr2Dg==",
          "dtype": "i2"
         },
         "yaxis": "y2"
        },
        {
         "legendgroup": "stat.th",
         "line": {
          "color": "#FF6692"
         },
         "mode": "lines+markers",
         "name": "stat.th",
         "type": "scatter",
         "x": {
          "bdata": "zQfPB9AH0QfSB9MH1AfVB9YH1wfYB9kH2gfbB9wH3QfeB98H4AfhB+IH4wfkB+UH5gfnB+gH",
          "dtype": "i2"
         },
         "xaxis": "x",
         "y": {
          "bdata": "AQACAAYACgAQABYAdQDTAG0BmwGwAYsBdAGOAfABKAIIAjQCLgImAkMC7gIHA14DZwPWA/gF",
          "dtype": "i2"
         },
         "yaxis": "y"
        },
        {
         "legendgroup": "stat.th",
         "line": {
          "color": "#FF6692"
         },
         "mode": "lines+markers",
         "showlegend": false,
         "type": "scatter",
         "x": {
          "bdata": "zQfPB9AH0QfSB9MH1AfVB9YH1wfYB9kH2gfbB9wH3QfeB98H4AfhB+IH4wfkB+UH5gfnB+gH",
          "dtype": "i2"
         },
         "xaxis": "x2",
         "y": {
          "bdata": "AQACAAYACgAQABYAdQDTAG0BmwGwAYsBdAGOAfABKAIIAjQCLgImAkMC7gIHA14DZwPWA/gF",
          "dtype": "i2"
         },
         "yaxis": "y2"
        },
        {
         "legendgroup": "q-fin.cp",
         "line": {
          "color": "#B6E880"
         },
         "mode": "lines+markers",
         "name": "q-fin.cp",
         "type": "scatter",
         "x": {
          "bdata": "zgfPB9AH0QfSB9MH1AfVB9YH1wfYB9kH2gfbB9wH3QfeB98H4AfhB+IH4wfkB+UH5gfnB+gH",
          "dtype": "i2"
         },
         "xaxis": "x",
         "y": {
          "bdata": "AgACAAEAAwABAAQABAAIAAwADwAYADsASQA0ADcAKwAwADYAOAAzAEoASQBkAJEAlwCpABcB",
          "dtype": "i2"
         },
         "yaxis": "y"
        },
        {
         "legendgroup": "q-fin.cp",
         "line": {
          "color": "#B6E880"
         },
         "mode": "lines+markers",
         "showlegend": false,
         "type": "scatter",
         "x": {
          "bdata": "zgfPB9AH0QfSB9MH1AfVB9YH1wfYB9kH2gfbB9wH3QfeB98H4AfhB+IH4wfkB+UH5gfnB+gH",
          "dtype": "i2"
         },
         "xaxis": "x2",
         "y": {
          "bdata": "AgACAAEAAwABAAQABAAIAAwADwAYADsASQA0ADcAKwAwADYAOAAzAEoASQBkAJEAlwCpABcB",
          "dtype": "i2"
         },
         "yaxis": "y2"
        },
        {
         "legendgroup": "q-fin.mf",
         "line": {
          "color": "#FF97FF"
         },
         "mode": "lines+markers",
         "name": "q-fin.mf",
         "type": "scatter",
         "x": {
          "bdata": "3gffB+AH4QfiB+MH5AflB+YH5wfoBw==",
          "dtype": "i2"
         },
         "xaxis": "x",
         "y": {
          "bdata": "LwBSAHQAVgBsAH8AegCBAH0AjgDmAA==",
          "dtype": "i2"
         },
         "yaxis": "y"
        },
        {
         "legendgroup": "q-fin.mf",
         "line": {
          "color": "#FF97FF"
         },
         "mode": "lines+markers",
         "showlegend": false,
         "type": "scatter",
         "x": {
          "bdata": "3gffB+AH4QfiB+MH5AflB+YH5wfoBw==",
          "dtype": "i2"
         },
         "xaxis": "x2",
         "y": {
          "bdata": "LwBSAHQAVgBsAH8AegCBAH0AjgDmAA==",
          "dtype": "i2"
         },
         "yaxis": "y2"
        },
        {
         "legendgroup": "q-fin.st",
         "line": {
          "color": "#FECB52"
         },
         "mode": "lines+markers",
         "name": "q-fin.st",
         "type": "scatter",
         "x": {
          "bdata": "zQfOB88H0AfRB9IH0wfUB9UH1gfXB9gH2QfaB9sH3AfdB94H3wfgB+EH4gfjB+QH5QfmB+cH6Ac=",
          "dtype": "i2"
         },
         "xaxis": "x",
         "y": {
          "bdata": "BgAJABUAGwAlACEAKAAsAD8ASgBWAE0ARgBHAGMAUwBNAGQAWgBdAFIAXgCOALIAqwCTANQA9QA=",
          "dtype": "i2"
         },
         "yaxis": "y"
        },
        {
         "legendgroup": "q-fin.st",
         "line": {
          "color": "#FECB52"
         },
         "mode": "lines+markers",
         "showlegend": false,
         "type": "scatter",
         "x": {
          "bdata": "zQfOB88H0AfRB9IH0wfUB9UH1gfXB9gH2QfaB9sH3AfdB94H3wfgB+EH4gfjB+QH5QfmB+cH6Ac=",
          "dtype": "i2"
         },
         "xaxis": "x2",
         "y": {
          "bdata": "BgAJABUAGwAlACEAKAAsAD8ASgBWAE0ARgBHAGMAUwBNAGQAWgBdAFIAXgCOALIAqwCTANQA9QA=",
          "dtype": "i2"
         },
         "yaxis": "y2"
        }
       ],
       "layout": {
        "annotations": [
         {
          "font": {
           "size": 16
          },
          "showarrow": false,
          "text": "Linear-Scale",
          "x": 0.225,
          "xanchor": "center",
          "xref": "paper",
          "y": 1,
          "yanchor": "bottom",
          "yref": "paper"
         },
         {
          "font": {
           "size": 16
          },
          "showarrow": false,
          "text": "Log-Scale",
          "x": 0.775,
          "xanchor": "center",
          "xref": "paper",
          "y": 1,
          "yanchor": "bottom",
          "yref": "paper"
         }
        ],
        "height": 550,
        "legend": {
         "title": {
          "text": "Categories"
         }
        },
        "template": {
         "data": {
          "bar": [
           {
            "error_x": {
             "color": "#2a3f5f"
            },
            "error_y": {
             "color": "#2a3f5f"
            },
            "marker": {
             "line": {
              "color": "white",
              "width": 0.5
             },
             "pattern": {
              "fillmode": "overlay",
              "size": 10,
              "solidity": 0.2
             }
            },
            "type": "bar"
           }
          ],
          "barpolar": [
           {
            "marker": {
             "line": {
              "color": "white",
              "width": 0.5
             },
             "pattern": {
              "fillmode": "overlay",
              "size": 10,
              "solidity": 0.2
             }
            },
            "type": "barpolar"
           }
          ],
          "carpet": [
           {
            "aaxis": {
             "endlinecolor": "#2a3f5f",
             "gridcolor": "#C8D4E3",
             "linecolor": "#C8D4E3",
             "minorgridcolor": "#C8D4E3",
             "startlinecolor": "#2a3f5f"
            },
            "baxis": {
             "endlinecolor": "#2a3f5f",
             "gridcolor": "#C8D4E3",
             "linecolor": "#C8D4E3",
             "minorgridcolor": "#C8D4E3",
             "startlinecolor": "#2a3f5f"
            },
            "type": "carpet"
           }
          ],
          "choropleth": [
           {
            "colorbar": {
             "outlinewidth": 0,
             "ticks": ""
            },
            "type": "choropleth"
           }
          ],
          "contour": [
           {
            "colorbar": {
             "outlinewidth": 0,
             "ticks": ""
            },
            "colorscale": [
             [
              0,
              "#0d0887"
             ],
             [
              0.1111111111111111,
              "#46039f"
             ],
             [
              0.2222222222222222,
              "#7201a8"
             ],
             [
              0.3333333333333333,
              "#9c179e"
             ],
             [
              0.4444444444444444,
              "#bd3786"
             ],
             [
              0.5555555555555556,
              "#d8576b"
             ],
             [
              0.6666666666666666,
              "#ed7953"
             ],
             [
              0.7777777777777778,
              "#fb9f3a"
             ],
             [
              0.8888888888888888,
              "#fdca26"
             ],
             [
              1,
              "#f0f921"
             ]
            ],
            "type": "contour"
           }
          ],
          "contourcarpet": [
           {
            "colorbar": {
             "outlinewidth": 0,
             "ticks": ""
            },
            "type": "contourcarpet"
           }
          ],
          "heatmap": [
           {
            "colorbar": {
             "outlinewidth": 0,
             "ticks": ""
            },
            "colorscale": [
             [
              0,
              "#0d0887"
             ],
             [
              0.1111111111111111,
              "#46039f"
             ],
             [
              0.2222222222222222,
              "#7201a8"
             ],
             [
              0.3333333333333333,
              "#9c179e"
             ],
             [
              0.4444444444444444,
              "#bd3786"
             ],
             [
              0.5555555555555556,
              "#d8576b"
             ],
             [
              0.6666666666666666,
              "#ed7953"
             ],
             [
              0.7777777777777778,
              "#fb9f3a"
             ],
             [
              0.8888888888888888,
              "#fdca26"
             ],
             [
              1,
              "#f0f921"
             ]
            ],
            "type": "heatmap"
           }
          ],
          "histogram": [
           {
            "marker": {
             "pattern": {
              "fillmode": "overlay",
              "size": 10,
              "solidity": 0.2
             }
            },
            "type": "histogram"
           }
          ],
          "histogram2d": [
           {
            "colorbar": {
             "outlinewidth": 0,
             "ticks": ""
            },
            "colorscale": [
             [
              0,
              "#0d0887"
             ],
             [
              0.1111111111111111,
              "#46039f"
             ],
             [
              0.2222222222222222,
              "#7201a8"
             ],
             [
              0.3333333333333333,
              "#9c179e"
             ],
             [
              0.4444444444444444,
              "#bd3786"
             ],
             [
              0.5555555555555556,
              "#d8576b"
             ],
             [
              0.6666666666666666,
              "#ed7953"
             ],
             [
              0.7777777777777778,
              "#fb9f3a"
             ],
             [
              0.8888888888888888,
              "#fdca26"
             ],
             [
              1,
              "#f0f921"
             ]
            ],
            "type": "histogram2d"
           }
          ],
          "histogram2dcontour": [
           {
            "colorbar": {
             "outlinewidth": 0,
             "ticks": ""
            },
            "colorscale": [
             [
              0,
              "#0d0887"
             ],
             [
              0.1111111111111111,
              "#46039f"
             ],
             [
              0.2222222222222222,
              "#7201a8"
             ],
             [
              0.3333333333333333,
              "#9c179e"
             ],
             [
              0.4444444444444444,
              "#bd3786"
             ],
             [
              0.5555555555555556,
              "#d8576b"
             ],
             [
              0.6666666666666666,
              "#ed7953"
             ],
             [
              0.7777777777777778,
              "#fb9f3a"
             ],
             [
              0.8888888888888888,
              "#fdca26"
             ],
             [
              1,
              "#f0f921"
             ]
            ],
            "type": "histogram2dcontour"
           }
          ],
          "mesh3d": [
           {
            "colorbar": {
             "outlinewidth": 0,
             "ticks": ""
            },
            "type": "mesh3d"
           }
          ],
          "parcoords": [
           {
            "line": {
             "colorbar": {
              "outlinewidth": 0,
              "ticks": ""
             }
            },
            "type": "parcoords"
           }
          ],
          "pie": [
           {
            "automargin": true,
            "type": "pie"
           }
          ],
          "scatter": [
           {
            "fillpattern": {
             "fillmode": "overlay",
             "size": 10,
             "solidity": 0.2
            },
            "type": "scatter"
           }
          ],
          "scatter3d": [
           {
            "line": {
             "colorbar": {
              "outlinewidth": 0,
              "ticks": ""
             }
            },
            "marker": {
             "colorbar": {
              "outlinewidth": 0,
              "ticks": ""
             }
            },
            "type": "scatter3d"
           }
          ],
          "scattercarpet": [
           {
            "marker": {
             "colorbar": {
              "outlinewidth": 0,
              "ticks": ""
             }
            },
            "type": "scattercarpet"
           }
          ],
          "scattergeo": [
           {
            "marker": {
             "colorbar": {
              "outlinewidth": 0,
              "ticks": ""
             }
            },
            "type": "scattergeo"
           }
          ],
          "scattergl": [
           {
            "marker": {
             "colorbar": {
              "outlinewidth": 0,
              "ticks": ""
             }
            },
            "type": "scattergl"
           }
          ],
          "scattermap": [
           {
            "marker": {
             "colorbar": {
              "outlinewidth": 0,
              "ticks": ""
             }
            },
            "type": "scattermap"
           }
          ],
          "scattermapbox": [
           {
            "marker": {
             "colorbar": {
              "outlinewidth": 0,
              "ticks": ""
             }
            },
            "type": "scattermapbox"
           }
          ],
          "scatterpolar": [
           {
            "marker": {
             "colorbar": {
              "outlinewidth": 0,
              "ticks": ""
             }
            },
            "type": "scatterpolar"
           }
          ],
          "scatterpolargl": [
           {
            "marker": {
             "colorbar": {
              "outlinewidth": 0,
              "ticks": ""
             }
            },
            "type": "scatterpolargl"
           }
          ],
          "scatterternary": [
           {
            "marker": {
             "colorbar": {
              "outlinewidth": 0,
              "ticks": ""
             }
            },
            "type": "scatterternary"
           }
          ],
          "surface": [
           {
            "colorbar": {
             "outlinewidth": 0,
             "ticks": ""
            },
            "colorscale": [
             [
              0,
              "#0d0887"
             ],
             [
              0.1111111111111111,
              "#46039f"
             ],
             [
              0.2222222222222222,
              "#7201a8"
             ],
             [
              0.3333333333333333,
              "#9c179e"
             ],
             [
              0.4444444444444444,
              "#bd3786"
             ],
             [
              0.5555555555555556,
              "#d8576b"
             ],
             [
              0.6666666666666666,
              "#ed7953"
             ],
             [
              0.7777777777777778,
              "#fb9f3a"
             ],
             [
              0.8888888888888888,
              "#fdca26"
             ],
             [
              1,
              "#f0f921"
             ]
            ],
            "type": "surface"
           }
          ],
          "table": [
           {
            "cells": {
             "fill": {
              "color": "#EBF0F8"
             },
             "line": {
              "color": "white"
             }
            },
            "header": {
             "fill": {
              "color": "#C8D4E3"
             },
             "line": {
              "color": "white"
             }
            },
            "type": "table"
           }
          ]
         },
         "layout": {
          "annotationdefaults": {
           "arrowcolor": "#2a3f5f",
           "arrowhead": 0,
           "arrowwidth": 1
          },
          "autotypenumbers": "strict",
          "coloraxis": {
           "colorbar": {
            "outlinewidth": 0,
            "ticks": ""
           }
          },
          "colorscale": {
           "diverging": [
            [
             0,
             "#8e0152"
            ],
            [
             0.1,
             "#c51b7d"
            ],
            [
             0.2,
             "#de77ae"
            ],
            [
             0.3,
             "#f1b6da"
            ],
            [
             0.4,
             "#fde0ef"
            ],
            [
             0.5,
             "#f7f7f7"
            ],
            [
             0.6,
             "#e6f5d0"
            ],
            [
             0.7,
             "#b8e186"
            ],
            [
             0.8,
             "#7fbc41"
            ],
            [
             0.9,
             "#4d9221"
            ],
            [
             1,
             "#276419"
            ]
           ],
           "sequential": [
            [
             0,
             "#0d0887"
            ],
            [
             0.1111111111111111,
             "#46039f"
            ],
            [
             0.2222222222222222,
             "#7201a8"
            ],
            [
             0.3333333333333333,
             "#9c179e"
            ],
            [
             0.4444444444444444,
             "#bd3786"
            ],
            [
             0.5555555555555556,
             "#d8576b"
            ],
            [
             0.6666666666666666,
             "#ed7953"
            ],
            [
             0.7777777777777778,
             "#fb9f3a"
            ],
            [
             0.8888888888888888,
             "#fdca26"
            ],
            [
             1,
             "#f0f921"
            ]
           ],
           "sequentialminus": [
            [
             0,
             "#0d0887"
            ],
            [
             0.1111111111111111,
             "#46039f"
            ],
            [
             0.2222222222222222,
             "#7201a8"
            ],
            [
             0.3333333333333333,
             "#9c179e"
            ],
            [
             0.4444444444444444,
             "#bd3786"
            ],
            [
             0.5555555555555556,
             "#d8576b"
            ],
            [
             0.6666666666666666,
             "#ed7953"
            ],
            [
             0.7777777777777778,
             "#fb9f3a"
            ],
            [
             0.8888888888888888,
             "#fdca26"
            ],
            [
             1,
             "#f0f921"
            ]
           ]
          },
          "colorway": [
           "#636efa",
           "#EF553B",
           "#00cc96",
           "#ab63fa",
           "#FFA15A",
           "#19d3f3",
           "#FF6692",
           "#B6E880",
           "#FF97FF",
           "#FECB52"
          ],
          "font": {
           "color": "#2a3f5f"
          },
          "geo": {
           "bgcolor": "white",
           "lakecolor": "white",
           "landcolor": "white",
           "showlakes": true,
           "showland": true,
           "subunitcolor": "#C8D4E3"
          },
          "hoverlabel": {
           "align": "left"
          },
          "hovermode": "closest",
          "mapbox": {
           "style": "light"
          },
          "paper_bgcolor": "white",
          "plot_bgcolor": "white",
          "polar": {
           "angularaxis": {
            "gridcolor": "#EBF0F8",
            "linecolor": "#EBF0F8",
            "ticks": ""
           },
           "bgcolor": "white",
           "radialaxis": {
            "gridcolor": "#EBF0F8",
            "linecolor": "#EBF0F8",
            "ticks": ""
           }
          },
          "scene": {
           "xaxis": {
            "backgroundcolor": "white",
            "gridcolor": "#DFE8F3",
            "gridwidth": 2,
            "linecolor": "#EBF0F8",
            "showbackground": true,
            "ticks": "",
            "zerolinecolor": "#EBF0F8"
           },
           "yaxis": {
            "backgroundcolor": "white",
            "gridcolor": "#DFE8F3",
            "gridwidth": 2,
            "linecolor": "#EBF0F8",
            "showbackground": true,
            "ticks": "",
            "zerolinecolor": "#EBF0F8"
           },
           "zaxis": {
            "backgroundcolor": "white",
            "gridcolor": "#DFE8F3",
            "gridwidth": 2,
            "linecolor": "#EBF0F8",
            "showbackground": true,
            "ticks": "",
            "zerolinecolor": "#EBF0F8"
           }
          },
          "shapedefaults": {
           "line": {
            "color": "#2a3f5f"
           }
          },
          "ternary": {
           "aaxis": {
            "gridcolor": "#DFE8F3",
            "linecolor": "#A2B1C6",
            "ticks": ""
           },
           "baxis": {
            "gridcolor": "#DFE8F3",
            "linecolor": "#A2B1C6",
            "ticks": ""
           },
           "bgcolor": "white",
           "caxis": {
            "gridcolor": "#DFE8F3",
            "linecolor": "#A2B1C6",
            "ticks": ""
           }
          },
          "title": {
           "x": 0.05
          },
          "xaxis": {
           "automargin": true,
           "gridcolor": "#EBF0F8",
           "linecolor": "#EBF0F8",
           "ticks": "",
           "title": {
            "standoff": 15
           },
           "zerolinecolor": "#EBF0F8",
           "zerolinewidth": 2
          },
          "yaxis": {
           "automargin": true,
           "gridcolor": "#EBF0F8",
           "linecolor": "#EBF0F8",
           "ticks": "",
           "title": {
            "standoff": 15
           },
           "zerolinecolor": "#EBF0F8",
           "zerolinewidth": 2
          }
         }
        },
        "title": {
         "font": {
          "size": 25
         },
         "text": "Number of initial Publications per Year by Category",
         "x": 0.5
        },
        "xaxis": {
         "anchor": "y",
         "domain": [
          0,
          0.45
         ],
         "title": {
          "text": "Year of Publication"
         }
        },
        "xaxis2": {
         "anchor": "y2",
         "domain": [
          0.55,
          1
         ],
         "title": {
          "text": "Year of Publication"
         }
        },
        "yaxis": {
         "anchor": "x",
         "domain": [
          0,
          1
         ],
         "title": {
          "text": "# of Publications per Year"
         }
        },
        "yaxis2": {
         "anchor": "x2",
         "domain": [
          0,
          1
         ],
         "title": {
          "text": "# of Publications per Year"
         },
         "type": "log"
        }
       }
      }
     },
     "metadata": {},
     "output_type": "display_data"
    },
    {
     "data": {
      "application/vnd.plotly.v1+json": {
       "config": {
        "plotlyServerURL": "https://plot.ly"
       },
       "data": [
        {
         "colorbar": {
          "title": {
           "text": "Count"
          }
         },
         "colorscale": [
          [
           0,
           "rgb(5,48,97)"
          ],
          [
           0.1,
           "rgb(33,102,172)"
          ],
          [
           0.2,
           "rgb(67,147,195)"
          ],
          [
           0.3,
           "rgb(146,197,222)"
          ],
          [
           0.4,
           "rgb(209,229,240)"
          ],
          [
           0.5,
           "rgb(247,247,247)"
          ],
          [
           0.6,
           "rgb(253,219,199)"
          ],
          [
           0.7,
           "rgb(244,165,130)"
          ],
          [
           0.8,
           "rgb(214,96,77)"
          ],
          [
           0.9,
           "rgb(178,24,43)"
          ],
          [
           1,
           "rgb(103,0,31)"
          ]
         ],
         "text": {
          "bdata": "AAAAAAAAAQAAAAIABgAKABAAFgB1ANMAbQGbAbABiwF0AY4B8AEoAggCNAIuAiYCQwLuAgcDXgNnA9YD+AUAAAAAAAAAAAAAAAAAAAAAAQAAAAEAAAAAABYAPwBiAIgAygAfA3ICxAJwAwsFugclEM4YLRfECLoIAQr2DgAAAAAAAAYACQAVABsAJQAhACgALAA/AEoAVgBNAEYARwBjAFMATQBkAFoAXQBSAF4AjgCyAKsAkwDUAPUAAAAAAAAAAAAAAAAAAAAAAAAAAAAAAAAAAAAAAAAAAAAAAAAAAAAAAC8AUgB0AFYAbAB/AHoAgQB9AI4A5gAAAAAAAAAAAAIAAgABAAMAAQAEAAQACAAMAA8AGAA7AEkANAA3ACsAMAA2ADgAMwBKAEkAZACRAJcAqQAXAcIALAFhAX4BVAEqAUEBMgElASQBAwEDAQABEwHqAAAB9AACAQwBFQESARMBIQETATABKQE2ARgBYQGtAXECAgADAAUAEABJAE8AgQCCAKgA4ADIAWYC6wJGAwADjQP+AyoEsQQQBTcFlAWyBZIFygURBnsG7QZYB1EInQwAAAIAAAACAAQAHgAgAB8ATwA8AEwAWACcANMA8gANAX0BGgLJAnoD0wOJBGwFAgbRBk4IHwoCCrcKQgyeERgAHgAkABMAOAB/AHwAfADAAOoAFQEqAXcBqgHgAUECRQL5Al4DOAORA+0DHgRxBFgE+QSMBaUFfwWvBggJAAAAAAAAAAAAAAAABAADAAUAAwABAAAABAAFAAQADQAUABsAGwAtADgAXgDIAAcB/QHhAmkEQwVVBv4G+wgAAAAAAAAAAAIAAAAHAAEABwAEABUADwAgAF0AOAA7ADsAXgB/AJMAxADjAOcB7gJCBJIG9AgqC3oMNRBJGAAAAAAAAAAADgAJAAkACgAYACYAKAA3ACYASABUAF8AjAByALMA1QBJAVsByQE8AqoCVgMXBGwDjwPfA0kFAAAAAAAAAAAGAAkAAgAHABMADgARABgAHwAXADEARABLAEYAXABdAJUAZACfAM0AAAG0AQ0CHQJpAhMD0gMAAAAAAAABAAcAFwAdABQAKQAaACAAMwA+AD4AUQCRAMgAFAHFAzUD0QPbBB0HLAqhFKMn5TTfONw+6EhmaQAAAAAAAAAABwAEAAgADAAJAA4AGAAJAB8ARwBnAFUAVwBAAHsArwDmAN8AhAHwAZYC+wM0BRYG+gZPCnIQAAAAAAAAAAADAAgADgAaACEAHQA4ADoAVwCXAMAA6QAPATYBwgFqAVcBegFoAaEBtgEJAvABGAL+AT0CMQMAAAAAAAAAAAMAAwAPAAMADwAUABoAGAAcADIAPwByAPQAGwG/AWkCWwMqBTwIwwxZEzoapyImJ+8tgjjGUrsAuwC1AJUAYgA1AHcASgA/ADQAMQAWADEAMQA4AEwARwBeALcA9ACQAeYB3gPBBWAJ+ww9EFYT8RSdHlEyCwACAAAAAQAWADAAGwAnADkANAAtAEcAVABvAJQA0gDmAMwABgHuAA0BHAEJATkBLwFdAX0BbQGNAcQBpQIOABsAHAAUABwAGgBqADgAXQBwAIcAgQB4AJgAxAAgAXsBhQLCA9EFEAO8ApYEPga8Cc0KnRDJHAkiBTKNVg==",
          "dtype": "i2",
          "shape": "20, 31"
         },
         "texttemplate": "%{text}",
         "type": "heatmap",
         "x": {
          "bdata": "ygfLB8wHzQfOB88H0AfRB9IH0wfUB9UH1gfXB9gH2QfaB9sH3AfdB94H3wfgB+EH4gfjB+QH5QfmB+cH6Ac=",
          "dtype": "i2"
         },
         "y": [
          "stat.th",
          "stat.ml",
          "q-fin.st",
          "q-fin.mf",
          "q-fin.cp",
          "math.qa",
          "math.pr",
          "math.oc",
          "math.ds",
          "cs.sd",
          "cs.ro",
          "cs.ne",
          "cs.ma",
          "cs.lg",
          "cs.hc",
          "cs.dm",
          "cs.cv",
          "cs.cl",
          "cs.cc",
          "cs.ai"
         ],
         "z": {
          "bdata": "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",
          "dtype": "f8",
          "shape": "20, 31"
         }
        }
       ],
       "layout": {
        "height": 800,
        "template": {
         "data": {
          "bar": [
           {
            "error_x": {
             "color": "#2a3f5f"
            },
            "error_y": {
             "color": "#2a3f5f"
            },
            "marker": {
             "line": {
              "color": "white",
              "width": 0.5
             },
             "pattern": {
              "fillmode": "overlay",
              "size": 10,
              "solidity": 0.2
             }
            },
            "type": "bar"
           }
          ],
          "barpolar": [
           {
            "marker": {
             "line": {
              "color": "white",
              "width": 0.5
             },
             "pattern": {
              "fillmode": "overlay",
              "size": 10,
              "solidity": 0.2
             }
            },
            "type": "barpolar"
           }
          ],
          "carpet": [
           {
            "aaxis": {
             "endlinecolor": "#2a3f5f",
             "gridcolor": "#C8D4E3",
             "linecolor": "#C8D4E3",
             "minorgridcolor": "#C8D4E3",
             "startlinecolor": "#2a3f5f"
            },
            "baxis": {
             "endlinecolor": "#2a3f5f",
             "gridcolor": "#C8D4E3",
             "linecolor": "#C8D4E3",
             "minorgridcolor": "#C8D4E3",
             "startlinecolor": "#2a3f5f"
            },
            "type": "carpet"
           }
          ],
          "choropleth": [
           {
            "colorbar": {
             "outlinewidth": 0,
             "ticks": ""
            },
            "type": "choropleth"
           }
          ],
          "contour": [
           {
            "colorbar": {
             "outlinewidth": 0,
             "ticks": ""
            },
            "colorscale": [
             [
              0,
              "#0d0887"
             ],
             [
              0.1111111111111111,
              "#46039f"
             ],
             [
              0.2222222222222222,
              "#7201a8"
             ],
             [
              0.3333333333333333,
              "#9c179e"
             ],
             [
              0.4444444444444444,
              "#bd3786"
             ],
             [
              0.5555555555555556,
              "#d8576b"
             ],
             [
              0.6666666666666666,
              "#ed7953"
             ],
             [
              0.7777777777777778,
              "#fb9f3a"
             ],
             [
              0.8888888888888888,
              "#fdca26"
             ],
             [
              1,
              "#f0f921"
             ]
            ],
            "type": "contour"
           }
          ],
          "contourcarpet": [
           {
            "colorbar": {
             "outlinewidth": 0,
             "ticks": ""
            },
            "type": "contourcarpet"
           }
          ],
          "heatmap": [
           {
            "colorbar": {
             "outlinewidth": 0,
             "ticks": ""
            },
            "colorscale": [
             [
              0,
              "#0d0887"
             ],
             [
              0.1111111111111111,
              "#46039f"
             ],
             [
              0.2222222222222222,
              "#7201a8"
             ],
             [
              0.3333333333333333,
              "#9c179e"
             ],
             [
              0.4444444444444444,
              "#bd3786"
             ],
             [
              0.5555555555555556,
              "#d8576b"
             ],
             [
              0.6666666666666666,
              "#ed7953"
             ],
             [
              0.7777777777777778,
              "#fb9f3a"
             ],
             [
              0.8888888888888888,
              "#fdca26"
             ],
             [
              1,
              "#f0f921"
             ]
            ],
            "type": "heatmap"
           }
          ],
          "histogram": [
           {
            "marker": {
             "pattern": {
              "fillmode": "overlay",
              "size": 10,
              "solidity": 0.2
             }
            },
            "type": "histogram"
           }
          ],
          "histogram2d": [
           {
            "colorbar": {
             "outlinewidth": 0,
             "ticks": ""
            },
            "colorscale": [
             [
              0,
              "#0d0887"
             ],
             [
              0.1111111111111111,
              "#46039f"
             ],
             [
              0.2222222222222222,
              "#7201a8"
             ],
             [
              0.3333333333333333,
              "#9c179e"
             ],
             [
              0.4444444444444444,
              "#bd3786"
             ],
             [
              0.5555555555555556,
              "#d8576b"
             ],
             [
              0.6666666666666666,
              "#ed7953"
             ],
             [
              0.7777777777777778,
              "#fb9f3a"
             ],
             [
              0.8888888888888888,
              "#fdca26"
             ],
             [
              1,
              "#f0f921"
             ]
            ],
            "type": "histogram2d"
           }
          ],
          "histogram2dcontour": [
           {
            "colorbar": {
             "outlinewidth": 0,
             "ticks": ""
            },
            "colorscale": [
             [
              0,
              "#0d0887"
             ],
             [
              0.1111111111111111,
              "#46039f"
             ],
             [
              0.2222222222222222,
              "#7201a8"
             ],
             [
              0.3333333333333333,
              "#9c179e"
             ],
             [
              0.4444444444444444,
              "#bd3786"
             ],
             [
              0.5555555555555556,
              "#d8576b"
             ],
             [
              0.6666666666666666,
              "#ed7953"
             ],
             [
              0.7777777777777778,
              "#fb9f3a"
             ],
             [
              0.8888888888888888,
              "#fdca26"
             ],
             [
              1,
              "#f0f921"
             ]
            ],
            "type": "histogram2dcontour"
           }
          ],
          "mesh3d": [
           {
            "colorbar": {
             "outlinewidth": 0,
             "ticks": ""
            },
            "type": "mesh3d"
           }
          ],
          "parcoords": [
           {
            "line": {
             "colorbar": {
              "outlinewidth": 0,
              "ticks": ""
             }
            },
            "type": "parcoords"
           }
          ],
          "pie": [
           {
            "automargin": true,
            "type": "pie"
           }
          ],
          "scatter": [
           {
            "fillpattern": {
             "fillmode": "overlay",
             "size": 10,
             "solidity": 0.2
            },
            "type": "scatter"
           }
          ],
          "scatter3d": [
           {
            "line": {
             "colorbar": {
              "outlinewidth": 0,
              "ticks": ""
             }
            },
            "marker": {
             "colorbar": {
              "outlinewidth": 0,
              "ticks": ""
             }
            },
            "type": "scatter3d"
           }
          ],
          "scattercarpet": [
           {
            "marker": {
             "colorbar": {
              "outlinewidth": 0,
              "ticks": ""
             }
            },
            "type": "scattercarpet"
           }
          ],
          "scattergeo": [
           {
            "marker": {
             "colorbar": {
              "outlinewidth": 0,
              "ticks": ""
             }
            },
            "type": "scattergeo"
           }
          ],
          "scattergl": [
           {
            "marker": {
             "colorbar": {
              "outlinewidth": 0,
              "ticks": ""
             }
            },
            "type": "scattergl"
           }
          ],
          "scattermap": [
           {
            "marker": {
             "colorbar": {
              "outlinewidth": 0,
              "ticks": ""
             }
            },
            "type": "scattermap"
           }
          ],
          "scattermapbox": [
           {
            "marker": {
             "colorbar": {
              "outlinewidth": 0,
              "ticks": ""
             }
            },
            "type": "scattermapbox"
           }
          ],
          "scatterpolar": [
           {
            "marker": {
             "colorbar": {
              "outlinewidth": 0,
              "ticks": ""
             }
            },
            "type": "scatterpolar"
           }
          ],
          "scatterpolargl": [
           {
            "marker": {
             "colorbar": {
              "outlinewidth": 0,
              "ticks": ""
             }
            },
            "type": "scatterpolargl"
           }
          ],
          "scatterternary": [
           {
            "marker": {
             "colorbar": {
              "outlinewidth": 0,
              "ticks": ""
             }
            },
            "type": "scatterternary"
           }
          ],
          "surface": [
           {
            "colorbar": {
             "outlinewidth": 0,
             "ticks": ""
            },
            "colorscale": [
             [
              0,
              "#0d0887"
             ],
             [
              0.1111111111111111,
              "#46039f"
             ],
             [
              0.2222222222222222,
              "#7201a8"
             ],
             [
              0.3333333333333333,
              "#9c179e"
             ],
             [
              0.4444444444444444,
              "#bd3786"
             ],
             [
              0.5555555555555556,
              "#d8576b"
             ],
             [
              0.6666666666666666,
              "#ed7953"
             ],
             [
              0.7777777777777778,
              "#fb9f3a"
             ],
             [
              0.8888888888888888,
              "#fdca26"
             ],
             [
              1,
              "#f0f921"
             ]
            ],
            "type": "surface"
           }
          ],
          "table": [
           {
            "cells": {
             "fill": {
              "color": "#EBF0F8"
             },
             "line": {
              "color": "white"
             }
            },
            "header": {
             "fill": {
              "color": "#C8D4E3"
             },
             "line": {
              "color": "white"
             }
            },
            "type": "table"
           }
          ]
         },
         "layout": {
          "annotationdefaults": {
           "arrowcolor": "#2a3f5f",
           "arrowhead": 0,
           "arrowwidth": 1
          },
          "autotypenumbers": "strict",
          "coloraxis": {
           "colorbar": {
            "outlinewidth": 0,
            "ticks": ""
           }
          },
          "colorscale": {
           "diverging": [
            [
             0,
             "#8e0152"
            ],
            [
             0.1,
             "#c51b7d"
            ],
            [
             0.2,
             "#de77ae"
            ],
            [
             0.3,
             "#f1b6da"
            ],
            [
             0.4,
             "#fde0ef"
            ],
            [
             0.5,
             "#f7f7f7"
            ],
            [
             0.6,
             "#e6f5d0"
            ],
            [
             0.7,
             "#b8e186"
            ],
            [
             0.8,
             "#7fbc41"
            ],
            [
             0.9,
             "#4d9221"
            ],
            [
             1,
             "#276419"
            ]
           ],
           "sequential": [
            [
             0,
             "#0d0887"
            ],
            [
             0.1111111111111111,
             "#46039f"
            ],
            [
             0.2222222222222222,
             "#7201a8"
            ],
            [
             0.3333333333333333,
             "#9c179e"
            ],
            [
             0.4444444444444444,
             "#bd3786"
            ],
            [
             0.5555555555555556,
             "#d8576b"
            ],
            [
             0.6666666666666666,
             "#ed7953"
            ],
            [
             0.7777777777777778,
             "#fb9f3a"
            ],
            [
             0.8888888888888888,
             "#fdca26"
            ],
            [
             1,
             "#f0f921"
            ]
           ],
           "sequentialminus": [
            [
             0,
             "#0d0887"
            ],
            [
             0.1111111111111111,
             "#46039f"
            ],
            [
             0.2222222222222222,
             "#7201a8"
            ],
            [
             0.3333333333333333,
             "#9c179e"
            ],
            [
             0.4444444444444444,
             "#bd3786"
            ],
            [
             0.5555555555555556,
             "#d8576b"
            ],
            [
             0.6666666666666666,
             "#ed7953"
            ],
            [
             0.7777777777777778,
             "#fb9f3a"
            ],
            [
             0.8888888888888888,
             "#fdca26"
            ],
            [
             1,
             "#f0f921"
            ]
           ]
          },
          "colorway": [
           "#636efa",
           "#EF553B",
           "#00cc96",
           "#ab63fa",
           "#FFA15A",
           "#19d3f3",
           "#FF6692",
           "#B6E880",
           "#FF97FF",
           "#FECB52"
          ],
          "font": {
           "color": "#2a3f5f"
          },
          "geo": {
           "bgcolor": "white",
           "lakecolor": "white",
           "landcolor": "white",
           "showlakes": true,
           "showland": true,
           "subunitcolor": "#C8D4E3"
          },
          "hoverlabel": {
           "align": "left"
          },
          "hovermode": "closest",
          "mapbox": {
           "style": "light"
          },
          "paper_bgcolor": "white",
          "plot_bgcolor": "white",
          "polar": {
           "angularaxis": {
            "gridcolor": "#EBF0F8",
            "linecolor": "#EBF0F8",
            "ticks": ""
           },
           "bgcolor": "white",
           "radialaxis": {
            "gridcolor": "#EBF0F8",
            "linecolor": "#EBF0F8",
            "ticks": ""
           }
          },
          "scene": {
           "xaxis": {
            "backgroundcolor": "white",
            "gridcolor": "#DFE8F3",
            "gridwidth": 2,
            "linecolor": "#EBF0F8",
            "showbackground": true,
            "ticks": "",
            "zerolinecolor": "#EBF0F8"
           },
           "yaxis": {
            "backgroundcolor": "white",
            "gridcolor": "#DFE8F3",
            "gridwidth": 2,
            "linecolor": "#EBF0F8",
            "showbackground": true,
            "ticks": "",
            "zerolinecolor": "#EBF0F8"
           },
           "zaxis": {
            "backgroundcolor": "white",
            "gridcolor": "#DFE8F3",
            "gridwidth": 2,
            "linecolor": "#EBF0F8",
            "showbackground": true,
            "ticks": "",
            "zerolinecolor": "#EBF0F8"
           }
          },
          "shapedefaults": {
           "line": {
            "color": "#2a3f5f"
           }
          },
          "ternary": {
           "aaxis": {
            "gridcolor": "#DFE8F3",
            "linecolor": "#A2B1C6",
            "ticks": ""
           },
           "baxis": {
            "gridcolor": "#DFE8F3",
            "linecolor": "#A2B1C6",
            "ticks": ""
           },
           "bgcolor": "white",
           "caxis": {
            "gridcolor": "#DFE8F3",
            "linecolor": "#A2B1C6",
            "ticks": ""
           }
          },
          "title": {
           "x": 0.05
          },
          "xaxis": {
           "automargin": true,
           "gridcolor": "#EBF0F8",
           "linecolor": "#EBF0F8",
           "ticks": "",
           "title": {
            "standoff": 15
           },
           "zerolinecolor": "#EBF0F8",
           "zerolinewidth": 2
          },
          "yaxis": {
           "automargin": true,
           "gridcolor": "#EBF0F8",
           "linecolor": "#EBF0F8",
           "ticks": "",
           "title": {
            "standoff": 15
           },
           "zerolinecolor": "#EBF0F8",
           "zerolinewidth": 2
          }
         }
        },
        "title": {
         "font": {
          "size": 25
         },
         "text": "Number of initial Publications per Year by Category",
         "x": 0.5
        },
        "xaxis": {
         "title": {
          "text": "Year of Publication"
         }
        },
        "yaxis": {
         "title": {
          "text": "Category"
         }
        }
       }
      }
     },
     "metadata": {},
     "output_type": "display_data"
    }
   ],
   "source": [
    "visualize_publications_by_category(df_initial, \"initial\")"
   ]
  },
  {
   "cell_type": "markdown",
   "metadata": {},
   "source": [
    "Since the initial plots included both original publications (v1) and their subsequent revisions (v2, v3, etc.), the cleaned dataset presented here considers only the first version of each paper. This approach isolates the pure scientific contributions in ML and AI, providing a clearer view of the field's original research output. Although the absolute number of publications drops—for example, 2024’s total decreases from over 160,000 (including revisions) to over 110,000 (initial versions only)—the overall trend remains consistent, with categories such as cs.LG, cs.AI, cs.CV, cs.CL, and cs.RO continuing to drive growth.\n",
    "\n",
    "The accompanying chart visualizes the annual volume of revisions, which, while crucial for maintaining research accuracy through updates and corrections, also introduce a time cost that may limit the production of new contributions. Thus, revisions remain an important factor when evaluating monthly publication trends, as they indirectly influence research productivity and focus."
   ]
  },
  {
   "cell_type": "code",
   "execution_count": 53,
   "metadata": {
    "ExecuteTime": {
     "end_time": "2024-12-29T15:25:43.611278Z",
     "start_time": "2024-12-29T15:25:42.854160Z"
    }
   },
   "outputs": [
    {
     "data": {
      "application/vnd.plotly.v1+json": {
       "config": {
        "plotlyServerURL": "https://plot.ly"
       },
       "data": [
        {
         "legendgroup": "cs.ai",
         "line": {
          "color": "#636EFA"
         },
         "mode": "lines+markers",
         "name": "cs.ai",
         "type": "scatter",
         "x": {
          "bdata": "zgfPB9AH0QfSB9MH1AfVB9YH1wfYB9kH2gfbB9wH3QfeB98H4AfhB+IH4wfkB+UH5gfnB+gH",
          "dtype": "i2"
         },
         "xaxis": "x",
         "y": {
          "bdata": "AgAHABMACwAbABUAHgAbADEAKQBRAF4AYgCNAK0A8QDzAJ0BAAPBBPoGxAdbDBkUwxdCI7Un",
          "dtype": "i2"
         },
         "yaxis": "y"
        },
        {
         "legendgroup": "cs.ai",
         "line": {
          "color": "#636EFA"
         },
         "mode": "lines+markers",
         "showlegend": false,
         "type": "scatter",
         "x": {
          "bdata": "zgfPB9AH0QfSB9MH1AfVB9YH1wfYB9kH2gfbB9wH3QfeB98H4AfhB+IH4wfkB+UH5gfnB+gH",
          "dtype": "i2"
         },
         "xaxis": "x2",
         "y": {
          "bdata": "AgAHABMACwAbABUAHgAbADEAKQBRAF4AYgCNAK0A8QDzAJ0BAAPBBPoGxAdbDBkUwxdCI7Un",
          "dtype": "i2"
         },
         "yaxis": "y2"
        },
        {
         "legendgroup": "cs.cc",
         "line": {
          "color": "#EF553B"
         },
         "mode": "lines+markers",
         "name": "cs.cc",
         "type": "scatter",
         "x": {
          "bdata": "zAfNB84HzwfQB9EH0gfTB9QH1QfWB9cH2AfZB9oH2wfcB90H3gffB+AH4QfiB+MH5AflB+YH5wfoBw==",
          "dtype": "i2"
         },
         "xaxis": "x",
         "y": {
          "bdata": "AQABAAkAEAARAB0AIgAlACIAPABSAFgAeQCUAL8A2ADdAB0BDgEjAT8BQgE1AYIBqAGcAXsBgQESAQ==",
          "dtype": "i2"
         },
         "yaxis": "y"
        },
        {
         "legendgroup": "cs.cc",
         "line": {
          "color": "#EF553B"
         },
         "mode": "lines+markers",
         "showlegend": false,
         "type": "scatter",
         "x": {
          "bdata": "zAfNB84HzwfQB9EH0gfTB9QH1QfWB9cH2AfZB9oH2wfcB90H3gffB+AH4QfiB+MH5AflB+YH5wfoBw==",
          "dtype": "i2"
         },
         "xaxis": "x2",
         "y": {
          "bdata": "AQABAAkAEAARAB0AIgAlACIAPABSAFgAeQCUAL8A2ADdAB0BDgEjAT8BQgE1AYIBqAGcAXsBgQESAQ==",
          "dtype": "i2"
         },
         "yaxis": "y2"
        },
        {
         "legendgroup": "cs.cl",
         "line": {
          "color": "#00CC96"
         },
         "mode": "lines+markers",
         "name": "cs.cl",
         "type": "scatter",
         "x": {
          "bdata": "ygfLB8wHzQfOB88H0AfRB9IH0wfUB9UH1gfXB9gH2QfaB9sH3AfdB94H3wfgB+EH4gfjB+QH5QfmB+cH6Ac=",
          "dtype": "i2"
         },
         "xaxis": "x",
         "y": {
          "bdata": "JAAmABUADwAPAAUAAwAFAAMAAwAFAAMAAwARAA4ADwAPAB8AKgBaAJ0AWgG8Ap4DMQUWCJoLPgwaDnsW2xw=",
          "dtype": "i2"
         },
         "yaxis": "y"
        },
        {
         "legendgroup": "cs.cl",
         "line": {
          "color": "#00CC96"
         },
         "mode": "lines+markers",
         "showlegend": false,
         "type": "scatter",
         "x": {
          "bdata": "ygfLB8wHzQfOB88H0AfRB9IH0wfUB9UH1gfXB9gH2QfaB9sH3AfdB94H3wfgB+EH4gfjB+QH5QfmB+cH6Ac=",
          "dtype": "i2"
         },
         "xaxis": "x2",
         "y": {
          "bdata": "JAAmABUADwAPAAUAAwAFAAMAAwAFAAMAAwARAA4ADwAPAB8AKgBaAJ0AWgG8Ap4DMQUWCJoLPgwaDnsW2xw=",
          "dtype": "i2"
         },
         "yaxis": "y2"
        },
        {
         "legendgroup": "cs.cv",
         "line": {
          "color": "#AB63FA"
         },
         "mode": "lines+markers",
         "name": "cs.cv",
         "type": "scatter",
         "x": {
          "bdata": "zwfRB9IH0wfUB9UH1gfXB9gH2QfaB9sH3AfdB94H3wfgB+EH4gfjB+QH5QfmB+cH6Ac=",
          "dtype": "i2"
         },
         "xaxis": "x",
         "y": {
          "bdata": "AQACAAEABQAJAAcACgALABYAIQAxAGEAhAD1AOMBrgPwBZkJNw4XE0UZDRz9HkcnDCM=",
          "dtype": "i2"
         },
         "yaxis": "y"
        },
        {
         "legendgroup": "cs.cv",
         "line": {
          "color": "#AB63FA"
         },
         "mode": "lines+markers",
         "showlegend": false,
         "type": "scatter",
         "x": {
          "bdata": "zwfRB9IH0wfUB9UH1gfXB9gH2QfaB9sH3AfdB94H3wfgB+EH4gfjB+QH5QfmB+cH6Ac=",
          "dtype": "i2"
         },
         "xaxis": "x2",
         "y": {
          "bdata": "AQACAAEABQAJAAcACgALABYAIQAxAGEAhAD1AOMBrgPwBZkJNw4XE0UZDRz9HkcnDCM=",
          "dtype": "i2"
         },
         "yaxis": "y2"
        },
        {
         "legendgroup": "cs.dm",
         "line": {
          "color": "#FFA15A"
         },
         "mode": "lines+markers",
         "name": "cs.dm",
         "type": "scatter",
         "x": {
          "bdata": "zwfQB9EH0gfTB9QH1QfWB9cH2AfZB9oH2wfcB90H3gffB+AH4QfiB+MH5AflB+YH5wfoBw==",
          "dtype": "i2"
         },
         "xaxis": "x",
         "y": {
          "bdata": "BgAHAAoADAAPABkAHQAxAFEAggCbAM4AAAFAASQBFwF9AXwBgAGtAd8BGgLpAQMC9gEjAQ==",
          "dtype": "i2"
         },
         "yaxis": "y"
        },
        {
         "legendgroup": "cs.dm",
         "line": {
          "color": "#FFA15A"
         },
         "mode": "lines+markers",
         "showlegend": false,
         "type": "scatter",
         "x": {
          "bdata": "zwfQB9EH0gfTB9QH1QfWB9cH2AfZB9oH2wfcB90H3gffB+AH4QfiB+MH5AflB+YH5wfoBw==",
          "dtype": "i2"
         },
         "xaxis": "x2",
         "y": {
          "bdata": "BgAHAAoADAAPABkAHQAxAFEAggCbAM4AAAFAASQBFwF9AXwBgAGtAd8BGgLpAQMC9gEjAQ==",
          "dtype": "i2"
         },
         "yaxis": "y2"
        },
        {
         "legendgroup": "cs.hc",
         "line": {
          "color": "#19D3F3"
         },
         "mode": "lines+markers",
         "name": "cs.hc",
         "type": "scatter",
         "x": {
          "bdata": "zgfPB9EH0gfTB9UH1gfXB9gH2QfaB9sH3AfdB94H3wfgB+EH4gfjB+QH5QfmB+cH6Ac=",
          "dtype": "i2"
         },
         "xaxis": "x",
         "y": {
          "bdata": "AQADAAIAAgAEAAIAEQAKAAQADwAJAA0AGwAiACYAUwB2AKIAAgGKAVYCZALRAjMESQQ=",
          "dtype": "i2"
         },
         "yaxis": "y"
        },
        {
         "legendgroup": "cs.hc",
         "line": {
          "color": "#19D3F3"
         },
         "mode": "lines+markers",
         "showlegend": false,
         "type": "scatter",
         "x": {
          "bdata": "zgfPB9EH0gfTB9UH1gfXB9gH2QfaB9sH3AfdB94H3wfgB+EH4gfjB+QH5QfmB+cH6Ac=",
          "dtype": "i2"
         },
         "xaxis": "x2",
         "y": {
          "bdata": "AQADAAIAAgAEAAIAEQAKAAQADwAJAA0AGwAiACYAUwB2AKIAAgGKAVYCZALRAjMESQQ=",
          "dtype": "i2"
         },
         "yaxis": "y2"
        },
        {
         "legendgroup": "cs.lg",
         "line": {
          "color": "#FF6692"
         },
         "mode": "lines+markers",
         "name": "cs.lg",
         "type": "scatter",
         "x": {
          "bdata": "zQfPB9AH0QfSB9MH1AfVB9YH1wfYB9kH2gfbB9wH3QfeB98H4AfhB+IH4wfkB+UH5gfnB+gH",
          "dtype": "i2"
         },
         "xaxis": "x",
         "y": {
          "bdata": "AQACAAcAAwADAAQABwAQAA8AFgAyAFUAhwDBAHYBSgL6AtsE2AZXCmIUtyNBMMIuTTEKOJ8u",
          "dtype": "i2"
         },
         "yaxis": "y"
        },
        {
         "legendgroup": "cs.lg",
         "line": {
          "color": "#FF6692"
         },
         "mode": "lines+markers",
         "showlegend": false,
         "type": "scatter",
         "x": {
          "bdata": "zQfPB9AH0QfSB9MH1AfVB9YH1wfYB9kH2gfbB9wH3QfeB98H4AfhB+IH4wfkB+UH5gfnB+gH",
          "dtype": "i2"
         },
         "xaxis": "x2",
         "y": {
          "bdata": "AQACAAcAAwADAAQABwAQAA8AFgAyAFUAhwDBAHYBSgL6AtsE2AZXCmIUtyNBMMIuTTEKOJ8u",
          "dtype": "i2"
         },
         "yaxis": "y2"
        },
        {
         "legendgroup": "cs.ma",
         "line": {
          "color": "#B6E880"
         },
         "mode": "lines+markers",
         "name": "cs.ma",
         "type": "scatter",
         "x": {
          "bdata": "0AfSB9MH1AfVB9YH1wfYB9kH2gfbB9wH3QfeB98H4AfhB+IH4wfkB+UH5gfnB+gH",
          "dtype": "i2"
         },
         "xaxis": "x",
         "y": {
          "bdata": "AwABAAEABAAGAAsADAAWABAAEwAnACsAMQA/AEMATAB2AM8AJgGWAaIBpQGdAYwB",
          "dtype": "i2"
         },
         "yaxis": "y"
        },
        {
         "legendgroup": "cs.ma",
         "line": {
          "color": "#B6E880"
         },
         "mode": "lines+markers",
         "showlegend": false,
         "type": "scatter",
         "x": {
          "bdata": "0AfSB9MH1AfVB9YH1wfYB9kH2gfbB9wH3QfeB98H4AfhB+IH4wfkB+UH5gfnB+gH",
          "dtype": "i2"
         },
         "xaxis": "x2",
         "y": {
          "bdata": "AwABAAEABAAGAAsADAAWABAAEwAnACsAMQA/AEMATAB2AM8AJgGWAaIBpQGdAYwB",
          "dtype": "i2"
         },
         "yaxis": "y2"
        },
        {
         "legendgroup": "cs.ne",
         "line": {
          "color": "#FF97FF"
         },
         "mode": "lines+markers",
         "name": "cs.ne",
         "type": "scatter",
         "x": {
          "bdata": "zgfPB9AH0QfSB9MH1AfVB9YH1wfYB9kH2gfbB9wH3QfeB98H4AfhB+IH4wfkB+UH5gfnB+gH",
          "dtype": "i2"
         },
         "xaxis": "x",
         "y": {
          "bdata": "AQABAAEAAgACAAcABgAHAAoAEgAmABgAHgAlADcAZgDCADIBnQHDAQ8CcQLAAigCWwJCAtsB",
          "dtype": "i2"
         },
         "yaxis": "y"
        },
        {
         "legendgroup": "cs.ne",
         "line": {
          "color": "#FF97FF"
         },
         "mode": "lines+markers",
         "showlegend": false,
         "type": "scatter",
         "x": {
          "bdata": "zgfPB9AH0QfSB9MH1AfVB9YH1wfYB9kH2gfbB9wH3QfeB98H4AfhB+IH4wfkB+UH5gfnB+gH",
          "dtype": "i2"
         },
         "xaxis": "x2",
         "y": {
          "bdata": "AQABAAEAAgACAAcABgAHAAoAEgAmABgAHgAlADcAZgDCADIBnQHDAQ8CcQLAAigCWwJCAtsB",
          "dtype": "i2"
         },
         "yaxis": "y2"
        },
        {
         "legendgroup": "cs.ro",
         "line": {
          "color": "#FECB52"
         },
         "mode": "lines+markers",
         "name": "cs.ro",
         "type": "scatter",
         "x": {
          "bdata": "0AfWB9cH2AfZB9oH2wfcB90H3gffB+AH4QfiB+MH5AflB+YH5wfoBw==",
          "dtype": "i2"
         },
         "xaxis": "x",
         "y": {
          "bdata": "AQADAAQACwAGAAwAGAAhADcATgCPACUB/gHvApkEkAYzB+YHKQq0CA==",
          "dtype": "i2"
         },
         "yaxis": "y"
        },
        {
         "legendgroup": "cs.ro",
         "line": {
          "color": "#FECB52"
         },
         "mode": "lines+markers",
         "showlegend": false,
         "type": "scatter",
         "x": {
          "bdata": "0AfWB9cH2AfZB9oH2wfcB90H3gffB+AH4QfiB+MH5AflB+YH5wfoBw==",
          "dtype": "i2"
         },
         "xaxis": "x2",
         "y": {
          "bdata": "AQADAAQACwAGAAwAGAAhADcATgCPACUB/gHvApkEkAYzB+YHKQq0CA==",
          "dtype": "i2"
         },
         "yaxis": "y2"
        },
        {
         "legendgroup": "cs.sd",
         "line": {
          "color": "#636EFA"
         },
         "mode": "lines+markers",
         "name": "cs.sd",
         "type": "scatter",
         "x": {
          "bdata": "0AfXB9gH2QfaB9sH3AfdB94H3wfgB+EH4gfjB+QH5QfmB+cH6Ac=",
          "dtype": "i2"
         },
         "xaxis": "x",
         "y": {
          "bdata": "AwABAAMABgAGAAMABgAPABIAJgBlALcASQEDAgADXwMkBMQDHAM=",
          "dtype": "i2"
         },
         "yaxis": "y"
        },
        {
         "legendgroup": "cs.sd",
         "line": {
          "color": "#636EFA"
         },
         "mode": "lines+markers",
         "showlegend": false,
         "type": "scatter",
         "x": {
          "bdata": "0AfXB9gH2QfaB9sH3AfdB94H3wfgB+EH4gfjB+QH5QfmB+cH6Ac=",
          "dtype": "i2"
         },
         "xaxis": "x2",
         "y": {
          "bdata": "AwABAAMABgAGAAMABgAPABIAJgBlALcASQEDAgADXwMkBMQDHAM=",
          "dtype": "i2"
         },
         "yaxis": "y2"
        },
        {
         "legendgroup": "math.ds",
         "line": {
          "color": "#EF553B"
         },
         "mode": "lines+markers",
         "name": "math.ds",
         "type": "scatter",
         "x": {
          "bdata": "ygfMB80HzgfPB9AH0QfSB9MH1AfVB9YH1wfYB9kH2gfbB9wH3QfeB98H4AfhB+IH4wfkB+UH5gfnB+gH",
          "dtype": "i2"
         },
         "xaxis": "x",
         "y": {
          "bdata": "AwADAAgAEQAsADAAVgBMAHkAlwDMAOUALQF1AYgB/gGQAgEDKgNIA9YDywPmAywE/QSeBUIF4ATDBOUC",
          "dtype": "i2"
         },
         "yaxis": "y"
        },
        {
         "legendgroup": "math.ds",
         "line": {
          "color": "#EF553B"
         },
         "mode": "lines+markers",
         "showlegend": false,
         "type": "scatter",
         "x": {
          "bdata": "ygfMB80HzgfPB9AH0QfSB9MH1AfVB9YH1wfYB9kH2gfbB9wH3QfeB98H4AfhB+IH4wfkB+UH5gfnB+gH",
          "dtype": "i2"
         },
         "xaxis": "x2",
         "y": {
          "bdata": "AwADAAgAEQAsADAAVgBMAHkAlwDMAOUALQF1AYgB/gGQAgEDKgNIA9YDywPmAywE/QSeBUIF4ATDBOUC",
          "dtype": "i2"
         },
         "yaxis": "y2"
        },
        {
         "legendgroup": "math.oc",
         "line": {
          "color": "#00CC96"
         },
         "mode": "lines+markers",
         "name": "math.oc",
         "type": "scatter",
         "x": {
          "bdata": "zgfPB9AH0QfSB9MH1AfVB9YH1wfYB9kH2gfbB9wH3QfeB98H4AfhB+IH4wfkB+UH5gfnB+gH",
          "dtype": "i2"
         },
         "xaxis": "x",
         "y": {
          "bdata": "AwAKAAgACgAOABwAIgApADYAWgB4ALwAJAG8ARQCxAJqAzQEqASNBf0G7wi3Co4K9gn0CSAG",
          "dtype": "i2"
         },
         "yaxis": "y"
        },
        {
         "legendgroup": "math.oc",
         "line": {
          "color": "#00CC96"
         },
         "mode": "lines+markers",
         "showlegend": false,
         "type": "scatter",
         "x": {
          "bdata": "zgfPB9AH0QfSB9MH1AfVB9YH1wfYB9kH2gfbB9wH3QfeB98H4AfhB+IH4wfkB+UH5gfnB+gH",
          "dtype": "i2"
         },
         "xaxis": "x2",
         "y": {
          "bdata": "AwAKAAgACgAOABwAIgApADYAWgB4ALwAJAG8ARQCxAJqAzQEqASNBf0G7wi3Co4K9gn0CSAG",
          "dtype": "i2"
         },
         "yaxis": "y2"
        },
        {
         "legendgroup": "math.pr",
         "line": {
          "color": "#AB63FA"
         },
         "mode": "lines+markers",
         "name": "math.pr",
         "type": "scatter",
         "x": {
          "bdata": "ygfLB8wHzQfOB88H0AfRB9IH0wfUB9UH1gfXB9gH2QfaB9sH3AfdB94H3wfgB+EH4gfjB+QH5QfmB+cH6Ac=",
          "dtype": "i2"
         },
         "xaxis": "x",
         "y": {
          "bdata": "AQABAAEAAwAWACYANABOAGsAmQDuAFYB3gFQAqgCJAPmA/UEXQXwBQ0G1QbdBhcH3QcpCAQJkggPCGkHeQQ=",
          "dtype": "i2"
         },
         "yaxis": "y"
        },
        {
         "legendgroup": "math.pr",
         "line": {
          "color": "#AB63FA"
         },
         "mode": "lines+markers",
         "showlegend": false,
         "type": "scatter",
         "x": {
          "bdata": "ygfLB8wHzQfOB88H0AfRB9IH0wfUB9UH1gfXB9gH2QfaB9sH3AfdB94H3wfgB+EH4gfjB+QH5QfmB+cH6Ac=",
          "dtype": "i2"
         },
         "xaxis": "x2",
         "y": {
          "bdata": "AQABAAEAAwAWACYANABOAGsAmQDuAFYB3gFQAqgCJAPmA/UEXQXwBQ0G1QbdBhcH3QcpCAQJkggPCGkHeQQ=",
          "dtype": "i2"
         },
         "yaxis": "y2"
        },
        {
         "legendgroup": "math.qa",
         "line": {
          "color": "#FFA15A"
         },
         "mode": "lines+markers",
         "name": "math.qa",
         "type": "scatter",
         "x": {
          "bdata": "ygfLB8wHzQfOB88H0AfRB9IH0wfUB9UH1gfXB9gH2QfaB9sH3AfdB94H3wfgB+EH4gfjB+QH5QfmB+cH6Ac=",
          "dtype": "i2"
         },
         "xaxis": "x",
         "y": {
          "bdata": "UAB9AKcAywC1AMcA0gDwABYBFwEfASwBQgEwAUYBWgF+AV8BagF5AYcBmAG8AakBpgHJAcMBsAGZAakBBwE=",
          "dtype": "i2"
         },
         "yaxis": "y"
        },
        {
         "legendgroup": "math.qa",
         "line": {
          "color": "#FFA15A"
         },
         "mode": "lines+markers",
         "showlegend": false,
         "type": "scatter",
         "x": {
          "bdata": "ygfLB8wHzQfOB88H0AfRB9IH0wfUB9UH1gfXB9gH2QfaB9sH3AfdB94H3wfgB+EH4gfjB+QH5QfmB+cH6Ac=",
          "dtype": "i2"
         },
         "xaxis": "x2",
         "y": {
          "bdata": "UAB9AKcAywC1AMcA0gDwABYBFwEfASwBQgEwAUYBWgF+AV8BagF5AYcBmAG8AakBpgHJAcMBsAGZAakBBwE=",
          "dtype": "i2"
         },
         "yaxis": "y2"
        },
        {
         "legendgroup": "stat.ml",
         "line": {
          "color": "#19D3F3"
         },
         "mode": "lines+markers",
         "name": "stat.ml",
         "type": "scatter",
         "x": {
          "bdata": "1AfVB9cH2AfZB9oH2wfcB90H3gffB+AH4QfiB+MH5AflB+YH5wfoBw==",
          "dtype": "i2"
         },
         "xaxis": "x",
         "y": {
          "bdata": "AQABABUAJwBBAHMA5gBgATECiwKvA0gFGgioEAEZtxqnC8AK0wqMBw==",
          "dtype": "i2"
         },
         "yaxis": "y"
        },
        {
         "legendgroup": "stat.ml",
         "line": {
          "color": "#19D3F3"
         },
         "mode": "lines+markers",
         "showlegend": false,
         "type": "scatter",
         "x": {
          "bdata": "1AfVB9cH2AfZB9oH2wfcB90H3gffB+AH4QfiB+MH5AflB+YH5wfoBw==",
          "dtype": "i2"
         },
         "xaxis": "x2",
         "y": {
          "bdata": "AQABABUAJwBBAHMA5gBgATECiwKvA0gFGgioEAEZtxqnC8AK0wqMBw==",
          "dtype": "i2"
         },
         "yaxis": "y2"
        },
        {
         "legendgroup": "stat.th",
         "line": {
          "color": "#FF6692"
         },
         "mode": "lines+markers",
         "name": "stat.th",
         "type": "scatter",
         "x": {
          "bdata": "ygfOB9AH0QfSB9MH1AfVB9YH1wfYB9kH2gfbB9wH3QfeB98H4AfhB+IH4wfkB+UH5gfnB+gH",
          "dtype": "i2"
         },
         "xaxis": "x",
         "y": {
          "bdata": "AQABAAMABwAIAA8AKgBcAI4AqADrAOoAIQHEAdsB1gFGAnUCiALPAuUCyQODBBcENwTAA1gC",
          "dtype": "i2"
         },
         "yaxis": "y"
        },
        {
         "legendgroup": "stat.th",
         "line": {
          "color": "#FF6692"
         },
         "mode": "lines+markers",
         "showlegend": false,
         "type": "scatter",
         "x": {
          "bdata": "ygfOB9AH0QfSB9MH1AfVB9YH1wfYB9kH2gfbB9wH3QfeB98H4AfhB+IH4wfkB+UH5gfnB+gH",
          "dtype": "i2"
         },
         "xaxis": "x2",
         "y": {
          "bdata": "AQABAAMABwAIAA8AKgBcAI4AqADrAOoAIQHEAdsB1gFGAnUCiALPAuUCyQODBBcENwTAA1gC",
          "dtype": "i2"
         },
         "yaxis": "y2"
        },
        {
         "legendgroup": "q-fin.cp",
         "line": {
          "color": "#B6E880"
         },
         "mode": "lines+markers",
         "name": "q-fin.cp",
         "type": "scatter",
         "x": {
          "bdata": "zgfPB9AH0gfTB9UH1gfXB9gH2QfaB9sH3AfdB94H3wfgB+EH4gfjB+QH5QfmB+cH6Ac=",
          "dtype": "i2"
         },
         "xaxis": "x",
         "y": {
          "bdata": "AQEBAQEEBAcQLS0xLCwgMiRBQFFmVWpmVA==",
          "dtype": "i1"
         },
         "yaxis": "y"
        },
        {
         "legendgroup": "q-fin.cp",
         "line": {
          "color": "#B6E880"
         },
         "mode": "lines+markers",
         "showlegend": false,
         "type": "scatter",
         "x": {
          "bdata": "zgfPB9AH0gfTB9UH1gfXB9gH2QfaB9sH3AfdB94H3wfgB+EH4gfjB+QH5QfmB+cH6Ac=",
          "dtype": "i2"
         },
         "xaxis": "x2",
         "y": {
          "bdata": "AQEBAQEEBAcQLS0xLCwgMiRBQFFmVWpmVA==",
          "dtype": "i1"
         },
         "yaxis": "y2"
        },
        {
         "legendgroup": "q-fin.mf",
         "line": {
          "color": "#FF97FF"
         },
         "mode": "lines+markers",
         "name": "q-fin.mf",
         "type": "scatter",
         "x": {
          "bdata": "3gffB+AH4QfiB+MH5AflB+YH5wfoBw==",
          "dtype": "i2"
         },
         "xaxis": "x",
         "y": {
          "bdata": "UQB0AG8AcgCCAKEAtQCUAIMAhgBTAA==",
          "dtype": "i2"
         },
         "yaxis": "y"
        },
        {
         "legendgroup": "q-fin.mf",
         "line": {
          "color": "#FF97FF"
         },
         "mode": "lines+markers",
         "showlegend": false,
         "type": "scatter",
         "x": {
          "bdata": "3gffB+AH4QfiB+MH5AflB+YH5wfoBw==",
          "dtype": "i2"
         },
         "xaxis": "x2",
         "y": {
          "bdata": "UQB0AG8AcgCCAKEAtQCUAIMAhgBTAA==",
          "dtype": "i2"
         },
         "yaxis": "y2"
        },
        {
         "legendgroup": "q-fin.st",
         "line": {
          "color": "#FECB52"
         },
         "mode": "lines+markers",
         "name": "q-fin.st",
         "type": "scatter",
         "x": {
          "bdata": "zQfOB88H0AfRB9IH0wfUB9UH1gfXB9gH2QfaB9sH3AfdB94H3wfgB+EH4gfjB+QH5QfmB+cH6Ac=",
          "dtype": "i2"
         },
         "xaxis": "x",
         "y": {
          "bdata": "BgIFCAkHEhYeMB8gJjgiMEU0NTg1RWFsWVxTSg==",
          "dtype": "i1"
         },
         "yaxis": "y"
        },
        {
         "legendgroup": "q-fin.st",
         "line": {
          "color": "#FECB52"
         },
         "mode": "lines+markers",
         "showlegend": false,
         "type": "scatter",
         "x": {
          "bdata": "zQfOB88H0AfRB9IH0wfUB9UH1gfXB9gH2QfaB9sH3AfdB94H3wfgB+EH4gfjB+QH5QfmB+cH6Ac=",
          "dtype": "i2"
         },
         "xaxis": "x2",
         "y": {
          "bdata": "BgIFCAkHEhYeMB8gJjgiMEU0NTg1RWFsWVxTSg==",
          "dtype": "i1"
         },
         "yaxis": "y2"
        }
       ],
       "layout": {
        "annotations": [
         {
          "font": {
           "size": 16
          },
          "showarrow": false,
          "text": "Linear-Scale",
          "x": 0.225,
          "xanchor": "center",
          "xref": "paper",
          "y": 1,
          "yanchor": "bottom",
          "yref": "paper"
         },
         {
          "font": {
           "size": 16
          },
          "showarrow": false,
          "text": "Log-Scale",
          "x": 0.775,
          "xanchor": "center",
          "xref": "paper",
          "y": 1,
          "yanchor": "bottom",
          "yref": "paper"
         }
        ],
        "height": 550,
        "legend": {
         "title": {
          "text": "Categories"
         }
        },
        "template": {
         "data": {
          "bar": [
           {
            "error_x": {
             "color": "#2a3f5f"
            },
            "error_y": {
             "color": "#2a3f5f"
            },
            "marker": {
             "line": {
              "color": "white",
              "width": 0.5
             },
             "pattern": {
              "fillmode": "overlay",
              "size": 10,
              "solidity": 0.2
             }
            },
            "type": "bar"
           }
          ],
          "barpolar": [
           {
            "marker": {
             "line": {
              "color": "white",
              "width": 0.5
             },
             "pattern": {
              "fillmode": "overlay",
              "size": 10,
              "solidity": 0.2
             }
            },
            "type": "barpolar"
           }
          ],
          "carpet": [
           {
            "aaxis": {
             "endlinecolor": "#2a3f5f",
             "gridcolor": "#C8D4E3",
             "linecolor": "#C8D4E3",
             "minorgridcolor": "#C8D4E3",
             "startlinecolor": "#2a3f5f"
            },
            "baxis": {
             "endlinecolor": "#2a3f5f",
             "gridcolor": "#C8D4E3",
             "linecolor": "#C8D4E3",
             "minorgridcolor": "#C8D4E3",
             "startlinecolor": "#2a3f5f"
            },
            "type": "carpet"
           }
          ],
          "choropleth": [
           {
            "colorbar": {
             "outlinewidth": 0,
             "ticks": ""
            },
            "type": "choropleth"
           }
          ],
          "contour": [
           {
            "colorbar": {
             "outlinewidth": 0,
             "ticks": ""
            },
            "colorscale": [
             [
              0,
              "#0d0887"
             ],
             [
              0.1111111111111111,
              "#46039f"
             ],
             [
              0.2222222222222222,
              "#7201a8"
             ],
             [
              0.3333333333333333,
              "#9c179e"
             ],
             [
              0.4444444444444444,
              "#bd3786"
             ],
             [
              0.5555555555555556,
              "#d8576b"
             ],
             [
              0.6666666666666666,
              "#ed7953"
             ],
             [
              0.7777777777777778,
              "#fb9f3a"
             ],
             [
              0.8888888888888888,
              "#fdca26"
             ],
             [
              1,
              "#f0f921"
             ]
            ],
            "type": "contour"
           }
          ],
          "contourcarpet": [
           {
            "colorbar": {
             "outlinewidth": 0,
             "ticks": ""
            },
            "type": "contourcarpet"
           }
          ],
          "heatmap": [
           {
            "colorbar": {
             "outlinewidth": 0,
             "ticks": ""
            },
            "colorscale": [
             [
              0,
              "#0d0887"
             ],
             [
              0.1111111111111111,
              "#46039f"
             ],
             [
              0.2222222222222222,
              "#7201a8"
             ],
             [
              0.3333333333333333,
              "#9c179e"
             ],
             [
              0.4444444444444444,
              "#bd3786"
             ],
             [
              0.5555555555555556,
              "#d8576b"
             ],
             [
              0.6666666666666666,
              "#ed7953"
             ],
             [
              0.7777777777777778,
              "#fb9f3a"
             ],
             [
              0.8888888888888888,
              "#fdca26"
             ],
             [
              1,
              "#f0f921"
             ]
            ],
            "type": "heatmap"
           }
          ],
          "histogram": [
           {
            "marker": {
             "pattern": {
              "fillmode": "overlay",
              "size": 10,
              "solidity": 0.2
             }
            },
            "type": "histogram"
           }
          ],
          "histogram2d": [
           {
            "colorbar": {
             "outlinewidth": 0,
             "ticks": ""
            },
            "colorscale": [
             [
              0,
              "#0d0887"
             ],
             [
              0.1111111111111111,
              "#46039f"
             ],
             [
              0.2222222222222222,
              "#7201a8"
             ],
             [
              0.3333333333333333,
              "#9c179e"
             ],
             [
              0.4444444444444444,
              "#bd3786"
             ],
             [
              0.5555555555555556,
              "#d8576b"
             ],
             [
              0.6666666666666666,
              "#ed7953"
             ],
             [
              0.7777777777777778,
              "#fb9f3a"
             ],
             [
              0.8888888888888888,
              "#fdca26"
             ],
             [
              1,
              "#f0f921"
             ]
            ],
            "type": "histogram2d"
           }
          ],
          "histogram2dcontour": [
           {
            "colorbar": {
             "outlinewidth": 0,
             "ticks": ""
            },
            "colorscale": [
             [
              0,
              "#0d0887"
             ],
             [
              0.1111111111111111,
              "#46039f"
             ],
             [
              0.2222222222222222,
              "#7201a8"
             ],
             [
              0.3333333333333333,
              "#9c179e"
             ],
             [
              0.4444444444444444,
              "#bd3786"
             ],
             [
              0.5555555555555556,
              "#d8576b"
             ],
             [
              0.6666666666666666,
              "#ed7953"
             ],
             [
              0.7777777777777778,
              "#fb9f3a"
             ],
             [
              0.8888888888888888,
              "#fdca26"
             ],
             [
              1,
              "#f0f921"
             ]
            ],
            "type": "histogram2dcontour"
           }
          ],
          "mesh3d": [
           {
            "colorbar": {
             "outlinewidth": 0,
             "ticks": ""
            },
            "type": "mesh3d"
           }
          ],
          "parcoords": [
           {
            "line": {
             "colorbar": {
              "outlinewidth": 0,
              "ticks": ""
             }
            },
            "type": "parcoords"
           }
          ],
          "pie": [
           {
            "automargin": true,
            "type": "pie"
           }
          ],
          "scatter": [
           {
            "fillpattern": {
             "fillmode": "overlay",
             "size": 10,
             "solidity": 0.2
            },
            "type": "scatter"
           }
          ],
          "scatter3d": [
           {
            "line": {
             "colorbar": {
              "outlinewidth": 0,
              "ticks": ""
             }
            },
            "marker": {
             "colorbar": {
              "outlinewidth": 0,
              "ticks": ""
             }
            },
            "type": "scatter3d"
           }
          ],
          "scattercarpet": [
           {
            "marker": {
             "colorbar": {
              "outlinewidth": 0,
              "ticks": ""
             }
            },
            "type": "scattercarpet"
           }
          ],
          "scattergeo": [
           {
            "marker": {
             "colorbar": {
              "outlinewidth": 0,
              "ticks": ""
             }
            },
            "type": "scattergeo"
           }
          ],
          "scattergl": [
           {
            "marker": {
             "colorbar": {
              "outlinewidth": 0,
              "ticks": ""
             }
            },
            "type": "scattergl"
           }
          ],
          "scattermap": [
           {
            "marker": {
             "colorbar": {
              "outlinewidth": 0,
              "ticks": ""
             }
            },
            "type": "scattermap"
           }
          ],
          "scattermapbox": [
           {
            "marker": {
             "colorbar": {
              "outlinewidth": 0,
              "ticks": ""
             }
            },
            "type": "scattermapbox"
           }
          ],
          "scatterpolar": [
           {
            "marker": {
             "colorbar": {
              "outlinewidth": 0,
              "ticks": ""
             }
            },
            "type": "scatterpolar"
           }
          ],
          "scatterpolargl": [
           {
            "marker": {
             "colorbar": {
              "outlinewidth": 0,
              "ticks": ""
             }
            },
            "type": "scatterpolargl"
           }
          ],
          "scatterternary": [
           {
            "marker": {
             "colorbar": {
              "outlinewidth": 0,
              "ticks": ""
             }
            },
            "type": "scatterternary"
           }
          ],
          "surface": [
           {
            "colorbar": {
             "outlinewidth": 0,
             "ticks": ""
            },
            "colorscale": [
             [
              0,
              "#0d0887"
             ],
             [
              0.1111111111111111,
              "#46039f"
             ],
             [
              0.2222222222222222,
              "#7201a8"
             ],
             [
              0.3333333333333333,
              "#9c179e"
             ],
             [
              0.4444444444444444,
              "#bd3786"
             ],
             [
              0.5555555555555556,
              "#d8576b"
             ],
             [
              0.6666666666666666,
              "#ed7953"
             ],
             [
              0.7777777777777778,
              "#fb9f3a"
             ],
             [
              0.8888888888888888,
              "#fdca26"
             ],
             [
              1,
              "#f0f921"
             ]
            ],
            "type": "surface"
           }
          ],
          "table": [
           {
            "cells": {
             "fill": {
              "color": "#EBF0F8"
             },
             "line": {
              "color": "white"
             }
            },
            "header": {
             "fill": {
              "color": "#C8D4E3"
             },
             "line": {
              "color": "white"
             }
            },
            "type": "table"
           }
          ]
         },
         "layout": {
          "annotationdefaults": {
           "arrowcolor": "#2a3f5f",
           "arrowhead": 0,
           "arrowwidth": 1
          },
          "autotypenumbers": "strict",
          "coloraxis": {
           "colorbar": {
            "outlinewidth": 0,
            "ticks": ""
           }
          },
          "colorscale": {
           "diverging": [
            [
             0,
             "#8e0152"
            ],
            [
             0.1,
             "#c51b7d"
            ],
            [
             0.2,
             "#de77ae"
            ],
            [
             0.3,
             "#f1b6da"
            ],
            [
             0.4,
             "#fde0ef"
            ],
            [
             0.5,
             "#f7f7f7"
            ],
            [
             0.6,
             "#e6f5d0"
            ],
            [
             0.7,
             "#b8e186"
            ],
            [
             0.8,
             "#7fbc41"
            ],
            [
             0.9,
             "#4d9221"
            ],
            [
             1,
             "#276419"
            ]
           ],
           "sequential": [
            [
             0,
             "#0d0887"
            ],
            [
             0.1111111111111111,
             "#46039f"
            ],
            [
             0.2222222222222222,
             "#7201a8"
            ],
            [
             0.3333333333333333,
             "#9c179e"
            ],
            [
             0.4444444444444444,
             "#bd3786"
            ],
            [
             0.5555555555555556,
             "#d8576b"
            ],
            [
             0.6666666666666666,
             "#ed7953"
            ],
            [
             0.7777777777777778,
             "#fb9f3a"
            ],
            [
             0.8888888888888888,
             "#fdca26"
            ],
            [
             1,
             "#f0f921"
            ]
           ],
           "sequentialminus": [
            [
             0,
             "#0d0887"
            ],
            [
             0.1111111111111111,
             "#46039f"
            ],
            [
             0.2222222222222222,
             "#7201a8"
            ],
            [
             0.3333333333333333,
             "#9c179e"
            ],
            [
             0.4444444444444444,
             "#bd3786"
            ],
            [
             0.5555555555555556,
             "#d8576b"
            ],
            [
             0.6666666666666666,
             "#ed7953"
            ],
            [
             0.7777777777777778,
             "#fb9f3a"
            ],
            [
             0.8888888888888888,
             "#fdca26"
            ],
            [
             1,
             "#f0f921"
            ]
           ]
          },
          "colorway": [
           "#636efa",
           "#EF553B",
           "#00cc96",
           "#ab63fa",
           "#FFA15A",
           "#19d3f3",
           "#FF6692",
           "#B6E880",
           "#FF97FF",
           "#FECB52"
          ],
          "font": {
           "color": "#2a3f5f"
          },
          "geo": {
           "bgcolor": "white",
           "lakecolor": "white",
           "landcolor": "white",
           "showlakes": true,
           "showland": true,
           "subunitcolor": "#C8D4E3"
          },
          "hoverlabel": {
           "align": "left"
          },
          "hovermode": "closest",
          "mapbox": {
           "style": "light"
          },
          "paper_bgcolor": "white",
          "plot_bgcolor": "white",
          "polar": {
           "angularaxis": {
            "gridcolor": "#EBF0F8",
            "linecolor": "#EBF0F8",
            "ticks": ""
           },
           "bgcolor": "white",
           "radialaxis": {
            "gridcolor": "#EBF0F8",
            "linecolor": "#EBF0F8",
            "ticks": ""
           }
          },
          "scene": {
           "xaxis": {
            "backgroundcolor": "white",
            "gridcolor": "#DFE8F3",
            "gridwidth": 2,
            "linecolor": "#EBF0F8",
            "showbackground": true,
            "ticks": "",
            "zerolinecolor": "#EBF0F8"
           },
           "yaxis": {
            "backgroundcolor": "white",
            "gridcolor": "#DFE8F3",
            "gridwidth": 2,
            "linecolor": "#EBF0F8",
            "showbackground": true,
            "ticks": "",
            "zerolinecolor": "#EBF0F8"
           },
           "zaxis": {
            "backgroundcolor": "white",
            "gridcolor": "#DFE8F3",
            "gridwidth": 2,
            "linecolor": "#EBF0F8",
            "showbackground": true,
            "ticks": "",
            "zerolinecolor": "#EBF0F8"
           }
          },
          "shapedefaults": {
           "line": {
            "color": "#2a3f5f"
           }
          },
          "ternary": {
           "aaxis": {
            "gridcolor": "#DFE8F3",
            "linecolor": "#A2B1C6",
            "ticks": ""
           },
           "baxis": {
            "gridcolor": "#DFE8F3",
            "linecolor": "#A2B1C6",
            "ticks": ""
           },
           "bgcolor": "white",
           "caxis": {
            "gridcolor": "#DFE8F3",
            "linecolor": "#A2B1C6",
            "ticks": ""
           }
          },
          "title": {
           "x": 0.05
          },
          "xaxis": {
           "automargin": true,
           "gridcolor": "#EBF0F8",
           "linecolor": "#EBF0F8",
           "ticks": "",
           "title": {
            "standoff": 15
           },
           "zerolinecolor": "#EBF0F8",
           "zerolinewidth": 2
          },
          "yaxis": {
           "automargin": true,
           "gridcolor": "#EBF0F8",
           "linecolor": "#EBF0F8",
           "ticks": "",
           "title": {
            "standoff": 15
           },
           "zerolinecolor": "#EBF0F8",
           "zerolinewidth": 2
          }
         }
        },
        "title": {
         "font": {
          "size": 25
         },
         "text": "Number of corrective Publications per Year by Category",
         "x": 0.5
        },
        "xaxis": {
         "anchor": "y",
         "domain": [
          0,
          0.45
         ],
         "title": {
          "text": "Year of Publication"
         }
        },
        "xaxis2": {
         "anchor": "y2",
         "domain": [
          0.55,
          1
         ],
         "title": {
          "text": "Year of Publication"
         }
        },
        "yaxis": {
         "anchor": "x",
         "domain": [
          0,
          1
         ],
         "title": {
          "text": "# of Publications per Year"
         }
        },
        "yaxis2": {
         "anchor": "x2",
         "domain": [
          0,
          1
         ],
         "title": {
          "text": "# of Publications per Year"
         },
         "type": "log"
        }
       }
      }
     },
     "metadata": {},
     "output_type": "display_data"
    },
    {
     "data": {
      "application/vnd.plotly.v1+json": {
       "config": {
        "plotlyServerURL": "https://plot.ly"
       },
       "data": [
        {
         "colorbar": {
          "title": {
           "text": "Count"
          }
         },
         "colorscale": [
          [
           0,
           "rgb(5,48,97)"
          ],
          [
           0.1,
           "rgb(33,102,172)"
          ],
          [
           0.2,
           "rgb(67,147,195)"
          ],
          [
           0.3,
           "rgb(146,197,222)"
          ],
          [
           0.4,
           "rgb(209,229,240)"
          ],
          [
           0.5,
           "rgb(247,247,247)"
          ],
          [
           0.6,
           "rgb(253,219,199)"
          ],
          [
           0.7,
           "rgb(244,165,130)"
          ],
          [
           0.8,
           "rgb(214,96,77)"
          ],
          [
           0.9,
           "rgb(178,24,43)"
          ],
          [
           1,
           "rgb(103,0,31)"
          ]
         ],
         "text": {
          "bdata": "AQAAAAAAAAABAAAAAwAHAAgADwAqAFwAjgCoAOsA6gAhAcQB2wHWAUYCdQKIAs8C5QLJA4MEFwQ3BMADWAIAAAAAAAAAAAAAAAAAAAAAAAAAAAEAAQAAABUAJwBBAHMA5gBgATECiwKvA0gFGgioEAEZtxqnC8AK0wqMBwAAAAAAAAYAAgAFAAgACQAHABIAFgAeADAAHwAgACYAOAAiADAARQA0ADUAOAA1AEUAYQBsAFkAXABTAEoAAAAAAAAAAAAAAAAAAAAAAAAAAAAAAAAAAAAAAAAAAAAAAAAAAAAAAFEAdABvAHIAggChALUAlACDAIYAUwAAAAAAAAAAAAEAAQABAAAAAQABAAAABAAEAAcAEAAtAC0AMQAsACwAIAAyACQAQQBAAFEAZgBVAGoAZgBUAFAAfQCnAMsAtQDHANIA8AAWARcBHwEsAUIBMAFGAVoBfgFfAWoBeQGHAZgBvAGpAaYByQHDAbABmQGpAQcBAQABAAEAAwAWACYANABOAGsAmQDuAFYB3gFQAqgCJAPmA/UEXQXwBQ0G1QbdBhcH3QcpCAQJkggPCGkHeQQAAAAAAAAAAAMACgAIAAoADgAcACIAKQA2AFoAeAC8ACQBvAEUAsQCagM0BKgEjQX9Bu8ItwqOCvYJ9AkgBgMAAAADAAgAEQAsADAAVgBMAHkAlwDMAOUALQF1AYgB/gGQAgEDKgNIA9YDywPmAywE/QSeBUIF4ATDBOUCAAAAAAAAAAAAAAAAAwAAAAAAAAAAAAAAAAABAAMABgAGAAMABgAPABIAJgBlALcASQEDAgADXwMkBMQDHAMAAAAAAAAAAAAAAAABAAAAAAAAAAAAAAADAAQACwAGAAwAGAAhADcATgCPACUB/gHvApkEkAYzB+YHKQq0CAAAAAAAAAAAAQABAAEAAgACAAcABgAHAAoAEgAmABgAHgAlADcAZgDCADIBnQHDAQ8CcQLAAigCWwJCAtsBAAAAAAAAAAAAAAAAAwAAAAEAAQAEAAYACwAMABYAEAATACcAKwAxAD8AQwBMAHYAzwAmAZYBogGlAZ0BjAEAAAAAAAABAAAAAgAHAAMAAwAEAAcAEAAPABYAMgBVAIcAwQB2AUoC+gLbBNgGVwpiFLcjQTDCLk0xCjifLgAAAAAAAAAAAQADAAAAAgACAAQAAAACABEACgAEAA8ACQANABsAIgAmAFMAdgCiAAIBigFWAmQC0QIzBEkEAAAAAAAAAAAAAAYABwAKAAwADwAZAB0AMQBRAIIAmwDOAAABQAEkARcBfQF8AYABrQHfARoC6QEDAvYBIwEAAAAAAAAAAAAAAQAAAAIAAQAFAAkABwAKAAsAFgAhADEAYQCEAPUA4wGuA/AFmQk3DhcTRRkNHP0eRycMIyQAJgAVAA8ADwAFAAMABQADAAMABQADAAMAEQAOAA8ADwAfACoAWgCdAFoBvAKeAzEFFgiaCz4MGg57FtscAAAAAAEAAQAJABAAEQAdACIAJQAiADwAUgBYAHkAlAC/ANgA3QAdAQ4BIwE/AUIBNQGCAagBnAF7AYEBEgEAAAAAAAAAAAIABwATAAsAGwAVAB4AGwAxACkAUQBeAGIAjQCtAPEA8wCdAQADwQT6BsQHWwwZFMMXQiO1Jw==",
          "dtype": "i2",
          "shape": "20, 31"
         },
         "texttemplate": "%{text}",
         "type": "heatmap",
         "x": {
          "bdata": "ygfLB8wHzQfOB88H0AfRB9IH0wfUB9UH1gfXB9gH2QfaB9sH3AfdB94H3wfgB+EH4gfjB+QH5QfmB+cH6Ac=",
          "dtype": "i2"
         },
         "y": [
          "stat.th",
          "stat.ml",
          "q-fin.st",
          "q-fin.mf",
          "q-fin.cp",
          "math.qa",
          "math.pr",
          "math.oc",
          "math.ds",
          "cs.sd",
          "cs.ro",
          "cs.ne",
          "cs.ma",
          "cs.lg",
          "cs.hc",
          "cs.dm",
          "cs.cv",
          "cs.cl",
          "cs.cc",
          "cs.ai"
         ],
         "z": {
          "bdata": "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",
          "dtype": "f8",
          "shape": "20, 31"
         }
        }
       ],
       "layout": {
        "height": 800,
        "template": {
         "data": {
          "bar": [
           {
            "error_x": {
             "color": "#2a3f5f"
            },
            "error_y": {
             "color": "#2a3f5f"
            },
            "marker": {
             "line": {
              "color": "white",
              "width": 0.5
             },
             "pattern": {
              "fillmode": "overlay",
              "size": 10,
              "solidity": 0.2
             }
            },
            "type": "bar"
           }
          ],
          "barpolar": [
           {
            "marker": {
             "line": {
              "color": "white",
              "width": 0.5
             },
             "pattern": {
              "fillmode": "overlay",
              "size": 10,
              "solidity": 0.2
             }
            },
            "type": "barpolar"
           }
          ],
          "carpet": [
           {
            "aaxis": {
             "endlinecolor": "#2a3f5f",
             "gridcolor": "#C8D4E3",
             "linecolor": "#C8D4E3",
             "minorgridcolor": "#C8D4E3",
             "startlinecolor": "#2a3f5f"
            },
            "baxis": {
             "endlinecolor": "#2a3f5f",
             "gridcolor": "#C8D4E3",
             "linecolor": "#C8D4E3",
             "minorgridcolor": "#C8D4E3",
             "startlinecolor": "#2a3f5f"
            },
            "type": "carpet"
           }
          ],
          "choropleth": [
           {
            "colorbar": {
             "outlinewidth": 0,
             "ticks": ""
            },
            "type": "choropleth"
           }
          ],
          "contour": [
           {
            "colorbar": {
             "outlinewidth": 0,
             "ticks": ""
            },
            "colorscale": [
             [
              0,
              "#0d0887"
             ],
             [
              0.1111111111111111,
              "#46039f"
             ],
             [
              0.2222222222222222,
              "#7201a8"
             ],
             [
              0.3333333333333333,
              "#9c179e"
             ],
             [
              0.4444444444444444,
              "#bd3786"
             ],
             [
              0.5555555555555556,
              "#d8576b"
             ],
             [
              0.6666666666666666,
              "#ed7953"
             ],
             [
              0.7777777777777778,
              "#fb9f3a"
             ],
             [
              0.8888888888888888,
              "#fdca26"
             ],
             [
              1,
              "#f0f921"
             ]
            ],
            "type": "contour"
           }
          ],
          "contourcarpet": [
           {
            "colorbar": {
             "outlinewidth": 0,
             "ticks": ""
            },
            "type": "contourcarpet"
           }
          ],
          "heatmap": [
           {
            "colorbar": {
             "outlinewidth": 0,
             "ticks": ""
            },
            "colorscale": [
             [
              0,
              "#0d0887"
             ],
             [
              0.1111111111111111,
              "#46039f"
             ],
             [
              0.2222222222222222,
              "#7201a8"
             ],
             [
              0.3333333333333333,
              "#9c179e"
             ],
             [
              0.4444444444444444,
              "#bd3786"
             ],
             [
              0.5555555555555556,
              "#d8576b"
             ],
             [
              0.6666666666666666,
              "#ed7953"
             ],
             [
              0.7777777777777778,
              "#fb9f3a"
             ],
             [
              0.8888888888888888,
              "#fdca26"
             ],
             [
              1,
              "#f0f921"
             ]
            ],
            "type": "heatmap"
           }
          ],
          "histogram": [
           {
            "marker": {
             "pattern": {
              "fillmode": "overlay",
              "size": 10,
              "solidity": 0.2
             }
            },
            "type": "histogram"
           }
          ],
          "histogram2d": [
           {
            "colorbar": {
             "outlinewidth": 0,
             "ticks": ""
            },
            "colorscale": [
             [
              0,
              "#0d0887"
             ],
             [
              0.1111111111111111,
              "#46039f"
             ],
             [
              0.2222222222222222,
              "#7201a8"
             ],
             [
              0.3333333333333333,
              "#9c179e"
             ],
             [
              0.4444444444444444,
              "#bd3786"
             ],
             [
              0.5555555555555556,
              "#d8576b"
             ],
             [
              0.6666666666666666,
              "#ed7953"
             ],
             [
              0.7777777777777778,
              "#fb9f3a"
             ],
             [
              0.8888888888888888,
              "#fdca26"
             ],
             [
              1,
              "#f0f921"
             ]
            ],
            "type": "histogram2d"
           }
          ],
          "histogram2dcontour": [
           {
            "colorbar": {
             "outlinewidth": 0,
             "ticks": ""
            },
            "colorscale": [
             [
              0,
              "#0d0887"
             ],
             [
              0.1111111111111111,
              "#46039f"
             ],
             [
              0.2222222222222222,
              "#7201a8"
             ],
             [
              0.3333333333333333,
              "#9c179e"
             ],
             [
              0.4444444444444444,
              "#bd3786"
             ],
             [
              0.5555555555555556,
              "#d8576b"
             ],
             [
              0.6666666666666666,
              "#ed7953"
             ],
             [
              0.7777777777777778,
              "#fb9f3a"
             ],
             [
              0.8888888888888888,
              "#fdca26"
             ],
             [
              1,
              "#f0f921"
             ]
            ],
            "type": "histogram2dcontour"
           }
          ],
          "mesh3d": [
           {
            "colorbar": {
             "outlinewidth": 0,
             "ticks": ""
            },
            "type": "mesh3d"
           }
          ],
          "parcoords": [
           {
            "line": {
             "colorbar": {
              "outlinewidth": 0,
              "ticks": ""
             }
            },
            "type": "parcoords"
           }
          ],
          "pie": [
           {
            "automargin": true,
            "type": "pie"
           }
          ],
          "scatter": [
           {
            "fillpattern": {
             "fillmode": "overlay",
             "size": 10,
             "solidity": 0.2
            },
            "type": "scatter"
           }
          ],
          "scatter3d": [
           {
            "line": {
             "colorbar": {
              "outlinewidth": 0,
              "ticks": ""
             }
            },
            "marker": {
             "colorbar": {
              "outlinewidth": 0,
              "ticks": ""
             }
            },
            "type": "scatter3d"
           }
          ],
          "scattercarpet": [
           {
            "marker": {
             "colorbar": {
              "outlinewidth": 0,
              "ticks": ""
             }
            },
            "type": "scattercarpet"
           }
          ],
          "scattergeo": [
           {
            "marker": {
             "colorbar": {
              "outlinewidth": 0,
              "ticks": ""
             }
            },
            "type": "scattergeo"
           }
          ],
          "scattergl": [
           {
            "marker": {
             "colorbar": {
              "outlinewidth": 0,
              "ticks": ""
             }
            },
            "type": "scattergl"
           }
          ],
          "scattermap": [
           {
            "marker": {
             "colorbar": {
              "outlinewidth": 0,
              "ticks": ""
             }
            },
            "type": "scattermap"
           }
          ],
          "scattermapbox": [
           {
            "marker": {
             "colorbar": {
              "outlinewidth": 0,
              "ticks": ""
             }
            },
            "type": "scattermapbox"
           }
          ],
          "scatterpolar": [
           {
            "marker": {
             "colorbar": {
              "outlinewidth": 0,
              "ticks": ""
             }
            },
            "type": "scatterpolar"
           }
          ],
          "scatterpolargl": [
           {
            "marker": {
             "colorbar": {
              "outlinewidth": 0,
              "ticks": ""
             }
            },
            "type": "scatterpolargl"
           }
          ],
          "scatterternary": [
           {
            "marker": {
             "colorbar": {
              "outlinewidth": 0,
              "ticks": ""
             }
            },
            "type": "scatterternary"
           }
          ],
          "surface": [
           {
            "colorbar": {
             "outlinewidth": 0,
             "ticks": ""
            },
            "colorscale": [
             [
              0,
              "#0d0887"
             ],
             [
              0.1111111111111111,
              "#46039f"
             ],
             [
              0.2222222222222222,
              "#7201a8"
             ],
             [
              0.3333333333333333,
              "#9c179e"
             ],
             [
              0.4444444444444444,
              "#bd3786"
             ],
             [
              0.5555555555555556,
              "#d8576b"
             ],
             [
              0.6666666666666666,
              "#ed7953"
             ],
             [
              0.7777777777777778,
              "#fb9f3a"
             ],
             [
              0.8888888888888888,
              "#fdca26"
             ],
             [
              1,
              "#f0f921"
             ]
            ],
            "type": "surface"
           }
          ],
          "table": [
           {
            "cells": {
             "fill": {
              "color": "#EBF0F8"
             },
             "line": {
              "color": "white"
             }
            },
            "header": {
             "fill": {
              "color": "#C8D4E3"
             },
             "line": {
              "color": "white"
             }
            },
            "type": "table"
           }
          ]
         },
         "layout": {
          "annotationdefaults": {
           "arrowcolor": "#2a3f5f",
           "arrowhead": 0,
           "arrowwidth": 1
          },
          "autotypenumbers": "strict",
          "coloraxis": {
           "colorbar": {
            "outlinewidth": 0,
            "ticks": ""
           }
          },
          "colorscale": {
           "diverging": [
            [
             0,
             "#8e0152"
            ],
            [
             0.1,
             "#c51b7d"
            ],
            [
             0.2,
             "#de77ae"
            ],
            [
             0.3,
             "#f1b6da"
            ],
            [
             0.4,
             "#fde0ef"
            ],
            [
             0.5,
             "#f7f7f7"
            ],
            [
             0.6,
             "#e6f5d0"
            ],
            [
             0.7,
             "#b8e186"
            ],
            [
             0.8,
             "#7fbc41"
            ],
            [
             0.9,
             "#4d9221"
            ],
            [
             1,
             "#276419"
            ]
           ],
           "sequential": [
            [
             0,
             "#0d0887"
            ],
            [
             0.1111111111111111,
             "#46039f"
            ],
            [
             0.2222222222222222,
             "#7201a8"
            ],
            [
             0.3333333333333333,
             "#9c179e"
            ],
            [
             0.4444444444444444,
             "#bd3786"
            ],
            [
             0.5555555555555556,
             "#d8576b"
            ],
            [
             0.6666666666666666,
             "#ed7953"
            ],
            [
             0.7777777777777778,
             "#fb9f3a"
            ],
            [
             0.8888888888888888,
             "#fdca26"
            ],
            [
             1,
             "#f0f921"
            ]
           ],
           "sequentialminus": [
            [
             0,
             "#0d0887"
            ],
            [
             0.1111111111111111,
             "#46039f"
            ],
            [
             0.2222222222222222,
             "#7201a8"
            ],
            [
             0.3333333333333333,
             "#9c179e"
            ],
            [
             0.4444444444444444,
             "#bd3786"
            ],
            [
             0.5555555555555556,
             "#d8576b"
            ],
            [
             0.6666666666666666,
             "#ed7953"
            ],
            [
             0.7777777777777778,
             "#fb9f3a"
            ],
            [
             0.8888888888888888,
             "#fdca26"
            ],
            [
             1,
             "#f0f921"
            ]
           ]
          },
          "colorway": [
           "#636efa",
           "#EF553B",
           "#00cc96",
           "#ab63fa",
           "#FFA15A",
           "#19d3f3",
           "#FF6692",
           "#B6E880",
           "#FF97FF",
           "#FECB52"
          ],
          "font": {
           "color": "#2a3f5f"
          },
          "geo": {
           "bgcolor": "white",
           "lakecolor": "white",
           "landcolor": "white",
           "showlakes": true,
           "showland": true,
           "subunitcolor": "#C8D4E3"
          },
          "hoverlabel": {
           "align": "left"
          },
          "hovermode": "closest",
          "mapbox": {
           "style": "light"
          },
          "paper_bgcolor": "white",
          "plot_bgcolor": "white",
          "polar": {
           "angularaxis": {
            "gridcolor": "#EBF0F8",
            "linecolor": "#EBF0F8",
            "ticks": ""
           },
           "bgcolor": "white",
           "radialaxis": {
            "gridcolor": "#EBF0F8",
            "linecolor": "#EBF0F8",
            "ticks": ""
           }
          },
          "scene": {
           "xaxis": {
            "backgroundcolor": "white",
            "gridcolor": "#DFE8F3",
            "gridwidth": 2,
            "linecolor": "#EBF0F8",
            "showbackground": true,
            "ticks": "",
            "zerolinecolor": "#EBF0F8"
           },
           "yaxis": {
            "backgroundcolor": "white",
            "gridcolor": "#DFE8F3",
            "gridwidth": 2,
            "linecolor": "#EBF0F8",
            "showbackground": true,
            "ticks": "",
            "zerolinecolor": "#EBF0F8"
           },
           "zaxis": {
            "backgroundcolor": "white",
            "gridcolor": "#DFE8F3",
            "gridwidth": 2,
            "linecolor": "#EBF0F8",
            "showbackground": true,
            "ticks": "",
            "zerolinecolor": "#EBF0F8"
           }
          },
          "shapedefaults": {
           "line": {
            "color": "#2a3f5f"
           }
          },
          "ternary": {
           "aaxis": {
            "gridcolor": "#DFE8F3",
            "linecolor": "#A2B1C6",
            "ticks": ""
           },
           "baxis": {
            "gridcolor": "#DFE8F3",
            "linecolor": "#A2B1C6",
            "ticks": ""
           },
           "bgcolor": "white",
           "caxis": {
            "gridcolor": "#DFE8F3",
            "linecolor": "#A2B1C6",
            "ticks": ""
           }
          },
          "title": {
           "x": 0.05
          },
          "xaxis": {
           "automargin": true,
           "gridcolor": "#EBF0F8",
           "linecolor": "#EBF0F8",
           "ticks": "",
           "title": {
            "standoff": 15
           },
           "zerolinecolor": "#EBF0F8",
           "zerolinewidth": 2
          },
          "yaxis": {
           "automargin": true,
           "gridcolor": "#EBF0F8",
           "linecolor": "#EBF0F8",
           "ticks": "",
           "title": {
            "standoff": 15
           },
           "zerolinecolor": "#EBF0F8",
           "zerolinewidth": 2
          }
         }
        },
        "title": {
         "font": {
          "size": 25
         },
         "text": "Number of corrective Publications per Year by Category",
         "x": 0.5
        },
        "xaxis": {
         "title": {
          "text": "Year of Publication"
         }
        },
        "yaxis": {
         "title": {
          "text": "Category"
         }
        }
       }
      }
     },
     "metadata": {},
     "output_type": "display_data"
    }
   ],
   "source": [
    "visualize_publications_by_category(df_corrective, \"corrective\")"
   ]
  },
  {
   "cell_type": "markdown",
   "metadata": {},
   "source": [
    "### Analysis of the relative impact by Category for each Year since 1994"
   ]
  },
  {
   "cell_type": "code",
   "execution_count": 54,
   "metadata": {
    "ExecuteTime": {
     "end_time": "2024-12-29T15:25:43.626955Z",
     "start_time": "2024-12-29T15:25:43.622823Z"
    }
   },
   "outputs": [],
   "source": [
    "def visualize_publications_by_category_normalized(df, title):\n",
    "    \"\"\"\n",
    "    Visualizes the normalized distribution of publications per year by category.\n",
    "\n",
    "    This function creates a heatmap where the values are normalized ratios of\n",
    "    publications within each category. It shows the relative contribution of each\n",
    "    category to the total publications for that category.\n",
    "    \"\"\"\n",
    "    df = prepare_data(df, \"Y\", True)\n",
    "\n",
    "    # Create a pivot table with categorises as rows and periods as columns\n",
    "    pivot_counts = df.pivot(index=\"categories\", columns=\"period\", values=\"count\").fillna(0)\n",
    "\n",
    "    # Normalize publication counts so that each column (year) sums to 1\n",
    "    normalized_counts = pivot_counts.div(pivot_counts.sum(axis=0), axis=1)\n",
    "    # Sort categories alphabetically in descending order to sort the heatmap alphabetically (it's reversed)\n",
    "    normalized_counts = normalized_counts.sort_index(ascending=False)\n",
    "\n",
    "    # Create the heatmap figure\n",
    "    fig = go.Figure(\n",
    "        data=go.Heatmap(\n",
    "            z=normalized_counts.values,\n",
    "            x=normalized_counts.columns,\n",
    "            y=normalized_counts.index,\n",
    "            colorbar=dict(title=\"Ratio\"),\n",
    "            colorscale='RdBu_r'\n",
    "        )\n",
    "    )\n",
    "\n",
    "    fig.update_layout(\n",
    "        title=dict(\n",
    "            text=f\"Normalized Number of {title} Publications per Year by Category\",\n",
    "            font=dict(size=TITLE_SIZE),\n",
    "            x=TITLE_X_POS,\n",
    "            xanchor=\"center\"\n",
    "        ),\n",
    "        xaxis_title=\"Year of Publication\",\n",
    "        yaxis_title=\"Category\",\n",
    "        height=800,\n",
    "    )\n",
    "\n",
    "    fig.show()"
   ]
  },
  {
   "cell_type": "code",
   "execution_count": 55,
   "metadata": {
    "ExecuteTime": {
     "end_time": "2024-12-29T15:25:45.187178Z",
     "start_time": "2024-12-29T15:25:43.636348Z"
    }
   },
   "outputs": [
    {
     "data": {
      "application/vnd.plotly.v1+json": {
       "config": {
        "plotlyServerURL": "https://plot.ly"
       },
       "data": [
        {
         "colorbar": {
          "title": {
           "text": "Ratio"
          }
         },
         "colorscale": [
          [
           0,
           "rgb(5,48,97)"
          ],
          [
           0.1,
           "rgb(33,102,172)"
          ],
          [
           0.2,
           "rgb(67,147,195)"
          ],
          [
           0.3,
           "rgb(146,197,222)"
          ],
          [
           0.4,
           "rgb(209,229,240)"
          ],
          [
           0.5,
           "rgb(247,247,247)"
          ],
          [
           0.6,
           "rgb(253,219,199)"
          ],
          [
           0.7,
           "rgb(244,165,130)"
          ],
          [
           0.8,
           "rgb(214,96,77)"
          ],
          [
           0.9,
           "rgb(178,24,43)"
          ],
          [
           1,
           "rgb(103,0,31)"
          ]
         ],
         "type": "heatmap",
         "x": {
          "bdata": "ygfLB8wHzQfOB88H0AfRB9IH0wfUB9UH1gfXB9gH2QfaB9sH3AfdB94H3wfgB+EH4gfjB+QH5QfmB+cH6Ac=",
          "dtype": "i2"
         },
         "y": [
          "stat.th",
          "stat.ml",
          "q-fin.st",
          "q-fin.mf",
          "q-fin.cp",
          "math.qa",
          "math.pr",
          "math.oc",
          "math.ds",
          "cs.sd",
          "cs.ro",
          "cs.ne",
          "cs.ma",
          "cs.lg",
          "cs.hc",
          "cs.dm",
          "cs.cv",
          "cs.cl",
          "cs.cc",
          "cs.ai"
         ],
         "z": {
          "bdata": "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",
          "dtype": "f8",
          "shape": "20, 31"
         }
        }
       ],
       "layout": {
        "height": 800,
        "template": {
         "data": {
          "bar": [
           {
            "error_x": {
             "color": "#2a3f5f"
            },
            "error_y": {
             "color": "#2a3f5f"
            },
            "marker": {
             "line": {
              "color": "white",
              "width": 0.5
             },
             "pattern": {
              "fillmode": "overlay",
              "size": 10,
              "solidity": 0.2
             }
            },
            "type": "bar"
           }
          ],
          "barpolar": [
           {
            "marker": {
             "line": {
              "color": "white",
              "width": 0.5
             },
             "pattern": {
              "fillmode": "overlay",
              "size": 10,
              "solidity": 0.2
             }
            },
            "type": "barpolar"
           }
          ],
          "carpet": [
           {
            "aaxis": {
             "endlinecolor": "#2a3f5f",
             "gridcolor": "#C8D4E3",
             "linecolor": "#C8D4E3",
             "minorgridcolor": "#C8D4E3",
             "startlinecolor": "#2a3f5f"
            },
            "baxis": {
             "endlinecolor": "#2a3f5f",
             "gridcolor": "#C8D4E3",
             "linecolor": "#C8D4E3",
             "minorgridcolor": "#C8D4E3",
             "startlinecolor": "#2a3f5f"
            },
            "type": "carpet"
           }
          ],
          "choropleth": [
           {
            "colorbar": {
             "outlinewidth": 0,
             "ticks": ""
            },
            "type": "choropleth"
           }
          ],
          "contour": [
           {
            "colorbar": {
             "outlinewidth": 0,
             "ticks": ""
            },
            "colorscale": [
             [
              0,
              "#0d0887"
             ],
             [
              0.1111111111111111,
              "#46039f"
             ],
             [
              0.2222222222222222,
              "#7201a8"
             ],
             [
              0.3333333333333333,
              "#9c179e"
             ],
             [
              0.4444444444444444,
              "#bd3786"
             ],
             [
              0.5555555555555556,
              "#d8576b"
             ],
             [
              0.6666666666666666,
              "#ed7953"
             ],
             [
              0.7777777777777778,
              "#fb9f3a"
             ],
             [
              0.8888888888888888,
              "#fdca26"
             ],
             [
              1,
              "#f0f921"
             ]
            ],
            "type": "contour"
           }
          ],
          "contourcarpet": [
           {
            "colorbar": {
             "outlinewidth": 0,
             "ticks": ""
            },
            "type": "contourcarpet"
           }
          ],
          "heatmap": [
           {
            "colorbar": {
             "outlinewidth": 0,
             "ticks": ""
            },
            "colorscale": [
             [
              0,
              "#0d0887"
             ],
             [
              0.1111111111111111,
              "#46039f"
             ],
             [
              0.2222222222222222,
              "#7201a8"
             ],
             [
              0.3333333333333333,
              "#9c179e"
             ],
             [
              0.4444444444444444,
              "#bd3786"
             ],
             [
              0.5555555555555556,
              "#d8576b"
             ],
             [
              0.6666666666666666,
              "#ed7953"
             ],
             [
              0.7777777777777778,
              "#fb9f3a"
             ],
             [
              0.8888888888888888,
              "#fdca26"
             ],
             [
              1,
              "#f0f921"
             ]
            ],
            "type": "heatmap"
           }
          ],
          "histogram": [
           {
            "marker": {
             "pattern": {
              "fillmode": "overlay",
              "size": 10,
              "solidity": 0.2
             }
            },
            "type": "histogram"
           }
          ],
          "histogram2d": [
           {
            "colorbar": {
             "outlinewidth": 0,
             "ticks": ""
            },
            "colorscale": [
             [
              0,
              "#0d0887"
             ],
             [
              0.1111111111111111,
              "#46039f"
             ],
             [
              0.2222222222222222,
              "#7201a8"
             ],
             [
              0.3333333333333333,
              "#9c179e"
             ],
             [
              0.4444444444444444,
              "#bd3786"
             ],
             [
              0.5555555555555556,
              "#d8576b"
             ],
             [
              0.6666666666666666,
              "#ed7953"
             ],
             [
              0.7777777777777778,
              "#fb9f3a"
             ],
             [
              0.8888888888888888,
              "#fdca26"
             ],
             [
              1,
              "#f0f921"
             ]
            ],
            "type": "histogram2d"
           }
          ],
          "histogram2dcontour": [
           {
            "colorbar": {
             "outlinewidth": 0,
             "ticks": ""
            },
            "colorscale": [
             [
              0,
              "#0d0887"
             ],
             [
              0.1111111111111111,
              "#46039f"
             ],
             [
              0.2222222222222222,
              "#7201a8"
             ],
             [
              0.3333333333333333,
              "#9c179e"
             ],
             [
              0.4444444444444444,
              "#bd3786"
             ],
             [
              0.5555555555555556,
              "#d8576b"
             ],
             [
              0.6666666666666666,
              "#ed7953"
             ],
             [
              0.7777777777777778,
              "#fb9f3a"
             ],
             [
              0.8888888888888888,
              "#fdca26"
             ],
             [
              1,
              "#f0f921"
             ]
            ],
            "type": "histogram2dcontour"
           }
          ],
          "mesh3d": [
           {
            "colorbar": {
             "outlinewidth": 0,
             "ticks": ""
            },
            "type": "mesh3d"
           }
          ],
          "parcoords": [
           {
            "line": {
             "colorbar": {
              "outlinewidth": 0,
              "ticks": ""
             }
            },
            "type": "parcoords"
           }
          ],
          "pie": [
           {
            "automargin": true,
            "type": "pie"
           }
          ],
          "scatter": [
           {
            "fillpattern": {
             "fillmode": "overlay",
             "size": 10,
             "solidity": 0.2
            },
            "type": "scatter"
           }
          ],
          "scatter3d": [
           {
            "line": {
             "colorbar": {
              "outlinewidth": 0,
              "ticks": ""
             }
            },
            "marker": {
             "colorbar": {
              "outlinewidth": 0,
              "ticks": ""
             }
            },
            "type": "scatter3d"
           }
          ],
          "scattercarpet": [
           {
            "marker": {
             "colorbar": {
              "outlinewidth": 0,
              "ticks": ""
             }
            },
            "type": "scattercarpet"
           }
          ],
          "scattergeo": [
           {
            "marker": {
             "colorbar": {
              "outlinewidth": 0,
              "ticks": ""
             }
            },
            "type": "scattergeo"
           }
          ],
          "scattergl": [
           {
            "marker": {
             "colorbar": {
              "outlinewidth": 0,
              "ticks": ""
             }
            },
            "type": "scattergl"
           }
          ],
          "scattermap": [
           {
            "marker": {
             "colorbar": {
              "outlinewidth": 0,
              "ticks": ""
             }
            },
            "type": "scattermap"
           }
          ],
          "scattermapbox": [
           {
            "marker": {
             "colorbar": {
              "outlinewidth": 0,
              "ticks": ""
             }
            },
            "type": "scattermapbox"
           }
          ],
          "scatterpolar": [
           {
            "marker": {
             "colorbar": {
              "outlinewidth": 0,
              "ticks": ""
             }
            },
            "type": "scatterpolar"
           }
          ],
          "scatterpolargl": [
           {
            "marker": {
             "colorbar": {
              "outlinewidth": 0,
              "ticks": ""
             }
            },
            "type": "scatterpolargl"
           }
          ],
          "scatterternary": [
           {
            "marker": {
             "colorbar": {
              "outlinewidth": 0,
              "ticks": ""
             }
            },
            "type": "scatterternary"
           }
          ],
          "surface": [
           {
            "colorbar": {
             "outlinewidth": 0,
             "ticks": ""
            },
            "colorscale": [
             [
              0,
              "#0d0887"
             ],
             [
              0.1111111111111111,
              "#46039f"
             ],
             [
              0.2222222222222222,
              "#7201a8"
             ],
             [
              0.3333333333333333,
              "#9c179e"
             ],
             [
              0.4444444444444444,
              "#bd3786"
             ],
             [
              0.5555555555555556,
              "#d8576b"
             ],
             [
              0.6666666666666666,
              "#ed7953"
             ],
             [
              0.7777777777777778,
              "#fb9f3a"
             ],
             [
              0.8888888888888888,
              "#fdca26"
             ],
             [
              1,
              "#f0f921"
             ]
            ],
            "type": "surface"
           }
          ],
          "table": [
           {
            "cells": {
             "fill": {
              "color": "#EBF0F8"
             },
             "line": {
              "color": "white"
             }
            },
            "header": {
             "fill": {
              "color": "#C8D4E3"
             },
             "line": {
              "color": "white"
             }
            },
            "type": "table"
           }
          ]
         },
         "layout": {
          "annotationdefaults": {
           "arrowcolor": "#2a3f5f",
           "arrowhead": 0,
           "arrowwidth": 1
          },
          "autotypenumbers": "strict",
          "coloraxis": {
           "colorbar": {
            "outlinewidth": 0,
            "ticks": ""
           }
          },
          "colorscale": {
           "diverging": [
            [
             0,
             "#8e0152"
            ],
            [
             0.1,
             "#c51b7d"
            ],
            [
             0.2,
             "#de77ae"
            ],
            [
             0.3,
             "#f1b6da"
            ],
            [
             0.4,
             "#fde0ef"
            ],
            [
             0.5,
             "#f7f7f7"
            ],
            [
             0.6,
             "#e6f5d0"
            ],
            [
             0.7,
             "#b8e186"
            ],
            [
             0.8,
             "#7fbc41"
            ],
            [
             0.9,
             "#4d9221"
            ],
            [
             1,
             "#276419"
            ]
           ],
           "sequential": [
            [
             0,
             "#0d0887"
            ],
            [
             0.1111111111111111,
             "#46039f"
            ],
            [
             0.2222222222222222,
             "#7201a8"
            ],
            [
             0.3333333333333333,
             "#9c179e"
            ],
            [
             0.4444444444444444,
             "#bd3786"
            ],
            [
             0.5555555555555556,
             "#d8576b"
            ],
            [
             0.6666666666666666,
             "#ed7953"
            ],
            [
             0.7777777777777778,
             "#fb9f3a"
            ],
            [
             0.8888888888888888,
             "#fdca26"
            ],
            [
             1,
             "#f0f921"
            ]
           ],
           "sequentialminus": [
            [
             0,
             "#0d0887"
            ],
            [
             0.1111111111111111,
             "#46039f"
            ],
            [
             0.2222222222222222,
             "#7201a8"
            ],
            [
             0.3333333333333333,
             "#9c179e"
            ],
            [
             0.4444444444444444,
             "#bd3786"
            ],
            [
             0.5555555555555556,
             "#d8576b"
            ],
            [
             0.6666666666666666,
             "#ed7953"
            ],
            [
             0.7777777777777778,
             "#fb9f3a"
            ],
            [
             0.8888888888888888,
             "#fdca26"
            ],
            [
             1,
             "#f0f921"
            ]
           ]
          },
          "colorway": [
           "#636efa",
           "#EF553B",
           "#00cc96",
           "#ab63fa",
           "#FFA15A",
           "#19d3f3",
           "#FF6692",
           "#B6E880",
           "#FF97FF",
           "#FECB52"
          ],
          "font": {
           "color": "#2a3f5f"
          },
          "geo": {
           "bgcolor": "white",
           "lakecolor": "white",
           "landcolor": "white",
           "showlakes": true,
           "showland": true,
           "subunitcolor": "#C8D4E3"
          },
          "hoverlabel": {
           "align": "left"
          },
          "hovermode": "closest",
          "mapbox": {
           "style": "light"
          },
          "paper_bgcolor": "white",
          "plot_bgcolor": "white",
          "polar": {
           "angularaxis": {
            "gridcolor": "#EBF0F8",
            "linecolor": "#EBF0F8",
            "ticks": ""
           },
           "bgcolor": "white",
           "radialaxis": {
            "gridcolor": "#EBF0F8",
            "linecolor": "#EBF0F8",
            "ticks": ""
           }
          },
          "scene": {
           "xaxis": {
            "backgroundcolor": "white",
            "gridcolor": "#DFE8F3",
            "gridwidth": 2,
            "linecolor": "#EBF0F8",
            "showbackground": true,
            "ticks": "",
            "zerolinecolor": "#EBF0F8"
           },
           "yaxis": {
            "backgroundcolor": "white",
            "gridcolor": "#DFE8F3",
            "gridwidth": 2,
            "linecolor": "#EBF0F8",
            "showbackground": true,
            "ticks": "",
            "zerolinecolor": "#EBF0F8"
           },
           "zaxis": {
            "backgroundcolor": "white",
            "gridcolor": "#DFE8F3",
            "gridwidth": 2,
            "linecolor": "#EBF0F8",
            "showbackground": true,
            "ticks": "",
            "zerolinecolor": "#EBF0F8"
           }
          },
          "shapedefaults": {
           "line": {
            "color": "#2a3f5f"
           }
          },
          "ternary": {
           "aaxis": {
            "gridcolor": "#DFE8F3",
            "linecolor": "#A2B1C6",
            "ticks": ""
           },
           "baxis": {
            "gridcolor": "#DFE8F3",
            "linecolor": "#A2B1C6",
            "ticks": ""
           },
           "bgcolor": "white",
           "caxis": {
            "gridcolor": "#DFE8F3",
            "linecolor": "#A2B1C6",
            "ticks": ""
           }
          },
          "title": {
           "x": 0.05
          },
          "xaxis": {
           "automargin": true,
           "gridcolor": "#EBF0F8",
           "linecolor": "#EBF0F8",
           "ticks": "",
           "title": {
            "standoff": 15
           },
           "zerolinecolor": "#EBF0F8",
           "zerolinewidth": 2
          },
          "yaxis": {
           "automargin": true,
           "gridcolor": "#EBF0F8",
           "linecolor": "#EBF0F8",
           "ticks": "",
           "title": {
            "standoff": 15
           },
           "zerolinecolor": "#EBF0F8",
           "zerolinewidth": 2
          }
         }
        },
        "title": {
         "font": {
          "size": 25
         },
         "text": "Normalized Number of initial Publications per Year by Category",
         "x": 0.5,
         "xanchor": "center"
        },
        "xaxis": {
         "title": {
          "text": "Year of Publication"
         }
        },
        "yaxis": {
         "title": {
          "text": "Category"
         }
        }
       }
      }
     },
     "metadata": {},
     "output_type": "display_data"
    }
   ],
   "source": [
    "visualize_publications_by_category_normalized(df_complete, \"initial\")"
   ]
  },
  {
   "cell_type": "markdown",
   "metadata": {},
   "source": [
    "**in abhängigkeit mit vorangegangenem Kapitel auf den sozialen impact abstimmen**"
   ]
  },
  {
   "cell_type": "markdown",
   "metadata": {},
   "source": [
    "#### Analysis of the Shift from Theoretical Foundations to Applied Advancements in AI and ML\n",
    "\n",
    "The exponential growth in AI-related publications mirrors a transformative shift from early theoretical underpinnings to practical, applied advancements. This evolution is clearly reflected in the contributions of key categories such as Machine Learning (cs.LG), Artificial Intelligence (cs.AI), Computation and Language (cs.CL), and Computer Vision (cs.CV). In the early years, theoretical research dominated AI and ML, but the rapid expansion of computational resources and the emergence of practical frameworks soon accelerated the adoption of applied methods.\n",
    "\n",
    "A closer look at publication trends reveals that during this foundational phase, additional mathematical disciplines played a critical role. Quantum Algebra (math.QA) was particularly dominant between 1994 and 2005, while Probability (math.PR) significantly influenced research from 2002 to 2015. Dynamical Systems (math.DS) also made substantial contributions between 1999 and 2011. These intensive theoretical studies in mathematics provided the essential tools and insights without which the development of groundbreaking algorithms and techniques—and consequently, the practical implementation and widespread popularity of the five key growth areas—would not have been possible.\n",
    "\n",
    "This gradual transition from theory to practice is further evidenced by the growing prominence of computer science-oriented research. Although the influence of pure mathematical categories has waned, applied domains have surged. For example, early advances in natural language processing were noted between 1994 and 1998, laying the groundwork for a renaissance from 2016 to 2024 driven by innovations such as the Transformer architecture and pre-trained language models [14].\n",
    "\n",
    "The evolution from theoretical to applied AI and ML is not a rejection of foundational research but a natural progression. Theoretical advances have continuously provided the mathematical and algorithmic groundwork that enabled the development of practical technologies, now reshaping society and human life. Today, the dynamic interplay between theory and application continues to drive innovation, ensuring that foundational research adapts to meet emerging real-world challenges."
   ]
  },
  {
   "cell_type": "markdown",
   "metadata": {},
   "source": [
    "## Social Implications\n",
    "\n",
    "The exponential growth in scientific interest and research in artificial intelligence is enabling us to achieve remarkable breakthroughs that have tangible benefits for society. This section highlights two compelling examples of how AI innovations are already transforming lives and hold promise for a better future.\n",
    "\n",
    "One striking example comes from the medical field, where AI is revolutionizing drug discovery. Advanced structure-based machine learning algorithms are being used to predict how potential drug compounds interact with target proteins. In the case of neurodegenerative diseases like Parkinson’s, these methods can identify more potent compounds faster and with greater accuracy. By reducing errors and cutting costs in the early stages of drug development, such AI-driven approaches not only accelerate the discovery of disease-modifying therapies but also hold the potential to save lives [4].\n",
    "\n",
    "Another impactful application of AI is found in assistive technology for the visually impaired. In the work of Shetty et al., computer vision techniques—especially optical character recognition combined with other machine learning–based vision tasks—are deployed to convert visual information into audio descriptions. This technology empowers blind individuals by “reading” their surroundings aloud, identifying objects, and even interpreting printed text in their environment. As a result, it significantly enhances their ability to navigate daily life independently [3].\n",
    "\n",
    "<span style=\"color:red\">These examples illustrate only a fraction of the possibilities unlocked by the rapidly expanding interest in AI research. The continuous, exponential growth in scientific exploration is not only advancing technological frontiers but is also translating into practical applications that improve healthcare, accessibility, and overall quality of life. As research continues to accelerate, we can expect even more impressive contributions that will shape our society and secure a better future for humanity.</span>\n",
    "\n",
    "However, while AI offers immense benefits it also introduces risks that cannot be ignored. One of the most concerning applications is the use of AI in autonomous weapons. AI-powered drones and automated military systems are being developed with the capability to identify and strike targets with minimal human intervention. The deployment of such systems raise serious ethical concers as it lowers the threshold for armed conflict and reduces human accountability in life-or-death scenarios [5].\n",
    "\n",
    "\n",
    "Another challenge is the risk of bias in AI systems. Machine learning models are often trained on historical data that may contain biases, leading to unfair outcomes in hiring, law enforcement and credit scoring. AI-driven hiring tools for example have been found to unintentionally discriminate based on gender and race, exacerbating existing social inequalities rather than mitigating them [10].\n",
    "\n",
    "AI's role in misinformation is another growing concern. With the rise of deepfale technology, hyper-realistic fake videos and AI generated content can be used to spread misinformation, manipulate public opinion and undermine trust in digital media. the increasing sophistication of these technologies poses a serious threat do democracy and social stability [11, 16]. \n",
    "\n",
    "Furthermore AI driven automation is reshaping the workforce, leading to both opportunities and challenges. While AI streamlines workflows and increases efficiency, it also threatens job displacement in various industries. Many low-skilled jobs are being replaced by automated systems, potentially deeping economic inqeuality and leaving large segments of the population vulnerable to unemployment.\n",
    "\n",
    "These examples illsutrate only a fraction the possibilites both positive and negative unlocked by the rapid expansion of AI research. The continuous growth in AI-driven innocations is not only advancing technological frontiers but also rising critical ethical and social questions. As research continues to accelerate it is imperative to strike a balance between innovation and responsibility, ensuring that AI contributes to a future that benefits all of humanity while mitigating the risks it presents"
   ]
  },
  {
   "cell_type": "markdown",
   "metadata": {},
   "source": [
    "# Bibliography\n",
    "\n",
    "[1] Explainable Artificial Intelligence (XAI). https://www.darpa.mil/program/explainable-artificial-intelligence. Accessed: February 2025. 2016.  \n",
    "[2] Ian Goodfellow et al. “Generative Adversarial Nets”. In: Advances in Neural Information Processing Systems 27 (2014).  \n",
    "[3] C Harinakshi et al. “A Smart Visual Assistance System For Visually Impaired People In Real-World Environments”. In: 2024 International Conference on Intelligent Systems for Cybersecurity (ISCS). IEEE. 2024, pp. 1–6.  \n",
    "[4] Robert I Horne et al. “Discovery of potent inhibitors of α-synuclein aggregation using structure-based iterative learning”. In: Nature Chemical Biology (2024), pp. 1–12.  \n",
    "[5] James Johnson. “Artificial Intelligence, Drone Swarming and Escalation Risks in Future Warfare”. In: The RUSI Journal 165.2 (2020), pp. 26–36. doi: 10.1080/03071847. 2020 .1752026. url: https://doi.org/10.1080/03071847.2020.1752026.  \n",
    "[6] Timothy P Lillicrap et al. “Continuous control with deep reinforcement learning”. In: arXiv preprint arXiv:1509.02971 (2015).  \n",
    "[7] Lixin4ever. Conference Trends. 2025. url: https://github.com/lixin4ever/Conference-Acceptance-Rate/blob/6bd0861b9caa8fe6d4bc9dd98892b12052conference_trends.png. Accessed: February 2025  \n",
    "[8] Martín Abadi et al. TensorFlow: Large-Scale Machine Learning on Heterogeneous Systems. Software available from tensorflow.org. 2015. url: https://www.tensorflow.org/.  \n",
    "[9] Nestor Maslej et al. The AI Index 2024 Annual Report. Tech. rep. AI Index Steering Committee, Institute for Human-Centered AI, Stanford University, Apr. 2024.  \n",
    "[10] Ninareh Mehrabi et al. “A survey on bias and fairness in machine learning”. In: ACM computing surveys (CSUR) 54.6 (2021), pp. 1–35.  \n",
    "[11] Yisroel Mirsky and Wenke Lee. “The creation and detection of deepfakes: A survey”. In: ACM computing surveys (CSUR) 54.1 (2021), pp. 1–41.  \n",
    "[12] PyTorch. Release v0.1.1. 2016. url: https://github.com/pytorch/pytorch/releases/tag/v0.1.1. Accessed: February 2025.  \n",
    "[13] Alec Radford et al. Language Models are Unsupervised Multitask Learners. Tech. rep. OpenAI, 2019. url:https://cdn.openai.com/better-language-models/language_models_are_unsupervised_multitask_learners.pdf. Accessed: February 2025  \n",
    "[14] Jürgen Schmidhuber. “Deep learning in neural networks: An overview”. In: Neural Networks 61 (2015), pp. 85–117. url: https://www.sciencedirect.com/science/article/pii/S0893608014002135.  \n",
    "[15] Karen Simonyan and Andrew Zisserman. “Very Deep Convolutional Networks for Large-Scale Image Recognition”. In: arXiv preprint arXiv:1409.1556 (2014).  \n",
    "[16] Luisa Verdoliva. “Media forensics and deepfakes: an overview”. In: IEEE journal of selected topics in signal processing 14.5 (2020), pp. 910–932  "
   ]
  },
  {
   "cell_type": "markdown",
   "metadata": {},
   "source": []
  }
 ],
 "metadata": {
  "kernelspec": {
   "display_name": ".venv",
   "language": "python",
   "name": "python3"
  },
  "language_info": {
   "codemirror_mode": {
    "name": "ipython",
    "version": 3
   },
   "file_extension": ".py",
   "mimetype": "text/x-python",
   "name": "python",
   "nbconvert_exporter": "python",
   "pygments_lexer": "ipython3",
   "version": "3.12.9"
  }
 },
 "nbformat": 4,
 "nbformat_minor": 2
}
